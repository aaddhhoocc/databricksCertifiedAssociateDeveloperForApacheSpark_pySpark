{
 "cells": [
  {
   "cell_type": "markdown",
   "id": "26ca8869-edb3-4252-9d94-c72a844ee969",
   "metadata": {},
   "source": [
    "* col, expr, cast, alias\n",
    "* lit\n",
    "* concat, concat_ws\n",
    "* upper, lower, initcap\n",
    "* length\n",
    "* split, explode\n",
    "* lpad, rpad\n",
    "* ltrim, rtrim, trim\n",
    "\n",
    "* type, size (array length)\n",
    "\n",
    "* current_date, current_timestamp, to_date, to_timestamp\n",
    "* date_add, date_sub, datediff, months_between, add_months, next_day\n",
    "* trunc, date_trunc\n",
    "* year, month, weekeofyear, dayofyear, dayofmonth, dayofweek, hour minute second\n",
    "* date_format\n",
    "* unix_timestamp, from_unixtime\n",
    "\n",
    "* coalesce, nvl \n",
    "* sql, selectExpr, expr\n",
    "\n",
    "* na, fillna, replacena, dropna, isnan, isin\n",
    "* isNull, isNotNull\n",
    "* distinct, drop_duplicates, dropDuplicates\n",
    "* df.na.drop, df.dropna"
   ]
  }
 ],
 "metadata": {
  "kernelspec": {
   "display_name": "Python 3 (ipykernel)",
   "language": "python",
   "name": "python3"
  },
  "language_info": {
   "codemirror_mode": {
    "name": "ipython",
    "version": 3
   },
   "file_extension": ".py",
   "mimetype": "text/x-python",
   "name": "python",
   "nbconvert_exporter": "python",
   "pygments_lexer": "ipython3",
   "version": "3.11.9"
  }
 },
 "nbformat": 4,
 "nbformat_minor": 5
}
