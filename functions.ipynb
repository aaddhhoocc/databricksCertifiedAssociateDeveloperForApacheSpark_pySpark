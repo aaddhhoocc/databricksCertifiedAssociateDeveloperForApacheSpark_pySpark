{
 "cells": [
  {
   "cell_type": "markdown",
   "id": "26ca8869-edb3-4252-9d94-c72a844ee969",
   "metadata": {},
   "source": [
    "* col, expr, cast, alias\n",
    "* lit\n",
    "* concat, concat_ws\n",
    "* upper, lower, initcap\n",
    "* length\n",
    "* split, explode\n",
    "* lpad, rpad\n",
    "* ltrim, rtrim, trim\n",
    "\n",
    "* type, size (array length)\n",
    "\n",
    "* current_date, current_timestamp, to_date, to_timestamp\n",
    "* date_add, date_sub, datediff, months_between, add_months, next_day\n",
    "* trunc, date_trunc\n",
    "* year, month, weekeofyear, dayofyear, dayofmonth, dayofweek, hour minute second\n",
    "* date_format\n",
    "* unix_timestamp, from_unixtime\n",
    "\n",
    "* coalesce, nvl \n",
    "* sql, selectExpr, expr\n",
    "\n",
    "* na, fillna, replacena, dropna, isnan, isin\n",
    "* isNull, isNotNull\n",
    "* distinct, drop_duplicates, dropDuplicates\n",
    "* df.na.drop, df.dropna\n",
    "\n",
    "* sort, orderBy\n",
    "* desc, asc, col -> asc(), asc_nulls_first(), asc_nulls_last(), desc(), desc_nulls_first(), desc_nulls_last()\n",
    "* agg"
   ]
  },
  {
   "cell_type": "markdown",
   "id": "47ffab82-1938-46e9-9c04-02d25a987cce",
   "metadata": {},
   "source": [
    "## Actions - immediate execution\n",
    "count, show, \n",
    "\n",
    "postponed execution until the action\n",
    "select, "
   ]
  },
  {
   "cell_type": "markdown",
   "id": "31cbaaaf-d83f-425b-9f4e-3b1a0075ba37",
   "metadata": {},
   "source": [
    "## Parameters\n",
    "\n",
    "`spark.conf.get()`, `spark.conf.set()`\n",
    "\n",
    "* `spark.sql.repl.eagerEval.enabled` \n",
    "* `spark.sql.autoBroadcastJoinThreshold` - default \n",
    "* `spark.sql.shuffle.partitions` - default 200\n",
    "\n"
   ]
  },
  {
   "cell_type": "code",
   "execution_count": null,
   "id": "85853dea-d326-4ba7-92c6-bf9985b3905a",
   "metadata": {},
   "outputs": [],
   "source": []
  }
 ],
 "metadata": {
  "kernelspec": {
   "display_name": "Python 3 (ipykernel)",
   "language": "python",
   "name": "python3"
  },
  "language_info": {
   "codemirror_mode": {
    "name": "ipython",
    "version": 3
   },
   "file_extension": ".py",
   "mimetype": "text/x-python",
   "name": "python",
   "nbconvert_exporter": "python",
   "pygments_lexer": "ipython3",
   "version": "3.11.9"
  }
 },
 "nbformat": 4,
 "nbformat_minor": 5
}
