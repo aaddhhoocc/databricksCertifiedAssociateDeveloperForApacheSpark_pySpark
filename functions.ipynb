{
 "cells": [
  {
   "cell_type": "markdown",
   "id": "26ca8869-edb3-4252-9d94-c72a844ee969",
   "metadata": {},
   "source": [
    "* col, expr, cast, alias\n",
    "* lit\n",
    "* concat, concat_ws\n",
    "* upper, lower, initcap\n",
    "* length\n",
    "* split, explode\n",
    "* lpad, rpad\n",
    "* ltrim, rtrim, trim\n",
    "\n",
    "* type, size (array length)\n",
    "\n",
    "* current_date, current_timestamp, to_date, to_timestamp\n",
    "* date_add, date_sub, datediff, months_between, add_months, next_day\n",
    "* trunc, date_trunc\n",
    "* year, month, weekeofyear, dayofyear, dayofmonth, dayofweek, hour minute second\n",
    "* date_format\n",
    "  \n",
    "* sql, selectExpr"
   ]
  },
  {
   "cell_type": "code",
   "execution_count": null,
   "id": "b2dae271-92d8-42ea-918a-dc6590a3c681",
   "metadata": {},
   "outputs": [],
   "source": []
  }
 ],
 "metadata": {
  "kernelspec": {
   "display_name": "Python 3 (ipykernel)",
   "language": "python",
   "name": "python3"
  },
  "language_info": {
   "codemirror_mode": {
    "name": "ipython",
    "version": 3
   },
   "file_extension": ".py",
   "mimetype": "text/x-python",
   "name": "python",
   "nbconvert_exporter": "python",
   "pygments_lexer": "ipython3",
   "version": "3.11.9"
  }
 },
 "nbformat": 4,
 "nbformat_minor": 5
}
