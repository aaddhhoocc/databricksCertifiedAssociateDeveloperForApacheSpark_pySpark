{
 "cells": [
  {
   "cell_type": "markdown",
   "id": "5bee8a5e-c15b-4be5-ad76-1df987fb97b2",
   "metadata": {},
   "source": [
    "## Overview Narrow and Wide Transformations\n",
    "Narrow transformations known as row transformations do not result in shuffling\n",
    "* `df.select`\n",
    "* `df.filter`\n",
    "* `df.withColumn`\n",
    "* `df.withColumnRenamed`\n",
    "* `df.drop`\n",
    "* `map`, `coalesce`, `repartition`\n",
    "\n",
    "Wide transformations result in shuffling and data movement (dealing with group of records based on the key)\n",
    "* `df.distinct`\n",
    "* `df.join`\n",
    "* `df.union`\n",
    "* `df.groupBy`\n",
    "* `df.sort` and `df.orderBy`"
   ]
  },
  {
   "cell_type": "code",
   "execution_count": 1,
   "id": "649509da-de8d-4e1b-9429-757a84c32532",
   "metadata": {
    "execution": {
     "iopub.execute_input": "2024-05-29T13:28:13.508220Z",
     "iopub.status.busy": "2024-05-29T13:28:13.507680Z",
     "iopub.status.idle": "2024-05-29T13:28:20.160686Z",
     "shell.execute_reply": "2024-05-29T13:28:20.160394Z",
     "shell.execute_reply.started": "2024-05-29T13:28:13.508192Z"
    }
   },
   "outputs": [
    {
     "name": "stderr",
     "output_type": "stream",
     "text": [
      "Setting default log level to \"WARN\".\n",
      "To adjust logging level use sc.setLogLevel(newLevel). For SparkR, use setLogLevel(newLevel).\n",
      "24/05/29 15:28:19 WARN NativeCodeLoader: Unable to load native-hadoop library for your platform... using builtin-java classes where applicable\n"
     ]
    }
   ],
   "source": [
    "from pyspark.sql import SparkSession\n",
    "spark = SparkSession.builder.appName(\"instance\").getOrCreate()"
   ]
  },
  {
   "cell_type": "code",
   "execution_count": 2,
   "id": "ce7e603b-8e18-49b1-bad7-eb6c8956a8ad",
   "metadata": {
    "execution": {
     "iopub.execute_input": "2024-05-29T13:28:20.161642Z",
     "iopub.status.busy": "2024-05-29T13:28:20.161471Z",
     "iopub.status.idle": "2024-05-29T13:28:20.166031Z",
     "shell.execute_reply": "2024-05-29T13:28:20.165681Z",
     "shell.execute_reply.started": "2024-05-29T13:28:20.161629Z"
    }
   },
   "outputs": [],
   "source": [
    "import datetime\n",
    "from pyspark.sql import Row\n",
    "users = [\n",
    "    {\n",
    "        'id': 1,\n",
    "        'first_name': 'Corrie',\n",
    "        'last_name': 'Van den Oord',\n",
    "        'email': 'cvandenoord@etsy.com',\n",
    "        'phone_numbers': Row(mobile='+1 234 567 8901', home='+1 234 567 8911'),\n",
    "        'courses': [2, 4],\n",
    "        'is_customer': True,\n",
    "        'amount_paid': 1000.55,\n",
    "        'customer_from': datetime.date(2021, 1, 15),\n",
    "        'last_updated_ts': datetime.datetime(2021, 2, 18, 1, 15, 0)\n",
    "    },\n",
    "    {\n",
    "        'id': 2,\n",
    "        'first_name': 'Nicolaus',\n",
    "        'last_name': 'Brewitt',\n",
    "        'email': 'nbrewitt@dailymail.co.uk',\n",
    "        'phone_numbers': Row(mobile='+1 234 567 8923', home='+1 234 567 8934'),\n",
    "        'courses': [3],\n",
    "        'is_customer': None,\n",
    "        'amount_paid': 900.0,\n",
    "        'customer_from': datetime.date(2021, 2, 14),\n",
    "        'last_updated_ts': datetime.datetime(2021, 2, 18, 3, 33, 0)\n",
    "    },\n",
    "    {\n",
    "        'id': 3,\n",
    "        'first_name': 'Kurt',\n",
    "        'last_name': 'Rome',\n",
    "        'email': 'krome4@shutterfly.co.uk',\n",
    "        'phone_numbers': Row(mobile=None, home=None),\n",
    "        'courses': [],\n",
    "        'is_customer': False,\n",
    "        'amount_paid': None,\n",
    "        'customer_from': datetime.date(2021, 2, 14),\n",
    "        'last_updated_ts': datetime.datetime(2024, 2, 28, 5, 27, 0)\n",
    "    }\n",
    "]"
   ]
  },
  {
   "cell_type": "code",
   "execution_count": 3,
   "id": "168651b5-a7f2-4c48-9bd6-4cc46c91dc8f",
   "metadata": {
    "execution": {
     "iopub.execute_input": "2024-05-29T13:28:20.166723Z",
     "iopub.status.busy": "2024-05-29T13:28:20.166581Z",
     "iopub.status.idle": "2024-05-29T13:28:20.680255Z",
     "shell.execute_reply": "2024-05-29T13:28:20.679927Z",
     "shell.execute_reply.started": "2024-05-29T13:28:20.166711Z"
    }
   },
   "outputs": [],
   "source": [
    "import pandas as pd\n",
    "spark.conf.set('spark.sql.execution.arrow.pyspark.enabled', False)"
   ]
  },
  {
   "cell_type": "code",
   "execution_count": 5,
   "id": "972d8a76-9568-434d-9305-cc673acc7385",
   "metadata": {
    "execution": {
     "iopub.execute_input": "2024-05-29T13:28:35.407327Z",
     "iopub.status.busy": "2024-05-29T13:28:35.406769Z",
     "iopub.status.idle": "2024-05-29T13:28:35.673017Z",
     "shell.execute_reply": "2024-05-29T13:28:35.672044Z",
     "shell.execute_reply.started": "2024-05-29T13:28:35.407296Z"
    }
   },
   "outputs": [
    {
     "name": "stdout",
     "output_type": "stream",
     "text": [
      "+---+----------+------------+--------------------+--------------------+-------+-----------+-----------+-------------+-------------------+\n",
      "| id|first_name|   last_name|               email|       phone_numbers|courses|is_customer|amount_paid|customer_from|    last_updated_ts|\n",
      "+---+----------+------------+--------------------+--------------------+-------+-----------+-----------+-------------+-------------------+\n",
      "|  1|    Corrie|Van den Oord|cvandenoord@etsy.com|{+1 234 567 8901,...| [2, 4]|       true|    1000.55|   2021-01-15|2021-02-18 01:15:00|\n",
      "|  2|  Nicolaus|     Brewitt|nbrewitt@dailymai...|{+1 234 567 8923,...|    [3]|       NULL|      900.0|   2021-02-14|2021-02-18 03:33:00|\n",
      "|  3|      Kurt|        Rome|krome4@shutterfly...|        {NULL, NULL}|     []|      false|        NaN|   2021-02-14|2024-02-28 05:27:00|\n",
      "+---+----------+------------+--------------------+--------------------+-------+-----------+-----------+-------------+-------------------+\n",
      "\n"
     ]
    },
    {
     "data": {
      "text/plain": [
       "([('id', 'bigint'),\n",
       "  ('first_name', 'string'),\n",
       "  ('last_name', 'string'),\n",
       "  ('email', 'string'),\n",
       "  ('phone_numbers', 'struct<mobile:string,home:string>'),\n",
       "  ('courses', 'array<bigint>'),\n",
       "  ('is_customer', 'boolean'),\n",
       "  ('amount_paid', 'double'),\n",
       "  ('customer_from', 'date'),\n",
       "  ('last_updated_ts', 'timestamp')],\n",
       " None)"
      ]
     },
     "execution_count": 5,
     "metadata": {},
     "output_type": "execute_result"
    },
    {
     "name": "stderr",
     "output_type": "stream",
     "text": [
      "24/05/29 15:28:37 WARN GarbageCollectionMetrics: To enable non-built-in garbage collector(s) List(G1 Concurrent GC), users should configure it(them) to spark.eventLog.gcMetrics.youngGenerationGarbageCollectors or spark.eventLog.gcMetrics.oldGenerationGarbageCollectors\n"
     ]
    }
   ],
   "source": [
    "users_df=spark.createDataFrame(pd.DataFrame(users))\n",
    "users_df.dtypes, users_df.show()"
   ]
  },
  {
   "cell_type": "markdown",
   "id": "83859279-3db8-4844-8551-eab2c80e2205",
   "metadata": {
    "jp-MarkdownHeadingCollapsed": true
   },
   "source": [
    "## select"
   ]
  },
  {
   "cell_type": "code",
   "execution_count": 11,
   "id": "134d99b3-47a8-4da3-85c0-15b8299dec53",
   "metadata": {
    "execution": {
     "iopub.execute_input": "2024-05-28T21:05:40.399893Z",
     "iopub.status.busy": "2024-05-28T21:05:40.399299Z",
     "iopub.status.idle": "2024-05-28T21:05:40.745261Z",
     "shell.execute_reply": "2024-05-28T21:05:40.744981Z",
     "shell.execute_reply.started": "2024-05-28T21:05:40.399862Z"
    }
   },
   "outputs": [
    {
     "name": "stdout",
     "output_type": "stream",
     "text": [
      "+---+----------+------------+--------------------+--------------------+-------+-----------+-----------+-------------+-------------------+\n",
      "| id|first_name|   last_name|               email|       phone_numbers|courses|is_customer|amount_paid|customer_from|    last_updated_ts|\n",
      "+---+----------+------------+--------------------+--------------------+-------+-----------+-----------+-------------+-------------------+\n",
      "|  1|    Corrie|Van den Oord|cvandenoord@etsy.com|{+1 234 567 8901,...| [2, 4]|       true|    1000.55|   2021-01-15|2021-02-18 01:15:00|\n",
      "|  2|  Nicolaus|     Brewitt|nbrewitt@dailymai...|{+1 234 567 8923,...|    [3]|       NULL|      900.0|   2021-02-14|2021-02-18 03:33:00|\n",
      "|  3|      Kurt|        Rome|krome4@shutterfly...|        {NULL, NULL}|     []|      false|        NaN|   2021-02-14|2024-02-28 05:27:00|\n",
      "+---+----------+------------+--------------------+--------------------+-------+-----------+-----------+-------------+-------------------+\n",
      "\n"
     ]
    }
   ],
   "source": [
    "users_df.select('*').show()"
   ]
  },
  {
   "cell_type": "code",
   "execution_count": 26,
   "id": "09fb26f6-e5b4-419b-9836-bb7e28156d2b",
   "metadata": {
    "execution": {
     "iopub.execute_input": "2024-05-28T21:20:11.951416Z",
     "iopub.status.busy": "2024-05-28T21:20:11.950587Z",
     "iopub.status.idle": "2024-05-28T21:20:12.329852Z",
     "shell.execute_reply": "2024-05-28T21:20:12.329443Z",
     "shell.execute_reply.started": "2024-05-28T21:20:11.951363Z"
    }
   },
   "outputs": [
    {
     "name": "stdout",
     "output_type": "stream",
     "text": [
      "+---+----------+------------+\n",
      "| id|first_name|   last_name|\n",
      "+---+----------+------------+\n",
      "|  1|    Corrie|Van den Oord|\n",
      "|  2|  Nicolaus|     Brewitt|\n",
      "|  3|      Kurt|        Rome|\n",
      "+---+----------+------------+\n",
      "\n",
      "+---+----------+------------+\n",
      "| id|first_name|   last_name|\n",
      "+---+----------+------------+\n",
      "|  1|    Corrie|Van den Oord|\n",
      "|  2|  Nicolaus|     Brewitt|\n",
      "|  3|      Kurt|        Rome|\n",
      "+---+----------+------------+\n",
      "\n"
     ]
    }
   ],
   "source": [
    "users_df.select('id', 'first_name', 'last_name').show()\n",
    "users_df.select(['id', 'first_name', 'last_name']).show()"
   ]
  },
  {
   "cell_type": "code",
   "execution_count": 17,
   "id": "8d7d3f60-600a-4448-b3d2-bda0bea29cd9",
   "metadata": {
    "execution": {
     "iopub.execute_input": "2024-05-28T21:15:49.282710Z",
     "iopub.status.busy": "2024-05-28T21:15:49.281816Z",
     "iopub.status.idle": "2024-05-28T21:15:49.697256Z",
     "shell.execute_reply": "2024-05-28T21:15:49.696898Z",
     "shell.execute_reply.started": "2024-05-28T21:15:49.282668Z"
    }
   },
   "outputs": [
    {
     "name": "stdout",
     "output_type": "stream",
     "text": [
      "+---+----------+------------+--------------------+--------------------+-------+-----------+-----------+-------------+-------------------+\n",
      "| id|first_name|   last_name|               email|       phone_numbers|courses|is_customer|amount_paid|customer_from|    last_updated_ts|\n",
      "+---+----------+------------+--------------------+--------------------+-------+-----------+-----------+-------------+-------------------+\n",
      "|  1|    Corrie|Van den Oord|cvandenoord@etsy.com|{+1 234 567 8901,...| [2, 4]|       true|    1000.55|   2021-01-15|2021-02-18 01:15:00|\n",
      "|  2|  Nicolaus|     Brewitt|nbrewitt@dailymai...|{+1 234 567 8923,...|    [3]|       NULL|      900.0|   2021-02-14|2021-02-18 03:33:00|\n",
      "|  3|      Kurt|        Rome|krome4@shutterfly...|        {NULL, NULL}|     []|      false|        NaN|   2021-02-14|2024-02-28 05:27:00|\n",
      "+---+----------+------------+--------------------+--------------------+-------+-----------+-----------+-------------+-------------------+\n",
      "\n",
      "+---+----------+------------+\n",
      "| id|first_name|   last_name|\n",
      "+---+----------+------------+\n",
      "|  1|    Corrie|Van den Oord|\n",
      "|  2|  Nicolaus|     Brewitt|\n",
      "|  3|      Kurt|        Rome|\n",
      "+---+----------+------------+\n",
      "\n"
     ]
    }
   ],
   "source": [
    "users_df.alias('u').select('u.*').show()\n",
    "users_df.alias('u').select(['u.id', 'u.first_name', 'u.last_name']).show()"
   ]
  },
  {
   "cell_type": "code",
   "execution_count": 32,
   "id": "96113d73-e673-4159-969d-b067d65c75e5",
   "metadata": {
    "execution": {
     "iopub.execute_input": "2024-05-28T21:28:31.279442Z",
     "iopub.status.busy": "2024-05-28T21:28:31.278650Z",
     "iopub.status.idle": "2024-05-28T21:28:31.647011Z",
     "shell.execute_reply": "2024-05-28T21:28:31.646772Z",
     "shell.execute_reply.started": "2024-05-28T21:28:31.279398Z"
    }
   },
   "outputs": [
    {
     "name": "stdout",
     "output_type": "stream",
     "text": [
      "+---+----------+------------+\n",
      "| id|first_name|   last_name|\n",
      "+---+----------+------------+\n",
      "|  1|    Corrie|Van den Oord|\n",
      "|  2|  Nicolaus|     Brewitt|\n",
      "|  3|      Kurt|        Rome|\n",
      "+---+----------+------------+\n",
      "\n",
      "+---+----------+------------+\n",
      "| id|first_name|   last_name|\n",
      "+---+----------+------------+\n",
      "|  1|    Corrie|Van den Oord|\n",
      "|  2|  Nicolaus|     Brewitt|\n",
      "|  3|      Kurt|        Rome|\n",
      "+---+----------+------------+\n",
      "\n"
     ]
    }
   ],
   "source": [
    "from pyspark.sql.functions import col\n",
    "users_df.select(col('id'), 'first_name', 'last_name').show()\n",
    "users_df.select([col('id'), 'first_name', 'last_name']).show()"
   ]
  },
  {
   "cell_type": "code",
   "execution_count": 8,
   "id": "e2dcac03-9542-4dc4-9456-7622432814e4",
   "metadata": {
    "execution": {
     "iopub.execute_input": "2024-05-28T21:31:03.642078Z",
     "iopub.status.busy": "2024-05-28T21:31:03.641475Z",
     "iopub.status.idle": "2024-05-28T21:31:03.875640Z",
     "shell.execute_reply": "2024-05-28T21:31:03.875403Z",
     "shell.execute_reply.started": "2024-05-28T21:31:03.642037Z"
    }
   },
   "outputs": [
    {
     "name": "stdout",
     "output_type": "stream",
     "text": [
      "+---+----------+------------+--------------------+\n",
      "| id|first_name|   last_name|           full_name|\n",
      "+---+----------+------------+--------------------+\n",
      "|  1|    Corrie|Van den Oord|Corrie, Van den Oord|\n",
      "|  2|  Nicolaus|     Brewitt|   Nicolaus, Brewitt|\n",
      "|  3|      Kurt|        Rome|          Kurt, Rome|\n",
      "+---+----------+------------+--------------------+\n",
      "\n"
     ]
    }
   ],
   "source": [
    "from pyspark.sql.functions import col, concat, lit\n",
    "users_df.select(\n",
    "    col('id'),\n",
    "    'first_name',\n",
    "    'last_name',\n",
    "    concat(col('first_name'), lit(', '), col('last_name')).alias('full_name')\n",
    ").show()"
   ]
  },
  {
   "cell_type": "markdown",
   "id": "fa7a2074-6e5b-45c3-9d0f-b852517d10ee",
   "metadata": {
    "jp-MarkdownHeadingCollapsed": true
   },
   "source": [
    "## selectExpr"
   ]
  },
  {
   "cell_type": "code",
   "execution_count": 6,
   "id": "45aa2e00-cf18-4fae-b0f9-3b1206279f1a",
   "metadata": {
    "execution": {
     "iopub.execute_input": "2024-05-28T21:36:40.763203Z",
     "iopub.status.busy": "2024-05-28T21:36:40.763105Z",
     "iopub.status.idle": "2024-05-28T21:36:41.230160Z",
     "shell.execute_reply": "2024-05-28T21:36:41.229780Z",
     "shell.execute_reply.started": "2024-05-28T21:36:40.763194Z"
    }
   },
   "outputs": [
    {
     "name": "stdout",
     "output_type": "stream",
     "text": [
      "+---+----------+------------+--------------------+--------------------+-------+-----------+-----------+-------------+-------------------+\n",
      "| id|first_name|   last_name|               email|       phone_numbers|courses|is_customer|amount_paid|customer_from|    last_updated_ts|\n",
      "+---+----------+------------+--------------------+--------------------+-------+-----------+-----------+-------------+-------------------+\n",
      "|  1|    Corrie|Van den Oord|cvandenoord@etsy.com|{+1 234 567 8901,...| [2, 4]|       true|    1000.55|   2021-01-15|2021-02-18 01:15:00|\n",
      "|  2|  Nicolaus|     Brewitt|nbrewitt@dailymai...|{+1 234 567 8923,...|    [3]|       NULL|      900.0|   2021-02-14|2021-02-18 03:33:00|\n",
      "|  3|      Kurt|        Rome|krome4@shutterfly...|        {NULL, NULL}|     []|      false|        NaN|   2021-02-14|2024-02-28 05:27:00|\n",
      "+---+----------+------------+--------------------+--------------------+-------+-----------+-----------+-------------+-------------------+\n",
      "\n",
      "+---+----------+------------+--------------------+--------------------+-------+-----------+-----------+-------------+-------------------+\n",
      "| id|first_name|   last_name|               email|       phone_numbers|courses|is_customer|amount_paid|customer_from|    last_updated_ts|\n",
      "+---+----------+------------+--------------------+--------------------+-------+-----------+-----------+-------------+-------------------+\n",
      "|  1|    Corrie|Van den Oord|cvandenoord@etsy.com|{+1 234 567 8901,...| [2, 4]|       true|    1000.55|   2021-01-15|2021-02-18 01:15:00|\n",
      "|  2|  Nicolaus|     Brewitt|nbrewitt@dailymai...|{+1 234 567 8923,...|    [3]|       NULL|      900.0|   2021-02-14|2021-02-18 03:33:00|\n",
      "|  3|      Kurt|        Rome|krome4@shutterfly...|        {NULL, NULL}|     []|      false|        NaN|   2021-02-14|2024-02-28 05:27:00|\n",
      "+---+----------+------------+--------------------+--------------------+-------+-----------+-----------+-------------+-------------------+\n",
      "\n"
     ]
    },
    {
     "name": "stderr",
     "output_type": "stream",
     "text": [
      "24/05/28 23:36:56 WARN GarbageCollectionMetrics: To enable non-built-in garbage collector(s) List(G1 Concurrent GC), users should configure it(them) to spark.eventLog.gcMetrics.youngGenerationGarbageCollectors or spark.eventLog.gcMetrics.oldGenerationGarbageCollectors\n"
     ]
    }
   ],
   "source": [
    "users_df.selectExpr('*').show()\n",
    "users_df.alias('u').selectExpr('u.*').show()"
   ]
  },
  {
   "cell_type": "code",
   "execution_count": 7,
   "id": "3862de99-90a5-4713-85ab-f7c8dfb85f01",
   "metadata": {
    "execution": {
     "iopub.execute_input": "2024-05-28T21:37:53.694468Z",
     "iopub.status.busy": "2024-05-28T21:37:53.693632Z",
     "iopub.status.idle": "2024-05-28T21:37:54.183358Z",
     "shell.execute_reply": "2024-05-28T21:37:54.183082Z",
     "shell.execute_reply.started": "2024-05-28T21:37:53.694417Z"
    }
   },
   "outputs": [
    {
     "name": "stdout",
     "output_type": "stream",
     "text": [
      "+---+----------+------------+\n",
      "| id|first_name|   last_name|\n",
      "+---+----------+------------+\n",
      "|  1|    Corrie|Van den Oord|\n",
      "|  2|  Nicolaus|     Brewitt|\n",
      "|  3|      Kurt|        Rome|\n",
      "+---+----------+------------+\n",
      "\n",
      "+---+----------+------------+\n",
      "| id|first_name|   last_name|\n",
      "+---+----------+------------+\n",
      "|  1|    Corrie|Van den Oord|\n",
      "|  2|  Nicolaus|     Brewitt|\n",
      "|  3|      Kurt|        Rome|\n",
      "+---+----------+------------+\n",
      "\n"
     ]
    }
   ],
   "source": [
    "users_df.selectExpr('id', 'first_name', 'last_name').show()\n",
    "users_df.selectExpr(['id', 'first_name', 'last_name']).show()"
   ]
  },
  {
   "cell_type": "code",
   "execution_count": 13,
   "id": "a9324d93-1fbd-4f0a-a98e-807af89ff3ba",
   "metadata": {
    "execution": {
     "iopub.execute_input": "2024-05-28T21:44:45.929586Z",
     "iopub.status.busy": "2024-05-28T21:44:45.929032Z",
     "iopub.status.idle": "2024-05-28T21:44:46.404412Z",
     "shell.execute_reply": "2024-05-28T21:44:46.403949Z",
     "shell.execute_reply.started": "2024-05-28T21:44:45.929559Z"
    }
   },
   "outputs": [
    {
     "name": "stdout",
     "output_type": "stream",
     "text": [
      "+---+----------+------------+--------------------+\n",
      "| id|first_name|   last_name|           full_name|\n",
      "+---+----------+------------+--------------------+\n",
      "|  1|    Corrie|Van den Oord|Corrie, Van den Oord|\n",
      "|  2|  Nicolaus|     Brewitt|   Nicolaus, Brewitt|\n",
      "|  3|      Kurt|        Rome|          Kurt, Rome|\n",
      "+---+----------+------------+--------------------+\n",
      "\n",
      "+---+----------+------------+--------------------+\n",
      "| id|first_name|   last_name|           full_name|\n",
      "+---+----------+------------+--------------------+\n",
      "|  1|    Corrie|Van den Oord|Corrie, Van den Oord|\n",
      "|  2|  Nicolaus|     Brewitt|   Nicolaus, Brewitt|\n",
      "|  3|      Kurt|        Rome|          Kurt, Rome|\n",
      "+---+----------+------------+--------------------+\n",
      "\n"
     ]
    }
   ],
   "source": [
    "from pyspark.sql.functions import col, concat, lit\n",
    "users_df.select('id', 'first_name', 'last_name', concat(col('first_name'), lit(', '), col('last_name')).alias('full_name')).show()\n",
    "users_df.selectExpr('id', 'first_name', 'last_name', \"concat(first_name, ', ', last_name) as full_name\").show()"
   ]
  },
  {
   "cell_type": "code",
   "execution_count": 18,
   "id": "bc1bf844-43e0-400e-bff8-69652c8b90c7",
   "metadata": {
    "execution": {
     "iopub.execute_input": "2024-05-28T21:49:58.332275Z",
     "iopub.status.busy": "2024-05-28T21:49:58.331470Z",
     "iopub.status.idle": "2024-05-28T21:49:58.723715Z",
     "shell.execute_reply": "2024-05-28T21:49:58.723416Z",
     "shell.execute_reply.started": "2024-05-28T21:49:58.332228Z"
    }
   },
   "outputs": [
    {
     "name": "stdout",
     "output_type": "stream",
     "text": [
      "+---+----------+------------+--------------------+--------------------+-------+-----------+-----------+-------------+-------------------+\n",
      "| id|first_name|   last_name|               email|       phone_numbers|courses|is_customer|amount_paid|customer_from|    last_updated_ts|\n",
      "+---+----------+------------+--------------------+--------------------+-------+-----------+-----------+-------------+-------------------+\n",
      "|  1|    Corrie|Van den Oord|cvandenoord@etsy.com|{+1 234 567 8901,...| [2, 4]|       true|    1000.55|   2021-01-15|2021-02-18 01:15:00|\n",
      "|  2|  Nicolaus|     Brewitt|nbrewitt@dailymai...|{+1 234 567 8923,...|    [3]|       NULL|      900.0|   2021-02-14|2021-02-18 03:33:00|\n",
      "|  3|      Kurt|        Rome|krome4@shutterfly...|        {NULL, NULL}|     []|      false|        NaN|   2021-02-14|2024-02-28 05:27:00|\n",
      "+---+----------+------------+--------------------+--------------------+-------+-----------+-----------+-------------+-------------------+\n",
      "\n",
      "+---+----------+------------+--------------------+\n",
      "| id|first_name|   last_name|           full_name|\n",
      "+---+----------+------------+--------------------+\n",
      "|  1|    Corrie|Van den Oord|Corrie, Van den Oord|\n",
      "|  2|  Nicolaus|     Brewitt|   Nicolaus, Brewitt|\n",
      "|  3|      Kurt|        Rome|          Kurt, Rome|\n",
      "+---+----------+------------+--------------------+\n",
      "\n"
     ]
    }
   ],
   "source": [
    "users_df.createOrReplaceTempView('users')\n",
    "spark.sql(\"\"\"select * from users\"\"\").show()\n",
    "spark.sql(\"\"\"select id, first_name, last_name, concat(first_name, ', ', last_name) as full_name from users\"\"\").show()"
   ]
  },
  {
   "cell_type": "markdown",
   "id": "f596dd26-760a-493a-b9e2-621dd00b4972",
   "metadata": {
    "execution": {
     "iopub.execute_input": "2024-05-28T21:51:47.641080Z",
     "iopub.status.busy": "2024-05-28T21:51:47.640166Z",
     "iopub.status.idle": "2024-05-28T21:51:47.648713Z",
     "shell.execute_reply": "2024-05-28T21:51:47.647693Z",
     "shell.execute_reply.started": "2024-05-28T21:51:47.641027Z"
    },
    "jp-MarkdownHeadingCollapsed": true
   },
   "source": [
    "## Referring columns using Spark Data Frame Names"
   ]
  },
  {
   "cell_type": "code",
   "execution_count": 12,
   "id": "06ed4388-0157-4221-b2b5-ff2dbebf4517",
   "metadata": {
    "execution": {
     "iopub.execute_input": "2024-05-29T07:33:01.936185Z",
     "iopub.status.busy": "2024-05-29T07:33:01.935237Z",
     "iopub.status.idle": "2024-05-29T07:33:01.957202Z",
     "shell.execute_reply": "2024-05-29T07:33:01.956799Z",
     "shell.execute_reply.started": "2024-05-29T07:33:01.936139Z"
    }
   },
   "outputs": [
    {
     "data": {
      "text/plain": [
       "(Column<'id'>, Column<'id'>, pyspark.sql.column.Column)"
      ]
     },
     "execution_count": 12,
     "metadata": {},
     "output_type": "execute_result"
    }
   ],
   "source": [
    "from pyspark.sql.functions import col\n",
    "users_df['id'], col('id'), type(users_df['id'])"
   ]
  },
  {
   "cell_type": "code",
   "execution_count": 14,
   "id": "392e7891-af4f-4736-b89f-11cf0250cfa2",
   "metadata": {
    "execution": {
     "iopub.execute_input": "2024-05-29T07:34:00.026288Z",
     "iopub.status.busy": "2024-05-29T07:34:00.025484Z",
     "iopub.status.idle": "2024-05-29T07:34:00.324548Z",
     "shell.execute_reply": "2024-05-29T07:34:00.324236Z",
     "shell.execute_reply.started": "2024-05-29T07:34:00.026239Z"
    }
   },
   "outputs": [
    {
     "name": "stdout",
     "output_type": "stream",
     "text": [
      "+---+----------+------------+\n",
      "| id|first_name|   last_name|\n",
      "+---+----------+------------+\n",
      "|  1|    Corrie|Van den Oord|\n",
      "|  2|  Nicolaus|     Brewitt|\n",
      "|  3|      Kurt|        Rome|\n",
      "+---+----------+------------+\n",
      "\n"
     ]
    }
   ],
   "source": [
    "from pyspark.sql.functions import col\n",
    "users_df.select(users_df['id'], col('first_name'), 'last_name').show()"
   ]
  },
  {
   "cell_type": "code",
   "execution_count": 19,
   "id": "33099acc-ec95-446e-ba6c-5699231f2de2",
   "metadata": {
    "execution": {
     "iopub.execute_input": "2024-05-29T07:53:29.877613Z",
     "iopub.status.busy": "2024-05-29T07:53:29.877030Z",
     "iopub.status.idle": "2024-05-29T07:53:30.180861Z",
     "shell.execute_reply": "2024-05-29T07:53:30.180615Z",
     "shell.execute_reply.started": "2024-05-29T07:53:29.877582Z"
    }
   },
   "outputs": [
    {
     "name": "stdout",
     "output_type": "stream",
     "text": [
      "+---+\n",
      "| id|\n",
      "+---+\n",
      "|  1|\n",
      "|  2|\n",
      "|  3|\n",
      "+---+\n",
      "\n"
     ]
    }
   ],
   "source": [
    "# This does not work as there is no object by name u in this session\n",
    "# users_df.alias('u').select(u['id']).show() # NameError: name 'u' is not defined\n",
    "users_df.alias('u').select('u.id').show()"
   ]
  },
  {
   "cell_type": "code",
   "execution_count": 29,
   "id": "73e6b408-f531-4214-ad36-703f9431e1bc",
   "metadata": {
    "execution": {
     "iopub.execute_input": "2024-05-29T08:12:18.197475Z",
     "iopub.status.busy": "2024-05-29T08:12:18.196682Z",
     "iopub.status.idle": "2024-05-29T08:12:18.592706Z",
     "shell.execute_reply": "2024-05-29T08:12:18.592313Z",
     "shell.execute_reply.started": "2024-05-29T08:12:18.197429Z"
    }
   },
   "outputs": [
    {
     "name": "stdout",
     "output_type": "stream",
     "text": [
      "+---+----------+------------+--------------------+\n",
      "| id|first_name|   last_name|           full_name|\n",
      "+---+----------+------------+--------------------+\n",
      "|  1|    Corrie|Van den Oord|Corrie, Van den Oord|\n",
      "|  2|  Nicolaus|     Brewitt|   Nicolaus, Brewitt|\n",
      "|  3|      Kurt|        Rome|          Kurt, Rome|\n",
      "+---+----------+------------+--------------------+\n",
      "\n",
      "+---+----------+------------+--------------------+\n",
      "| id|first_name|   last_name|           full_name|\n",
      "+---+----------+------------+--------------------+\n",
      "|  1|    Corrie|Van den Oord|Corrie, Van den Oord|\n",
      "|  2|  Nicolaus|     Brewitt|   Nicolaus, Brewitt|\n",
      "|  3|      Kurt|        Rome|          Kurt, Rome|\n",
      "+---+----------+------------+--------------------+\n",
      "\n"
     ]
    }
   ],
   "source": [
    "from pyspark.sql.functions import col, concat, lit\n",
    "users_df.select(\n",
    "    col('id'),\n",
    "    'first_name',\n",
    "    'last_name',\n",
    "    concat(users_df['first_name'], lit(', '), col('last_name')).alias('full_name')\n",
    ").show()\n",
    "users_df.alias('u').select(col('u.id'),\n",
    "    'u.first_name',\n",
    "    'u.last_name',\n",
    "    concat(col('u.first_name'), lit(', '), 'u.last_name').alias('full_name')\n",
    ").show()\n"
   ]
  },
  {
   "cell_type": "code",
   "execution_count": 24,
   "id": "5ca37952-d695-4489-8056-3f06720fe9ab",
   "metadata": {
    "execution": {
     "iopub.execute_input": "2024-05-29T08:00:20.743986Z",
     "iopub.status.busy": "2024-05-29T08:00:20.743361Z",
     "iopub.status.idle": "2024-05-29T08:00:20.987774Z",
     "shell.execute_reply": "2024-05-29T08:00:20.987532Z",
     "shell.execute_reply.started": "2024-05-29T08:00:20.743958Z"
    }
   },
   "outputs": [
    {
     "name": "stdout",
     "output_type": "stream",
     "text": [
      "+---+----------+------------+--------------------+\n",
      "| id|first_name|   last_name|           full_name|\n",
      "+---+----------+------------+--------------------+\n",
      "|  1|    Corrie|Van den Oord|Corrie, Van den Oord|\n",
      "|  2|  Nicolaus|     Brewitt|   Nicolaus, Brewitt|\n",
      "|  3|      Kurt|        Rome|          Kurt, Rome|\n",
      "+---+----------+------------+--------------------+\n",
      "\n"
     ]
    }
   ],
   "source": [
    "users_df.createOrReplaceTempView('users')\n",
    "spark.sql(\"\"\"\n",
    "    select u.id, u.first_name, u.last_name,\n",
    "        concat(u.first_name, ', ', u.last_name) full_name\n",
    "    from users u\n",
    "\"\"\").show()"
   ]
  },
  {
   "cell_type": "markdown",
   "id": "5c76384a-f3b9-4111-999a-e01935511712",
   "metadata": {},
   "source": [
    "## Understanging col function in Spark"
   ]
  },
  {
   "cell_type": "code",
   "execution_count": 36,
   "id": "7ca9e73d-a382-43df-a4d1-6f1a062ac58e",
   "metadata": {
    "execution": {
     "iopub.execute_input": "2024-05-29T08:18:05.236981Z",
     "iopub.status.busy": "2024-05-29T08:18:05.235838Z",
     "iopub.status.idle": "2024-05-29T08:18:05.250977Z",
     "shell.execute_reply": "2024-05-29T08:18:05.250190Z",
     "shell.execute_reply.started": "2024-05-29T08:18:05.236934Z"
    }
   },
   "outputs": [
    {
     "data": {
      "text/plain": [
       "(Column<'id'>, Column<'id'>)"
      ]
     },
     "execution_count": 36,
     "metadata": {},
     "output_type": "execute_result"
    }
   ],
   "source": [
    "from pyspark.sql.functions import col\n",
    "users_df['id'], col('id')"
   ]
  },
  {
   "cell_type": "code",
   "execution_count": 6,
   "id": "94d0a41c-aec1-4590-a871-e95f4a505af6",
   "metadata": {
    "execution": {
     "iopub.execute_input": "2024-05-29T13:28:41.601889Z",
     "iopub.status.busy": "2024-05-29T13:28:41.601191Z",
     "iopub.status.idle": "2024-05-29T13:28:42.260063Z",
     "shell.execute_reply": "2024-05-29T13:28:42.259773Z",
     "shell.execute_reply.started": "2024-05-29T13:28:41.601847Z"
    }
   },
   "outputs": [
    {
     "name": "stdout",
     "output_type": "stream",
     "text": [
      "+---+----------+------------+\n",
      "| id|first_name|   last_name|\n",
      "+---+----------+------------+\n",
      "|  1|    Corrie|Van den Oord|\n",
      "|  2|  Nicolaus|     Brewitt|\n",
      "|  3|      Kurt|        Rome|\n",
      "+---+----------+------------+\n",
      "\n",
      "+---+----------+------------+\n",
      "| id|first_name|   last_name|\n",
      "+---+----------+------------+\n",
      "|  1|    Corrie|Van den Oord|\n",
      "|  2|  Nicolaus|     Brewitt|\n",
      "|  3|      Kurt|        Rome|\n",
      "+---+----------+------------+\n",
      "\n",
      "+---+----------+------------+\n",
      "| id|first_name|   last_name|\n",
      "+---+----------+------------+\n",
      "|  1|    Corrie|Van den Oord|\n",
      "|  2|  Nicolaus|     Brewitt|\n",
      "|  3|      Kurt|        Rome|\n",
      "+---+----------+------------+\n",
      "\n"
     ]
    }
   ],
   "source": [
    "users_df.select('id', 'first_name', 'last_name').show()\n",
    "\n",
    "cols = ['id', 'first_name', 'last_name']\n",
    "users_df.select(cols).show()\n",
    "users_df.select(*cols).show() # star"
   ]
  },
  {
   "cell_type": "code",
   "execution_count": 8,
   "id": "3b02bd7e-5c51-40c0-bf46-6a41b5482205",
   "metadata": {
    "execution": {
     "iopub.execute_input": "2024-05-29T13:36:21.482628Z",
     "iopub.status.busy": "2024-05-29T13:36:21.481589Z",
     "iopub.status.idle": "2024-05-29T13:36:21.767930Z",
     "shell.execute_reply": "2024-05-29T13:36:21.767674Z",
     "shell.execute_reply.started": "2024-05-29T13:36:21.482571Z"
    }
   },
   "outputs": [
    {
     "name": "stdout",
     "output_type": "stream",
     "text": [
      "+---+\n",
      "| id|\n",
      "+---+\n",
      "|  1|\n",
      "|  2|\n",
      "|  3|\n",
      "+---+\n",
      "\n"
     ]
    },
    {
     "data": {
      "text/plain": [
       "(pyspark.sql.column.Column, None)"
      ]
     },
     "execution_count": 8,
     "metadata": {},
     "output_type": "execute_result"
    }
   ],
   "source": [
    "from pyspark.sql.functions import col\n",
    "\n",
    "user_id = col('id')\n",
    "type(user_id), users_df.select(user_id).show()"
   ]
  },
  {
   "cell_type": "markdown",
   "id": "42cd2788-a262-44e9-9dff-d1803f94fc74",
   "metadata": {},
   "source": [
    "column type based functions\n",
    "* `cast`, `select`, `filter`, `groupBy`, `orderBy`, etc.\n",
    "* `asc` and `desc`(usually as part of `sort` and `orderBy`)\n",
    "* `contains`(as part of `filter` or `where`  "
   ]
  },
  {
   "cell_type": "code",
   "execution_count": 14,
   "id": "6776d7c6-a4ff-43c7-996f-e637602a8860",
   "metadata": {
    "execution": {
     "iopub.execute_input": "2024-05-29T13:44:26.379695Z",
     "iopub.status.busy": "2024-05-29T13:44:26.378686Z",
     "iopub.status.idle": "2024-05-29T13:44:26.600461Z",
     "shell.execute_reply": "2024-05-29T13:44:26.600189Z",
     "shell.execute_reply.started": "2024-05-29T13:44:26.379646Z"
    }
   },
   "outputs": [
    {
     "name": "stdout",
     "output_type": "stream",
     "text": [
      "+---+-------------+\n",
      "| id|customer_from|\n",
      "+---+-------------+\n",
      "|  1|   2021-01-15|\n",
      "|  2|   2021-02-14|\n",
      "|  3|   2021-02-14|\n",
      "+---+-------------+\n",
      "\n",
      "root\n",
      " |-- id: long (nullable = true)\n",
      " |-- customer_from: date (nullable = true)\n",
      "\n"
     ]
    }
   ],
   "source": [
    "users_df.select('id', 'customer_from').show() \n",
    "users_df.select('id', 'customer_from').printSchema()"
   ]
  },
  {
   "cell_type": "code",
   "execution_count": 13,
   "id": "3ee8bc53-ce10-416b-a5a0-457dd6a9bce7",
   "metadata": {
    "execution": {
     "iopub.execute_input": "2024-05-29T13:44:10.515551Z",
     "iopub.status.busy": "2024-05-29T13:44:10.514987Z",
     "iopub.status.idle": "2024-05-29T13:44:10.798600Z",
     "shell.execute_reply": "2024-05-29T13:44:10.798372Z",
     "shell.execute_reply.started": "2024-05-29T13:44:10.515521Z"
    }
   },
   "outputs": [
    {
     "name": "stdout",
     "output_type": "stream",
     "text": [
      "+---+-------------+\n",
      "| id|customer_type|\n",
      "+---+-------------+\n",
      "|  1|     20210115|\n",
      "|  2|     20210214|\n",
      "|  3|     20210214|\n",
      "+---+-------------+\n",
      "\n",
      "root\n",
      " |-- id: long (nullable = true)\n",
      " |-- customer_type: integer (nullable = true)\n",
      "\n"
     ]
    }
   ],
   "source": [
    "from pyspark.sql.functions import date_format\n",
    "users_df.select(\n",
    "    col('id')\n",
    "    , date_format('customer_from', 'yyyyMMdd').cast('int').alias('customer_type') # date_format returns string that's why implicit case to int is added\n",
    ").show()\n",
    "users_df.select(\n",
    "    col('id')\n",
    "    , date_format('customer_from', 'yyyyMMdd').cast('int').alias('customer_type') # date_format returns string that's why implicit case to int is added\n",
    ").printSchema()"
   ]
  },
  {
   "cell_type": "code",
   "execution_count": 16,
   "id": "e325698e-5984-4954-abea-1e31f41bb52d",
   "metadata": {
    "execution": {
     "iopub.execute_input": "2024-05-29T13:46:53.379013Z",
     "iopub.status.busy": "2024-05-29T13:46:53.378343Z",
     "iopub.status.idle": "2024-05-29T13:46:53.820077Z",
     "shell.execute_reply": "2024-05-29T13:46:53.819832Z",
     "shell.execute_reply.started": "2024-05-29T13:46:53.378984Z"
    }
   },
   "outputs": [
    {
     "name": "stdout",
     "output_type": "stream",
     "text": [
      "+---+-------------+\n",
      "| id|customer_type|\n",
      "+---+-------------+\n",
      "|  1|     20210115|\n",
      "|  2|     20210214|\n",
      "|  3|     20210214|\n",
      "+---+-------------+\n",
      "\n",
      "+---+-------------+\n",
      "| id|customer_type|\n",
      "+---+-------------+\n",
      "|  1|     20210115|\n",
      "|  2|     20210214|\n",
      "|  3|     20210214|\n",
      "+---+-------------+\n",
      "\n"
     ]
    }
   ],
   "source": [
    "cols=[col('id'), date_format('customer_from', 'yyyyMMdd').cast('int').alias('customer_type')]\n",
    "users_df.select(*cols).show()\n",
    "users_df.select(cols).show()"
   ]
  },
  {
   "cell_type": "markdown",
   "id": "3d4d6783-b05b-455b-971b-14a237aed186",
   "metadata": {},
   "source": [
    "## Invoking Functions using Spark Column Objects"
   ]
  },
  {
   "cell_type": "code",
   "execution_count": 81,
   "id": "b1448f77-1b36-42ed-893e-a9ab87f1b229",
   "metadata": {
    "execution": {
     "iopub.execute_input": "2024-05-30T10:09:10.530800Z",
     "iopub.status.busy": "2024-05-30T10:09:10.530090Z",
     "iopub.status.idle": "2024-05-30T10:09:10.545224Z",
     "shell.execute_reply": "2024-05-30T10:09:10.544439Z",
     "shell.execute_reply.started": "2024-05-30T10:09:10.530760Z"
    }
   },
   "outputs": [],
   "source": [
    "import datetime\n",
    "users = [\n",
    "    {\n",
    "        \"id\": 1,\n",
    "        \"first_name\": \"Corrie\",\n",
    "        \"last_name\": \"Van den Oord\",\n",
    "        \"email\": \"cvandenoord0@etsy.com\",\n",
    "        \"phone_numbers\": Row(mobile=\"+1 234 567 8901\", home=\"+1 234 567 8911\"),\n",
    "        \"courses\": [1, 2],\n",
    "        \"is_customer\": True,\n",
    "        \"amount_paid\": 1000.55,\n",
    "        \"customer_from\": datetime.date(2021, 1, 15),\n",
    "        \"last_updated_ts\": datetime.datetime(2021, 2, 10, 1, 15, 0)\n",
    "    },\n",
    "    {\n",
    "        \"id\": 2,\n",
    "        \"first_name\": \"Nikolaus\",\n",
    "        \"last_name\": \"Brewitt\",\n",
    "        \"email\": \"nbrewitt1@dailymail.co.uk\",\n",
    "        \"phone_numbers\":  Row(mobile=\"+1 234 567 8923\", home=\"1 234 567 8934\"),\n",
    "        \"courses\": [3],\n",
    "        \"is_customer\": True,\n",
    "        \"amount_paid\": 900.0,\n",
    "        \"customer_from\": datetime.date(2021, 2, 14),\n",
    "        \"last_updated_ts\": datetime.datetime(2021, 2, 18, 3, 33, 0)\n",
    "    },\n",
    "    {\n",
    "        \"id\": 3,\n",
    "        \"first_name\": \"Orelie\",\n",
    "        \"last_name\": \"Penney\",\n",
    "        \"email\": \"openney2@vistaprint.com\",\n",
    "        \"phone_numbers\": Row(mobile=\"+1 714 512 9752\", home=\"+1 714 512 6601\"),\n",
    "        \"courses\": [2, 4],\n",
    "        \"is_customer\": True,\n",
    "        \"amount_paid\": 850.55,\n",
    "        \"customer_from\": datetime.date(2021, 1, 21),\n",
    "        \"last_updated_ts\": datetime.datetime(2021, 3, 15, 15, 16, 55)\n",
    "    },\n",
    "    {\n",
    "        \"id\": 4,\n",
    "        \"first_name\": \"Ashby\",\n",
    "        \"last_name\": \"Maddocks\",\n",
    "        \"email\": \"amaddocks3@home.pl\",\n",
    "        \"phone_numbers\": Row(mobile=None, home=None),\n",
    "        \"courses\": [],\n",
    "        \"is_customer\": False,\n",
    "        \"amount_paid\": None,\n",
    "        \"customer_from\": None,\n",
    "        \"last_updated_ts\": datetime.datetime(2021, 4, 10, 17, 45, 30)\n",
    "    },\n",
    "    {\n",
    "        \"id\": 5,\n",
    "        \"first_name\": \"Kurt\",\n",
    "        \"last_name\": \"Rome\",\n",
    "        \"email\": \"krome4@shutterfly.com\",\n",
    "        \"phone_numbers\": Row(mobile=\"+1 817 934 7142\", home=None),\n",
    "        \"courses\": [],\n",
    "        \"is_customer\": False,\n",
    "        \"amount_paid\": None,\n",
    "        \"customer_from\": None,\n",
    "        \"last_updated_ts\": datetime.datetime(2021, 4, 2, 0, 55, 18)\n",
    "    }\n",
    "]"
   ]
  },
  {
   "cell_type": "code",
   "execution_count": 82,
   "id": "4a75707d-694e-4e88-8b28-425c4ade32d1",
   "metadata": {
    "execution": {
     "iopub.execute_input": "2024-05-30T10:09:12.476043Z",
     "iopub.status.busy": "2024-05-30T10:09:12.475283Z",
     "iopub.status.idle": "2024-05-30T10:09:12.784287Z",
     "shell.execute_reply": "2024-05-30T10:09:12.784033Z",
     "shell.execute_reply.started": "2024-05-30T10:09:12.475994Z"
    }
   },
   "outputs": [
    {
     "name": "stdout",
     "output_type": "stream",
     "text": [
      "+-----------+-------+-------------+--------------------+----------+---+-----------+------------+-------------------+--------------------+\n",
      "|amount_paid|courses|customer_from|               email|first_name| id|is_customer|   last_name|    last_updated_ts|       phone_numbers|\n",
      "+-----------+-------+-------------+--------------------+----------+---+-----------+------------+-------------------+--------------------+\n",
      "|    1000.55| [1, 2]|   2021-01-15|cvandenoord0@etsy...|    Corrie|  1|       true|Van den Oord|2021-02-10 01:15:00|{+1 234 567 8901,...|\n",
      "|      900.0|    [3]|   2021-02-14|nbrewitt1@dailyma...|  Nikolaus|  2|       true|     Brewitt|2021-02-18 03:33:00|{+1 234 567 8923,...|\n",
      "|     850.55| [2, 4]|   2021-01-21|openney2@vistapri...|    Orelie|  3|       true|      Penney|2021-03-15 15:16:55|{+1 714 512 9752,...|\n",
      "|       NULL|     []|         NULL|  amaddocks3@home.pl|     Ashby|  4|      false|    Maddocks|2021-04-10 17:45:30|        {NULL, NULL}|\n",
      "|       NULL|     []|         NULL|krome4@shutterfly...|      Kurt|  5|      false|        Rome|2021-04-02 00:55:18|{+1 817 934 7142,...|\n",
      "+-----------+-------+-------------+--------------------+----------+---+-----------+------------+-------------------+--------------------+\n",
      "\n"
     ]
    }
   ],
   "source": [
    "users_df=spark.createDataFrame(users)\n",
    "users_df.show()"
   ]
  },
  {
   "cell_type": "markdown",
   "id": "8e109129-e955-4803-84ea-9f5ce203b02f",
   "metadata": {
    "execution": {
     "iopub.execute_input": "2024-05-29T22:27:21.953801Z",
     "iopub.status.busy": "2024-05-29T22:27:21.952991Z",
     "iopub.status.idle": "2024-05-29T22:27:21.967046Z",
     "shell.execute_reply": "2024-05-29T22:27:21.965029Z",
     "shell.execute_reply.started": "2024-05-29T22:27:21.953752Z"
    }
   },
   "source": [
    "* concatenate `first_name` and `last_name` to generate `full_name`"
   ]
  },
  {
   "cell_type": "code",
   "execution_count": 30,
   "id": "a22d69d4-55a2-4588-84e9-16a8a2118533",
   "metadata": {
    "execution": {
     "iopub.execute_input": "2024-05-29T22:37:18.335668Z",
     "iopub.status.busy": "2024-05-29T22:37:18.335034Z",
     "iopub.status.idle": "2024-05-29T22:37:18.628546Z",
     "shell.execute_reply": "2024-05-29T22:37:18.628261Z",
     "shell.execute_reply.started": "2024-05-29T22:37:18.335633Z"
    }
   },
   "outputs": [
    {
     "name": "stdout",
     "output_type": "stream",
     "text": [
      "+---+--------------------+\n",
      "| id|           full_name|\n",
      "+---+--------------------+\n",
      "|  1|Corrie, Van den Oord|\n",
      "|  2|   Nikolaus, Brewitt|\n",
      "|  3|      Orelie, Penney|\n",
      "|  4|     Ashby, Maddocks|\n",
      "|  5|          Kurt, Rome|\n",
      "+---+--------------------+\n",
      "\n"
     ]
    },
    {
     "data": {
      "text/plain": [
       "(pyspark.sql.column.Column, None)"
      ]
     },
     "execution_count": 30,
     "metadata": {},
     "output_type": "execute_result"
    }
   ],
   "source": [
    "from pyspark.sql.functions import concat, lit, col\n",
    "full_name_col=concat(col('first_name'), lit(', '), col('last_name')).alias('full_name')\n",
    "type(full_name_col), users_df.select('id', full_name_col).show()"
   ]
  },
  {
   "cell_type": "markdown",
   "id": "f6ccee27-376f-4723-b05d-8b1505902400",
   "metadata": {},
   "source": [
    "* convert data type of `customer_from` date to numeric "
   ]
  },
  {
   "cell_type": "code",
   "execution_count": 31,
   "id": "04e50a9e-3e39-4678-85f3-5dec59a80570",
   "metadata": {
    "execution": {
     "iopub.execute_input": "2024-05-29T22:38:40.542287Z",
     "iopub.status.busy": "2024-05-29T22:38:40.541499Z",
     "iopub.status.idle": "2024-05-29T22:38:40.820764Z",
     "shell.execute_reply": "2024-05-29T22:38:40.820469Z",
     "shell.execute_reply.started": "2024-05-29T22:38:40.542242Z"
    }
   },
   "outputs": [
    {
     "name": "stdout",
     "output_type": "stream",
     "text": [
      "+---+-------------+\n",
      "| id|customer_from|\n",
      "+---+-------------+\n",
      "|  1|   2021-01-15|\n",
      "|  2|   2021-02-14|\n",
      "|  3|   2021-01-21|\n",
      "|  4|         NULL|\n",
      "|  5|         NULL|\n",
      "+---+-------------+\n",
      "\n"
     ]
    }
   ],
   "source": [
    "users_df.select('id', 'customer_from').show()"
   ]
  },
  {
   "cell_type": "code",
   "execution_count": 35,
   "id": "c45dd7aa-5de4-44ef-934c-f14c3de52dc5",
   "metadata": {
    "execution": {
     "iopub.execute_input": "2024-05-29T22:45:16.434520Z",
     "iopub.status.busy": "2024-05-29T22:45:16.433642Z",
     "iopub.status.idle": "2024-05-29T22:45:16.711148Z",
     "shell.execute_reply": "2024-05-29T22:45:16.710850Z",
     "shell.execute_reply.started": "2024-05-29T22:45:16.434469Z"
    }
   },
   "outputs": [
    {
     "name": "stdout",
     "output_type": "stream",
     "text": [
      "+---+-------------+\n",
      "| id|customer_from|\n",
      "+---+-------------+\n",
      "|  1|     20210115|\n",
      "|  2|     20210214|\n",
      "|  3|     20210121|\n",
      "|  4|         NULL|\n",
      "|  5|         NULL|\n",
      "+---+-------------+\n",
      "\n"
     ]
    },
    {
     "data": {
      "text/plain": [
       "(None, [('id', 'bigint'), ('customer_from', 'int')])"
      ]
     },
     "execution_count": 35,
     "metadata": {},
     "output_type": "execute_result"
    }
   ],
   "source": [
    "from pyspark.sql.functions import date_format\n",
    "\n",
    "customer_from_numeric=date_format('customer_from', 'yyyyMMdd').cast('int').alias('customer_from')\n",
    "users_df.select('id', customer_from_numeric).show(), users_df.select('id', customer_from_numeric).dtypes"
   ]
  },
  {
   "cell_type": "markdown",
   "id": "1a4d86e6-cc62-4380-b6f8-50ca79291f18",
   "metadata": {},
   "source": [
    "## Understanding lit function in Spark"
   ]
  },
  {
   "cell_type": "code",
   "execution_count": 48,
   "id": "0ffafe7e-3f7f-42b4-9d1e-d50adb70beb1",
   "metadata": {
    "execution": {
     "iopub.execute_input": "2024-05-29T23:01:56.787168Z",
     "iopub.status.busy": "2024-05-29T23:01:56.786376Z",
     "iopub.status.idle": "2024-05-29T23:01:56.794545Z",
     "shell.execute_reply": "2024-05-29T23:01:56.793718Z",
     "shell.execute_reply.started": "2024-05-29T23:01:56.787123Z"
    }
   },
   "outputs": [],
   "source": [
    "#users_df.select('id', 'amount_paid'+25).show() # fails\n",
    "#users_df.select('id', 'amount_paid'+'25').show() # fails"
   ]
  },
  {
   "cell_type": "code",
   "execution_count": 46,
   "id": "2c0c76ff-59ae-4135-91e2-22a642afb472",
   "metadata": {
    "execution": {
     "iopub.execute_input": "2024-05-29T23:00:01.399297Z",
     "iopub.status.busy": "2024-05-29T23:00:01.398476Z",
     "iopub.status.idle": "2024-05-29T23:00:01.784964Z",
     "shell.execute_reply": "2024-05-29T23:00:01.784647Z",
     "shell.execute_reply.started": "2024-05-29T23:00:01.399247Z"
    }
   },
   "outputs": [
    {
     "name": "stdout",
     "output_type": "stream",
     "text": [
      "+---+-----------+\n",
      "| id|amount_paid|\n",
      "+---+-----------+\n",
      "|  1|    1025.55|\n",
      "|  2|      925.0|\n",
      "|  3|     875.55|\n",
      "|  4|       NULL|\n",
      "|  5|       NULL|\n",
      "+---+-----------+\n",
      "\n",
      "+---+-----------+\n",
      "| id|amount_paid|\n",
      "+---+-----------+\n",
      "|  1|    1025.55|\n",
      "|  2|      925.0|\n",
      "|  3|     875.55|\n",
      "|  4|       NULL|\n",
      "|  5|       NULL|\n",
      "+---+-----------+\n",
      "\n"
     ]
    }
   ],
   "source": [
    "users_df.createOrReplaceTempView('users')\n",
    "spark.sql('select id, amount_paid+25 amount_paid from users').show()\n",
    "users_df.selectExpr('id', 'amount_paid+25 amount_paid').show()"
   ]
  },
  {
   "cell_type": "code",
   "execution_count": 59,
   "id": "a817263a-902d-43de-b790-cd7bd1eb7d99",
   "metadata": {
    "execution": {
     "iopub.execute_input": "2024-05-29T23:10:17.117682Z",
     "iopub.status.busy": "2024-05-29T23:10:17.116840Z",
     "iopub.status.idle": "2024-05-29T23:10:17.320689Z",
     "shell.execute_reply": "2024-05-29T23:10:17.320448Z",
     "shell.execute_reply.started": "2024-05-29T23:10:17.117636Z"
    }
   },
   "outputs": [
    {
     "name": "stdout",
     "output_type": "stream",
     "text": [
      "+---+------------------+\n",
      "| id|(amount_paid + 25)|\n",
      "+---+------------------+\n",
      "|  1|           1025.55|\n",
      "|  2|             925.0|\n",
      "|  3|            875.55|\n",
      "|  4|              NULL|\n",
      "|  5|              NULL|\n",
      "+---+------------------+\n",
      "\n"
     ]
    },
    {
     "data": {
      "text/plain": [
       "(Column<'25'>, None)"
      ]
     },
     "execution_count": 59,
     "metadata": {},
     "output_type": "execute_result"
    }
   ],
   "source": [
    "from pyspark.sql.functions import col, lit\n",
    "lit(25), users_df.select('id', col('amount_paid')+lit(25)).show()"
   ]
  },
  {
   "cell_type": "markdown",
   "id": "2210d2fd-2bee-4e1f-8cdf-205c967e17b4",
   "metadata": {},
   "source": [
    "## There are multiple ways to rename Spark Data Frame Columns or Expressions.\n",
    "* We can rename column or expression using `alias` as part of `select`\n",
    "* We can add or rename column or expression using `withColumn` on top of Data Frame.\n",
    "* We can rename one column at a time using `withColumnRenamed` on top of Data Frame.\n",
    "* We typically use `withColumn` to perform row level transformations and then to provide a name to the result. If we provide the same name as existing column, then the column will be replaced with new one.\n",
    "* If we want to just rename the column then it is better to use `withColumnRenamed`.\n",
    "* If we want to apply any transformation, we need to either use `select` or `withColumn`\n",
    "* We can rename bunch of columns using `toDF`."
   ]
  },
  {
   "cell_type": "markdown",
   "id": "8bd5ef0c-494a-45cb-aa50-c07e3f6a6b67",
   "metadata": {},
   "source": [
    "## Naming derived columns using withColumn"
   ]
  },
  {
   "cell_type": "code",
   "execution_count": 60,
   "id": "25169f57-3617-4b43-8c92-24a2f63a2276",
   "metadata": {
    "execution": {
     "iopub.execute_input": "2024-05-29T23:19:11.457301Z",
     "iopub.status.busy": "2024-05-29T23:19:11.456517Z",
     "iopub.status.idle": "2024-05-29T23:19:11.729233Z",
     "shell.execute_reply": "2024-05-29T23:19:11.728917Z",
     "shell.execute_reply.started": "2024-05-29T23:19:11.457249Z"
    }
   },
   "outputs": [
    {
     "name": "stdout",
     "output_type": "stream",
     "text": [
      "+---+----------+------------+\n",
      "| id|first_name|   last_name|\n",
      "+---+----------+------------+\n",
      "|  1|    Corrie|Van den Oord|\n",
      "|  2|  Nikolaus|     Brewitt|\n",
      "|  3|    Orelie|      Penney|\n",
      "|  4|     Ashby|    Maddocks|\n",
      "|  5|      Kurt|        Rome|\n",
      "+---+----------+------------+\n",
      "\n"
     ]
    }
   ],
   "source": [
    "users_df.select('id', 'first_name', 'last_name').show()"
   ]
  },
  {
   "cell_type": "markdown",
   "id": "7780781b-9d0c-48a6-b5c9-56a203487eff",
   "metadata": {},
   "source": [
    "* concat `first_name` and `last_name`. Provide the alias to derived result as `full_name`"
   ]
  },
  {
   "cell_type": "code",
   "execution_count": 61,
   "id": "792e0c50-c6c9-4161-a14c-d57d5a0d88ca",
   "metadata": {
    "execution": {
     "iopub.execute_input": "2024-05-29T23:20:48.452898Z",
     "iopub.status.busy": "2024-05-29T23:20:48.452296Z",
     "iopub.status.idle": "2024-05-29T23:20:48.712655Z",
     "shell.execute_reply": "2024-05-29T23:20:48.712378Z",
     "shell.execute_reply.started": "2024-05-29T23:20:48.452866Z"
    }
   },
   "outputs": [
    {
     "name": "stdout",
     "output_type": "stream",
     "text": [
      "+---+--------------------+\n",
      "| id|           full_name|\n",
      "+---+--------------------+\n",
      "|  1|Corrie, Van den Oord|\n",
      "|  2|   Nikolaus, Brewitt|\n",
      "|  3|      Orelie, Penney|\n",
      "|  4|     Ashby, Maddocks|\n",
      "|  5|          Kurt, Rome|\n",
      "+---+--------------------+\n",
      "\n"
     ]
    }
   ],
   "source": [
    "from pyspark.sql.functions import concat, lit\n",
    "users_df.select('id', concat('first_name', lit(', '), 'last_name').alias('full_name')).show()"
   ]
  },
  {
   "cell_type": "code",
   "execution_count": 64,
   "id": "04be2ba6-11f4-4cbd-8a92-9fd59190e0d7",
   "metadata": {
    "execution": {
     "iopub.execute_input": "2024-05-29T23:26:31.360385Z",
     "iopub.status.busy": "2024-05-29T23:26:31.359613Z",
     "iopub.status.idle": "2024-05-29T23:26:31.583357Z",
     "shell.execute_reply": "2024-05-29T23:26:31.582931Z",
     "shell.execute_reply.started": "2024-05-29T23:26:31.360338Z"
    }
   },
   "outputs": [
    {
     "name": "stdout",
     "output_type": "stream",
     "text": [
      "+---+----------+------------+--------------------+\n",
      "| id|first_name|   last_name|           full_name|\n",
      "+---+----------+------------+--------------------+\n",
      "|  1|    Corrie|Van den Oord|Corrie, Van den Oord|\n",
      "|  2|  Nikolaus|     Brewitt|   Nikolaus, Brewitt|\n",
      "|  3|    Orelie|      Penney|      Orelie, Penney|\n",
      "|  4|     Ashby|    Maddocks|     Ashby, Maddocks|\n",
      "|  5|      Kurt|        Rome|          Kurt, Rome|\n",
      "+---+----------+------------+--------------------+\n",
      "\n"
     ]
    }
   ],
   "source": [
    "users_df.select('id', 'first_name', 'last_name').withColumn('full_name', concat('first_name', lit(', '), 'last_name')).show()"
   ]
  },
  {
   "cell_type": "code",
   "execution_count": 71,
   "id": "4a94c7ea-8e04-4d65-a5cb-5c32aecd4dc8",
   "metadata": {
    "execution": {
     "iopub.execute_input": "2024-05-29T23:30:04.048361Z",
     "iopub.status.busy": "2024-05-29T23:30:04.047792Z",
     "iopub.status.idle": "2024-05-29T23:30:04.414994Z",
     "shell.execute_reply": "2024-05-29T23:30:04.414671Z",
     "shell.execute_reply.started": "2024-05-29T23:30:04.048335Z"
    }
   },
   "outputs": [
    {
     "name": "stdout",
     "output_type": "stream",
     "text": [
      "+---+----------+--------+\n",
      "| id|first_name|      fn|\n",
      "+---+----------+--------+\n",
      "|  1|    Corrie|  Corrie|\n",
      "|  2|  Nikolaus|Nikolaus|\n",
      "|  3|    Orelie|  Orelie|\n",
      "|  4|     Ashby|   Ashby|\n",
      "|  5|      Kurt|    Kurt|\n",
      "+---+----------+--------+\n",
      "\n",
      "+---+----------+--------+\n",
      "| id|first_name|      fn|\n",
      "+---+----------+--------+\n",
      "|  1|    Corrie|  Corrie|\n",
      "|  2|  Nikolaus|Nikolaus|\n",
      "|  3|    Orelie|  Orelie|\n",
      "|  4|     Ashby|   Ashby|\n",
      "|  5|      Kurt|    Kurt|\n",
      "+---+----------+--------+\n",
      "\n"
     ]
    }
   ],
   "source": [
    "from pyspark.sql.functions import col\n",
    "users_df.select('id', 'first_name').withColumn('fn', col('first_name')).show()\n",
    "users_df.select('id', 'first_name').withColumn('fn', users_df['first_name']).show()"
   ]
  },
  {
   "cell_type": "markdown",
   "id": "a1b22847-06f3-4c38-a8fa-4a7f81a14c43",
   "metadata": {},
   "source": [
    "* add another `course_count` column containing number of courses the user is enrolled for"
   ]
  },
  {
   "cell_type": "code",
   "execution_count": 75,
   "id": "3693cb32-c05b-4829-90bf-b851a085eed8",
   "metadata": {
    "execution": {
     "iopub.execute_input": "2024-05-29T23:35:22.769316Z",
     "iopub.status.busy": "2024-05-29T23:35:22.768013Z",
     "iopub.status.idle": "2024-05-29T23:35:23.048208Z",
     "shell.execute_reply": "2024-05-29T23:35:23.047856Z",
     "shell.execute_reply.started": "2024-05-29T23:35:22.769265Z"
    }
   },
   "outputs": [
    {
     "name": "stdout",
     "output_type": "stream",
     "text": [
      "+---+-------+------------+\n",
      "| id|courses|course_count|\n",
      "+---+-------+------------+\n",
      "|  1| [1, 2]|           2|\n",
      "|  2|    [3]|           1|\n",
      "|  3| [2, 4]|           2|\n",
      "|  4|     []|           0|\n",
      "|  5|     []|           0|\n",
      "+---+-------+------------+\n",
      "\n"
     ]
    }
   ],
   "source": [
    "from pyspark.sql.functions import size\n",
    "users_df.select('id', 'courses').withColumn('course_count', size('courses')).show()"
   ]
  },
  {
   "cell_type": "markdown",
   "id": "9989dc27-374c-44b7-8686-ec0e3a19d5c4",
   "metadata": {},
   "source": [
    "## Renaming columns withColumnRenamed\n",
    "\n",
    "* rename `id` to `user_id`\n",
    "* rename `first_name` to `user_first_name`\n",
    "* rename `last_name` to `user_last_name`"
   ]
  },
  {
   "cell_type": "code",
   "execution_count": null,
   "id": "f8481920-2088-4e84-b628-394a271baee0",
   "metadata": {},
   "outputs": [],
   "source": []
  },
  {
   "cell_type": "code",
   "execution_count": 77,
   "id": "b5ef34dd-fbe9-49bd-92ad-b54318bb34df",
   "metadata": {
    "execution": {
     "iopub.execute_input": "2024-05-29T23:43:33.189980Z",
     "iopub.status.busy": "2024-05-29T23:43:33.189178Z",
     "iopub.status.idle": "2024-05-29T23:43:33.456707Z",
     "shell.execute_reply": "2024-05-29T23:43:33.456432Z",
     "shell.execute_reply.started": "2024-05-29T23:43:33.189932Z"
    }
   },
   "outputs": [
    {
     "name": "stdout",
     "output_type": "stream",
     "text": [
      "+-------+---------------+--------------+\n",
      "|user_id|user_first_name|user_last_name|\n",
      "+-------+---------------+--------------+\n",
      "|      1|         Corrie|  Van den Oord|\n",
      "|      2|       Nikolaus|       Brewitt|\n",
      "|      3|         Orelie|        Penney|\n",
      "|      4|          Ashby|      Maddocks|\n",
      "|      5|           Kurt|          Rome|\n",
      "+-------+---------------+--------------+\n",
      "\n"
     ]
    }
   ],
   "source": [
    "users_df. \\\n",
    "    select('id', 'first_name', 'last_name'). \\\n",
    "    withColumnRenamed('id', 'user_id'). \\\n",
    "    withColumnRenamed('first_name', 'user_first_name'). \\\n",
    "    withColumnRenamed('last_name', 'user_last_name'). \\\n",
    "    show()"
   ]
  },
  {
   "cell_type": "markdown",
   "id": "03e6e3fa-721c-433c-9a10-192bf995482c",
   "metadata": {},
   "source": [
    "## Renaming Spark Data Frame columns or expressions using alias\n",
    "* rename `id` to `user_id`\n",
    "* rename `first_name` to `user_first_name`\n",
    "* rename `last_name` to `user_last_name`\n",
    "* add new `user_full_name` column which is derived by concatenating `first_name` and `last_name` with `, ` in between"
   ]
  },
  {
   "cell_type": "code",
   "execution_count": 89,
   "id": "bbbeae78-de46-4a0a-9f93-6a1f4e2c01a0",
   "metadata": {
    "execution": {
     "iopub.execute_input": "2024-05-30T10:15:25.521816Z",
     "iopub.status.busy": "2024-05-30T10:15:25.520967Z",
     "iopub.status.idle": "2024-05-30T10:15:25.724360Z",
     "shell.execute_reply": "2024-05-30T10:15:25.723887Z",
     "shell.execute_reply.started": "2024-05-30T10:15:25.521760Z"
    }
   },
   "outputs": [
    {
     "name": "stdout",
     "output_type": "stream",
     "text": [
      "+-------+---------------+--------------+--------------------+\n",
      "|user_id|user_first_name|user_last_name|      user_full_name|\n",
      "+-------+---------------+--------------+--------------------+\n",
      "|      1|         Corrie|  Van den Oord|Corrie, Van den Oord|\n",
      "|      2|       Nikolaus|       Brewitt|   Nikolaus, Brewitt|\n",
      "|      3|         Orelie|        Penney|      Orelie, Penney|\n",
      "|      4|          Ashby|      Maddocks|     Ashby, Maddocks|\n",
      "|      5|           Kurt|          Rome|          Kurt, Rome|\n",
      "+-------+---------------+--------------+--------------------+\n",
      "\n"
     ]
    }
   ],
   "source": [
    "from pyspark.sql.functions import col, concat, lit\n",
    "user_id=col('id')\n",
    "users_df. \\\n",
    "    select( \\\n",
    "        col('id').alias('user_id'), \\\n",
    "        col('first_name').alias('user_first_name'), \\\n",
    "        col('last_name').alias('user_last_name'), \\\n",
    "        concat(col('first_name'), lit(', '), col('last_name')).alias('user_full_name')\n",
    "    ). \\\n",
    "    show()"
   ]
  },
  {
   "cell_type": "code",
   "execution_count": 88,
   "id": "fabc13ad-7df6-4a29-8b8c-8ae41b73116f",
   "metadata": {
    "execution": {
     "iopub.execute_input": "2024-05-30T10:15:06.314682Z",
     "iopub.status.busy": "2024-05-30T10:15:06.313885Z",
     "iopub.status.idle": "2024-05-30T10:15:06.570597Z",
     "shell.execute_reply": "2024-05-30T10:15:06.570328Z",
     "shell.execute_reply.started": "2024-05-30T10:15:06.314636Z"
    }
   },
   "outputs": [
    {
     "name": "stdout",
     "output_type": "stream",
     "text": [
      "+-------+---------------+--------------+--------------------+\n",
      "|user_id|user_first_name|user_last_name|      user_full_name|\n",
      "+-------+---------------+--------------+--------------------+\n",
      "|      1|         Corrie|  Van den Oord|Corrie, Van den Oord|\n",
      "|      2|       Nikolaus|       Brewitt|   Nikolaus, Brewitt|\n",
      "|      3|         Orelie|        Penney|      Orelie, Penney|\n",
      "|      4|          Ashby|      Maddocks|     Ashby, Maddocks|\n",
      "|      5|           Kurt|          Rome|          Kurt, Rome|\n",
      "+-------+---------------+--------------+--------------------+\n",
      "\n"
     ]
    }
   ],
   "source": [
    "users_df. \\\n",
    "    select( \\\n",
    "        users_df['id'].alias('user_id'), \\\n",
    "        users_df['first_name'].alias('user_first_name'), \\\n",
    "        users_df['last_name'].alias('user_last_name'), \\\n",
    "        concat(users_df['first_name'], lit(', '), users_df['last_name']).alias('user_full_name')\n",
    "    ). \\\n",
    "    show()"
   ]
  },
  {
   "cell_type": "code",
   "execution_count": 93,
   "id": "15483cf0-cb8d-4236-974f-be073df9fc33",
   "metadata": {
    "execution": {
     "iopub.execute_input": "2024-05-30T10:23:11.921302Z",
     "iopub.status.busy": "2024-05-30T10:23:11.920656Z",
     "iopub.status.idle": "2024-05-30T10:23:12.210853Z",
     "shell.execute_reply": "2024-05-30T10:23:12.210516Z",
     "shell.execute_reply.started": "2024-05-30T10:23:11.921270Z"
    }
   },
   "outputs": [
    {
     "name": "stdout",
     "output_type": "stream",
     "text": [
      "+-------+---------------+--------------+--------------------+\n",
      "|user_id|user_first_name|user_last_name|      user_full_name|\n",
      "+-------+---------------+--------------+--------------------+\n",
      "|      1|         Corrie|  Van den Oord|Corrie, Van den Oord|\n",
      "|      2|       Nikolaus|       Brewitt|   Nikolaus, Brewitt|\n",
      "|      3|         Orelie|        Penney|      Orelie, Penney|\n",
      "|      4|          Ashby|      Maddocks|     Ashby, Maddocks|\n",
      "|      5|           Kurt|          Rome|          Kurt, Rome|\n",
      "+-------+---------------+--------------+--------------------+\n",
      "\n"
     ]
    }
   ],
   "source": [
    "# using withColumn and alias (first select and then withColumn)\n",
    "users_df. \\\n",
    "    select( \\\n",
    "        users_df['id'].alias('user_id'), \\\n",
    "        users_df['first_name'].alias('user_first_name'), \\\n",
    "        users_df['last_name'].alias('user_last_name'), \\\n",
    "    ). \\\n",
    "    withColumn('user_full_name', concat(col('user_first_name'), lit(', '), col('user_last_name'))). \\\n",
    "    show()"
   ]
  },
  {
   "cell_type": "code",
   "execution_count": 96,
   "id": "be6128c3-539f-405b-8b66-6e6cb5e86698",
   "metadata": {
    "execution": {
     "iopub.execute_input": "2024-05-30T10:27:15.088981Z",
     "iopub.status.busy": "2024-05-30T10:27:15.088025Z",
     "iopub.status.idle": "2024-05-30T10:27:15.307731Z",
     "shell.execute_reply": "2024-05-30T10:27:15.306775Z",
     "shell.execute_reply.started": "2024-05-30T10:27:15.088937Z"
    }
   },
   "outputs": [
    {
     "name": "stdout",
     "output_type": "stream",
     "text": [
      "+-------+---------------+--------------+--------------------+\n",
      "|user_id|user_first_name|user_last_name|      user_full_name|\n",
      "+-------+---------------+--------------+--------------------+\n",
      "|      1|         Corrie|  Van den Oord|Corrie, Van den Oord|\n",
      "|      2|       Nikolaus|       Brewitt|   Nikolaus, Brewitt|\n",
      "|      3|         Orelie|        Penney|      Orelie, Penney|\n",
      "|      4|          Ashby|      Maddocks|     Ashby, Maddocks|\n",
      "|      5|           Kurt|          Rome|          Kurt, Rome|\n",
      "+-------+---------------+--------------+--------------------+\n",
      "\n"
     ]
    }
   ],
   "source": [
    "# using withColumn and alias (withColumn first and then select)\n",
    "users_df. \\\n",
    "    withColumn('user_full_name', concat(col('first_name'), lit(', '), col('last_name'))). \\\n",
    "    select( \\\n",
    "        users_df['id'].alias('user_id'), \\\n",
    "        users_df['first_name'].alias('user_first_name'), \\\n",
    "        users_df['last_name'].alias('user_last_name'), \\\n",
    "        col('user_full_name')\n",
    "    ). \\\n",
    "    show()"
   ]
  },
  {
   "cell_type": "code",
   "execution_count": 95,
   "id": "3c9d15d2-5da9-4daf-9e89-f4e7be67890b",
   "metadata": {
    "execution": {
     "iopub.execute_input": "2024-05-30T10:26:35.962950Z",
     "iopub.status.busy": "2024-05-30T10:26:35.962129Z",
     "iopub.status.idle": "2024-05-30T10:26:36.228490Z",
     "shell.execute_reply": "2024-05-30T10:26:36.228199Z",
     "shell.execute_reply.started": "2024-05-30T10:26:35.962906Z"
    }
   },
   "outputs": [
    {
     "name": "stdout",
     "output_type": "stream",
     "text": [
      "+-------+---------------+--------------+--------------------+\n",
      "|user_id|user_first_name|user_last_name|      user_full_name|\n",
      "+-------+---------------+--------------+--------------------+\n",
      "|      1|         Corrie|  Van den Oord|Corrie, Van den Oord|\n",
      "|      2|       Nikolaus|       Brewitt|   Nikolaus, Brewitt|\n",
      "|      3|         Orelie|        Penney|      Orelie, Penney|\n",
      "|      4|          Ashby|      Maddocks|     Ashby, Maddocks|\n",
      "|      5|           Kurt|          Rome|          Kurt, Rome|\n",
      "+-------+---------------+--------------+--------------------+\n",
      "\n"
     ]
    }
   ],
   "source": [
    "users_df. \\\n",
    "    withColumn('user_full_name', concat(users_df['first_name'], lit(', '), users_df['last_name'])). \\\n",
    "    select( \\\n",
    "        users_df['id'].alias('user_id'), \\\n",
    "        users_df['first_name'].alias('user_first_name'), \\\n",
    "        users_df['last_name'].alias('user_last_name'), \\\n",
    "        col('user_full_name')\n",
    "    ). \\\n",
    "    show()"
   ]
  },
  {
   "cell_type": "markdown",
   "id": "2c4e095f-acec-4e4c-9003-99fd0751853b",
   "metadata": {},
   "source": [
    "## Renaming and Reordering multiple Spark Data Frame Columns"
   ]
  },
  {
   "cell_type": "code",
   "execution_count": 100,
   "id": "8b905720-b763-454d-97ff-0791d5a5db05",
   "metadata": {
    "execution": {
     "iopub.execute_input": "2024-05-30T10:37:48.551793Z",
     "iopub.status.busy": "2024-05-30T10:37:48.550970Z",
     "iopub.status.idle": "2024-05-30T10:37:48.989500Z",
     "shell.execute_reply": "2024-05-30T10:37:48.989214Z",
     "shell.execute_reply.started": "2024-05-30T10:37:48.551747Z"
    }
   },
   "outputs": [
    {
     "name": "stdout",
     "output_type": "stream",
     "text": [
      "+---+----------+------------+--------------------+--------------------+-------+\n",
      "| id|first_name|   last_name|               email|       phone_numbers|courses|\n",
      "+---+----------+------------+--------------------+--------------------+-------+\n",
      "|  1|    Corrie|Van den Oord|cvandenoord0@etsy...|{+1 234 567 8901,...| [1, 2]|\n",
      "|  2|  Nikolaus|     Brewitt|nbrewitt1@dailyma...|{+1 234 567 8923,...|    [3]|\n",
      "|  3|    Orelie|      Penney|openney2@vistapri...|{+1 714 512 9752,...| [2, 4]|\n",
      "|  4|     Ashby|    Maddocks|  amaddocks3@home.pl|        {NULL, NULL}|     []|\n",
      "|  5|      Kurt|        Rome|krome4@shutterfly...|{+1 817 934 7142,...|     []|\n",
      "+---+----------+------------+--------------------+--------------------+-------+\n",
      "\n",
      "+-------+---------------+--------------+--------------------+--------------------+----------------+\n",
      "|user_id|user_first_name|user_last_name|          user_email|  user_phone_numbers|enrolled_courses|\n",
      "+-------+---------------+--------------+--------------------+--------------------+----------------+\n",
      "|      1|         Corrie|  Van den Oord|cvandenoord0@etsy...|{+1 234 567 8901,...|          [1, 2]|\n",
      "|      2|       Nikolaus|       Brewitt|nbrewitt1@dailyma...|{+1 234 567 8923,...|             [3]|\n",
      "|      3|         Orelie|        Penney|openney2@vistapri...|{+1 714 512 9752,...|          [2, 4]|\n",
      "|      4|          Ashby|      Maddocks|  amaddocks3@home.pl|        {NULL, NULL}|              []|\n",
      "|      5|           Kurt|          Rome|krome4@shutterfly...|{+1 817 934 7142,...|              []|\n",
      "+-------+---------------+--------------+--------------------+--------------------+----------------+\n",
      "\n"
     ]
    }
   ],
   "source": [
    "#required columns from the original list\n",
    "required_columns = ['id', 'first_name', 'last_name', 'email', 'phone_numbers', 'courses']\n",
    "#new column name list \n",
    "target_column_names = ['user_id', 'user_first_name', 'user_last_name', 'user_email', 'user_phone_numbers', 'enrolled_courses']\n",
    "users_df. \\\n",
    "    select(required_columns). \\\n",
    "    show()\n",
    "\n",
    "users_df. \\\n",
    "    select(required_columns). \\\n",
    "    toDF(*target_column_names). \\\n",
    "    show()"
   ]
  },
  {
   "cell_type": "code",
   "execution_count": 105,
   "id": "05cb4f5d-db0a-448d-94ce-f8bddb786c96",
   "metadata": {
    "execution": {
     "iopub.execute_input": "2024-05-30T10:41:23.973656Z",
     "iopub.status.busy": "2024-05-30T10:41:23.972849Z",
     "iopub.status.idle": "2024-05-30T10:41:23.985194Z",
     "shell.execute_reply": "2024-05-30T10:41:23.984477Z",
     "shell.execute_reply.started": "2024-05-30T10:41:23.973606Z"
    }
   },
   "outputs": [
    {
     "name": "stdout",
     "output_type": "stream",
     "text": [
      "<class 'tuple'>\n",
      "('f1', 'f2')\n",
      "<class 'tuple'>\n",
      "(['f1', 'f2'],)\n",
      "<class 'tuple'>\n",
      "('f1', 'f2')\n"
     ]
    },
    {
     "data": {
      "text/plain": [
       "(None, None, None)"
      ]
     },
     "execution_count": 105,
     "metadata": {},
     "output_type": "execute_result"
    }
   ],
   "source": [
    "def myDF(*cols):\n",
    "    print(type(cols))\n",
    "    print(cols)\n",
    "\n",
    "myDF('f1', 'f2'), myDF(['f1', 'f2']), myDF(*['f1', 'f2'])"
   ]
  },
  {
   "cell_type": "code",
   "execution_count": null,
   "id": "a1e55fce-7d07-4f3f-853f-991d7611cc36",
   "metadata": {},
   "outputs": [],
   "source": []
  },
  {
   "cell_type": "code",
   "execution_count": null,
   "id": "1286eab2-e52d-4420-b015-94ac29a31e57",
   "metadata": {},
   "outputs": [],
   "source": []
  },
  {
   "cell_type": "code",
   "execution_count": null,
   "id": "b72b329a-901f-45d3-b5f5-3551d1de75dc",
   "metadata": {},
   "outputs": [],
   "source": []
  },
  {
   "cell_type": "code",
   "execution_count": null,
   "id": "b38fedc1-0d6e-43ad-9bfc-1f3cad345689",
   "metadata": {},
   "outputs": [],
   "source": []
  },
  {
   "cell_type": "code",
   "execution_count": null,
   "id": "f106abc7-a1b7-49c9-ab9f-c731ab2ed2cd",
   "metadata": {},
   "outputs": [],
   "source": []
  },
  {
   "cell_type": "code",
   "execution_count": null,
   "id": "6a8f5bab-f513-4395-b791-33ada1b47bfc",
   "metadata": {},
   "outputs": [],
   "source": []
  }
 ],
 "metadata": {
  "kernelspec": {
   "display_name": "Python 3 (ipykernel)",
   "language": "python",
   "name": "python3"
  },
  "language_info": {
   "codemirror_mode": {
    "name": "ipython",
    "version": 3
   },
   "file_extension": ".py",
   "mimetype": "text/x-python",
   "name": "python",
   "nbconvert_exporter": "python",
   "pygments_lexer": "ipython3",
   "version": "3.11.9"
  }
 },
 "nbformat": 4,
 "nbformat_minor": 5
}
