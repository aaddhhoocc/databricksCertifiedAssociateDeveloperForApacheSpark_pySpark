{
 "cells": [
  {
   "cell_type": "code",
   "execution_count": 1,
   "id": "63b5905c-58be-4942-8cb3-7ef62ac168f7",
   "metadata": {
    "execution": {
     "iopub.execute_input": "2024-06-18T19:44:11.384637Z",
     "iopub.status.busy": "2024-06-18T19:44:11.384330Z",
     "iopub.status.idle": "2024-06-18T19:44:18.547499Z",
     "shell.execute_reply": "2024-06-18T19:44:18.547137Z",
     "shell.execute_reply.started": "2024-06-18T19:44:11.384613Z"
    }
   },
   "outputs": [
    {
     "name": "stderr",
     "output_type": "stream",
     "text": [
      "Setting default log level to \"WARN\".\n",
      "To adjust logging level use sc.setLogLevel(newLevel). For SparkR, use setLogLevel(newLevel).\n",
      "24/06/18 21:44:17 WARN NativeCodeLoader: Unable to load native-hadoop library for your platform... using builtin-java classes where applicable\n"
     ]
    }
   ],
   "source": [
    "from pyspark.sql import SparkSession\n",
    "spark = SparkSession.builder.appName('instance').getOrCreate()"
   ]
  },
  {
   "cell_type": "code",
   "execution_count": 11,
   "id": "1679ca11-cb10-4b3c-878e-453c92232ab6",
   "metadata": {
    "execution": {
     "iopub.execute_input": "2024-06-18T19:59:31.601988Z",
     "iopub.status.busy": "2024-06-18T19:59:31.601203Z",
     "iopub.status.idle": "2024-06-18T19:59:31.689539Z",
     "shell.execute_reply": "2024-06-18T19:59:31.689227Z",
     "shell.execute_reply.started": "2024-06-18T19:59:31.601940Z"
    }
   },
   "outputs": [
    {
     "name": "stdout",
     "output_type": "stream",
     "text": [
      "root\n",
      " |-- order_customer_id: long (nullable = true)\n",
      " |-- order_date: date (nullable = true)\n",
      " |-- order_id: long (nullable = true)\n",
      " |-- order_status: string (nullable = true)\n",
      "\n",
      "+-----------------+----------+--------+---------------+\n",
      "|order_customer_id|order_date|order_id|   order_status|\n",
      "+-----------------+----------+--------+---------------+\n",
      "|                1|2013-07-25|   11599|         CLOSED|\n",
      "|                2|2013-07-25|     256|PENDING_PAYMENT|\n",
      "|                3|2013-07-25|   12111|       COMPLETE|\n",
      "|                4|2013-07-25|    8827|         CLOSED|\n",
      "|                5|2013-07-25|   11318|       COMPLETE|\n",
      "|                6|2013-07-25|    7130|       COMPLETE|\n",
      "|                7|2013-07-25|    4530|       COMPLETE|\n",
      "|                8|2013-07-25|    2911|     PROCESSING|\n",
      "|                9|2013-07-25|    5657|PENDING_PAYMENT|\n",
      "|               10|2013-07-25|    5648|PENDING_PAYMENT|\n",
      "|               11|2013-07-25|     918| PAYMENT_REVIEW|\n",
      "|               12|2013-07-25|    1837|         CLOSED|\n",
      "|               13|2013-07-25|    9149|PENDING_PAYMENT|\n",
      "|               14|2013-07-25|    9842|     PROCESSING|\n",
      "|               15|2013-07-25|    2568|       COMPLETE|\n",
      "|               16|2013-07-25|    7276|PENDING_PAYMENT|\n",
      "|               17|2013-07-25|    2667|       COMPLETE|\n",
      "|               18|2013-07-25|    1205|         CLOSED|\n",
      "|               19|2013-07-25|    9488|PENDING_PAYMENT|\n",
      "|               20|2013-07-25|    9198|     PROCESSING|\n",
      "+-----------------+----------+--------+---------------+\n",
      "only showing top 20 rows\n",
      "\n"
     ]
    }
   ],
   "source": [
    "orders = spark.read.csv('/Users/adhoc/git/retail_db/orders', schema='order_customer_id long, order_date date, order_id long, order_status string')\n",
    "orders.printSchema()\n",
    "orders.show()"
   ]
  },
  {
   "cell_type": "code",
   "execution_count": 37,
   "id": "4cb9c8a3-a6f8-4235-a6fc-540b998f4d69",
   "metadata": {
    "execution": {
     "iopub.execute_input": "2024-06-18T20:21:57.190277Z",
     "iopub.status.busy": "2024-06-18T20:21:57.189658Z",
     "iopub.status.idle": "2024-06-18T20:21:57.254540Z",
     "shell.execute_reply": "2024-06-18T20:21:57.254187Z",
     "shell.execute_reply.started": "2024-06-18T20:21:57.190245Z"
    }
   },
   "outputs": [
    {
     "name": "stdout",
     "output_type": "stream",
     "text": [
      "root\n",
      " |-- order_item_id: long (nullable = true)\n",
      " |-- order_item_order_id: long (nullable = true)\n",
      " |-- order_item_product_id: long (nullable = true)\n",
      " |-- order_item_quantity: double (nullable = true)\n",
      " |-- order_item_subtotal: double (nullable = true)\n",
      " |-- order_item_product_price: double (nullable = true)\n",
      "\n",
      "+-------------+-------------------+---------------------+-------------------+-------------------+------------------------+\n",
      "|order_item_id|order_item_order_id|order_item_product_id|order_item_quantity|order_item_subtotal|order_item_product_price|\n",
      "+-------------+-------------------+---------------------+-------------------+-------------------+------------------------+\n",
      "|            1|                  1|                  957|                1.0|             299.98|                  299.98|\n",
      "|            2|                  2|                 1073|                1.0|             199.99|                  199.99|\n",
      "|            3|                  2|                  502|                5.0|              250.0|                    50.0|\n",
      "|            4|                  2|                  403|                1.0|             129.99|                  129.99|\n",
      "|            5|                  4|                  897|                2.0|              49.98|                   24.99|\n",
      "|            6|                  4|                  365|                5.0|             299.95|                   59.99|\n",
      "|            7|                  4|                  502|                3.0|              150.0|                    50.0|\n",
      "|            8|                  4|                 1014|                4.0|             199.92|                   49.98|\n",
      "|            9|                  5|                  957|                1.0|             299.98|                  299.98|\n",
      "|           10|                  5|                  365|                5.0|             299.95|                   59.99|\n",
      "|           11|                  5|                 1014|                2.0|              99.96|                   49.98|\n",
      "|           12|                  5|                  957|                1.0|             299.98|                  299.98|\n",
      "|           13|                  5|                  403|                1.0|             129.99|                  129.99|\n",
      "|           14|                  7|                 1073|                1.0|             199.99|                  199.99|\n",
      "|           15|                  7|                  957|                1.0|             299.98|                  299.98|\n",
      "|           16|                  7|                  926|                5.0|              79.95|                   15.99|\n",
      "|           17|                  8|                  365|                3.0|             179.97|                   59.99|\n",
      "|           18|                  8|                  365|                5.0|             299.95|                   59.99|\n",
      "|           19|                  8|                 1014|                4.0|             199.92|                   49.98|\n",
      "|           20|                  8|                  502|                1.0|               50.0|                    50.0|\n",
      "+-------------+-------------------+---------------------+-------------------+-------------------+------------------------+\n",
      "only showing top 20 rows\n",
      "\n"
     ]
    }
   ],
   "source": [
    "order_items = spark.read.csv('/Users/adhoc/git/retail_db/order_items', schema='order_item_id long, order_item_order_id long, order_item_product_id long, order_item_quantity double, order_item_subtotal double, order_item_product_price double')\n",
    "order_items.printSchema()\n",
    "order_items.show()"
   ]
  },
  {
   "cell_type": "markdown",
   "id": "c642c88e-e192-419b-b587-ac99e1b8ee15",
   "metadata": {},
   "source": [
    "## Common aggreagate functions available as part of pyspark.sql.functions\n",
    "* `count`\n",
    "* `sum`\n",
    "*  `min`\n",
    "*  `max`\n",
    "*  `avg`\n",
    "\n",
    "Also statistical functions such as `stddev`"
   ]
  },
  {
   "cell_type": "code",
   "execution_count": 17,
   "id": "655659ca-ae11-43e6-83c5-db6a9379fa98",
   "metadata": {
    "execution": {
     "iopub.execute_input": "2024-06-18T20:01:36.413925Z",
     "iopub.status.busy": "2024-06-18T20:01:36.413365Z",
     "iopub.status.idle": "2024-06-18T20:01:36.552217Z",
     "shell.execute_reply": "2024-06-18T20:01:36.551898Z",
     "shell.execute_reply.started": "2024-06-18T20:01:36.413899Z"
    }
   },
   "outputs": [
    {
     "name": "stdout",
     "output_type": "stream",
     "text": [
      "+--------+\n",
      "|count(1)|\n",
      "+--------+\n",
      "|   68883|\n",
      "+--------+\n",
      "\n"
     ]
    },
    {
     "data": {
      "text/plain": [
       "68883"
      ]
     },
     "execution_count": 17,
     "metadata": {},
     "output_type": "execute_result"
    }
   ],
   "source": [
    "orders.select(count('*')).show()\n",
    "\n",
    "from pyspark.sql.functions import count\n",
    "orders.count()"
   ]
  },
  {
   "cell_type": "code",
   "execution_count": 18,
   "id": "7330535e-e9c4-4ed8-8913-2004a10700d5",
   "metadata": {
    "execution": {
     "iopub.execute_input": "2024-06-18T20:02:51.614478Z",
     "iopub.status.busy": "2024-06-18T20:02:51.613878Z",
     "iopub.status.idle": "2024-06-18T20:02:51.906857Z",
     "shell.execute_reply": "2024-06-18T20:02:51.906569Z",
     "shell.execute_reply.started": "2024-06-18T20:02:51.614441Z"
    }
   },
   "outputs": [
    {
     "name": "stdout",
     "output_type": "stream",
     "text": [
      "+---------------+--------+\n",
      "|   order_status|count(1)|\n",
      "+---------------+--------+\n",
      "|PENDING_PAYMENT|   15030|\n",
      "|       COMPLETE|   22899|\n",
      "|        ON_HOLD|    3798|\n",
      "| PAYMENT_REVIEW|     729|\n",
      "|     PROCESSING|    8275|\n",
      "|         CLOSED|    7556|\n",
      "|SUSPECTED_FRAUD|    1558|\n",
      "|        PENDING|    7610|\n",
      "|       CANCELED|    1428|\n",
      "+---------------+--------+\n",
      "\n"
     ]
    }
   ],
   "source": [
    "orders.groupBy('order_status').agg(count('*')).show()"
   ]
  },
  {
   "cell_type": "markdown",
   "id": "5d7792d1-159a-4fe0-9e95-ee272623c409",
   "metadata": {},
   "source": [
    "## Total aggregations on Spark Data Frame\n",
    "Get number of items, total quantity as well as revenue for a given order item order id eg. 2"
   ]
  },
  {
   "cell_type": "code",
   "execution_count": 53,
   "id": "13d3a5d1-7364-4b2d-a7a1-7837cfdf7999",
   "metadata": {
    "execution": {
     "iopub.execute_input": "2024-06-18T20:39:39.262662Z",
     "iopub.status.busy": "2024-06-18T20:39:39.262022Z",
     "iopub.status.idle": "2024-06-18T20:39:39.719476Z",
     "shell.execute_reply": "2024-06-18T20:39:39.719150Z",
     "shell.execute_reply.started": "2024-06-18T20:39:39.262632Z"
    }
   },
   "outputs": [
    {
     "name": "stdout",
     "output_type": "stream",
     "text": [
      "+-------------+-------------------+---------------------+-------------------+-------------------+------------------------+\n",
      "|order_item_id|order_item_order_id|order_item_product_id|order_item_quantity|order_item_subtotal|order_item_product_price|\n",
      "+-------------+-------------------+---------------------+-------------------+-------------------+------------------------+\n",
      "|            2|                  2|                 1073|                1.0|             199.99|                  199.99|\n",
      "|            3|                  2|                  502|                5.0|              250.0|                    50.0|\n",
      "|            4|                  2|                  403|                1.0|             129.99|                  129.99|\n",
      "+-------------+-------------------+---------------------+-------------------+-------------------+------------------------+\n",
      "\n",
      "+-------------+\n",
      "|order_revenue|\n",
      "+-------------+\n",
      "|       579.98|\n",
      "+-------------+\n",
      "\n",
      "+--------------------+\n",
      "|order total quantity|\n",
      "+--------------------+\n",
      "|                 7.0|\n",
      "+--------------------+\n",
      "\n"
     ]
    },
    {
     "data": {
      "text/plain": [
       "172198"
      ]
     },
     "execution_count": 53,
     "metadata": {},
     "output_type": "execute_result"
    }
   ],
   "source": [
    "from pyspark.sql.functions import count, sum\n",
    "\n",
    "order_items.filter('order_item_order_id = 2').show(),\n",
    "order_items.filter('order_item_order_id = 2').select(sum('order_item_subtotal').alias('order_revenue')).show(),\n",
    "order_items.filter('order_item_order_id = 2').select(sum('order_item_quantity').alias('order total quantity')).show()\n",
    "order_items.count()"
   ]
  },
  {
   "cell_type": "code",
   "execution_count": 47,
   "id": "90f4ded3-c5ac-4be0-874e-fa6d2b21d773",
   "metadata": {
    "execution": {
     "iopub.execute_input": "2024-06-18T20:31:13.848933Z",
     "iopub.status.busy": "2024-06-18T20:31:13.848183Z",
     "iopub.status.idle": "2024-06-18T20:31:14.018168Z",
     "shell.execute_reply": "2024-06-18T20:31:14.017487Z",
     "shell.execute_reply.started": "2024-06-18T20:31:13.848889Z"
    }
   },
   "outputs": [
    {
     "name": "stdout",
     "output_type": "stream",
     "text": [
      "+----------------+--------------+-------------+\n",
      "|order_item_count|order_quantity|order_revenue|\n",
      "+----------------+--------------+-------------+\n",
      "|               3|           7.0|       579.98|\n",
      "+----------------+--------------+-------------+\n",
      "\n"
     ]
    }
   ],
   "source": [
    "order_items. \\\n",
    "    filter('order_item_order_id = 2'). \\\n",
    "    select(count('order_item_order_id').alias('order_item_count'),\n",
    "           sum('order_item_quantity').alias('order_quantity'),\n",
    "           sum('order_item_subtotal').alias('order_revenue'),). \\\n",
    "    show()"
   ]
  },
  {
   "cell_type": "markdown",
   "id": "8cd73494-b70b-463e-91a9-a480cd9006f4",
   "metadata": {},
   "source": [
    "## Getting count of the Spark Data Frame"
   ]
  },
  {
   "cell_type": "code",
   "execution_count": 48,
   "id": "792f914b-ee08-4d77-9dbf-4b8cf6ccc53b",
   "metadata": {
    "execution": {
     "iopub.execute_input": "2024-06-18T20:33:21.593839Z",
     "iopub.status.busy": "2024-06-18T20:33:21.593320Z",
     "iopub.status.idle": "2024-06-18T20:33:21.671939Z",
     "shell.execute_reply": "2024-06-18T20:33:21.671643Z",
     "shell.execute_reply.started": "2024-06-18T20:33:21.593811Z"
    }
   },
   "outputs": [
    {
     "data": {
      "text/plain": [
       "172198"
      ]
     },
     "execution_count": 48,
     "metadata": {},
     "output_type": "execute_result"
    }
   ],
   "source": [
    "order_items.count() # action - execution is called immediately"
   ]
  },
  {
   "cell_type": "code",
   "execution_count": 49,
   "id": "b63de204-a8ae-4c25-8cf8-af831f236752",
   "metadata": {
    "execution": {
     "iopub.execute_input": "2024-06-18T20:36:02.258929Z",
     "iopub.status.busy": "2024-06-18T20:36:02.258534Z",
     "iopub.status.idle": "2024-06-18T20:36:02.339954Z",
     "shell.execute_reply": "2024-06-18T20:36:02.339663Z",
     "shell.execute_reply.started": "2024-06-18T20:36:02.258908Z"
    }
   },
   "outputs": [
    {
     "name": "stdout",
     "output_type": "stream",
     "text": [
      "+--------+\n",
      "|count(1)|\n",
      "+--------+\n",
      "|  172198|\n",
      "+--------+\n",
      "\n"
     ]
    }
   ],
   "source": [
    "from pyspark.sql.functions import count\n",
    "order_items.select(count('*')).show()"
   ]
  },
  {
   "cell_type": "markdown",
   "id": "af03726b-6678-400e-8975-05a2f23f62bf",
   "metadata": {},
   "source": [
    "## Overview `groupBy` on Spark Data Frame"
   ]
  },
  {
   "cell_type": "code",
   "execution_count": 55,
   "id": "0c5de898-f4c8-441e-a5ab-8766e7889966",
   "metadata": {
    "execution": {
     "iopub.execute_input": "2024-06-18T20:43:08.969704Z",
     "iopub.status.busy": "2024-06-18T20:43:08.969174Z",
     "iopub.status.idle": "2024-06-18T20:43:09.146641Z",
     "shell.execute_reply": "2024-06-18T20:43:09.146342Z",
     "shell.execute_reply.started": "2024-06-18T20:43:08.969677Z"
    }
   },
   "outputs": [
    {
     "name": "stdout",
     "output_type": "stream",
     "text": [
      "+------------------+------------------------+--------------------------+------------------------+------------------------+-----------------------------+\n",
      "|min(order_item_id)|min(order_item_order_id)|min(order_item_product_id)|min(order_item_quantity)|min(order_item_subtotal)|min(order_item_product_price)|\n",
      "+------------------+------------------------+--------------------------+------------------------+------------------------+-----------------------------+\n",
      "|                 1|                       1|                        19|                     1.0|                    9.99|                         9.99|\n",
      "+------------------+------------------------+--------------------------+------------------------+------------------------+-----------------------------+\n",
      "\n"
     ]
    }
   ],
   "source": [
    "# min on every column where there is no column specified in groupBy \n",
    "order_items.groupBy().min().show()"
   ]
  },
  {
   "cell_type": "code",
   "execution_count": 60,
   "id": "e74fb148-fc87-45ac-8134-dcaf4cfecfab",
   "metadata": {
    "execution": {
     "iopub.execute_input": "2024-06-18T20:44:27.292786Z",
     "iopub.status.busy": "2024-06-18T20:44:27.292269Z",
     "iopub.status.idle": "2024-06-18T20:44:27.405895Z",
     "shell.execute_reply": "2024-06-18T20:44:27.405646Z",
     "shell.execute_reply.started": "2024-06-18T20:44:27.292756Z"
    }
   },
   "outputs": [
    {
     "name": "stdout",
     "output_type": "stream",
     "text": [
      "+----------------------+-------------+\n",
      "|min(order_customer_id)|min(order_id)|\n",
      "+----------------------+-------------+\n",
      "|                     1|            1|\n",
      "+----------------------+-------------+\n",
      "\n"
     ]
    },
    {
     "data": {
      "text/plain": [
       "[('order_customer_id', 'bigint'),\n",
       " ('order_date', 'date'),\n",
       " ('order_id', 'bigint'),\n",
       " ('order_status', 'string')]"
      ]
     },
     "execution_count": 60,
     "metadata": {},
     "output_type": "execute_result"
    }
   ],
   "source": [
    "orders.groupBy().min().show() # mins on numeric types only - weird\n",
    "orders.dtypes"
   ]
  },
  {
   "cell_type": "markdown",
   "id": "9d71730c-b873-4f07-9e35-d62c76b1a390",
   "metadata": {},
   "source": [
    "## Perform grouped aggragations using direct functions on Spark Data Frame"
   ]
  },
  {
   "cell_type": "code",
   "execution_count": 62,
   "id": "fa8112ea-5ad6-4fcf-9428-c4d58a947708",
   "metadata": {
    "execution": {
     "iopub.execute_input": "2024-06-18T21:16:34.728546Z",
     "iopub.status.busy": "2024-06-18T21:16:34.727797Z",
     "iopub.status.idle": "2024-06-18T21:16:34.755781Z",
     "shell.execute_reply": "2024-06-18T21:16:34.755178Z",
     "shell.execute_reply.started": "2024-06-18T21:16:34.728515Z"
    }
   },
   "outputs": [
    {
     "data": {
      "text/plain": [
       "pyspark.sql.group.GroupedData"
      ]
     },
     "execution_count": 62,
     "metadata": {},
     "output_type": "execute_result"
    }
   ],
   "source": [
    "order_items_grouped = order_items.groupBy('order_item_order_id')\n",
    "type(order_items_grouped)"
   ]
  },
  {
   "cell_type": "code",
   "execution_count": 68,
   "id": "74a76e20-4b60-48d6-9416-abc6f9168ef7",
   "metadata": {
    "execution": {
     "iopub.execute_input": "2024-06-18T21:19:00.447725Z",
     "iopub.status.busy": "2024-06-18T21:19:00.447182Z",
     "iopub.status.idle": "2024-06-18T21:19:00.689161Z",
     "shell.execute_reply": "2024-06-18T21:19:00.688903Z",
     "shell.execute_reply.started": "2024-06-18T21:19:00.447695Z"
    }
   },
   "outputs": [
    {
     "name": "stdout",
     "output_type": "stream",
     "text": [
      "+-------------------+-----+\n",
      "|order_item_order_id|count|\n",
      "+-------------------+-----+\n",
      "|                 29|    5|\n",
      "|                474|    5|\n",
      "|                964|    4|\n",
      "|               1677|    5|\n",
      "|               1806|    3|\n",
      "|               1950|    5|\n",
      "|               2214|    2|\n",
      "|               2250|    4|\n",
      "|               2453|    4|\n",
      "|               2509|    4|\n",
      "|               2529|    1|\n",
      "|               2927|    5|\n",
      "|               3091|    3|\n",
      "|               3764|    1|\n",
      "|               4590|    5|\n",
      "|               4894|    4|\n",
      "|               5385|    4|\n",
      "|               5409|    3|\n",
      "|               6721|    2|\n",
      "|               7225|    4|\n",
      "+-------------------+-----+\n",
      "only showing top 20 rows\n",
      "\n"
     ]
    }
   ],
   "source": [
    "from pyspark.sql.functions import count, sum\n",
    "order_items_grouped.count().show()"
   ]
  },
  {
   "cell_type": "code",
   "execution_count": 69,
   "id": "d3e44fb3-12cc-4395-816c-c96ea8d3f983",
   "metadata": {
    "execution": {
     "iopub.execute_input": "2024-06-18T21:20:38.296369Z",
     "iopub.status.busy": "2024-06-18T21:20:38.295862Z",
     "iopub.status.idle": "2024-06-18T21:20:38.506406Z",
     "shell.execute_reply": "2024-06-18T21:20:38.506150Z",
     "shell.execute_reply.started": "2024-06-18T21:20:38.296342Z"
    }
   },
   "outputs": [
    {
     "name": "stdout",
     "output_type": "stream",
     "text": [
      "+-------------------+-----------+\n",
      "|order_item_order_id|other_count|\n",
      "+-------------------+-----------+\n",
      "|                 29|          5|\n",
      "|                474|          5|\n",
      "|                964|          4|\n",
      "|               1677|          5|\n",
      "|               1806|          3|\n",
      "|               1950|          5|\n",
      "|               2214|          2|\n",
      "|               2250|          4|\n",
      "|               2453|          4|\n",
      "|               2509|          4|\n",
      "|               2529|          1|\n",
      "|               2927|          5|\n",
      "|               3091|          3|\n",
      "|               3764|          1|\n",
      "|               4590|          5|\n",
      "|               4894|          4|\n",
      "|               5385|          4|\n",
      "|               5409|          3|\n",
      "|               6721|          2|\n",
      "|               7225|          4|\n",
      "+-------------------+-----------+\n",
      "only showing top 20 rows\n",
      "\n"
     ]
    }
   ],
   "source": [
    "order_items_grouped. \\\n",
    "    count(). \\\n",
    "    withColumnRenamed('count', 'other_count'). \\\n",
    "    show()"
   ]
  },
  {
   "cell_type": "code",
   "execution_count": 71,
   "id": "35d7e61b-89cc-4f68-9210-f554f428f05c",
   "metadata": {
    "execution": {
     "iopub.execute_input": "2024-06-18T21:21:47.652354Z",
     "iopub.status.busy": "2024-06-18T21:21:47.651717Z",
     "iopub.status.idle": "2024-06-18T21:21:48.044419Z",
     "shell.execute_reply": "2024-06-18T21:21:48.044061Z",
     "shell.execute_reply.started": "2024-06-18T21:21:47.652316Z"
    }
   },
   "outputs": [
    {
     "name": "stdout",
     "output_type": "stream",
     "text": [
      "+-------------------+------------------+------------------------+--------------------------+------------------------+------------------------+-----------------------------+\n",
      "|order_item_order_id|sum(order_item_id)|sum(order_item_order_id)|sum(order_item_product_id)|sum(order_item_quantity)|sum(order_item_subtotal)|sum(order_item_product_price)|\n",
      "+-------------------+------------------+------------------------+--------------------------+------------------------+------------------------+-----------------------------+\n",
      "|                 29|               425|                     145|                      3897|                     9.0|                 1109.85|            909.9300000000001|\n",
      "|                474|              5815|                    2370|                      4508|                    13.0|       774.8199999999999|           374.94000000000005|\n",
      "|                964|              9586|                    3856|                      2964|                    11.0|       739.8800000000001|           499.95000000000005|\n",
      "|               1677|             20860|                    8385|                      2357|                    14.0|       649.9200000000001|                       277.97|\n",
      "|               1806|             13545|                    5418|                      1871|                     8.0|                  789.94|                       509.97|\n",
      "|               1950|             24425|                    9750|                      4180|                    12.0|      1015.8700000000001|                       733.94|\n",
      "|               2214|             11099|                    4428|                       693|                     5.0|                  449.96|                       149.99|\n",
      "|               2250|             22534|                    9000|                      2236|                    10.0|                  889.94|                       569.96|\n",
      "|               2453|             24530|                    9812|                      2607|                     7.0|       999.9300000000001|                       749.95|\n",
      "|               2509|             25090|                   10036|                      2729|                     4.0|                  889.94|                       889.94|\n",
      "|               2529|              6330|                    2529|                       365|                     1.0|                   59.99|                        59.99|\n",
      "|               2927|             36510|                   14635|                      3833|                     8.0|       999.9100000000001|                       819.94|\n",
      "|               3091|             23079|                    9273|                      2598|                     5.0|      469.93000000000006|           389.95000000000005|\n",
      "|               3764|              9358|                    3764|                       822|                     2.0|                   95.98|                        47.99|\n",
      "|               4590|             57515|                   22950|                      3725|                    11.0|                  949.83|            649.9300000000001|\n",
      "|               4894|             49026|                   19576|                      3178|                     4.0|                  899.94|                       899.94|\n",
      "|               5385|             53730|                   21540|                      2347|                    10.0|                  629.86|                       309.96|\n",
      "|               5409|             40482|                   16227|                      1513|                     7.0|       699.9200000000001|           459.96000000000004|\n",
      "|               6721|             33587|                   13442|                      1129|                     3.0|                  139.99|            89.99000000000001|\n",
      "|               7225|             72338|                   28900|                      3221|                    11.0|                  774.86|           434.94000000000005|\n",
      "+-------------------+------------------+------------------------+--------------------------+------------------------+------------------------+-----------------------------+\n",
      "only showing top 20 rows\n",
      "\n"
     ]
    }
   ],
   "source": [
    "# Get sum of all numeric fields\n",
    "order_items_grouped.sum().show()"
   ]
  },
  {
   "cell_type": "code",
   "execution_count": 73,
   "id": "e8289932-be3a-464e-b66b-f3290f282017",
   "metadata": {
    "execution": {
     "iopub.execute_input": "2024-06-18T21:24:58.425773Z",
     "iopub.status.busy": "2024-06-18T21:24:58.423993Z",
     "iopub.status.idle": "2024-06-18T21:24:59.335016Z",
     "shell.execute_reply": "2024-06-18T21:24:59.334712Z",
     "shell.execute_reply.started": "2024-06-18T21:24:58.425722Z"
    }
   },
   "outputs": [
    {
     "name": "stderr",
     "output_type": "stream",
     "text": [
      "[Stage 251:>                                                        (0 + 1) / 1]\r"
     ]
    },
    {
     "name": "stdout",
     "output_type": "stream",
     "text": [
      "+----------+----------------------+-------------+\n",
      "|order_date|sum(order_customer_id)|sum(order_id)|\n",
      "+----------+----------------------+-------------+\n",
      "|2013-09-09|               3087782|      1499494|\n",
      "|2013-09-19|               2830266|      1300695|\n",
      "|2014-06-03|               7200647|       793696|\n",
      "|2013-09-12|               2898570|      1125297|\n",
      "|2014-01-24|               6326762|      1010050|\n",
      "|2014-02-16|               9143813|      1559341|\n",
      "|2014-06-11|               7447538|       879243|\n",
      "|2013-11-18|               4059151|      1196066|\n",
      "|2014-02-18|               7931814|      1413476|\n",
      "|2013-08-14|               3371810|      1155162|\n",
      "|2013-10-05|               3236782|      1265413|\n",
      "|2014-07-04|               8742268|       895348|\n",
      "|2014-07-06|               6222972|       677105|\n",
      "|2013-09-18|               3841581|      1511642|\n",
      "|2013-09-20|               2247287|       851705|\n",
      "|2013-09-25|               4304871|      1778180|\n",
      "|2014-06-13|              14029444|      1609465|\n",
      "|2013-11-23|               5866255|      1555235|\n",
      "|2013-09-14|               3862076|      1716454|\n",
      "|2014-02-24|               6819289|      1108370|\n",
      "+----------+----------------------+-------------+\n",
      "only showing top 20 rows\n",
      "\n"
     ]
    },
    {
     "name": "stderr",
     "output_type": "stream",
     "text": [
      "                                                                                \r"
     ]
    }
   ],
   "source": [
    "orders.groupBy('order_date').sum().show()"
   ]
  },
  {
   "cell_type": "code",
   "execution_count": 78,
   "id": "4badbc3b-abfe-4ffc-8321-d77d12854647",
   "metadata": {
    "execution": {
     "iopub.execute_input": "2024-06-18T21:27:32.532859Z",
     "iopub.status.busy": "2024-06-18T21:27:32.532347Z",
     "iopub.status.idle": "2024-06-18T21:27:32.562348Z",
     "shell.execute_reply": "2024-06-18T21:27:32.561952Z",
     "shell.execute_reply.started": "2024-06-18T21:27:32.532833Z"
    }
   },
   "outputs": [],
   "source": [
    "order_items_grouped = order_items. \\\n",
    "    select('order_item_order_id', 'order_item_quantity', 'order_item_subtotal'). \\\n",
    "    groupBy('order_item_order_id')"
   ]
  },
  {
   "cell_type": "code",
   "execution_count": 88,
   "id": "4b0ebcfe-6308-475c-b5d3-5c35ed84f177",
   "metadata": {
    "execution": {
     "iopub.execute_input": "2024-06-18T21:36:10.229066Z",
     "iopub.status.busy": "2024-06-18T21:36:10.228544Z",
     "iopub.status.idle": "2024-06-18T21:36:10.867691Z",
     "shell.execute_reply": "2024-06-18T21:36:10.867367Z",
     "shell.execute_reply.started": "2024-06-18T21:36:10.229039Z"
    }
   },
   "outputs": [
    {
     "name": "stdout",
     "output_type": "stream",
     "text": [
      "+-------------------+------------------------+------------------------+------------------------+\n",
      "|order_item_order_id|sum(order_item_order_id)|sum(order_item_quantity)|sum(order_item_subtotal)|\n",
      "+-------------------+------------------------+------------------------+------------------------+\n",
      "|                 29|                     145|                     9.0|                 1109.85|\n",
      "|                474|                    2370|                    13.0|       774.8199999999999|\n",
      "|                964|                    3856|                    11.0|       739.8800000000001|\n",
      "|               1677|                    8385|                    14.0|       649.9200000000001|\n",
      "|               1806|                    5418|                     8.0|                  789.94|\n",
      "|               1950|                    9750|                    12.0|      1015.8700000000001|\n",
      "|               2214|                    4428|                     5.0|                  449.96|\n",
      "|               2250|                    9000|                    10.0|                  889.94|\n",
      "|               2453|                    9812|                     7.0|       999.9300000000001|\n",
      "|               2509|                   10036|                     4.0|                  889.94|\n",
      "|               2529|                    2529|                     1.0|                   59.99|\n",
      "|               2927|                   14635|                     8.0|       999.9100000000001|\n",
      "|               3091|                    9273|                     5.0|      469.93000000000006|\n",
      "|               3764|                    3764|                     2.0|                   95.98|\n",
      "|               4590|                   22950|                    11.0|                  949.83|\n",
      "|               4894|                   19576|                     4.0|                  899.94|\n",
      "|               5385|                   21540|                    10.0|                  629.86|\n",
      "|               5409|                   16227|                     7.0|       699.9200000000001|\n",
      "|               6721|                   13442|                     3.0|                  139.99|\n",
      "|               7225|                   28900|                    11.0|                  774.86|\n",
      "+-------------------+------------------------+------------------------+------------------------+\n",
      "only showing top 20 rows\n",
      "\n",
      "+-------------------+------------------------+------------------------+\n",
      "|order_item_order_id|sum(order_item_quantity)|sum(order_item_subtotal)|\n",
      "+-------------------+------------------------+------------------------+\n",
      "|                 29|                     9.0|                 1109.85|\n",
      "|                474|                    13.0|       774.8199999999999|\n",
      "|                964|                    11.0|       739.8800000000001|\n",
      "|               1677|                    14.0|       649.9200000000001|\n",
      "|               1806|                     8.0|                  789.94|\n",
      "|               1950|                    12.0|      1015.8700000000001|\n",
      "|               2214|                     5.0|                  449.96|\n",
      "|               2250|                    10.0|                  889.94|\n",
      "|               2453|                     7.0|       999.9300000000001|\n",
      "|               2509|                     4.0|                  889.94|\n",
      "|               2529|                     1.0|                   59.99|\n",
      "|               2927|                     8.0|       999.9100000000001|\n",
      "|               3091|                     5.0|      469.93000000000006|\n",
      "|               3764|                     2.0|                   95.98|\n",
      "|               4590|                    11.0|                  949.83|\n",
      "|               4894|                     4.0|                  899.94|\n",
      "|               5385|                    10.0|                  629.86|\n",
      "|               5409|                     7.0|       699.9200000000001|\n",
      "|               6721|                     3.0|                  139.99|\n",
      "|               7225|                    11.0|                  774.86|\n",
      "+-------------------+------------------------+------------------------+\n",
      "only showing top 20 rows\n",
      "\n",
      "+-------------------+--------------+-------------+\n",
      "|order_item_quantity|order_quantity|order_revenue|\n",
      "+-------------------+--------------+-------------+\n",
      "|                 29|           9.0|      1109.85|\n",
      "|                474|          13.0|       774.82|\n",
      "|                964|          11.0|       739.88|\n",
      "|               1677|          14.0|       649.92|\n",
      "|               1806|           8.0|       789.94|\n",
      "|               1950|          12.0|      1015.87|\n",
      "|               2214|           5.0|       449.96|\n",
      "|               2250|          10.0|       889.94|\n",
      "|               2453|           7.0|       999.93|\n",
      "|               2509|           4.0|       889.94|\n",
      "|               2529|           1.0|        59.99|\n",
      "|               2927|           8.0|       999.91|\n",
      "|               3091|           5.0|       469.93|\n",
      "|               3764|           2.0|        95.98|\n",
      "|               4590|          11.0|       949.83|\n",
      "|               4894|           4.0|       899.94|\n",
      "|               5385|          10.0|       629.86|\n",
      "|               5409|           7.0|       699.92|\n",
      "|               6721|           3.0|       139.99|\n",
      "|               7225|          11.0|       774.86|\n",
      "+-------------------+--------------+-------------+\n",
      "only showing top 20 rows\n",
      "\n"
     ]
    }
   ],
   "source": [
    "order_items_grouped.sum().show()\n",
    "order_items_grouped.sum('order_item_quantity', 'order_item_subtotal').show()\n",
    "\n",
    "from pyspark.sql.functions import round\n",
    "order_items_grouped. \\\n",
    "    sum('order_item_quantity', 'order_item_subtotal'). \\\n",
    "    toDF('order_item_quantity', 'order_quantity', 'order_revenue'). \\\n",
    "    withColumn('order_revenue', round('order_revenue', 2)). \\\n",
    "    show()"
   ]
  },
  {
   "cell_type": "markdown",
   "id": "a1b71000-5b57-4364-bea2-45fa7bbd8710",
   "metadata": {},
   "source": [
    "## Grouped aggregations using `agg` on a Spark Data Frame"
   ]
  },
  {
   "cell_type": "code",
   "execution_count": 90,
   "id": "166db90c-e3a8-4757-8c9a-530a4981054e",
   "metadata": {
    "execution": {
     "iopub.execute_input": "2024-06-18T21:39:25.921061Z",
     "iopub.status.busy": "2024-06-18T21:39:25.920284Z",
     "iopub.status.idle": "2024-06-18T21:39:25.938909Z",
     "shell.execute_reply": "2024-06-18T21:39:25.938000Z",
     "shell.execute_reply.started": "2024-06-18T21:39:25.921011Z"
    }
   },
   "outputs": [],
   "source": [
    "order_item_grouped = order_items. \\\n",
    "    groupBy('order_item_order_id')"
   ]
  },
  {
   "cell_type": "code",
   "execution_count": 94,
   "id": "29228d5c-3d70-4f3a-969c-a61d0b0ff51c",
   "metadata": {
    "execution": {
     "iopub.execute_input": "2024-06-18T21:40:55.823180Z",
     "iopub.status.busy": "2024-06-18T21:40:55.822344Z",
     "iopub.status.idle": "2024-06-18T21:40:56.045292Z",
     "shell.execute_reply": "2024-06-18T21:40:56.045039Z",
     "shell.execute_reply.started": "2024-06-18T21:40:55.823131Z"
    }
   },
   "outputs": [
    {
     "name": "stdout",
     "output_type": "stream",
     "text": [
      "+-------------------+------------------------+------------------------+\n",
      "|order_item_order_id|sum(order_item_quantity)|sum(order_item_subtotal)|\n",
      "+-------------------+------------------------+------------------------+\n",
      "|                 29|                     9.0|                 1109.85|\n",
      "|                474|                    13.0|       774.8199999999999|\n",
      "|                964|                    11.0|       739.8800000000001|\n",
      "|               1677|                    14.0|       649.9200000000001|\n",
      "|               1806|                     8.0|                  789.94|\n",
      "|               1950|                    12.0|      1015.8700000000001|\n",
      "|               2214|                     5.0|                  449.96|\n",
      "|               2250|                    10.0|                  889.94|\n",
      "|               2453|                     7.0|       999.9300000000001|\n",
      "|               2509|                     4.0|                  889.94|\n",
      "|               2529|                     1.0|                   59.99|\n",
      "|               2927|                     8.0|       999.9100000000001|\n",
      "|               3091|                     5.0|      469.93000000000006|\n",
      "|               3764|                     2.0|                   95.98|\n",
      "|               4590|                    11.0|                  949.83|\n",
      "|               4894|                     4.0|                  899.94|\n",
      "|               5385|                    10.0|                  629.86|\n",
      "|               5409|                     7.0|       699.9200000000001|\n",
      "|               6721|                     3.0|                  139.99|\n",
      "|               7225|                    11.0|                  774.86|\n",
      "+-------------------+------------------------+------------------------+\n",
      "only showing top 20 rows\n",
      "\n"
     ]
    }
   ],
   "source": [
    "order_items_grouped.sum('order_item_quantity', 'order_item_subtotal').show()"
   ]
  },
  {
   "cell_type": "code",
   "execution_count": 98,
   "id": "180e0acf-ded9-4768-bc25-86644961d2e5",
   "metadata": {
    "execution": {
     "iopub.execute_input": "2024-06-18T21:44:52.586445Z",
     "iopub.status.busy": "2024-06-18T21:44:52.585720Z",
     "iopub.status.idle": "2024-06-18T21:44:52.966144Z",
     "shell.execute_reply": "2024-06-18T21:44:52.965913Z",
     "shell.execute_reply.started": "2024-06-18T21:44:52.586372Z"
    }
   },
   "outputs": [
    {
     "name": "stdout",
     "output_type": "stream",
     "text": [
      "+-------------------+------------------------+------------------------+\n",
      "|order_item_order_id|sum(order_item_quantity)|sum(order_item_subtotal)|\n",
      "+-------------------+------------------------+------------------------+\n",
      "|                 29|                     9.0|                 1109.85|\n",
      "|                474|                    13.0|       774.8199999999999|\n",
      "|                964|                    11.0|       739.8800000000001|\n",
      "|               1677|                    14.0|       649.9200000000001|\n",
      "|               1806|                     8.0|                  789.94|\n",
      "|               1950|                    12.0|      1015.8700000000001|\n",
      "|               2214|                     5.0|                  449.96|\n",
      "|               2250|                    10.0|                  889.94|\n",
      "|               2453|                     7.0|       999.9300000000001|\n",
      "|               2509|                     4.0|                  889.94|\n",
      "|               2529|                     1.0|                   59.99|\n",
      "|               2927|                     8.0|       999.9100000000001|\n",
      "|               3091|                     5.0|      469.93000000000006|\n",
      "|               3764|                     2.0|                   95.98|\n",
      "|               4590|                    11.0|                  949.83|\n",
      "|               4894|                     4.0|                  899.94|\n",
      "|               5385|                    10.0|                  629.86|\n",
      "|               5409|                     7.0|       699.9200000000001|\n",
      "|               6721|                     3.0|                  139.99|\n",
      "|               7225|                    11.0|                  774.86|\n",
      "+-------------------+------------------------+------------------------+\n",
      "only showing top 20 rows\n",
      "\n",
      "+-------------------+--------------+-------------+\n",
      "|order_item_order_id|order_quantity|order_revenue|\n",
      "+-------------------+--------------+-------------+\n",
      "|                 29|           9.0|      1109.85|\n",
      "|                474|          13.0|       774.82|\n",
      "|                964|          11.0|       739.88|\n",
      "|               1677|          14.0|       649.92|\n",
      "|               1806|           8.0|       789.94|\n",
      "|               1950|          12.0|      1015.87|\n",
      "|               2214|           5.0|       449.96|\n",
      "|               2250|          10.0|       889.94|\n",
      "|               2453|           7.0|       999.93|\n",
      "|               2509|           4.0|       889.94|\n",
      "|               2529|           1.0|        59.99|\n",
      "|               2927|           8.0|       999.91|\n",
      "|               3091|           5.0|       469.93|\n",
      "|               3764|           2.0|        95.98|\n",
      "|               4590|          11.0|       949.83|\n",
      "|               4894|           4.0|       899.94|\n",
      "|               5385|          10.0|       629.86|\n",
      "|               5409|           7.0|       699.92|\n",
      "|               6721|           3.0|       139.99|\n",
      "|               7225|          11.0|       774.86|\n",
      "+-------------------+--------------+-------------+\n",
      "only showing top 20 rows\n",
      "\n"
     ]
    }
   ],
   "source": [
    "order_items_grouped.agg(sum('order_item_quantity'), sum('order_item_subtotal')).show()\n",
    "order_items_grouped.agg(sum('order_item_quantity').alias('order_quantity'), round(sum('order_item_subtotal'), 2).alias('order_revenue')).show()"
   ]
  },
  {
   "cell_type": "code",
   "execution_count": 102,
   "id": "6aac1940-ed75-43c2-8d79-cfddf35828f4",
   "metadata": {
    "execution": {
     "iopub.execute_input": "2024-06-18T21:50:57.335399Z",
     "iopub.status.busy": "2024-06-18T21:50:57.334796Z",
     "iopub.status.idle": "2024-06-18T21:50:57.763835Z",
     "shell.execute_reply": "2024-06-18T21:50:57.763258Z",
     "shell.execute_reply.started": "2024-06-18T21:50:57.335368Z"
    }
   },
   "outputs": [
    {
     "name": "stdout",
     "output_type": "stream",
     "text": [
      "+-------------------+------------------------+------------------------+\n",
      "|order_item_order_id|sum(order_item_subtotal)|sum(order_item_quantity)|\n",
      "+-------------------+------------------------+------------------------+\n",
      "|                 29|                 1109.85|                     9.0|\n",
      "|                474|       774.8199999999999|                    13.0|\n",
      "|                964|       739.8800000000001|                    11.0|\n",
      "|               1677|       649.9200000000001|                    14.0|\n",
      "|               1806|                  789.94|                     8.0|\n",
      "|               1950|      1015.8700000000001|                    12.0|\n",
      "|               2214|                  449.96|                     5.0|\n",
      "|               2250|                  889.94|                    10.0|\n",
      "|               2453|       999.9300000000001|                     7.0|\n",
      "|               2509|                  889.94|                     4.0|\n",
      "|               2529|                   59.99|                     1.0|\n",
      "|               2927|       999.9100000000001|                     8.0|\n",
      "|               3091|      469.93000000000006|                     5.0|\n",
      "|               3764|                   95.98|                     2.0|\n",
      "|               4590|                  949.83|                    11.0|\n",
      "|               4894|                  899.94|                     4.0|\n",
      "|               5385|                  629.86|                    10.0|\n",
      "|               5409|       699.9200000000001|                     7.0|\n",
      "|               6721|                  139.99|                     3.0|\n",
      "|               7225|                  774.86|                    11.0|\n",
      "+-------------------+------------------------+------------------------+\n",
      "only showing top 20 rows\n",
      "\n",
      "+--------+-------------+--------------+\n",
      "|order_id|order_revenue|order_quantity|\n",
      "+--------+-------------+--------------+\n",
      "|      29|      1109.85|           9.0|\n",
      "|     474|       774.82|          13.0|\n",
      "|     964|       739.88|          11.0|\n",
      "|    1677|       649.92|          14.0|\n",
      "|    1806|       789.94|           8.0|\n",
      "|    1950|      1015.87|          12.0|\n",
      "|    2214|       449.96|           5.0|\n",
      "|    2250|       889.94|          10.0|\n",
      "|    2453|       999.93|           7.0|\n",
      "|    2509|       889.94|           4.0|\n",
      "|    2529|        59.99|           1.0|\n",
      "|    2927|       999.91|           8.0|\n",
      "|    3091|       469.93|           5.0|\n",
      "|    3764|        95.98|           2.0|\n",
      "|    4590|       949.83|          11.0|\n",
      "|    4894|       899.94|           4.0|\n",
      "|    5385|       629.86|          10.0|\n",
      "|    5409|       699.92|           7.0|\n",
      "|    6721|       139.99|           3.0|\n",
      "|    7225|       774.86|          11.0|\n",
      "+--------+-------------+--------------+\n",
      "only showing top 20 rows\n",
      "\n"
     ]
    }
   ],
   "source": [
    "order_items_grouped.agg({'order_item_quantity': 'sum', 'order_item_subtotal': 'sum'}).show()\n",
    "order_items_grouped. \\\n",
    "    agg({'order_item_quantity': 'sum', 'order_item_subtotal': 'sum'}). \\\n",
    "    toDF('order_id', 'order_revenue', 'order_quantity',). \\\n",
    "    withColumn('order_revenue', round('order_revenue', 2)). \\\n",
    "    show()"
   ]
  },
  {
   "cell_type": "code",
   "execution_count": 107,
   "id": "881eb145-2ac7-4630-b66f-43c1c9620e6f",
   "metadata": {
    "execution": {
     "iopub.execute_input": "2024-06-18T21:57:54.941470Z",
     "iopub.status.busy": "2024-06-18T21:57:54.940798Z",
     "iopub.status.idle": "2024-06-18T21:57:55.300394Z",
     "shell.execute_reply": "2024-06-18T21:57:55.300161Z",
     "shell.execute_reply.started": "2024-06-18T21:57:54.941425Z"
    }
   },
   "outputs": [
    {
     "name": "stdout",
     "output_type": "stream",
     "text": [
      "+-------------------+------------------------+\n",
      "|order_item_order_id|min(order_item_quantity)|\n",
      "+-------------------+------------------------+\n",
      "|                 29|                     1.0|\n",
      "|                474|                     1.0|\n",
      "|                964|                     1.0|\n",
      "|               1677|                     1.0|\n",
      "|               1806|                     1.0|\n",
      "|               1950|                     1.0|\n",
      "|               2214|                     1.0|\n",
      "|               2250|                     1.0|\n",
      "|               2453|                     1.0|\n",
      "|               2509|                     1.0|\n",
      "|               2529|                     1.0|\n",
      "|               2927|                     1.0|\n",
      "|               3091|                     1.0|\n",
      "|               3764|                     2.0|\n",
      "|               4590|                     1.0|\n",
      "|               4894|                     1.0|\n",
      "|               5385|                     1.0|\n",
      "|               5409|                     1.0|\n",
      "|               6721|                     1.0|\n",
      "|               7225|                     1.0|\n",
      "+-------------------+------------------------+\n",
      "only showing top 20 rows\n",
      "\n",
      "+-------------------+------------------------+------------------------+\n",
      "|order_item_order_id|sum(order_item_quantity)|min(order_item_quantity)|\n",
      "+-------------------+------------------------+------------------------+\n",
      "|                 29|                     9.0|                     1.0|\n",
      "|                474|                    13.0|                     1.0|\n",
      "|                964|                    11.0|                     1.0|\n",
      "|               1677|                    14.0|                     1.0|\n",
      "|               1806|                     8.0|                     1.0|\n",
      "|               1950|                    12.0|                     1.0|\n",
      "|               2214|                     5.0|                     1.0|\n",
      "|               2250|                    10.0|                     1.0|\n",
      "|               2453|                     7.0|                     1.0|\n",
      "|               2509|                     4.0|                     1.0|\n",
      "|               2529|                     1.0|                     1.0|\n",
      "|               2927|                     8.0|                     1.0|\n",
      "|               3091|                     5.0|                     1.0|\n",
      "|               3764|                     2.0|                     2.0|\n",
      "|               4590|                    11.0|                     1.0|\n",
      "|               4894|                     4.0|                     1.0|\n",
      "|               5385|                    10.0|                     1.0|\n",
      "|               5409|                     7.0|                     1.0|\n",
      "|               6721|                     3.0|                     1.0|\n",
      "|               7225|                    11.0|                     1.0|\n",
      "+-------------------+------------------------+------------------------+\n",
      "only showing top 20 rows\n",
      "\n"
     ]
    }
   ],
   "source": [
    "# keys are to be unique\n",
    "order_items_grouped. \\\n",
    "    agg({'order_item_quantity': 'sum', 'order_item_quantity': 'min'}). \\\n",
    "    show()\n",
    "# column approach is to be used in case we want to repeat the key\n",
    "from pyspark.sql.functions import min\n",
    "order_items_grouped. \\\n",
    "    agg(\n",
    "        sum('order_item_quantity'), \n",
    "        min('order_item_quantity')\n",
    "    ). \\\n",
    "    show()\n",
    "\n"
   ]
  }
 ],
 "metadata": {
  "kernelspec": {
   "display_name": "Python 3 (ipykernel)",
   "language": "python",
   "name": "python3"
  },
  "language_info": {
   "codemirror_mode": {
    "name": "ipython",
    "version": 3
   },
   "file_extension": ".py",
   "mimetype": "text/x-python",
   "name": "python",
   "nbconvert_exporter": "python",
   "pygments_lexer": "ipython3",
   "version": "3.11.9"
  }
 },
 "nbformat": 4,
 "nbformat_minor": 5
}
