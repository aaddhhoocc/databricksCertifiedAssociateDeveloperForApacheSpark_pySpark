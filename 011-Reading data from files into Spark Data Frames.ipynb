{
 "cells": [
  {
   "cell_type": "code",
   "execution_count": 1,
   "id": "13602265-0c88-41c4-b03b-466a97e7d48e",
   "metadata": {
    "execution": {
     "iopub.execute_input": "2024-06-23T09:54:00.749463Z",
     "iopub.status.busy": "2024-06-23T09:54:00.748627Z",
     "iopub.status.idle": "2024-06-23T09:54:07.827427Z",
     "shell.execute_reply": "2024-06-23T09:54:07.827032Z",
     "shell.execute_reply.started": "2024-06-23T09:54:00.749419Z"
    }
   },
   "outputs": [
    {
     "name": "stderr",
     "output_type": "stream",
     "text": [
      "Setting default log level to \"WARN\".\n",
      "To adjust logging level use sc.setLogLevel(newLevel). For SparkR, use setLogLevel(newLevel).\n",
      "24/06/23 11:54:07 WARN NativeCodeLoader: Unable to load native-hadoop library for your platform... using builtin-java classes where applicable\n"
     ]
    }
   ],
   "source": [
    "from pyspark.sql import SparkSession\n",
    "spark = SparkSession.builder.appName('instance').getOrCreate()"
   ]
  },
  {
   "cell_type": "markdown",
   "id": "c4f256ed-ba47-48d4-8ed7-3ddc38a84532",
   "metadata": {
    "jp-MarkdownHeadingCollapsed": true
   },
   "source": [
    "## Validate datasets for reading from files using Spark API"
   ]
  },
  {
   "cell_type": "code",
   "execution_count": 29,
   "id": "595c3beb-5de9-478f-b038-067cec404208",
   "metadata": {
    "execution": {
     "iopub.execute_input": "2024-06-23T10:25:46.622838Z",
     "iopub.status.busy": "2024-06-23T10:25:46.622288Z",
     "iopub.status.idle": "2024-06-23T10:25:46.690606Z",
     "shell.execute_reply": "2024-06-23T10:25:46.690102Z",
     "shell.execute_reply.started": "2024-06-23T10:25:46.622805Z"
    }
   },
   "outputs": [
    {
     "name": "stdout",
     "output_type": "stream",
     "text": [
      "+--------+-------------------+-----------------+---------------+\n",
      "|order_id|         order_date|order_customer_id|   order_status|\n",
      "+--------+-------------------+-----------------+---------------+\n",
      "|       1|2013-07-25 00:00:00|            11599|         CLOSED|\n",
      "|       2|2013-07-25 00:00:00|              256|PENDING_PAYMENT|\n",
      "|       3|2013-07-25 00:00:00|            12111|       COMPLETE|\n",
      "|       4|2013-07-25 00:00:00|             8827|         CLOSED|\n",
      "|       5|2013-07-25 00:00:00|            11318|       COMPLETE|\n",
      "|       6|2013-07-25 00:00:00|             7130|       COMPLETE|\n",
      "|       7|2013-07-25 00:00:00|             4530|       COMPLETE|\n",
      "|       8|2013-07-25 00:00:00|             2911|     PROCESSING|\n",
      "|       9|2013-07-25 00:00:00|             5657|PENDING_PAYMENT|\n",
      "|      10|2013-07-25 00:00:00|             5648|PENDING_PAYMENT|\n",
      "|      11|2013-07-25 00:00:00|              918| PAYMENT_REVIEW|\n",
      "|      12|2013-07-25 00:00:00|             1837|         CLOSED|\n",
      "|      13|2013-07-25 00:00:00|             9149|PENDING_PAYMENT|\n",
      "|      14|2013-07-25 00:00:00|             9842|     PROCESSING|\n",
      "|      15|2013-07-25 00:00:00|             2568|       COMPLETE|\n",
      "|      16|2013-07-25 00:00:00|             7276|PENDING_PAYMENT|\n",
      "|      17|2013-07-25 00:00:00|             2667|       COMPLETE|\n",
      "|      18|2013-07-25 00:00:00|             1205|         CLOSED|\n",
      "|      19|2013-07-25 00:00:00|             9488|PENDING_PAYMENT|\n",
      "|      20|2013-07-25 00:00:00|             9198|     PROCESSING|\n",
      "+--------+-------------------+-----------------+---------------+\n",
      "only showing top 20 rows\n",
      "\n",
      "root\n",
      " |-- order_id: integer (nullable = true)\n",
      " |-- order_date: timestamp (nullable = true)\n",
      " |-- order_customer_id: integer (nullable = true)\n",
      " |-- order_status: string (nullable = true)\n",
      "\n"
     ]
    },
    {
     "data": {
      "text/plain": [
       "[('order_id', 'int'),\n",
       " ('order_date', 'timestamp'),\n",
       " ('order_customer_id', 'int'),\n",
       " ('order_status', 'string')]"
      ]
     },
     "execution_count": 29,
     "metadata": {},
     "output_type": "execute_result"
    }
   ],
   "source": [
    "schema = \"\"\"\n",
    "    order_id INT,\n",
    "    order_date TIMESTAMP,\n",
    "    order_customer_id INT,\n",
    "    order_status STRING\n",
    "\"\"\"\n",
    "orders = spark.read.schema(schema).csv('/Users/adhoc/git/retail_db/orders/*')\n",
    "orders.show()\n",
    "orders.printSchema()\n",
    "orders.dtypes"
   ]
  },
  {
   "cell_type": "markdown",
   "id": "08bb0e64-3ec7-4dfe-9555-1fc701c81769",
   "metadata": {},
   "source": [
    "## Convert data to json and parquet using Spark API"
   ]
  },
  {
   "cell_type": "code",
   "execution_count": 64,
   "id": "1c05e2ee-92b2-4aaa-8ff4-6a9460cec09a",
   "metadata": {
    "execution": {
     "iopub.execute_input": "2024-06-23T11:09:17.783798Z",
     "iopub.status.busy": "2024-06-23T11:09:17.783030Z",
     "iopub.status.idle": "2024-06-23T11:09:17.803986Z",
     "shell.execute_reply": "2024-06-23T11:09:17.802785Z",
     "shell.execute_reply.started": "2024-06-23T11:09:17.783768Z"
    }
   },
   "outputs": [
    {
     "data": {
      "text/plain": [
       "('/Users/adhoc/git/retail_db/orders',\n",
       " '/Users/adhoc/git/retail_db/parquet/orders',\n",
       " '/Users/adhoc/git/retail_db/json/orders')"
      ]
     },
     "execution_count": 64,
     "metadata": {},
     "output_type": "execute_result"
    }
   ],
   "source": [
    "username = 'adhoc'\n",
    "\n",
    "input_dir = f'/Users/{username}/git/retail_db/orders'\n",
    "output_parquet_dir = f'/Users/{username}/git/retail_db/parquet/orders'\n",
    "output_json_dir = f'/Users/{username}/git/retail_db/json/orders'\n",
    "input_dir, output_parquet_dir, output_json_dir"
   ]
  },
  {
   "cell_type": "code",
   "execution_count": 30,
   "id": "34c515cc-829d-450b-be15-34deb628e0fa",
   "metadata": {
    "execution": {
     "iopub.execute_input": "2024-06-23T10:26:00.693789Z",
     "iopub.status.busy": "2024-06-23T10:26:00.693182Z",
     "iopub.status.idle": "2024-06-23T10:26:01.099317Z",
     "shell.execute_reply": "2024-06-23T10:26:01.099009Z",
     "shell.execute_reply.started": "2024-06-23T10:26:00.693752Z"
    }
   },
   "outputs": [],
   "source": [
    "df = spark.read.schema(schema).csv(input_dir)\n",
    "#df.coalesce(1).write.parquet(output_parquet_dir, mode='overwrite')\n",
    "#df.coalesce(1).write.json(output_json_dir, mode='overwrite')"
   ]
  },
  {
   "cell_type": "code",
   "execution_count": 28,
   "id": "8d7034cf-d945-4946-b944-3115818b9fe5",
   "metadata": {
    "execution": {
     "iopub.execute_input": "2024-06-22T11:08:16.386292Z",
     "iopub.status.busy": "2024-06-22T11:08:16.385370Z",
     "iopub.status.idle": "2024-06-22T11:08:16.521682Z",
     "shell.execute_reply": "2024-06-22T11:08:16.521414Z",
     "shell.execute_reply.started": "2024-06-22T11:08:16.386248Z"
    }
   },
   "outputs": [
    {
     "name": "stdout",
     "output_type": "stream",
     "text": [
      "+--------+-------------------+-----------------+---------------+\n",
      "|order_id|         order_date|order_customer_id|   order_status|\n",
      "+--------+-------------------+-----------------+---------------+\n",
      "|       1|2013-07-25 00:00:00|            11599|         CLOSED|\n",
      "|       2|2013-07-25 00:00:00|              256|PENDING_PAYMENT|\n",
      "|       3|2013-07-25 00:00:00|            12111|       COMPLETE|\n",
      "|       4|2013-07-25 00:00:00|             8827|         CLOSED|\n",
      "|       5|2013-07-25 00:00:00|            11318|       COMPLETE|\n",
      "|       6|2013-07-25 00:00:00|             7130|       COMPLETE|\n",
      "|       7|2013-07-25 00:00:00|             4530|       COMPLETE|\n",
      "|       8|2013-07-25 00:00:00|             2911|     PROCESSING|\n",
      "|       9|2013-07-25 00:00:00|             5657|PENDING_PAYMENT|\n",
      "|      10|2013-07-25 00:00:00|             5648|PENDING_PAYMENT|\n",
      "|      11|2013-07-25 00:00:00|              918| PAYMENT_REVIEW|\n",
      "|      12|2013-07-25 00:00:00|             1837|         CLOSED|\n",
      "|      13|2013-07-25 00:00:00|             9149|PENDING_PAYMENT|\n",
      "|      14|2013-07-25 00:00:00|             9842|     PROCESSING|\n",
      "|      15|2013-07-25 00:00:00|             2568|       COMPLETE|\n",
      "|      16|2013-07-25 00:00:00|             7276|PENDING_PAYMENT|\n",
      "|      17|2013-07-25 00:00:00|             2667|       COMPLETE|\n",
      "|      18|2013-07-25 00:00:00|             1205|         CLOSED|\n",
      "|      19|2013-07-25 00:00:00|             9488|PENDING_PAYMENT|\n",
      "|      20|2013-07-25 00:00:00|             9198|     PROCESSING|\n",
      "+--------+-------------------+-----------------+---------------+\n",
      "only showing top 20 rows\n",
      "\n"
     ]
    },
    {
     "data": {
      "text/plain": [
       "[('order_id', 'int'),\n",
       " ('order_date', 'timestamp'),\n",
       " ('order_customer_id', 'int'),\n",
       " ('order_status', 'string')]"
      ]
     },
     "execution_count": 28,
     "metadata": {},
     "output_type": "execute_result"
    }
   ],
   "source": [
    "orders = spark.read.parquet(output_dir)\n",
    "orders.show()\n",
    "orders.dtypes"
   ]
  },
  {
   "cell_type": "markdown",
   "id": "233a06f2-2cb9-4f21-af6b-d73c39cb02bb",
   "metadata": {
    "jp-MarkdownHeadingCollapsed": true
   },
   "source": [
    "## Convert comma separated files to pipe separated files using Spark API"
   ]
  },
  {
   "cell_type": "code",
   "execution_count": 29,
   "id": "877d83e7-c292-4ff1-8dc8-3c9847fccf8e",
   "metadata": {
    "execution": {
     "iopub.execute_input": "2024-06-22T12:27:30.124457Z",
     "iopub.status.busy": "2024-06-22T12:27:30.122002Z",
     "iopub.status.idle": "2024-06-22T12:27:30.570847Z",
     "shell.execute_reply": "2024-06-22T12:27:30.570546Z",
     "shell.execute_reply.started": "2024-06-22T12:27:30.124208Z"
    }
   },
   "outputs": [],
   "source": [
    "input_dir = '/Users/adhoc/git/retail_db/orders'\n",
    "output_dir = '/Users/adhoc/git/retail_db/csv/pipe/orders'\n",
    "\n",
    "df = spark.read.schema(schema).csv(input_dir)\n",
    "df.coalesce(1).write.mode('overwrite').csv(output_dir, sep='|')"
   ]
  },
  {
   "cell_type": "code",
   "execution_count": 31,
   "id": "a1767086-86db-4118-98f4-e7150a3ad89e",
   "metadata": {
    "execution": {
     "iopub.execute_input": "2024-06-22T12:30:23.258330Z",
     "iopub.status.busy": "2024-06-22T12:30:23.257642Z",
     "iopub.status.idle": "2024-06-22T12:30:23.359821Z",
     "shell.execute_reply": "2024-06-22T12:30:23.359424Z",
     "shell.execute_reply.started": "2024-06-22T12:30:23.258304Z"
    }
   },
   "outputs": [
    {
     "name": "stdout",
     "output_type": "stream",
     "text": [
      "+--------+-------------------+-----------------+---------------+\n",
      "|order_id|         order_date|order_customer_id|   order_status|\n",
      "+--------+-------------------+-----------------+---------------+\n",
      "|       1|2013-07-25 00:00:00|            11599|         CLOSED|\n",
      "|       2|2013-07-25 00:00:00|              256|PENDING_PAYMENT|\n",
      "|       3|2013-07-25 00:00:00|            12111|       COMPLETE|\n",
      "|       4|2013-07-25 00:00:00|             8827|         CLOSED|\n",
      "|       5|2013-07-25 00:00:00|            11318|       COMPLETE|\n",
      "|       6|2013-07-25 00:00:00|             7130|       COMPLETE|\n",
      "|       7|2013-07-25 00:00:00|             4530|       COMPLETE|\n",
      "|       8|2013-07-25 00:00:00|             2911|     PROCESSING|\n",
      "|       9|2013-07-25 00:00:00|             5657|PENDING_PAYMENT|\n",
      "|      10|2013-07-25 00:00:00|             5648|PENDING_PAYMENT|\n",
      "|      11|2013-07-25 00:00:00|              918| PAYMENT_REVIEW|\n",
      "|      12|2013-07-25 00:00:00|             1837|         CLOSED|\n",
      "|      13|2013-07-25 00:00:00|             9149|PENDING_PAYMENT|\n",
      "|      14|2013-07-25 00:00:00|             9842|     PROCESSING|\n",
      "|      15|2013-07-25 00:00:00|             2568|       COMPLETE|\n",
      "|      16|2013-07-25 00:00:00|             7276|PENDING_PAYMENT|\n",
      "|      17|2013-07-25 00:00:00|             2667|       COMPLETE|\n",
      "|      18|2013-07-25 00:00:00|             1205|         CLOSED|\n",
      "|      19|2013-07-25 00:00:00|             9488|PENDING_PAYMENT|\n",
      "|      20|2013-07-25 00:00:00|             9198|     PROCESSING|\n",
      "+--------+-------------------+-----------------+---------------+\n",
      "only showing top 20 rows\n",
      "\n"
     ]
    }
   ],
   "source": [
    "#spark.read.schema(schema).csv(output_dir).show() #nimported as NULLs due to invalid separator\n",
    "spark.read.schema(schema).csv(output_dir, sep='|').show()"
   ]
  },
  {
   "cell_type": "markdown",
   "id": "4ea45f25-ae2d-4391-8e40-cb33b8c30297",
   "metadata": {
    "jp-MarkdownHeadingCollapsed": true
   },
   "source": [
    "## Overview of Reading Data Files into Spark Data Frames\n",
    "* reading files direct API such as `json`, `csv` under `spark.read`\n",
    "* reading files using `format` and `load` under `spark.read`\n",
    "* specifying options as arguments as well as functions such as `option` and `options`\n",
    "* supported file formats: `csv`, `text`, `json`, `parquet`, `orc` for `avro`, `xml` additional modules required\n",
    "* for certification imporatant formats are `csv`, `json`, `parquet`\n",
    "* reading compressed files  "
   ]
  },
  {
   "cell_type": "markdown",
   "id": "a6f19253-854c-448d-bcd2-5f6e7d16f7f5",
   "metadata": {
    "jp-MarkdownHeadingCollapsed": true
   },
   "source": [
    "## Steps to follow to read data from files into Spark Data Frame\n",
    "* Check if the files are compressed (`gz`, `bzip2`, `snappy`, etc.) - `gz` and `snappy` are the most common ones\n",
    "* Understand the file format (`txt`, `json`, `avro`, `parquet`, `orc`, etc.) - sometimes file extension is not present\n",
    "* For `text` or `csv` determine the right separator\n",
    "* Use appropriate API under `spark.read`"
   ]
  },
  {
   "cell_type": "code",
   "execution_count": 3,
   "id": "06be225d-9eec-40d9-810e-7c4eb7e30dfa",
   "metadata": {
    "execution": {
     "iopub.execute_input": "2024-06-22T18:23:07.321684Z",
     "iopub.status.busy": "2024-06-22T18:23:07.321106Z",
     "iopub.status.idle": "2024-06-22T18:23:07.424058Z",
     "shell.execute_reply": "2024-06-22T18:23:07.423782Z",
     "shell.execute_reply.started": "2024-06-22T18:23:07.321653Z"
    }
   },
   "outputs": [
    {
     "name": "stdout",
     "output_type": "stream",
     "text": [
      "+---------------------------------------------+\n",
      "|value                                        |\n",
      "+---------------------------------------------+\n",
      "|1,2013-07-25 00:00:00.0,11599,CLOSED         |\n",
      "|2,2013-07-25 00:00:00.0,256,PENDING_PAYMENT  |\n",
      "|3,2013-07-25 00:00:00.0,12111,COMPLETE       |\n",
      "|4,2013-07-25 00:00:00.0,8827,CLOSED          |\n",
      "|5,2013-07-25 00:00:00.0,11318,COMPLETE       |\n",
      "|6,2013-07-25 00:00:00.0,7130,COMPLETE        |\n",
      "|7,2013-07-25 00:00:00.0,4530,COMPLETE        |\n",
      "|8,2013-07-25 00:00:00.0,2911,PROCESSING      |\n",
      "|9,2013-07-25 00:00:00.0,5657,PENDING_PAYMENT |\n",
      "|10,2013-07-25 00:00:00.0,5648,PENDING_PAYMENT|\n",
      "|11,2013-07-25 00:00:00.0,918,PAYMENT_REVIEW  |\n",
      "|12,2013-07-25 00:00:00.0,1837,CLOSED         |\n",
      "|13,2013-07-25 00:00:00.0,9149,PENDING_PAYMENT|\n",
      "|14,2013-07-25 00:00:00.0,9842,PROCESSING     |\n",
      "|15,2013-07-25 00:00:00.0,2568,COMPLETE       |\n",
      "|16,2013-07-25 00:00:00.0,7276,PENDING_PAYMENT|\n",
      "|17,2013-07-25 00:00:00.0,2667,COMPLETE       |\n",
      "|18,2013-07-25 00:00:00.0,1205,CLOSED         |\n",
      "|19,2013-07-25 00:00:00.0,9488,PENDING_PAYMENT|\n",
      "|20,2013-07-25 00:00:00.0,9198,PROCESSING     |\n",
      "+---------------------------------------------+\n",
      "only showing top 20 rows\n",
      "\n"
     ]
    }
   ],
   "source": [
    "input_dir = '/Users/adhoc/git/retail_db/orders'\n",
    "spark.read.text(input_dir).show(truncate=False)"
   ]
  },
  {
   "cell_type": "markdown",
   "id": "ea335631-833c-43b9-b059-00aab295c75e",
   "metadata": {
    "jp-MarkdownHeadingCollapsed": true
   },
   "source": [
    "## Reading data from CSV files into Spark Data Frame\n",
    "* There are multiple approaches which can be used\n",
    "* Approach 1: spark.read.csv(`path_to_folder`)\n",
    "* Approach 2: spark.read.format('csv').load(`path_to_file`)\n",
    "* The schema can be specified explicitely using `string` or `StructType`\n",
    "* The delimiter separtor can be set explicitely the default one is `,`\n",
    "* If the files have header the Data Frame with schema can be created using `header` or `inferSchema` - it will pick up column names for the headers while the data types with be inferred based on the data\n",
    "* If the file does not have header the schema can be provided by passing column names using `toDF` and by using `inferSchema` option"
   ]
  },
  {
   "cell_type": "code",
   "execution_count": 6,
   "id": "887e20ee-2918-42d2-951b-b3cf744a599c",
   "metadata": {
    "execution": {
     "iopub.execute_input": "2024-06-22T18:44:11.061057Z",
     "iopub.status.busy": "2024-06-22T18:44:11.060404Z",
     "iopub.status.idle": "2024-06-22T18:44:11.284609Z",
     "shell.execute_reply": "2024-06-22T18:44:11.284340Z",
     "shell.execute_reply.started": "2024-06-22T18:44:11.061029Z"
    }
   },
   "outputs": [
    {
     "name": "stdout",
     "output_type": "stream",
     "text": [
      "+---+--------------------+-----+---------------+\n",
      "|_c0|                 _c1|  _c2|            _c3|\n",
      "+---+--------------------+-----+---------------+\n",
      "|  1|2013-07-25 00:00:...|11599|         CLOSED|\n",
      "|  2|2013-07-25 00:00:...|  256|PENDING_PAYMENT|\n",
      "|  3|2013-07-25 00:00:...|12111|       COMPLETE|\n",
      "|  4|2013-07-25 00:00:...| 8827|         CLOSED|\n",
      "|  5|2013-07-25 00:00:...|11318|       COMPLETE|\n",
      "|  6|2013-07-25 00:00:...| 7130|       COMPLETE|\n",
      "|  7|2013-07-25 00:00:...| 4530|       COMPLETE|\n",
      "|  8|2013-07-25 00:00:...| 2911|     PROCESSING|\n",
      "|  9|2013-07-25 00:00:...| 5657|PENDING_PAYMENT|\n",
      "| 10|2013-07-25 00:00:...| 5648|PENDING_PAYMENT|\n",
      "| 11|2013-07-25 00:00:...|  918| PAYMENT_REVIEW|\n",
      "| 12|2013-07-25 00:00:...| 1837|         CLOSED|\n",
      "| 13|2013-07-25 00:00:...| 9149|PENDING_PAYMENT|\n",
      "| 14|2013-07-25 00:00:...| 9842|     PROCESSING|\n",
      "| 15|2013-07-25 00:00:...| 2568|       COMPLETE|\n",
      "| 16|2013-07-25 00:00:...| 7276|PENDING_PAYMENT|\n",
      "| 17|2013-07-25 00:00:...| 2667|       COMPLETE|\n",
      "| 18|2013-07-25 00:00:...| 1205|         CLOSED|\n",
      "| 19|2013-07-25 00:00:...| 9488|PENDING_PAYMENT|\n",
      "| 20|2013-07-25 00:00:...| 9198|     PROCESSING|\n",
      "+---+--------------------+-----+---------------+\n",
      "only showing top 20 rows\n",
      "\n"
     ]
    },
    {
     "data": {
      "text/plain": [
       "[('_c0', 'string'), ('_c1', 'string'), ('_c2', 'string'), ('_c3', 'string')]"
      ]
     },
     "execution_count": 6,
     "metadata": {},
     "output_type": "execute_result"
    }
   ],
   "source": [
    "input_dir = '/Users/adhoc/git/retail_db/orders'\n",
    "spark.read.csv(input_dir).show()\n",
    "spark.read.csv(input_dir).dtypes"
   ]
  },
  {
   "cell_type": "markdown",
   "id": "fe7b0b92-5e21-442f-8648-b62fee4678af",
   "metadata": {},
   "source": [
    "## Specifying schema while reading csv files into Spark Data Frame"
   ]
  },
  {
   "cell_type": "code",
   "execution_count": 10,
   "id": "1d148b3a-cbde-46ca-bc49-aa25233b5a78",
   "metadata": {
    "execution": {
     "iopub.execute_input": "2024-06-22T18:49:34.942552Z",
     "iopub.status.busy": "2024-06-22T18:49:34.942018Z",
     "iopub.status.idle": "2024-06-22T18:49:35.115604Z",
     "shell.execute_reply": "2024-06-22T18:49:35.115386Z",
     "shell.execute_reply.started": "2024-06-22T18:49:34.942526Z"
    }
   },
   "outputs": [
    {
     "name": "stdout",
     "output_type": "stream",
     "text": [
      "+--------+-------------------+-----------------+---------------+\n",
      "|order_id|         order_date|order_customer_id|   order_status|\n",
      "+--------+-------------------+-----------------+---------------+\n",
      "|       1|2013-07-25 00:00:00|            11599|         CLOSED|\n",
      "|       2|2013-07-25 00:00:00|              256|PENDING_PAYMENT|\n",
      "|       3|2013-07-25 00:00:00|            12111|       COMPLETE|\n",
      "|       4|2013-07-25 00:00:00|             8827|         CLOSED|\n",
      "|       5|2013-07-25 00:00:00|            11318|       COMPLETE|\n",
      "|       6|2013-07-25 00:00:00|             7130|       COMPLETE|\n",
      "|       7|2013-07-25 00:00:00|             4530|       COMPLETE|\n",
      "|       8|2013-07-25 00:00:00|             2911|     PROCESSING|\n",
      "|       9|2013-07-25 00:00:00|             5657|PENDING_PAYMENT|\n",
      "|      10|2013-07-25 00:00:00|             5648|PENDING_PAYMENT|\n",
      "|      11|2013-07-25 00:00:00|              918| PAYMENT_REVIEW|\n",
      "|      12|2013-07-25 00:00:00|             1837|         CLOSED|\n",
      "|      13|2013-07-25 00:00:00|             9149|PENDING_PAYMENT|\n",
      "|      14|2013-07-25 00:00:00|             9842|     PROCESSING|\n",
      "|      15|2013-07-25 00:00:00|             2568|       COMPLETE|\n",
      "|      16|2013-07-25 00:00:00|             7276|PENDING_PAYMENT|\n",
      "|      17|2013-07-25 00:00:00|             2667|       COMPLETE|\n",
      "|      18|2013-07-25 00:00:00|             1205|         CLOSED|\n",
      "|      19|2013-07-25 00:00:00|             9488|PENDING_PAYMENT|\n",
      "|      20|2013-07-25 00:00:00|             9198|     PROCESSING|\n",
      "+--------+-------------------+-----------------+---------------+\n",
      "only showing top 20 rows\n",
      "\n",
      "+--------+-------------------+-----------------+---------------+\n",
      "|order_id|         order_date|order_customer_id|   order_status|\n",
      "+--------+-------------------+-----------------+---------------+\n",
      "|       1|2013-07-25 00:00:00|            11599|         CLOSED|\n",
      "|       2|2013-07-25 00:00:00|              256|PENDING_PAYMENT|\n",
      "|       3|2013-07-25 00:00:00|            12111|       COMPLETE|\n",
      "|       4|2013-07-25 00:00:00|             8827|         CLOSED|\n",
      "|       5|2013-07-25 00:00:00|            11318|       COMPLETE|\n",
      "|       6|2013-07-25 00:00:00|             7130|       COMPLETE|\n",
      "|       7|2013-07-25 00:00:00|             4530|       COMPLETE|\n",
      "|       8|2013-07-25 00:00:00|             2911|     PROCESSING|\n",
      "|       9|2013-07-25 00:00:00|             5657|PENDING_PAYMENT|\n",
      "|      10|2013-07-25 00:00:00|             5648|PENDING_PAYMENT|\n",
      "|      11|2013-07-25 00:00:00|              918| PAYMENT_REVIEW|\n",
      "|      12|2013-07-25 00:00:00|             1837|         CLOSED|\n",
      "|      13|2013-07-25 00:00:00|             9149|PENDING_PAYMENT|\n",
      "|      14|2013-07-25 00:00:00|             9842|     PROCESSING|\n",
      "|      15|2013-07-25 00:00:00|             2568|       COMPLETE|\n",
      "|      16|2013-07-25 00:00:00|             7276|PENDING_PAYMENT|\n",
      "|      17|2013-07-25 00:00:00|             2667|       COMPLETE|\n",
      "|      18|2013-07-25 00:00:00|             1205|         CLOSED|\n",
      "|      19|2013-07-25 00:00:00|             9488|PENDING_PAYMENT|\n",
      "|      20|2013-07-25 00:00:00|             9198|     PROCESSING|\n",
      "+--------+-------------------+-----------------+---------------+\n",
      "only showing top 20 rows\n",
      "\n",
      "+--------+-------------------+-----------------+---------------+\n",
      "|order_id|         order_date|order_customer_id|   order_status|\n",
      "+--------+-------------------+-----------------+---------------+\n",
      "|       1|2013-07-25 00:00:00|            11599|         CLOSED|\n",
      "|       2|2013-07-25 00:00:00|              256|PENDING_PAYMENT|\n",
      "|       3|2013-07-25 00:00:00|            12111|       COMPLETE|\n",
      "|       4|2013-07-25 00:00:00|             8827|         CLOSED|\n",
      "|       5|2013-07-25 00:00:00|            11318|       COMPLETE|\n",
      "|       6|2013-07-25 00:00:00|             7130|       COMPLETE|\n",
      "|       7|2013-07-25 00:00:00|             4530|       COMPLETE|\n",
      "|       8|2013-07-25 00:00:00|             2911|     PROCESSING|\n",
      "|       9|2013-07-25 00:00:00|             5657|PENDING_PAYMENT|\n",
      "|      10|2013-07-25 00:00:00|             5648|PENDING_PAYMENT|\n",
      "|      11|2013-07-25 00:00:00|              918| PAYMENT_REVIEW|\n",
      "|      12|2013-07-25 00:00:00|             1837|         CLOSED|\n",
      "|      13|2013-07-25 00:00:00|             9149|PENDING_PAYMENT|\n",
      "|      14|2013-07-25 00:00:00|             9842|     PROCESSING|\n",
      "|      15|2013-07-25 00:00:00|             2568|       COMPLETE|\n",
      "|      16|2013-07-25 00:00:00|             7276|PENDING_PAYMENT|\n",
      "|      17|2013-07-25 00:00:00|             2667|       COMPLETE|\n",
      "|      18|2013-07-25 00:00:00|             1205|         CLOSED|\n",
      "|      19|2013-07-25 00:00:00|             9488|PENDING_PAYMENT|\n",
      "|      20|2013-07-25 00:00:00|             9198|     PROCESSING|\n",
      "+--------+-------------------+-----------------+---------------+\n",
      "only showing top 20 rows\n",
      "\n"
     ]
    },
    {
     "data": {
      "text/plain": [
       "[('order_id', 'int'),\n",
       " ('order_date', 'timestamp'),\n",
       " ('order_customer_id', 'int'),\n",
       " ('order_status', 'string')]"
      ]
     },
     "execution_count": 10,
     "metadata": {},
     "output_type": "execute_result"
    }
   ],
   "source": [
    "input_dir = '/Users/adhoc/git/retail_db/orders'\n",
    "schema = \"\"\"\n",
    "    order_id INT,\n",
    "    order_date TIMESTAMP,\n",
    "    order_customer_id INT,\n",
    "    order_status STRING\n",
    "\"\"\"\n",
    "spark.read.schema(schema).csv(input_dir).show()\n",
    "spark.read.csv(input_dir, schema=schema).show()\n",
    "spark.read.format('csv').load(input_dir, schema=schema).show()\n",
    "spark.read.schema(schema).csv(input_dir).dtypes"
   ]
  },
  {
   "cell_type": "code",
   "execution_count": 15,
   "id": "c7504a11-4864-415f-af8b-5306abcdbe93",
   "metadata": {
    "execution": {
     "iopub.execute_input": "2024-06-22T21:06:38.228503Z",
     "iopub.status.busy": "2024-06-22T21:06:38.227518Z",
     "iopub.status.idle": "2024-06-22T21:06:38.340470Z",
     "shell.execute_reply": "2024-06-22T21:06:38.340176Z",
     "shell.execute_reply.started": "2024-06-22T21:06:38.228457Z"
    }
   },
   "outputs": [
    {
     "name": "stdout",
     "output_type": "stream",
     "text": [
      "+--------+-------------------+-----------------+---------------+\n",
      "|order_id|         order_date|order_customer_id|   order_status|\n",
      "+--------+-------------------+-----------------+---------------+\n",
      "|       1|2013-07-25 00:00:00|            11599|         CLOSED|\n",
      "|       2|2013-07-25 00:00:00|              256|PENDING_PAYMENT|\n",
      "|       3|2013-07-25 00:00:00|            12111|       COMPLETE|\n",
      "|       4|2013-07-25 00:00:00|             8827|         CLOSED|\n",
      "|       5|2013-07-25 00:00:00|            11318|       COMPLETE|\n",
      "|       6|2013-07-25 00:00:00|             7130|       COMPLETE|\n",
      "|       7|2013-07-25 00:00:00|             4530|       COMPLETE|\n",
      "|       8|2013-07-25 00:00:00|             2911|     PROCESSING|\n",
      "|       9|2013-07-25 00:00:00|             5657|PENDING_PAYMENT|\n",
      "|      10|2013-07-25 00:00:00|             5648|PENDING_PAYMENT|\n",
      "|      11|2013-07-25 00:00:00|              918| PAYMENT_REVIEW|\n",
      "|      12|2013-07-25 00:00:00|             1837|         CLOSED|\n",
      "|      13|2013-07-25 00:00:00|             9149|PENDING_PAYMENT|\n",
      "|      14|2013-07-25 00:00:00|             9842|     PROCESSING|\n",
      "|      15|2013-07-25 00:00:00|             2568|       COMPLETE|\n",
      "|      16|2013-07-25 00:00:00|             7276|PENDING_PAYMENT|\n",
      "|      17|2013-07-25 00:00:00|             2667|       COMPLETE|\n",
      "|      18|2013-07-25 00:00:00|             1205|         CLOSED|\n",
      "|      19|2013-07-25 00:00:00|             9488|PENDING_PAYMENT|\n",
      "|      20|2013-07-25 00:00:00|             9198|     PROCESSING|\n",
      "+--------+-------------------+-----------------+---------------+\n",
      "only showing top 20 rows\n",
      "\n",
      "+--------+-------------------+-----------------+---------------+\n",
      "|order_id|         order_date|order_customer_id|   order_status|\n",
      "+--------+-------------------+-----------------+---------------+\n",
      "|       1|2013-07-25 00:00:00|            11599|         CLOSED|\n",
      "|       2|2013-07-25 00:00:00|              256|PENDING_PAYMENT|\n",
      "|       3|2013-07-25 00:00:00|            12111|       COMPLETE|\n",
      "|       4|2013-07-25 00:00:00|             8827|         CLOSED|\n",
      "|       5|2013-07-25 00:00:00|            11318|       COMPLETE|\n",
      "|       6|2013-07-25 00:00:00|             7130|       COMPLETE|\n",
      "|       7|2013-07-25 00:00:00|             4530|       COMPLETE|\n",
      "|       8|2013-07-25 00:00:00|             2911|     PROCESSING|\n",
      "|       9|2013-07-25 00:00:00|             5657|PENDING_PAYMENT|\n",
      "|      10|2013-07-25 00:00:00|             5648|PENDING_PAYMENT|\n",
      "|      11|2013-07-25 00:00:00|              918| PAYMENT_REVIEW|\n",
      "|      12|2013-07-25 00:00:00|             1837|         CLOSED|\n",
      "|      13|2013-07-25 00:00:00|             9149|PENDING_PAYMENT|\n",
      "|      14|2013-07-25 00:00:00|             9842|     PROCESSING|\n",
      "|      15|2013-07-25 00:00:00|             2568|       COMPLETE|\n",
      "|      16|2013-07-25 00:00:00|             7276|PENDING_PAYMENT|\n",
      "|      17|2013-07-25 00:00:00|             2667|       COMPLETE|\n",
      "|      18|2013-07-25 00:00:00|             1205|         CLOSED|\n",
      "|      19|2013-07-25 00:00:00|             9488|PENDING_PAYMENT|\n",
      "|      20|2013-07-25 00:00:00|             9198|     PROCESSING|\n",
      "+--------+-------------------+-----------------+---------------+\n",
      "only showing top 20 rows\n",
      "\n"
     ]
    }
   ],
   "source": [
    "from pyspark.sql.types import StructType, StructField, IntegerType, TimestampType, StringType\n",
    "schema = StructType([\n",
    "    StructField('order_id', IntegerType()),\n",
    "    StructField('order_date', TimestampType()),\n",
    "    StructField('order_customer_id', IntegerType()),\n",
    "    StructField('order_status', StringType())\n",
    "])\n",
    "spark.read.csv(input_dir, schema=schema).show()\n",
    "spark.read.schema(schema).csv(input_dir).show()"
   ]
  },
  {
   "cell_type": "markdown",
   "id": "591d5b8c-dc05-4370-a6c8-455956c722c2",
   "metadata": {
    "jp-MarkdownHeadingCollapsed": true
   },
   "source": [
    "## Using `csv`, `toDF` and `inferSchema` to create Spark Data Frame"
   ]
  },
  {
   "cell_type": "code",
   "execution_count": 25,
   "id": "300f4bba-ada9-4998-86aa-e6aa38b7c654",
   "metadata": {
    "execution": {
     "iopub.execute_input": "2024-06-22T21:13:56.810354Z",
     "iopub.status.busy": "2024-06-22T21:13:56.809373Z",
     "iopub.status.idle": "2024-06-22T21:13:57.257884Z",
     "shell.execute_reply": "2024-06-22T21:13:57.257472Z",
     "shell.execute_reply.started": "2024-06-22T21:13:56.810321Z"
    }
   },
   "outputs": [
    {
     "name": "stdout",
     "output_type": "stream",
     "text": [
      "+--------+-------------------+-----------------+---------------+\n",
      "|order_id|order_date         |order_customer_id|order_status   |\n",
      "+--------+-------------------+-----------------+---------------+\n",
      "|1       |2013-07-25 00:00:00|11599            |CLOSED         |\n",
      "|2       |2013-07-25 00:00:00|256              |PENDING_PAYMENT|\n",
      "|3       |2013-07-25 00:00:00|12111            |COMPLETE       |\n",
      "|4       |2013-07-25 00:00:00|8827             |CLOSED         |\n",
      "|5       |2013-07-25 00:00:00|11318            |COMPLETE       |\n",
      "|6       |2013-07-25 00:00:00|7130             |COMPLETE       |\n",
      "|7       |2013-07-25 00:00:00|4530             |COMPLETE       |\n",
      "|8       |2013-07-25 00:00:00|2911             |PROCESSING     |\n",
      "|9       |2013-07-25 00:00:00|5657             |PENDING_PAYMENT|\n",
      "|10      |2013-07-25 00:00:00|5648             |PENDING_PAYMENT|\n",
      "|11      |2013-07-25 00:00:00|918              |PAYMENT_REVIEW |\n",
      "|12      |2013-07-25 00:00:00|1837             |CLOSED         |\n",
      "|13      |2013-07-25 00:00:00|9149             |PENDING_PAYMENT|\n",
      "|14      |2013-07-25 00:00:00|9842             |PROCESSING     |\n",
      "|15      |2013-07-25 00:00:00|2568             |COMPLETE       |\n",
      "|16      |2013-07-25 00:00:00|7276             |PENDING_PAYMENT|\n",
      "|17      |2013-07-25 00:00:00|2667             |COMPLETE       |\n",
      "|18      |2013-07-25 00:00:00|1205             |CLOSED         |\n",
      "|19      |2013-07-25 00:00:00|9488             |PENDING_PAYMENT|\n",
      "|20      |2013-07-25 00:00:00|9198             |PROCESSING     |\n",
      "+--------+-------------------+-----------------+---------------+\n",
      "only showing top 20 rows\n",
      "\n",
      "+--------+-------------------+-----------------+---------------+\n",
      "|order_id|order_date         |order_customer_id|order_status   |\n",
      "+--------+-------------------+-----------------+---------------+\n",
      "|1       |2013-07-25 00:00:00|11599            |CLOSED         |\n",
      "|2       |2013-07-25 00:00:00|256              |PENDING_PAYMENT|\n",
      "|3       |2013-07-25 00:00:00|12111            |COMPLETE       |\n",
      "|4       |2013-07-25 00:00:00|8827             |CLOSED         |\n",
      "|5       |2013-07-25 00:00:00|11318            |COMPLETE       |\n",
      "|6       |2013-07-25 00:00:00|7130             |COMPLETE       |\n",
      "|7       |2013-07-25 00:00:00|4530             |COMPLETE       |\n",
      "|8       |2013-07-25 00:00:00|2911             |PROCESSING     |\n",
      "|9       |2013-07-25 00:00:00|5657             |PENDING_PAYMENT|\n",
      "|10      |2013-07-25 00:00:00|5648             |PENDING_PAYMENT|\n",
      "|11      |2013-07-25 00:00:00|918              |PAYMENT_REVIEW |\n",
      "|12      |2013-07-25 00:00:00|1837             |CLOSED         |\n",
      "|13      |2013-07-25 00:00:00|9149             |PENDING_PAYMENT|\n",
      "|14      |2013-07-25 00:00:00|9842             |PROCESSING     |\n",
      "|15      |2013-07-25 00:00:00|2568             |COMPLETE       |\n",
      "|16      |2013-07-25 00:00:00|7276             |PENDING_PAYMENT|\n",
      "|17      |2013-07-25 00:00:00|2667             |COMPLETE       |\n",
      "|18      |2013-07-25 00:00:00|1205             |CLOSED         |\n",
      "|19      |2013-07-25 00:00:00|9488             |PENDING_PAYMENT|\n",
      "|20      |2013-07-25 00:00:00|9198             |PROCESSING     |\n",
      "+--------+-------------------+-----------------+---------------+\n",
      "only showing top 20 rows\n",
      "\n"
     ]
    }
   ],
   "source": [
    "input_dir = '/Users/adhoc/git/retail_db/orders'\n",
    "columns = ['order_id', 'order_date', 'order_customer_id', 'order_status']\n",
    "\n",
    "spark.read.option('inferSchema', True).csv(input_dir).toDF(*columns).show(truncate=False)\n",
    "spark.read.option('inferSchema', True).csv(input_dir).toDF(*columns).dtypes"
   ]
  },
  {
   "cell_type": "code",
   "execution_count": 26,
   "id": "1fd5213b-70ad-4270-9039-96c3838a6509",
   "metadata": {
    "execution": {
     "iopub.execute_input": "2024-06-22T21:14:31.769157Z",
     "iopub.status.busy": "2024-06-22T21:14:31.768527Z",
     "iopub.status.idle": "2024-06-22T21:14:32.083628Z",
     "shell.execute_reply": "2024-06-22T21:14:32.083364Z",
     "shell.execute_reply.started": "2024-06-22T21:14:31.769130Z"
    }
   },
   "outputs": [
    {
     "name": "stdout",
     "output_type": "stream",
     "text": [
      "+--------+-------------------+-----------------+---------------+\n",
      "|order_id|order_date         |order_customer_id|order_status   |\n",
      "+--------+-------------------+-----------------+---------------+\n",
      "|1       |2013-07-25 00:00:00|11599            |CLOSED         |\n",
      "|2       |2013-07-25 00:00:00|256              |PENDING_PAYMENT|\n",
      "|3       |2013-07-25 00:00:00|12111            |COMPLETE       |\n",
      "|4       |2013-07-25 00:00:00|8827             |CLOSED         |\n",
      "|5       |2013-07-25 00:00:00|11318            |COMPLETE       |\n",
      "|6       |2013-07-25 00:00:00|7130             |COMPLETE       |\n",
      "|7       |2013-07-25 00:00:00|4530             |COMPLETE       |\n",
      "|8       |2013-07-25 00:00:00|2911             |PROCESSING     |\n",
      "|9       |2013-07-25 00:00:00|5657             |PENDING_PAYMENT|\n",
      "|10      |2013-07-25 00:00:00|5648             |PENDING_PAYMENT|\n",
      "|11      |2013-07-25 00:00:00|918              |PAYMENT_REVIEW |\n",
      "|12      |2013-07-25 00:00:00|1837             |CLOSED         |\n",
      "|13      |2013-07-25 00:00:00|9149             |PENDING_PAYMENT|\n",
      "|14      |2013-07-25 00:00:00|9842             |PROCESSING     |\n",
      "|15      |2013-07-25 00:00:00|2568             |COMPLETE       |\n",
      "|16      |2013-07-25 00:00:00|7276             |PENDING_PAYMENT|\n",
      "|17      |2013-07-25 00:00:00|2667             |COMPLETE       |\n",
      "|18      |2013-07-25 00:00:00|1205             |CLOSED         |\n",
      "|19      |2013-07-25 00:00:00|9488             |PENDING_PAYMENT|\n",
      "|20      |2013-07-25 00:00:00|9198             |PROCESSING     |\n",
      "+--------+-------------------+-----------------+---------------+\n",
      "only showing top 20 rows\n",
      "\n"
     ]
    },
    {
     "data": {
      "text/plain": [
       "[('order_id', 'int'),\n",
       " ('order_date', 'timestamp'),\n",
       " ('order_customer_id', 'int'),\n",
       " ('order_status', 'string')]"
      ]
     },
     "execution_count": 26,
     "metadata": {},
     "output_type": "execute_result"
    }
   ],
   "source": [
    "spark.read.csv(input_dir, inferSchema=True).toDF(*columns).show(truncate=False)\n",
    "spark.read.csv(input_dir, inferSchema=True).toDF(*columns).dtypes"
   ]
  },
  {
   "cell_type": "markdown",
   "id": "a399069a-91cf-4df2-929c-44551648f05e",
   "metadata": {
    "jp-MarkdownHeadingCollapsed": true
   },
   "source": [
    "## Specyfing delimiter while creating Spark Data Frame using csv API"
   ]
  },
  {
   "cell_type": "code",
   "execution_count": 51,
   "id": "ee7c84ff-ab1f-47cb-927f-5fc98ee3dc3f",
   "metadata": {
    "execution": {
     "iopub.execute_input": "2024-06-22T21:28:39.592359Z",
     "iopub.status.busy": "2024-06-22T21:28:39.591567Z",
     "iopub.status.idle": "2024-06-22T21:28:39.684772Z",
     "shell.execute_reply": "2024-06-22T21:28:39.684296Z",
     "shell.execute_reply.started": "2024-06-22T21:28:39.592313Z"
    }
   },
   "outputs": [
    {
     "name": "stdout",
     "output_type": "stream",
     "text": [
      "+--------+-------------------+-----------------+---------------+\n",
      "|order_id|         order_date|order_customer_id|   order_status|\n",
      "+--------+-------------------+-----------------+---------------+\n",
      "|       1|2013-07-25 00:00:00|            11599|         CLOSED|\n",
      "|       2|2013-07-25 00:00:00|              256|PENDING_PAYMENT|\n",
      "|       3|2013-07-25 00:00:00|            12111|       COMPLETE|\n",
      "|       4|2013-07-25 00:00:00|             8827|         CLOSED|\n",
      "|       5|2013-07-25 00:00:00|            11318|       COMPLETE|\n",
      "|       6|2013-07-25 00:00:00|             7130|       COMPLETE|\n",
      "|       7|2013-07-25 00:00:00|             4530|       COMPLETE|\n",
      "|       8|2013-07-25 00:00:00|             2911|     PROCESSING|\n",
      "|       9|2013-07-25 00:00:00|             5657|PENDING_PAYMENT|\n",
      "|      10|2013-07-25 00:00:00|             5648|PENDING_PAYMENT|\n",
      "|      11|2013-07-25 00:00:00|              918| PAYMENT_REVIEW|\n",
      "|      12|2013-07-25 00:00:00|             1837|         CLOSED|\n",
      "|      13|2013-07-25 00:00:00|             9149|PENDING_PAYMENT|\n",
      "|      14|2013-07-25 00:00:00|             9842|     PROCESSING|\n",
      "|      15|2013-07-25 00:00:00|             2568|       COMPLETE|\n",
      "|      16|2013-07-25 00:00:00|             7276|PENDING_PAYMENT|\n",
      "|      17|2013-07-25 00:00:00|             2667|       COMPLETE|\n",
      "|      18|2013-07-25 00:00:00|             1205|         CLOSED|\n",
      "|      19|2013-07-25 00:00:00|             9488|PENDING_PAYMENT|\n",
      "|      20|2013-07-25 00:00:00|             9198|     PROCESSING|\n",
      "+--------+-------------------+-----------------+---------------+\n",
      "only showing top 20 rows\n",
      "\n"
     ]
    },
    {
     "data": {
      "text/plain": [
       "[('order_id', 'int'),\n",
       " ('order_date', 'timestamp'),\n",
       " ('order_customer_id', 'int'),\n",
       " ('order_status', 'string')]"
      ]
     },
     "execution_count": 51,
     "metadata": {},
     "output_type": "execute_result"
    }
   ],
   "source": [
    "input_dir = '/Users/adhoc/git/retail_db/csv/pipe/orders'\n",
    "schema = \"\"\"\n",
    "    order_id INT,\n",
    "    order_date TIMESTAMP,\n",
    "    order_customer_id INT,\n",
    "    order_status STRING\n",
    "\"\"\"\n",
    "spark.read.csv(input_dir, schema=schema, sep='|').show()\n",
    "spark.read.csv(input_dir, schema=schema, sep='|').dtypes"
   ]
  },
  {
   "cell_type": "code",
   "execution_count": 52,
   "id": "800bb9e8-df8a-4a36-8128-7a0fc1768ef1",
   "metadata": {
    "execution": {
     "iopub.execute_input": "2024-06-22T21:28:59.936547Z",
     "iopub.status.busy": "2024-06-22T21:28:59.935791Z",
     "iopub.status.idle": "2024-06-22T21:29:00.007264Z",
     "shell.execute_reply": "2024-06-22T21:29:00.006865Z",
     "shell.execute_reply.started": "2024-06-22T21:28:59.936503Z"
    }
   },
   "outputs": [
    {
     "name": "stdout",
     "output_type": "stream",
     "text": [
      "+--------+-------------------+-----------------+---------------+\n",
      "|order_id|         order_date|order_customer_id|   order_status|\n",
      "+--------+-------------------+-----------------+---------------+\n",
      "|       1|2013-07-25 00:00:00|            11599|         CLOSED|\n",
      "|       2|2013-07-25 00:00:00|              256|PENDING_PAYMENT|\n",
      "|       3|2013-07-25 00:00:00|            12111|       COMPLETE|\n",
      "|       4|2013-07-25 00:00:00|             8827|         CLOSED|\n",
      "|       5|2013-07-25 00:00:00|            11318|       COMPLETE|\n",
      "|       6|2013-07-25 00:00:00|             7130|       COMPLETE|\n",
      "|       7|2013-07-25 00:00:00|             4530|       COMPLETE|\n",
      "|       8|2013-07-25 00:00:00|             2911|     PROCESSING|\n",
      "|       9|2013-07-25 00:00:00|             5657|PENDING_PAYMENT|\n",
      "|      10|2013-07-25 00:00:00|             5648|PENDING_PAYMENT|\n",
      "|      11|2013-07-25 00:00:00|              918| PAYMENT_REVIEW|\n",
      "|      12|2013-07-25 00:00:00|             1837|         CLOSED|\n",
      "|      13|2013-07-25 00:00:00|             9149|PENDING_PAYMENT|\n",
      "|      14|2013-07-25 00:00:00|             9842|     PROCESSING|\n",
      "|      15|2013-07-25 00:00:00|             2568|       COMPLETE|\n",
      "|      16|2013-07-25 00:00:00|             7276|PENDING_PAYMENT|\n",
      "|      17|2013-07-25 00:00:00|             2667|       COMPLETE|\n",
      "|      18|2013-07-25 00:00:00|             1205|         CLOSED|\n",
      "|      19|2013-07-25 00:00:00|             9488|PENDING_PAYMENT|\n",
      "|      20|2013-07-25 00:00:00|             9198|     PROCESSING|\n",
      "+--------+-------------------+-----------------+---------------+\n",
      "only showing top 20 rows\n",
      "\n"
     ]
    },
    {
     "data": {
      "text/plain": [
       "[('order_id', 'int'),\n",
       " ('order_date', 'timestamp'),\n",
       " ('order_customer_id', 'int'),\n",
       " ('order_status', 'string')]"
      ]
     },
     "execution_count": 52,
     "metadata": {},
     "output_type": "execute_result"
    }
   ],
   "source": [
    "spark.read.schema(schema).csv(input_dir, sep='|').show()\n",
    "spark.read.schema(schema).csv(input_dir, sep='|').dtypes"
   ]
  },
  {
   "cell_type": "code",
   "execution_count": 53,
   "id": "4e654b55-15b3-4fcd-834f-c4b3dd867356",
   "metadata": {
    "execution": {
     "iopub.execute_input": "2024-06-22T21:29:10.505059Z",
     "iopub.status.busy": "2024-06-22T21:29:10.504367Z",
     "iopub.status.idle": "2024-06-22T21:29:10.577409Z",
     "shell.execute_reply": "2024-06-22T21:29:10.577032Z",
     "shell.execute_reply.started": "2024-06-22T21:29:10.505008Z"
    }
   },
   "outputs": [
    {
     "name": "stdout",
     "output_type": "stream",
     "text": [
      "+--------+-------------------+-----------------+---------------+\n",
      "|order_id|         order_date|order_customer_id|   order_status|\n",
      "+--------+-------------------+-----------------+---------------+\n",
      "|       1|2013-07-25 00:00:00|            11599|         CLOSED|\n",
      "|       2|2013-07-25 00:00:00|              256|PENDING_PAYMENT|\n",
      "|       3|2013-07-25 00:00:00|            12111|       COMPLETE|\n",
      "|       4|2013-07-25 00:00:00|             8827|         CLOSED|\n",
      "|       5|2013-07-25 00:00:00|            11318|       COMPLETE|\n",
      "|       6|2013-07-25 00:00:00|             7130|       COMPLETE|\n",
      "|       7|2013-07-25 00:00:00|             4530|       COMPLETE|\n",
      "|       8|2013-07-25 00:00:00|             2911|     PROCESSING|\n",
      "|       9|2013-07-25 00:00:00|             5657|PENDING_PAYMENT|\n",
      "|      10|2013-07-25 00:00:00|             5648|PENDING_PAYMENT|\n",
      "|      11|2013-07-25 00:00:00|              918| PAYMENT_REVIEW|\n",
      "|      12|2013-07-25 00:00:00|             1837|         CLOSED|\n",
      "|      13|2013-07-25 00:00:00|             9149|PENDING_PAYMENT|\n",
      "|      14|2013-07-25 00:00:00|             9842|     PROCESSING|\n",
      "|      15|2013-07-25 00:00:00|             2568|       COMPLETE|\n",
      "|      16|2013-07-25 00:00:00|             7276|PENDING_PAYMENT|\n",
      "|      17|2013-07-25 00:00:00|             2667|       COMPLETE|\n",
      "|      18|2013-07-25 00:00:00|             1205|         CLOSED|\n",
      "|      19|2013-07-25 00:00:00|             9488|PENDING_PAYMENT|\n",
      "|      20|2013-07-25 00:00:00|             9198|     PROCESSING|\n",
      "+--------+-------------------+-----------------+---------------+\n",
      "only showing top 20 rows\n",
      "\n"
     ]
    },
    {
     "data": {
      "text/plain": [
       "[('order_id', 'int'),\n",
       " ('order_date', 'timestamp'),\n",
       " ('order_customer_id', 'int'),\n",
       " ('order_status', 'string')]"
      ]
     },
     "execution_count": 53,
     "metadata": {},
     "output_type": "execute_result"
    }
   ],
   "source": [
    "spark.read.schema(schema).option('sep', '|').csv(input_dir).show()\n",
    "spark.read.schema(schema).option('sep', '|').csv(input_dir).dtypes"
   ]
  },
  {
   "cell_type": "markdown",
   "id": "78df0a5d-f829-47a9-b2b2-9e5dee4a03db",
   "metadata": {
    "jp-MarkdownHeadingCollapsed": true
   },
   "source": [
    "## Using options while reading CSV files into Spark Data Frame\n",
    "While creating Spark Data Frame the options can be passed using:\n",
    "* keyword arguments as part of APIs - as part of `load` or direct API (e.g. `csv`)\n",
    "* `spark.load.option`\n",
    "* `spark.load.options`\n",
    "if key in `option` is incorrect then it will be ignored\n",
    "The available options depend on the file format"
   ]
  },
  {
   "cell_type": "code",
   "execution_count": 50,
   "id": "50787012-6287-420e-b03a-1a6958047ee6",
   "metadata": {
    "execution": {
     "iopub.execute_input": "2024-06-23T10:34:35.950544Z",
     "iopub.status.busy": "2024-06-23T10:34:35.950009Z",
     "iopub.status.idle": "2024-06-23T10:34:36.049623Z",
     "shell.execute_reply": "2024-06-23T10:34:36.049293Z",
     "shell.execute_reply.started": "2024-06-23T10:34:35.950515Z"
    }
   },
   "outputs": [
    {
     "name": "stdout",
     "output_type": "stream",
     "text": [
      "+-----------------------------------------------------+\n",
      "|_c0                                                  |\n",
      "+-----------------------------------------------------+\n",
      "|1|2013-07-25T00:00:00.000+02:00|11599|CLOSED         |\n",
      "|2|2013-07-25T00:00:00.000+02:00|256|PENDING_PAYMENT  |\n",
      "|3|2013-07-25T00:00:00.000+02:00|12111|COMPLETE       |\n",
      "|4|2013-07-25T00:00:00.000+02:00|8827|CLOSED          |\n",
      "|5|2013-07-25T00:00:00.000+02:00|11318|COMPLETE       |\n",
      "|6|2013-07-25T00:00:00.000+02:00|7130|COMPLETE        |\n",
      "|7|2013-07-25T00:00:00.000+02:00|4530|COMPLETE        |\n",
      "|8|2013-07-25T00:00:00.000+02:00|2911|PROCESSING      |\n",
      "|9|2013-07-25T00:00:00.000+02:00|5657|PENDING_PAYMENT |\n",
      "|10|2013-07-25T00:00:00.000+02:00|5648|PENDING_PAYMENT|\n",
      "|11|2013-07-25T00:00:00.000+02:00|918|PAYMENT_REVIEW  |\n",
      "|12|2013-07-25T00:00:00.000+02:00|1837|CLOSED         |\n",
      "|13|2013-07-25T00:00:00.000+02:00|9149|PENDING_PAYMENT|\n",
      "|14|2013-07-25T00:00:00.000+02:00|9842|PROCESSING     |\n",
      "|15|2013-07-25T00:00:00.000+02:00|2568|COMPLETE       |\n",
      "|16|2013-07-25T00:00:00.000+02:00|7276|PENDING_PAYMENT|\n",
      "|17|2013-07-25T00:00:00.000+02:00|2667|COMPLETE       |\n",
      "|18|2013-07-25T00:00:00.000+02:00|1205|CLOSED         |\n",
      "|19|2013-07-25T00:00:00.000+02:00|9488|PENDING_PAYMENT|\n",
      "|20|2013-07-25T00:00:00.000+02:00|9198|PROCESSING     |\n",
      "+-----------------------------------------------------+\n",
      "only showing top 20 rows\n",
      "\n"
     ]
    }
   ],
   "source": [
    "input_dir = '/Users/adhoc/git/retail_db/csv/pipe/orders'\n",
    "\n",
    "spark.read.csv(input_dir).show(truncate=False) # ',' separator by default, so data loaded as rows"
   ]
  },
  {
   "cell_type": "code",
   "execution_count": 6,
   "id": "4189a1dd-953a-4782-9233-990e6d807206",
   "metadata": {
    "execution": {
     "iopub.execute_input": "2024-06-23T09:56:30.834587Z",
     "iopub.status.busy": "2024-06-23T09:56:30.833963Z",
     "iopub.status.idle": "2024-06-23T09:56:30.855849Z",
     "shell.execute_reply": "2024-06-23T09:56:30.855359Z",
     "shell.execute_reply.started": "2024-06-23T09:56:30.834552Z"
    }
   },
   "outputs": [
    {
     "data": {
      "text/plain": [
       "\u001b[0;31mSignature:\u001b[0m\n",
       "\u001b[0mspark\u001b[0m\u001b[0;34m.\u001b[0m\u001b[0mread\u001b[0m\u001b[0;34m.\u001b[0m\u001b[0mcsv\u001b[0m\u001b[0;34m(\u001b[0m\u001b[0;34m\u001b[0m\n",
       "\u001b[0;34m\u001b[0m    \u001b[0mpath\u001b[0m\u001b[0;34m:\u001b[0m \u001b[0mUnion\u001b[0m\u001b[0;34m[\u001b[0m\u001b[0mstr\u001b[0m\u001b[0;34m,\u001b[0m \u001b[0mList\u001b[0m\u001b[0;34m[\u001b[0m\u001b[0mstr\u001b[0m\u001b[0;34m]\u001b[0m\u001b[0;34m]\u001b[0m\u001b[0;34m,\u001b[0m\u001b[0;34m\u001b[0m\n",
       "\u001b[0;34m\u001b[0m    \u001b[0mschema\u001b[0m\u001b[0;34m:\u001b[0m \u001b[0mUnion\u001b[0m\u001b[0;34m[\u001b[0m\u001b[0mpyspark\u001b[0m\u001b[0;34m.\u001b[0m\u001b[0msql\u001b[0m\u001b[0;34m.\u001b[0m\u001b[0mtypes\u001b[0m\u001b[0;34m.\u001b[0m\u001b[0mStructType\u001b[0m\u001b[0;34m,\u001b[0m \u001b[0mstr\u001b[0m\u001b[0;34m,\u001b[0m \u001b[0mNoneType\u001b[0m\u001b[0;34m]\u001b[0m \u001b[0;34m=\u001b[0m \u001b[0;32mNone\u001b[0m\u001b[0;34m,\u001b[0m\u001b[0;34m\u001b[0m\n",
       "\u001b[0;34m\u001b[0m    \u001b[0msep\u001b[0m\u001b[0;34m:\u001b[0m \u001b[0mOptional\u001b[0m\u001b[0;34m[\u001b[0m\u001b[0mstr\u001b[0m\u001b[0;34m]\u001b[0m \u001b[0;34m=\u001b[0m \u001b[0;32mNone\u001b[0m\u001b[0;34m,\u001b[0m\u001b[0;34m\u001b[0m\n",
       "\u001b[0;34m\u001b[0m    \u001b[0mencoding\u001b[0m\u001b[0;34m:\u001b[0m \u001b[0mOptional\u001b[0m\u001b[0;34m[\u001b[0m\u001b[0mstr\u001b[0m\u001b[0;34m]\u001b[0m \u001b[0;34m=\u001b[0m \u001b[0;32mNone\u001b[0m\u001b[0;34m,\u001b[0m\u001b[0;34m\u001b[0m\n",
       "\u001b[0;34m\u001b[0m    \u001b[0mquote\u001b[0m\u001b[0;34m:\u001b[0m \u001b[0mOptional\u001b[0m\u001b[0;34m[\u001b[0m\u001b[0mstr\u001b[0m\u001b[0;34m]\u001b[0m \u001b[0;34m=\u001b[0m \u001b[0;32mNone\u001b[0m\u001b[0;34m,\u001b[0m\u001b[0;34m\u001b[0m\n",
       "\u001b[0;34m\u001b[0m    \u001b[0mescape\u001b[0m\u001b[0;34m:\u001b[0m \u001b[0mOptional\u001b[0m\u001b[0;34m[\u001b[0m\u001b[0mstr\u001b[0m\u001b[0;34m]\u001b[0m \u001b[0;34m=\u001b[0m \u001b[0;32mNone\u001b[0m\u001b[0;34m,\u001b[0m\u001b[0;34m\u001b[0m\n",
       "\u001b[0;34m\u001b[0m    \u001b[0mcomment\u001b[0m\u001b[0;34m:\u001b[0m \u001b[0mOptional\u001b[0m\u001b[0;34m[\u001b[0m\u001b[0mstr\u001b[0m\u001b[0;34m]\u001b[0m \u001b[0;34m=\u001b[0m \u001b[0;32mNone\u001b[0m\u001b[0;34m,\u001b[0m\u001b[0;34m\u001b[0m\n",
       "\u001b[0;34m\u001b[0m    \u001b[0mheader\u001b[0m\u001b[0;34m:\u001b[0m \u001b[0mUnion\u001b[0m\u001b[0;34m[\u001b[0m\u001b[0mbool\u001b[0m\u001b[0;34m,\u001b[0m \u001b[0mstr\u001b[0m\u001b[0;34m,\u001b[0m \u001b[0mNoneType\u001b[0m\u001b[0;34m]\u001b[0m \u001b[0;34m=\u001b[0m \u001b[0;32mNone\u001b[0m\u001b[0;34m,\u001b[0m\u001b[0;34m\u001b[0m\n",
       "\u001b[0;34m\u001b[0m    \u001b[0minferSchema\u001b[0m\u001b[0;34m:\u001b[0m \u001b[0mUnion\u001b[0m\u001b[0;34m[\u001b[0m\u001b[0mbool\u001b[0m\u001b[0;34m,\u001b[0m \u001b[0mstr\u001b[0m\u001b[0;34m,\u001b[0m \u001b[0mNoneType\u001b[0m\u001b[0;34m]\u001b[0m \u001b[0;34m=\u001b[0m \u001b[0;32mNone\u001b[0m\u001b[0;34m,\u001b[0m\u001b[0;34m\u001b[0m\n",
       "\u001b[0;34m\u001b[0m    \u001b[0mignoreLeadingWhiteSpace\u001b[0m\u001b[0;34m:\u001b[0m \u001b[0mUnion\u001b[0m\u001b[0;34m[\u001b[0m\u001b[0mbool\u001b[0m\u001b[0;34m,\u001b[0m \u001b[0mstr\u001b[0m\u001b[0;34m,\u001b[0m \u001b[0mNoneType\u001b[0m\u001b[0;34m]\u001b[0m \u001b[0;34m=\u001b[0m \u001b[0;32mNone\u001b[0m\u001b[0;34m,\u001b[0m\u001b[0;34m\u001b[0m\n",
       "\u001b[0;34m\u001b[0m    \u001b[0mignoreTrailingWhiteSpace\u001b[0m\u001b[0;34m:\u001b[0m \u001b[0mUnion\u001b[0m\u001b[0;34m[\u001b[0m\u001b[0mbool\u001b[0m\u001b[0;34m,\u001b[0m \u001b[0mstr\u001b[0m\u001b[0;34m,\u001b[0m \u001b[0mNoneType\u001b[0m\u001b[0;34m]\u001b[0m \u001b[0;34m=\u001b[0m \u001b[0;32mNone\u001b[0m\u001b[0;34m,\u001b[0m\u001b[0;34m\u001b[0m\n",
       "\u001b[0;34m\u001b[0m    \u001b[0mnullValue\u001b[0m\u001b[0;34m:\u001b[0m \u001b[0mOptional\u001b[0m\u001b[0;34m[\u001b[0m\u001b[0mstr\u001b[0m\u001b[0;34m]\u001b[0m \u001b[0;34m=\u001b[0m \u001b[0;32mNone\u001b[0m\u001b[0;34m,\u001b[0m\u001b[0;34m\u001b[0m\n",
       "\u001b[0;34m\u001b[0m    \u001b[0mnanValue\u001b[0m\u001b[0;34m:\u001b[0m \u001b[0mOptional\u001b[0m\u001b[0;34m[\u001b[0m\u001b[0mstr\u001b[0m\u001b[0;34m]\u001b[0m \u001b[0;34m=\u001b[0m \u001b[0;32mNone\u001b[0m\u001b[0;34m,\u001b[0m\u001b[0;34m\u001b[0m\n",
       "\u001b[0;34m\u001b[0m    \u001b[0mpositiveInf\u001b[0m\u001b[0;34m:\u001b[0m \u001b[0mOptional\u001b[0m\u001b[0;34m[\u001b[0m\u001b[0mstr\u001b[0m\u001b[0;34m]\u001b[0m \u001b[0;34m=\u001b[0m \u001b[0;32mNone\u001b[0m\u001b[0;34m,\u001b[0m\u001b[0;34m\u001b[0m\n",
       "\u001b[0;34m\u001b[0m    \u001b[0mnegativeInf\u001b[0m\u001b[0;34m:\u001b[0m \u001b[0mOptional\u001b[0m\u001b[0;34m[\u001b[0m\u001b[0mstr\u001b[0m\u001b[0;34m]\u001b[0m \u001b[0;34m=\u001b[0m \u001b[0;32mNone\u001b[0m\u001b[0;34m,\u001b[0m\u001b[0;34m\u001b[0m\n",
       "\u001b[0;34m\u001b[0m    \u001b[0mdateFormat\u001b[0m\u001b[0;34m:\u001b[0m \u001b[0mOptional\u001b[0m\u001b[0;34m[\u001b[0m\u001b[0mstr\u001b[0m\u001b[0;34m]\u001b[0m \u001b[0;34m=\u001b[0m \u001b[0;32mNone\u001b[0m\u001b[0;34m,\u001b[0m\u001b[0;34m\u001b[0m\n",
       "\u001b[0;34m\u001b[0m    \u001b[0mtimestampFormat\u001b[0m\u001b[0;34m:\u001b[0m \u001b[0mOptional\u001b[0m\u001b[0;34m[\u001b[0m\u001b[0mstr\u001b[0m\u001b[0;34m]\u001b[0m \u001b[0;34m=\u001b[0m \u001b[0;32mNone\u001b[0m\u001b[0;34m,\u001b[0m\u001b[0;34m\u001b[0m\n",
       "\u001b[0;34m\u001b[0m    \u001b[0mmaxColumns\u001b[0m\u001b[0;34m:\u001b[0m \u001b[0mUnion\u001b[0m\u001b[0;34m[\u001b[0m\u001b[0mstr\u001b[0m\u001b[0;34m,\u001b[0m \u001b[0mint\u001b[0m\u001b[0;34m,\u001b[0m \u001b[0mNoneType\u001b[0m\u001b[0;34m]\u001b[0m \u001b[0;34m=\u001b[0m \u001b[0;32mNone\u001b[0m\u001b[0;34m,\u001b[0m\u001b[0;34m\u001b[0m\n",
       "\u001b[0;34m\u001b[0m    \u001b[0mmaxCharsPerColumn\u001b[0m\u001b[0;34m:\u001b[0m \u001b[0mUnion\u001b[0m\u001b[0;34m[\u001b[0m\u001b[0mstr\u001b[0m\u001b[0;34m,\u001b[0m \u001b[0mint\u001b[0m\u001b[0;34m,\u001b[0m \u001b[0mNoneType\u001b[0m\u001b[0;34m]\u001b[0m \u001b[0;34m=\u001b[0m \u001b[0;32mNone\u001b[0m\u001b[0;34m,\u001b[0m\u001b[0;34m\u001b[0m\n",
       "\u001b[0;34m\u001b[0m    \u001b[0mmaxMalformedLogPerPartition\u001b[0m\u001b[0;34m:\u001b[0m \u001b[0mUnion\u001b[0m\u001b[0;34m[\u001b[0m\u001b[0mstr\u001b[0m\u001b[0;34m,\u001b[0m \u001b[0mint\u001b[0m\u001b[0;34m,\u001b[0m \u001b[0mNoneType\u001b[0m\u001b[0;34m]\u001b[0m \u001b[0;34m=\u001b[0m \u001b[0;32mNone\u001b[0m\u001b[0;34m,\u001b[0m\u001b[0;34m\u001b[0m\n",
       "\u001b[0;34m\u001b[0m    \u001b[0mmode\u001b[0m\u001b[0;34m:\u001b[0m \u001b[0mOptional\u001b[0m\u001b[0;34m[\u001b[0m\u001b[0mstr\u001b[0m\u001b[0;34m]\u001b[0m \u001b[0;34m=\u001b[0m \u001b[0;32mNone\u001b[0m\u001b[0;34m,\u001b[0m\u001b[0;34m\u001b[0m\n",
       "\u001b[0;34m\u001b[0m    \u001b[0mcolumnNameOfCorruptRecord\u001b[0m\u001b[0;34m:\u001b[0m \u001b[0mOptional\u001b[0m\u001b[0;34m[\u001b[0m\u001b[0mstr\u001b[0m\u001b[0;34m]\u001b[0m \u001b[0;34m=\u001b[0m \u001b[0;32mNone\u001b[0m\u001b[0;34m,\u001b[0m\u001b[0;34m\u001b[0m\n",
       "\u001b[0;34m\u001b[0m    \u001b[0mmultiLine\u001b[0m\u001b[0;34m:\u001b[0m \u001b[0mUnion\u001b[0m\u001b[0;34m[\u001b[0m\u001b[0mbool\u001b[0m\u001b[0;34m,\u001b[0m \u001b[0mstr\u001b[0m\u001b[0;34m,\u001b[0m \u001b[0mNoneType\u001b[0m\u001b[0;34m]\u001b[0m \u001b[0;34m=\u001b[0m \u001b[0;32mNone\u001b[0m\u001b[0;34m,\u001b[0m\u001b[0;34m\u001b[0m\n",
       "\u001b[0;34m\u001b[0m    \u001b[0mcharToEscapeQuoteEscaping\u001b[0m\u001b[0;34m:\u001b[0m \u001b[0mOptional\u001b[0m\u001b[0;34m[\u001b[0m\u001b[0mstr\u001b[0m\u001b[0;34m]\u001b[0m \u001b[0;34m=\u001b[0m \u001b[0;32mNone\u001b[0m\u001b[0;34m,\u001b[0m\u001b[0;34m\u001b[0m\n",
       "\u001b[0;34m\u001b[0m    \u001b[0msamplingRatio\u001b[0m\u001b[0;34m:\u001b[0m \u001b[0mUnion\u001b[0m\u001b[0;34m[\u001b[0m\u001b[0mstr\u001b[0m\u001b[0;34m,\u001b[0m \u001b[0mfloat\u001b[0m\u001b[0;34m,\u001b[0m \u001b[0mNoneType\u001b[0m\u001b[0;34m]\u001b[0m \u001b[0;34m=\u001b[0m \u001b[0;32mNone\u001b[0m\u001b[0;34m,\u001b[0m\u001b[0;34m\u001b[0m\n",
       "\u001b[0;34m\u001b[0m    \u001b[0menforceSchema\u001b[0m\u001b[0;34m:\u001b[0m \u001b[0mUnion\u001b[0m\u001b[0;34m[\u001b[0m\u001b[0mbool\u001b[0m\u001b[0;34m,\u001b[0m \u001b[0mstr\u001b[0m\u001b[0;34m,\u001b[0m \u001b[0mNoneType\u001b[0m\u001b[0;34m]\u001b[0m \u001b[0;34m=\u001b[0m \u001b[0;32mNone\u001b[0m\u001b[0;34m,\u001b[0m\u001b[0;34m\u001b[0m\n",
       "\u001b[0;34m\u001b[0m    \u001b[0memptyValue\u001b[0m\u001b[0;34m:\u001b[0m \u001b[0mOptional\u001b[0m\u001b[0;34m[\u001b[0m\u001b[0mstr\u001b[0m\u001b[0;34m]\u001b[0m \u001b[0;34m=\u001b[0m \u001b[0;32mNone\u001b[0m\u001b[0;34m,\u001b[0m\u001b[0;34m\u001b[0m\n",
       "\u001b[0;34m\u001b[0m    \u001b[0mlocale\u001b[0m\u001b[0;34m:\u001b[0m \u001b[0mOptional\u001b[0m\u001b[0;34m[\u001b[0m\u001b[0mstr\u001b[0m\u001b[0;34m]\u001b[0m \u001b[0;34m=\u001b[0m \u001b[0;32mNone\u001b[0m\u001b[0;34m,\u001b[0m\u001b[0;34m\u001b[0m\n",
       "\u001b[0;34m\u001b[0m    \u001b[0mlineSep\u001b[0m\u001b[0;34m:\u001b[0m \u001b[0mOptional\u001b[0m\u001b[0;34m[\u001b[0m\u001b[0mstr\u001b[0m\u001b[0;34m]\u001b[0m \u001b[0;34m=\u001b[0m \u001b[0;32mNone\u001b[0m\u001b[0;34m,\u001b[0m\u001b[0;34m\u001b[0m\n",
       "\u001b[0;34m\u001b[0m    \u001b[0mpathGlobFilter\u001b[0m\u001b[0;34m:\u001b[0m \u001b[0mUnion\u001b[0m\u001b[0;34m[\u001b[0m\u001b[0mbool\u001b[0m\u001b[0;34m,\u001b[0m \u001b[0mstr\u001b[0m\u001b[0;34m,\u001b[0m \u001b[0mNoneType\u001b[0m\u001b[0;34m]\u001b[0m \u001b[0;34m=\u001b[0m \u001b[0;32mNone\u001b[0m\u001b[0;34m,\u001b[0m\u001b[0;34m\u001b[0m\n",
       "\u001b[0;34m\u001b[0m    \u001b[0mrecursiveFileLookup\u001b[0m\u001b[0;34m:\u001b[0m \u001b[0mUnion\u001b[0m\u001b[0;34m[\u001b[0m\u001b[0mbool\u001b[0m\u001b[0;34m,\u001b[0m \u001b[0mstr\u001b[0m\u001b[0;34m,\u001b[0m \u001b[0mNoneType\u001b[0m\u001b[0;34m]\u001b[0m \u001b[0;34m=\u001b[0m \u001b[0;32mNone\u001b[0m\u001b[0;34m,\u001b[0m\u001b[0;34m\u001b[0m\n",
       "\u001b[0;34m\u001b[0m    \u001b[0mmodifiedBefore\u001b[0m\u001b[0;34m:\u001b[0m \u001b[0mUnion\u001b[0m\u001b[0;34m[\u001b[0m\u001b[0mbool\u001b[0m\u001b[0;34m,\u001b[0m \u001b[0mstr\u001b[0m\u001b[0;34m,\u001b[0m \u001b[0mNoneType\u001b[0m\u001b[0;34m]\u001b[0m \u001b[0;34m=\u001b[0m \u001b[0;32mNone\u001b[0m\u001b[0;34m,\u001b[0m\u001b[0;34m\u001b[0m\n",
       "\u001b[0;34m\u001b[0m    \u001b[0mmodifiedAfter\u001b[0m\u001b[0;34m:\u001b[0m \u001b[0mUnion\u001b[0m\u001b[0;34m[\u001b[0m\u001b[0mbool\u001b[0m\u001b[0;34m,\u001b[0m \u001b[0mstr\u001b[0m\u001b[0;34m,\u001b[0m \u001b[0mNoneType\u001b[0m\u001b[0;34m]\u001b[0m \u001b[0;34m=\u001b[0m \u001b[0;32mNone\u001b[0m\u001b[0;34m,\u001b[0m\u001b[0;34m\u001b[0m\n",
       "\u001b[0;34m\u001b[0m    \u001b[0munescapedQuoteHandling\u001b[0m\u001b[0;34m:\u001b[0m \u001b[0mOptional\u001b[0m\u001b[0;34m[\u001b[0m\u001b[0mstr\u001b[0m\u001b[0;34m]\u001b[0m \u001b[0;34m=\u001b[0m \u001b[0;32mNone\u001b[0m\u001b[0;34m,\u001b[0m\u001b[0;34m\u001b[0m\n",
       "\u001b[0;34m\u001b[0m\u001b[0;34m)\u001b[0m \u001b[0;34m->\u001b[0m \u001b[0;34m'DataFrame'\u001b[0m\u001b[0;34m\u001b[0m\u001b[0;34m\u001b[0m\u001b[0m\n",
       "\u001b[0;31mDocstring:\u001b[0m\n",
       "Loads a CSV file and returns the result as a  :class:`DataFrame`.\n",
       "\n",
       "This function will go through the input once to determine the input schema if\n",
       "``inferSchema`` is enabled. To avoid going through the entire data once, disable\n",
       "``inferSchema`` option or specify the schema explicitly using ``schema``.\n",
       "\n",
       ".. versionadded:: 2.0.0\n",
       "\n",
       ".. versionchanged:: 3.4.0\n",
       "    Supports Spark Connect.\n",
       "\n",
       "Parameters\n",
       "----------\n",
       "path : str or list\n",
       "    string, or list of strings, for input path(s),\n",
       "    or RDD of Strings storing CSV rows.\n",
       "schema : :class:`pyspark.sql.types.StructType` or str, optional\n",
       "    an optional :class:`pyspark.sql.types.StructType` for the input schema\n",
       "    or a DDL-formatted string (For example ``col0 INT, col1 DOUBLE``).\n",
       "\n",
       "Other Parameters\n",
       "----------------\n",
       "Extra options\n",
       "    For the extra options, refer to\n",
       "    `Data Source Option <https://spark.apache.org/docs/latest/sql-data-sources-csv.html#data-source-option>`_\n",
       "    for the version you use.\n",
       "\n",
       "    .. # noqa\n",
       "\n",
       "Examples\n",
       "--------\n",
       "Write a DataFrame into a CSV file and read it back.\n",
       "\n",
       ">>> import tempfile\n",
       ">>> with tempfile.TemporaryDirectory() as d:\n",
       "...     # Write a DataFrame into a CSV file\n",
       "...     df = spark.createDataFrame([{\"age\": 100, \"name\": \"Hyukjin Kwon\"}])\n",
       "...     df.write.mode(\"overwrite\").format(\"csv\").save(d)\n",
       "...\n",
       "...     # Read the CSV file as a DataFrame with 'nullValue' option set to 'Hyukjin Kwon'.\n",
       "...     spark.read.csv(d, schema=df.schema, nullValue=\"Hyukjin Kwon\").show()\n",
       "+---+----+\n",
       "|age|name|\n",
       "+---+----+\n",
       "|100|NULL|\n",
       "+---+----+\n",
       "\u001b[0;31mFile:\u001b[0m      /opt/homebrew/lib/python3.11/site-packages/pyspark/sql/readwriter.py\n",
       "\u001b[0;31mType:\u001b[0m      method"
      ]
     },
     "metadata": {},
     "output_type": "display_data"
    }
   ],
   "source": [
    "# schema, sep, quote, header, mode (to deal with corrupted records)\n",
    "# inferSchema, ignoring spaces, null values, multiLine, etc. \n",
    "spark.read.csv?"
   ]
  },
  {
   "cell_type": "code",
   "execution_count": 42,
   "id": "6b1435e3-6579-4187-9355-8408ae8faf66",
   "metadata": {
    "execution": {
     "iopub.execute_input": "2024-06-23T10:32:43.829312Z",
     "iopub.status.busy": "2024-06-23T10:32:43.828747Z",
     "iopub.status.idle": "2024-06-23T10:32:44.074400Z",
     "shell.execute_reply": "2024-06-23T10:32:44.074145Z",
     "shell.execute_reply.started": "2024-06-23T10:32:43.829281Z"
    }
   },
   "outputs": [
    {
     "name": "stdout",
     "output_type": "stream",
     "text": [
      "+--------+-------------------+-----------------+---------------+\n",
      "|order_id|         order_date|order_customer_id|   order_status|\n",
      "+--------+-------------------+-----------------+---------------+\n",
      "|       1|2013-07-25 00:00:00|            11599|         CLOSED|\n",
      "|       2|2013-07-25 00:00:00|              256|PENDING_PAYMENT|\n",
      "|       3|2013-07-25 00:00:00|            12111|       COMPLETE|\n",
      "|       4|2013-07-25 00:00:00|             8827|         CLOSED|\n",
      "|       5|2013-07-25 00:00:00|            11318|       COMPLETE|\n",
      "|       6|2013-07-25 00:00:00|             7130|       COMPLETE|\n",
      "|       7|2013-07-25 00:00:00|             4530|       COMPLETE|\n",
      "|       8|2013-07-25 00:00:00|             2911|     PROCESSING|\n",
      "|       9|2013-07-25 00:00:00|             5657|PENDING_PAYMENT|\n",
      "|      10|2013-07-25 00:00:00|             5648|PENDING_PAYMENT|\n",
      "|      11|2013-07-25 00:00:00|              918| PAYMENT_REVIEW|\n",
      "|      12|2013-07-25 00:00:00|             1837|         CLOSED|\n",
      "|      13|2013-07-25 00:00:00|             9149|PENDING_PAYMENT|\n",
      "|      14|2013-07-25 00:00:00|             9842|     PROCESSING|\n",
      "|      15|2013-07-25 00:00:00|             2568|       COMPLETE|\n",
      "|      16|2013-07-25 00:00:00|             7276|PENDING_PAYMENT|\n",
      "|      17|2013-07-25 00:00:00|             2667|       COMPLETE|\n",
      "|      18|2013-07-25 00:00:00|             1205|         CLOSED|\n",
      "|      19|2013-07-25 00:00:00|             9488|PENDING_PAYMENT|\n",
      "|      20|2013-07-25 00:00:00|             9198|     PROCESSING|\n",
      "+--------+-------------------+-----------------+---------------+\n",
      "only showing top 20 rows\n",
      "\n"
     ]
    }
   ],
   "source": [
    "orders = spark. \\\n",
    "    read. \\\n",
    "    csv(\n",
    "        input_dir,\n",
    "        sep='|',\n",
    "        header = None,\n",
    "        inferSchema = True,\n",
    "    ). \\\n",
    "    toDF('order_id', 'order_date', 'order_customer_id', 'order_status')\n",
    "orders.show()"
   ]
  },
  {
   "cell_type": "code",
   "execution_count": 12,
   "id": "fddd8565-d075-4867-a8a7-7e34b193971d",
   "metadata": {
    "execution": {
     "iopub.execute_input": "2024-06-23T10:05:48.607704Z",
     "iopub.status.busy": "2024-06-23T10:05:48.607180Z",
     "iopub.status.idle": "2024-06-23T10:05:48.898591Z",
     "shell.execute_reply": "2024-06-23T10:05:48.898325Z",
     "shell.execute_reply.started": "2024-06-23T10:05:48.607675Z"
    }
   },
   "outputs": [
    {
     "name": "stdout",
     "output_type": "stream",
     "text": [
      "+--------+-------------------+-----------------+---------------+\n",
      "|order_id|         order_date|order_customer_id|   order_status|\n",
      "+--------+-------------------+-----------------+---------------+\n",
      "|       1|2013-07-25 00:00:00|            11599|         CLOSED|\n",
      "|       2|2013-07-25 00:00:00|              256|PENDING_PAYMENT|\n",
      "|       3|2013-07-25 00:00:00|            12111|       COMPLETE|\n",
      "|       4|2013-07-25 00:00:00|             8827|         CLOSED|\n",
      "|       5|2013-07-25 00:00:00|            11318|       COMPLETE|\n",
      "|       6|2013-07-25 00:00:00|             7130|       COMPLETE|\n",
      "|       7|2013-07-25 00:00:00|             4530|       COMPLETE|\n",
      "|       8|2013-07-25 00:00:00|             2911|     PROCESSING|\n",
      "|       9|2013-07-25 00:00:00|             5657|PENDING_PAYMENT|\n",
      "|      10|2013-07-25 00:00:00|             5648|PENDING_PAYMENT|\n",
      "|      11|2013-07-25 00:00:00|              918| PAYMENT_REVIEW|\n",
      "|      12|2013-07-25 00:00:00|             1837|         CLOSED|\n",
      "|      13|2013-07-25 00:00:00|             9149|PENDING_PAYMENT|\n",
      "|      14|2013-07-25 00:00:00|             9842|     PROCESSING|\n",
      "|      15|2013-07-25 00:00:00|             2568|       COMPLETE|\n",
      "|      16|2013-07-25 00:00:00|             7276|PENDING_PAYMENT|\n",
      "|      17|2013-07-25 00:00:00|             2667|       COMPLETE|\n",
      "|      18|2013-07-25 00:00:00|             1205|         CLOSED|\n",
      "|      19|2013-07-25 00:00:00|             9488|PENDING_PAYMENT|\n",
      "|      20|2013-07-25 00:00:00|             9198|     PROCESSING|\n",
      "+--------+-------------------+-----------------+---------------+\n",
      "only showing top 20 rows\n",
      "\n"
     ]
    }
   ],
   "source": [
    "orders = spark. \\\n",
    "    read. \\\n",
    "    format('csv'). \\\n",
    "    load(\n",
    "        input_dir,\n",
    "        sep='|',\n",
    "        header = None,\n",
    "        inferSchema = True,\n",
    "    ). \\\n",
    "    toDF('order_id', 'order_date', 'order_customer_id', 'order_status')\n",
    "orders.show()"
   ]
  },
  {
   "cell_type": "code",
   "execution_count": 18,
   "id": "d8411ca2-e06b-444b-912d-bd653a448f66",
   "metadata": {
    "execution": {
     "iopub.execute_input": "2024-06-23T10:10:15.819379Z",
     "iopub.status.busy": "2024-06-23T10:10:15.818614Z",
     "iopub.status.idle": "2024-06-23T10:10:16.071549Z",
     "shell.execute_reply": "2024-06-23T10:10:16.071317Z",
     "shell.execute_reply.started": "2024-06-23T10:10:15.819328Z"
    }
   },
   "outputs": [
    {
     "name": "stdout",
     "output_type": "stream",
     "text": [
      "+--------+-------------------+-----------------+---------------+\n",
      "|order_id|         order_date|order_customer_id|   order_status|\n",
      "+--------+-------------------+-----------------+---------------+\n",
      "|       1|2013-07-25 00:00:00|            11599|         CLOSED|\n",
      "|       2|2013-07-25 00:00:00|              256|PENDING_PAYMENT|\n",
      "|       3|2013-07-25 00:00:00|            12111|       COMPLETE|\n",
      "|       4|2013-07-25 00:00:00|             8827|         CLOSED|\n",
      "|       5|2013-07-25 00:00:00|            11318|       COMPLETE|\n",
      "|       6|2013-07-25 00:00:00|             7130|       COMPLETE|\n",
      "|       7|2013-07-25 00:00:00|             4530|       COMPLETE|\n",
      "|       8|2013-07-25 00:00:00|             2911|     PROCESSING|\n",
      "|       9|2013-07-25 00:00:00|             5657|PENDING_PAYMENT|\n",
      "|      10|2013-07-25 00:00:00|             5648|PENDING_PAYMENT|\n",
      "|      11|2013-07-25 00:00:00|              918| PAYMENT_REVIEW|\n",
      "|      12|2013-07-25 00:00:00|             1837|         CLOSED|\n",
      "|      13|2013-07-25 00:00:00|             9149|PENDING_PAYMENT|\n",
      "|      14|2013-07-25 00:00:00|             9842|     PROCESSING|\n",
      "|      15|2013-07-25 00:00:00|             2568|       COMPLETE|\n",
      "|      16|2013-07-25 00:00:00|             7276|PENDING_PAYMENT|\n",
      "|      17|2013-07-25 00:00:00|             2667|       COMPLETE|\n",
      "|      18|2013-07-25 00:00:00|             1205|         CLOSED|\n",
      "|      19|2013-07-25 00:00:00|             9488|PENDING_PAYMENT|\n",
      "|      20|2013-07-25 00:00:00|             9198|     PROCESSING|\n",
      "+--------+-------------------+-----------------+---------------+\n",
      "only showing top 20 rows\n",
      "\n"
     ]
    },
    {
     "data": {
      "text/plain": [
       "[('order_id', 'int'),\n",
       " ('order_date', 'timestamp'),\n",
       " ('order_customer_id', 'int'),\n",
       " ('order_status', 'string')]"
      ]
     },
     "execution_count": 18,
     "metadata": {},
     "output_type": "execute_result"
    }
   ],
   "source": [
    "orders = spark. \\\n",
    "    read. \\\n",
    "    option('sep', '|'). \\\n",
    "    option('header',  None). \\\n",
    "    option('inferSchema', True). \\\n",
    "    format('csv'). \\\n",
    "    load(input_dir). \\\n",
    "    toDF('order_id', 'order_date', 'order_customer_id', 'order_status')\n",
    "orders.show()\n",
    "orders.dtypes"
   ]
  },
  {
   "cell_type": "code",
   "execution_count": 21,
   "id": "848b31b5-ad5f-440e-a232-f6e33a6ac4a0",
   "metadata": {
    "execution": {
     "iopub.execute_input": "2024-06-23T10:14:02.322580Z",
     "iopub.status.busy": "2024-06-23T10:14:02.321785Z",
     "iopub.status.idle": "2024-06-23T10:14:02.563172Z",
     "shell.execute_reply": "2024-06-23T10:14:02.562885Z",
     "shell.execute_reply.started": "2024-06-23T10:14:02.322527Z"
    }
   },
   "outputs": [
    {
     "name": "stdout",
     "output_type": "stream",
     "text": [
      "+--------+-------------------+-----------------+---------------+\n",
      "|order_id|         order_date|order_customer_id|   order_status|\n",
      "+--------+-------------------+-----------------+---------------+\n",
      "|       1|2013-07-25 00:00:00|            11599|         CLOSED|\n",
      "|       2|2013-07-25 00:00:00|              256|PENDING_PAYMENT|\n",
      "|       3|2013-07-25 00:00:00|            12111|       COMPLETE|\n",
      "|       4|2013-07-25 00:00:00|             8827|         CLOSED|\n",
      "|       5|2013-07-25 00:00:00|            11318|       COMPLETE|\n",
      "|       6|2013-07-25 00:00:00|             7130|       COMPLETE|\n",
      "|       7|2013-07-25 00:00:00|             4530|       COMPLETE|\n",
      "|       8|2013-07-25 00:00:00|             2911|     PROCESSING|\n",
      "|       9|2013-07-25 00:00:00|             5657|PENDING_PAYMENT|\n",
      "|      10|2013-07-25 00:00:00|             5648|PENDING_PAYMENT|\n",
      "|      11|2013-07-25 00:00:00|              918| PAYMENT_REVIEW|\n",
      "|      12|2013-07-25 00:00:00|             1837|         CLOSED|\n",
      "|      13|2013-07-25 00:00:00|             9149|PENDING_PAYMENT|\n",
      "|      14|2013-07-25 00:00:00|             9842|     PROCESSING|\n",
      "|      15|2013-07-25 00:00:00|             2568|       COMPLETE|\n",
      "|      16|2013-07-25 00:00:00|             7276|PENDING_PAYMENT|\n",
      "|      17|2013-07-25 00:00:00|             2667|       COMPLETE|\n",
      "|      18|2013-07-25 00:00:00|             1205|         CLOSED|\n",
      "|      19|2013-07-25 00:00:00|             9488|PENDING_PAYMENT|\n",
      "|      20|2013-07-25 00:00:00|             9198|     PROCESSING|\n",
      "+--------+-------------------+-----------------+---------------+\n",
      "only showing top 20 rows\n",
      "\n"
     ]
    }
   ],
   "source": [
    "orders = spark. \\\n",
    "    read. \\\n",
    "    options(sep='|', header=None, inferSchema=True). \\\n",
    "    format('csv'). \\\n",
    "    load(input_dir). \\\n",
    "    toDF('order_id', 'order_date', 'order_customer_id', 'order_status')\n",
    "orders.show()"
   ]
  },
  {
   "cell_type": "code",
   "execution_count": 51,
   "id": "8cedb82d-ff78-4d0f-8a2b-e0fe8a0d5979",
   "metadata": {
    "execution": {
     "iopub.execute_input": "2024-06-23T10:34:40.629499Z",
     "iopub.status.busy": "2024-06-23T10:34:40.628635Z",
     "iopub.status.idle": "2024-06-23T10:34:40.874220Z",
     "shell.execute_reply": "2024-06-23T10:34:40.873957Z",
     "shell.execute_reply.started": "2024-06-23T10:34:40.629451Z"
    }
   },
   "outputs": [
    {
     "name": "stdout",
     "output_type": "stream",
     "text": [
      "+--------+-------------------+-----------------+---------------+\n",
      "|order_id|         order_date|order_customer_id|   order_status|\n",
      "+--------+-------------------+-----------------+---------------+\n",
      "|       1|2013-07-25 00:00:00|            11599|         CLOSED|\n",
      "|       2|2013-07-25 00:00:00|              256|PENDING_PAYMENT|\n",
      "|       3|2013-07-25 00:00:00|            12111|       COMPLETE|\n",
      "|       4|2013-07-25 00:00:00|             8827|         CLOSED|\n",
      "|       5|2013-07-25 00:00:00|            11318|       COMPLETE|\n",
      "|       6|2013-07-25 00:00:00|             7130|       COMPLETE|\n",
      "|       7|2013-07-25 00:00:00|             4530|       COMPLETE|\n",
      "|       8|2013-07-25 00:00:00|             2911|     PROCESSING|\n",
      "|       9|2013-07-25 00:00:00|             5657|PENDING_PAYMENT|\n",
      "|      10|2013-07-25 00:00:00|             5648|PENDING_PAYMENT|\n",
      "|      11|2013-07-25 00:00:00|              918| PAYMENT_REVIEW|\n",
      "|      12|2013-07-25 00:00:00|             1837|         CLOSED|\n",
      "|      13|2013-07-25 00:00:00|             9149|PENDING_PAYMENT|\n",
      "|      14|2013-07-25 00:00:00|             9842|     PROCESSING|\n",
      "|      15|2013-07-25 00:00:00|             2568|       COMPLETE|\n",
      "|      16|2013-07-25 00:00:00|             7276|PENDING_PAYMENT|\n",
      "|      17|2013-07-25 00:00:00|             2667|       COMPLETE|\n",
      "|      18|2013-07-25 00:00:00|             1205|         CLOSED|\n",
      "|      19|2013-07-25 00:00:00|             9488|PENDING_PAYMENT|\n",
      "|      20|2013-07-25 00:00:00|             9198|     PROCESSING|\n",
      "+--------+-------------------+-----------------+---------------+\n",
      "only showing top 20 rows\n",
      "\n"
     ]
    }
   ],
   "source": [
    "# passing options as dict into options (kwargs)\n",
    "options = {\n",
    "    'sep': '|',\n",
    "    'header': None, \n",
    "    'inferSchema': True,\n",
    "}\n",
    "\n",
    "orders = spark. \\\n",
    "    read. \\\n",
    "    options(**options). \\\n",
    "    format('csv'). \\\n",
    "    load(input_dir). \\\n",
    "    toDF('order_id', 'order_date', 'order_customer_id', 'order_status')\n",
    "orders.show()"
   ]
  },
  {
   "cell_type": "code",
   "execution_count": 52,
   "id": "22bdeab2-fbad-4b17-8fd9-b168669bf55e",
   "metadata": {
    "execution": {
     "iopub.execute_input": "2024-06-23T10:34:43.219122Z",
     "iopub.status.busy": "2024-06-23T10:34:43.218596Z",
     "iopub.status.idle": "2024-06-23T10:34:43.499907Z",
     "shell.execute_reply": "2024-06-23T10:34:43.499671Z",
     "shell.execute_reply.started": "2024-06-23T10:34:43.219091Z"
    }
   },
   "outputs": [
    {
     "name": "stdout",
     "output_type": "stream",
     "text": [
      "+--------+-------------------+-----------------+---------------+\n",
      "|order_id|         order_date|order_customer_id|   order_status|\n",
      "+--------+-------------------+-----------------+---------------+\n",
      "|       1|2013-07-25 00:00:00|            11599|         CLOSED|\n",
      "|       2|2013-07-25 00:00:00|              256|PENDING_PAYMENT|\n",
      "|       3|2013-07-25 00:00:00|            12111|       COMPLETE|\n",
      "|       4|2013-07-25 00:00:00|             8827|         CLOSED|\n",
      "|       5|2013-07-25 00:00:00|            11318|       COMPLETE|\n",
      "|       6|2013-07-25 00:00:00|             7130|       COMPLETE|\n",
      "|       7|2013-07-25 00:00:00|             4530|       COMPLETE|\n",
      "|       8|2013-07-25 00:00:00|             2911|     PROCESSING|\n",
      "|       9|2013-07-25 00:00:00|             5657|PENDING_PAYMENT|\n",
      "|      10|2013-07-25 00:00:00|             5648|PENDING_PAYMENT|\n",
      "|      11|2013-07-25 00:00:00|              918| PAYMENT_REVIEW|\n",
      "|      12|2013-07-25 00:00:00|             1837|         CLOSED|\n",
      "|      13|2013-07-25 00:00:00|             9149|PENDING_PAYMENT|\n",
      "|      14|2013-07-25 00:00:00|             9842|     PROCESSING|\n",
      "|      15|2013-07-25 00:00:00|             2568|       COMPLETE|\n",
      "|      16|2013-07-25 00:00:00|             7276|PENDING_PAYMENT|\n",
      "|      17|2013-07-25 00:00:00|             2667|       COMPLETE|\n",
      "|      18|2013-07-25 00:00:00|             1205|         CLOSED|\n",
      "|      19|2013-07-25 00:00:00|             9488|PENDING_PAYMENT|\n",
      "|      20|2013-07-25 00:00:00|             9198|     PROCESSING|\n",
      "+--------+-------------------+-----------------+---------------+\n",
      "only showing top 20 rows\n",
      "\n"
     ]
    }
   ],
   "source": [
    "orders = spark. \\\n",
    "    read. \\\n",
    "    options(**options). \\\n",
    "    load(input_dir, format='csv'). \\\n",
    "    toDF('order_id', 'order_date', 'order_customer_id', 'order_status')\n",
    "orders.show()"
   ]
  },
  {
   "cell_type": "markdown",
   "id": "753a64cd-ab44-49e6-8dd0-2f50d214fe68",
   "metadata": {},
   "source": [
    "## Reading json files into Spark Data Frames"
   ]
  },
  {
   "cell_type": "code",
   "execution_count": 53,
   "id": "5086fde0-10b2-442d-90e8-5dcaeb923cd9",
   "metadata": {
    "execution": {
     "iopub.execute_input": "2024-06-23T10:35:59.372040Z",
     "iopub.status.busy": "2024-06-23T10:35:59.370408Z",
     "iopub.status.idle": "2024-06-23T10:35:59.488512Z",
     "shell.execute_reply": "2024-06-23T10:35:59.488189Z",
     "shell.execute_reply.started": "2024-06-23T10:35:59.371985Z"
    }
   },
   "outputs": [
    {
     "name": "stdout",
     "output_type": "stream",
     "text": [
      "+-----------------+--------------------+--------+---------------+\n",
      "|order_customer_id|          order_date|order_id|   order_status|\n",
      "+-----------------+--------------------+--------+---------------+\n",
      "|            11599|2013-07-25T00:00:...|       1|         CLOSED|\n",
      "|              256|2013-07-25T00:00:...|       2|PENDING_PAYMENT|\n",
      "|            12111|2013-07-25T00:00:...|       3|       COMPLETE|\n",
      "|             8827|2013-07-25T00:00:...|       4|         CLOSED|\n",
      "|            11318|2013-07-25T00:00:...|       5|       COMPLETE|\n",
      "|             7130|2013-07-25T00:00:...|       6|       COMPLETE|\n",
      "|             4530|2013-07-25T00:00:...|       7|       COMPLETE|\n",
      "|             2911|2013-07-25T00:00:...|       8|     PROCESSING|\n",
      "|             5657|2013-07-25T00:00:...|       9|PENDING_PAYMENT|\n",
      "|             5648|2013-07-25T00:00:...|      10|PENDING_PAYMENT|\n",
      "|              918|2013-07-25T00:00:...|      11| PAYMENT_REVIEW|\n",
      "|             1837|2013-07-25T00:00:...|      12|         CLOSED|\n",
      "|             9149|2013-07-25T00:00:...|      13|PENDING_PAYMENT|\n",
      "|             9842|2013-07-25T00:00:...|      14|     PROCESSING|\n",
      "|             2568|2013-07-25T00:00:...|      15|       COMPLETE|\n",
      "|             7276|2013-07-25T00:00:...|      16|PENDING_PAYMENT|\n",
      "|             2667|2013-07-25T00:00:...|      17|       COMPLETE|\n",
      "|             1205|2013-07-25T00:00:...|      18|         CLOSED|\n",
      "|             9488|2013-07-25T00:00:...|      19|PENDING_PAYMENT|\n",
      "|             9198|2013-07-25T00:00:...|      20|     PROCESSING|\n",
      "+-----------------+--------------------+--------+---------------+\n",
      "only showing top 20 rows\n",
      "\n"
     ]
    },
    {
     "data": {
      "text/plain": [
       "[('order_customer_id', 'bigint'),\n",
       " ('order_date', 'string'),\n",
       " ('order_id', 'bigint'),\n",
       " ('order_status', 'string')]"
      ]
     },
     "execution_count": 53,
     "metadata": {},
     "output_type": "execute_result"
    }
   ],
   "source": [
    "input_dir = '/Users/adhoc/git/retail_db/json/orders'\n",
    "df = spark.read.json(input_dir)\n",
    "df.show()\n",
    "df.dtypes"
   ]
  },
  {
   "cell_type": "code",
   "execution_count": 46,
   "id": "df3a187c-001c-4c29-a899-0e9a0869cd42",
   "metadata": {
    "execution": {
     "iopub.execute_input": "2024-06-23T10:33:18.961225Z",
     "iopub.status.busy": "2024-06-23T10:33:18.960664Z",
     "iopub.status.idle": "2024-06-23T10:33:19.082165Z",
     "shell.execute_reply": "2024-06-23T10:33:19.081938Z",
     "shell.execute_reply.started": "2024-06-23T10:33:18.961192Z"
    }
   },
   "outputs": [
    {
     "name": "stdout",
     "output_type": "stream",
     "text": [
      "+-----------------+--------------------+--------+---------------+\n",
      "|order_customer_id|          order_date|order_id|   order_status|\n",
      "+-----------------+--------------------+--------+---------------+\n",
      "|            11599|2013-07-25T00:00:...|       1|         CLOSED|\n",
      "|              256|2013-07-25T00:00:...|       2|PENDING_PAYMENT|\n",
      "|            12111|2013-07-25T00:00:...|       3|       COMPLETE|\n",
      "|             8827|2013-07-25T00:00:...|       4|         CLOSED|\n",
      "|            11318|2013-07-25T00:00:...|       5|       COMPLETE|\n",
      "|             7130|2013-07-25T00:00:...|       6|       COMPLETE|\n",
      "|             4530|2013-07-25T00:00:...|       7|       COMPLETE|\n",
      "|             2911|2013-07-25T00:00:...|       8|     PROCESSING|\n",
      "|             5657|2013-07-25T00:00:...|       9|PENDING_PAYMENT|\n",
      "|             5648|2013-07-25T00:00:...|      10|PENDING_PAYMENT|\n",
      "|              918|2013-07-25T00:00:...|      11| PAYMENT_REVIEW|\n",
      "|             1837|2013-07-25T00:00:...|      12|         CLOSED|\n",
      "|             9149|2013-07-25T00:00:...|      13|PENDING_PAYMENT|\n",
      "|             9842|2013-07-25T00:00:...|      14|     PROCESSING|\n",
      "|             2568|2013-07-25T00:00:...|      15|       COMPLETE|\n",
      "|             7276|2013-07-25T00:00:...|      16|PENDING_PAYMENT|\n",
      "|             2667|2013-07-25T00:00:...|      17|       COMPLETE|\n",
      "|             1205|2013-07-25T00:00:...|      18|         CLOSED|\n",
      "|             9488|2013-07-25T00:00:...|      19|PENDING_PAYMENT|\n",
      "|             9198|2013-07-25T00:00:...|      20|     PROCESSING|\n",
      "+-----------------+--------------------+--------+---------------+\n",
      "only showing top 20 rows\n",
      "\n"
     ]
    }
   ],
   "source": [
    "df = spark.read.format('json').load(input_dir)\n",
    "df.show()"
   ]
  },
  {
   "cell_type": "code",
   "execution_count": 47,
   "id": "44fe4b6e-6996-4c48-a97a-1f0e49735ef6",
   "metadata": {
    "execution": {
     "iopub.execute_input": "2024-06-23T10:33:20.899796Z",
     "iopub.status.busy": "2024-06-23T10:33:20.899654Z",
     "iopub.status.idle": "2024-06-23T10:33:20.904588Z",
     "shell.execute_reply": "2024-06-23T10:33:20.904161Z",
     "shell.execute_reply.started": "2024-06-23T10:33:20.899787Z"
    }
   },
   "outputs": [
    {
     "data": {
      "text/plain": [
       "['file:///Users/adhoc/git/retail_db/json/orders/part-00000-72a3482e-2063-43c8-9677-b7913ee1571e-c000.json']"
      ]
     },
     "execution_count": 47,
     "metadata": {},
     "output_type": "execute_result"
    }
   ],
   "source": [
    "df.inputFiles()"
   ]
  },
  {
   "cell_type": "markdown",
   "id": "d1fb20a1-e0cf-40c2-91a5-aba069a05df2",
   "metadata": {},
   "source": [
    "## Specyfing schema while reading json files into Spark Data Frame"
   ]
  },
  {
   "cell_type": "code",
   "execution_count": 58,
   "id": "8597b396-fb93-4dba-856b-522960024067",
   "metadata": {
    "execution": {
     "iopub.execute_input": "2024-06-23T10:38:27.961797Z",
     "iopub.status.busy": "2024-06-23T10:38:27.961328Z",
     "iopub.status.idle": "2024-06-23T10:38:28.023743Z",
     "shell.execute_reply": "2024-06-23T10:38:28.023359Z",
     "shell.execute_reply.started": "2024-06-23T10:38:27.961768Z"
    }
   },
   "outputs": [
    {
     "name": "stdout",
     "output_type": "stream",
     "text": [
      "+--------+-------------------+-----------------+---------------+\n",
      "|order_id|         order_date|order_customer_id|   order_status|\n",
      "+--------+-------------------+-----------------+---------------+\n",
      "|       1|2013-07-25 00:00:00|            11599|         CLOSED|\n",
      "|       2|2013-07-25 00:00:00|              256|PENDING_PAYMENT|\n",
      "|       3|2013-07-25 00:00:00|            12111|       COMPLETE|\n",
      "|       4|2013-07-25 00:00:00|             8827|         CLOSED|\n",
      "|       5|2013-07-25 00:00:00|            11318|       COMPLETE|\n",
      "|       6|2013-07-25 00:00:00|             7130|       COMPLETE|\n",
      "|       7|2013-07-25 00:00:00|             4530|       COMPLETE|\n",
      "|       8|2013-07-25 00:00:00|             2911|     PROCESSING|\n",
      "|       9|2013-07-25 00:00:00|             5657|PENDING_PAYMENT|\n",
      "|      10|2013-07-25 00:00:00|             5648|PENDING_PAYMENT|\n",
      "|      11|2013-07-25 00:00:00|              918| PAYMENT_REVIEW|\n",
      "|      12|2013-07-25 00:00:00|             1837|         CLOSED|\n",
      "|      13|2013-07-25 00:00:00|             9149|PENDING_PAYMENT|\n",
      "|      14|2013-07-25 00:00:00|             9842|     PROCESSING|\n",
      "|      15|2013-07-25 00:00:00|             2568|       COMPLETE|\n",
      "|      16|2013-07-25 00:00:00|             7276|PENDING_PAYMENT|\n",
      "|      17|2013-07-25 00:00:00|             2667|       COMPLETE|\n",
      "|      18|2013-07-25 00:00:00|             1205|         CLOSED|\n",
      "|      19|2013-07-25 00:00:00|             9488|PENDING_PAYMENT|\n",
      "|      20|2013-07-25 00:00:00|             9198|     PROCESSING|\n",
      "+--------+-------------------+-----------------+---------------+\n",
      "only showing top 20 rows\n",
      "\n"
     ]
    },
    {
     "data": {
      "text/plain": [
       "[('order_id', 'int'),\n",
       " ('order_date', 'timestamp'),\n",
       " ('order_customer_id', 'int'),\n",
       " ('order_status', 'string')]"
      ]
     },
     "execution_count": 58,
     "metadata": {},
     "output_type": "execute_result"
    }
   ],
   "source": [
    "input_dir = '/Users/adhoc/git/retail_db/json/orders'\n",
    "schema = \"\"\"\n",
    "    order_id INT,\n",
    "    order_date TIMESTAMP,\n",
    "    order_customer_id INT,\n",
    "    order_status STRING\n",
    "\"\"\"\n",
    "df = spark.read.schema(schema).json(input_dir)\n",
    "df.show()\n",
    "df.dtypes"
   ]
  },
  {
   "cell_type": "code",
   "execution_count": 60,
   "id": "15419d76-0009-48d1-abe9-112b37f7c616",
   "metadata": {
    "execution": {
     "iopub.execute_input": "2024-06-23T10:39:44.412888Z",
     "iopub.status.busy": "2024-06-23T10:39:44.410759Z",
     "iopub.status.idle": "2024-06-23T10:39:44.487886Z",
     "shell.execute_reply": "2024-06-23T10:39:44.487555Z",
     "shell.execute_reply.started": "2024-06-23T10:39:44.412721Z"
    }
   },
   "outputs": [
    {
     "name": "stdout",
     "output_type": "stream",
     "text": [
      "+--------+-------------------+-----------------+---------------+\n",
      "|order_id|         order_date|order_customer_id|   order_status|\n",
      "+--------+-------------------+-----------------+---------------+\n",
      "|       1|2013-07-25 00:00:00|            11599|         CLOSED|\n",
      "|       2|2013-07-25 00:00:00|              256|PENDING_PAYMENT|\n",
      "|       3|2013-07-25 00:00:00|            12111|       COMPLETE|\n",
      "|       4|2013-07-25 00:00:00|             8827|         CLOSED|\n",
      "|       5|2013-07-25 00:00:00|            11318|       COMPLETE|\n",
      "|       6|2013-07-25 00:00:00|             7130|       COMPLETE|\n",
      "|       7|2013-07-25 00:00:00|             4530|       COMPLETE|\n",
      "|       8|2013-07-25 00:00:00|             2911|     PROCESSING|\n",
      "|       9|2013-07-25 00:00:00|             5657|PENDING_PAYMENT|\n",
      "|      10|2013-07-25 00:00:00|             5648|PENDING_PAYMENT|\n",
      "|      11|2013-07-25 00:00:00|              918| PAYMENT_REVIEW|\n",
      "|      12|2013-07-25 00:00:00|             1837|         CLOSED|\n",
      "|      13|2013-07-25 00:00:00|             9149|PENDING_PAYMENT|\n",
      "|      14|2013-07-25 00:00:00|             9842|     PROCESSING|\n",
      "|      15|2013-07-25 00:00:00|             2568|       COMPLETE|\n",
      "|      16|2013-07-25 00:00:00|             7276|PENDING_PAYMENT|\n",
      "|      17|2013-07-25 00:00:00|             2667|       COMPLETE|\n",
      "|      18|2013-07-25 00:00:00|             1205|         CLOSED|\n",
      "|      19|2013-07-25 00:00:00|             9488|PENDING_PAYMENT|\n",
      "|      20|2013-07-25 00:00:00|             9198|     PROCESSING|\n",
      "+--------+-------------------+-----------------+---------------+\n",
      "only showing top 20 rows\n",
      "\n"
     ]
    }
   ],
   "source": [
    "df = spark.read.json(input_dir, schema=schema)\n",
    "df.show()"
   ]
  },
  {
   "cell_type": "code",
   "execution_count": 63,
   "id": "d2939289-4840-4f1c-acdb-0dbaa87bc022",
   "metadata": {
    "execution": {
     "iopub.execute_input": "2024-06-23T10:43:28.986489Z",
     "iopub.status.busy": "2024-06-23T10:43:28.985687Z",
     "iopub.status.idle": "2024-06-23T10:43:29.056425Z",
     "shell.execute_reply": "2024-06-23T10:43:29.055980Z",
     "shell.execute_reply.started": "2024-06-23T10:43:28.986437Z"
    }
   },
   "outputs": [
    {
     "name": "stdout",
     "output_type": "stream",
     "text": [
      "+--------+-------------------+-----------------+---------------+\n",
      "|order_id|         order_date|order_customer_id|   order_status|\n",
      "+--------+-------------------+-----------------+---------------+\n",
      "|       1|2013-07-25 00:00:00|            11599|         CLOSED|\n",
      "|       2|2013-07-25 00:00:00|              256|PENDING_PAYMENT|\n",
      "|       3|2013-07-25 00:00:00|            12111|       COMPLETE|\n",
      "|       4|2013-07-25 00:00:00|             8827|         CLOSED|\n",
      "|       5|2013-07-25 00:00:00|            11318|       COMPLETE|\n",
      "|       6|2013-07-25 00:00:00|             7130|       COMPLETE|\n",
      "|       7|2013-07-25 00:00:00|             4530|       COMPLETE|\n",
      "|       8|2013-07-25 00:00:00|             2911|     PROCESSING|\n",
      "|       9|2013-07-25 00:00:00|             5657|PENDING_PAYMENT|\n",
      "|      10|2013-07-25 00:00:00|             5648|PENDING_PAYMENT|\n",
      "|      11|2013-07-25 00:00:00|              918| PAYMENT_REVIEW|\n",
      "|      12|2013-07-25 00:00:00|             1837|         CLOSED|\n",
      "|      13|2013-07-25 00:00:00|             9149|PENDING_PAYMENT|\n",
      "|      14|2013-07-25 00:00:00|             9842|     PROCESSING|\n",
      "|      15|2013-07-25 00:00:00|             2568|       COMPLETE|\n",
      "|      16|2013-07-25 00:00:00|             7276|PENDING_PAYMENT|\n",
      "|      17|2013-07-25 00:00:00|             2667|       COMPLETE|\n",
      "|      18|2013-07-25 00:00:00|             1205|         CLOSED|\n",
      "|      19|2013-07-25 00:00:00|             9488|PENDING_PAYMENT|\n",
      "|      20|2013-07-25 00:00:00|             9198|     PROCESSING|\n",
      "+--------+-------------------+-----------------+---------------+\n",
      "only showing top 20 rows\n",
      "\n"
     ]
    },
    {
     "data": {
      "text/plain": [
       "[('order_id', 'int'),\n",
       " ('order_date', 'timestamp'),\n",
       " ('order_customer_id', 'int'),\n",
       " ('order_status', 'string')]"
      ]
     },
     "execution_count": 63,
     "metadata": {},
     "output_type": "execute_result"
    }
   ],
   "source": [
    "from pyspark.sql.types import StructType, StructField, IntegerType, StringType, TimestampType\n",
    "schema = StructType([\n",
    "    StructField('order_id', IntegerType()),\n",
    "    StructField('order_date', TimestampType()),\n",
    "    StructField('order_customer_id', IntegerType()),\n",
    "    StructField('order_status', StringType()),\n",
    "])\n",
    "spark.read.json(input_dir, schema=schema).show()\n",
    "spark.read.json(input_dir, schema=schema).dtypes"
   ]
  },
  {
   "cell_type": "markdown",
   "id": "dfe39667-216d-494a-a8b8-ce1e867575d7",
   "metadata": {},
   "source": [
    "## Side effects of infering schema while creating Spark Data Frame\n",
    "* `inferSchema` is used to entire data\n",
    "* in case the data volume is huge the time spend to determine data types can be significant\n",
    "* when the schema is specified explicitely the data will not be read to determine the data types while creating Spark Data Frame\n",
    "* the schema can be explicitely speficied as `String` or `StructType` \n",
    "* `inferSchema` is used by default for `json`, `parquet`, `orc`. For Parquet and ORC column names and data types are inferred using metadata associated with the files\n",
    "* inferring schema for CSV will create Data Frames with system generated column names. If `inferSchema` is used then the types will be determined. If the files contain the header then the column names can be derived from it. If not the column names can be provided usint `toDF` function. "
   ]
  },
  {
   "cell_type": "markdown",
   "id": "acc6c6e3-572e-49b5-bd49-724da04a1d5f",
   "metadata": {},
   "source": [
    "## Reading parquet files into Spark Data Frame"
   ]
  },
  {
   "cell_type": "code",
   "execution_count": 70,
   "id": "7f798984-f399-4553-8f3f-b7461788c85c",
   "metadata": {
    "execution": {
     "iopub.execute_input": "2024-06-23T11:13:59.967975Z",
     "iopub.status.busy": "2024-06-23T11:13:59.967418Z",
     "iopub.status.idle": "2024-06-23T11:14:00.105880Z",
     "shell.execute_reply": "2024-06-23T11:14:00.105654Z",
     "shell.execute_reply.started": "2024-06-23T11:13:59.967947Z"
    }
   },
   "outputs": [
    {
     "name": "stdout",
     "output_type": "stream",
     "text": [
      "+--------+-------------------+-----------------+---------------+\n",
      "|order_id|         order_date|order_customer_id|   order_status|\n",
      "+--------+-------------------+-----------------+---------------+\n",
      "|       1|2013-07-25 00:00:00|            11599|         CLOSED|\n",
      "|       2|2013-07-25 00:00:00|              256|PENDING_PAYMENT|\n",
      "|       3|2013-07-25 00:00:00|            12111|       COMPLETE|\n",
      "|       4|2013-07-25 00:00:00|             8827|         CLOSED|\n",
      "|       5|2013-07-25 00:00:00|            11318|       COMPLETE|\n",
      "|       6|2013-07-25 00:00:00|             7130|       COMPLETE|\n",
      "|       7|2013-07-25 00:00:00|             4530|       COMPLETE|\n",
      "|       8|2013-07-25 00:00:00|             2911|     PROCESSING|\n",
      "|       9|2013-07-25 00:00:00|             5657|PENDING_PAYMENT|\n",
      "|      10|2013-07-25 00:00:00|             5648|PENDING_PAYMENT|\n",
      "|      11|2013-07-25 00:00:00|              918| PAYMENT_REVIEW|\n",
      "|      12|2013-07-25 00:00:00|             1837|         CLOSED|\n",
      "|      13|2013-07-25 00:00:00|             9149|PENDING_PAYMENT|\n",
      "|      14|2013-07-25 00:00:00|             9842|     PROCESSING|\n",
      "|      15|2013-07-25 00:00:00|             2568|       COMPLETE|\n",
      "|      16|2013-07-25 00:00:00|             7276|PENDING_PAYMENT|\n",
      "|      17|2013-07-25 00:00:00|             2667|       COMPLETE|\n",
      "|      18|2013-07-25 00:00:00|             1205|         CLOSED|\n",
      "|      19|2013-07-25 00:00:00|             9488|PENDING_PAYMENT|\n",
      "|      20|2013-07-25 00:00:00|             9198|     PROCESSING|\n",
      "+--------+-------------------+-----------------+---------------+\n",
      "only showing top 20 rows\n",
      "\n"
     ]
    },
    {
     "data": {
      "text/plain": [
       "(['file:///Users/adhoc/git/retail_db/parquet/orders/part-00000-fd4e1ff5-59c5-448c-a014-abcb999bf248-c000.snappy.parquet'],\n",
       " [('order_id', 'int'),\n",
       "  ('order_date', 'timestamp'),\n",
       "  ('order_customer_id', 'int'),\n",
       "  ('order_status', 'string')])"
      ]
     },
     "execution_count": 70,
     "metadata": {},
     "output_type": "execute_result"
    }
   ],
   "source": [
    "input_dir = '/Users/adhoc/git/retail_db/parquet/orders'\n",
    "df = spark.read.parquet(input_dir)\n",
    "df.show()\n",
    "df.inputFiles(), df.dtypes"
   ]
  },
  {
   "cell_type": "code",
   "execution_count": 71,
   "id": "dd8fb801-3b67-4fc8-a7f3-08ad97c89bc1",
   "metadata": {
    "execution": {
     "iopub.execute_input": "2024-06-23T11:15:35.239616Z",
     "iopub.status.busy": "2024-06-23T11:15:35.239083Z",
     "iopub.status.idle": "2024-06-23T11:15:35.345052Z",
     "shell.execute_reply": "2024-06-23T11:15:35.344807Z",
     "shell.execute_reply.started": "2024-06-23T11:15:35.239587Z"
    }
   },
   "outputs": [
    {
     "name": "stdout",
     "output_type": "stream",
     "text": [
      "+--------+-------------------+-----------------+---------------+\n",
      "|order_id|         order_date|order_customer_id|   order_status|\n",
      "+--------+-------------------+-----------------+---------------+\n",
      "|       1|2013-07-25 00:00:00|            11599|         CLOSED|\n",
      "|       2|2013-07-25 00:00:00|              256|PENDING_PAYMENT|\n",
      "|       3|2013-07-25 00:00:00|            12111|       COMPLETE|\n",
      "|       4|2013-07-25 00:00:00|             8827|         CLOSED|\n",
      "|       5|2013-07-25 00:00:00|            11318|       COMPLETE|\n",
      "|       6|2013-07-25 00:00:00|             7130|       COMPLETE|\n",
      "|       7|2013-07-25 00:00:00|             4530|       COMPLETE|\n",
      "|       8|2013-07-25 00:00:00|             2911|     PROCESSING|\n",
      "|       9|2013-07-25 00:00:00|             5657|PENDING_PAYMENT|\n",
      "|      10|2013-07-25 00:00:00|             5648|PENDING_PAYMENT|\n",
      "|      11|2013-07-25 00:00:00|              918| PAYMENT_REVIEW|\n",
      "|      12|2013-07-25 00:00:00|             1837|         CLOSED|\n",
      "|      13|2013-07-25 00:00:00|             9149|PENDING_PAYMENT|\n",
      "|      14|2013-07-25 00:00:00|             9842|     PROCESSING|\n",
      "|      15|2013-07-25 00:00:00|             2568|       COMPLETE|\n",
      "|      16|2013-07-25 00:00:00|             7276|PENDING_PAYMENT|\n",
      "|      17|2013-07-25 00:00:00|             2667|       COMPLETE|\n",
      "|      18|2013-07-25 00:00:00|             1205|         CLOSED|\n",
      "|      19|2013-07-25 00:00:00|             9488|PENDING_PAYMENT|\n",
      "|      20|2013-07-25 00:00:00|             9198|     PROCESSING|\n",
      "+--------+-------------------+-----------------+---------------+\n",
      "only showing top 20 rows\n",
      "\n"
     ]
    }
   ],
   "source": [
    "spark.read.format('parquet').load(input_dir).show()"
   ]
  },
  {
   "cell_type": "markdown",
   "id": "bc74a132-9d26-4acb-bb4c-c9dd01bfb02c",
   "metadata": {},
   "source": [
    "## Explicitly specifying schema while reading parquet files into Spark Data Frame "
   ]
  },
  {
   "cell_type": "code",
   "execution_count": 74,
   "id": "1f6cc84e-bb21-4f01-94dd-7aaecb96f190",
   "metadata": {
    "execution": {
     "iopub.execute_input": "2024-06-23T11:20:41.519058Z",
     "iopub.status.busy": "2024-06-23T11:20:41.517864Z",
     "iopub.status.idle": "2024-06-23T11:20:41.593604Z",
     "shell.execute_reply": "2024-06-23T11:20:41.593147Z",
     "shell.execute_reply.started": "2024-06-23T11:20:41.519009Z"
    }
   },
   "outputs": [
    {
     "name": "stdout",
     "output_type": "stream",
     "text": [
      "+--------+-------------------+-----------------+---------------+\n",
      "|order_id|         order_date|order_customer_id|   order_status|\n",
      "+--------+-------------------+-----------------+---------------+\n",
      "|       1|2013-07-25 00:00:00|            11599|         CLOSED|\n",
      "|       2|2013-07-25 00:00:00|              256|PENDING_PAYMENT|\n",
      "|       3|2013-07-25 00:00:00|            12111|       COMPLETE|\n",
      "|       4|2013-07-25 00:00:00|             8827|         CLOSED|\n",
      "|       5|2013-07-25 00:00:00|            11318|       COMPLETE|\n",
      "|       6|2013-07-25 00:00:00|             7130|       COMPLETE|\n",
      "|       7|2013-07-25 00:00:00|             4530|       COMPLETE|\n",
      "|       8|2013-07-25 00:00:00|             2911|     PROCESSING|\n",
      "|       9|2013-07-25 00:00:00|             5657|PENDING_PAYMENT|\n",
      "|      10|2013-07-25 00:00:00|             5648|PENDING_PAYMENT|\n",
      "|      11|2013-07-25 00:00:00|              918| PAYMENT_REVIEW|\n",
      "|      12|2013-07-25 00:00:00|             1837|         CLOSED|\n",
      "|      13|2013-07-25 00:00:00|             9149|PENDING_PAYMENT|\n",
      "|      14|2013-07-25 00:00:00|             9842|     PROCESSING|\n",
      "|      15|2013-07-25 00:00:00|             2568|       COMPLETE|\n",
      "|      16|2013-07-25 00:00:00|             7276|PENDING_PAYMENT|\n",
      "|      17|2013-07-25 00:00:00|             2667|       COMPLETE|\n",
      "|      18|2013-07-25 00:00:00|             1205|         CLOSED|\n",
      "|      19|2013-07-25 00:00:00|             9488|PENDING_PAYMENT|\n",
      "|      20|2013-07-25 00:00:00|             9198|     PROCESSING|\n",
      "+--------+-------------------+-----------------+---------------+\n",
      "only showing top 20 rows\n",
      "\n"
     ]
    },
    {
     "data": {
      "text/plain": [
       "[('order_id', 'int'),\n",
       " ('order_date', 'timestamp'),\n",
       " ('order_customer_id', 'int'),\n",
       " ('order_status', 'string')]"
      ]
     },
     "execution_count": 74,
     "metadata": {},
     "output_type": "execute_result"
    }
   ],
   "source": [
    "input_dir = '/Users/adhoc/git/retail_db/parquet/orders'\n",
    "\n",
    "schema = \"\"\"\n",
    "    order_id INT,\n",
    "    order_date TIMESTAMP,\n",
    "    order_customer_id INT,\n",
    "    order_status STRING\n",
    "\"\"\"\n",
    "\n",
    "spark.read.schema(schema).parquet(input_dir).show()\n",
    "spark.read.schema(schema).parquet(input_dir).dtypes"
   ]
  },
  {
   "cell_type": "code",
   "execution_count": 76,
   "id": "a3b922f7-be60-48ce-9722-df2a34ec3fcb",
   "metadata": {
    "execution": {
     "iopub.execute_input": "2024-06-23T11:22:08.051682Z",
     "iopub.status.busy": "2024-06-23T11:22:08.050502Z",
     "iopub.status.idle": "2024-06-23T11:22:08.190864Z",
     "shell.execute_reply": "2024-06-23T11:22:08.190665Z",
     "shell.execute_reply.started": "2024-06-23T11:22:08.051635Z"
    }
   },
   "outputs": [
    {
     "name": "stdout",
     "output_type": "stream",
     "text": [
      "+--------+-------------------+-----------------+---------------+\n",
      "|order_id|         order_date|order_customer_id|   order_status|\n",
      "+--------+-------------------+-----------------+---------------+\n",
      "|       1|2013-07-25 00:00:00|            11599|         CLOSED|\n",
      "|       2|2013-07-25 00:00:00|              256|PENDING_PAYMENT|\n",
      "|       3|2013-07-25 00:00:00|            12111|       COMPLETE|\n",
      "|       4|2013-07-25 00:00:00|             8827|         CLOSED|\n",
      "|       5|2013-07-25 00:00:00|            11318|       COMPLETE|\n",
      "|       6|2013-07-25 00:00:00|             7130|       COMPLETE|\n",
      "|       7|2013-07-25 00:00:00|             4530|       COMPLETE|\n",
      "|       8|2013-07-25 00:00:00|             2911|     PROCESSING|\n",
      "|       9|2013-07-25 00:00:00|             5657|PENDING_PAYMENT|\n",
      "|      10|2013-07-25 00:00:00|             5648|PENDING_PAYMENT|\n",
      "|      11|2013-07-25 00:00:00|              918| PAYMENT_REVIEW|\n",
      "|      12|2013-07-25 00:00:00|             1837|         CLOSED|\n",
      "|      13|2013-07-25 00:00:00|             9149|PENDING_PAYMENT|\n",
      "|      14|2013-07-25 00:00:00|             9842|     PROCESSING|\n",
      "|      15|2013-07-25 00:00:00|             2568|       COMPLETE|\n",
      "|      16|2013-07-25 00:00:00|             7276|PENDING_PAYMENT|\n",
      "|      17|2013-07-25 00:00:00|             2667|       COMPLETE|\n",
      "|      18|2013-07-25 00:00:00|             1205|         CLOSED|\n",
      "|      19|2013-07-25 00:00:00|             9488|PENDING_PAYMENT|\n",
      "|      20|2013-07-25 00:00:00|             9198|     PROCESSING|\n",
      "+--------+-------------------+-----------------+---------------+\n",
      "only showing top 20 rows\n",
      "\n"
     ]
    },
    {
     "data": {
      "text/plain": [
       "[('order_id', 'int'),\n",
       " ('order_date', 'timestamp'),\n",
       " ('order_customer_id', 'int'),\n",
       " ('order_status', 'string')]"
      ]
     },
     "execution_count": 76,
     "metadata": {},
     "output_type": "execute_result"
    }
   ],
   "source": [
    "spark.read.parquet(input_dir, schema=schema).show()\n",
    "spark.read.parquet(input_dir, schema=schema).dtypes"
   ]
  },
  {
   "cell_type": "code",
   "execution_count": 78,
   "id": "98084398-5433-4796-977f-b8e2958fe1ae",
   "metadata": {
    "execution": {
     "iopub.execute_input": "2024-06-23T11:23:24.529578Z",
     "iopub.status.busy": "2024-06-23T11:23:24.528496Z",
     "iopub.status.idle": "2024-06-23T11:23:24.693144Z",
     "shell.execute_reply": "2024-06-23T11:23:24.692920Z",
     "shell.execute_reply.started": "2024-06-23T11:23:24.529545Z"
    }
   },
   "outputs": [
    {
     "name": "stdout",
     "output_type": "stream",
     "text": [
      "+--------+-------------------+-----------------+---------------+\n",
      "|order_id|         order_date|order_customer_id|   order_status|\n",
      "+--------+-------------------+-----------------+---------------+\n",
      "|       1|2013-07-25 00:00:00|            11599|         CLOSED|\n",
      "|       2|2013-07-25 00:00:00|              256|PENDING_PAYMENT|\n",
      "|       3|2013-07-25 00:00:00|            12111|       COMPLETE|\n",
      "|       4|2013-07-25 00:00:00|             8827|         CLOSED|\n",
      "|       5|2013-07-25 00:00:00|            11318|       COMPLETE|\n",
      "|       6|2013-07-25 00:00:00|             7130|       COMPLETE|\n",
      "|       7|2013-07-25 00:00:00|             4530|       COMPLETE|\n",
      "|       8|2013-07-25 00:00:00|             2911|     PROCESSING|\n",
      "|       9|2013-07-25 00:00:00|             5657|PENDING_PAYMENT|\n",
      "|      10|2013-07-25 00:00:00|             5648|PENDING_PAYMENT|\n",
      "|      11|2013-07-25 00:00:00|              918| PAYMENT_REVIEW|\n",
      "|      12|2013-07-25 00:00:00|             1837|         CLOSED|\n",
      "|      13|2013-07-25 00:00:00|             9149|PENDING_PAYMENT|\n",
      "|      14|2013-07-25 00:00:00|             9842|     PROCESSING|\n",
      "|      15|2013-07-25 00:00:00|             2568|       COMPLETE|\n",
      "|      16|2013-07-25 00:00:00|             7276|PENDING_PAYMENT|\n",
      "|      17|2013-07-25 00:00:00|             2667|       COMPLETE|\n",
      "|      18|2013-07-25 00:00:00|             1205|         CLOSED|\n",
      "|      19|2013-07-25 00:00:00|             9488|PENDING_PAYMENT|\n",
      "|      20|2013-07-25 00:00:00|             9198|     PROCESSING|\n",
      "+--------+-------------------+-----------------+---------------+\n",
      "only showing top 20 rows\n",
      "\n"
     ]
    },
    {
     "data": {
      "text/plain": [
       "[('order_id', 'int'),\n",
       " ('order_date', 'timestamp'),\n",
       " ('order_customer_id', 'int'),\n",
       " ('order_status', 'string')]"
      ]
     },
     "execution_count": 78,
     "metadata": {},
     "output_type": "execute_result"
    }
   ],
   "source": [
    "from pyspark.sql.types import StructType, StructField, IntegerType, StringType, TimestampType\n",
    "schema = StructType([\n",
    "    StructField('order_id', IntegerType()),\n",
    "    StructField('order_date', TimestampType()),\n",
    "    StructField('order_customer_id', IntegerType()),\n",
    "    StructField('order_status', StringType()),\n",
    "])\n",
    "spark.read.parquet(input_dir, schema=schema).show()\n",
    "spark.read.parquet(input_dir, schema=schema).dtypes"
   ]
  }
 ],
 "metadata": {
  "kernelspec": {
   "display_name": "Python 3 (ipykernel)",
   "language": "python",
   "name": "python3"
  },
  "language_info": {
   "codemirror_mode": {
    "name": "ipython",
    "version": 3
   },
   "file_extension": ".py",
   "mimetype": "text/x-python",
   "name": "python",
   "nbconvert_exporter": "python",
   "pygments_lexer": "ipython3",
   "version": "3.11.9"
  }
 },
 "nbformat": 4,
 "nbformat_minor": 5
}
