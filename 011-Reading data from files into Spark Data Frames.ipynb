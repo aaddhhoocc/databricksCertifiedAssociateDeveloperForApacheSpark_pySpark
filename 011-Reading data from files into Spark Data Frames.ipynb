{
 "cells": [
  {
   "cell_type": "code",
   "execution_count": 1,
   "id": "13602265-0c88-41c4-b03b-466a97e7d48e",
   "metadata": {
    "execution": {
     "iopub.execute_input": "2024-06-22T18:22:45.215539Z",
     "iopub.status.busy": "2024-06-22T18:22:45.214716Z",
     "iopub.status.idle": "2024-06-22T18:22:52.020661Z",
     "shell.execute_reply": "2024-06-22T18:22:52.020267Z",
     "shell.execute_reply.started": "2024-06-22T18:22:45.215502Z"
    }
   },
   "outputs": [
    {
     "name": "stderr",
     "output_type": "stream",
     "text": [
      "Setting default log level to \"WARN\".\n",
      "To adjust logging level use sc.setLogLevel(newLevel). For SparkR, use setLogLevel(newLevel).\n",
      "24/06/22 20:22:51 WARN NativeCodeLoader: Unable to load native-hadoop library for your platform... using builtin-java classes where applicable\n"
     ]
    }
   ],
   "source": [
    "from pyspark.sql import SparkSession\n",
    "spark = SparkSession.builder.appName('instance').getOrCreate()"
   ]
  },
  {
   "cell_type": "markdown",
   "id": "c4f256ed-ba47-48d4-8ed7-3ddc38a84532",
   "metadata": {},
   "source": [
    "## Validate datasets for reading from files using Spark API"
   ]
  },
  {
   "cell_type": "code",
   "execution_count": 13,
   "id": "595c3beb-5de9-478f-b038-067cec404208",
   "metadata": {
    "execution": {
     "iopub.execute_input": "2024-06-22T10:46:33.792075Z",
     "iopub.status.busy": "2024-06-22T10:46:33.791313Z",
     "iopub.status.idle": "2024-06-22T10:46:33.910016Z",
     "shell.execute_reply": "2024-06-22T10:46:33.909732Z",
     "shell.execute_reply.started": "2024-06-22T10:46:33.792043Z"
    }
   },
   "outputs": [
    {
     "name": "stdout",
     "output_type": "stream",
     "text": [
      "+--------+-------------------+-----------------+---------------+\n",
      "|order_id|         order_date|order_customer_id|   order_status|\n",
      "+--------+-------------------+-----------------+---------------+\n",
      "|       1|2013-07-25 00:00:00|            11599|         CLOSED|\n",
      "|       2|2013-07-25 00:00:00|              256|PENDING_PAYMENT|\n",
      "|       3|2013-07-25 00:00:00|            12111|       COMPLETE|\n",
      "|       4|2013-07-25 00:00:00|             8827|         CLOSED|\n",
      "|       5|2013-07-25 00:00:00|            11318|       COMPLETE|\n",
      "|       6|2013-07-25 00:00:00|             7130|       COMPLETE|\n",
      "|       7|2013-07-25 00:00:00|             4530|       COMPLETE|\n",
      "|       8|2013-07-25 00:00:00|             2911|     PROCESSING|\n",
      "|       9|2013-07-25 00:00:00|             5657|PENDING_PAYMENT|\n",
      "|      10|2013-07-25 00:00:00|             5648|PENDING_PAYMENT|\n",
      "|      11|2013-07-25 00:00:00|              918| PAYMENT_REVIEW|\n",
      "|      12|2013-07-25 00:00:00|             1837|         CLOSED|\n",
      "|      13|2013-07-25 00:00:00|             9149|PENDING_PAYMENT|\n",
      "|      14|2013-07-25 00:00:00|             9842|     PROCESSING|\n",
      "|      15|2013-07-25 00:00:00|             2568|       COMPLETE|\n",
      "|      16|2013-07-25 00:00:00|             7276|PENDING_PAYMENT|\n",
      "|      17|2013-07-25 00:00:00|             2667|       COMPLETE|\n",
      "|      18|2013-07-25 00:00:00|             1205|         CLOSED|\n",
      "|      19|2013-07-25 00:00:00|             9488|PENDING_PAYMENT|\n",
      "|      20|2013-07-25 00:00:00|             9198|     PROCESSING|\n",
      "+--------+-------------------+-----------------+---------------+\n",
      "only showing top 20 rows\n",
      "\n",
      "root\n",
      " |-- order_id: integer (nullable = true)\n",
      " |-- order_date: timestamp (nullable = true)\n",
      " |-- order_customer_id: integer (nullable = true)\n",
      " |-- order_status: string (nullable = true)\n",
      "\n"
     ]
    },
    {
     "data": {
      "text/plain": [
       "[('order_id', 'int'),\n",
       " ('order_date', 'timestamp'),\n",
       " ('order_customer_id', 'int'),\n",
       " ('order_status', 'string')]"
      ]
     },
     "execution_count": 13,
     "metadata": {},
     "output_type": "execute_result"
    }
   ],
   "source": [
    "schema = \"\"\"\n",
    "    order_id INT,\n",
    "    order_date TIMESTAMP,\n",
    "    order_customer_id INT,\n",
    "    order_status STRING\n",
    "\"\"\"\n",
    "orders = spark.read.schema(schema).csv('/Users/adhoc/git/retail_db/orders/*')\n",
    "orders.show()\n",
    "orders.printSchema()\n",
    "orders.dtypes"
   ]
  },
  {
   "cell_type": "markdown",
   "id": "08bb0e64-3ec7-4dfe-9555-1fc701c81769",
   "metadata": {},
   "source": [
    "## Convert data to parquet using Spark API"
   ]
  },
  {
   "cell_type": "code",
   "execution_count": 23,
   "id": "1c05e2ee-92b2-4aaa-8ff4-6a9460cec09a",
   "metadata": {
    "execution": {
     "iopub.execute_input": "2024-06-22T11:04:00.853573Z",
     "iopub.status.busy": "2024-06-22T11:04:00.853030Z",
     "iopub.status.idle": "2024-06-22T11:04:00.866312Z",
     "shell.execute_reply": "2024-06-22T11:04:00.865181Z",
     "shell.execute_reply.started": "2024-06-22T11:04:00.853546Z"
    }
   },
   "outputs": [
    {
     "data": {
      "text/plain": [
       "('/Users/adhoc/git/retail_db/orders',\n",
       " '/Users/adhoc/git/retail_db/parquet/orders')"
      ]
     },
     "execution_count": 23,
     "metadata": {},
     "output_type": "execute_result"
    }
   ],
   "source": [
    "username = 'adhoc'\n",
    "\n",
    "input_dir = f'/Users/{username}/git/retail_db/orders'\n",
    "output_dir = f'/Users/{username}/git/retail_db/parquet/orders'\n",
    "input_dir, output_dir"
   ]
  },
  {
   "cell_type": "code",
   "execution_count": 24,
   "id": "34c515cc-829d-450b-be15-34deb628e0fa",
   "metadata": {
    "execution": {
     "iopub.execute_input": "2024-06-22T11:04:07.282198Z",
     "iopub.status.busy": "2024-06-22T11:04:07.281423Z",
     "iopub.status.idle": "2024-06-22T11:04:07.504907Z",
     "shell.execute_reply": "2024-06-22T11:04:07.504596Z",
     "shell.execute_reply.started": "2024-06-22T11:04:07.282172Z"
    }
   },
   "outputs": [],
   "source": [
    "df = spark.read.schema(schema).csv(input_dir)\n",
    "#df.coalesce(1).write.parquet(output_dir, mode='overwrite')"
   ]
  },
  {
   "cell_type": "code",
   "execution_count": 28,
   "id": "8d7034cf-d945-4946-b944-3115818b9fe5",
   "metadata": {
    "execution": {
     "iopub.execute_input": "2024-06-22T11:08:16.386292Z",
     "iopub.status.busy": "2024-06-22T11:08:16.385370Z",
     "iopub.status.idle": "2024-06-22T11:08:16.521682Z",
     "shell.execute_reply": "2024-06-22T11:08:16.521414Z",
     "shell.execute_reply.started": "2024-06-22T11:08:16.386248Z"
    }
   },
   "outputs": [
    {
     "name": "stdout",
     "output_type": "stream",
     "text": [
      "+--------+-------------------+-----------------+---------------+\n",
      "|order_id|         order_date|order_customer_id|   order_status|\n",
      "+--------+-------------------+-----------------+---------------+\n",
      "|       1|2013-07-25 00:00:00|            11599|         CLOSED|\n",
      "|       2|2013-07-25 00:00:00|              256|PENDING_PAYMENT|\n",
      "|       3|2013-07-25 00:00:00|            12111|       COMPLETE|\n",
      "|       4|2013-07-25 00:00:00|             8827|         CLOSED|\n",
      "|       5|2013-07-25 00:00:00|            11318|       COMPLETE|\n",
      "|       6|2013-07-25 00:00:00|             7130|       COMPLETE|\n",
      "|       7|2013-07-25 00:00:00|             4530|       COMPLETE|\n",
      "|       8|2013-07-25 00:00:00|             2911|     PROCESSING|\n",
      "|       9|2013-07-25 00:00:00|             5657|PENDING_PAYMENT|\n",
      "|      10|2013-07-25 00:00:00|             5648|PENDING_PAYMENT|\n",
      "|      11|2013-07-25 00:00:00|              918| PAYMENT_REVIEW|\n",
      "|      12|2013-07-25 00:00:00|             1837|         CLOSED|\n",
      "|      13|2013-07-25 00:00:00|             9149|PENDING_PAYMENT|\n",
      "|      14|2013-07-25 00:00:00|             9842|     PROCESSING|\n",
      "|      15|2013-07-25 00:00:00|             2568|       COMPLETE|\n",
      "|      16|2013-07-25 00:00:00|             7276|PENDING_PAYMENT|\n",
      "|      17|2013-07-25 00:00:00|             2667|       COMPLETE|\n",
      "|      18|2013-07-25 00:00:00|             1205|         CLOSED|\n",
      "|      19|2013-07-25 00:00:00|             9488|PENDING_PAYMENT|\n",
      "|      20|2013-07-25 00:00:00|             9198|     PROCESSING|\n",
      "+--------+-------------------+-----------------+---------------+\n",
      "only showing top 20 rows\n",
      "\n"
     ]
    },
    {
     "data": {
      "text/plain": [
       "[('order_id', 'int'),\n",
       " ('order_date', 'timestamp'),\n",
       " ('order_customer_id', 'int'),\n",
       " ('order_status', 'string')]"
      ]
     },
     "execution_count": 28,
     "metadata": {},
     "output_type": "execute_result"
    }
   ],
   "source": [
    "orders = spark.read.parquet(output_dir)\n",
    "orders.show()\n",
    "orders.dtypes"
   ]
  },
  {
   "cell_type": "markdown",
   "id": "233a06f2-2cb9-4f21-af6b-d73c39cb02bb",
   "metadata": {},
   "source": [
    "## Convert comma separated files to pipe separated files using Spark API"
   ]
  },
  {
   "cell_type": "code",
   "execution_count": 29,
   "id": "877d83e7-c292-4ff1-8dc8-3c9847fccf8e",
   "metadata": {
    "execution": {
     "iopub.execute_input": "2024-06-22T12:27:30.124457Z",
     "iopub.status.busy": "2024-06-22T12:27:30.122002Z",
     "iopub.status.idle": "2024-06-22T12:27:30.570847Z",
     "shell.execute_reply": "2024-06-22T12:27:30.570546Z",
     "shell.execute_reply.started": "2024-06-22T12:27:30.124208Z"
    }
   },
   "outputs": [],
   "source": [
    "input_dir = '/Users/adhoc/git/retail_db/orders'\n",
    "output_dir = '/Users/adhoc/git/retail_db/csv/pipe/orders'\n",
    "\n",
    "df = spark.read.schema(schema).csv(input_dir)\n",
    "df.coalesce(1).write.mode('overwrite').csv(output_dir, sep='|')"
   ]
  },
  {
   "cell_type": "code",
   "execution_count": 31,
   "id": "a1767086-86db-4118-98f4-e7150a3ad89e",
   "metadata": {
    "execution": {
     "iopub.execute_input": "2024-06-22T12:30:23.258330Z",
     "iopub.status.busy": "2024-06-22T12:30:23.257642Z",
     "iopub.status.idle": "2024-06-22T12:30:23.359821Z",
     "shell.execute_reply": "2024-06-22T12:30:23.359424Z",
     "shell.execute_reply.started": "2024-06-22T12:30:23.258304Z"
    }
   },
   "outputs": [
    {
     "name": "stdout",
     "output_type": "stream",
     "text": [
      "+--------+-------------------+-----------------+---------------+\n",
      "|order_id|         order_date|order_customer_id|   order_status|\n",
      "+--------+-------------------+-----------------+---------------+\n",
      "|       1|2013-07-25 00:00:00|            11599|         CLOSED|\n",
      "|       2|2013-07-25 00:00:00|              256|PENDING_PAYMENT|\n",
      "|       3|2013-07-25 00:00:00|            12111|       COMPLETE|\n",
      "|       4|2013-07-25 00:00:00|             8827|         CLOSED|\n",
      "|       5|2013-07-25 00:00:00|            11318|       COMPLETE|\n",
      "|       6|2013-07-25 00:00:00|             7130|       COMPLETE|\n",
      "|       7|2013-07-25 00:00:00|             4530|       COMPLETE|\n",
      "|       8|2013-07-25 00:00:00|             2911|     PROCESSING|\n",
      "|       9|2013-07-25 00:00:00|             5657|PENDING_PAYMENT|\n",
      "|      10|2013-07-25 00:00:00|             5648|PENDING_PAYMENT|\n",
      "|      11|2013-07-25 00:00:00|              918| PAYMENT_REVIEW|\n",
      "|      12|2013-07-25 00:00:00|             1837|         CLOSED|\n",
      "|      13|2013-07-25 00:00:00|             9149|PENDING_PAYMENT|\n",
      "|      14|2013-07-25 00:00:00|             9842|     PROCESSING|\n",
      "|      15|2013-07-25 00:00:00|             2568|       COMPLETE|\n",
      "|      16|2013-07-25 00:00:00|             7276|PENDING_PAYMENT|\n",
      "|      17|2013-07-25 00:00:00|             2667|       COMPLETE|\n",
      "|      18|2013-07-25 00:00:00|             1205|         CLOSED|\n",
      "|      19|2013-07-25 00:00:00|             9488|PENDING_PAYMENT|\n",
      "|      20|2013-07-25 00:00:00|             9198|     PROCESSING|\n",
      "+--------+-------------------+-----------------+---------------+\n",
      "only showing top 20 rows\n",
      "\n"
     ]
    }
   ],
   "source": [
    "#spark.read.schema(schema).csv(output_dir).show() #nimported as NULLs due to invalid separator\n",
    "spark.read.schema(schema).csv(output_dir, sep='|').show()"
   ]
  },
  {
   "cell_type": "markdown",
   "id": "4ea45f25-ae2d-4391-8e40-cb33b8c30297",
   "metadata": {},
   "source": [
    "## Overview of Reading Data Files into Spark Data Frames\n",
    "* reading files direct API such as `json`, `csv` under `spark.read`\n",
    "* reading files using `format` and `load` under `spark.read`\n",
    "* specifying options as arguments as well as functions such as `option` and `options`\n",
    "* supported file formats: `csv`, `text`, `json`, `parquet`, `orc` for `avro`, `xml` additional modules required\n",
    "* for certification imporatant formats are `csv`, `json`, `parquet`\n",
    "* reading compressed files  "
   ]
  },
  {
   "cell_type": "markdown",
   "id": "a6f19253-854c-448d-bcd2-5f6e7d16f7f5",
   "metadata": {},
   "source": [
    "## Steps to follow to read data from files into Spark Data Frame\n",
    "* Check if the files are compressed (`gz`, `bzip2`, `snappy`, etc.) - `gz` and `snappy` are the most common ones\n",
    "* Understand the file format (`txt`, `json`, `avro`, `parquet`, `orc`, etc.) - sometimes file extension is not present\n",
    "* For `text` or `csv` determine the right separator\n",
    "* Use appropriate API under `spark.read`"
   ]
  },
  {
   "cell_type": "code",
   "execution_count": 3,
   "id": "06be225d-9eec-40d9-810e-7c4eb7e30dfa",
   "metadata": {
    "execution": {
     "iopub.execute_input": "2024-06-22T18:23:07.321684Z",
     "iopub.status.busy": "2024-06-22T18:23:07.321106Z",
     "iopub.status.idle": "2024-06-22T18:23:07.424058Z",
     "shell.execute_reply": "2024-06-22T18:23:07.423782Z",
     "shell.execute_reply.started": "2024-06-22T18:23:07.321653Z"
    }
   },
   "outputs": [
    {
     "name": "stdout",
     "output_type": "stream",
     "text": [
      "+---------------------------------------------+\n",
      "|value                                        |\n",
      "+---------------------------------------------+\n",
      "|1,2013-07-25 00:00:00.0,11599,CLOSED         |\n",
      "|2,2013-07-25 00:00:00.0,256,PENDING_PAYMENT  |\n",
      "|3,2013-07-25 00:00:00.0,12111,COMPLETE       |\n",
      "|4,2013-07-25 00:00:00.0,8827,CLOSED          |\n",
      "|5,2013-07-25 00:00:00.0,11318,COMPLETE       |\n",
      "|6,2013-07-25 00:00:00.0,7130,COMPLETE        |\n",
      "|7,2013-07-25 00:00:00.0,4530,COMPLETE        |\n",
      "|8,2013-07-25 00:00:00.0,2911,PROCESSING      |\n",
      "|9,2013-07-25 00:00:00.0,5657,PENDING_PAYMENT |\n",
      "|10,2013-07-25 00:00:00.0,5648,PENDING_PAYMENT|\n",
      "|11,2013-07-25 00:00:00.0,918,PAYMENT_REVIEW  |\n",
      "|12,2013-07-25 00:00:00.0,1837,CLOSED         |\n",
      "|13,2013-07-25 00:00:00.0,9149,PENDING_PAYMENT|\n",
      "|14,2013-07-25 00:00:00.0,9842,PROCESSING     |\n",
      "|15,2013-07-25 00:00:00.0,2568,COMPLETE       |\n",
      "|16,2013-07-25 00:00:00.0,7276,PENDING_PAYMENT|\n",
      "|17,2013-07-25 00:00:00.0,2667,COMPLETE       |\n",
      "|18,2013-07-25 00:00:00.0,1205,CLOSED         |\n",
      "|19,2013-07-25 00:00:00.0,9488,PENDING_PAYMENT|\n",
      "|20,2013-07-25 00:00:00.0,9198,PROCESSING     |\n",
      "+---------------------------------------------+\n",
      "only showing top 20 rows\n",
      "\n"
     ]
    }
   ],
   "source": [
    "input_dir = '/Users/adhoc/git/retail_db/orders'\n",
    "spark.read.text(input_dir).show(truncate=False)"
   ]
  },
  {
   "cell_type": "markdown",
   "id": "ea335631-833c-43b9-b059-00aab295c75e",
   "metadata": {},
   "source": [
    "## Reading data from CSV files into Spark Data Frame\n",
    "* There are multiple approaches which can be used\n",
    "* Approach 1: spark.read.csv(`path_to_folder`)\n",
    "* Approach 2: spark.read.format('csv').load(`path_to_file`)\n",
    "* The schema can be specified explicitely using `string` or `StructType`\n",
    "* The delimiter separtor can be set explicitely the default one is `,`\n",
    "* If the files have header the Data Frame with schema can be created using `header` or `inferSchema` - it will pick up column names for the headers while the data types with be inferred based on the data\n",
    "* If the file does not have header the schema can be provided by passing column names using `toDF` and by using `inferSchema` option"
   ]
  },
  {
   "cell_type": "code",
   "execution_count": 6,
   "id": "887e20ee-2918-42d2-951b-b3cf744a599c",
   "metadata": {
    "execution": {
     "iopub.execute_input": "2024-06-22T18:44:11.061057Z",
     "iopub.status.busy": "2024-06-22T18:44:11.060404Z",
     "iopub.status.idle": "2024-06-22T18:44:11.284609Z",
     "shell.execute_reply": "2024-06-22T18:44:11.284340Z",
     "shell.execute_reply.started": "2024-06-22T18:44:11.061029Z"
    }
   },
   "outputs": [
    {
     "name": "stdout",
     "output_type": "stream",
     "text": [
      "+---+--------------------+-----+---------------+\n",
      "|_c0|                 _c1|  _c2|            _c3|\n",
      "+---+--------------------+-----+---------------+\n",
      "|  1|2013-07-25 00:00:...|11599|         CLOSED|\n",
      "|  2|2013-07-25 00:00:...|  256|PENDING_PAYMENT|\n",
      "|  3|2013-07-25 00:00:...|12111|       COMPLETE|\n",
      "|  4|2013-07-25 00:00:...| 8827|         CLOSED|\n",
      "|  5|2013-07-25 00:00:...|11318|       COMPLETE|\n",
      "|  6|2013-07-25 00:00:...| 7130|       COMPLETE|\n",
      "|  7|2013-07-25 00:00:...| 4530|       COMPLETE|\n",
      "|  8|2013-07-25 00:00:...| 2911|     PROCESSING|\n",
      "|  9|2013-07-25 00:00:...| 5657|PENDING_PAYMENT|\n",
      "| 10|2013-07-25 00:00:...| 5648|PENDING_PAYMENT|\n",
      "| 11|2013-07-25 00:00:...|  918| PAYMENT_REVIEW|\n",
      "| 12|2013-07-25 00:00:...| 1837|         CLOSED|\n",
      "| 13|2013-07-25 00:00:...| 9149|PENDING_PAYMENT|\n",
      "| 14|2013-07-25 00:00:...| 9842|     PROCESSING|\n",
      "| 15|2013-07-25 00:00:...| 2568|       COMPLETE|\n",
      "| 16|2013-07-25 00:00:...| 7276|PENDING_PAYMENT|\n",
      "| 17|2013-07-25 00:00:...| 2667|       COMPLETE|\n",
      "| 18|2013-07-25 00:00:...| 1205|         CLOSED|\n",
      "| 19|2013-07-25 00:00:...| 9488|PENDING_PAYMENT|\n",
      "| 20|2013-07-25 00:00:...| 9198|     PROCESSING|\n",
      "+---+--------------------+-----+---------------+\n",
      "only showing top 20 rows\n",
      "\n"
     ]
    },
    {
     "data": {
      "text/plain": [
       "[('_c0', 'string'), ('_c1', 'string'), ('_c2', 'string'), ('_c3', 'string')]"
      ]
     },
     "execution_count": 6,
     "metadata": {},
     "output_type": "execute_result"
    }
   ],
   "source": [
    "input_dir = '/Users/adhoc/git/retail_db/orders'\n",
    "spark.read.csv(input_dir).show()\n",
    "spark.read.csv(input_dir).dtypes"
   ]
  },
  {
   "cell_type": "markdown",
   "id": "fe7b0b92-5e21-442f-8648-b62fee4678af",
   "metadata": {},
   "source": [
    "## Specifying schema while reading csv files into Spark Data Frame"
   ]
  },
  {
   "cell_type": "code",
   "execution_count": 10,
   "id": "1d148b3a-cbde-46ca-bc49-aa25233b5a78",
   "metadata": {
    "execution": {
     "iopub.execute_input": "2024-06-22T18:49:34.942552Z",
     "iopub.status.busy": "2024-06-22T18:49:34.942018Z",
     "iopub.status.idle": "2024-06-22T18:49:35.115604Z",
     "shell.execute_reply": "2024-06-22T18:49:35.115386Z",
     "shell.execute_reply.started": "2024-06-22T18:49:34.942526Z"
    }
   },
   "outputs": [
    {
     "name": "stdout",
     "output_type": "stream",
     "text": [
      "+--------+-------------------+-----------------+---------------+\n",
      "|order_id|         order_date|order_customer_id|   order_status|\n",
      "+--------+-------------------+-----------------+---------------+\n",
      "|       1|2013-07-25 00:00:00|            11599|         CLOSED|\n",
      "|       2|2013-07-25 00:00:00|              256|PENDING_PAYMENT|\n",
      "|       3|2013-07-25 00:00:00|            12111|       COMPLETE|\n",
      "|       4|2013-07-25 00:00:00|             8827|         CLOSED|\n",
      "|       5|2013-07-25 00:00:00|            11318|       COMPLETE|\n",
      "|       6|2013-07-25 00:00:00|             7130|       COMPLETE|\n",
      "|       7|2013-07-25 00:00:00|             4530|       COMPLETE|\n",
      "|       8|2013-07-25 00:00:00|             2911|     PROCESSING|\n",
      "|       9|2013-07-25 00:00:00|             5657|PENDING_PAYMENT|\n",
      "|      10|2013-07-25 00:00:00|             5648|PENDING_PAYMENT|\n",
      "|      11|2013-07-25 00:00:00|              918| PAYMENT_REVIEW|\n",
      "|      12|2013-07-25 00:00:00|             1837|         CLOSED|\n",
      "|      13|2013-07-25 00:00:00|             9149|PENDING_PAYMENT|\n",
      "|      14|2013-07-25 00:00:00|             9842|     PROCESSING|\n",
      "|      15|2013-07-25 00:00:00|             2568|       COMPLETE|\n",
      "|      16|2013-07-25 00:00:00|             7276|PENDING_PAYMENT|\n",
      "|      17|2013-07-25 00:00:00|             2667|       COMPLETE|\n",
      "|      18|2013-07-25 00:00:00|             1205|         CLOSED|\n",
      "|      19|2013-07-25 00:00:00|             9488|PENDING_PAYMENT|\n",
      "|      20|2013-07-25 00:00:00|             9198|     PROCESSING|\n",
      "+--------+-------------------+-----------------+---------------+\n",
      "only showing top 20 rows\n",
      "\n",
      "+--------+-------------------+-----------------+---------------+\n",
      "|order_id|         order_date|order_customer_id|   order_status|\n",
      "+--------+-------------------+-----------------+---------------+\n",
      "|       1|2013-07-25 00:00:00|            11599|         CLOSED|\n",
      "|       2|2013-07-25 00:00:00|              256|PENDING_PAYMENT|\n",
      "|       3|2013-07-25 00:00:00|            12111|       COMPLETE|\n",
      "|       4|2013-07-25 00:00:00|             8827|         CLOSED|\n",
      "|       5|2013-07-25 00:00:00|            11318|       COMPLETE|\n",
      "|       6|2013-07-25 00:00:00|             7130|       COMPLETE|\n",
      "|       7|2013-07-25 00:00:00|             4530|       COMPLETE|\n",
      "|       8|2013-07-25 00:00:00|             2911|     PROCESSING|\n",
      "|       9|2013-07-25 00:00:00|             5657|PENDING_PAYMENT|\n",
      "|      10|2013-07-25 00:00:00|             5648|PENDING_PAYMENT|\n",
      "|      11|2013-07-25 00:00:00|              918| PAYMENT_REVIEW|\n",
      "|      12|2013-07-25 00:00:00|             1837|         CLOSED|\n",
      "|      13|2013-07-25 00:00:00|             9149|PENDING_PAYMENT|\n",
      "|      14|2013-07-25 00:00:00|             9842|     PROCESSING|\n",
      "|      15|2013-07-25 00:00:00|             2568|       COMPLETE|\n",
      "|      16|2013-07-25 00:00:00|             7276|PENDING_PAYMENT|\n",
      "|      17|2013-07-25 00:00:00|             2667|       COMPLETE|\n",
      "|      18|2013-07-25 00:00:00|             1205|         CLOSED|\n",
      "|      19|2013-07-25 00:00:00|             9488|PENDING_PAYMENT|\n",
      "|      20|2013-07-25 00:00:00|             9198|     PROCESSING|\n",
      "+--------+-------------------+-----------------+---------------+\n",
      "only showing top 20 rows\n",
      "\n",
      "+--------+-------------------+-----------------+---------------+\n",
      "|order_id|         order_date|order_customer_id|   order_status|\n",
      "+--------+-------------------+-----------------+---------------+\n",
      "|       1|2013-07-25 00:00:00|            11599|         CLOSED|\n",
      "|       2|2013-07-25 00:00:00|              256|PENDING_PAYMENT|\n",
      "|       3|2013-07-25 00:00:00|            12111|       COMPLETE|\n",
      "|       4|2013-07-25 00:00:00|             8827|         CLOSED|\n",
      "|       5|2013-07-25 00:00:00|            11318|       COMPLETE|\n",
      "|       6|2013-07-25 00:00:00|             7130|       COMPLETE|\n",
      "|       7|2013-07-25 00:00:00|             4530|       COMPLETE|\n",
      "|       8|2013-07-25 00:00:00|             2911|     PROCESSING|\n",
      "|       9|2013-07-25 00:00:00|             5657|PENDING_PAYMENT|\n",
      "|      10|2013-07-25 00:00:00|             5648|PENDING_PAYMENT|\n",
      "|      11|2013-07-25 00:00:00|              918| PAYMENT_REVIEW|\n",
      "|      12|2013-07-25 00:00:00|             1837|         CLOSED|\n",
      "|      13|2013-07-25 00:00:00|             9149|PENDING_PAYMENT|\n",
      "|      14|2013-07-25 00:00:00|             9842|     PROCESSING|\n",
      "|      15|2013-07-25 00:00:00|             2568|       COMPLETE|\n",
      "|      16|2013-07-25 00:00:00|             7276|PENDING_PAYMENT|\n",
      "|      17|2013-07-25 00:00:00|             2667|       COMPLETE|\n",
      "|      18|2013-07-25 00:00:00|             1205|         CLOSED|\n",
      "|      19|2013-07-25 00:00:00|             9488|PENDING_PAYMENT|\n",
      "|      20|2013-07-25 00:00:00|             9198|     PROCESSING|\n",
      "+--------+-------------------+-----------------+---------------+\n",
      "only showing top 20 rows\n",
      "\n"
     ]
    },
    {
     "data": {
      "text/plain": [
       "[('order_id', 'int'),\n",
       " ('order_date', 'timestamp'),\n",
       " ('order_customer_id', 'int'),\n",
       " ('order_status', 'string')]"
      ]
     },
     "execution_count": 10,
     "metadata": {},
     "output_type": "execute_result"
    }
   ],
   "source": [
    "input_dir = '/Users/adhoc/git/retail_db/orders'\n",
    "schema = \"\"\"\n",
    "    order_id INT,\n",
    "    order_date TIMESTAMP,\n",
    "    order_customer_id INT,\n",
    "    order_status STRING\n",
    "\"\"\"\n",
    "spark.read.schema(schema).csv(input_dir).show()\n",
    "spark.read.csv(input_dir, schema=schema).show()\n",
    "spark.read.format('csv').load(input_dir, schema=schema).show()\n",
    "spark.read.schema(schema).csv(input_dir).dtypes"
   ]
  },
  {
   "cell_type": "code",
   "execution_count": 15,
   "id": "c7504a11-4864-415f-af8b-5306abcdbe93",
   "metadata": {
    "execution": {
     "iopub.execute_input": "2024-06-22T21:06:38.228503Z",
     "iopub.status.busy": "2024-06-22T21:06:38.227518Z",
     "iopub.status.idle": "2024-06-22T21:06:38.340470Z",
     "shell.execute_reply": "2024-06-22T21:06:38.340176Z",
     "shell.execute_reply.started": "2024-06-22T21:06:38.228457Z"
    }
   },
   "outputs": [
    {
     "name": "stdout",
     "output_type": "stream",
     "text": [
      "+--------+-------------------+-----------------+---------------+\n",
      "|order_id|         order_date|order_customer_id|   order_status|\n",
      "+--------+-------------------+-----------------+---------------+\n",
      "|       1|2013-07-25 00:00:00|            11599|         CLOSED|\n",
      "|       2|2013-07-25 00:00:00|              256|PENDING_PAYMENT|\n",
      "|       3|2013-07-25 00:00:00|            12111|       COMPLETE|\n",
      "|       4|2013-07-25 00:00:00|             8827|         CLOSED|\n",
      "|       5|2013-07-25 00:00:00|            11318|       COMPLETE|\n",
      "|       6|2013-07-25 00:00:00|             7130|       COMPLETE|\n",
      "|       7|2013-07-25 00:00:00|             4530|       COMPLETE|\n",
      "|       8|2013-07-25 00:00:00|             2911|     PROCESSING|\n",
      "|       9|2013-07-25 00:00:00|             5657|PENDING_PAYMENT|\n",
      "|      10|2013-07-25 00:00:00|             5648|PENDING_PAYMENT|\n",
      "|      11|2013-07-25 00:00:00|              918| PAYMENT_REVIEW|\n",
      "|      12|2013-07-25 00:00:00|             1837|         CLOSED|\n",
      "|      13|2013-07-25 00:00:00|             9149|PENDING_PAYMENT|\n",
      "|      14|2013-07-25 00:00:00|             9842|     PROCESSING|\n",
      "|      15|2013-07-25 00:00:00|             2568|       COMPLETE|\n",
      "|      16|2013-07-25 00:00:00|             7276|PENDING_PAYMENT|\n",
      "|      17|2013-07-25 00:00:00|             2667|       COMPLETE|\n",
      "|      18|2013-07-25 00:00:00|             1205|         CLOSED|\n",
      "|      19|2013-07-25 00:00:00|             9488|PENDING_PAYMENT|\n",
      "|      20|2013-07-25 00:00:00|             9198|     PROCESSING|\n",
      "+--------+-------------------+-----------------+---------------+\n",
      "only showing top 20 rows\n",
      "\n",
      "+--------+-------------------+-----------------+---------------+\n",
      "|order_id|         order_date|order_customer_id|   order_status|\n",
      "+--------+-------------------+-----------------+---------------+\n",
      "|       1|2013-07-25 00:00:00|            11599|         CLOSED|\n",
      "|       2|2013-07-25 00:00:00|              256|PENDING_PAYMENT|\n",
      "|       3|2013-07-25 00:00:00|            12111|       COMPLETE|\n",
      "|       4|2013-07-25 00:00:00|             8827|         CLOSED|\n",
      "|       5|2013-07-25 00:00:00|            11318|       COMPLETE|\n",
      "|       6|2013-07-25 00:00:00|             7130|       COMPLETE|\n",
      "|       7|2013-07-25 00:00:00|             4530|       COMPLETE|\n",
      "|       8|2013-07-25 00:00:00|             2911|     PROCESSING|\n",
      "|       9|2013-07-25 00:00:00|             5657|PENDING_PAYMENT|\n",
      "|      10|2013-07-25 00:00:00|             5648|PENDING_PAYMENT|\n",
      "|      11|2013-07-25 00:00:00|              918| PAYMENT_REVIEW|\n",
      "|      12|2013-07-25 00:00:00|             1837|         CLOSED|\n",
      "|      13|2013-07-25 00:00:00|             9149|PENDING_PAYMENT|\n",
      "|      14|2013-07-25 00:00:00|             9842|     PROCESSING|\n",
      "|      15|2013-07-25 00:00:00|             2568|       COMPLETE|\n",
      "|      16|2013-07-25 00:00:00|             7276|PENDING_PAYMENT|\n",
      "|      17|2013-07-25 00:00:00|             2667|       COMPLETE|\n",
      "|      18|2013-07-25 00:00:00|             1205|         CLOSED|\n",
      "|      19|2013-07-25 00:00:00|             9488|PENDING_PAYMENT|\n",
      "|      20|2013-07-25 00:00:00|             9198|     PROCESSING|\n",
      "+--------+-------------------+-----------------+---------------+\n",
      "only showing top 20 rows\n",
      "\n"
     ]
    }
   ],
   "source": [
    "from pyspark.sql.types import StructType, StructField, IntegerType, TimestampType, StringType\n",
    "schema = StructType([\n",
    "    StructField('order_id', IntegerType()),\n",
    "    StructField('order_date', TimestampType()),\n",
    "    StructField('order_customer_id', IntegerType()),\n",
    "    StructField('order_status', StringType())\n",
    "])\n",
    "spark.read.csv(input_dir, schema=schema).show()\n",
    "spark.read.schema(schema).csv(input_dir).show()"
   ]
  },
  {
   "cell_type": "markdown",
   "id": "591d5b8c-dc05-4370-a6c8-455956c722c2",
   "metadata": {},
   "source": [
    "## Using `csv`, `toDF` and `inferSchema` to create Spark Data Frame"
   ]
  },
  {
   "cell_type": "code",
   "execution_count": 25,
   "id": "300f4bba-ada9-4998-86aa-e6aa38b7c654",
   "metadata": {
    "execution": {
     "iopub.execute_input": "2024-06-22T21:13:56.810354Z",
     "iopub.status.busy": "2024-06-22T21:13:56.809373Z",
     "iopub.status.idle": "2024-06-22T21:13:57.257884Z",
     "shell.execute_reply": "2024-06-22T21:13:57.257472Z",
     "shell.execute_reply.started": "2024-06-22T21:13:56.810321Z"
    }
   },
   "outputs": [
    {
     "name": "stdout",
     "output_type": "stream",
     "text": [
      "+--------+-------------------+-----------------+---------------+\n",
      "|order_id|order_date         |order_customer_id|order_status   |\n",
      "+--------+-------------------+-----------------+---------------+\n",
      "|1       |2013-07-25 00:00:00|11599            |CLOSED         |\n",
      "|2       |2013-07-25 00:00:00|256              |PENDING_PAYMENT|\n",
      "|3       |2013-07-25 00:00:00|12111            |COMPLETE       |\n",
      "|4       |2013-07-25 00:00:00|8827             |CLOSED         |\n",
      "|5       |2013-07-25 00:00:00|11318            |COMPLETE       |\n",
      "|6       |2013-07-25 00:00:00|7130             |COMPLETE       |\n",
      "|7       |2013-07-25 00:00:00|4530             |COMPLETE       |\n",
      "|8       |2013-07-25 00:00:00|2911             |PROCESSING     |\n",
      "|9       |2013-07-25 00:00:00|5657             |PENDING_PAYMENT|\n",
      "|10      |2013-07-25 00:00:00|5648             |PENDING_PAYMENT|\n",
      "|11      |2013-07-25 00:00:00|918              |PAYMENT_REVIEW |\n",
      "|12      |2013-07-25 00:00:00|1837             |CLOSED         |\n",
      "|13      |2013-07-25 00:00:00|9149             |PENDING_PAYMENT|\n",
      "|14      |2013-07-25 00:00:00|9842             |PROCESSING     |\n",
      "|15      |2013-07-25 00:00:00|2568             |COMPLETE       |\n",
      "|16      |2013-07-25 00:00:00|7276             |PENDING_PAYMENT|\n",
      "|17      |2013-07-25 00:00:00|2667             |COMPLETE       |\n",
      "|18      |2013-07-25 00:00:00|1205             |CLOSED         |\n",
      "|19      |2013-07-25 00:00:00|9488             |PENDING_PAYMENT|\n",
      "|20      |2013-07-25 00:00:00|9198             |PROCESSING     |\n",
      "+--------+-------------------+-----------------+---------------+\n",
      "only showing top 20 rows\n",
      "\n",
      "+--------+-------------------+-----------------+---------------+\n",
      "|order_id|order_date         |order_customer_id|order_status   |\n",
      "+--------+-------------------+-----------------+---------------+\n",
      "|1       |2013-07-25 00:00:00|11599            |CLOSED         |\n",
      "|2       |2013-07-25 00:00:00|256              |PENDING_PAYMENT|\n",
      "|3       |2013-07-25 00:00:00|12111            |COMPLETE       |\n",
      "|4       |2013-07-25 00:00:00|8827             |CLOSED         |\n",
      "|5       |2013-07-25 00:00:00|11318            |COMPLETE       |\n",
      "|6       |2013-07-25 00:00:00|7130             |COMPLETE       |\n",
      "|7       |2013-07-25 00:00:00|4530             |COMPLETE       |\n",
      "|8       |2013-07-25 00:00:00|2911             |PROCESSING     |\n",
      "|9       |2013-07-25 00:00:00|5657             |PENDING_PAYMENT|\n",
      "|10      |2013-07-25 00:00:00|5648             |PENDING_PAYMENT|\n",
      "|11      |2013-07-25 00:00:00|918              |PAYMENT_REVIEW |\n",
      "|12      |2013-07-25 00:00:00|1837             |CLOSED         |\n",
      "|13      |2013-07-25 00:00:00|9149             |PENDING_PAYMENT|\n",
      "|14      |2013-07-25 00:00:00|9842             |PROCESSING     |\n",
      "|15      |2013-07-25 00:00:00|2568             |COMPLETE       |\n",
      "|16      |2013-07-25 00:00:00|7276             |PENDING_PAYMENT|\n",
      "|17      |2013-07-25 00:00:00|2667             |COMPLETE       |\n",
      "|18      |2013-07-25 00:00:00|1205             |CLOSED         |\n",
      "|19      |2013-07-25 00:00:00|9488             |PENDING_PAYMENT|\n",
      "|20      |2013-07-25 00:00:00|9198             |PROCESSING     |\n",
      "+--------+-------------------+-----------------+---------------+\n",
      "only showing top 20 rows\n",
      "\n"
     ]
    }
   ],
   "source": [
    "input_dir = '/Users/adhoc/git/retail_db/orders'\n",
    "columns = ['order_id', 'order_date', 'order_customer_id', 'order_status']\n",
    "\n",
    "spark.read.option('inferSchema', True).csv(input_dir).toDF(*columns).show(truncate=False)\n",
    "spark.read.option('inferSchema', True).csv(input_dir).toDF(*columns).dtypes"
   ]
  },
  {
   "cell_type": "code",
   "execution_count": 26,
   "id": "1fd5213b-70ad-4270-9039-96c3838a6509",
   "metadata": {
    "execution": {
     "iopub.execute_input": "2024-06-22T21:14:31.769157Z",
     "iopub.status.busy": "2024-06-22T21:14:31.768527Z",
     "iopub.status.idle": "2024-06-22T21:14:32.083628Z",
     "shell.execute_reply": "2024-06-22T21:14:32.083364Z",
     "shell.execute_reply.started": "2024-06-22T21:14:31.769130Z"
    }
   },
   "outputs": [
    {
     "name": "stdout",
     "output_type": "stream",
     "text": [
      "+--------+-------------------+-----------------+---------------+\n",
      "|order_id|order_date         |order_customer_id|order_status   |\n",
      "+--------+-------------------+-----------------+---------------+\n",
      "|1       |2013-07-25 00:00:00|11599            |CLOSED         |\n",
      "|2       |2013-07-25 00:00:00|256              |PENDING_PAYMENT|\n",
      "|3       |2013-07-25 00:00:00|12111            |COMPLETE       |\n",
      "|4       |2013-07-25 00:00:00|8827             |CLOSED         |\n",
      "|5       |2013-07-25 00:00:00|11318            |COMPLETE       |\n",
      "|6       |2013-07-25 00:00:00|7130             |COMPLETE       |\n",
      "|7       |2013-07-25 00:00:00|4530             |COMPLETE       |\n",
      "|8       |2013-07-25 00:00:00|2911             |PROCESSING     |\n",
      "|9       |2013-07-25 00:00:00|5657             |PENDING_PAYMENT|\n",
      "|10      |2013-07-25 00:00:00|5648             |PENDING_PAYMENT|\n",
      "|11      |2013-07-25 00:00:00|918              |PAYMENT_REVIEW |\n",
      "|12      |2013-07-25 00:00:00|1837             |CLOSED         |\n",
      "|13      |2013-07-25 00:00:00|9149             |PENDING_PAYMENT|\n",
      "|14      |2013-07-25 00:00:00|9842             |PROCESSING     |\n",
      "|15      |2013-07-25 00:00:00|2568             |COMPLETE       |\n",
      "|16      |2013-07-25 00:00:00|7276             |PENDING_PAYMENT|\n",
      "|17      |2013-07-25 00:00:00|2667             |COMPLETE       |\n",
      "|18      |2013-07-25 00:00:00|1205             |CLOSED         |\n",
      "|19      |2013-07-25 00:00:00|9488             |PENDING_PAYMENT|\n",
      "|20      |2013-07-25 00:00:00|9198             |PROCESSING     |\n",
      "+--------+-------------------+-----------------+---------------+\n",
      "only showing top 20 rows\n",
      "\n"
     ]
    },
    {
     "data": {
      "text/plain": [
       "[('order_id', 'int'),\n",
       " ('order_date', 'timestamp'),\n",
       " ('order_customer_id', 'int'),\n",
       " ('order_status', 'string')]"
      ]
     },
     "execution_count": 26,
     "metadata": {},
     "output_type": "execute_result"
    }
   ],
   "source": [
    "spark.read.csv(input_dir, inferSchema=True).toDF(*columns).show(truncate=False)\n",
    "spark.read.csv(input_dir, inferSchema=True).toDF(*columns).dtypes"
   ]
  },
  {
   "cell_type": "markdown",
   "id": "a399069a-91cf-4df2-929c-44551648f05e",
   "metadata": {},
   "source": [
    "## Specyfing delimiter while creating Spark Data Frame using csv API"
   ]
  },
  {
   "cell_type": "code",
   "execution_count": 51,
   "id": "ee7c84ff-ab1f-47cb-927f-5fc98ee3dc3f",
   "metadata": {
    "execution": {
     "iopub.execute_input": "2024-06-22T21:28:39.592359Z",
     "iopub.status.busy": "2024-06-22T21:28:39.591567Z",
     "iopub.status.idle": "2024-06-22T21:28:39.684772Z",
     "shell.execute_reply": "2024-06-22T21:28:39.684296Z",
     "shell.execute_reply.started": "2024-06-22T21:28:39.592313Z"
    }
   },
   "outputs": [
    {
     "name": "stdout",
     "output_type": "stream",
     "text": [
      "+--------+-------------------+-----------------+---------------+\n",
      "|order_id|         order_date|order_customer_id|   order_status|\n",
      "+--------+-------------------+-----------------+---------------+\n",
      "|       1|2013-07-25 00:00:00|            11599|         CLOSED|\n",
      "|       2|2013-07-25 00:00:00|              256|PENDING_PAYMENT|\n",
      "|       3|2013-07-25 00:00:00|            12111|       COMPLETE|\n",
      "|       4|2013-07-25 00:00:00|             8827|         CLOSED|\n",
      "|       5|2013-07-25 00:00:00|            11318|       COMPLETE|\n",
      "|       6|2013-07-25 00:00:00|             7130|       COMPLETE|\n",
      "|       7|2013-07-25 00:00:00|             4530|       COMPLETE|\n",
      "|       8|2013-07-25 00:00:00|             2911|     PROCESSING|\n",
      "|       9|2013-07-25 00:00:00|             5657|PENDING_PAYMENT|\n",
      "|      10|2013-07-25 00:00:00|             5648|PENDING_PAYMENT|\n",
      "|      11|2013-07-25 00:00:00|              918| PAYMENT_REVIEW|\n",
      "|      12|2013-07-25 00:00:00|             1837|         CLOSED|\n",
      "|      13|2013-07-25 00:00:00|             9149|PENDING_PAYMENT|\n",
      "|      14|2013-07-25 00:00:00|             9842|     PROCESSING|\n",
      "|      15|2013-07-25 00:00:00|             2568|       COMPLETE|\n",
      "|      16|2013-07-25 00:00:00|             7276|PENDING_PAYMENT|\n",
      "|      17|2013-07-25 00:00:00|             2667|       COMPLETE|\n",
      "|      18|2013-07-25 00:00:00|             1205|         CLOSED|\n",
      "|      19|2013-07-25 00:00:00|             9488|PENDING_PAYMENT|\n",
      "|      20|2013-07-25 00:00:00|             9198|     PROCESSING|\n",
      "+--------+-------------------+-----------------+---------------+\n",
      "only showing top 20 rows\n",
      "\n"
     ]
    },
    {
     "data": {
      "text/plain": [
       "[('order_id', 'int'),\n",
       " ('order_date', 'timestamp'),\n",
       " ('order_customer_id', 'int'),\n",
       " ('order_status', 'string')]"
      ]
     },
     "execution_count": 51,
     "metadata": {},
     "output_type": "execute_result"
    }
   ],
   "source": [
    "input_dir = '/Users/adhoc/git/retail_db/csv/pipe/orders'\n",
    "schema = \"\"\"\n",
    "    order_id INT,\n",
    "    order_date TIMESTAMP,\n",
    "    order_customer_id INT,\n",
    "    order_status STRING\n",
    "\"\"\"\n",
    "spark.read.csv(input_dir, schema=schema, sep='|').show()\n",
    "spark.read.csv(input_dir, schema=schema, sep='|').dtypes"
   ]
  },
  {
   "cell_type": "code",
   "execution_count": 52,
   "id": "800bb9e8-df8a-4a36-8128-7a0fc1768ef1",
   "metadata": {
    "execution": {
     "iopub.execute_input": "2024-06-22T21:28:59.936547Z",
     "iopub.status.busy": "2024-06-22T21:28:59.935791Z",
     "iopub.status.idle": "2024-06-22T21:29:00.007264Z",
     "shell.execute_reply": "2024-06-22T21:29:00.006865Z",
     "shell.execute_reply.started": "2024-06-22T21:28:59.936503Z"
    }
   },
   "outputs": [
    {
     "name": "stdout",
     "output_type": "stream",
     "text": [
      "+--------+-------------------+-----------------+---------------+\n",
      "|order_id|         order_date|order_customer_id|   order_status|\n",
      "+--------+-------------------+-----------------+---------------+\n",
      "|       1|2013-07-25 00:00:00|            11599|         CLOSED|\n",
      "|       2|2013-07-25 00:00:00|              256|PENDING_PAYMENT|\n",
      "|       3|2013-07-25 00:00:00|            12111|       COMPLETE|\n",
      "|       4|2013-07-25 00:00:00|             8827|         CLOSED|\n",
      "|       5|2013-07-25 00:00:00|            11318|       COMPLETE|\n",
      "|       6|2013-07-25 00:00:00|             7130|       COMPLETE|\n",
      "|       7|2013-07-25 00:00:00|             4530|       COMPLETE|\n",
      "|       8|2013-07-25 00:00:00|             2911|     PROCESSING|\n",
      "|       9|2013-07-25 00:00:00|             5657|PENDING_PAYMENT|\n",
      "|      10|2013-07-25 00:00:00|             5648|PENDING_PAYMENT|\n",
      "|      11|2013-07-25 00:00:00|              918| PAYMENT_REVIEW|\n",
      "|      12|2013-07-25 00:00:00|             1837|         CLOSED|\n",
      "|      13|2013-07-25 00:00:00|             9149|PENDING_PAYMENT|\n",
      "|      14|2013-07-25 00:00:00|             9842|     PROCESSING|\n",
      "|      15|2013-07-25 00:00:00|             2568|       COMPLETE|\n",
      "|      16|2013-07-25 00:00:00|             7276|PENDING_PAYMENT|\n",
      "|      17|2013-07-25 00:00:00|             2667|       COMPLETE|\n",
      "|      18|2013-07-25 00:00:00|             1205|         CLOSED|\n",
      "|      19|2013-07-25 00:00:00|             9488|PENDING_PAYMENT|\n",
      "|      20|2013-07-25 00:00:00|             9198|     PROCESSING|\n",
      "+--------+-------------------+-----------------+---------------+\n",
      "only showing top 20 rows\n",
      "\n"
     ]
    },
    {
     "data": {
      "text/plain": [
       "[('order_id', 'int'),\n",
       " ('order_date', 'timestamp'),\n",
       " ('order_customer_id', 'int'),\n",
       " ('order_status', 'string')]"
      ]
     },
     "execution_count": 52,
     "metadata": {},
     "output_type": "execute_result"
    }
   ],
   "source": [
    "spark.read.schema(schema).csv(input_dir, sep='|').show()\n",
    "spark.read.schema(schema).csv(input_dir, sep='|').dtypes"
   ]
  },
  {
   "cell_type": "code",
   "execution_count": 53,
   "id": "4e654b55-15b3-4fcd-834f-c4b3dd867356",
   "metadata": {
    "execution": {
     "iopub.execute_input": "2024-06-22T21:29:10.505059Z",
     "iopub.status.busy": "2024-06-22T21:29:10.504367Z",
     "iopub.status.idle": "2024-06-22T21:29:10.577409Z",
     "shell.execute_reply": "2024-06-22T21:29:10.577032Z",
     "shell.execute_reply.started": "2024-06-22T21:29:10.505008Z"
    }
   },
   "outputs": [
    {
     "name": "stdout",
     "output_type": "stream",
     "text": [
      "+--------+-------------------+-----------------+---------------+\n",
      "|order_id|         order_date|order_customer_id|   order_status|\n",
      "+--------+-------------------+-----------------+---------------+\n",
      "|       1|2013-07-25 00:00:00|            11599|         CLOSED|\n",
      "|       2|2013-07-25 00:00:00|              256|PENDING_PAYMENT|\n",
      "|       3|2013-07-25 00:00:00|            12111|       COMPLETE|\n",
      "|       4|2013-07-25 00:00:00|             8827|         CLOSED|\n",
      "|       5|2013-07-25 00:00:00|            11318|       COMPLETE|\n",
      "|       6|2013-07-25 00:00:00|             7130|       COMPLETE|\n",
      "|       7|2013-07-25 00:00:00|             4530|       COMPLETE|\n",
      "|       8|2013-07-25 00:00:00|             2911|     PROCESSING|\n",
      "|       9|2013-07-25 00:00:00|             5657|PENDING_PAYMENT|\n",
      "|      10|2013-07-25 00:00:00|             5648|PENDING_PAYMENT|\n",
      "|      11|2013-07-25 00:00:00|              918| PAYMENT_REVIEW|\n",
      "|      12|2013-07-25 00:00:00|             1837|         CLOSED|\n",
      "|      13|2013-07-25 00:00:00|             9149|PENDING_PAYMENT|\n",
      "|      14|2013-07-25 00:00:00|             9842|     PROCESSING|\n",
      "|      15|2013-07-25 00:00:00|             2568|       COMPLETE|\n",
      "|      16|2013-07-25 00:00:00|             7276|PENDING_PAYMENT|\n",
      "|      17|2013-07-25 00:00:00|             2667|       COMPLETE|\n",
      "|      18|2013-07-25 00:00:00|             1205|         CLOSED|\n",
      "|      19|2013-07-25 00:00:00|             9488|PENDING_PAYMENT|\n",
      "|      20|2013-07-25 00:00:00|             9198|     PROCESSING|\n",
      "+--------+-------------------+-----------------+---------------+\n",
      "only showing top 20 rows\n",
      "\n"
     ]
    },
    {
     "data": {
      "text/plain": [
       "[('order_id', 'int'),\n",
       " ('order_date', 'timestamp'),\n",
       " ('order_customer_id', 'int'),\n",
       " ('order_status', 'string')]"
      ]
     },
     "execution_count": 53,
     "metadata": {},
     "output_type": "execute_result"
    }
   ],
   "source": [
    "spark.read.schema(schema).option('sep', '|').csv(input_dir).show()\n",
    "spark.read.schema(schema).option('sep', '|').csv(input_dir).dtypes"
   ]
  },
  {
   "cell_type": "markdown",
   "id": "78df0a5d-f829-47a9-b2b2-9e5dee4a03db",
   "metadata": {},
   "source": [
    "## Using options while reading CSV files into Spark Data Frame"
   ]
  }
 ],
 "metadata": {
  "kernelspec": {
   "display_name": "Python 3 (ipykernel)",
   "language": "python",
   "name": "python3"
  },
  "language_info": {
   "codemirror_mode": {
    "name": "ipython",
    "version": 3
   },
   "file_extension": ".py",
   "mimetype": "text/x-python",
   "name": "python",
   "nbconvert_exporter": "python",
   "pygments_lexer": "ipython3",
   "version": "3.11.9"
  }
 },
 "nbformat": 4,
 "nbformat_minor": 5
}
