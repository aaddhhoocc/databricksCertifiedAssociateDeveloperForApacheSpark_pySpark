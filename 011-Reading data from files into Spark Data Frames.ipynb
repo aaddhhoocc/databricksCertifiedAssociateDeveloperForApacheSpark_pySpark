{
 "cells": [
  {
   "cell_type": "code",
   "execution_count": 1,
   "id": "13602265-0c88-41c4-b03b-466a97e7d48e",
   "metadata": {
    "execution": {
     "iopub.execute_input": "2024-06-21T21:47:44.946674Z",
     "iopub.status.busy": "2024-06-21T21:47:44.945734Z",
     "iopub.status.idle": "2024-06-21T21:47:51.588776Z",
     "shell.execute_reply": "2024-06-21T21:47:51.588423Z",
     "shell.execute_reply.started": "2024-06-21T21:47:44.946642Z"
    }
   },
   "outputs": [
    {
     "name": "stderr",
     "output_type": "stream",
     "text": [
      "Setting default log level to \"WARN\".\n",
      "To adjust logging level use sc.setLogLevel(newLevel). For SparkR, use setLogLevel(newLevel).\n",
      "24/06/21 23:47:51 WARN NativeCodeLoader: Unable to load native-hadoop library for your platform... using builtin-java classes where applicable\n",
      "24/06/21 23:47:51 WARN Utils: Service 'SparkUI' could not bind on port 4040. Attempting port 4041.\n"
     ]
    }
   ],
   "source": [
    "from pyspark.sql import SparkSession\n",
    "spark = SparkSession.builder.appName('instance').getOrCreate()"
   ]
  }
 ],
 "metadata": {
  "kernelspec": {
   "display_name": "Python 3 (ipykernel)",
   "language": "python",
   "name": "python3"
  },
  "language_info": {
   "codemirror_mode": {
    "name": "ipython",
    "version": 3
   },
   "file_extension": ".py",
   "mimetype": "text/x-python",
   "name": "python",
   "nbconvert_exporter": "python",
   "pygments_lexer": "ipython3",
   "version": "3.11.9"
  }
 },
 "nbformat": 4,
 "nbformat_minor": 5
}
