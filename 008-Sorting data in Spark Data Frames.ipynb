{
 "cells": [
  {
   "cell_type": "code",
   "execution_count": 2,
   "id": "4ed60344-b139-4f65-b15f-2c0ea3486f38",
   "metadata": {
    "execution": {
     "iopub.execute_input": "2024-06-16T19:01:55.196374Z",
     "iopub.status.busy": "2024-06-16T19:01:55.195604Z",
     "iopub.status.idle": "2024-06-16T19:02:02.032770Z",
     "shell.execute_reply": "2024-06-16T19:02:02.032428Z",
     "shell.execute_reply.started": "2024-06-16T19:01:55.196328Z"
    }
   },
   "outputs": [
    {
     "name": "stderr",
     "output_type": "stream",
     "text": [
      "Setting default log level to \"WARN\".\n",
      "To adjust logging level use sc.setLogLevel(newLevel). For SparkR, use setLogLevel(newLevel).\n",
      "24/06/16 21:02:01 WARN NativeCodeLoader: Unable to load native-hadoop library for your platform... using builtin-java classes where applicable\n"
     ]
    }
   ],
   "source": [
    "from pyspark.sql import SparkSession\n",
    "spark = SparkSession.builder.appName('instance').getOrCreate()"
   ]
  },
  {
   "cell_type": "code",
   "execution_count": 2,
   "id": "33e8c75d-bc9e-48ee-87ea-02f93fb60c83",
   "metadata": {
    "execution": {
     "iopub.execute_input": "2024-06-16T14:25:12.907150Z",
     "iopub.status.busy": "2024-06-16T14:25:12.906368Z",
     "iopub.status.idle": "2024-06-16T14:25:15.917866Z",
     "shell.execute_reply": "2024-06-16T14:25:15.917543Z",
     "shell.execute_reply.started": "2024-06-16T14:25:12.907095Z"
    }
   },
   "outputs": [
    {
     "name": "stderr",
     "output_type": "stream",
     "text": [
      "                                                                                \r"
     ]
    },
    {
     "name": "stdout",
     "output_type": "stream",
     "text": [
      "+---+----------+------------+-------------------------+------+-------------+----------------------------------+-------+-----------+-----------+-------------+-------------------+\n",
      "|id |first_name|last_name   |email                    |gender|current_city |phone_numbers                     |courses|is_customer|amount_paid|customer_from|last_updated_ts    |\n",
      "+---+----------+------------+-------------------------+------+-------------+----------------------------------+-------+-----------+-----------+-------------+-------------------+\n",
      "|1  |Corrie    |Van den Oord|cvandenoord0@etsy.com    |male  |Dallas       |{+1 234 567 8901, +1 234 567 8911}|[1, 2] |true       |1000.55    |2021-01-15   |2021-02-10 01:15:00|\n",
      "|2  |Nikolaus  |Brewitt     |nbrewitt1@dailymail.co.uk|male  |Huston       |{+1 234 567 8923, 1 234 567 8934} |[3]    |true       |900.0      |2021-02-14   |2021-02-18 03:33:00|\n",
      "|3  |Orelie    |Penney      |openney2@vistaprint.com  |female|             |{+1 714 512 9752, +1 714 512 6601}|[2, 4] |true       |850.55     |2021-01-21   |2021-03-15 15:16:55|\n",
      "|4  |Ashby     |Maddocks    |amaddocks3@home.pl       |male  |San Francisco|{NULL, NULL}                      |[]     |false      |NaN        |NULL         |2021-04-10 17:45:30|\n",
      "|5  |Kurt      |Rome        |krome4@shutterfly.com    |female|NULL         |{+1 817 934 7142, NULL}           |[]     |false      |NaN        |NULL         |2021-04-02 00:55:18|\n",
      "+---+----------+------------+-------------------------+------+-------------+----------------------------------+-------+-----------+-----------+-------------+-------------------+\n",
      "\n",
      "root\n",
      " |-- id: long (nullable = true)\n",
      " |-- first_name: string (nullable = true)\n",
      " |-- last_name: string (nullable = true)\n",
      " |-- email: string (nullable = true)\n",
      " |-- gender: string (nullable = true)\n",
      " |-- current_city: string (nullable = true)\n",
      " |-- phone_numbers: struct (nullable = true)\n",
      " |    |-- mobile: string (nullable = true)\n",
      " |    |-- home: string (nullable = true)\n",
      " |-- courses: array (nullable = true)\n",
      " |    |-- element: long (containsNull = true)\n",
      " |-- is_customer: boolean (nullable = true)\n",
      " |-- amount_paid: double (nullable = true)\n",
      " |-- customer_from: date (nullable = true)\n",
      " |-- last_updated_ts: timestamp (nullable = true)\n",
      "\n"
     ]
    }
   ],
   "source": [
    "from pyspark.sql import Row\n",
    "import datetime\n",
    "import pandas as pd\n",
    "\n",
    "users = [\n",
    "    {\n",
    "        \"id\": 1,\n",
    "        \"first_name\": \"Corrie\",\n",
    "        \"last_name\": \"Van den Oord\",\n",
    "        \"email\": \"cvandenoord0@etsy.com\",\n",
    "        \"gender\": \"male\",\n",
    "        \"current_city\": \"Dallas\",\n",
    "        \"phone_numbers\": Row(mobile=\"+1 234 567 8901\", home=\"+1 234 567 8911\"),\n",
    "        \"courses\": [1, 2],\n",
    "        \"is_customer\": True,\n",
    "        \"amount_paid\": 1000.55,\n",
    "        \"customer_from\": datetime.date(2021, 1, 15),\n",
    "        \"last_updated_ts\": datetime.datetime(2021, 2, 10, 1, 15, 0)\n",
    "    },\n",
    "    {\n",
    "        \"id\": 2,\n",
    "        \"first_name\": \"Nikolaus\",\n",
    "        \"last_name\": \"Brewitt\",\n",
    "        \"email\": \"nbrewitt1@dailymail.co.uk\",\n",
    "        \"gender\": \"male\",\n",
    "        \"current_city\": \"Huston\",\n",
    "        \"phone_numbers\":  Row(mobile=\"+1 234 567 8923\", home=\"1 234 567 8934\"),\n",
    "        \"courses\": [3],\n",
    "        \"is_customer\": True,\n",
    "        \"amount_paid\": 900.0,\n",
    "        \"customer_from\": datetime.date(2021, 2, 14),\n",
    "        \"last_updated_ts\": datetime.datetime(2021, 2, 18, 3, 33, 0)\n",
    "    },\n",
    "    {\n",
    "        \"id\": 3,\n",
    "        \"first_name\": \"Orelie\",\n",
    "        \"last_name\": \"Penney\",\n",
    "        \"email\": \"openney2@vistaprint.com\",\n",
    "        \"gender\": \"female\",\n",
    "        \"current_city\": \"\",\n",
    "        \"phone_numbers\": Row(mobile=\"+1 714 512 9752\", home=\"+1 714 512 6601\"),\n",
    "        \"courses\": [2, 4],\n",
    "        \"is_customer\": True,\n",
    "        \"amount_paid\": 850.55,\n",
    "        \"customer_from\": datetime.date(2021, 1, 21),\n",
    "        \"last_updated_ts\": datetime.datetime(2021, 3, 15, 15, 16, 55)\n",
    "    },\n",
    "    {\n",
    "        \"id\": 4,\n",
    "        \"first_name\": \"Ashby\",\n",
    "        \"last_name\": \"Maddocks\",\n",
    "        \"email\": \"amaddocks3@home.pl\",\n",
    "        \"gender\": \"male\",\n",
    "        \"current_city\": \"San Francisco\",\n",
    "        \"phone_numbers\": Row(mobile=None, home=None),\n",
    "        \"courses\": [],\n",
    "        \"is_customer\": False,\n",
    "        \"amount_paid\": None,\n",
    "        \"customer_from\": None,\n",
    "        \"last_updated_ts\": datetime.datetime(2021, 4, 10, 17, 45, 30)\n",
    "    },\n",
    "    {\n",
    "        \"id\": 5,\n",
    "        \"first_name\": \"Kurt\",\n",
    "        \"last_name\": \"Rome\",\n",
    "        \"email\": \"krome4@shutterfly.com\",\n",
    "        \"gender\": \"female\",\n",
    "        \"current_city\": None,\n",
    "        \"phone_numbers\": Row(mobile=\"+1 817 934 7142\", home=None),\n",
    "        \"courses\": [],\n",
    "        \"is_customer\": False,\n",
    "        \"amount_paid\": None,\n",
    "        \"customer_from\": None,\n",
    "        \"last_updated_ts\": datetime.datetime(2021, 4, 2, 0, 55, 18)\n",
    "    }\n",
    "]\n",
    "users_df = spark.createDataFrame(pd.DataFrame(users));\n",
    "users_df.show(truncate=False)\n",
    "users_df.printSchema()"
   ]
  },
  {
   "cell_type": "markdown",
   "id": "f7eb3b1d-cbed-4263-82e0-f77a993a05f5",
   "metadata": {
    "jp-MarkdownHeadingCollapsed": true
   },
   "source": [
    "## Overview of sorting a Spark Data Frame\n",
    "* sort data using ascending order by a specific column\n",
    "* sort data using descending order by a specific column\n",
    "* dealing with nulls while sorting the data (having the nulls values at the beginning or at the end\n",
    "* sorting the data using multiple columns (coposite sorting), mixed - ascending on one column and descending on the other column, end vice versa.\n",
    "* perform prioritetizing sorting, e.g. we want to have USA first and then the other by their respective names"
   ]
  },
  {
   "cell_type": "code",
   "execution_count": 8,
   "id": "d1d97ec2-db52-4b44-a94a-2791158ba991",
   "metadata": {
    "execution": {
     "iopub.execute_input": "2024-06-16T14:53:01.968940Z",
     "iopub.status.busy": "2024-06-16T14:53:01.968159Z",
     "iopub.status.idle": "2024-06-16T14:53:02.451226Z",
     "shell.execute_reply": "2024-06-16T14:53:02.450924Z",
     "shell.execute_reply.started": "2024-06-16T14:53:01.968885Z"
    }
   },
   "outputs": [
    {
     "name": "stdout",
     "output_type": "stream",
     "text": [
      "+---+----------+------------+--------------------+------+-------------+--------------------+-------+-----------+-----------+-------------+-------------------+\n",
      "| id|first_name|   last_name|               email|gender| current_city|       phone_numbers|courses|is_customer|amount_paid|customer_from|    last_updated_ts|\n",
      "+---+----------+------------+--------------------+------+-------------+--------------------+-------+-----------+-----------+-------------+-------------------+\n",
      "|  4|     Ashby|    Maddocks|  amaddocks3@home.pl|  male|San Francisco|        {NULL, NULL}|     []|      false|        NaN|         NULL|2021-04-10 17:45:30|\n",
      "|  1|    Corrie|Van den Oord|cvandenoord0@etsy...|  male|       Dallas|{+1 234 567 8901,...| [1, 2]|       true|    1000.55|   2021-01-15|2021-02-10 01:15:00|\n",
      "|  5|      Kurt|        Rome|krome4@shutterfly...|female|         NULL|{+1 817 934 7142,...|     []|      false|        NaN|         NULL|2021-04-02 00:55:18|\n",
      "|  2|  Nikolaus|     Brewitt|nbrewitt1@dailyma...|  male|       Huston|{+1 234 567 8923,...|    [3]|       true|      900.0|   2021-02-14|2021-02-18 03:33:00|\n",
      "|  3|    Orelie|      Penney|openney2@vistapri...|female|             |{+1 714 512 9752,...| [2, 4]|       true|     850.55|   2021-01-21|2021-03-15 15:16:55|\n",
      "+---+----------+------------+--------------------+------+-------------+--------------------+-------+-----------+-----------+-------------+-------------------+\n",
      "\n",
      "+---+----------+------------+--------------------+------+-------------+--------------------+-------+-----------+-----------+-------------+-------------------+\n",
      "| id|first_name|   last_name|               email|gender| current_city|       phone_numbers|courses|is_customer|amount_paid|customer_from|    last_updated_ts|\n",
      "+---+----------+------------+--------------------+------+-------------+--------------------+-------+-----------+-----------+-------------+-------------------+\n",
      "|  4|     Ashby|    Maddocks|  amaddocks3@home.pl|  male|San Francisco|        {NULL, NULL}|     []|      false|        NaN|         NULL|2021-04-10 17:45:30|\n",
      "|  1|    Corrie|Van den Oord|cvandenoord0@etsy...|  male|       Dallas|{+1 234 567 8901,...| [1, 2]|       true|    1000.55|   2021-01-15|2021-02-10 01:15:00|\n",
      "|  5|      Kurt|        Rome|krome4@shutterfly...|female|         NULL|{+1 817 934 7142,...|     []|      false|        NaN|         NULL|2021-04-02 00:55:18|\n",
      "|  2|  Nikolaus|     Brewitt|nbrewitt1@dailyma...|  male|       Huston|{+1 234 567 8923,...|    [3]|       true|      900.0|   2021-02-14|2021-02-18 03:33:00|\n",
      "|  3|    Orelie|      Penney|openney2@vistapri...|female|             |{+1 714 512 9752,...| [2, 4]|       true|     850.55|   2021-01-21|2021-03-15 15:16:55|\n",
      "+---+----------+------------+--------------------+------+-------------+--------------------+-------+-----------+-----------+-------------+-------------------+\n",
      "\n",
      "+---+----------+------------+--------------------+------+-------------+--------------------+-------+-----------+-----------+-------------+-------------------+\n",
      "| id|first_name|   last_name|               email|gender| current_city|       phone_numbers|courses|is_customer|amount_paid|customer_from|    last_updated_ts|\n",
      "+---+----------+------------+--------------------+------+-------------+--------------------+-------+-----------+-----------+-------------+-------------------+\n",
      "|  4|     Ashby|    Maddocks|  amaddocks3@home.pl|  male|San Francisco|        {NULL, NULL}|     []|      false|        NaN|         NULL|2021-04-10 17:45:30|\n",
      "|  1|    Corrie|Van den Oord|cvandenoord0@etsy...|  male|       Dallas|{+1 234 567 8901,...| [1, 2]|       true|    1000.55|   2021-01-15|2021-02-10 01:15:00|\n",
      "|  5|      Kurt|        Rome|krome4@shutterfly...|female|         NULL|{+1 817 934 7142,...|     []|      false|        NaN|         NULL|2021-04-02 00:55:18|\n",
      "|  2|  Nikolaus|     Brewitt|nbrewitt1@dailyma...|  male|       Huston|{+1 234 567 8923,...|    [3]|       true|      900.0|   2021-02-14|2021-02-18 03:33:00|\n",
      "|  3|    Orelie|      Penney|openney2@vistapri...|female|             |{+1 714 512 9752,...| [2, 4]|       true|     850.55|   2021-01-21|2021-03-15 15:16:55|\n",
      "+---+----------+------------+--------------------+------+-------------+--------------------+-------+-----------+-----------+-------------+-------------------+\n",
      "\n",
      "+---+----------+------------+--------------------+------+-------------+--------------------+-------+-----------+-----------+-------------+-------------------+\n",
      "| id|first_name|   last_name|               email|gender| current_city|       phone_numbers|courses|is_customer|amount_paid|customer_from|    last_updated_ts|\n",
      "+---+----------+------------+--------------------+------+-------------+--------------------+-------+-----------+-----------+-------------+-------------------+\n",
      "|  4|     Ashby|    Maddocks|  amaddocks3@home.pl|  male|San Francisco|        {NULL, NULL}|     []|      false|        NaN|         NULL|2021-04-10 17:45:30|\n",
      "|  1|    Corrie|Van den Oord|cvandenoord0@etsy...|  male|       Dallas|{+1 234 567 8901,...| [1, 2]|       true|    1000.55|   2021-01-15|2021-02-10 01:15:00|\n",
      "|  5|      Kurt|        Rome|krome4@shutterfly...|female|         NULL|{+1 817 934 7142,...|     []|      false|        NaN|         NULL|2021-04-02 00:55:18|\n",
      "|  2|  Nikolaus|     Brewitt|nbrewitt1@dailyma...|  male|       Huston|{+1 234 567 8923,...|    [3]|       true|      900.0|   2021-02-14|2021-02-18 03:33:00|\n",
      "|  3|    Orelie|      Penney|openney2@vistapri...|female|             |{+1 714 512 9752,...| [2, 4]|       true|     850.55|   2021-01-21|2021-03-15 15:16:55|\n",
      "+---+----------+------------+--------------------+------+-------------+--------------------+-------+-----------+-----------+-------------+-------------------+\n",
      "\n"
     ]
    }
   ],
   "source": [
    "from pyspark.sql.functions import col\n",
    "# sort users data in ascending order by first name\n",
    "users_df.sort('first_name').show()\n",
    "users_df.sort(col('first_name')).show()\n",
    "users_df.sort(users_df.first_name).show()\n",
    "users_df.sort(users_df['first_name']).show()"
   ]
  },
  {
   "cell_type": "code",
   "execution_count": 9,
   "id": "993d82ca-f47e-42d8-b94b-abbe459b1061",
   "metadata": {
    "execution": {
     "iopub.execute_input": "2024-06-16T14:55:04.146231Z",
     "iopub.status.busy": "2024-06-16T14:55:04.145657Z",
     "iopub.status.idle": "2024-06-16T14:55:04.342429Z",
     "shell.execute_reply": "2024-06-16T14:55:04.342083Z",
     "shell.execute_reply.started": "2024-06-16T14:55:04.146201Z"
    }
   },
   "outputs": [
    {
     "name": "stdout",
     "output_type": "stream",
     "text": [
      "+---+----------+------------+--------------------+------+-------------+--------------------+-------+-----------+-----------+-------------+-------------------+\n",
      "| id|first_name|   last_name|               email|gender| current_city|       phone_numbers|courses|is_customer|amount_paid|customer_from|    last_updated_ts|\n",
      "+---+----------+------------+--------------------+------+-------------+--------------------+-------+-----------+-----------+-------------+-------------------+\n",
      "|  5|      Kurt|        Rome|krome4@shutterfly...|female|         NULL|{+1 817 934 7142,...|     []|      false|        NaN|         NULL|2021-04-02 00:55:18|\n",
      "|  4|     Ashby|    Maddocks|  amaddocks3@home.pl|  male|San Francisco|        {NULL, NULL}|     []|      false|        NaN|         NULL|2021-04-10 17:45:30|\n",
      "|  1|    Corrie|Van den Oord|cvandenoord0@etsy...|  male|       Dallas|{+1 234 567 8901,...| [1, 2]|       true|    1000.55|   2021-01-15|2021-02-10 01:15:00|\n",
      "|  3|    Orelie|      Penney|openney2@vistapri...|female|             |{+1 714 512 9752,...| [2, 4]|       true|     850.55|   2021-01-21|2021-03-15 15:16:55|\n",
      "|  2|  Nikolaus|     Brewitt|nbrewitt1@dailyma...|  male|       Huston|{+1 234 567 8923,...|    [3]|       true|      900.0|   2021-02-14|2021-02-18 03:33:00|\n",
      "+---+----------+------------+--------------------+------+-------------+--------------------+-------+-----------+-----------+-------------+-------------------+\n",
      "\n"
     ]
    }
   ],
   "source": [
    "users_df.sort(col('customer_from')).show()"
   ]
  },
  {
   "cell_type": "code",
   "execution_count": 20,
   "id": "eff54259-d0db-49ef-a797-a26cdb5f2f45",
   "metadata": {
    "execution": {
     "iopub.execute_input": "2024-06-16T15:06:33.529427Z",
     "iopub.status.busy": "2024-06-16T15:06:33.528666Z",
     "iopub.status.idle": "2024-06-16T15:06:33.700630Z",
     "shell.execute_reply": "2024-06-16T15:06:33.700336Z",
     "shell.execute_reply.started": "2024-06-16T15:06:33.529380Z"
    }
   },
   "outputs": [
    {
     "name": "stdout",
     "output_type": "stream",
     "text": [
      "+---+----------+------------+--------------------+------+-------------+--------------------+-------+-----------+-----------+-------------+-------------------+\n",
      "| id|first_name|   last_name|               email|gender| current_city|       phone_numbers|courses|is_customer|amount_paid|customer_from|    last_updated_ts|\n",
      "+---+----------+------------+--------------------+------+-------------+--------------------+-------+-----------+-----------+-------------+-------------------+\n",
      "|  4|     Ashby|    Maddocks|  amaddocks3@home.pl|  male|San Francisco|        {NULL, NULL}|     []|      false|        NaN|         NULL|2021-04-10 17:45:30|\n",
      "|  5|      Kurt|        Rome|krome4@shutterfly...|female|         NULL|{+1 817 934 7142,...|     []|      false|        NaN|         NULL|2021-04-02 00:55:18|\n",
      "|  2|  Nikolaus|     Brewitt|nbrewitt1@dailyma...|  male|       Huston|{+1 234 567 8923,...|    [3]|       true|      900.0|   2021-02-14|2021-02-18 03:33:00|\n",
      "|  1|    Corrie|Van den Oord|cvandenoord0@etsy...|  male|       Dallas|{+1 234 567 8901,...| [1, 2]|       true|    1000.55|   2021-01-15|2021-02-10 01:15:00|\n",
      "|  3|    Orelie|      Penney|openney2@vistapri...|female|             |{+1 714 512 9752,...| [2, 4]|       true|     850.55|   2021-01-21|2021-03-15 15:16:55|\n",
      "+---+----------+------------+--------------------+------+-------------+--------------------+-------+-----------+-----------+-------------+-------------------+\n",
      "\n"
     ]
    }
   ],
   "source": [
    "#sort data in ascending order by numer of enrolled courses\n",
    "from pyspark.sql.functions import size\n",
    "\n",
    "users_df.sort(size('courses')).show()"
   ]
  },
  {
   "cell_type": "markdown",
   "id": "fc32989c-8cf3-42bc-a3aa-704104a7f0c7",
   "metadata": {
    "jp-MarkdownHeadingCollapsed": true
   },
   "source": [
    "## Sort Spark Data Frame by column in descending order"
   ]
  },
  {
   "cell_type": "code",
   "execution_count": 30,
   "id": "47a9012f-8818-4c4e-a661-9e6d56f3f992",
   "metadata": {
    "execution": {
     "iopub.execute_input": "2024-06-16T15:25:18.235430Z",
     "iopub.status.busy": "2024-06-16T15:25:18.234681Z",
     "iopub.status.idle": "2024-06-16T15:25:18.704322Z",
     "shell.execute_reply": "2024-06-16T15:25:18.704047Z",
     "shell.execute_reply.started": "2024-06-16T15:25:18.235385Z"
    }
   },
   "outputs": [
    {
     "name": "stdout",
     "output_type": "stream",
     "text": [
      "+---+----------+------------+--------------------+------+-------------+--------------------+-------+-----------+-----------+-------------+-------------------+\n",
      "| id|first_name|   last_name|               email|gender| current_city|       phone_numbers|courses|is_customer|amount_paid|customer_from|    last_updated_ts|\n",
      "+---+----------+------------+--------------------+------+-------------+--------------------+-------+-----------+-----------+-------------+-------------------+\n",
      "|  3|    Orelie|      Penney|openney2@vistapri...|female|             |{+1 714 512 9752,...| [2, 4]|       true|     850.55|   2021-01-21|2021-03-15 15:16:55|\n",
      "|  2|  Nikolaus|     Brewitt|nbrewitt1@dailyma...|  male|       Huston|{+1 234 567 8923,...|    [3]|       true|      900.0|   2021-02-14|2021-02-18 03:33:00|\n",
      "|  5|      Kurt|        Rome|krome4@shutterfly...|female|         NULL|{+1 817 934 7142,...|     []|      false|        NaN|         NULL|2021-04-02 00:55:18|\n",
      "|  1|    Corrie|Van den Oord|cvandenoord0@etsy...|  male|       Dallas|{+1 234 567 8901,...| [1, 2]|       true|    1000.55|   2021-01-15|2021-02-10 01:15:00|\n",
      "|  4|     Ashby|    Maddocks|  amaddocks3@home.pl|  male|San Francisco|        {NULL, NULL}|     []|      false|        NaN|         NULL|2021-04-10 17:45:30|\n",
      "+---+----------+------------+--------------------+------+-------------+--------------------+-------+-----------+-----------+-------------+-------------------+\n",
      "\n",
      "+---+----------+------------+--------------------+------+-------------+--------------------+-------+-----------+-----------+-------------+-------------------+\n",
      "| id|first_name|   last_name|               email|gender| current_city|       phone_numbers|courses|is_customer|amount_paid|customer_from|    last_updated_ts|\n",
      "+---+----------+------------+--------------------+------+-------------+--------------------+-------+-----------+-----------+-------------+-------------------+\n",
      "|  3|    Orelie|      Penney|openney2@vistapri...|female|             |{+1 714 512 9752,...| [2, 4]|       true|     850.55|   2021-01-21|2021-03-15 15:16:55|\n",
      "|  2|  Nikolaus|     Brewitt|nbrewitt1@dailyma...|  male|       Huston|{+1 234 567 8923,...|    [3]|       true|      900.0|   2021-02-14|2021-02-18 03:33:00|\n",
      "|  5|      Kurt|        Rome|krome4@shutterfly...|female|         NULL|{+1 817 934 7142,...|     []|      false|        NaN|         NULL|2021-04-02 00:55:18|\n",
      "|  1|    Corrie|Van den Oord|cvandenoord0@etsy...|  male|       Dallas|{+1 234 567 8901,...| [1, 2]|       true|    1000.55|   2021-01-15|2021-02-10 01:15:00|\n",
      "|  4|     Ashby|    Maddocks|  amaddocks3@home.pl|  male|San Francisco|        {NULL, NULL}|     []|      false|        NaN|         NULL|2021-04-10 17:45:30|\n",
      "+---+----------+------------+--------------------+------+-------------+--------------------+-------+-----------+-----------+-------------+-------------------+\n",
      "\n",
      "+---+----------+------------+--------------------+------+-------------+--------------------+-------+-----------+-----------+-------------+-------------------+\n",
      "| id|first_name|   last_name|               email|gender| current_city|       phone_numbers|courses|is_customer|amount_paid|customer_from|    last_updated_ts|\n",
      "+---+----------+------------+--------------------+------+-------------+--------------------+-------+-----------+-----------+-------------+-------------------+\n",
      "|  3|    Orelie|      Penney|openney2@vistapri...|female|             |{+1 714 512 9752,...| [2, 4]|       true|     850.55|   2021-01-21|2021-03-15 15:16:55|\n",
      "|  2|  Nikolaus|     Brewitt|nbrewitt1@dailyma...|  male|       Huston|{+1 234 567 8923,...|    [3]|       true|      900.0|   2021-02-14|2021-02-18 03:33:00|\n",
      "|  5|      Kurt|        Rome|krome4@shutterfly...|female|         NULL|{+1 817 934 7142,...|     []|      false|        NaN|         NULL|2021-04-02 00:55:18|\n",
      "|  1|    Corrie|Van den Oord|cvandenoord0@etsy...|  male|       Dallas|{+1 234 567 8901,...| [1, 2]|       true|    1000.55|   2021-01-15|2021-02-10 01:15:00|\n",
      "|  4|     Ashby|    Maddocks|  amaddocks3@home.pl|  male|San Francisco|        {NULL, NULL}|     []|      false|        NaN|         NULL|2021-04-10 17:45:30|\n",
      "+---+----------+------------+--------------------+------+-------------+--------------------+-------+-----------+-----------+-------------+-------------------+\n",
      "\n",
      "+---+----------+------------+--------------------+------+-------------+--------------------+-------+-----------+-----------+-------------+-------------------+\n",
      "| id|first_name|   last_name|               email|gender| current_city|       phone_numbers|courses|is_customer|amount_paid|customer_from|    last_updated_ts|\n",
      "+---+----------+------------+--------------------+------+-------------+--------------------+-------+-----------+-----------+-------------+-------------------+\n",
      "|  3|    Orelie|      Penney|openney2@vistapri...|female|             |{+1 714 512 9752,...| [2, 4]|       true|     850.55|   2021-01-21|2021-03-15 15:16:55|\n",
      "|  2|  Nikolaus|     Brewitt|nbrewitt1@dailyma...|  male|       Huston|{+1 234 567 8923,...|    [3]|       true|      900.0|   2021-02-14|2021-02-18 03:33:00|\n",
      "|  5|      Kurt|        Rome|krome4@shutterfly...|female|         NULL|{+1 817 934 7142,...|     []|      false|        NaN|         NULL|2021-04-02 00:55:18|\n",
      "|  1|    Corrie|Van den Oord|cvandenoord0@etsy...|  male|       Dallas|{+1 234 567 8901,...| [1, 2]|       true|    1000.55|   2021-01-15|2021-02-10 01:15:00|\n",
      "|  4|     Ashby|    Maddocks|  amaddocks3@home.pl|  male|San Francisco|        {NULL, NULL}|     []|      false|        NaN|         NULL|2021-04-10 17:45:30|\n",
      "+---+----------+------------+--------------------+------+-------------+--------------------+-------+-----------+-----------+-------------+-------------------+\n",
      "\n"
     ]
    }
   ],
   "source": [
    "users_df.sort('first_name', ascending=False).show()\n",
    "users_df.sort(users_df.first_name.desc()).show()\n",
    "\n",
    "from pyspark.sql.functions import col\n",
    "users_df.sort(col('first_name').desc()).show()\n",
    "\n",
    "from pyspark.sql.functions import desc\n",
    "users_df.sort(desc('first_name')).show()"
   ]
  },
  {
   "cell_type": "code",
   "execution_count": 24,
   "id": "e2548aa8-e74c-4efc-9690-e24aefce921b",
   "metadata": {
    "execution": {
     "iopub.execute_input": "2024-06-16T15:17:34.106508Z",
     "iopub.status.busy": "2024-06-16T15:17:34.105758Z",
     "iopub.status.idle": "2024-06-16T15:17:34.284587Z",
     "shell.execute_reply": "2024-06-16T15:17:34.284138Z",
     "shell.execute_reply.started": "2024-06-16T15:17:34.106463Z"
    }
   },
   "outputs": [
    {
     "name": "stdout",
     "output_type": "stream",
     "text": [
      "+---+----------+------------+--------------------+------+-------------+--------------------+-------+-----------+-----------+-------------+-------------------+\n",
      "| id|first_name|   last_name|               email|gender| current_city|       phone_numbers|courses|is_customer|amount_paid|customer_from|    last_updated_ts|\n",
      "+---+----------+------------+--------------------+------+-------------+--------------------+-------+-----------+-----------+-------------+-------------------+\n",
      "|  2|  Nikolaus|     Brewitt|nbrewitt1@dailyma...|  male|       Huston|{+1 234 567 8923,...|    [3]|       true|      900.0|   2021-02-14|2021-02-18 03:33:00|\n",
      "|  3|    Orelie|      Penney|openney2@vistapri...|female|             |{+1 714 512 9752,...| [2, 4]|       true|     850.55|   2021-01-21|2021-03-15 15:16:55|\n",
      "|  1|    Corrie|Van den Oord|cvandenoord0@etsy...|  male|       Dallas|{+1 234 567 8901,...| [1, 2]|       true|    1000.55|   2021-01-15|2021-02-10 01:15:00|\n",
      "|  4|     Ashby|    Maddocks|  amaddocks3@home.pl|  male|San Francisco|        {NULL, NULL}|     []|      false|        NaN|         NULL|2021-04-10 17:45:30|\n",
      "|  5|      Kurt|        Rome|krome4@shutterfly...|female|         NULL|{+1 817 934 7142,...|     []|      false|        NaN|         NULL|2021-04-02 00:55:18|\n",
      "+---+----------+------------+--------------------+------+-------------+--------------------+-------+-----------+-----------+-------------+-------------------+\n",
      "\n"
     ]
    }
   ],
   "source": [
    "users_df.sort(users_df['customer_from'].desc()).show()"
   ]
  },
  {
   "cell_type": "code",
   "execution_count": 25,
   "id": "ed1e05cf-acfa-4d95-9100-6a2c32dd1a2b",
   "metadata": {
    "execution": {
     "iopub.execute_input": "2024-06-16T15:19:11.522767Z",
     "iopub.status.busy": "2024-06-16T15:19:11.521895Z",
     "iopub.status.idle": "2024-06-16T15:19:11.704930Z",
     "shell.execute_reply": "2024-06-16T15:19:11.704703Z",
     "shell.execute_reply.started": "2024-06-16T15:19:11.522721Z"
    }
   },
   "outputs": [
    {
     "name": "stdout",
     "output_type": "stream",
     "text": [
      "+---+----------+------------+--------------------+------+-------------+--------------------+-------+-----------+-----------+-------------+-------------------+\n",
      "| id|first_name|   last_name|               email|gender| current_city|       phone_numbers|courses|is_customer|amount_paid|customer_from|    last_updated_ts|\n",
      "+---+----------+------------+--------------------+------+-------------+--------------------+-------+-----------+-----------+-------------+-------------------+\n",
      "|  3|    Orelie|      Penney|openney2@vistapri...|female|             |{+1 714 512 9752,...| [2, 4]|       true|     850.55|   2021-01-21|2021-03-15 15:16:55|\n",
      "|  1|    Corrie|Van den Oord|cvandenoord0@etsy...|  male|       Dallas|{+1 234 567 8901,...| [1, 2]|       true|    1000.55|   2021-01-15|2021-02-10 01:15:00|\n",
      "|  2|  Nikolaus|     Brewitt|nbrewitt1@dailyma...|  male|       Huston|{+1 234 567 8923,...|    [3]|       true|      900.0|   2021-02-14|2021-02-18 03:33:00|\n",
      "|  4|     Ashby|    Maddocks|  amaddocks3@home.pl|  male|San Francisco|        {NULL, NULL}|     []|      false|        NaN|         NULL|2021-04-10 17:45:30|\n",
      "|  5|      Kurt|        Rome|krome4@shutterfly...|female|         NULL|{+1 817 934 7142,...|     []|      false|        NaN|         NULL|2021-04-02 00:55:18|\n",
      "+---+----------+------------+--------------------+------+-------------+--------------------+-------+-----------+-----------+-------------+-------------------+\n",
      "\n"
     ]
    }
   ],
   "source": [
    "users_df.sort(desc(size('courses'))).show()"
   ]
  },
  {
   "cell_type": "code",
   "execution_count": 26,
   "id": "94c13343-6e6c-438b-b59a-5e916a562c20",
   "metadata": {
    "execution": {
     "iopub.execute_input": "2024-06-16T15:23:05.857603Z",
     "iopub.status.busy": "2024-06-16T15:23:05.857035Z",
     "iopub.status.idle": "2024-06-16T15:23:06.151786Z",
     "shell.execute_reply": "2024-06-16T15:23:06.151474Z",
     "shell.execute_reply.started": "2024-06-16T15:23:05.857575Z"
    }
   },
   "outputs": [
    {
     "name": "stdout",
     "output_type": "stream",
     "text": [
      "+---+----------+------------+--------------------+------+-------------+--------------------+-------+-----------+-----------+-------------+-------------------+\n",
      "| id|first_name|   last_name|               email|gender| current_city|       phone_numbers|courses|is_customer|amount_paid|customer_from|    last_updated_ts|\n",
      "+---+----------+------------+--------------------+------+-------------+--------------------+-------+-----------+-----------+-------------+-------------------+\n",
      "|  1|    Corrie|Van den Oord|cvandenoord0@etsy...|  male|       Dallas|{+1 234 567 8901,...| [1, 2]|       true|    1000.55|   2021-01-15|2021-02-10 01:15:00|\n",
      "|  3|    Orelie|      Penney|openney2@vistapri...|female|             |{+1 714 512 9752,...| [2, 4]|       true|     850.55|   2021-01-21|2021-03-15 15:16:55|\n",
      "|  2|  Nikolaus|     Brewitt|nbrewitt1@dailyma...|  male|       Huston|{+1 234 567 8923,...|    [3]|       true|      900.0|   2021-02-14|2021-02-18 03:33:00|\n",
      "|  4|     Ashby|    Maddocks|  amaddocks3@home.pl|  male|San Francisco|        {NULL, NULL}|     []|      false|        NaN|         NULL|2021-04-10 17:45:30|\n",
      "|  5|      Kurt|        Rome|krome4@shutterfly...|female|         NULL|{+1 817 934 7142,...|     []|      false|        NaN|         NULL|2021-04-02 00:55:18|\n",
      "+---+----------+------------+--------------------+------+-------------+--------------------+-------+-----------+-----------+-------------+-------------------+\n",
      "\n",
      "+---+----------+------------+--------------------+------+-------------+--------------------+-------+-----------+-----------+-------------+-------------------+--------------+\n",
      "| id|first_name|   last_name|               email|gender| current_city|       phone_numbers|courses|is_customer|amount_paid|customer_from|    last_updated_ts|num_of_courses|\n",
      "+---+----------+------------+--------------------+------+-------------+--------------------+-------+-----------+-----------+-------------+-------------------+--------------+\n",
      "|  3|    Orelie|      Penney|openney2@vistapri...|female|             |{+1 714 512 9752,...| [2, 4]|       true|     850.55|   2021-01-21|2021-03-15 15:16:55|             2|\n",
      "|  1|    Corrie|Van den Oord|cvandenoord0@etsy...|  male|       Dallas|{+1 234 567 8901,...| [1, 2]|       true|    1000.55|   2021-01-15|2021-02-10 01:15:00|             2|\n",
      "|  2|  Nikolaus|     Brewitt|nbrewitt1@dailyma...|  male|       Huston|{+1 234 567 8923,...|    [3]|       true|      900.0|   2021-02-14|2021-02-18 03:33:00|             1|\n",
      "|  4|     Ashby|    Maddocks|  amaddocks3@home.pl|  male|San Francisco|        {NULL, NULL}|     []|      false|        NaN|         NULL|2021-04-10 17:45:30|             0|\n",
      "|  5|      Kurt|        Rome|krome4@shutterfly...|female|         NULL|{+1 817 934 7142,...|     []|      false|        NaN|         NULL|2021-04-02 00:55:18|             0|\n",
      "+---+----------+------------+--------------------+------+-------------+--------------------+-------+-----------+-----------+-------------+-------------------+--------------+\n",
      "\n"
     ]
    }
   ],
   "source": [
    "users_df.sort(desc(size('courses'))).show()\n",
    "users_df. \\\n",
    "    withColumn('num_of_courses', size('courses')). \\\n",
    "    sort(col('num_of_courses').desc()). \\\n",
    "    show()"
   ]
  },
  {
   "cell_type": "markdown",
   "id": "1e44dd6c-44bb-4c09-9bd9-6d98b1ec903f",
   "metadata": {
    "execution": {
     "iopub.execute_input": "2024-06-16T15:28:20.311182Z",
     "iopub.status.busy": "2024-06-16T15:28:20.310614Z",
     "iopub.status.idle": "2024-06-16T15:28:20.317747Z",
     "shell.execute_reply": "2024-06-16T15:28:20.316742Z",
     "shell.execute_reply.started": "2024-06-16T15:28:20.311155Z"
    },
    "jp-MarkdownHeadingCollapsed": true
   },
   "source": [
    "## Dealing with NULL's while sorting Spark Data Frame"
   ]
  },
  {
   "cell_type": "code",
   "execution_count": 37,
   "id": "4974d622-98e8-48fe-abb2-7b345a80303f",
   "metadata": {
    "execution": {
     "iopub.execute_input": "2024-06-16T15:34:38.333265Z",
     "iopub.status.busy": "2024-06-16T15:34:38.332535Z",
     "iopub.status.idle": "2024-06-16T15:34:38.771091Z",
     "shell.execute_reply": "2024-06-16T15:34:38.770735Z",
     "shell.execute_reply.started": "2024-06-16T15:34:38.333220Z"
    }
   },
   "outputs": [
    {
     "name": "stdout",
     "output_type": "stream",
     "text": [
      "+---+----------+------------+--------------------+------+-------------+--------------------+-------+-----------+-----------+-------------+-------------------+\n",
      "| id|first_name|   last_name|               email|gender| current_city|       phone_numbers|courses|is_customer|amount_paid|customer_from|    last_updated_ts|\n",
      "+---+----------+------------+--------------------+------+-------------+--------------------+-------+-----------+-----------+-------------+-------------------+\n",
      "|  4|     Ashby|    Maddocks|  amaddocks3@home.pl|  male|San Francisco|        {NULL, NULL}|     []|      false|        NaN|         NULL|2021-04-10 17:45:30|\n",
      "|  5|      Kurt|        Rome|krome4@shutterfly...|female|         NULL|{+1 817 934 7142,...|     []|      false|        NaN|         NULL|2021-04-02 00:55:18|\n",
      "|  1|    Corrie|Van den Oord|cvandenoord0@etsy...|  male|       Dallas|{+1 234 567 8901,...| [1, 2]|       true|    1000.55|   2021-01-15|2021-02-10 01:15:00|\n",
      "|  3|    Orelie|      Penney|openney2@vistapri...|female|             |{+1 714 512 9752,...| [2, 4]|       true|     850.55|   2021-01-21|2021-03-15 15:16:55|\n",
      "|  2|  Nikolaus|     Brewitt|nbrewitt1@dailyma...|  male|       Huston|{+1 234 567 8923,...|    [3]|       true|      900.0|   2021-02-14|2021-02-18 03:33:00|\n",
      "+---+----------+------------+--------------------+------+-------------+--------------------+-------+-----------+-----------+-------------+-------------------+\n",
      "\n",
      "+---+----------+------------+--------------------+------+-------------+--------------------+-------+-----------+-----------+-------------+-------------------+\n",
      "| id|first_name|   last_name|               email|gender| current_city|       phone_numbers|courses|is_customer|amount_paid|customer_from|    last_updated_ts|\n",
      "+---+----------+------------+--------------------+------+-------------+--------------------+-------+-----------+-----------+-------------+-------------------+\n",
      "|  1|    Corrie|Van den Oord|cvandenoord0@etsy...|  male|       Dallas|{+1 234 567 8901,...| [1, 2]|       true|    1000.55|   2021-01-15|2021-02-10 01:15:00|\n",
      "|  3|    Orelie|      Penney|openney2@vistapri...|female|             |{+1 714 512 9752,...| [2, 4]|       true|     850.55|   2021-01-21|2021-03-15 15:16:55|\n",
      "|  2|  Nikolaus|     Brewitt|nbrewitt1@dailyma...|  male|       Huston|{+1 234 567 8923,...|    [3]|       true|      900.0|   2021-02-14|2021-02-18 03:33:00|\n",
      "|  5|      Kurt|        Rome|krome4@shutterfly...|female|         NULL|{+1 817 934 7142,...|     []|      false|        NaN|         NULL|2021-04-02 00:55:18|\n",
      "|  4|     Ashby|    Maddocks|  amaddocks3@home.pl|  male|San Francisco|        {NULL, NULL}|     []|      false|        NaN|         NULL|2021-04-10 17:45:30|\n",
      "+---+----------+------------+--------------------+------+-------------+--------------------+-------+-----------+-----------+-------------+-------------------+\n",
      "\n",
      "+---+----------+------------+--------------------+------+-------------+--------------------+-------+-----------+-----------+-------------+-------------------+\n",
      "| id|first_name|   last_name|               email|gender| current_city|       phone_numbers|courses|is_customer|amount_paid|customer_from|    last_updated_ts|\n",
      "+---+----------+------------+--------------------+------+-------------+--------------------+-------+-----------+-----------+-------------+-------------------+\n",
      "|  1|    Corrie|Van den Oord|cvandenoord0@etsy...|  male|       Dallas|{+1 234 567 8901,...| [1, 2]|       true|    1000.55|   2021-01-15|2021-02-10 01:15:00|\n",
      "|  3|    Orelie|      Penney|openney2@vistapri...|female|             |{+1 714 512 9752,...| [2, 4]|       true|     850.55|   2021-01-21|2021-03-15 15:16:55|\n",
      "|  2|  Nikolaus|     Brewitt|nbrewitt1@dailyma...|  male|       Huston|{+1 234 567 8923,...|    [3]|       true|      900.0|   2021-02-14|2021-02-18 03:33:00|\n",
      "|  5|      Kurt|        Rome|krome4@shutterfly...|female|         NULL|{+1 817 934 7142,...|     []|      false|        NaN|         NULL|2021-04-02 00:55:18|\n",
      "|  4|     Ashby|    Maddocks|  amaddocks3@home.pl|  male|San Francisco|        {NULL, NULL}|     []|      false|        NaN|         NULL|2021-04-10 17:45:30|\n",
      "+---+----------+------------+--------------------+------+-------------+--------------------+-------+-----------+-----------+-------------+-------------------+\n",
      "\n",
      "+---+----------+------------+--------------------+------+-------------+--------------------+-------+-----------+-----------+-------------+-------------------+\n",
      "| id|first_name|   last_name|               email|gender| current_city|       phone_numbers|courses|is_customer|amount_paid|customer_from|    last_updated_ts|\n",
      "+---+----------+------------+--------------------+------+-------------+--------------------+-------+-----------+-----------+-------------+-------------------+\n",
      "|  5|      Kurt|        Rome|krome4@shutterfly...|female|         NULL|{+1 817 934 7142,...|     []|      false|        NaN|         NULL|2021-04-02 00:55:18|\n",
      "|  4|     Ashby|    Maddocks|  amaddocks3@home.pl|  male|San Francisco|        {NULL, NULL}|     []|      false|        NaN|         NULL|2021-04-10 17:45:30|\n",
      "|  2|  Nikolaus|     Brewitt|nbrewitt1@dailyma...|  male|       Huston|{+1 234 567 8923,...|    [3]|       true|      900.0|   2021-02-14|2021-02-18 03:33:00|\n",
      "|  3|    Orelie|      Penney|openney2@vistapri...|female|             |{+1 714 512 9752,...| [2, 4]|       true|     850.55|   2021-01-21|2021-03-15 15:16:55|\n",
      "|  1|    Corrie|Van den Oord|cvandenoord0@etsy...|  male|       Dallas|{+1 234 567 8901,...| [1, 2]|       true|    1000.55|   2021-01-15|2021-02-10 01:15:00|\n",
      "+---+----------+------------+--------------------+------+-------------+--------------------+-------+-----------+-----------+-------------+-------------------+\n",
      "\n"
     ]
    }
   ],
   "source": [
    "# by default: asc - nulls first, desc - nulls last\n",
    "\n",
    "from pyspark.sql.functions import col, asc_nulls_last, desc_nulls_first\n",
    "\n",
    "users_df.orderBy(col('customer_from')).show()\n",
    "users_df.orderBy(col('customer_from').asc_nulls_last()).show()\n",
    "users_df.orderBy(asc_nulls_last('customer_from')).show()\n",
    "users_df.orderBy(desc_nulls_first('customer_from')).show()"
   ]
  },
  {
   "cell_type": "markdown",
   "id": "03d4fe2b-d1fd-4615-b363-71f8e0e0e263",
   "metadata": {},
   "source": [
    "## Composite sorting of a Spark Data Frame"
   ]
  },
  {
   "cell_type": "code",
   "execution_count": 13,
   "id": "1974560d-2731-46da-a54f-dc48086f9c34",
   "metadata": {
    "execution": {
     "iopub.execute_input": "2024-06-16T19:12:03.535141Z",
     "iopub.status.busy": "2024-06-16T19:12:03.534350Z",
     "iopub.status.idle": "2024-06-16T19:12:04.011727Z",
     "shell.execute_reply": "2024-06-16T19:12:04.011398Z",
     "shell.execute_reply.started": "2024-06-16T19:12:03.535090Z"
    }
   },
   "outputs": [
    {
     "name": "stdout",
     "output_type": "stream",
     "text": [
      "+---------+--------------------+----------+-----------------+-----+------------+\n",
      "|course_id|         course_name|enrollment|number_of_ratings|stars|suitable_for|\n",
      "+---------+--------------------+----------+-----------------+-----+------------+\n",
      "|        1|2020 Complete Pyt...|   1100093|           318066|  4.6|    Beginner|\n",
      "|        4|Angular - The Com...|    422557|           129984|  4.6|Intermediate|\n",
      "|       12|Automate the Bori...|    692617|            70508|  4.6|    Advanced|\n",
      "|       10|Complete C# Unity...|    364934|            78989|  4.6|    Advanced|\n",
      "|        5|Java Programming ...|    502572|           123798|  4.6|    Advanced|\n",
      "|       15|Learn Python Prog...|    240790|            58677|  4.5|    Advanced|\n",
      "|        3|Machine Learning ...|    692812|           132228|  4.5|Intermediate|\n",
      "|       14|Modern React with...|    203214|            60835|  4.7|Intermediate|\n",
      "|        8|Python for Data S...|    387789|            87403|  4.6|Intermediate|\n",
      "|        6|React - The Compl...|    304670|            90964|  4.6|Intermediate|\n",
      "|       18|Selenium WebDrive...|    148562|            49947|  4.6|    Advanced|\n",
      "|       21|Spring & Hibernat...|    177053|            45329|  4.6|    Advanced|\n",
      "|        7|The Complete 2020...|    270656|            88098|  4.7|    Beginner|\n",
      "|        9|The Complete Java...|    347979|            83521|  4.6|Intermediate|\n",
      "|       16|The Complete Node...|    202922|            50885|  4.7|    Advanced|\n",
      "|       13|The Complete Web ...|    273598|            63175|  4.5|Intermediate|\n",
      "|       11|The Data Science ...|    325047|            76907|  4.5|    Beginner|\n",
      "|       20|The Ultimate MySQ...|    203366|            45382|  4.6|    Beginner|\n",
      "|        2|The Web Developer...|    596726|           182997|  4.6|    Beginner|\n",
      "|       19|Unreal Engine C++...|    229005|            45860|  4.5|    Advanced|\n",
      "+---------+--------------------+----------+-----------------+-----+------------+\n",
      "only showing top 20 rows\n",
      "\n",
      "root\n",
      " |-- course_id: long (nullable = true)\n",
      " |-- course_name: string (nullable = true)\n",
      " |-- enrollment: long (nullable = true)\n",
      " |-- number_of_ratings: long (nullable = true)\n",
      " |-- stars: double (nullable = true)\n",
      " |-- suitable_for: string (nullable = true)\n",
      "\n"
     ]
    },
    {
     "data": {
      "text/plain": [
       "21"
      ]
     },
     "execution_count": 13,
     "metadata": {},
     "output_type": "execute_result"
    }
   ],
   "source": [
    "courses = [{'course_id': 1,\n",
    "  'course_name': '2020 Complete Python Bootcamp: From Zero to Hero in Python',\n",
    "  'suitable_for': 'Beginner',\n",
    "  'enrollment': 1100093,\n",
    "  'stars': 4.6,\n",
    "  'number_of_ratings': 318066},\n",
    " {'course_id': 4,\n",
    "  'course_name': 'Angular - The Complete Guide (2020 Edition)',\n",
    "  'suitable_for': 'Intermediate',\n",
    "  'enrollment': 422557,\n",
    "  'stars': 4.6,\n",
    "  'number_of_ratings': 129984},\n",
    " {'course_id': 12,\n",
    "  'course_name': 'Automate the Boring Stuff with Python Programming',\n",
    "  'suitable_for': 'Advanced',\n",
    "  'enrollment': 692617,\n",
    "  'stars': 4.6,\n",
    "  'number_of_ratings': 70508},\n",
    " {'course_id': 10,\n",
    "  'course_name': 'Complete C# Unity Game Developer 2D',\n",
    "  'suitable_for': 'Advanced',\n",
    "  'enrollment': 364934,\n",
    "  'stars': 4.6,\n",
    "  'number_of_ratings': 78989},\n",
    " {'course_id': 5,\n",
    "  'course_name': 'Java Programming Masterclass for Software Developers',\n",
    "  'suitable_for': 'Advanced',\n",
    "  'enrollment': 502572,\n",
    "  'stars': 4.6,\n",
    "  'number_of_ratings': 123798},\n",
    " {'course_id': 15,\n",
    "  'course_name': 'Learn Python Programming Masterclass',\n",
    "  'suitable_for': 'Advanced',\n",
    "  'enrollment': 240790,\n",
    "  'stars': 4.5,\n",
    "  'number_of_ratings': 58677},\n",
    " {'course_id': 3,\n",
    "  'course_name': 'Machine Learning A-Z™: Hands-On Python & R In Data Science',\n",
    "  'suitable_for': 'Intermediate',\n",
    "  'enrollment': 692812,\n",
    "  'stars': 4.5,\n",
    "  'number_of_ratings': 132228},\n",
    " {'course_id': 14,\n",
    "  'course_name': 'Modern React with Redux [2020 Update]',\n",
    "  'suitable_for': 'Intermediate',\n",
    "  'enrollment': 203214,\n",
    "  'stars': 4.7,\n",
    "  'number_of_ratings': 60835},\n",
    " {'course_id': 8,\n",
    "  'course_name': 'Python for Data Science and Machine Learning Bootcamp',\n",
    "  'suitable_for': 'Intermediate',\n",
    "  'enrollment': 387789,\n",
    "  'stars': 4.6,\n",
    "  'number_of_ratings': 87403},\n",
    " {'course_id': 6,\n",
    "  'course_name': 'React - The Complete Guide (incl Hooks, React Router, Redux)',\n",
    "  'suitable_for': 'Intermediate',\n",
    "  'enrollment': 304670,\n",
    "  'stars': 4.6,\n",
    "  'number_of_ratings': 90964},\n",
    " {'course_id': 18,\n",
    "  'course_name': 'Selenium WebDriver with Java -Basics to Advanced+Frameworks',\n",
    "  'suitable_for': 'Advanced',\n",
    "  'enrollment': 148562,\n",
    "  'stars': 4.6,\n",
    "  'number_of_ratings': 49947},\n",
    " {'course_id': 21,\n",
    "  'course_name': 'Spring & Hibernate for Beginners (includes Spring Boot)',\n",
    "  'suitable_for': 'Advanced',\n",
    "  'enrollment': 177053,\n",
    "  'stars': 4.6,\n",
    "  'number_of_ratings': 45329},\n",
    " {'course_id': 7,\n",
    "  'course_name': 'The Complete 2020 Web Development Bootcamp',\n",
    "  'suitable_for': 'Beginner',\n",
    "  'enrollment': 270656,\n",
    "  'stars': 4.7,\n",
    "  'number_of_ratings': 88098},\n",
    " {'course_id': 9,\n",
    "  'course_name': 'The Complete JavaScript Course 2020: Build Real Projects!',\n",
    "  'suitable_for': 'Intermediate',\n",
    "  'enrollment': 347979,\n",
    "  'stars': 4.6,\n",
    "  'number_of_ratings': 83521},\n",
    " {'course_id': 16,\n",
    "  'course_name': 'The Complete Node.js Developer Course (3rd Edition)',\n",
    "  'suitable_for': 'Advanced',\n",
    "  'enrollment': 202922,\n",
    "  'stars': 4.7,\n",
    "  'number_of_ratings': 50885},\n",
    " {'course_id': 13,\n",
    "  'course_name': 'The Complete Web Developer Course 2.0',\n",
    "  'suitable_for': 'Intermediate',\n",
    "  'enrollment': 273598,\n",
    "  'stars': 4.5,\n",
    "  'number_of_ratings': 63175},\n",
    " {'course_id': 11,\n",
    "  'course_name': 'The Data Science Course 2020: Complete Data Science Bootcamp',\n",
    "  'suitable_for': 'Beginner',\n",
    "  'enrollment': 325047,\n",
    "  'stars': 4.5,\n",
    "  'number_of_ratings': 76907},\n",
    " {'course_id': 20,\n",
    "  'course_name': 'The Ultimate MySQL Bootcamp: Go from SQL Beginner to Expert',\n",
    "  'suitable_for': 'Beginner',\n",
    "  'enrollment': 203366,\n",
    "  'stars': 4.6,\n",
    "  'number_of_ratings': 45382},\n",
    " {'course_id': 2,\n",
    "  'course_name': 'The Web Developer Bootcamp',\n",
    "  'suitable_for': 'Beginner',\n",
    "  'enrollment': 596726,\n",
    "  'stars': 4.6,\n",
    "  'number_of_ratings': 182997},\n",
    " {'course_id': 19,\n",
    "  'course_name': 'Unreal Engine C++ Developer: Learn C++ and Make Video Games',\n",
    "  'suitable_for': 'Advanced',\n",
    "  'enrollment': 229005,\n",
    "  'stars': 4.5,\n",
    "  'number_of_ratings': 45860},\n",
    " {'course_id': 17,\n",
    "  'course_name': 'iOS 13 & Swift 5 - The Complete iOS App Development Bootcamp',\n",
    "  'suitable_for': 'Advanced',\n",
    "  'enrollment': 179598,\n",
    "  'stars': 4.8,\n",
    "  'number_of_ratings': 49972\n",
    "}]\n",
    "\n",
    "courses_df = spark.createDataFrame(courses)\n",
    "courses_df.show()\n",
    "courses_df.printSchema()\n",
    "courses_df.count()"
   ]
  },
  {
   "cell_type": "code",
   "execution_count": 8,
   "id": "29a44cf7-b146-425a-8e71-7c17c49fe4c1",
   "metadata": {
    "execution": {
     "iopub.execute_input": "2024-06-16T19:05:29.959983Z",
     "iopub.status.busy": "2024-06-16T19:05:29.959406Z",
     "iopub.status.idle": "2024-06-16T19:05:30.362594Z",
     "shell.execute_reply": "2024-06-16T19:05:30.362332Z",
     "shell.execute_reply.started": "2024-06-16T19:05:29.959944Z"
    }
   },
   "outputs": [
    {
     "name": "stdout",
     "output_type": "stream",
     "text": [
      "+---------+--------------------+----------+-----------------+-----+------------+\n",
      "|course_id|         course_name|enrollment|number_of_ratings|stars|suitable_for|\n",
      "+---------+--------------------+----------+-----------------+-----+------------+\n",
      "|       18|Selenium WebDrive...|    148562|            49947|  4.6|    Advanced|\n",
      "|       21|Spring & Hibernat...|    177053|            45329|  4.6|    Advanced|\n",
      "|       17|iOS 13 & Swift 5 ...|    179598|            49972|  4.8|    Advanced|\n",
      "|       16|The Complete Node...|    202922|            50885|  4.7|    Advanced|\n",
      "|       19|Unreal Engine C++...|    229005|            45860|  4.5|    Advanced|\n",
      "|       15|Learn Python Prog...|    240790|            58677|  4.5|    Advanced|\n",
      "|       10|Complete C# Unity...|    364934|            78989|  4.6|    Advanced|\n",
      "|        5|Java Programming ...|    502572|           123798|  4.6|    Advanced|\n",
      "|       12|Automate the Bori...|    692617|            70508|  4.6|    Advanced|\n",
      "|       20|The Ultimate MySQ...|    203366|            45382|  4.6|    Beginner|\n",
      "|        7|The Complete 2020...|    270656|            88098|  4.7|    Beginner|\n",
      "|       11|The Data Science ...|    325047|            76907|  4.5|    Beginner|\n",
      "|        2|The Web Developer...|    596726|           182997|  4.6|    Beginner|\n",
      "|        1|2020 Complete Pyt...|   1100093|           318066|  4.6|    Beginner|\n",
      "|       14|Modern React with...|    203214|            60835|  4.7|Intermediate|\n",
      "|       13|The Complete Web ...|    273598|            63175|  4.5|Intermediate|\n",
      "|        6|React - The Compl...|    304670|            90964|  4.6|Intermediate|\n",
      "|        9|The Complete Java...|    347979|            83521|  4.6|Intermediate|\n",
      "|        8|Python for Data S...|    387789|            87403|  4.6|Intermediate|\n",
      "|        4|Angular - The Com...|    422557|           129984|  4.6|Intermediate|\n",
      "+---------+--------------------+----------+-----------------+-----+------------+\n",
      "only showing top 20 rows\n",
      "\n",
      "+---------+--------------------+----------+-----------------+-----+------------+\n",
      "|course_id|         course_name|enrollment|number_of_ratings|stars|suitable_for|\n",
      "+---------+--------------------+----------+-----------------+-----+------------+\n",
      "|       18|Selenium WebDrive...|    148562|            49947|  4.6|    Advanced|\n",
      "|       21|Spring & Hibernat...|    177053|            45329|  4.6|    Advanced|\n",
      "|       17|iOS 13 & Swift 5 ...|    179598|            49972|  4.8|    Advanced|\n",
      "|       16|The Complete Node...|    202922|            50885|  4.7|    Advanced|\n",
      "|       19|Unreal Engine C++...|    229005|            45860|  4.5|    Advanced|\n",
      "|       15|Learn Python Prog...|    240790|            58677|  4.5|    Advanced|\n",
      "|       10|Complete C# Unity...|    364934|            78989|  4.6|    Advanced|\n",
      "|        5|Java Programming ...|    502572|           123798|  4.6|    Advanced|\n",
      "|       12|Automate the Bori...|    692617|            70508|  4.6|    Advanced|\n",
      "|       20|The Ultimate MySQ...|    203366|            45382|  4.6|    Beginner|\n",
      "|        7|The Complete 2020...|    270656|            88098|  4.7|    Beginner|\n",
      "|       11|The Data Science ...|    325047|            76907|  4.5|    Beginner|\n",
      "|        2|The Web Developer...|    596726|           182997|  4.6|    Beginner|\n",
      "|        1|2020 Complete Pyt...|   1100093|           318066|  4.6|    Beginner|\n",
      "|       14|Modern React with...|    203214|            60835|  4.7|Intermediate|\n",
      "|       13|The Complete Web ...|    273598|            63175|  4.5|Intermediate|\n",
      "|        6|React - The Compl...|    304670|            90964|  4.6|Intermediate|\n",
      "|        9|The Complete Java...|    347979|            83521|  4.6|Intermediate|\n",
      "|        8|Python for Data S...|    387789|            87403|  4.6|Intermediate|\n",
      "|        4|Angular - The Com...|    422557|           129984|  4.6|Intermediate|\n",
      "+---------+--------------------+----------+-----------------+-----+------------+\n",
      "only showing top 20 rows\n",
      "\n",
      "+---------+--------------------+----------+-----------------+-----+------------+\n",
      "|course_id|         course_name|enrollment|number_of_ratings|stars|suitable_for|\n",
      "+---------+--------------------+----------+-----------------+-----+------------+\n",
      "|       18|Selenium WebDrive...|    148562|            49947|  4.6|    Advanced|\n",
      "|       21|Spring & Hibernat...|    177053|            45329|  4.6|    Advanced|\n",
      "|       17|iOS 13 & Swift 5 ...|    179598|            49972|  4.8|    Advanced|\n",
      "|       16|The Complete Node...|    202922|            50885|  4.7|    Advanced|\n",
      "|       19|Unreal Engine C++...|    229005|            45860|  4.5|    Advanced|\n",
      "|       15|Learn Python Prog...|    240790|            58677|  4.5|    Advanced|\n",
      "|       10|Complete C# Unity...|    364934|            78989|  4.6|    Advanced|\n",
      "|        5|Java Programming ...|    502572|           123798|  4.6|    Advanced|\n",
      "|       12|Automate the Bori...|    692617|            70508|  4.6|    Advanced|\n",
      "|       20|The Ultimate MySQ...|    203366|            45382|  4.6|    Beginner|\n",
      "|        7|The Complete 2020...|    270656|            88098|  4.7|    Beginner|\n",
      "|       11|The Data Science ...|    325047|            76907|  4.5|    Beginner|\n",
      "|        2|The Web Developer...|    596726|           182997|  4.6|    Beginner|\n",
      "|        1|2020 Complete Pyt...|   1100093|           318066|  4.6|    Beginner|\n",
      "|       14|Modern React with...|    203214|            60835|  4.7|Intermediate|\n",
      "|       13|The Complete Web ...|    273598|            63175|  4.5|Intermediate|\n",
      "|        6|React - The Compl...|    304670|            90964|  4.6|Intermediate|\n",
      "|        9|The Complete Java...|    347979|            83521|  4.6|Intermediate|\n",
      "|        8|Python for Data S...|    387789|            87403|  4.6|Intermediate|\n",
      "|        4|Angular - The Com...|    422557|           129984|  4.6|Intermediate|\n",
      "+---------+--------------------+----------+-----------------+-----+------------+\n",
      "only showing top 20 rows\n",
      "\n"
     ]
    }
   ],
   "source": [
    "courses_df.sort('suitable_for', 'enrollment').show()\n",
    "courses_df.sort(courses_df['suitable_for'], courses_df['enrollment']).show()\n",
    "courses_df.sort(['suitable_for', 'enrollment']).show()"
   ]
  },
  {
   "cell_type": "code",
   "execution_count": 12,
   "id": "6163e2da-f57a-405d-855e-25f258e2751c",
   "metadata": {
    "execution": {
     "iopub.execute_input": "2024-06-16T19:11:31.597034Z",
     "iopub.status.busy": "2024-06-16T19:11:31.596470Z",
     "iopub.status.idle": "2024-06-16T19:11:32.038596Z",
     "shell.execute_reply": "2024-06-16T19:11:32.038340Z",
     "shell.execute_reply.started": "2024-06-16T19:11:31.597005Z"
    }
   },
   "outputs": [
    {
     "name": "stdout",
     "output_type": "stream",
     "text": [
      "+---------+--------------------+----------+-----------------+-----+------------+\n",
      "|course_id|         course_name|enrollment|number_of_ratings|stars|suitable_for|\n",
      "+---------+--------------------+----------+-----------------+-----+------------+\n",
      "|        5|Java Programming ...|    502572|           123798|  4.6|    Advanced|\n",
      "|       10|Complete C# Unity...|    364934|            78989|  4.6|    Advanced|\n",
      "|       12|Automate the Bori...|    692617|            70508|  4.6|    Advanced|\n",
      "|       15|Learn Python Prog...|    240790|            58677|  4.5|    Advanced|\n",
      "|       16|The Complete Node...|    202922|            50885|  4.7|    Advanced|\n",
      "|       17|iOS 13 & Swift 5 ...|    179598|            49972|  4.8|    Advanced|\n",
      "|       18|Selenium WebDrive...|    148562|            49947|  4.6|    Advanced|\n",
      "|       19|Unreal Engine C++...|    229005|            45860|  4.5|    Advanced|\n",
      "|       21|Spring & Hibernat...|    177053|            45329|  4.6|    Advanced|\n",
      "|        1|2020 Complete Pyt...|   1100093|           318066|  4.6|    Beginner|\n",
      "|        2|The Web Developer...|    596726|           182997|  4.6|    Beginner|\n",
      "|        7|The Complete 2020...|    270656|            88098|  4.7|    Beginner|\n",
      "|       11|The Data Science ...|    325047|            76907|  4.5|    Beginner|\n",
      "|       20|The Ultimate MySQ...|    203366|            45382|  4.6|    Beginner|\n",
      "|        3|Machine Learning ...|    692812|           132228|  4.5|Intermediate|\n",
      "|        4|Angular - The Com...|    422557|           129984|  4.6|Intermediate|\n",
      "|        6|React - The Compl...|    304670|            90964|  4.6|Intermediate|\n",
      "|        8|Python for Data S...|    387789|            87403|  4.6|Intermediate|\n",
      "|        9|The Complete Java...|    347979|            83521|  4.6|Intermediate|\n",
      "|       13|The Complete Web ...|    273598|            63175|  4.5|Intermediate|\n",
      "+---------+--------------------+----------+-----------------+-----+------------+\n",
      "only showing top 20 rows\n",
      "\n",
      "+---------+--------------------+----------+-----------------+-----+------------+\n",
      "|course_id|         course_name|enrollment|number_of_ratings|stars|suitable_for|\n",
      "+---------+--------------------+----------+-----------------+-----+------------+\n",
      "|        5|Java Programming ...|    502572|           123798|  4.6|    Advanced|\n",
      "|       10|Complete C# Unity...|    364934|            78989|  4.6|    Advanced|\n",
      "|       12|Automate the Bori...|    692617|            70508|  4.6|    Advanced|\n",
      "|       15|Learn Python Prog...|    240790|            58677|  4.5|    Advanced|\n",
      "|       16|The Complete Node...|    202922|            50885|  4.7|    Advanced|\n",
      "|       17|iOS 13 & Swift 5 ...|    179598|            49972|  4.8|    Advanced|\n",
      "|       18|Selenium WebDrive...|    148562|            49947|  4.6|    Advanced|\n",
      "|       19|Unreal Engine C++...|    229005|            45860|  4.5|    Advanced|\n",
      "|       21|Spring & Hibernat...|    177053|            45329|  4.6|    Advanced|\n",
      "|        1|2020 Complete Pyt...|   1100093|           318066|  4.6|    Beginner|\n",
      "|        2|The Web Developer...|    596726|           182997|  4.6|    Beginner|\n",
      "|        7|The Complete 2020...|    270656|            88098|  4.7|    Beginner|\n",
      "|       11|The Data Science ...|    325047|            76907|  4.5|    Beginner|\n",
      "|       20|The Ultimate MySQ...|    203366|            45382|  4.6|    Beginner|\n",
      "|        3|Machine Learning ...|    692812|           132228|  4.5|Intermediate|\n",
      "|        4|Angular - The Com...|    422557|           129984|  4.6|Intermediate|\n",
      "|        6|React - The Compl...|    304670|            90964|  4.6|Intermediate|\n",
      "|        8|Python for Data S...|    387789|            87403|  4.6|Intermediate|\n",
      "|        9|The Complete Java...|    347979|            83521|  4.6|Intermediate|\n",
      "|       13|The Complete Web ...|    273598|            63175|  4.5|Intermediate|\n",
      "+---------+--------------------+----------+-----------------+-----+------------+\n",
      "only showing top 20 rows\n",
      "\n",
      "+---------+--------------------+----------+-----------------+-----+------------+\n",
      "|course_id|         course_name|enrollment|number_of_ratings|stars|suitable_for|\n",
      "+---------+--------------------+----------+-----------------+-----+------------+\n",
      "|        5|Java Programming ...|    502572|           123798|  4.6|    Advanced|\n",
      "|       10|Complete C# Unity...|    364934|            78989|  4.6|    Advanced|\n",
      "|       12|Automate the Bori...|    692617|            70508|  4.6|    Advanced|\n",
      "|       15|Learn Python Prog...|    240790|            58677|  4.5|    Advanced|\n",
      "|       16|The Complete Node...|    202922|            50885|  4.7|    Advanced|\n",
      "|       17|iOS 13 & Swift 5 ...|    179598|            49972|  4.8|    Advanced|\n",
      "|       18|Selenium WebDrive...|    148562|            49947|  4.6|    Advanced|\n",
      "|       19|Unreal Engine C++...|    229005|            45860|  4.5|    Advanced|\n",
      "|       21|Spring & Hibernat...|    177053|            45329|  4.6|    Advanced|\n",
      "|        1|2020 Complete Pyt...|   1100093|           318066|  4.6|    Beginner|\n",
      "|        2|The Web Developer...|    596726|           182997|  4.6|    Beginner|\n",
      "|        7|The Complete 2020...|    270656|            88098|  4.7|    Beginner|\n",
      "|       11|The Data Science ...|    325047|            76907|  4.5|    Beginner|\n",
      "|       20|The Ultimate MySQ...|    203366|            45382|  4.6|    Beginner|\n",
      "|        3|Machine Learning ...|    692812|           132228|  4.5|Intermediate|\n",
      "|        4|Angular - The Com...|    422557|           129984|  4.6|Intermediate|\n",
      "|        6|React - The Compl...|    304670|            90964|  4.6|Intermediate|\n",
      "|        8|Python for Data S...|    387789|            87403|  4.6|Intermediate|\n",
      "|        9|The Complete Java...|    347979|            83521|  4.6|Intermediate|\n",
      "|       13|The Complete Web ...|    273598|            63175|  4.5|Intermediate|\n",
      "+---------+--------------------+----------+-----------------+-----+------------+\n",
      "only showing top 20 rows\n",
      "\n",
      "+---------+--------------------+----------+-----------------+-----+------------+\n",
      "|course_id|         course_name|enrollment|number_of_ratings|stars|suitable_for|\n",
      "+---------+--------------------+----------+-----------------+-----+------------+\n",
      "|        5|Java Programming ...|    502572|           123798|  4.6|    Advanced|\n",
      "|       10|Complete C# Unity...|    364934|            78989|  4.6|    Advanced|\n",
      "|       12|Automate the Bori...|    692617|            70508|  4.6|    Advanced|\n",
      "|       15|Learn Python Prog...|    240790|            58677|  4.5|    Advanced|\n",
      "|       16|The Complete Node...|    202922|            50885|  4.7|    Advanced|\n",
      "|       17|iOS 13 & Swift 5 ...|    179598|            49972|  4.8|    Advanced|\n",
      "|       18|Selenium WebDrive...|    148562|            49947|  4.6|    Advanced|\n",
      "|       19|Unreal Engine C++...|    229005|            45860|  4.5|    Advanced|\n",
      "|       21|Spring & Hibernat...|    177053|            45329|  4.6|    Advanced|\n",
      "|        1|2020 Complete Pyt...|   1100093|           318066|  4.6|    Beginner|\n",
      "|        2|The Web Developer...|    596726|           182997|  4.6|    Beginner|\n",
      "|        7|The Complete 2020...|    270656|            88098|  4.7|    Beginner|\n",
      "|       11|The Data Science ...|    325047|            76907|  4.5|    Beginner|\n",
      "|       20|The Ultimate MySQ...|    203366|            45382|  4.6|    Beginner|\n",
      "|        3|Machine Learning ...|    692812|           132228|  4.5|Intermediate|\n",
      "|        4|Angular - The Com...|    422557|           129984|  4.6|Intermediate|\n",
      "|        6|React - The Compl...|    304670|            90964|  4.6|Intermediate|\n",
      "|        8|Python for Data S...|    387789|            87403|  4.6|Intermediate|\n",
      "|        9|The Complete Java...|    347979|            83521|  4.6|Intermediate|\n",
      "|       13|The Complete Web ...|    273598|            63175|  4.5|Intermediate|\n",
      "+---------+--------------------+----------+-----------------+-----+------------+\n",
      "only showing top 20 rows\n",
      "\n"
     ]
    }
   ],
   "source": [
    "courses_df.sort(courses_df['suitable_for'], courses_df['number_of_ratings'].desc()).show()\n",
    "\n",
    "from pyspark.sql.functions import desc\n",
    "courses_df.sort('suitable_for', desc('number_of_ratings')).show()\n",
    "\n",
    "courses_df.sort('suitable_for', 'number_of_ratings', ascending=[1, 0]).show()\n",
    "courses_df.sort(['suitable_for', 'number_of_ratings'], ascending=[1, 0]).show()"
   ]
  },
  {
   "cell_type": "code",
   "execution_count": 25,
   "id": "f1b00c0d-8599-4e09-8eb9-cb8e69ed748e",
   "metadata": {
    "execution": {
     "iopub.execute_input": "2024-06-16T19:25:58.986219Z",
     "iopub.status.busy": "2024-06-16T19:25:58.985666Z",
     "iopub.status.idle": "2024-06-16T19:25:59.163153Z",
     "shell.execute_reply": "2024-06-16T19:25:59.162866Z",
     "shell.execute_reply.started": "2024-06-16T19:25:58.986192Z"
    }
   },
   "outputs": [
    {
     "name": "stdout",
     "output_type": "stream",
     "text": [
      "+---------+--------------------+----------+-----------------+-----+------------+\n",
      "|course_id|         course_name|enrollment|number_of_ratings|stars|suitable_for|\n",
      "+---------+--------------------+----------+-----------------+-----+------------+\n",
      "|        1|2020 Complete Pyt...|   1100093|           318066|  4.6|    Beginner|\n",
      "|        2|The Web Developer...|    596726|           182997|  4.6|    Beginner|\n",
      "|        7|The Complete 2020...|    270656|            88098|  4.7|    Beginner|\n",
      "|       11|The Data Science ...|    325047|            76907|  4.5|    Beginner|\n",
      "|       20|The Ultimate MySQ...|    203366|            45382|  4.6|    Beginner|\n",
      "|        3|Machine Learning ...|    692812|           132228|  4.5|Intermediate|\n",
      "|        4|Angular - The Com...|    422557|           129984|  4.6|Intermediate|\n",
      "|        6|React - The Compl...|    304670|            90964|  4.6|Intermediate|\n",
      "|        8|Python for Data S...|    387789|            87403|  4.6|Intermediate|\n",
      "|        9|The Complete Java...|    347979|            83521|  4.6|Intermediate|\n",
      "|       13|The Complete Web ...|    273598|            63175|  4.5|Intermediate|\n",
      "|       14|Modern React with...|    203214|            60835|  4.7|Intermediate|\n",
      "|        5|Java Programming ...|    502572|           123798|  4.6|    Advanced|\n",
      "|       10|Complete C# Unity...|    364934|            78989|  4.6|    Advanced|\n",
      "|       12|Automate the Bori...|    692617|            70508|  4.6|    Advanced|\n",
      "|       15|Learn Python Prog...|    240790|            58677|  4.5|    Advanced|\n",
      "|       16|The Complete Node...|    202922|            50885|  4.7|    Advanced|\n",
      "|       17|iOS 13 & Swift 5 ...|    179598|            49972|  4.8|    Advanced|\n",
      "|       18|Selenium WebDrive...|    148562|            49947|  4.6|    Advanced|\n",
      "|       19|Unreal Engine C++...|    229005|            45860|  4.5|    Advanced|\n",
      "+---------+--------------------+----------+-----------------+-----+------------+\n",
      "only showing top 20 rows\n",
      "\n"
     ]
    }
   ],
   "source": [
    "from pyspark.sql.functions import col, when\n",
    "\n",
    "course_level = when(col('suitable_for')=='Beginner', 0).otherwise(when(col('suitable_for')=='Intermediate', 1).otherwise(2))\n",
    "\n",
    "courses_df. \\\n",
    "    sort(course_level, col('number_of_ratings').desc()). \\\n",
    "    show()"
   ]
  },
  {
   "cell_type": "code",
   "execution_count": 27,
   "id": "4896e6e1-77a6-4b92-ab24-25496f3efe69",
   "metadata": {
    "execution": {
     "iopub.execute_input": "2024-06-16T19:29:09.798627Z",
     "iopub.status.busy": "2024-06-16T19:29:09.798333Z",
     "iopub.status.idle": "2024-06-16T19:29:09.980955Z",
     "shell.execute_reply": "2024-06-16T19:29:09.980614Z",
     "shell.execute_reply.started": "2024-06-16T19:29:09.798608Z"
    }
   },
   "outputs": [
    {
     "name": "stdout",
     "output_type": "stream",
     "text": [
      "+---------+--------------------+----------+-----------------+-----+------------+------------+\n",
      "|course_id|         course_name|enrollment|number_of_ratings|stars|suitable_for|course_level|\n",
      "+---------+--------------------+----------+-----------------+-----+------------+------------+\n",
      "|        1|2020 Complete Pyt...|   1100093|           318066|  4.6|    Beginner|           0|\n",
      "|        2|The Web Developer...|    596726|           182997|  4.6|    Beginner|           0|\n",
      "|        7|The Complete 2020...|    270656|            88098|  4.7|    Beginner|           0|\n",
      "|       11|The Data Science ...|    325047|            76907|  4.5|    Beginner|           0|\n",
      "|       20|The Ultimate MySQ...|    203366|            45382|  4.6|    Beginner|           0|\n",
      "|        3|Machine Learning ...|    692812|           132228|  4.5|Intermediate|           1|\n",
      "|        4|Angular - The Com...|    422557|           129984|  4.6|Intermediate|           1|\n",
      "|        6|React - The Compl...|    304670|            90964|  4.6|Intermediate|           1|\n",
      "|        8|Python for Data S...|    387789|            87403|  4.6|Intermediate|           1|\n",
      "|        9|The Complete Java...|    347979|            83521|  4.6|Intermediate|           1|\n",
      "|       13|The Complete Web ...|    273598|            63175|  4.5|Intermediate|           1|\n",
      "|       14|Modern React with...|    203214|            60835|  4.7|Intermediate|           1|\n",
      "|        5|Java Programming ...|    502572|           123798|  4.6|    Advanced|           2|\n",
      "|       10|Complete C# Unity...|    364934|            78989|  4.6|    Advanced|           2|\n",
      "|       12|Automate the Bori...|    692617|            70508|  4.6|    Advanced|           2|\n",
      "|       15|Learn Python Prog...|    240790|            58677|  4.5|    Advanced|           2|\n",
      "|       16|The Complete Node...|    202922|            50885|  4.7|    Advanced|           2|\n",
      "|       17|iOS 13 & Swift 5 ...|    179598|            49972|  4.8|    Advanced|           2|\n",
      "|       18|Selenium WebDrive...|    148562|            49947|  4.6|    Advanced|           2|\n",
      "|       19|Unreal Engine C++...|    229005|            45860|  4.5|    Advanced|           2|\n",
      "+---------+--------------------+----------+-----------------+-----+------------+------------+\n",
      "only showing top 20 rows\n",
      "\n"
     ]
    }
   ],
   "source": [
    "courses_df. \\\n",
    "    withColumn('course_level', when(col('suitable_for')=='Beginner', 0).\n",
    "                               when(col('suitable_for')=='Intermediate', 1).\n",
    "                               otherwise(2)). \\\n",
    "    sort('course_level', col('number_of_ratings').desc()). \\\n",
    "    show()"
   ]
  },
  {
   "cell_type": "code",
   "execution_count": 32,
   "id": "aa60742b-0936-4cc7-b6a0-e399dee5229c",
   "metadata": {
    "execution": {
     "iopub.execute_input": "2024-06-16T19:33:41.603525Z",
     "iopub.status.busy": "2024-06-16T19:33:41.603021Z",
     "iopub.status.idle": "2024-06-16T19:33:41.789246Z",
     "shell.execute_reply": "2024-06-16T19:33:41.788952Z",
     "shell.execute_reply.started": "2024-06-16T19:33:41.603499Z"
    }
   },
   "outputs": [
    {
     "name": "stdout",
     "output_type": "stream",
     "text": [
      "+---------+--------------------+----------+-----------------+-----+------------+\n",
      "|course_id|         course_name|enrollment|number_of_ratings|stars|suitable_for|\n",
      "+---------+--------------------+----------+-----------------+-----+------------+\n",
      "|        1|2020 Complete Pyt...|   1100093|           318066|  4.6|    Beginner|\n",
      "|        2|The Web Developer...|    596726|           182997|  4.6|    Beginner|\n",
      "|        7|The Complete 2020...|    270656|            88098|  4.7|    Beginner|\n",
      "|       11|The Data Science ...|    325047|            76907|  4.5|    Beginner|\n",
      "|       20|The Ultimate MySQ...|    203366|            45382|  4.6|    Beginner|\n",
      "|        3|Machine Learning ...|    692812|           132228|  4.5|Intermediate|\n",
      "|        4|Angular - The Com...|    422557|           129984|  4.6|Intermediate|\n",
      "|        5|Java Programming ...|    502572|           123798|  4.6|    Advanced|\n",
      "|        6|React - The Compl...|    304670|            90964|  4.6|Intermediate|\n",
      "|        8|Python for Data S...|    387789|            87403|  4.6|Intermediate|\n",
      "|        9|The Complete Java...|    347979|            83521|  4.6|Intermediate|\n",
      "|       10|Complete C# Unity...|    364934|            78989|  4.6|    Advanced|\n",
      "|       12|Automate the Bori...|    692617|            70508|  4.6|    Advanced|\n",
      "|       13|The Complete Web ...|    273598|            63175|  4.5|Intermediate|\n",
      "|       14|Modern React with...|    203214|            60835|  4.7|Intermediate|\n",
      "|       15|Learn Python Prog...|    240790|            58677|  4.5|    Advanced|\n",
      "|       16|The Complete Node...|    202922|            50885|  4.7|    Advanced|\n",
      "|       17|iOS 13 & Swift 5 ...|    179598|            49972|  4.8|    Advanced|\n",
      "|       18|Selenium WebDrive...|    148562|            49947|  4.6|    Advanced|\n",
      "|       19|Unreal Engine C++...|    229005|            45860|  4.5|    Advanced|\n",
      "+---------+--------------------+----------+-----------------+-----+------------+\n",
      "only showing top 20 rows\n",
      "\n"
     ]
    }
   ],
   "source": [
    "from pyspark.sql.functions import expr\n",
    "\n",
    "column_level = expr(\"\"\"\n",
    "case when suitable_for='Beginner' then 0\n",
    "     when suitable_for='Imtermediate' then 1\n",
    "     else 2\n",
    "end\n",
    "\"\"\")\n",
    "courses_df.sort(column_level, 'number_of_ratings', ascending=[1, 0]).show()"
   ]
  }
 ],
 "metadata": {
  "kernelspec": {
   "display_name": "Python 3 (ipykernel)",
   "language": "python",
   "name": "python3"
  },
  "language_info": {
   "codemirror_mode": {
    "name": "ipython",
    "version": 3
   },
   "file_extension": ".py",
   "mimetype": "text/x-python",
   "name": "python",
   "nbconvert_exporter": "python",
   "pygments_lexer": "ipython3",
   "version": "3.11.9"
  }
 },
 "nbformat": 4,
 "nbformat_minor": 5
}
