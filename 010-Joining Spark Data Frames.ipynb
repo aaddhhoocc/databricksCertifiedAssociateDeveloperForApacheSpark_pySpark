{
 "cells": [
  {
   "cell_type": "code",
   "execution_count": 1,
   "id": "6d9e5519-2bb4-4c53-af22-2dd79cdac607",
   "metadata": {
    "execution": {
     "iopub.execute_input": "2024-06-21T21:30:20.125870Z",
     "iopub.status.busy": "2024-06-21T21:30:20.125090Z",
     "iopub.status.idle": "2024-06-21T21:30:26.978826Z",
     "shell.execute_reply": "2024-06-21T21:30:26.978520Z",
     "shell.execute_reply.started": "2024-06-21T21:30:20.125819Z"
    }
   },
   "outputs": [
    {
     "name": "stderr",
     "output_type": "stream",
     "text": [
      "Setting default log level to \"WARN\".\n",
      "To adjust logging level use sc.setLogLevel(newLevel). For SparkR, use setLogLevel(newLevel).\n",
      "24/06/21 23:30:26 WARN NativeCodeLoader: Unable to load native-hadoop library for your platform... using builtin-java classes where applicable\n"
     ]
    }
   ],
   "source": [
    "from pyspark.sql import SparkSession\n",
    "spark = SparkSession.builder.appName('instance').getOrCreate()"
   ]
  },
  {
   "cell_type": "markdown",
   "id": "25bb184a-c868-4ea4-98b0-e9ed498bc7f2",
   "metadata": {},
   "source": [
    "## Setup datasets to perform joins"
   ]
  },
  {
   "cell_type": "code",
   "execution_count": 11,
   "id": "d84074dc-cc0c-4d8d-8eeb-840d4bda697c",
   "metadata": {
    "execution": {
     "iopub.execute_input": "2024-06-21T21:35:53.115502Z",
     "iopub.status.busy": "2024-06-21T21:35:53.114453Z",
     "iopub.status.idle": "2024-06-21T21:35:53.436140Z",
     "shell.execute_reply": "2024-06-21T21:35:53.435894Z",
     "shell.execute_reply.started": "2024-06-21T21:35:53.115470Z"
    }
   },
   "outputs": [
    {
     "name": "stdout",
     "output_type": "stream",
     "text": [
      "root\n",
      " |-- course_id: long (nullable = true)\n",
      " |-- course_title: string (nullable = true)\n",
      " |-- course_published_dt: date (nullable = true)\n",
      " |-- is_active: boolean (nullable = true)\n",
      " |-- last_updated_ts: timestamp (nullable = true)\n",
      "\n",
      "+---------+--------------------+-------------------+---------+-------------------+\n",
      "|course_id|        course_title|course_published_dt|is_active|    last_updated_ts|\n",
      "+---------+--------------------+-------------------+---------+-------------------+\n",
      "|        1|    Mastering Python|         2021-01-14|     true|2021-02-18 16:57:25|\n",
      "|        2|Data Engineering ...|         2021-02-10|     true|2021-03-05 12:07:33|\n",
      "|        3|   Mastering Pyspark|         2021-01-07|     true|2021-04-06 10:05:42|\n",
      "|        4|      AWS Essentials|         2021-03-19|    false|2021-04-10 02:25:36|\n",
      "|        5|          Docker 101|         2021-02-28|     true|2021-03-21 07:18:52|\n",
      "+---------+--------------------+-------------------+---------+-------------------+\n",
      "\n"
     ]
    }
   ],
   "source": [
    "import datetime\n",
    "from pyspark.sql import Row\n",
    "\n",
    "courses = [\n",
    "    {\n",
    "        'course_id': 1,\n",
    "        'course_title': 'Mastering Python',\n",
    "        'course_published_dt': datetime.date(2021, 1, 14),\n",
    "        'is_active': True,\n",
    "        'last_updated_ts': datetime.datetime(2021, 2, 18, 16, 57, 25)\n",
    "    },\n",
    "    {\n",
    "        'course_id': 2,\n",
    "        'course_title': 'Data Engineering Essentials',\n",
    "        'course_published_dt': datetime.date(2021, 2, 10),\n",
    "        'is_active': True,\n",
    "        'last_updated_ts': datetime.datetime(2021, 3, 5, 12, 7, 33)\n",
    "    },\n",
    "    {\n",
    "        'course_id': 3,\n",
    "        'course_title': 'Mastering Pyspark',\n",
    "        'course_published_dt': datetime.date(2021, 1, 7),\n",
    "        'is_active': True,\n",
    "        'last_updated_ts': datetime.datetime(2021, 4, 6, 10, 5, 42)\n",
    "    },\n",
    "    {\n",
    "        'course_id': 4,\n",
    "        'course_title': 'AWS Essentials',\n",
    "        'course_published_dt': datetime.date(2021, 3, 19),\n",
    "        'is_active': False,\n",
    "        'last_updated_ts': datetime.datetime(2021, 4, 10, 2, 25, 36)\n",
    "    },\n",
    "    {\n",
    "        'course_id': 5,\n",
    "        'course_title': 'Docker 101',\n",
    "        'course_published_dt': datetime.date(2021, 2, 28),\n",
    "        'is_active': True,\n",
    "        'last_updated_ts': datetime.datetime(2021, 3, 21, 7, 18, 52)\n",
    "    }\n",
    "]\n",
    "\n",
    "#both work\n",
    "courses_df = spark.createDataFrame([Row(**course) for course in courses]) # maintained column order\n",
    "#courses_df = spark.createDataFrame(courses)\n",
    "courses_df.printSchema()\n",
    "courses_df.show()"
   ]
  },
  {
   "cell_type": "code",
   "execution_count": 3,
   "id": "3bb4454c-4cf6-4017-a114-51181521ea63",
   "metadata": {
    "execution": {
     "iopub.execute_input": "2024-06-21T17:50:54.884278Z",
     "iopub.status.busy": "2024-06-21T17:50:54.884152Z",
     "iopub.status.idle": "2024-06-21T17:50:55.123854Z",
     "shell.execute_reply": "2024-06-21T17:50:55.123584Z",
     "shell.execute_reply.started": "2024-06-21T17:50:54.884269Z"
    }
   },
   "outputs": [
    {
     "name": "stdout",
     "output_type": "stream",
     "text": [
      "root\n",
      " |-- user_id: long (nullable = true)\n",
      " |-- user_first_name: string (nullable = true)\n",
      " |-- user_last_name: string (nullable = true)\n",
      " |-- user_email: string (nullable = true)\n",
      "\n",
      "+-------+---------------+--------------+--------------------+\n",
      "|user_id|user_first_name|user_last_name|          user_email|\n",
      "+-------+---------------+--------------+--------------------+\n",
      "|      1|         Sandra|        Karpov|    skarpov0@ovh.net|\n",
      "|      2|           Kari|        Dearth|kdearth1@so-net.n...|\n",
      "|      3|         Joanna|      Spennock|jspennock2@redcro...|\n",
      "|      4|         Hirsch|       Conaboy|hconaboy3@barnesa...|\n",
      "|      5|         Loreen|         Malin|lmalin4@independe...|\n",
      "|      6|           Augy|      Christon|  achriston5@mlb.com|\n",
      "|      7|         Trudey|       Choupin|     tchoupin6@de.vu|\n",
      "|      8|         Nadine|     Grimsdell|ngrimsdell7@sohu.com|\n",
      "|      9|        Vassily|         Tamas|vtamas8@businessw...|\n",
      "|     10|          Wells|      Simpkins|wsimpkins9@amazon...|\n",
      "+-------+---------------+--------------+--------------------+\n",
      "\n"
     ]
    }
   ],
   "source": [
    "users = [{\n",
    "  \"user_id\": 1,\n",
    "  \"user_first_name\": \"Sandra\",\n",
    "  \"user_last_name\": \"Karpov\",\n",
    "  \"user_email\": \"skarpov0@ovh.net\"\n",
    "}, {\n",
    "  \"user_id\": 2,\n",
    "  \"user_first_name\": \"Kari\",\n",
    "  \"user_last_name\": \"Dearth\",\n",
    "  \"user_email\": \"kdearth1@so-net.ne.jp\"\n",
    "}, {\n",
    "  \"user_id\": 3,\n",
    "  \"user_first_name\": \"Joanna\",\n",
    "  \"user_last_name\": \"Spennock\",\n",
    "  \"user_email\": \"jspennock2@redcross.org\"\n",
    "}, {\n",
    "  \"user_id\": 4,\n",
    "  \"user_first_name\": \"Hirsch\",\n",
    "  \"user_last_name\": \"Conaboy\",\n",
    "  \"user_email\": \"hconaboy3@barnesandnoble.com\"\n",
    "}, {\n",
    "  \"user_id\": 5,\n",
    "  \"user_first_name\": \"Loreen\",\n",
    "  \"user_last_name\": \"Malin\",\n",
    "  \"user_email\": \"lmalin4@independent.co.uk\"\n",
    "}, {\n",
    "  \"user_id\": 6,\n",
    "  \"user_first_name\": \"Augy\",\n",
    "  \"user_last_name\": \"Christon\",\n",
    "  \"user_email\": \"achriston5@mlb.com\"\n",
    "}, {\n",
    "  \"user_id\": 7,\n",
    "  \"user_first_name\": \"Trudey\",\n",
    "  \"user_last_name\": \"Choupin\",\n",
    "  \"user_email\": \"tchoupin6@de.vu\"\n",
    "}, {\n",
    "  \"user_id\": 8,\n",
    "  \"user_first_name\": \"Nadine\",\n",
    "  \"user_last_name\": \"Grimsdell\",\n",
    "  \"user_email\": \"ngrimsdell7@sohu.com\"\n",
    "}, {\n",
    "  \"user_id\": 9,\n",
    "  \"user_first_name\": \"Vassily\",\n",
    "  \"user_last_name\": \"Tamas\",\n",
    "  \"user_email\": \"vtamas8@businessweek.com\"\n",
    "}, {\n",
    "  \"user_id\": 10,\n",
    "  \"user_first_name\": \"Wells\",\n",
    "  \"user_last_name\": \"Simpkins\",\n",
    "  \"user_email\": \"wsimpkins9@amazon.co.uk\"\n",
    "}]\n",
    "\n",
    "users_df = spark.createDataFrame([Row(**user) for user in users])\n",
    "users_df.printSchema()\n",
    "users_df.show()"
   ]
  },
  {
   "cell_type": "code",
   "execution_count": 5,
   "id": "e62b2433-48d5-404e-84ab-2eb5c07a97d5",
   "metadata": {
    "execution": {
     "iopub.execute_input": "2024-06-21T17:51:06.686207Z",
     "iopub.status.busy": "2024-06-21T17:51:06.685667Z",
     "iopub.status.idle": "2024-06-21T17:51:06.928671Z",
     "shell.execute_reply": "2024-06-21T17:51:06.928292Z",
     "shell.execute_reply.started": "2024-06-21T17:51:06.686176Z"
    }
   },
   "outputs": [
    {
     "name": "stdout",
     "output_type": "stream",
     "text": [
      "root\n",
      " |-- course_enrolment_id: long (nullable = true)\n",
      " |-- user_id: long (nullable = true)\n",
      " |-- course_id: long (nullable = true)\n",
      " |-- price_paid: double (nullable = true)\n",
      "\n",
      "+-------------------+-------+---------+----------+\n",
      "|course_enrolment_id|user_id|course_id|price_paid|\n",
      "+-------------------+-------+---------+----------+\n",
      "|                  1|     10|        2|      9.99|\n",
      "|                  2|      5|        2|      9.99|\n",
      "|                  3|      7|        5|     10.99|\n",
      "|                  4|      9|        2|      9.99|\n",
      "|                  5|      8|        2|      9.99|\n",
      "|                  6|      5|        5|     10.99|\n",
      "|                  7|      4|        5|     10.99|\n",
      "|                  8|      7|        3|     10.99|\n",
      "|                  9|      8|        5|     10.99|\n",
      "|                 10|      3|        3|     10.99|\n",
      "|                 11|      7|        5|     10.99|\n",
      "|                 12|      3|        2|      9.99|\n",
      "|                 13|      5|        2|      9.99|\n",
      "|                 14|      4|        3|     10.99|\n",
      "|                 15|      8|        2|      9.99|\n",
      "+-------------------+-------+---------+----------+\n",
      "\n"
     ]
    }
   ],
   "source": [
    "course_enrolments = [{\n",
    "  \"course_enrolment_id\": 1,\n",
    "  \"user_id\": 10,\n",
    "  \"course_id\": 2,\n",
    "  \"price_paid\": 9.99\n",
    "}, {\n",
    "  \"course_enrolment_id\": 2,\n",
    "  \"user_id\": 5,\n",
    "  \"course_id\": 2,\n",
    "  \"price_paid\": 9.99\n",
    "}, {\n",
    "  \"course_enrolment_id\": 3,\n",
    "  \"user_id\": 7,\n",
    "  \"course_id\": 5,\n",
    "  \"price_paid\": 10.99\n",
    "}, {\n",
    "  \"course_enrolment_id\": 4,\n",
    "  \"user_id\": 9,\n",
    "  \"course_id\": 2,\n",
    "  \"price_paid\": 9.99\n",
    "}, {\n",
    "  \"course_enrolment_id\": 5,\n",
    "  \"user_id\": 8,\n",
    "  \"course_id\": 2,\n",
    "  \"price_paid\": 9.99\n",
    "}, {\n",
    "  \"course_enrolment_id\": 6,\n",
    "  \"user_id\": 5,\n",
    "  \"course_id\": 5,\n",
    "  \"price_paid\": 10.99\n",
    "}, {\n",
    "  \"course_enrolment_id\": 7,\n",
    "  \"user_id\": 4,\n",
    "  \"course_id\": 5,\n",
    "  \"price_paid\": 10.99\n",
    "}, {\n",
    "  \"course_enrolment_id\": 8,\n",
    "  \"user_id\": 7,\n",
    "  \"course_id\": 3,\n",
    "  \"price_paid\": 10.99\n",
    "}, {\n",
    "  \"course_enrolment_id\": 9,\n",
    "  \"user_id\": 8,\n",
    "  \"course_id\": 5,\n",
    "  \"price_paid\": 10.99\n",
    "}, {\n",
    "  \"course_enrolment_id\": 10,\n",
    "  \"user_id\": 3,\n",
    "  \"course_id\": 3,\n",
    "  \"price_paid\": 10.99\n",
    "}, {\n",
    "  \"course_enrolment_id\": 11,\n",
    "  \"user_id\": 7,\n",
    "  \"course_id\": 5,\n",
    "  \"price_paid\": 10.99\n",
    "}, {\n",
    "  \"course_enrolment_id\": 12,\n",
    "  \"user_id\": 3,\n",
    "  \"course_id\": 2,\n",
    "  \"price_paid\": 9.99\n",
    "}, {\n",
    "  \"course_enrolment_id\": 13,\n",
    "  \"user_id\": 5,\n",
    "  \"course_id\": 2,\n",
    "  \"price_paid\": 9.99\n",
    "}, {\n",
    "  \"course_enrolment_id\": 14,\n",
    "  \"user_id\": 4,\n",
    "  \"course_id\": 3,\n",
    "  \"price_paid\": 10.99\n",
    "}, {\n",
    "  \"course_enrolment_id\": 15,\n",
    "  \"user_id\": 8,\n",
    "  \"course_id\": 2,\n",
    "  \"price_paid\": 9.99\n",
    "}]\n",
    "\n",
    "course_enrolments_df = spark.createDataFrame([Row(**ce) for ce in course_enrolments])\n",
    "course_enrolments_df.printSchema()\n",
    "course_enrolments_df.show()"
   ]
  },
  {
   "cell_type": "markdown",
   "id": "0ea34639-573a-429a-bcc3-b482b3648dad",
   "metadata": {
    "jp-MarkdownHeadingCollapsed": true
   },
   "source": [
    "## Overview of join using Spark Data Frames\n",
    "* INNER join\n",
    "* LEFT or RIGHT outer join\n",
    "* FULL outer join\n",
    "* CROSS join - cartesian product\n",
    "* Spark Data Frame `.join` and `.crossJoin` function\n",
    "* semi or anti"
   ]
  },
  {
   "cell_type": "markdown",
   "id": "81d42bf6-7460-4cdc-9113-332e00cfdfc6",
   "metadata": {
    "jp-MarkdownHeadingCollapsed": true
   },
   "source": [
    "## Aliases on Spark Data Frame\n",
    "* aliases can be defined on top of Spark Data Frame - `alias` function"
   ]
  },
  {
   "cell_type": "code",
   "execution_count": 20,
   "id": "4570c8a2-8799-4af7-9fff-84c42f9b9e6c",
   "metadata": {
    "execution": {
     "iopub.execute_input": "2024-06-21T15:09:10.990775Z",
     "iopub.status.busy": "2024-06-21T15:09:10.990187Z",
     "iopub.status.idle": "2024-06-21T15:09:11.017328Z",
     "shell.execute_reply": "2024-06-21T15:09:11.016944Z",
     "shell.execute_reply.started": "2024-06-21T15:09:10.990745Z"
    }
   },
   "outputs": [
    {
     "data": {
      "text/plain": [
       "pyspark.sql.dataframe.DataFrame"
      ]
     },
     "execution_count": 20,
     "metadata": {},
     "output_type": "execute_result"
    }
   ],
   "source": [
    "type(courses_df.alias('c'))"
   ]
  },
  {
   "cell_type": "code",
   "execution_count": 27,
   "id": "fbda5df4-9372-4a2d-be17-ba27ff9e3459",
   "metadata": {
    "execution": {
     "iopub.execute_input": "2024-06-21T15:13:59.901508Z",
     "iopub.status.busy": "2024-06-21T15:13:59.900746Z",
     "iopub.status.idle": "2024-06-21T15:14:00.349463Z",
     "shell.execute_reply": "2024-06-21T15:14:00.348955Z",
     "shell.execute_reply.started": "2024-06-21T15:13:59.901459Z"
    }
   },
   "outputs": [
    {
     "name": "stdout",
     "output_type": "stream",
     "text": [
      "+---------+\n",
      "|course_id|\n",
      "+---------+\n",
      "|        1|\n",
      "|        2|\n",
      "|        3|\n",
      "|        4|\n",
      "|        5|\n",
      "+---------+\n",
      "\n",
      "+---------+--------------------+-------------------+---------+-------------------+\n",
      "|course_id|        course_title|course_published_dt|is_active|    last_updated_ts|\n",
      "+---------+--------------------+-------------------+---------+-------------------+\n",
      "|        1|    Mastering Python|         2021-01-14|     true|2021-02-18 16:57:25|\n",
      "|        2|Data Engineering ...|         2021-02-10|     true|2021-03-05 12:07:33|\n",
      "|        3|   Mastering Pyspark|         2021-01-07|     true|2021-04-06 10:05:42|\n",
      "|        4|      AWS Essentials|         2021-03-19|    false|2021-04-10 02:25:36|\n",
      "|        5|          Docker 101|         2021-02-28|     true|2021-03-21 07:18:52|\n",
      "+---------+--------------------+-------------------+---------+-------------------+\n",
      "\n"
     ]
    }
   ],
   "source": [
    "courses_df.alias('c').select('c.course_id').show()\n",
    "#courses_df.alias('c').select(c.course_id).show() # does not work\n",
    "courses_df.alias('c').select('c.*').show()"
   ]
  },
  {
   "cell_type": "markdown",
   "id": "8b0a5adc-46e0-490c-94d3-644aaaa91a1a",
   "metadata": {
    "jp-MarkdownHeadingCollapsed": true
   },
   "source": [
    "## Inner join between Spark Data Frames"
   ]
  },
  {
   "cell_type": "code",
   "execution_count": 35,
   "id": "ec3ba125-995d-450d-95af-ce773b00b7c3",
   "metadata": {
    "execution": {
     "iopub.execute_input": "2024-06-21T15:23:16.481392Z",
     "iopub.status.busy": "2024-06-21T15:23:16.480709Z",
     "iopub.status.idle": "2024-06-21T15:23:16.947784Z",
     "shell.execute_reply": "2024-06-21T15:23:16.947512Z",
     "shell.execute_reply.started": "2024-06-21T15:23:16.481348Z"
    }
   },
   "outputs": [
    {
     "name": "stdout",
     "output_type": "stream",
     "text": [
      "+-------+---------------+--------------+--------------------+-------------------+---------+----------+\n",
      "|user_id|user_first_name|user_last_name|          user_email|course_enrolment_id|course_id|price_paid|\n",
      "+-------+---------------+--------------+--------------------+-------------------+---------+----------+\n",
      "|      3|         Joanna|      Spennock|jspennock2@redcro...|                 10|        3|     10.99|\n",
      "|      3|         Joanna|      Spennock|jspennock2@redcro...|                 12|        2|      9.99|\n",
      "|      4|         Hirsch|       Conaboy|hconaboy3@barnesa...|                  7|        5|     10.99|\n",
      "|      4|         Hirsch|       Conaboy|hconaboy3@barnesa...|                 14|        3|     10.99|\n",
      "|      5|         Loreen|         Malin|lmalin4@independe...|                  2|        2|      9.99|\n",
      "|      5|         Loreen|         Malin|lmalin4@independe...|                  6|        5|     10.99|\n",
      "|      5|         Loreen|         Malin|lmalin4@independe...|                 13|        2|      9.99|\n",
      "|      7|         Trudey|       Choupin|     tchoupin6@de.vu|                  3|        5|     10.99|\n",
      "|      7|         Trudey|       Choupin|     tchoupin6@de.vu|                  8|        3|     10.99|\n",
      "|      7|         Trudey|       Choupin|     tchoupin6@de.vu|                 11|        5|     10.99|\n",
      "|      8|         Nadine|     Grimsdell|ngrimsdell7@sohu.com|                  5|        2|      9.99|\n",
      "|      8|         Nadine|     Grimsdell|ngrimsdell7@sohu.com|                  9|        5|     10.99|\n",
      "|      8|         Nadine|     Grimsdell|ngrimsdell7@sohu.com|                 15|        2|      9.99|\n",
      "|      9|        Vassily|         Tamas|vtamas8@businessw...|                  4|        2|      9.99|\n",
      "|     10|          Wells|      Simpkins|wsimpkins9@amazon...|                  1|        2|      9.99|\n",
      "+-------+---------------+--------------+--------------------+-------------------+---------+----------+\n",
      "\n",
      "+-------+---------------+--------------+--------------------+-------------------+-------+---------+----------+\n",
      "|user_id|user_first_name|user_last_name|          user_email|course_enrolment_id|user_id|course_id|price_paid|\n",
      "+-------+---------------+--------------+--------------------+-------------------+-------+---------+----------+\n",
      "|      3|         Joanna|      Spennock|jspennock2@redcro...|                 10|      3|        3|     10.99|\n",
      "|      3|         Joanna|      Spennock|jspennock2@redcro...|                 12|      3|        2|      9.99|\n",
      "|      4|         Hirsch|       Conaboy|hconaboy3@barnesa...|                  7|      4|        5|     10.99|\n",
      "|      4|         Hirsch|       Conaboy|hconaboy3@barnesa...|                 14|      4|        3|     10.99|\n",
      "|      5|         Loreen|         Malin|lmalin4@independe...|                  2|      5|        2|      9.99|\n",
      "|      5|         Loreen|         Malin|lmalin4@independe...|                  6|      5|        5|     10.99|\n",
      "|      5|         Loreen|         Malin|lmalin4@independe...|                 13|      5|        2|      9.99|\n",
      "|      7|         Trudey|       Choupin|     tchoupin6@de.vu|                  3|      7|        5|     10.99|\n",
      "|      7|         Trudey|       Choupin|     tchoupin6@de.vu|                  8|      7|        3|     10.99|\n",
      "|      7|         Trudey|       Choupin|     tchoupin6@de.vu|                 11|      7|        5|     10.99|\n",
      "|      8|         Nadine|     Grimsdell|ngrimsdell7@sohu.com|                  5|      8|        2|      9.99|\n",
      "|      8|         Nadine|     Grimsdell|ngrimsdell7@sohu.com|                  9|      8|        5|     10.99|\n",
      "|      8|         Nadine|     Grimsdell|ngrimsdell7@sohu.com|                 15|      8|        2|      9.99|\n",
      "|      9|        Vassily|         Tamas|vtamas8@businessw...|                  4|      9|        2|      9.99|\n",
      "|     10|          Wells|      Simpkins|wsimpkins9@amazon...|                  1|     10|        2|      9.99|\n",
      "+-------+---------------+--------------+--------------------+-------------------+-------+---------+----------+\n",
      "\n"
     ]
    }
   ],
   "source": [
    "users_df. \\\n",
    "    join(course_enrolments_df, ['user_id']). \\\n",
    "    show() # 1 user_id column only\n",
    "# joining on the column with the same name in both data frames\n",
    "users_df. \\\n",
    "    join(course_enrolments_df, users_df.user_id == course_enrolments_df.user_id). \\\n",
    "    show() # 2 user_id columns"
   ]
  },
  {
   "cell_type": "code",
   "execution_count": 36,
   "id": "462d3754-107b-4fc3-a6f0-e6f743ba451b",
   "metadata": {
    "execution": {
     "iopub.execute_input": "2024-06-21T15:24:50.756443Z",
     "iopub.status.busy": "2024-06-21T15:24:50.755878Z",
     "iopub.status.idle": "2024-06-21T15:24:51.058159Z",
     "shell.execute_reply": "2024-06-21T15:24:51.057829Z",
     "shell.execute_reply.started": "2024-06-21T15:24:50.756414Z"
    }
   },
   "outputs": [
    {
     "name": "stdout",
     "output_type": "stream",
     "text": [
      "+-------+---------------+--------------+--------------------+---------+-------------------+\n",
      "|user_id|user_first_name|user_last_name|          user_email|course_id|course_enrolment_id|\n",
      "+-------+---------------+--------------+--------------------+---------+-------------------+\n",
      "|      3|         Joanna|      Spennock|jspennock2@redcro...|        3|                 10|\n",
      "|      3|         Joanna|      Spennock|jspennock2@redcro...|        2|                 12|\n",
      "|      4|         Hirsch|       Conaboy|hconaboy3@barnesa...|        5|                  7|\n",
      "|      4|         Hirsch|       Conaboy|hconaboy3@barnesa...|        3|                 14|\n",
      "|      5|         Loreen|         Malin|lmalin4@independe...|        2|                  2|\n",
      "|      5|         Loreen|         Malin|lmalin4@independe...|        5|                  6|\n",
      "|      5|         Loreen|         Malin|lmalin4@independe...|        2|                 13|\n",
      "|      7|         Trudey|       Choupin|     tchoupin6@de.vu|        5|                  3|\n",
      "|      7|         Trudey|       Choupin|     tchoupin6@de.vu|        3|                  8|\n",
      "|      7|         Trudey|       Choupin|     tchoupin6@de.vu|        5|                 11|\n",
      "|      8|         Nadine|     Grimsdell|ngrimsdell7@sohu.com|        2|                  5|\n",
      "|      8|         Nadine|     Grimsdell|ngrimsdell7@sohu.com|        5|                  9|\n",
      "|      8|         Nadine|     Grimsdell|ngrimsdell7@sohu.com|        2|                 15|\n",
      "|      9|        Vassily|         Tamas|vtamas8@businessw...|        2|                  4|\n",
      "|     10|          Wells|      Simpkins|wsimpkins9@amazon...|        2|                  1|\n",
      "+-------+---------------+--------------+--------------------+---------+-------------------+\n",
      "\n"
     ]
    }
   ],
   "source": [
    "users_df. \\\n",
    "    join(course_enrolments_df, users_df.user_id == course_enrolments_df.user_id). \\\n",
    "    select(users_df['*'], course_enrolments_df['course_id'], course_enrolments_df['course_enrolment_id']). \\ \n",
    "    show() # * as a column list for the data frame"
   ]
  },
  {
   "cell_type": "code",
   "execution_count": 41,
   "id": "e9c8ea44-3088-44d4-9372-271ce7ba3c33",
   "metadata": {
    "execution": {
     "iopub.execute_input": "2024-06-21T15:30:59.313799Z",
     "iopub.status.busy": "2024-06-21T15:30:59.312850Z",
     "iopub.status.idle": "2024-06-21T15:30:59.796918Z",
     "shell.execute_reply": "2024-06-21T15:30:59.796522Z",
     "shell.execute_reply.started": "2024-06-21T15:30:59.313768Z"
    }
   },
   "outputs": [
    {
     "name": "stdout",
     "output_type": "stream",
     "text": [
      "+-------+---------------+--------------+--------------------+---------+-------------------+\n",
      "|user_id|user_first_name|user_last_name|          user_email|course_id|course_enrolment_id|\n",
      "+-------+---------------+--------------+--------------------+---------+-------------------+\n",
      "|      3|         Joanna|      Spennock|jspennock2@redcro...|        3|                 10|\n",
      "|      3|         Joanna|      Spennock|jspennock2@redcro...|        2|                 12|\n",
      "|      4|         Hirsch|       Conaboy|hconaboy3@barnesa...|        5|                  7|\n",
      "|      4|         Hirsch|       Conaboy|hconaboy3@barnesa...|        3|                 14|\n",
      "|      5|         Loreen|         Malin|lmalin4@independe...|        2|                  2|\n",
      "|      5|         Loreen|         Malin|lmalin4@independe...|        5|                  6|\n",
      "|      5|         Loreen|         Malin|lmalin4@independe...|        2|                 13|\n",
      "|      7|         Trudey|       Choupin|     tchoupin6@de.vu|        5|                  3|\n",
      "|      7|         Trudey|       Choupin|     tchoupin6@de.vu|        3|                  8|\n",
      "|      7|         Trudey|       Choupin|     tchoupin6@de.vu|        5|                 11|\n",
      "|      8|         Nadine|     Grimsdell|ngrimsdell7@sohu.com|        2|                  5|\n",
      "|      8|         Nadine|     Grimsdell|ngrimsdell7@sohu.com|        5|                  9|\n",
      "|      8|         Nadine|     Grimsdell|ngrimsdell7@sohu.com|        2|                 15|\n",
      "|      9|        Vassily|         Tamas|vtamas8@businessw...|        2|                  4|\n",
      "|     10|          Wells|      Simpkins|wsimpkins9@amazon...|        2|                  1|\n",
      "+-------+---------------+--------------+--------------------+---------+-------------------+\n",
      "\n",
      "+-------+---------------+--------------+--------------------+---------+-------------------+\n",
      "|user_id|user_first_name|user_last_name|          user_email|course_id|course_enrolment_id|\n",
      "+-------+---------------+--------------+--------------------+---------+-------------------+\n",
      "|      3|         Joanna|      Spennock|jspennock2@redcro...|        3|                 10|\n",
      "|      3|         Joanna|      Spennock|jspennock2@redcro...|        2|                 12|\n",
      "|      4|         Hirsch|       Conaboy|hconaboy3@barnesa...|        5|                  7|\n",
      "|      4|         Hirsch|       Conaboy|hconaboy3@barnesa...|        3|                 14|\n",
      "|      5|         Loreen|         Malin|lmalin4@independe...|        2|                  2|\n",
      "|      5|         Loreen|         Malin|lmalin4@independe...|        5|                  6|\n",
      "|      5|         Loreen|         Malin|lmalin4@independe...|        2|                 13|\n",
      "|      7|         Trudey|       Choupin|     tchoupin6@de.vu|        5|                  3|\n",
      "|      7|         Trudey|       Choupin|     tchoupin6@de.vu|        3|                  8|\n",
      "|      7|         Trudey|       Choupin|     tchoupin6@de.vu|        5|                 11|\n",
      "|      8|         Nadine|     Grimsdell|ngrimsdell7@sohu.com|        2|                  5|\n",
      "|      8|         Nadine|     Grimsdell|ngrimsdell7@sohu.com|        5|                  9|\n",
      "|      8|         Nadine|     Grimsdell|ngrimsdell7@sohu.com|        2|                 15|\n",
      "|      9|        Vassily|         Tamas|vtamas8@businessw...|        2|                  4|\n",
      "|     10|          Wells|      Simpkins|wsimpkins9@amazon...|        2|                  1|\n",
      "+-------+---------------+--------------+--------------------+---------+-------------------+\n",
      "\n"
     ]
    }
   ],
   "source": [
    "users_df.alias('u'). \\\n",
    "    join(course_enrolments_df.alias('ce'), users_df.user_id == course_enrolments_df.user_id). \\\n",
    "    select('u.*', 'ce.course_id', 'ce.course_enrolment_id'). \\\n",
    "    show() \n",
    "# works also without specifying alias for the unique column names - ce in this case can be skipped\n",
    "users_df.alias('u'). \\\n",
    "    join(course_enrolments_df.alias('ce'), users_df.user_id == course_enrolments_df.user_id). \\\n",
    "    select('u.*', 'course_id', 'course_enrolment_id'). \\\n",
    "    show() # user_id is ambiguous, so alias or data frame name is required"
   ]
  },
  {
   "cell_type": "code",
   "execution_count": 46,
   "id": "1c021348-01b1-4c3f-9ff9-3fe270727832",
   "metadata": {
    "execution": {
     "iopub.execute_input": "2024-06-21T15:36:28.346073Z",
     "iopub.status.busy": "2024-06-21T15:36:28.345038Z",
     "iopub.status.idle": "2024-06-21T15:36:28.798420Z",
     "shell.execute_reply": "2024-06-21T15:36:28.798147Z",
     "shell.execute_reply.started": "2024-06-21T15:36:28.346042Z"
    }
   },
   "outputs": [
    {
     "name": "stdout",
     "output_type": "stream",
     "text": [
      "+-------+-----+\n",
      "|user_id|count|\n",
      "+-------+-----+\n",
      "|      3|    2|\n",
      "|      4|    2|\n",
      "|      5|    3|\n",
      "|      7|    3|\n",
      "|      8|    3|\n",
      "|      9|    1|\n",
      "|     10|    1|\n",
      "+-------+-----+\n",
      "\n",
      "+-------+-----+\n",
      "|user_id|count|\n",
      "+-------+-----+\n",
      "|      3|    2|\n",
      "|      4|    2|\n",
      "|      5|    3|\n",
      "|      7|    3|\n",
      "|      8|    3|\n",
      "|      9|    1|\n",
      "|     10|    1|\n",
      "+-------+-----+\n",
      "\n"
     ]
    }
   ],
   "source": [
    "# alias works in groupBy as well\n",
    "users_df.alias('u'). \\\n",
    "    join(course_enrolments_df.alias('ce'), users_df.user_id == course_enrolments_df.user_id). \\\n",
    "    select('u.*', 'course_id', 'course_enrolment_id'). \\\n",
    "    groupBy(users_df.user_id). \\\n",
    "    count(). \\\n",
    "    show()\n",
    "users_df.alias('u'). \\\n",
    "    join(course_enrolments_df.alias('ce'), users_df.user_id == course_enrolments_df.user_id). \\\n",
    "    select('u.*', 'course_id', 'course_enrolment_id'). \\\n",
    "    groupBy('u.user_id'). \\\n",
    "    count(). \\\n",
    "    show()"
   ]
  },
  {
   "cell_type": "code",
   "execution_count": 45,
   "id": "3305337a-b5d2-45a1-add2-e8bf1176d200",
   "metadata": {
    "execution": {
     "iopub.execute_input": "2024-06-21T15:35:27.056052Z",
     "iopub.status.busy": "2024-06-21T15:35:27.055530Z",
     "iopub.status.idle": "2024-06-21T15:35:27.326709Z",
     "shell.execute_reply": "2024-06-21T15:35:27.326447Z",
     "shell.execute_reply.started": "2024-06-21T15:35:27.056028Z"
    }
   },
   "outputs": [
    {
     "name": "stdout",
     "output_type": "stream",
     "text": [
      "+-------+-----+\n",
      "|user_id|count|\n",
      "+-------+-----+\n",
      "|      3|    2|\n",
      "|      4|    2|\n",
      "|      5|    3|\n",
      "|      7|    3|\n",
      "|      8|    3|\n",
      "|      9|    1|\n",
      "|     10|    1|\n",
      "+-------+-----+\n",
      "\n"
     ]
    }
   ],
   "source": [
    "users_df. \\\n",
    "    join(course_enrolments_df, 'user_id'). \\\n",
    "    groupBy('user_id'). \\\n",
    "    count(). \\\n",
    "    show()"
   ]
  },
  {
   "cell_type": "markdown",
   "id": "415b559e-ee15-46e0-914a-df7fe4dae1eb",
   "metadata": {
    "jp-MarkdownHeadingCollapsed": true
   },
   "source": [
    "## Outer join using left between Spark Data Frames"
   ]
  },
  {
   "cell_type": "code",
   "execution_count": 48,
   "id": "9a0b9849-652d-4113-9637-ed84af836f2e",
   "metadata": {
    "execution": {
     "iopub.execute_input": "2024-06-21T15:54:00.998585Z",
     "iopub.status.busy": "2024-06-21T15:54:00.997824Z",
     "iopub.status.idle": "2024-06-21T15:54:01.475236Z",
     "shell.execute_reply": "2024-06-21T15:54:01.474965Z",
     "shell.execute_reply.started": "2024-06-21T15:54:00.998541Z"
    }
   },
   "outputs": [
    {
     "name": "stdout",
     "output_type": "stream",
     "text": [
      "+-------+---------------+--------------+--------------------+-------------------+-------+---------+----------+\n",
      "|user_id|user_first_name|user_last_name|          user_email|course_enrolment_id|user_id|course_id|price_paid|\n",
      "+-------+---------------+--------------+--------------------+-------------------+-------+---------+----------+\n",
      "|      1|         Sandra|        Karpov|    skarpov0@ovh.net|               NULL|   NULL|     NULL|      NULL|\n",
      "|      2|           Kari|        Dearth|kdearth1@so-net.n...|               NULL|   NULL|     NULL|      NULL|\n",
      "|      3|         Joanna|      Spennock|jspennock2@redcro...|                 12|      3|        2|      9.99|\n",
      "|      3|         Joanna|      Spennock|jspennock2@redcro...|                 10|      3|        3|     10.99|\n",
      "|      4|         Hirsch|       Conaboy|hconaboy3@barnesa...|                 14|      4|        3|     10.99|\n",
      "|      4|         Hirsch|       Conaboy|hconaboy3@barnesa...|                  7|      4|        5|     10.99|\n",
      "|      5|         Loreen|         Malin|lmalin4@independe...|                 13|      5|        2|      9.99|\n",
      "|      5|         Loreen|         Malin|lmalin4@independe...|                  6|      5|        5|     10.99|\n",
      "|      5|         Loreen|         Malin|lmalin4@independe...|                  2|      5|        2|      9.99|\n",
      "|      6|           Augy|      Christon|  achriston5@mlb.com|               NULL|   NULL|     NULL|      NULL|\n",
      "|      7|         Trudey|       Choupin|     tchoupin6@de.vu|                 11|      7|        5|     10.99|\n",
      "|      7|         Trudey|       Choupin|     tchoupin6@de.vu|                  8|      7|        3|     10.99|\n",
      "|      7|         Trudey|       Choupin|     tchoupin6@de.vu|                  3|      7|        5|     10.99|\n",
      "|      8|         Nadine|     Grimsdell|ngrimsdell7@sohu.com|                 15|      8|        2|      9.99|\n",
      "|      8|         Nadine|     Grimsdell|ngrimsdell7@sohu.com|                  9|      8|        5|     10.99|\n",
      "|      8|         Nadine|     Grimsdell|ngrimsdell7@sohu.com|                  5|      8|        2|      9.99|\n",
      "|      9|        Vassily|         Tamas|vtamas8@businessw...|                  4|      9|        2|      9.99|\n",
      "|     10|          Wells|      Simpkins|wsimpkins9@amazon...|                  1|     10|        2|      9.99|\n",
      "+-------+---------------+--------------+--------------------+-------------------+-------+---------+----------+\n",
      "\n",
      "+-------+---------------+--------------+--------------------+-------------------+---------+----------+\n",
      "|user_id|user_first_name|user_last_name|          user_email|course_enrolment_id|course_id|price_paid|\n",
      "+-------+---------------+--------------+--------------------+-------------------+---------+----------+\n",
      "|      1|         Sandra|        Karpov|    skarpov0@ovh.net|               NULL|     NULL|      NULL|\n",
      "|      2|           Kari|        Dearth|kdearth1@so-net.n...|               NULL|     NULL|      NULL|\n",
      "|      3|         Joanna|      Spennock|jspennock2@redcro...|                 12|        2|      9.99|\n",
      "|      3|         Joanna|      Spennock|jspennock2@redcro...|                 10|        3|     10.99|\n",
      "|      4|         Hirsch|       Conaboy|hconaboy3@barnesa...|                 14|        3|     10.99|\n",
      "|      4|         Hirsch|       Conaboy|hconaboy3@barnesa...|                  7|        5|     10.99|\n",
      "|      5|         Loreen|         Malin|lmalin4@independe...|                 13|        2|      9.99|\n",
      "|      5|         Loreen|         Malin|lmalin4@independe...|                  6|        5|     10.99|\n",
      "|      5|         Loreen|         Malin|lmalin4@independe...|                  2|        2|      9.99|\n",
      "|      6|           Augy|      Christon|  achriston5@mlb.com|               NULL|     NULL|      NULL|\n",
      "|      7|         Trudey|       Choupin|     tchoupin6@de.vu|                 11|        5|     10.99|\n",
      "|      7|         Trudey|       Choupin|     tchoupin6@de.vu|                  8|        3|     10.99|\n",
      "|      7|         Trudey|       Choupin|     tchoupin6@de.vu|                  3|        5|     10.99|\n",
      "|      8|         Nadine|     Grimsdell|ngrimsdell7@sohu.com|                 15|        2|      9.99|\n",
      "|      8|         Nadine|     Grimsdell|ngrimsdell7@sohu.com|                  9|        5|     10.99|\n",
      "|      8|         Nadine|     Grimsdell|ngrimsdell7@sohu.com|                  5|        2|      9.99|\n",
      "|      9|        Vassily|         Tamas|vtamas8@businessw...|                  4|        2|      9.99|\n",
      "|     10|          Wells|      Simpkins|wsimpkins9@amazon...|                  1|        2|      9.99|\n",
      "+-------+---------------+--------------+--------------------+-------------------+---------+----------+\n",
      "\n"
     ]
    }
   ],
   "source": [
    "users_df.join(course_enrolments_df, users_df.user_id == course_enrolments_df.user_id, 'left').show()\n",
    "users_df.join(course_enrolments_df, 'user_id', 'left_outer').show()"
   ]
  },
  {
   "cell_type": "code",
   "execution_count": 6,
   "id": "f2e62d6d-d6b2-4aa6-838e-cd7291c4547f",
   "metadata": {
    "execution": {
     "iopub.execute_input": "2024-06-21T17:51:13.396336Z",
     "iopub.status.busy": "2024-06-21T17:51:13.395656Z",
     "iopub.status.idle": "2024-06-21T17:51:13.914691Z",
     "shell.execute_reply": "2024-06-21T17:51:13.914350Z",
     "shell.execute_reply.started": "2024-06-21T17:51:13.396298Z"
    }
   },
   "outputs": [
    {
     "name": "stdout",
     "output_type": "stream",
     "text": [
      "+-------+---------------+--------------+--------------------+---------+-------------------+\n",
      "|user_id|user_first_name|user_last_name|          user_email|course_id|course_enrolment_id|\n",
      "+-------+---------------+--------------+--------------------+---------+-------------------+\n",
      "|      1|         Sandra|        Karpov|    skarpov0@ovh.net|     NULL|               NULL|\n",
      "|      2|           Kari|        Dearth|kdearth1@so-net.n...|     NULL|               NULL|\n",
      "|      3|         Joanna|      Spennock|jspennock2@redcro...|        2|                 12|\n",
      "|      3|         Joanna|      Spennock|jspennock2@redcro...|        3|                 10|\n",
      "|      4|         Hirsch|       Conaboy|hconaboy3@barnesa...|        3|                 14|\n",
      "|      4|         Hirsch|       Conaboy|hconaboy3@barnesa...|        5|                  7|\n",
      "|      5|         Loreen|         Malin|lmalin4@independe...|        2|                 13|\n",
      "|      5|         Loreen|         Malin|lmalin4@independe...|        5|                  6|\n",
      "|      5|         Loreen|         Malin|lmalin4@independe...|        2|                  2|\n",
      "|      6|           Augy|      Christon|  achriston5@mlb.com|     NULL|               NULL|\n",
      "|      7|         Trudey|       Choupin|     tchoupin6@de.vu|        5|                 11|\n",
      "|      7|         Trudey|       Choupin|     tchoupin6@de.vu|        3|                  8|\n",
      "|      7|         Trudey|       Choupin|     tchoupin6@de.vu|        5|                  3|\n",
      "|      8|         Nadine|     Grimsdell|ngrimsdell7@sohu.com|        2|                 15|\n",
      "|      8|         Nadine|     Grimsdell|ngrimsdell7@sohu.com|        5|                  9|\n",
      "|      8|         Nadine|     Grimsdell|ngrimsdell7@sohu.com|        2|                  5|\n",
      "|      9|        Vassily|         Tamas|vtamas8@businessw...|        2|                  4|\n",
      "|     10|          Wells|      Simpkins|wsimpkins9@amazon...|        2|                  1|\n",
      "+-------+---------------+--------------+--------------------+---------+-------------------+\n",
      "\n"
     ]
    }
   ],
   "source": [
    "users_df. \\\n",
    "    join(course_enrolments_df, 'user_id', 'left_outer'). \\\n",
    "    select(users_df['*'], course_enrolments_df['course_id'], course_enrolments_df['course_enrolment_id']). \\\n",
    "    show()"
   ]
  },
  {
   "cell_type": "code",
   "execution_count": 11,
   "id": "644f3718-3132-4cfc-b423-dd0a4ad49a1d",
   "metadata": {
    "execution": {
     "iopub.execute_input": "2024-06-21T17:55:15.832795Z",
     "iopub.status.busy": "2024-06-21T17:55:15.831893Z",
     "iopub.status.idle": "2024-06-21T17:55:16.087372Z",
     "shell.execute_reply": "2024-06-21T17:55:16.087095Z",
     "shell.execute_reply.started": "2024-06-21T17:55:15.832747Z"
    }
   },
   "outputs": [
    {
     "name": "stdout",
     "output_type": "stream",
     "text": [
      "+-------+---------------+--------------+--------------------+---------+-------------------+\n",
      "|user_id|user_first_name|user_last_name|          user_email|course_id|course_enrolment_id|\n",
      "+-------+---------------+--------------+--------------------+---------+-------------------+\n",
      "|      1|         Sandra|        Karpov|    skarpov0@ovh.net|     NULL|               NULL|\n",
      "|      2|           Kari|        Dearth|kdearth1@so-net.n...|     NULL|               NULL|\n",
      "|      3|         Joanna|      Spennock|jspennock2@redcro...|        2|                 12|\n",
      "|      3|         Joanna|      Spennock|jspennock2@redcro...|        3|                 10|\n",
      "|      4|         Hirsch|       Conaboy|hconaboy3@barnesa...|        3|                 14|\n",
      "|      4|         Hirsch|       Conaboy|hconaboy3@barnesa...|        5|                  7|\n",
      "|      5|         Loreen|         Malin|lmalin4@independe...|        2|                 13|\n",
      "|      5|         Loreen|         Malin|lmalin4@independe...|        5|                  6|\n",
      "|      5|         Loreen|         Malin|lmalin4@independe...|        2|                  2|\n",
      "|      6|           Augy|      Christon|  achriston5@mlb.com|     NULL|               NULL|\n",
      "|      7|         Trudey|       Choupin|     tchoupin6@de.vu|        5|                 11|\n",
      "|      7|         Trudey|       Choupin|     tchoupin6@de.vu|        3|                  8|\n",
      "|      7|         Trudey|       Choupin|     tchoupin6@de.vu|        5|                  3|\n",
      "|      8|         Nadine|     Grimsdell|ngrimsdell7@sohu.com|        2|                 15|\n",
      "|      8|         Nadine|     Grimsdell|ngrimsdell7@sohu.com|        5|                  9|\n",
      "|      8|         Nadine|     Grimsdell|ngrimsdell7@sohu.com|        2|                  5|\n",
      "|      9|        Vassily|         Tamas|vtamas8@businessw...|        2|                  4|\n",
      "|     10|          Wells|      Simpkins|wsimpkins9@amazon...|        2|                  1|\n",
      "+-------+---------------+--------------+--------------------+---------+-------------------+\n",
      "\n"
     ]
    }
   ],
   "source": [
    "users_df. \\\n",
    "    alias('u'). \\\n",
    "    join(course_enrolments_df, 'user_id', 'left_outer'). \\\n",
    "    select('u.*', 'course_id', 'course_enrolment_id'). \\\n",
    "    show()"
   ]
  },
  {
   "cell_type": "code",
   "execution_count": 16,
   "id": "d3e9a06e-3755-4e5b-92c2-7c30613e95af",
   "metadata": {
    "execution": {
     "iopub.execute_input": "2024-06-21T17:57:37.153447Z",
     "iopub.status.busy": "2024-06-21T17:57:37.152870Z",
     "iopub.status.idle": "2024-06-21T17:57:37.649688Z",
     "shell.execute_reply": "2024-06-21T17:57:37.649266Z",
     "shell.execute_reply.started": "2024-06-21T17:57:37.153418Z"
    }
   },
   "outputs": [
    {
     "name": "stdout",
     "output_type": "stream",
     "text": [
      "+-------+---------------+--------------+--------------------+---------+-------------------+\n",
      "|user_id|user_first_name|user_last_name|          user_email|course_id|course_enrolment_id|\n",
      "+-------+---------------+--------------+--------------------+---------+-------------------+\n",
      "|      1|         Sandra|        Karpov|    skarpov0@ovh.net|     NULL|               NULL|\n",
      "|      2|           Kari|        Dearth|kdearth1@so-net.n...|     NULL|               NULL|\n",
      "|      6|           Augy|      Christon|  achriston5@mlb.com|     NULL|               NULL|\n",
      "+-------+---------------+--------------+--------------------+---------+-------------------+\n",
      "\n",
      "+-------+---------------+--------------+--------------------+---------+-------------------+\n",
      "|user_id|user_first_name|user_last_name|          user_email|course_id|course_enrolment_id|\n",
      "+-------+---------------+--------------+--------------------+---------+-------------------+\n",
      "|      1|         Sandra|        Karpov|    skarpov0@ovh.net|     NULL|               NULL|\n",
      "|      2|           Kari|        Dearth|kdearth1@so-net.n...|     NULL|               NULL|\n",
      "|      6|           Augy|      Christon|  achriston5@mlb.com|     NULL|               NULL|\n",
      "+-------+---------------+--------------+--------------------+---------+-------------------+\n",
      "\n"
     ]
    }
   ],
   "source": [
    "users_df. \\\n",
    "    alias('u'). \\\n",
    "    join(course_enrolments_df, 'user_id', 'left_outer'). \\\n",
    "    select('u.*', 'course_id', 'course_enrolment_id'). \\\n",
    "    where('course_enrolment_id is null'). \\\n",
    "    show()\n",
    "users_df. \\\n",
    "    alias('u'). \\\n",
    "    join(course_enrolments_df, 'user_id', 'left_outer'). \\\n",
    "    select('u.*', 'course_id', 'course_enrolment_id'). \\\n",
    "    where(course_enrolments_df.course_enrolment_id.isNull()). \\\n",
    "    show()"
   ]
  },
  {
   "cell_type": "code",
   "execution_count": 51,
   "id": "092f9cc8-63f0-4c19-bdac-cddf1a1d23ae",
   "metadata": {
    "execution": {
     "iopub.execute_input": "2024-06-21T18:18:35.175313Z",
     "iopub.status.busy": "2024-06-21T18:18:35.174538Z",
     "iopub.status.idle": "2024-06-21T18:18:35.846953Z",
     "shell.execute_reply": "2024-06-21T18:18:35.846729Z",
     "shell.execute_reply.started": "2024-06-21T18:18:35.175266Z"
    }
   },
   "outputs": [
    {
     "name": "stdout",
     "output_type": "stream",
     "text": [
      "+-------+--------------------------+\n",
      "|user_id|count(course_enrolment_id)|\n",
      "+-------+--------------------------+\n",
      "|      1|                         0|\n",
      "|      2|                         0|\n",
      "|      3|                         2|\n",
      "|      4|                         2|\n",
      "|      5|                         3|\n",
      "|      6|                         0|\n",
      "|      7|                         3|\n",
      "|      8|                         3|\n",
      "|      9|                         1|\n",
      "|     10|                         1|\n",
      "+-------+--------------------------+\n",
      "\n",
      "+-------+------------+\n",
      "|user_id|course_count|\n",
      "+-------+------------+\n",
      "|      1|           0|\n",
      "|      2|           0|\n",
      "|      3|           2|\n",
      "|      4|           2|\n",
      "|      5|           3|\n",
      "|      6|           0|\n",
      "|      7|           3|\n",
      "|      8|           3|\n",
      "|      9|           1|\n",
      "|     10|           1|\n",
      "+-------+------------+\n",
      "\n",
      "+-------+------------+\n",
      "|user_id|course_count|\n",
      "+-------+------------+\n",
      "|      1|           0|\n",
      "|      2|           0|\n",
      "|      3|           2|\n",
      "|      4|           2|\n",
      "|      5|           3|\n",
      "|      6|           0|\n",
      "|      7|           3|\n",
      "|      8|           3|\n",
      "|      9|           1|\n",
      "|     10|           1|\n",
      "+-------+------------+\n",
      "\n"
     ]
    }
   ],
   "source": [
    "from pyspark.sql.functions import count, sum\n",
    "\n",
    "users_df. \\\n",
    "    alias('u'). \\\n",
    "    join(course_enrolments_df, 'user_id', 'left_outer'). \\\n",
    "    groupBy('user_id'). \\\n",
    "    agg(count('course_enrolment_id')). \\\n",
    "    show()\n",
    "\n",
    "from pyspark.sql.functions import when, sum\n",
    "users_df. \\\n",
    "    alias('u'). \\\n",
    "    join(course_enrolments_df, 'user_id', 'left_outer'). \\\n",
    "    groupBy('user_id'). \\\n",
    "    agg(sum(when(course_enrolments_df.user_id.isNull(), 0).otherwise(1)).alias('course_count')). \\\n",
    "    show()\n",
    "users_df. \\\n",
    "    alias('u'). \\\n",
    "    join(course_enrolments_df, 'user_id', 'left_outer'). \\\n",
    "    groupBy('user_id'). \\\n",
    "    agg(sum(when(course_enrolments_df.course_enrolment_id.isNull(), 0).otherwise(1)).alias('course_count')). \\\n",
    "    show()"
   ]
  },
  {
   "cell_type": "code",
   "execution_count": 53,
   "id": "9f0e7cd8-7726-4f9a-92ba-5c83f96d3366",
   "metadata": {
    "execution": {
     "iopub.execute_input": "2024-06-21T18:20:28.837169Z",
     "iopub.status.busy": "2024-06-21T18:20:28.836595Z",
     "iopub.status.idle": "2024-06-21T18:20:29.132173Z",
     "shell.execute_reply": "2024-06-21T18:20:29.131910Z",
     "shell.execute_reply.started": "2024-06-21T18:20:28.837139Z"
    }
   },
   "outputs": [
    {
     "name": "stdout",
     "output_type": "stream",
     "text": [
      "+-------+------------+\n",
      "|user_id|course_count|\n",
      "+-------+------------+\n",
      "|      1|           0|\n",
      "|      2|           0|\n",
      "|      3|           2|\n",
      "|      4|           2|\n",
      "|      5|           3|\n",
      "|      6|           0|\n",
      "|      7|           3|\n",
      "|      8|           3|\n",
      "|      9|           1|\n",
      "|     10|           1|\n",
      "+-------+------------+\n",
      "\n"
     ]
    }
   ],
   "source": [
    "from pyspark.sql.functions import expr\n",
    "\n",
    "users_df. \\\n",
    "    alias('u'). \\\n",
    "    join(course_enrolments_df, 'user_id', 'left_outer'). \\\n",
    "    groupBy('user_id'). \\\n",
    "    agg(expr('sum(case when course_enrolment_id is null then 0 else 1 end)').alias('course_count')). \\\n",
    "    show()"
   ]
  },
  {
   "cell_type": "markdown",
   "id": "15536939-6845-43d9-9b33-b87174afeef7",
   "metadata": {
    "jp-MarkdownHeadingCollapsed": true
   },
   "source": [
    "## Right outer join between Spark Data Frames"
   ]
  },
  {
   "cell_type": "code",
   "execution_count": 54,
   "id": "7099b578-2e1e-4df5-94f0-7cbbc91a1b8a",
   "metadata": {
    "execution": {
     "iopub.execute_input": "2024-06-21T18:22:50.620495Z",
     "iopub.status.busy": "2024-06-21T18:22:50.619941Z",
     "iopub.status.idle": "2024-06-21T18:22:50.883149Z",
     "shell.execute_reply": "2024-06-21T18:22:50.882883Z",
     "shell.execute_reply.started": "2024-06-21T18:22:50.620464Z"
    }
   },
   "outputs": [
    {
     "name": "stdout",
     "output_type": "stream",
     "text": [
      "+-------+-------------------+---------+----------+---------------+--------------+--------------------+\n",
      "|user_id|course_enrolment_id|course_id|price_paid|user_first_name|user_last_name|          user_email|\n",
      "+-------+-------------------+---------+----------+---------------+--------------+--------------------+\n",
      "|      1|               NULL|     NULL|      NULL|         Sandra|        Karpov|    skarpov0@ovh.net|\n",
      "|      2|               NULL|     NULL|      NULL|           Kari|        Dearth|kdearth1@so-net.n...|\n",
      "|      3|                 12|        2|      9.99|         Joanna|      Spennock|jspennock2@redcro...|\n",
      "|      3|                 10|        3|     10.99|         Joanna|      Spennock|jspennock2@redcro...|\n",
      "|      4|                 14|        3|     10.99|         Hirsch|       Conaboy|hconaboy3@barnesa...|\n",
      "|      4|                  7|        5|     10.99|         Hirsch|       Conaboy|hconaboy3@barnesa...|\n",
      "|      5|                 13|        2|      9.99|         Loreen|         Malin|lmalin4@independe...|\n",
      "|      5|                  6|        5|     10.99|         Loreen|         Malin|lmalin4@independe...|\n",
      "|      5|                  2|        2|      9.99|         Loreen|         Malin|lmalin4@independe...|\n",
      "|      6|               NULL|     NULL|      NULL|           Augy|      Christon|  achriston5@mlb.com|\n",
      "|      7|                 11|        5|     10.99|         Trudey|       Choupin|     tchoupin6@de.vu|\n",
      "|      7|                  8|        3|     10.99|         Trudey|       Choupin|     tchoupin6@de.vu|\n",
      "|      7|                  3|        5|     10.99|         Trudey|       Choupin|     tchoupin6@de.vu|\n",
      "|      8|                 15|        2|      9.99|         Nadine|     Grimsdell|ngrimsdell7@sohu.com|\n",
      "|      8|                  9|        5|     10.99|         Nadine|     Grimsdell|ngrimsdell7@sohu.com|\n",
      "|      8|                  5|        2|      9.99|         Nadine|     Grimsdell|ngrimsdell7@sohu.com|\n",
      "|      9|                  4|        2|      9.99|        Vassily|         Tamas|vtamas8@businessw...|\n",
      "|     10|                  1|        2|      9.99|          Wells|      Simpkins|wsimpkins9@amazon...|\n",
      "+-------+-------------------+---------+----------+---------------+--------------+--------------------+\n",
      "\n"
     ]
    }
   ],
   "source": [
    "course_enrolments_df.join(users_df, 'user_id', 'right_outer').show()"
   ]
  },
  {
   "cell_type": "markdown",
   "id": "e124796b-ba50-4e8c-b276-6de4b2663bc0",
   "metadata": {},
   "source": [
    "## Full outer join - datasets"
   ]
  },
  {
   "cell_type": "code",
   "execution_count": 2,
   "id": "6260081d-29d0-42c7-a9e4-3b8107456a56",
   "metadata": {
    "execution": {
     "iopub.execute_input": "2024-06-21T21:30:45.487738Z",
     "iopub.status.busy": "2024-06-21T21:30:45.487460Z",
     "iopub.status.idle": "2024-06-21T21:30:48.334997Z",
     "shell.execute_reply": "2024-06-21T21:30:48.334590Z",
     "shell.execute_reply.started": "2024-06-21T21:30:45.487717Z"
    }
   },
   "outputs": [
    {
     "name": "stdout",
     "output_type": "stream",
     "text": [
      "root\n",
      " |-- email: string (nullable = true)\n",
      " |-- first_name: string (nullable = true)\n",
      " |-- last_name: string (nullable = true)\n",
      " |-- gender: string (nullable = true)\n",
      " |-- ip_address: string (nullable = true)\n",
      "\n"
     ]
    },
    {
     "name": "stderr",
     "output_type": "stream",
     "text": [
      "                                                                                \r"
     ]
    },
    {
     "name": "stdout",
     "output_type": "stream",
     "text": [
      "+--------------------+----------+----------+-----------+---------------+\n",
      "|               email|first_name| last_name|     gender|     ip_address|\n",
      "+--------------------+----------+----------+-----------+---------------+\n",
      "| alovett0@nsw.gov.au|   Aundrea|    Lovett|       Male|    62.72.1.143|\n",
      "|bjowling1@spiegel.de|   Bettine|   Jowling|     Female|  26.250.197.47|\n",
      "|rablitt2@technora...|    Reggie|    Ablitt|       Male|104.181.218.238|\n",
      "|tgavahan3@printfr...|       Ted|   Gavahan|     Female|  216.80.86.100|\n",
      "|ccastellan4@blogl...|   Chantal| Castellan|     Female|  178.93.82.145|\n",
      "| hcurrier5@hexun.com|   Herrick|   Currier|       Male|    98.120.5.78|\n",
      "|zlendrem6@columbi...|    Zorina|   Lendrem|     Female| 219.128.213.53|\n",
      "|  lbutland7@time.com|     Lilas|   Butland|     Female|109.110.131.151|\n",
      "|palfonsetti8@ask.com|    Putnam|Alfonsetti|     Female|  167.97.48.246|\n",
      "|hunitt9@bizjourna...|    Holden|     Unitt|     Female|142.228.161.192|\n",
      "|dmcmorrana@refere...|    Dorice|  McMorran|     Female|   233.1.28.220|\n",
      "|afaulconerb@barne...|    Andris| Faulconer|     Female| 109.40.175.103|\n",
      "|      kupexc@sun.com|   Krispin|      Upex|       Male|  154.110.22.75|\n",
      "|fmancktelowd@youk...|    Farand|Mancktelow|Genderqueer|  190.20.187.10|\n",
      "|kdodgshune@google...|  Kellyann|  Dodgshun|     Female| 80.247.105.228|\n",
      "+--------------------+----------+----------+-----------+---------------+\n",
      "\n"
     ]
    }
   ],
   "source": [
    "users1 = [\n",
    "    {\n",
    "        \"email\":\"alovett0@nsw.gov.au\",\n",
    "        \"first_name\":\"Aundrea\",\n",
    "        \"last_name\":\"Lovett\",\n",
    "        \"gender\":\"Male\",\n",
    "        \"ip_address\":\"62.72.1.143\"\n",
    "    },\n",
    "    {\n",
    "        \"email\":\"bjowling1@spiegel.de\",\n",
    "        \"first_name\":\"Bettine\",\n",
    "        \"last_name\":\"Jowling\",\n",
    "        \"gender\":\"Female\",\n",
    "        \"ip_address\":\"26.250.197.47\"\n",
    "    },\n",
    "    {\n",
    "        \"email\":\"rablitt2@technorati.com\",\n",
    "        \"first_name\":\"Reggie\",\n",
    "        \"last_name\":\"Ablitt\",\n",
    "        \"gender\":\"Male\",\n",
    "        \"ip_address\":\"104.181.218.238\"\n",
    "    },\n",
    "    {\n",
    "        \"email\":\"tgavahan3@printfriendly.com\",\n",
    "        \"first_name\":\"Ted\",\n",
    "        \"last_name\":\"Gavahan\",\n",
    "        \"gender\":\"Female\",\n",
    "        \"ip_address\":\"216.80.86.100\"\n",
    "    },\n",
    "    {\n",
    "        \"email\":\"ccastellan4@bloglovin.com\",\n",
    "        \"first_name\":\"Chantal\",\n",
    "        \"last_name\":\"Castellan\",\n",
    "        \"gender\":\"Female\",\n",
    "        \"ip_address\":\"178.93.82.145\"\n",
    "    },\n",
    "    {\n",
    "        \"email\":\"hcurrier5@hexun.com\",\n",
    "        \"first_name\":\"Herrick\",\n",
    "        \"last_name\":\"Currier\",\n",
    "        \"gender\":\"Male\",\n",
    "        \"ip_address\":\"98.120.5.78\"\n",
    "    },\n",
    "    {\n",
    "        \"email\":\"zlendrem6@columbia.edu\",\n",
    "        \"first_name\":\"Zorina\",\n",
    "        \"last_name\":\"Lendrem\",\n",
    "        \"gender\":\"Female\",\n",
    "        \"ip_address\":\"219.128.213.53\"\n",
    "    },\n",
    "    {\n",
    "        \"email\":\"lbutland7@time.com\",\n",
    "        \"first_name\":\"Lilas\",\n",
    "        \"last_name\":\"Butland\",\n",
    "        \"gender\":\"Female\",\n",
    "        \"ip_address\":\"109.110.131.151\"\n",
    "    },\n",
    "    {\n",
    "        \"email\":\"palfonsetti8@ask.com\",\n",
    "        \"first_name\":\"Putnam\",\n",
    "        \"last_name\":\"Alfonsetti\",\n",
    "        \"gender\":\"Female\",\n",
    "        \"ip_address\":\"167.97.48.246\"\n",
    "    },\n",
    "    {\n",
    "        \"email\":\"hunitt9@bizjournals.com\",\n",
    "        \"first_name\":\"Holden\",\n",
    "        \"last_name\":\"Unitt\",\n",
    "        \"gender\":\"Female\",\n",
    "        \"ip_address\":\"142.228.161.192\"\n",
    "    },\n",
    "    {\n",
    "        \"email\":\"dmcmorrana@reference.com\",\n",
    "        \"first_name\":\"Dorice\",\n",
    "        \"last_name\":\"McMorran\",\n",
    "        \"gender\":\"Female\",\n",
    "        \"ip_address\":\"233.1.28.220\"\n",
    "    },\n",
    "    {\n",
    "        \"email\":\"afaulconerb@barnesandnoble.com\",\n",
    "        \"first_name\":\"Andris\",\n",
    "        \"last_name\":\"Faulconer\",\n",
    "        \"gender\":\"Female\",\n",
    "        \"ip_address\":\"109.40.175.103\"\n",
    "    },\n",
    "    {\n",
    "        \"email\":\"kupexc@sun.com\",\n",
    "        \"first_name\":\"Krispin\",\n",
    "        \"last_name\":\"Upex\",\n",
    "        \"gender\":\"Male\",\n",
    "        \"ip_address\":\"154.110.22.75\"\n",
    "    },\n",
    "    {\n",
    "        \"email\":\"fmancktelowd@youku.com\",\n",
    "        \"first_name\":\"Farand\",\n",
    "        \"last_name\":\"Mancktelow\",\n",
    "        \"gender\":\"Genderqueer\",\n",
    "        \"ip_address\":\"190.20.187.10\"\n",
    "    },\n",
    "    {\n",
    "        \"email\":\"kdodgshune@google.com\",\n",
    "        \"first_name\":\"Kellyann\",\n",
    "        \"last_name\":\"Dodgshun\",\n",
    "        \"gender\":\"Female\",\n",
    "        \"ip_address\":\"80.247.105.228\"\n",
    "    }\n",
    "]\n",
    "\n",
    "from pyspark.sql import Row\n",
    "\n",
    "users1_df = spark.createDataFrame([Row(**user) for user in users1])\n",
    "users1_df.printSchema()\n",
    "users1_df.show()"
   ]
  },
  {
   "cell_type": "code",
   "execution_count": 4,
   "id": "02166ceb-2562-4dbe-9e1f-a5e2afe04924",
   "metadata": {
    "execution": {
     "iopub.execute_input": "2024-06-21T21:30:56.554225Z",
     "iopub.status.busy": "2024-06-21T21:30:56.553627Z",
     "iopub.status.idle": "2024-06-21T21:30:56.810255Z",
     "shell.execute_reply": "2024-06-21T21:30:56.809844Z",
     "shell.execute_reply.started": "2024-06-21T21:30:56.554171Z"
    }
   },
   "outputs": [
    {
     "name": "stdout",
     "output_type": "stream",
     "text": [
      "root\n",
      " |-- email: string (nullable = true)\n",
      " |-- first_name: string (nullable = true)\n",
      " |-- last_name: string (nullable = true)\n",
      " |-- gender: string (nullable = true)\n",
      " |-- ip_address: string (nullable = true)\n",
      "\n",
      "+--------------------+----------+------------+-----------+---------------+\n",
      "|               email|first_name|   last_name|     gender|     ip_address|\n",
      "+--------------------+----------+------------+-----------+---------------+\n",
      "|  lbutland7@time.com|     Lilas|     Butland|     Female|109.110.131.151|\n",
      "|palfonsetti8@ask.com|    Putnam|  Alfonsetti|     Female|  167.97.48.246|\n",
      "|hunitt9@bizjourna...|    Holden|       Unitt|     Female|142.228.161.192|\n",
      "|dmcmorrana@refere...|    Dorice|    McMorran|     Female|   233.1.28.220|\n",
      "|afaulconerb@barne...|    Andris|   Faulconer|     Female| 109.40.175.103|\n",
      "|      kupexc@sun.com|   Krispin|        Upex|       Male|  154.110.22.75|\n",
      "|fmancktelowd@youk...|    Farand|  Mancktelow|Genderqueer|  190.20.187.10|\n",
      "|kdodgshune@google...|  Kellyann|    Dodgshun|     Female| 80.247.105.228|\n",
      "|kbaressf@geocitie...|     Karly|      Baress|     Female|145.232.153.145|\n",
      "|   amillinsg@com.com|  Adelaide|     Millins|     Female| 75.160.220.182|\n",
      "|skemsleyh@quantca...|      Shir|     Kemsley|       Male| 234.195.73.177|\n",
      "|kchomiszewskii@si...|    Kristo|Chomiszewski|     Female|   60.91.73.198|\n",
      "| rkelwickj@baidu.com| Rosemonde|     Kelwick|Genderfluid|   42.50.134.65|\n",
      "+--------------------+----------+------------+-----------+---------------+\n",
      "\n"
     ]
    }
   ],
   "source": [
    "users2 = [{\n",
    "        \"email\":\"lbutland7@time.com\",\n",
    "        \"first_name\":\"Lilas\",\n",
    "        \"last_name\":\"Butland\",\n",
    "        \"gender\":\"Female\",\n",
    "        \"ip_address\":\"109.110.131.151\"\n",
    "    },\n",
    "    {\n",
    "        \"email\":\"palfonsetti8@ask.com\",\n",
    "        \"first_name\":\"Putnam\",\n",
    "        \"last_name\":\"Alfonsetti\",\n",
    "        \"gender\":\"Female\",\n",
    "        \"ip_address\":\"167.97.48.246\"\n",
    "    },\n",
    "    {\n",
    "        \"email\":\"hunitt9@bizjournals.com\",\n",
    "        \"first_name\":\"Holden\",\n",
    "        \"last_name\":\"Unitt\",\n",
    "        \"gender\":\"Female\",\n",
    "        \"ip_address\":\"142.228.161.192\"\n",
    "    },\n",
    "    {\n",
    "        \"email\":\"dmcmorrana@reference.com\",\n",
    "        \"first_name\":\"Dorice\",\n",
    "        \"last_name\":\"McMorran\",\n",
    "        \"gender\":\"Female\",\n",
    "        \"ip_address\":\"233.1.28.220\"\n",
    "    },\n",
    "    {\n",
    "        \"email\":\"afaulconerb@barnesandnoble.com\",\n",
    "        \"first_name\":\"Andris\",\n",
    "        \"last_name\":\"Faulconer\",\n",
    "        \"gender\":\"Female\",\n",
    "        \"ip_address\":\"109.40.175.103\"\n",
    "    },\n",
    "    {\n",
    "        \"email\":\"kupexc@sun.com\",\n",
    "        \"first_name\":\"Krispin\",\n",
    "        \"last_name\":\"Upex\",\n",
    "        \"gender\":\"Male\",\n",
    "        \"ip_address\":\"154.110.22.75\"\n",
    "    },\n",
    "    {\n",
    "        \"email\":\"fmancktelowd@youku.com\",\n",
    "        \"first_name\":\"Farand\",\n",
    "        \"last_name\":\"Mancktelow\",\n",
    "        \"gender\":\"Genderqueer\",\n",
    "        \"ip_address\":\"190.20.187.10\"\n",
    "    },\n",
    "    {\n",
    "        \"email\":\"kdodgshune@google.com\",\n",
    "        \"first_name\":\"Kellyann\",\n",
    "        \"last_name\":\"Dodgshun\",\n",
    "        \"gender\":\"Female\",\n",
    "        \"ip_address\":\"80.247.105.228\"\n",
    "    },\n",
    "    {\n",
    "        \"email\":\"kbaressf@geocities.jp\",\n",
    "        \"first_name\":\"Karly\",\n",
    "        \"last_name\":\"Baress\",\n",
    "        \"gender\":\"Female\",\n",
    "        \"ip_address\":\"145.232.153.145\"\n",
    "    },\n",
    "    {\n",
    "        \"email\":\"amillinsg@com.com\",\n",
    "        \"first_name\":\"Adelaide\",\n",
    "        \"last_name\":\"Millins\",\n",
    "        \"gender\":\"Female\",\n",
    "        \"ip_address\":\"75.160.220.182\"\n",
    "    },\n",
    "    {\n",
    "        \"email\":\"skemsleyh@quantcast.com\",\n",
    "        \"first_name\":\"Shir\",\n",
    "        \"last_name\":\"Kemsley\",\n",
    "        \"gender\":\"Male\",\n",
    "        \"ip_address\":\"234.195.73.177\"\n",
    "    },\n",
    "    {\n",
    "        \"email\":\"kchomiszewskii@simplemachines.org\",\n",
    "        \"first_name\":\"Kristo\",\n",
    "        \"last_name\":\"Chomiszewski\",\n",
    "        \"gender\":\"Female\",\n",
    "        \"ip_address\":\"60.91.73.198\"\n",
    "    },\n",
    "    {\n",
    "        \"email\":\"rkelwickj@baidu.com\",\n",
    "        \"first_name\":\"Rosemonde\",\n",
    "        \"last_name\":\"Kelwick\",\n",
    "        \"gender\":\"Genderfluid\",\n",
    "        \"ip_address\":\"42.50.134.65\"\n",
    "    }\n",
    "]\n",
    "\n",
    "from pyspark.sql import Row\n",
    "users2_df = spark.createDataFrame([Row(**user) for user in users2])\n",
    "users2_df.printSchema()\n",
    "users2_df.show()"
   ]
  },
  {
   "cell_type": "code",
   "execution_count": 5,
   "id": "2a427f5f-d8a9-4d65-a774-a7b50c3f8cc4",
   "metadata": {
    "execution": {
     "iopub.execute_input": "2024-06-21T21:31:03.647408Z",
     "iopub.status.busy": "2024-06-21T21:31:03.646838Z",
     "iopub.status.idle": "2024-06-21T21:31:04.190735Z",
     "shell.execute_reply": "2024-06-21T21:31:04.190411Z",
     "shell.execute_reply.started": "2024-06-21T21:31:03.647378Z"
    }
   },
   "outputs": [
    {
     "data": {
      "text/plain": [
       "(15, 13)"
      ]
     },
     "execution_count": 5,
     "metadata": {},
     "output_type": "execute_result"
    }
   ],
   "source": [
    "users1_df.count(), users2_df.count()"
   ]
  },
  {
   "cell_type": "markdown",
   "id": "377a8bd3-a7a9-47f3-b9b0-f41364c7cc1e",
   "metadata": {
    "jp-MarkdownHeadingCollapsed": true
   },
   "source": [
    "## Full outer join between the Spark Data Frames"
   ]
  },
  {
   "cell_type": "code",
   "execution_count": 71,
   "id": "34a0c830-c65a-4700-a9b6-bfe126651cf5",
   "metadata": {
    "execution": {
     "iopub.execute_input": "2024-06-21T18:56:04.148652Z",
     "iopub.status.busy": "2024-06-21T18:56:04.148051Z",
     "iopub.status.idle": "2024-06-21T18:56:04.960330Z",
     "shell.execute_reply": "2024-06-21T18:56:04.960033Z",
     "shell.execute_reply.started": "2024-06-21T18:56:04.148621Z"
    }
   },
   "outputs": [
    {
     "data": {
      "text/plain": [
       "(20, 20, 20, 20)"
      ]
     },
     "execution_count": 71,
     "metadata": {},
     "output_type": "execute_result"
    }
   ],
   "source": [
    "users1_df.join(users2_df, 'email', 'outer').count(), \\\n",
    "users1_df.join(users2_df, 'email', 'full').count(), \\\n",
    "users1_df.join(users2_df, 'email', 'full_outer').count(), \\\n",
    "users1_df.join(users2_df, 'email', 'fullouter').count()"
   ]
  },
  {
   "cell_type": "code",
   "execution_count": 75,
   "id": "106c39cd-f853-45cf-a6c9-0f284883e9b8",
   "metadata": {
    "execution": {
     "iopub.execute_input": "2024-06-21T18:56:45.687241Z",
     "iopub.status.busy": "2024-06-21T18:56:45.687022Z",
     "iopub.status.idle": "2024-06-21T18:56:46.055012Z",
     "shell.execute_reply": "2024-06-21T18:56:46.054747Z",
     "shell.execute_reply.started": "2024-06-21T18:56:45.687224Z"
    }
   },
   "outputs": [
    {
     "name": "stdout",
     "output_type": "stream",
     "text": [
      "+---------------------------------+----------+----------+-----------+---------------+----------+------------+-----------+---------------+\n",
      "|email                            |first_name|last_name |gender     |ip_address     |first_name|last_name   |gender     |ip_address     |\n",
      "+---------------------------------+----------+----------+-----------+---------------+----------+------------+-----------+---------------+\n",
      "|afaulconerb@barnesandnoble.com   |Andris    |Faulconer |Female     |109.40.175.103 |Andris    |Faulconer   |Female     |109.40.175.103 |\n",
      "|alovett0@nsw.gov.au              |Aundrea   |Lovett    |Male       |62.72.1.143    |NULL      |NULL        |NULL       |NULL           |\n",
      "|amillinsg@com.com                |NULL      |NULL      |NULL       |NULL           |Adelaide  |Millins     |Female     |75.160.220.182 |\n",
      "|bjowling1@spiegel.de             |Bettine   |Jowling   |Female     |26.250.197.47  |NULL      |NULL        |NULL       |NULL           |\n",
      "|ccastellan4@bloglovin.com        |Chantal   |Castellan |Female     |178.93.82.145  |NULL      |NULL        |NULL       |NULL           |\n",
      "|dmcmorrana@reference.com         |Dorice    |McMorran  |Female     |233.1.28.220   |Dorice    |McMorran    |Female     |233.1.28.220   |\n",
      "|fmancktelowd@youku.com           |Farand    |Mancktelow|Genderqueer|190.20.187.10  |Farand    |Mancktelow  |Genderqueer|190.20.187.10  |\n",
      "|hcurrier5@hexun.com              |Herrick   |Currier   |Male       |98.120.5.78    |NULL      |NULL        |NULL       |NULL           |\n",
      "|hunitt9@bizjournals.com          |Holden    |Unitt     |Female     |142.228.161.192|Holden    |Unitt       |Female     |142.228.161.192|\n",
      "|kbaressf@geocities.jp            |NULL      |NULL      |NULL       |NULL           |Karly     |Baress      |Female     |145.232.153.145|\n",
      "|kchomiszewskii@simplemachines.org|NULL      |NULL      |NULL       |NULL           |Kristo    |Chomiszewski|Female     |60.91.73.198   |\n",
      "|kdodgshune@google.com            |Kellyann  |Dodgshun  |Female     |80.247.105.228 |Kellyann  |Dodgshun    |Female     |80.247.105.228 |\n",
      "|kupexc@sun.com                   |Krispin   |Upex      |Male       |154.110.22.75  |Krispin   |Upex        |Male       |154.110.22.75  |\n",
      "|lbutland7@time.com               |Lilas     |Butland   |Female     |109.110.131.151|Lilas     |Butland     |Female     |109.110.131.151|\n",
      "|palfonsetti8@ask.com             |Putnam    |Alfonsetti|Female     |167.97.48.246  |Putnam    |Alfonsetti  |Female     |167.97.48.246  |\n",
      "|rablitt2@technorati.com          |Reggie    |Ablitt    |Male       |104.181.218.238|NULL      |NULL        |NULL       |NULL           |\n",
      "|rkelwickj@baidu.com              |NULL      |NULL      |NULL       |NULL           |Rosemonde |Kelwick     |Genderfluid|42.50.134.65   |\n",
      "|skemsleyh@quantcast.com          |NULL      |NULL      |NULL       |NULL           |Shir      |Kemsley     |Male       |234.195.73.177 |\n",
      "|tgavahan3@printfriendly.com      |Ted       |Gavahan   |Female     |216.80.86.100  |NULL      |NULL        |NULL       |NULL           |\n",
      "|zlendrem6@columbia.edu           |Zorina    |Lendrem   |Female     |219.128.213.53 |NULL      |NULL        |NULL       |NULL           |\n",
      "+---------------------------------+----------+----------+-----------+---------------+----------+------------+-----------+---------------+\n",
      "\n",
      "+------------------------------+----------+----------+-----------+---------------+---------------------------------+----------+------------+-----------+---------------+\n",
      "|email                         |first_name|last_name |gender     |ip_address     |email                            |first_name|last_name   |gender     |ip_address     |\n",
      "+------------------------------+----------+----------+-----------+---------------+---------------------------------+----------+------------+-----------+---------------+\n",
      "|afaulconerb@barnesandnoble.com|Andris    |Faulconer |Female     |109.40.175.103 |afaulconerb@barnesandnoble.com   |Andris    |Faulconer   |Female     |109.40.175.103 |\n",
      "|alovett0@nsw.gov.au           |Aundrea   |Lovett    |Male       |62.72.1.143    |NULL                             |NULL      |NULL        |NULL       |NULL           |\n",
      "|NULL                          |NULL      |NULL      |NULL       |NULL           |amillinsg@com.com                |Adelaide  |Millins     |Female     |75.160.220.182 |\n",
      "|bjowling1@spiegel.de          |Bettine   |Jowling   |Female     |26.250.197.47  |NULL                             |NULL      |NULL        |NULL       |NULL           |\n",
      "|ccastellan4@bloglovin.com     |Chantal   |Castellan |Female     |178.93.82.145  |NULL                             |NULL      |NULL        |NULL       |NULL           |\n",
      "|dmcmorrana@reference.com      |Dorice    |McMorran  |Female     |233.1.28.220   |dmcmorrana@reference.com         |Dorice    |McMorran    |Female     |233.1.28.220   |\n",
      "|fmancktelowd@youku.com        |Farand    |Mancktelow|Genderqueer|190.20.187.10  |fmancktelowd@youku.com           |Farand    |Mancktelow  |Genderqueer|190.20.187.10  |\n",
      "|hcurrier5@hexun.com           |Herrick   |Currier   |Male       |98.120.5.78    |NULL                             |NULL      |NULL        |NULL       |NULL           |\n",
      "|hunitt9@bizjournals.com       |Holden    |Unitt     |Female     |142.228.161.192|hunitt9@bizjournals.com          |Holden    |Unitt       |Female     |142.228.161.192|\n",
      "|NULL                          |NULL      |NULL      |NULL       |NULL           |kbaressf@geocities.jp            |Karly     |Baress      |Female     |145.232.153.145|\n",
      "|NULL                          |NULL      |NULL      |NULL       |NULL           |kchomiszewskii@simplemachines.org|Kristo    |Chomiszewski|Female     |60.91.73.198   |\n",
      "|kdodgshune@google.com         |Kellyann  |Dodgshun  |Female     |80.247.105.228 |kdodgshune@google.com            |Kellyann  |Dodgshun    |Female     |80.247.105.228 |\n",
      "|kupexc@sun.com                |Krispin   |Upex      |Male       |154.110.22.75  |kupexc@sun.com                   |Krispin   |Upex        |Male       |154.110.22.75  |\n",
      "|lbutland7@time.com            |Lilas     |Butland   |Female     |109.110.131.151|lbutland7@time.com               |Lilas     |Butland     |Female     |109.110.131.151|\n",
      "|palfonsetti8@ask.com          |Putnam    |Alfonsetti|Female     |167.97.48.246  |palfonsetti8@ask.com             |Putnam    |Alfonsetti  |Female     |167.97.48.246  |\n",
      "|rablitt2@technorati.com       |Reggie    |Ablitt    |Male       |104.181.218.238|NULL                             |NULL      |NULL        |NULL       |NULL           |\n",
      "|NULL                          |NULL      |NULL      |NULL       |NULL           |rkelwickj@baidu.com              |Rosemonde |Kelwick     |Genderfluid|42.50.134.65   |\n",
      "|NULL                          |NULL      |NULL      |NULL       |NULL           |skemsleyh@quantcast.com          |Shir      |Kemsley     |Male       |234.195.73.177 |\n",
      "|tgavahan3@printfriendly.com   |Ted       |Gavahan   |Female     |216.80.86.100  |NULL                             |NULL      |NULL        |NULL       |NULL           |\n",
      "|zlendrem6@columbia.edu        |Zorina    |Lendrem   |Female     |219.128.213.53 |NULL                             |NULL      |NULL        |NULL       |NULL           |\n",
      "+------------------------------+----------+----------+-----------+---------------+---------------------------------+----------+------------+-----------+---------------+\n",
      "\n"
     ]
    }
   ],
   "source": [
    "users1_df.join(users2_df, 'email', 'full').show(truncate=False)\n",
    "users1_df.join(users2_df, users1_df.email==users2_df.email, 'full').show(truncate=False)"
   ]
  },
  {
   "cell_type": "code",
   "execution_count": 80,
   "id": "fb6fb2a7-2758-4943-8045-3b5f72006048",
   "metadata": {
    "execution": {
     "iopub.execute_input": "2024-06-21T19:20:19.045348Z",
     "iopub.status.busy": "2024-06-21T19:20:19.044736Z",
     "iopub.status.idle": "2024-06-21T19:20:20.249718Z",
     "shell.execute_reply": "2024-06-21T19:20:20.249411Z",
     "shell.execute_reply.started": "2024-06-21T19:20:19.045315Z"
    }
   },
   "outputs": [
    {
     "name": "stdout",
     "output_type": "stream",
     "text": [
      "+--------------------+----------+----------+-----------+---------------+----------+----------+-----------+---------------+\n",
      "|               email|first_name| last_name|     gender|     ip_address|first_name| last_name|     gender|     ip_address|\n",
      "+--------------------+----------+----------+-----------+---------------+----------+----------+-----------+---------------+\n",
      "| alovett0@nsw.gov.au|   Aundrea|    Lovett|       Male|    62.72.1.143|      NULL|      NULL|       NULL|           NULL|\n",
      "|bjowling1@spiegel.de|   Bettine|   Jowling|     Female|  26.250.197.47|      NULL|      NULL|       NULL|           NULL|\n",
      "|rablitt2@technora...|    Reggie|    Ablitt|       Male|104.181.218.238|      NULL|      NULL|       NULL|           NULL|\n",
      "|tgavahan3@printfr...|       Ted|   Gavahan|     Female|  216.80.86.100|      NULL|      NULL|       NULL|           NULL|\n",
      "|ccastellan4@blogl...|   Chantal| Castellan|     Female|  178.93.82.145|      NULL|      NULL|       NULL|           NULL|\n",
      "| hcurrier5@hexun.com|   Herrick|   Currier|       Male|    98.120.5.78|      NULL|      NULL|       NULL|           NULL|\n",
      "|zlendrem6@columbi...|    Zorina|   Lendrem|     Female| 219.128.213.53|      NULL|      NULL|       NULL|           NULL|\n",
      "|  lbutland7@time.com|     Lilas|   Butland|     Female|109.110.131.151|     Lilas|   Butland|     Female|109.110.131.151|\n",
      "|palfonsetti8@ask.com|    Putnam|Alfonsetti|     Female|  167.97.48.246|    Putnam|Alfonsetti|     Female|  167.97.48.246|\n",
      "|hunitt9@bizjourna...|    Holden|     Unitt|     Female|142.228.161.192|    Holden|     Unitt|     Female|142.228.161.192|\n",
      "|afaulconerb@barne...|    Andris| Faulconer|     Female| 109.40.175.103|    Andris| Faulconer|     Female| 109.40.175.103|\n",
      "|dmcmorrana@refere...|    Dorice|  McMorran|     Female|   233.1.28.220|    Dorice|  McMorran|     Female|   233.1.28.220|\n",
      "|      kupexc@sun.com|   Krispin|      Upex|       Male|  154.110.22.75|   Krispin|      Upex|       Male|  154.110.22.75|\n",
      "|kdodgshune@google...|  Kellyann|  Dodgshun|     Female| 80.247.105.228|  Kellyann|  Dodgshun|     Female| 80.247.105.228|\n",
      "|fmancktelowd@youk...|    Farand|Mancktelow|Genderqueer|  190.20.187.10|    Farand|Mancktelow|Genderqueer|  190.20.187.10|\n",
      "|  lbutland7@time.com|     Lilas|   Butland|     Female|109.110.131.151|     Lilas|   Butland|     Female|109.110.131.151|\n",
      "|palfonsetti8@ask.com|    Putnam|Alfonsetti|     Female|  167.97.48.246|    Putnam|Alfonsetti|     Female|  167.97.48.246|\n",
      "|hunitt9@bizjourna...|    Holden|     Unitt|     Female|142.228.161.192|    Holden|     Unitt|     Female|142.228.161.192|\n",
      "|afaulconerb@barne...|    Andris| Faulconer|     Female| 109.40.175.103|    Andris| Faulconer|     Female| 109.40.175.103|\n",
      "|dmcmorrana@refere...|    Dorice|  McMorran|     Female|   233.1.28.220|    Dorice|  McMorran|     Female|   233.1.28.220|\n",
      "+--------------------+----------+----------+-----------+---------------+----------+----------+-----------+---------------+\n",
      "only showing top 20 rows\n",
      "\n"
     ]
    },
    {
     "data": {
      "text/plain": [
       "(28, 20)"
      ]
     },
     "execution_count": 80,
     "metadata": {},
     "output_type": "execute_result"
    }
   ],
   "source": [
    "users1_df. \\\n",
    "    join(users2_df, 'email', 'left'). \\\n",
    "    union(users1_df.join(users2_df, 'email', 'right')). \\\n",
    "    show()\n",
    "\n",
    "# 8 records are filtered out after distinct which is a desired result\n",
    "users1_df. \\\n",
    "    join(users2_df, 'email', 'left'). \\\n",
    "    union(users1_df.join(users2_df, 'email', 'right')). \\\n",
    "    count(), \\\n",
    "users1_df. \\\n",
    "    join(users2_df, 'email', 'left'). \\\n",
    "    union(users1_df.join(users2_df, 'email', 'right')). \\\n",
    "    distinct(). \\\n",
    "    count()"
   ]
  },
  {
   "cell_type": "code",
   "execution_count": 90,
   "id": "0620dc31-6f7f-4b23-9e91-516e3ee45adc",
   "metadata": {
    "execution": {
     "iopub.execute_input": "2024-06-21T19:29:26.589424Z",
     "iopub.status.busy": "2024-06-21T19:29:26.588868Z",
     "iopub.status.idle": "2024-06-21T19:29:27.002134Z",
     "shell.execute_reply": "2024-06-21T19:29:27.001907Z",
     "shell.execute_reply.started": "2024-06-21T19:29:26.589396Z"
    }
   },
   "outputs": [
    {
     "name": "stdout",
     "output_type": "stream",
     "text": [
      "+--------------------+----------+------------+-----------+---------------+\n",
      "|               email|first_name|   last_name|     gender|     ip_address|\n",
      "+--------------------+----------+------------+-----------+---------------+\n",
      "|afaulconerb@barne...|    Andris|   Faulconer|     Female| 109.40.175.103|\n",
      "| alovett0@nsw.gov.au|   Aundrea|      Lovett|       Male|    62.72.1.143|\n",
      "|   amillinsg@com.com|  Adelaide|     Millins|     Female| 75.160.220.182|\n",
      "|bjowling1@spiegel.de|   Bettine|     Jowling|     Female|  26.250.197.47|\n",
      "|ccastellan4@blogl...|   Chantal|   Castellan|     Female|  178.93.82.145|\n",
      "|dmcmorrana@refere...|    Dorice|    McMorran|     Female|   233.1.28.220|\n",
      "|fmancktelowd@youk...|    Farand|  Mancktelow|Genderqueer|  190.20.187.10|\n",
      "| hcurrier5@hexun.com|   Herrick|     Currier|       Male|    98.120.5.78|\n",
      "|hunitt9@bizjourna...|    Holden|       Unitt|     Female|142.228.161.192|\n",
      "|kbaressf@geocitie...|     Karly|      Baress|     Female|145.232.153.145|\n",
      "|kchomiszewskii@si...|    Kristo|Chomiszewski|     Female|   60.91.73.198|\n",
      "|kdodgshune@google...|  Kellyann|    Dodgshun|     Female| 80.247.105.228|\n",
      "|      kupexc@sun.com|   Krispin|        Upex|       Male|  154.110.22.75|\n",
      "|  lbutland7@time.com|     Lilas|     Butland|     Female|109.110.131.151|\n",
      "|palfonsetti8@ask.com|    Putnam|  Alfonsetti|     Female|  167.97.48.246|\n",
      "|rablitt2@technora...|    Reggie|      Ablitt|       Male|104.181.218.238|\n",
      "| rkelwickj@baidu.com| Rosemonde|     Kelwick|Genderfluid|   42.50.134.65|\n",
      "|skemsleyh@quantca...|      Shir|     Kemsley|       Male| 234.195.73.177|\n",
      "|tgavahan3@printfr...|       Ted|     Gavahan|     Female|  216.80.86.100|\n",
      "|zlendrem6@columbi...|    Zorina|     Lendrem|     Female| 219.128.213.53|\n",
      "+--------------------+----------+------------+-----------+---------------+\n",
      "\n",
      "+--------------------+----------+------------+-----------+---------------+\n",
      "|               email|first_name|   last_name|     gender|     ip_address|\n",
      "+--------------------+----------+------------+-----------+---------------+\n",
      "|afaulconerb@barne...|    Andris|   Faulconer|     Female| 109.40.175.103|\n",
      "| alovett0@nsw.gov.au|   Aundrea|      Lovett|       Male|    62.72.1.143|\n",
      "|   amillinsg@com.com|  Adelaide|     Millins|     Female| 75.160.220.182|\n",
      "|bjowling1@spiegel.de|   Bettine|     Jowling|     Female|  26.250.197.47|\n",
      "|ccastellan4@blogl...|   Chantal|   Castellan|     Female|  178.93.82.145|\n",
      "|dmcmorrana@refere...|    Dorice|    McMorran|     Female|   233.1.28.220|\n",
      "|fmancktelowd@youk...|    Farand|  Mancktelow|Genderqueer|  190.20.187.10|\n",
      "| hcurrier5@hexun.com|   Herrick|     Currier|       Male|    98.120.5.78|\n",
      "|hunitt9@bizjourna...|    Holden|       Unitt|     Female|142.228.161.192|\n",
      "|kbaressf@geocitie...|     Karly|      Baress|     Female|145.232.153.145|\n",
      "|kchomiszewskii@si...|    Kristo|Chomiszewski|     Female|   60.91.73.198|\n",
      "|kdodgshune@google...|  Kellyann|    Dodgshun|     Female| 80.247.105.228|\n",
      "|      kupexc@sun.com|   Krispin|        Upex|       Male|  154.110.22.75|\n",
      "|  lbutland7@time.com|     Lilas|     Butland|     Female|109.110.131.151|\n",
      "|palfonsetti8@ask.com|    Putnam|  Alfonsetti|     Female|  167.97.48.246|\n",
      "|rablitt2@technora...|    Reggie|      Ablitt|       Male|104.181.218.238|\n",
      "| rkelwickj@baidu.com| Rosemonde|     Kelwick|Genderfluid|   42.50.134.65|\n",
      "|skemsleyh@quantca...|      Shir|     Kemsley|       Male| 234.195.73.177|\n",
      "|tgavahan3@printfr...|       Ted|     Gavahan|     Female|  216.80.86.100|\n",
      "|zlendrem6@columbi...|    Zorina|     Lendrem|     Female| 219.128.213.53|\n",
      "+--------------------+----------+------------+-----------+---------------+\n",
      "\n"
     ]
    }
   ],
   "source": [
    "from pyspark.sql.functions import coalesce\n",
    "users1_df. \\\n",
    "    join(users2_df, 'email', 'full'). \\\n",
    "    select(\n",
    "            'email',\n",
    "            coalesce(users1_df.first_name, users2_df.first_name).alias('first_name'),\n",
    "            coalesce(users1_df.last_name, users2_df.last_name).alias('last_name'),\n",
    "            coalesce(users1_df.gender, users2_df.gender).alias('gender'),\n",
    "            coalesce(users1_df.ip_address, users2_df.ip_address).alias('ip_address'),\n",
    "          ). \\\n",
    "    show()\n",
    "#using aliases\n",
    "users1_df.alias('u1'). \\\n",
    "    join(users2_df.alias('u2'), 'email', 'full'). \\\n",
    "    select(\n",
    "            'email',\n",
    "            coalesce('u1.first_name', 'u2.first_name').alias('first_name'),\n",
    "            coalesce('u1.last_name', 'u2.last_name').alias('last_name'),\n",
    "            coalesce('u1.gender', 'u2.gender').alias('gender'),\n",
    "            coalesce('u1.ip_address', 'u2.ip_address').alias('ip_address'),\n",
    "          ). \\\n",
    "    show()"
   ]
  },
  {
   "cell_type": "markdown",
   "id": "f291f28b-485d-481e-85d2-d65e9e243f06",
   "metadata": {},
   "source": [
    "## Overview of broadcast join in Spark Data Frames\n",
    "* known as map side or replicated join\n",
    "* the similar data set will be broadcasted to all exetors in the cluster\n",
    "* the size of the smaller data set is driven by the `spark.sql.autoBroadcastJoinThreshold`,\n",
    "* broadcast join can be performed when the smaller data set size is grate than `spark.sql.autoBroadcastJoinThreshold` by using `broadcast` function from `pyspark.sql.functions`\n",
    "* broadcast join can be disabled by setting `spark.sql.autoBroadcastJoinThreshold` value to 0\n",
    "* if broadcast join is disabled it results in reduce side join\n",
    "* make sure to setup multi-node cluster with 28GB memory and 4 cores each. Configure scaling between 2 and 4 nodes. Driver can be of minimum configuration."
   ]
  },
  {
   "cell_type": "code",
   "execution_count": 92,
   "id": "60e5c2e7-b84b-4be2-a2c0-0548a68255dc",
   "metadata": {
    "execution": {
     "iopub.execute_input": "2024-06-21T19:42:01.074486Z",
     "iopub.status.busy": "2024-06-21T19:42:01.074116Z",
     "iopub.status.idle": "2024-06-21T19:42:01.084600Z",
     "shell.execute_reply": "2024-06-21T19:42:01.082326Z",
     "shell.execute_reply.started": "2024-06-21T19:42:01.074462Z"
    }
   },
   "outputs": [
    {
     "data": {
      "text/plain": [
       "'10485760b'"
      ]
     },
     "execution_count": 92,
     "metadata": {},
     "output_type": "execute_result"
    }
   ],
   "source": [
    "spark.conf.get('spark.sql.autoBroadcastJoinThreshold')"
   ]
  },
  {
   "cell_type": "code",
   "execution_count": 96,
   "id": "9f7c66f9-10fd-4e7f-a4b1-825c926d88c4",
   "metadata": {
    "execution": {
     "iopub.execute_input": "2024-06-21T19:53:15.118674Z",
     "iopub.status.busy": "2024-06-21T19:53:15.118102Z",
     "iopub.status.idle": "2024-06-21T19:53:15.131580Z",
     "shell.execute_reply": "2024-06-21T19:53:15.131017Z",
     "shell.execute_reply.started": "2024-06-21T19:53:15.118643Z"
    }
   },
   "outputs": [
    {
     "data": {
      "text/plain": [
       "'0'"
      ]
     },
     "execution_count": 96,
     "metadata": {},
     "output_type": "execute_result"
    }
   ],
   "source": [
    "#disable broadcast join by setting the value to 0 - reduce side join only\n",
    "spark.conf.set('spark.sql.autoBroadcastJoinThreshold', '0')\n",
    "spark.conf.get('spark.sql.autoBroadcastJoinThreshold')"
   ]
  },
  {
   "cell_type": "code",
   "execution_count": 9,
   "id": "43417fc8-ec98-4834-9b60-62b1fe75c6a5",
   "metadata": {
    "execution": {
     "iopub.execute_input": "2024-06-21T21:34:41.543309Z",
     "iopub.status.busy": "2024-06-21T21:34:41.542594Z",
     "iopub.status.idle": "2024-06-21T21:34:41.558091Z",
     "shell.execute_reply": "2024-06-21T21:34:41.557214Z",
     "shell.execute_reply.started": "2024-06-21T21:34:41.543261Z"
    }
   },
   "outputs": [
    {
     "data": {
      "text/plain": [
       "'10485760b'"
      ]
     },
     "execution_count": 9,
     "metadata": {},
     "output_type": "execute_result"
    }
   ],
   "source": [
    "# resetting back to original value\n",
    "spark.conf.set('spark.sql.autoBroadcastJoinThreshold', '10485760b')\n",
    "spark.conf.get('spark.sql.autoBroadcastJoinThreshold')"
   ]
  },
  {
   "cell_type": "code",
   "execution_count": 10,
   "id": "21d7bc69-b69c-45ff-b7e6-a1dc39a93c1f",
   "metadata": {
    "execution": {
     "iopub.execute_input": "2024-06-21T21:34:47.790850Z",
     "iopub.status.busy": "2024-06-21T21:34:47.790312Z",
     "iopub.status.idle": "2024-06-21T21:34:47.845043Z",
     "shell.execute_reply": "2024-06-21T21:34:47.844726Z",
     "shell.execute_reply.started": "2024-06-21T21:34:47.790821Z"
    }
   },
   "outputs": [
    {
     "name": "stdout",
     "output_type": "stream",
     "text": [
      "== Physical Plan ==\n",
      "AdaptiveSparkPlan isFinalPlan=false\n",
      "+- Project [email#0, first_name#1, last_name#2, gender#3, ip_address#4, first_name#63, last_name#64, gender#65, ip_address#66]\n",
      "   +- SortMergeJoin [email#0], [email#62], Inner\n",
      "      :- Sort [email#0 ASC NULLS FIRST], false, 0\n",
      "      :  +- Exchange hashpartitioning(email#0, 200), ENSURE_REQUIREMENTS, [plan_id=336]\n",
      "      :     +- Filter isnotnull(email#0)\n",
      "      :        +- Scan ExistingRDD[email#0,first_name#1,last_name#2,gender#3,ip_address#4]\n",
      "      +- Sort [email#62 ASC NULLS FIRST], false, 0\n",
      "         +- Exchange hashpartitioning(email#62, 200), ENSURE_REQUIREMENTS, [plan_id=337]\n",
      "            +- Filter isnotnull(email#62)\n",
      "               +- Scan ExistingRDD[email#62,first_name#63,last_name#64,gender#65,ip_address#66]\n",
      "\n",
      "\n",
      "== Physical Plan ==\n",
      "AdaptiveSparkPlan isFinalPlan=false\n",
      "+- Project [email#0, first_name#1, last_name#2, gender#3, ip_address#4, first_name#63, last_name#64, gender#65, ip_address#66]\n",
      "   +- BroadcastHashJoin [email#0], [email#62], Inner, BuildLeft, false\n",
      "      :- BroadcastExchange HashedRelationBroadcastMode(List(input[0, string, false]),false), [plan_id=366]\n",
      "      :  +- Filter isnotnull(email#0)\n",
      "      :     +- Scan ExistingRDD[email#0,first_name#1,last_name#2,gender#3,ip_address#4]\n",
      "      +- Filter isnotnull(email#62)\n",
      "         +- Scan ExistingRDD[email#62,first_name#63,last_name#64,gender#65,ip_address#66]\n",
      "\n",
      "\n"
     ]
    }
   ],
   "source": [
    "users1_df.join(users2_df, 'email').explain()\n",
    "\n",
    "from pyspark.sql.functions import broadcast\n",
    "broadcast(users1_df).join(users2_df, 'email').explain()"
   ]
  },
  {
   "cell_type": "markdown",
   "id": "d5d46be7-a479-42f8-ab62-cd2826d150a2",
   "metadata": {},
   "source": [
    "## Cross join using Spark Data Frames"
   ]
  },
  {
   "cell_type": "code",
   "execution_count": 24,
   "id": "fa350bd9-2992-444b-9132-11f105e5070d",
   "metadata": {
    "execution": {
     "iopub.execute_input": "2024-06-21T21:43:11.180952Z",
     "iopub.status.busy": "2024-06-21T21:43:11.180213Z",
     "iopub.status.idle": "2024-06-21T21:43:11.564360Z",
     "shell.execute_reply": "2024-06-21T21:43:11.564125Z",
     "shell.execute_reply.started": "2024-06-21T21:43:11.180916Z"
    }
   },
   "outputs": [
    {
     "data": {
      "text/plain": [
       "(15, 13, 195)"
      ]
     },
     "execution_count": 24,
     "metadata": {},
     "output_type": "execute_result"
    }
   ],
   "source": [
    "users1_df.count(), \\\n",
    "users2_df.count(), \\\n",
    "users1_df.count() * users2_df.count()"
   ]
  },
  {
   "cell_type": "code",
   "execution_count": 22,
   "id": "c3849b40-ffbb-4eed-b8db-65fb2827e7da",
   "metadata": {
    "execution": {
     "iopub.execute_input": "2024-06-21T21:41:31.504228Z",
     "iopub.status.busy": "2024-06-21T21:41:31.503373Z",
     "iopub.status.idle": "2024-06-21T21:41:37.158471Z",
     "shell.execute_reply": "2024-06-21T21:41:37.158160Z",
     "shell.execute_reply.started": "2024-06-21T21:41:31.504180Z"
    }
   },
   "outputs": [
    {
     "name": "stderr",
     "output_type": "stream",
     "text": [
      "                                                                                \r"
     ]
    },
    {
     "data": {
      "text/plain": [
       "(8, 195, 195, 195, 195)"
      ]
     },
     "execution_count": 22,
     "metadata": {},
     "output_type": "execute_result"
    }
   ],
   "source": [
    "# crossJoin or inner join without join condition result is cartesian product\n",
    "users1_df.join(users2_df, 'email').count(), \\\n",
    "users1_df.crossJoin(users2_df).count(), \\\n",
    "users1_df.join(users2_df).count(), \\\n",
    "users1_df.join(users2_df, None, 'cross').count(), \\\n",
    "users1_df.join(users2_df, how='cross').count()"
   ]
  }
 ],
 "metadata": {
  "kernelspec": {
   "display_name": "Python 3 (ipykernel)",
   "language": "python",
   "name": "python3"
  },
  "language_info": {
   "codemirror_mode": {
    "name": "ipython",
    "version": 3
   },
   "file_extension": ".py",
   "mimetype": "text/x-python",
   "name": "python",
   "nbconvert_exporter": "python",
   "pygments_lexer": "ipython3",
   "version": "3.11.9"
  }
 },
 "nbformat": 4,
 "nbformat_minor": 5
}
