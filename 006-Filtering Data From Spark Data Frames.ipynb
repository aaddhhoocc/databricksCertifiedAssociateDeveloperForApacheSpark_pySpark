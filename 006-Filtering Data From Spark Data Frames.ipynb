{
 "cells": [
  {
   "cell_type": "code",
   "execution_count": 1,
   "id": "f74c832a-a9c9-47ec-8feb-72214bc9e441",
   "metadata": {
    "execution": {
     "iopub.execute_input": "2024-06-13T19:24:36.271873Z",
     "iopub.status.busy": "2024-06-13T19:24:36.271244Z",
     "iopub.status.idle": "2024-06-13T19:24:43.088713Z",
     "shell.execute_reply": "2024-06-13T19:24:43.088353Z",
     "shell.execute_reply.started": "2024-06-13T19:24:36.271833Z"
    }
   },
   "outputs": [
    {
     "name": "stderr",
     "output_type": "stream",
     "text": [
      "Setting default log level to \"WARN\".\n",
      "To adjust logging level use sc.setLogLevel(newLevel). For SparkR, use setLogLevel(newLevel).\n",
      "24/06/13 21:24:42 WARN NativeCodeLoader: Unable to load native-hadoop library for your platform... using builtin-java classes where applicable\n"
     ]
    }
   ],
   "source": [
    "from pyspark.sql import SparkSession\n",
    "spark = SparkSession.builder.appName('instance').getOrCreate()\n",
    "\n",
    "#spark.conf.set('spark.sql.execution.arrow.pyspark.enabled', True)\n",
    "#spark.conf.get('spark.sql.execution.arrow.pyspark.enabled')"
   ]
  },
  {
   "cell_type": "code",
   "execution_count": 2,
   "id": "ece24bbb-f276-4942-8e76-a6bbcaeb68b9",
   "metadata": {
    "execution": {
     "iopub.execute_input": "2024-06-13T19:24:43.095256Z",
     "iopub.status.busy": "2024-06-13T19:24:43.095155Z",
     "iopub.status.idle": "2024-06-13T19:24:45.948573Z",
     "shell.execute_reply": "2024-06-13T19:24:45.948327Z",
     "shell.execute_reply.started": "2024-06-13T19:24:43.095246Z"
    }
   },
   "outputs": [
    {
     "name": "stderr",
     "output_type": "stream",
     "text": [
      "                                                                                \r"
     ]
    },
    {
     "name": "stdout",
     "output_type": "stream",
     "text": [
      "+---+----------+------------+-------------------------+------+-------------+----------------------------------+-------+-----------+-----------+-------------+-------------------+\n",
      "|id |first_name|last_name   |email                    |gender|current_city |phone_numbers                     |courses|is_customer|amount_paid|customer_from|last_updated_ts    |\n",
      "+---+----------+------------+-------------------------+------+-------------+----------------------------------+-------+-----------+-----------+-------------+-------------------+\n",
      "|1  |Corrie    |Van den Oord|cvandenoord0@etsy.com    |male  |Dallas       |{+1 234 567 8901, +1 234 567 8911}|[1, 2] |true       |1000.55    |2021-01-15   |2021-02-10 01:15:00|\n",
      "|2  |Nikolaus  |Brewitt     |nbrewitt1@dailymail.co.uk|male  |Huston       |{+1 234 567 8923, 1 234 567 8934} |[3]    |true       |900.0      |2021-02-14   |2021-02-18 03:33:00|\n",
      "|3  |Orelie    |Penney      |openney2@vistaprint.com  |female|             |{+1 714 512 9752, +1 714 512 6601}|[2, 4] |true       |850.55     |2021-01-21   |2021-03-15 15:16:55|\n",
      "|4  |Ashby     |Maddocks    |amaddocks3@home.pl       |male  |San Francisco|{NULL, NULL}                      |[]     |false      |NaN        |NULL         |2021-04-10 17:45:30|\n",
      "|5  |Kurt      |Rome        |krome4@shutterfly.com    |female|NULL         |{+1 817 934 7142, NULL}           |[]     |false      |NaN        |NULL         |2021-04-02 00:55:18|\n",
      "+---+----------+------------+-------------------------+------+-------------+----------------------------------+-------+-----------+-----------+-------------+-------------------+\n",
      "\n",
      "root\n",
      " |-- id: long (nullable = true)\n",
      " |-- first_name: string (nullable = true)\n",
      " |-- last_name: string (nullable = true)\n",
      " |-- email: string (nullable = true)\n",
      " |-- gender: string (nullable = true)\n",
      " |-- current_city: string (nullable = true)\n",
      " |-- phone_numbers: struct (nullable = true)\n",
      " |    |-- mobile: string (nullable = true)\n",
      " |    |-- home: string (nullable = true)\n",
      " |-- courses: array (nullable = true)\n",
      " |    |-- element: long (containsNull = true)\n",
      " |-- is_customer: boolean (nullable = true)\n",
      " |-- amount_paid: double (nullable = true)\n",
      " |-- customer_from: date (nullable = true)\n",
      " |-- last_updated_ts: timestamp (nullable = true)\n",
      "\n"
     ]
    }
   ],
   "source": [
    "from pyspark.sql import Row\n",
    "import datetime\n",
    "import pandas as pd\n",
    "\n",
    "users = [\n",
    "    {\n",
    "        \"id\": 1,\n",
    "        \"first_name\": \"Corrie\",\n",
    "        \"last_name\": \"Van den Oord\",\n",
    "        \"email\": \"cvandenoord0@etsy.com\",\n",
    "        \"gender\": \"male\",\n",
    "        \"current_city\": \"Dallas\",\n",
    "        \"phone_numbers\": Row(mobile=\"+1 234 567 8901\", home=\"+1 234 567 8911\"),\n",
    "        \"courses\": [1, 2],\n",
    "        \"is_customer\": True,\n",
    "        \"amount_paid\": 1000.55,\n",
    "        \"customer_from\": datetime.date(2021, 1, 15),\n",
    "        \"last_updated_ts\": datetime.datetime(2021, 2, 10, 1, 15, 0)\n",
    "    },\n",
    "    {\n",
    "        \"id\": 2,\n",
    "        \"first_name\": \"Nikolaus\",\n",
    "        \"last_name\": \"Brewitt\",\n",
    "        \"email\": \"nbrewitt1@dailymail.co.uk\",\n",
    "        \"gender\": \"male\",\n",
    "        \"current_city\": \"Huston\",\n",
    "        \"phone_numbers\":  Row(mobile=\"+1 234 567 8923\", home=\"1 234 567 8934\"),\n",
    "        \"courses\": [3],\n",
    "        \"is_customer\": True,\n",
    "        \"amount_paid\": 900.0,\n",
    "        \"customer_from\": datetime.date(2021, 2, 14),\n",
    "        \"last_updated_ts\": datetime.datetime(2021, 2, 18, 3, 33, 0)\n",
    "    },\n",
    "    {\n",
    "        \"id\": 3,\n",
    "        \"first_name\": \"Orelie\",\n",
    "        \"last_name\": \"Penney\",\n",
    "        \"email\": \"openney2@vistaprint.com\",\n",
    "        \"gender\": \"female\",\n",
    "        \"current_city\": \"\",\n",
    "        \"phone_numbers\": Row(mobile=\"+1 714 512 9752\", home=\"+1 714 512 6601\"),\n",
    "        \"courses\": [2, 4],\n",
    "        \"is_customer\": True,\n",
    "        \"amount_paid\": 850.55,\n",
    "        \"customer_from\": datetime.date(2021, 1, 21),\n",
    "        \"last_updated_ts\": datetime.datetime(2021, 3, 15, 15, 16, 55)\n",
    "    },\n",
    "    {\n",
    "        \"id\": 4,\n",
    "        \"first_name\": \"Ashby\",\n",
    "        \"last_name\": \"Maddocks\",\n",
    "        \"email\": \"amaddocks3@home.pl\",\n",
    "        \"gender\": \"male\",\n",
    "        \"current_city\": \"San Francisco\",\n",
    "        \"phone_numbers\": Row(mobile=None, home=None),\n",
    "        \"courses\": [],\n",
    "        \"is_customer\": False,\n",
    "        \"amount_paid\": None,\n",
    "        \"customer_from\": None,\n",
    "        \"last_updated_ts\": datetime.datetime(2021, 4, 10, 17, 45, 30)\n",
    "    },\n",
    "    {\n",
    "        \"id\": 5,\n",
    "        \"first_name\": \"Kurt\",\n",
    "        \"last_name\": \"Rome\",\n",
    "        \"email\": \"krome4@shutterfly.com\",\n",
    "        \"gender\": \"female\",\n",
    "        \"current_city\": None,\n",
    "        \"phone_numbers\": Row(mobile=\"+1 817 934 7142\", home=None),\n",
    "        \"courses\": [],\n",
    "        \"is_customer\": False,\n",
    "        \"amount_paid\": None,\n",
    "        \"customer_from\": None,\n",
    "        \"last_updated_ts\": datetime.datetime(2021, 4, 2, 0, 55, 18)\n",
    "    }\n",
    "]\n",
    "users_df = spark.createDataFrame(pd.DataFrame(users));\n",
    "users_df.show(truncate=False)\n",
    "users_df.printSchema()"
   ]
  },
  {
   "cell_type": "markdown",
   "id": "457f9bca-b2fd-4116-b1e6-852e668409e2",
   "metadata": {},
   "source": [
    "## Overview of Filter or Where Function on Spark Data Spark"
   ]
  },
  {
   "cell_type": "code",
   "execution_count": 22,
   "id": "ce21c63e-5834-4355-92c6-b6e86cb5e553",
   "metadata": {
    "execution": {
     "iopub.execute_input": "2024-06-13T14:43:15.014666Z",
     "iopub.status.busy": "2024-06-13T14:43:15.014098Z",
     "iopub.status.idle": "2024-06-13T14:43:15.948012Z",
     "shell.execute_reply": "2024-06-13T14:43:15.947054Z",
     "shell.execute_reply.started": "2024-06-13T14:43:15.014637Z"
    }
   },
   "outputs": [
    {
     "name": "stdout",
     "output_type": "stream",
     "text": [
      "+---+----------+------------+--------------------+--------------------+-------+-----------+-----------+-------------+-------------------+\n",
      "| id|first_name|   last_name|               email|       phone_numbers|courses|is_customer|amount_paid|customer_from|    last_updated_ts|\n",
      "+---+----------+------------+--------------------+--------------------+-------+-----------+-----------+-------------+-------------------+\n",
      "|  1|    Corrie|Van den Oord|cvandenoord0@etsy...|{+1 234 567 8901,...| [1, 2]|       true|    1000.55|   2021-01-15|2021-02-10 01:15:00|\n",
      "+---+----------+------------+--------------------+--------------------+-------+-----------+-----------+-------------+-------------------+\n",
      "\n",
      "+---+----------+------------+--------------------+--------------------+-------+-----------+-----------+-------------+-------------------+\n",
      "| id|first_name|   last_name|               email|       phone_numbers|courses|is_customer|amount_paid|customer_from|    last_updated_ts|\n",
      "+---+----------+------------+--------------------+--------------------+-------+-----------+-----------+-------------+-------------------+\n",
      "|  1|    Corrie|Van den Oord|cvandenoord0@etsy...|{+1 234 567 8901,...| [1, 2]|       true|    1000.55|   2021-01-15|2021-02-10 01:15:00|\n",
      "+---+----------+------------+--------------------+--------------------+-------+-----------+-----------+-------------+-------------------+\n",
      "\n",
      "+---+----------+------------+--------------------+--------------------+-------+-----------+-----------+-------------+-------------------+\n",
      "| id|first_name|   last_name|               email|       phone_numbers|courses|is_customer|amount_paid|customer_from|    last_updated_ts|\n",
      "+---+----------+------------+--------------------+--------------------+-------+-----------+-----------+-------------+-------------------+\n",
      "|  1|    Corrie|Van den Oord|cvandenoord0@etsy...|{+1 234 567 8901,...| [1, 2]|       true|    1000.55|   2021-01-15|2021-02-10 01:15:00|\n",
      "+---+----------+------------+--------------------+--------------------+-------+-----------+-----------+-------------+-------------------+\n",
      "\n",
      "+---+----------+------------+--------------------+--------------------+-------+-----------+-----------+-------------+-------------------+\n",
      "| id|first_name|   last_name|               email|       phone_numbers|courses|is_customer|amount_paid|customer_from|    last_updated_ts|\n",
      "+---+----------+------------+--------------------+--------------------+-------+-----------+-----------+-------------+-------------------+\n",
      "|  1|    Corrie|Van den Oord|cvandenoord0@etsy...|{+1 234 567 8901,...| [1, 2]|       true|    1000.55|   2021-01-15|2021-02-10 01:15:00|\n",
      "+---+----------+------------+--------------------+--------------------+-------+-----------+-----------+-------------+-------------------+\n",
      "\n",
      "+---+----------+------------+--------------------+--------------------+-------+-----------+-----------+-------------+-------------------+\n",
      "| id|first_name|   last_name|               email|       phone_numbers|courses|is_customer|amount_paid|customer_from|    last_updated_ts|\n",
      "+---+----------+------------+--------------------+--------------------+-------+-----------+-----------+-------------+-------------------+\n",
      "|  1|    Corrie|Van den Oord|cvandenoord0@etsy...|{+1 234 567 8901,...| [1, 2]|       true|    1000.55|   2021-01-15|2021-02-10 01:15:00|\n",
      "+---+----------+------------+--------------------+--------------------+-------+-----------+-----------+-------------+-------------------+\n",
      "\n"
     ]
    }
   ],
   "source": [
    "#filter and where are synonyms\n",
    "\n",
    "from pyspark.sql.functions import col\n",
    "users_df.filter(col('id')==1).show()\n",
    "users_df.where(col('id')==1).show()\n",
    "users_df.filter(users_df['id']==1).show()\n",
    "users_df.where(users_df['id']==1).show()"
   ]
  },
  {
   "cell_type": "code",
   "execution_count": 24,
   "id": "1cf77672-37d2-4fe1-a8a1-13c519ae82d5",
   "metadata": {
    "execution": {
     "iopub.execute_input": "2024-06-13T14:44:30.192461Z",
     "iopub.status.busy": "2024-06-13T14:44:30.191239Z",
     "iopub.status.idle": "2024-06-13T14:44:30.746253Z",
     "shell.execute_reply": "2024-06-13T14:44:30.745867Z",
     "shell.execute_reply.started": "2024-06-13T14:44:30.192411Z"
    }
   },
   "outputs": [
    {
     "name": "stdout",
     "output_type": "stream",
     "text": [
      "+---+----------+------------+--------------------+--------------------+-------+-----------+-----------+-------------+-------------------+\n",
      "| id|first_name|   last_name|               email|       phone_numbers|courses|is_customer|amount_paid|customer_from|    last_updated_ts|\n",
      "+---+----------+------------+--------------------+--------------------+-------+-----------+-----------+-------------+-------------------+\n",
      "|  1|    Corrie|Van den Oord|cvandenoord0@etsy...|{+1 234 567 8901,...| [1, 2]|       true|    1000.55|   2021-01-15|2021-02-10 01:15:00|\n",
      "+---+----------+------------+--------------------+--------------------+-------+-----------+-----------+-------------+-------------------+\n",
      "\n",
      "+---+----------+------------+--------------------+--------------------+-------+-----------+-----------+-------------+-------------------+\n",
      "| id|first_name|   last_name|               email|       phone_numbers|courses|is_customer|amount_paid|customer_from|    last_updated_ts|\n",
      "+---+----------+------------+--------------------+--------------------+-------+-----------+-----------+-------------+-------------------+\n",
      "|  1|    Corrie|Van den Oord|cvandenoord0@etsy...|{+1 234 567 8901,...| [1, 2]|       true|    1000.55|   2021-01-15|2021-02-10 01:15:00|\n",
      "+---+----------+------------+--------------------+--------------------+-------+-----------+-----------+-------------+-------------------+\n",
      "\n",
      "+---+----------+------------+--------------------+--------------------+-------+-----------+-----------+-------------+-------------------+\n",
      "| id|first_name|   last_name|               email|       phone_numbers|courses|is_customer|amount_paid|customer_from|    last_updated_ts|\n",
      "+---+----------+------------+--------------------+--------------------+-------+-----------+-----------+-------------+-------------------+\n",
      "|  1|    Corrie|Van den Oord|cvandenoord0@etsy...|{+1 234 567 8901,...| [1, 2]|       true|    1000.55|   2021-01-15|2021-02-10 01:15:00|\n",
      "+---+----------+------------+--------------------+--------------------+-------+-----------+-----------+-------------+-------------------+\n",
      "\n"
     ]
    }
   ],
   "source": [
    "# SQL syntax\n",
    "users_df.filter('id = 1').show()\n",
    "users_df.filter('id == 1').show()\n",
    "users_df.where('id = 1').show()"
   ]
  },
  {
   "cell_type": "code",
   "execution_count": 29,
   "id": "3c83cf7b-9b04-46ca-87a7-61a819df1257",
   "metadata": {
    "execution": {
     "iopub.execute_input": "2024-06-13T16:35:16.169389Z",
     "iopub.status.busy": "2024-06-13T16:35:16.168537Z",
     "iopub.status.idle": "2024-06-13T16:35:16.190934Z",
     "shell.execute_reply": "2024-06-13T16:35:16.190264Z",
     "shell.execute_reply.started": "2024-06-13T16:35:16.169337Z"
    }
   },
   "outputs": [],
   "source": [
    "users_df.createOrReplaceTempView('users')"
   ]
  },
  {
   "cell_type": "code",
   "execution_count": 30,
   "id": "166f7e9f-48e6-43f8-afc9-b145114ab12f",
   "metadata": {
    "execution": {
     "iopub.execute_input": "2024-06-13T16:35:22.578064Z",
     "iopub.status.busy": "2024-06-13T16:35:22.577720Z",
     "iopub.status.idle": "2024-06-13T16:35:22.850773Z",
     "shell.execute_reply": "2024-06-13T16:35:22.850415Z",
     "shell.execute_reply.started": "2024-06-13T16:35:22.578042Z"
    }
   },
   "outputs": [
    {
     "name": "stdout",
     "output_type": "stream",
     "text": [
      "+---+----------+------------+--------------------+--------------------+-------+-----------+-----------+-------------+-------------------+\n",
      "| id|first_name|   last_name|               email|       phone_numbers|courses|is_customer|amount_paid|customer_from|    last_updated_ts|\n",
      "+---+----------+------------+--------------------+--------------------+-------+-----------+-----------+-------------+-------------------+\n",
      "|  1|    Corrie|Van den Oord|cvandenoord0@etsy...|{+1 234 567 8901,...| [1, 2]|       true|    1000.55|   2021-01-15|2021-02-10 01:15:00|\n",
      "+---+----------+------------+--------------------+--------------------+-------+-----------+-----------+-------------+-------------------+\n",
      "\n"
     ]
    }
   ],
   "source": [
    "spark.sql(\"\"\"\n",
    "    SELECT *\n",
    "    FROM users\n",
    "    where id=1\n",
    "    \"\"\"). \\\n",
    "    show()"
   ]
  },
  {
   "cell_type": "markdown",
   "id": "8e847fe3-0b93-4ef4-a17c-f78b3d3e06ed",
   "metadata": {
    "jp-MarkdownHeadingCollapsed": true
   },
   "source": [
    "## Overview of Conditions and Operators in Spark Data Frames\n",
    "\n",
    "* Equal -> `=` or `==`\n",
    "* Not Equal -> `=`\n",
    "* Greater Than -> `>`\n",
    "* Less Than -> `<`\n",
    "* Greater Than or Equal To -> `>=`\n",
    "* Less Than or Equal To -> `<=`\n",
    "* IN Operator -> `isin` function or `IN` or `contains` function\n",
    "* Between Operator -> `between` function or `BETWEEN` with `AND`"
   ]
  },
  {
   "cell_type": "markdown",
   "id": "d0f868f8-d3af-48c9-8fa7-3ff60fa69634",
   "metadata": {
    "jp-MarkdownHeadingCollapsed": true
   },
   "source": [
    "## Filter using equal operator"
   ]
  },
  {
   "cell_type": "code",
   "execution_count": 5,
   "id": "fb7d81cd-19c1-45c8-a9e5-90b6299b0adf",
   "metadata": {
    "execution": {
     "iopub.execute_input": "2024-06-13T16:51:52.539613Z",
     "iopub.status.busy": "2024-06-13T16:51:52.538857Z",
     "iopub.status.idle": "2024-06-13T16:51:53.007867Z",
     "shell.execute_reply": "2024-06-13T16:51:53.007394Z",
     "shell.execute_reply.started": "2024-06-13T16:51:52.539560Z"
    }
   },
   "outputs": [
    {
     "name": "stdout",
     "output_type": "stream",
     "text": [
      "+---+----------+------------+--------------------+--------------------+-------+-----------+-----------+-------------+-------------------+\n",
      "| id|first_name|   last_name|               email|       phone_numbers|courses|is_customer|amount_paid|customer_from|    last_updated_ts|\n",
      "+---+----------+------------+--------------------+--------------------+-------+-----------+-----------+-------------+-------------------+\n",
      "|  1|    Corrie|Van den Oord|cvandenoord0@etsy...|{+1 234 567 8901,...| [1, 2]|       true|    1000.55|   2021-01-15|2021-02-10 01:15:00|\n",
      "|  2|  Nikolaus|     Brewitt|nbrewitt1@dailyma...|{+1 234 567 8923,...|    [3]|       true|      900.0|   2021-02-14|2021-02-18 03:33:00|\n",
      "|  3|    Orelie|      Penney|openney2@vistapri...|{+1 714 512 9752,...| [2, 4]|       true|     850.55|   2021-01-21|2021-03-15 15:16:55|\n",
      "+---+----------+------------+--------------------+--------------------+-------+-----------+-----------+-------------+-------------------+\n",
      "\n",
      "+---+----------+------------+--------------------+--------------------+-------+-----------+-----------+-------------+-------------------+\n",
      "| id|first_name|   last_name|               email|       phone_numbers|courses|is_customer|amount_paid|customer_from|    last_updated_ts|\n",
      "+---+----------+------------+--------------------+--------------------+-------+-----------+-----------+-------------+-------------------+\n",
      "|  1|    Corrie|Van den Oord|cvandenoord0@etsy...|{+1 234 567 8901,...| [1, 2]|       true|    1000.55|   2021-01-15|2021-02-10 01:15:00|\n",
      "|  2|  Nikolaus|     Brewitt|nbrewitt1@dailyma...|{+1 234 567 8923,...|    [3]|       true|      900.0|   2021-02-14|2021-02-18 03:33:00|\n",
      "|  3|    Orelie|      Penney|openney2@vistapri...|{+1 714 512 9752,...| [2, 4]|       true|     850.55|   2021-01-21|2021-03-15 15:16:55|\n",
      "+---+----------+------------+--------------------+--------------------+-------+-----------+-----------+-------------+-------------------+\n",
      "\n"
     ]
    }
   ],
   "source": [
    "from pyspark.sql.functions import col\n",
    "\n",
    "users_df.filter(col('is_customer') == True).show()\n",
    "users_df.filter(col('is_customer') == 'true').show()"
   ]
  },
  {
   "cell_type": "code",
   "execution_count": 9,
   "id": "85116411-4356-473c-b21c-2261352d8e2a",
   "metadata": {
    "execution": {
     "iopub.execute_input": "2024-06-13T16:58:07.038397Z",
     "iopub.status.busy": "2024-06-13T16:58:07.037558Z",
     "iopub.status.idle": "2024-06-13T16:58:07.804142Z",
     "shell.execute_reply": "2024-06-13T16:58:07.803737Z",
     "shell.execute_reply.started": "2024-06-13T16:58:07.038344Z"
    }
   },
   "outputs": [
    {
     "name": "stdout",
     "output_type": "stream",
     "text": [
      "+---+----------+------------+--------------------+--------------------+-------+-----------+-----------+-------------+-------------------+\n",
      "| id|first_name|   last_name|               email|       phone_numbers|courses|is_customer|amount_paid|customer_from|    last_updated_ts|\n",
      "+---+----------+------------+--------------------+--------------------+-------+-----------+-----------+-------------+-------------------+\n",
      "|  1|    Corrie|Van den Oord|cvandenoord0@etsy...|{+1 234 567 8901,...| [1, 2]|       true|    1000.55|   2021-01-15|2021-02-10 01:15:00|\n",
      "|  2|  Nikolaus|     Brewitt|nbrewitt1@dailyma...|{+1 234 567 8923,...|    [3]|       true|      900.0|   2021-02-14|2021-02-18 03:33:00|\n",
      "|  3|    Orelie|      Penney|openney2@vistapri...|{+1 714 512 9752,...| [2, 4]|       true|     850.55|   2021-01-21|2021-03-15 15:16:55|\n",
      "+---+----------+------------+--------------------+--------------------+-------+-----------+-----------+-------------+-------------------+\n",
      "\n",
      "+---+----------+------------+--------------------+--------------------+-------+-----------+-----------+-------------+-------------------+\n",
      "| id|first_name|   last_name|               email|       phone_numbers|courses|is_customer|amount_paid|customer_from|    last_updated_ts|\n",
      "+---+----------+------------+--------------------+--------------------+-------+-----------+-----------+-------------+-------------------+\n",
      "|  1|    Corrie|Van den Oord|cvandenoord0@etsy...|{+1 234 567 8901,...| [1, 2]|       true|    1000.55|   2021-01-15|2021-02-10 01:15:00|\n",
      "|  2|  Nikolaus|     Brewitt|nbrewitt1@dailyma...|{+1 234 567 8923,...|    [3]|       true|      900.0|   2021-02-14|2021-02-18 03:33:00|\n",
      "|  3|    Orelie|      Penney|openney2@vistapri...|{+1 714 512 9752,...| [2, 4]|       true|     850.55|   2021-01-21|2021-03-15 15:16:55|\n",
      "+---+----------+------------+--------------------+--------------------+-------+-----------+-----------+-------------+-------------------+\n",
      "\n",
      "+---+----------+------------+--------------------+--------------------+-------+-----------+-----------+-------------+-------------------+\n",
      "| id|first_name|   last_name|               email|       phone_numbers|courses|is_customer|amount_paid|customer_from|    last_updated_ts|\n",
      "+---+----------+------------+--------------------+--------------------+-------+-----------+-----------+-------------+-------------------+\n",
      "|  1|    Corrie|Van den Oord|cvandenoord0@etsy...|{+1 234 567 8901,...| [1, 2]|       true|    1000.55|   2021-01-15|2021-02-10 01:15:00|\n",
      "|  2|  Nikolaus|     Brewitt|nbrewitt1@dailyma...|{+1 234 567 8923,...|    [3]|       true|      900.0|   2021-02-14|2021-02-18 03:33:00|\n",
      "|  3|    Orelie|      Penney|openney2@vistapri...|{+1 714 512 9752,...| [2, 4]|       true|     850.55|   2021-01-21|2021-03-15 15:16:55|\n",
      "+---+----------+------------+--------------------+--------------------+-------+-----------+-----------+-------------+-------------------+\n",
      "\n",
      "+---+----------+------------+--------------------+--------------------+-------+-----------+-----------+-------------+-------------------+\n",
      "| id|first_name|   last_name|               email|       phone_numbers|courses|is_customer|amount_paid|customer_from|    last_updated_ts|\n",
      "+---+----------+------------+--------------------+--------------------+-------+-----------+-----------+-------------+-------------------+\n",
      "|  1|    Corrie|Van den Oord|cvandenoord0@etsy...|{+1 234 567 8901,...| [1, 2]|       true|    1000.55|   2021-01-15|2021-02-10 01:15:00|\n",
      "|  2|  Nikolaus|     Brewitt|nbrewitt1@dailyma...|{+1 234 567 8923,...|    [3]|       true|      900.0|   2021-02-14|2021-02-18 03:33:00|\n",
      "|  3|    Orelie|      Penney|openney2@vistapri...|{+1 714 512 9752,...| [2, 4]|       true|     850.55|   2021-01-21|2021-03-15 15:16:55|\n",
      "+---+----------+------------+--------------------+--------------------+-------+-----------+-----------+-------------+-------------------+\n",
      "\n"
     ]
    }
   ],
   "source": [
    "users_df.filter('is_customer == true').show()\n",
    "users_df.filter('is_customer = true').show()\n",
    "users_df.filter('is_customer = \"true\"').show()\n",
    "users_df.filter(\"is_customer = 'true'\").show()"
   ]
  },
  {
   "cell_type": "code",
   "execution_count": 24,
   "id": "41062e02-9a0b-4768-a0b0-75c7b6fbca2e",
   "metadata": {
    "execution": {
     "iopub.execute_input": "2024-06-13T17:03:43.397358Z",
     "iopub.status.busy": "2024-06-13T17:03:43.396820Z",
     "iopub.status.idle": "2024-06-13T17:03:43.783014Z",
     "shell.execute_reply": "2024-06-13T17:03:43.782474Z",
     "shell.execute_reply.started": "2024-06-13T17:03:43.397330Z"
    }
   },
   "outputs": [
    {
     "name": "stdout",
     "output_type": "stream",
     "text": [
      "+---+----------+------------+--------------------+--------------------+-------+-----------+-----------+-------------+-------------------+\n",
      "| id|first_name|   last_name|               email|       phone_numbers|courses|is_customer|amount_paid|customer_from|    last_updated_ts|\n",
      "+---+----------+------------+--------------------+--------------------+-------+-----------+-----------+-------------+-------------------+\n",
      "|  1|    Corrie|Van den Oord|cvandenoord0@etsy...|{+1 234 567 8901,...| [1, 2]|       true|    1000.55|   2021-01-15|2021-02-10 01:15:00|\n",
      "|  2|  Nikolaus|     Brewitt|nbrewitt1@dailyma...|{+1 234 567 8923,...|    [3]|       true|      900.0|   2021-02-14|2021-02-18 03:33:00|\n",
      "|  3|    Orelie|      Penney|openney2@vistapri...|{+1 714 512 9752,...| [2, 4]|       true|     850.55|   2021-01-21|2021-03-15 15:16:55|\n",
      "+---+----------+------------+--------------------+--------------------+-------+-----------+-----------+-------------+-------------------+\n",
      "\n",
      "+---+----------+------------+--------------------+--------------------+-------+-----------+-----------+-------------+-------------------+\n",
      "| id|first_name|   last_name|               email|       phone_numbers|courses|is_customer|amount_paid|customer_from|    last_updated_ts|\n",
      "+---+----------+------------+--------------------+--------------------+-------+-----------+-----------+-------------+-------------------+\n",
      "|  1|    Corrie|Van den Oord|cvandenoord0@etsy...|{+1 234 567 8901,...| [1, 2]|       true|    1000.55|   2021-01-15|2021-02-10 01:15:00|\n",
      "|  2|  Nikolaus|     Brewitt|nbrewitt1@dailyma...|{+1 234 567 8923,...|    [3]|       true|      900.0|   2021-02-14|2021-02-18 03:33:00|\n",
      "|  3|    Orelie|      Penney|openney2@vistapri...|{+1 714 512 9752,...| [2, 4]|       true|     850.55|   2021-01-21|2021-03-15 15:16:55|\n",
      "+---+----------+------------+--------------------+--------------------+-------+-----------+-----------+-------------+-------------------+\n",
      "\n"
     ]
    }
   ],
   "source": [
    "users_df.createOrReplaceTempView('users')\n",
    "spark.sql(\"\"\"\n",
    "    select *\n",
    "    from users\n",
    "    where is_customer = true -- True|true|TRUE|'True'|'true'|'TRUE'\n",
    "    \"\"\"). \\\n",
    "    show()\n",
    "spark.sql(\"\"\"\n",
    "    select *\n",
    "    from users\n",
    "    where is_customer is ture -- True|true|TRUE\n",
    "    \"\"\"). \\\n",
    "    show()"
   ]
  },
  {
   "cell_type": "code",
   "execution_count": 25,
   "id": "9d482c93-f1f1-41ae-893e-83bbd2e485f1",
   "metadata": {
    "execution": {
     "iopub.execute_input": "2024-06-13T17:06:59.371791Z",
     "iopub.status.busy": "2024-06-13T17:06:59.371271Z",
     "iopub.status.idle": "2024-06-13T17:06:59.650215Z",
     "shell.execute_reply": "2024-06-13T17:06:59.649896Z",
     "shell.execute_reply.started": "2024-06-13T17:06:59.371767Z"
    }
   },
   "outputs": [
    {
     "name": "stdout",
     "output_type": "stream",
     "text": [
      "+---+----------+---------+--------------------+--------------------+-------+-----------+-----------+-------------+-------------------+\n",
      "| id|first_name|last_name|               email|       phone_numbers|courses|is_customer|amount_paid|customer_from|    last_updated_ts|\n",
      "+---+----------+---------+--------------------+--------------------+-------+-----------+-----------+-------------+-------------------+\n",
      "|  4|     Ashby| Maddocks|  amaddocks3@home.pl|        {NULL, NULL}|     []|      false|        NaN|         NULL|2021-04-10 17:45:30|\n",
      "|  5|      Kurt|     Rome|krome4@shutterfly...|{+1 817 934 7142,...|     []|      false|        NaN|         NULL|2021-04-02 00:55:18|\n",
      "+---+----------+---------+--------------------+--------------------+-------+-----------+-----------+-------------+-------------------+\n",
      "\n"
     ]
    }
   ],
   "source": [
    "users_df.filter(col('is_customer') == False).show()"
   ]
  },
  {
   "cell_type": "code",
   "execution_count": 35,
   "id": "cca70424-02e1-4387-915d-36eba57791c5",
   "metadata": {
    "execution": {
     "iopub.execute_input": "2024-06-13T17:15:30.419260Z",
     "iopub.status.busy": "2024-06-13T17:15:30.418702Z",
     "iopub.status.idle": "2024-06-13T17:15:30.970074Z",
     "shell.execute_reply": "2024-06-13T17:15:30.969754Z",
     "shell.execute_reply.started": "2024-06-13T17:15:30.419230Z"
    }
   },
   "outputs": [
    {
     "name": "stdout",
     "output_type": "stream",
     "text": [
      "+---+----------+------------+--------------------+------+------------+--------------------+-------+-----------+-----------+-------------+-------------------+\n",
      "| id|first_name|   last_name|               email|gender|current_city|       phone_numbers|courses|is_customer|amount_paid|customer_from|    last_updated_ts|\n",
      "+---+----------+------------+--------------------+------+------------+--------------------+-------+-----------+-----------+-------------+-------------------+\n",
      "|  1|    Corrie|Van den Oord|cvandenoord0@etsy...|  male|      Dallas|{+1 234 567 8901,...| [1, 2]|       true|    1000.55|   2021-01-15|2021-02-10 01:15:00|\n",
      "+---+----------+------------+--------------------+------+------------+--------------------+-------+-----------+-----------+-------------+-------------------+\n",
      "\n",
      "+---+----------+------------+--------------------+------+------------+--------------------+-------+-----------+-----------+-------------+-------------------+\n",
      "| id|first_name|   last_name|               email|gender|current_city|       phone_numbers|courses|is_customer|amount_paid|customer_from|    last_updated_ts|\n",
      "+---+----------+------------+--------------------+------+------------+--------------------+-------+-----------+-----------+-------------+-------------------+\n",
      "|  1|    Corrie|Van den Oord|cvandenoord0@etsy...|  male|      Dallas|{+1 234 567 8901,...| [1, 2]|       true|    1000.55|   2021-01-15|2021-02-10 01:15:00|\n",
      "+---+----------+------------+--------------------+------+------------+--------------------+-------+-----------+-----------+-------------+-------------------+\n",
      "\n",
      "+---+----------+------------+--------------------+------+------------+--------------------+-------+-----------+-----------+-------------+-------------------+\n",
      "| id|first_name|   last_name|               email|gender|current_city|       phone_numbers|courses|is_customer|amount_paid|customer_from|    last_updated_ts|\n",
      "+---+----------+------------+--------------------+------+------------+--------------------+-------+-----------+-----------+-------------+-------------------+\n",
      "|  1|    Corrie|Van den Oord|cvandenoord0@etsy...|  male|      Dallas|{+1 234 567 8901,...| [1, 2]|       true|    1000.55|   2021-01-15|2021-02-10 01:15:00|\n",
      "+---+----------+------------+--------------------+------+------------+--------------------+-------+-----------+-----------+-------------+-------------------+\n",
      "\n"
     ]
    }
   ],
   "source": [
    "users_df.filter(col('current_city') == 'Dallas').show()\n",
    "users_df.filter(\"current_city = 'Dallas'\").show()\n",
    "users_df.filter('current_city = \"Dallas\"').show()"
   ]
  },
  {
   "cell_type": "code",
   "execution_count": 41,
   "id": "5c3b1989-92cb-4822-a097-129aa26c6db0",
   "metadata": {
    "execution": {
     "iopub.execute_input": "2024-06-13T17:20:12.617566Z",
     "iopub.status.busy": "2024-06-13T17:20:12.617018Z",
     "iopub.status.idle": "2024-06-13T17:20:13.323897Z",
     "shell.execute_reply": "2024-06-13T17:20:13.323402Z",
     "shell.execute_reply.started": "2024-06-13T17:20:12.617535Z"
    }
   },
   "outputs": [
    {
     "name": "stdout",
     "output_type": "stream",
     "text": [
      "+---+----------+---------+--------------------+------+------------+--------------------+-------+-----------+-----------+-------------+-------------------+\n",
      "| id|first_name|last_name|               email|gender|current_city|       phone_numbers|courses|is_customer|amount_paid|customer_from|    last_updated_ts|\n",
      "+---+----------+---------+--------------------+------+------------+--------------------+-------+-----------+-----------+-------------+-------------------+\n",
      "|  2|  Nikolaus|  Brewitt|nbrewitt1@dailyma...|  male|      Huston|{+1 234 567 8923,...|    [3]|       true|      900.0|   2021-02-14|2021-02-18 03:33:00|\n",
      "+---+----------+---------+--------------------+------+------------+--------------------+-------+-----------+-----------+-------------+-------------------+\n",
      "\n",
      "+---+----------+---------+--------------------+------+------------+--------------------+-------+-----------+-----------+-------------+-------------------+\n",
      "| id|first_name|last_name|               email|gender|current_city|       phone_numbers|courses|is_customer|amount_paid|customer_from|    last_updated_ts|\n",
      "+---+----------+---------+--------------------+------+------------+--------------------+-------+-----------+-----------+-------------+-------------------+\n",
      "|  2|  Nikolaus|  Brewitt|nbrewitt1@dailyma...|  male|      Huston|{+1 234 567 8923,...|    [3]|       true|      900.0|   2021-02-14|2021-02-18 03:33:00|\n",
      "+---+----------+---------+--------------------+------+------------+--------------------+-------+-----------+-----------+-------------+-------------------+\n",
      "\n",
      "+---+----------+---------+--------------------+------+------------+--------------------+-------+-----------+-----------+-------------+-------------------+\n",
      "| id|first_name|last_name|               email|gender|current_city|       phone_numbers|courses|is_customer|amount_paid|customer_from|    last_updated_ts|\n",
      "+---+----------+---------+--------------------+------+------------+--------------------+-------+-----------+-----------+-------------+-------------------+\n",
      "|  2|  Nikolaus|  Brewitt|nbrewitt1@dailyma...|  male|      Huston|{+1 234 567 8923,...|    [3]|       true|      900.0|   2021-02-14|2021-02-18 03:33:00|\n",
      "+---+----------+---------+--------------------+------+------------+--------------------+-------+-----------+-----------+-------------+-------------------+\n",
      "\n",
      "+---+----------+---------+--------------------+------+------------+--------------------+-------+-----------+-----------+-------------+-------------------+\n",
      "| id|first_name|last_name|               email|gender|current_city|       phone_numbers|courses|is_customer|amount_paid|customer_from|    last_updated_ts|\n",
      "+---+----------+---------+--------------------+------+------------+--------------------+-------+-----------+-----------+-------------+-------------------+\n",
      "|  2|  Nikolaus|  Brewitt|nbrewitt1@dailyma...|  male|      Huston|{+1 234 567 8923,...|    [3]|       true|      900.0|   2021-02-14|2021-02-18 03:33:00|\n",
      "+---+----------+---------+--------------------+------+------------+--------------------+-------+-----------+-----------+-------------+-------------------+\n",
      "\n"
     ]
    }
   ],
   "source": [
    "users_df.filter(col('amount_paid') == 900).show()\n",
    "users_df.filter(col('amount_paid') == '900').show() # implicit cast of 900 to double\n",
    "users_df.filter(\"amount_paid = 900\").show()\n",
    "users_df.filter(\"amount_paid = '900'\").show() # implicit cast of 900 to double"
   ]
  },
  {
   "cell_type": "code",
   "execution_count": 53,
   "id": "1aea5102-b88e-48c5-b065-030834c07155",
   "metadata": {
    "execution": {
     "iopub.execute_input": "2024-06-13T17:26:57.615856Z",
     "iopub.status.busy": "2024-06-13T17:26:57.614647Z",
     "iopub.status.idle": "2024-06-13T17:26:58.208929Z",
     "shell.execute_reply": "2024-06-13T17:26:58.208452Z",
     "shell.execute_reply.started": "2024-06-13T17:26:57.615804Z"
    }
   },
   "outputs": [
    {
     "name": "stdout",
     "output_type": "stream",
     "text": [
      "+-----------+------------------+\n",
      "|amount_paid|isnan(amount_paid)|\n",
      "+-----------+------------------+\n",
      "|    1000.55|             false|\n",
      "|      900.0|             false|\n",
      "|     850.55|             false|\n",
      "|        NaN|              true|\n",
      "|        NaN|              true|\n",
      "+-----------+------------------+\n",
      "\n",
      "+---+----------+---------+--------------------+------+-------------+--------------------+-------+-----------+-----------+-------------+-------------------+\n",
      "| id|first_name|last_name|               email|gender| current_city|       phone_numbers|courses|is_customer|amount_paid|customer_from|    last_updated_ts|\n",
      "+---+----------+---------+--------------------+------+-------------+--------------------+-------+-----------+-----------+-------------+-------------------+\n",
      "|  4|     Ashby| Maddocks|  amaddocks3@home.pl|  male|San Francisco|        {NULL, NULL}|     []|      false|        NaN|         NULL|2021-04-10 17:45:30|\n",
      "|  5|      Kurt|     Rome|krome4@shutterfly...|female|         NULL|{+1 817 934 7142,...|     []|      false|        NaN|         NULL|2021-04-02 00:55:18|\n",
      "+---+----------+---------+--------------------+------+-------------+--------------------+-------+-----------+-----------+-------------+-------------------+\n",
      "\n",
      "+---+----------+---------+--------------------+------+-------------+--------------------+-------+-----------+-----------+-------------+-------------------+\n",
      "| id|first_name|last_name|               email|gender| current_city|       phone_numbers|courses|is_customer|amount_paid|customer_from|    last_updated_ts|\n",
      "+---+----------+---------+--------------------+------+-------------+--------------------+-------+-----------+-----------+-------------+-------------------+\n",
      "|  4|     Ashby| Maddocks|  amaddocks3@home.pl|  male|San Francisco|        {NULL, NULL}|     []|      false|        NaN|         NULL|2021-04-10 17:45:30|\n",
      "|  5|      Kurt|     Rome|krome4@shutterfly...|female|         NULL|{+1 817 934 7142,...|     []|      false|        NaN|         NULL|2021-04-02 00:55:18|\n",
      "+---+----------+---------+--------------------+------+-------------+--------------------+-------+-----------+-----------+-------------+-------------------+\n",
      "\n"
     ]
    }
   ],
   "source": [
    "from pyspark.sql.functions import isnan\n",
    "users_df.select(col('amount_paid'), isnan(col('amount_paid'))).show()\n",
    "users_df.filter(isnan(col('amount_paid')) == True).show()\n",
    "users_df.filter('isnan(amount_paid) = True').show()"
   ]
  },
  {
   "cell_type": "markdown",
   "id": "fa86a758-aa8f-43c1-a5ca-7cf9f6f1531d",
   "metadata": {},
   "source": [
    "## Filter using not equal operator"
   ]
  },
  {
   "cell_type": "code",
   "execution_count": 68,
   "id": "265a730e-8bcc-4472-8243-a123f31ffe36",
   "metadata": {
    "execution": {
     "iopub.execute_input": "2024-06-13T17:48:20.845390Z",
     "iopub.status.busy": "2024-06-13T17:48:20.844749Z",
     "iopub.status.idle": "2024-06-13T17:48:21.214615Z",
     "shell.execute_reply": "2024-06-13T17:48:21.214255Z",
     "shell.execute_reply.started": "2024-06-13T17:48:20.845349Z"
    }
   },
   "outputs": [
    {
     "name": "stdout",
     "output_type": "stream",
     "text": [
      "+---+----------+---------+--------------------+------+-------------+--------------------+-------+-----------+-----------+-------------+-------------------+\n",
      "| id|first_name|last_name|               email|gender| current_city|       phone_numbers|courses|is_customer|amount_paid|customer_from|    last_updated_ts|\n",
      "+---+----------+---------+--------------------+------+-------------+--------------------+-------+-----------+-----------+-------------+-------------------+\n",
      "|  2|  Nikolaus|  Brewitt|nbrewitt1@dailyma...|  male|       Huston|{+1 234 567 8923,...|    [3]|       true|      900.0|   2021-02-14|2021-02-18 03:33:00|\n",
      "|  3|    Orelie|   Penney|openney2@vistapri...|female|             |{+1 714 512 9752,...| [2, 4]|       true|     850.55|   2021-01-21|2021-03-15 15:16:55|\n",
      "|  4|     Ashby| Maddocks|  amaddocks3@home.pl|  male|San Francisco|        {NULL, NULL}|     []|      false|        NaN|         NULL|2021-04-10 17:45:30|\n",
      "+---+----------+---------+--------------------+------+-------------+--------------------+-------+-----------+-----------+-------------+-------------------+\n",
      "\n",
      "+---+----------+---------+--------------------+------+-------------+--------------------+-------+-----------+-----------+-------------+-------------------+\n",
      "| id|first_name|last_name|               email|gender| current_city|       phone_numbers|courses|is_customer|amount_paid|customer_from|    last_updated_ts|\n",
      "+---+----------+---------+--------------------+------+-------------+--------------------+-------+-----------+-----------+-------------+-------------------+\n",
      "|  2|  Nikolaus|  Brewitt|nbrewitt1@dailyma...|  male|       Huston|{+1 234 567 8923,...|    [3]|       true|      900.0|   2021-02-14|2021-02-18 03:33:00|\n",
      "|  3|    Orelie|   Penney|openney2@vistapri...|female|             |{+1 714 512 9752,...| [2, 4]|       true|     850.55|   2021-01-21|2021-03-15 15:16:55|\n",
      "|  4|     Ashby| Maddocks|  amaddocks3@home.pl|  male|San Francisco|        {NULL, NULL}|     []|      false|        NaN|         NULL|2021-04-10 17:45:30|\n",
      "|  5|      Kurt|     Rome|krome4@shutterfly...|female|         NULL|{+1 817 934 7142,...|     []|      false|        NaN|         NULL|2021-04-02 00:55:18|\n",
      "+---+----------+---------+--------------------+------+-------------+--------------------+-------+-----------+-----------+-------------+-------------------+\n",
      "\n"
     ]
    }
   ],
   "source": [
    "from pyspark.sql.functions import col\n",
    "users_df.filter(col('current_city') != 'Dallas').show()\n",
    "users_df.filter((col('current_city') != 'Dallas') | (col('current_city').isNull())).show()"
   ]
  },
  {
   "cell_type": "code",
   "execution_count": 66,
   "id": "6cdf0d94-060c-482f-8913-c01eafe4b1d7",
   "metadata": {
    "execution": {
     "iopub.execute_input": "2024-06-13T17:47:59.714112Z",
     "iopub.status.busy": "2024-06-13T17:47:59.713285Z",
     "iopub.status.idle": "2024-06-13T17:48:00.077500Z",
     "shell.execute_reply": "2024-06-13T17:48:00.077145Z",
     "shell.execute_reply.started": "2024-06-13T17:47:59.714082Z"
    }
   },
   "outputs": [
    {
     "name": "stdout",
     "output_type": "stream",
     "text": [
      "+---+----------+---------+--------------------+------+-------------+--------------------+-------+-----------+-----------+-------------+-------------------+\n",
      "| id|first_name|last_name|               email|gender| current_city|       phone_numbers|courses|is_customer|amount_paid|customer_from|    last_updated_ts|\n",
      "+---+----------+---------+--------------------+------+-------------+--------------------+-------+-----------+-----------+-------------+-------------------+\n",
      "|  2|  Nikolaus|  Brewitt|nbrewitt1@dailyma...|  male|       Huston|{+1 234 567 8923,...|    [3]|       true|      900.0|   2021-02-14|2021-02-18 03:33:00|\n",
      "|  3|    Orelie|   Penney|openney2@vistapri...|female|             |{+1 714 512 9752,...| [2, 4]|       true|     850.55|   2021-01-21|2021-03-15 15:16:55|\n",
      "|  4|     Ashby| Maddocks|  amaddocks3@home.pl|  male|San Francisco|        {NULL, NULL}|     []|      false|        NaN|         NULL|2021-04-10 17:45:30|\n",
      "|  5|      Kurt|     Rome|krome4@shutterfly...|female|         NULL|{+1 817 934 7142,...|     []|      false|        NaN|         NULL|2021-04-02 00:55:18|\n",
      "+---+----------+---------+--------------------+------+-------------+--------------------+-------+-----------+-----------+-------------+-------------------+\n",
      "\n",
      "+---+----------+---------+--------------------+------+-------------+--------------------+-------+-----------+-----------+-------------+-------------------+\n",
      "| id|first_name|last_name|               email|gender| current_city|       phone_numbers|courses|is_customer|amount_paid|customer_from|    last_updated_ts|\n",
      "+---+----------+---------+--------------------+------+-------------+--------------------+-------+-----------+-----------+-------------+-------------------+\n",
      "|  2|  Nikolaus|  Brewitt|nbrewitt1@dailyma...|  male|       Huston|{+1 234 567 8923,...|    [3]|       true|      900.0|   2021-02-14|2021-02-18 03:33:00|\n",
      "|  3|    Orelie|   Penney|openney2@vistapri...|female|             |{+1 714 512 9752,...| [2, 4]|       true|     850.55|   2021-01-21|2021-03-15 15:16:55|\n",
      "|  4|     Ashby| Maddocks|  amaddocks3@home.pl|  male|San Francisco|        {NULL, NULL}|     []|      false|        NaN|         NULL|2021-04-10 17:45:30|\n",
      "|  5|      Kurt|     Rome|krome4@shutterfly...|female|         NULL|{+1 817 934 7142,...|     []|      false|        NaN|         NULL|2021-04-02 00:55:18|\n",
      "+---+----------+---------+--------------------+------+-------------+--------------------+-------+-----------+-----------+-------------+-------------------+\n",
      "\n"
     ]
    }
   ],
   "source": [
    "users_df.filter(\"current_city != 'Dallas' or current_city is null\").show()\n",
    "users_df.filter(\"current_city <> 'Dallas' or current_city is null\").show()"
   ]
  },
  {
   "cell_type": "code",
   "execution_count": 69,
   "id": "16cc714e-74d1-460c-9cc3-cf28f67f92c3",
   "metadata": {
    "execution": {
     "iopub.execute_input": "2024-06-13T17:50:48.991824Z",
     "iopub.status.busy": "2024-06-13T17:50:48.991264Z",
     "iopub.status.idle": "2024-06-13T17:50:49.415145Z",
     "shell.execute_reply": "2024-06-13T17:50:49.414816Z",
     "shell.execute_reply.started": "2024-06-13T17:50:48.991795Z"
    }
   },
   "outputs": [
    {
     "name": "stdout",
     "output_type": "stream",
     "text": [
      "+---+----------+------------+--------------------+------+-------------+--------------------+-------+-----------+-----------+-------------+-------------------+\n",
      "| id|first_name|   last_name|               email|gender| current_city|       phone_numbers|courses|is_customer|amount_paid|customer_from|    last_updated_ts|\n",
      "+---+----------+------------+--------------------+------+-------------+--------------------+-------+-----------+-----------+-------------+-------------------+\n",
      "|  1|    Corrie|Van den Oord|cvandenoord0@etsy...|  male|       Dallas|{+1 234 567 8901,...| [1, 2]|       true|    1000.55|   2021-01-15|2021-02-10 01:15:00|\n",
      "|  2|  Nikolaus|     Brewitt|nbrewitt1@dailyma...|  male|       Huston|{+1 234 567 8923,...|    [3]|       true|      900.0|   2021-02-14|2021-02-18 03:33:00|\n",
      "|  4|     Ashby|    Maddocks|  amaddocks3@home.pl|  male|San Francisco|        {NULL, NULL}|     []|      false|        NaN|         NULL|2021-04-10 17:45:30|\n",
      "+---+----------+------------+--------------------+------+-------------+--------------------+-------+-----------+-----------+-------------+-------------------+\n",
      "\n",
      "+---+----------+------------+--------------------+------+-------------+--------------------+-------+-----------+-----------+-------------+-------------------+\n",
      "| id|first_name|   last_name|               email|gender| current_city|       phone_numbers|courses|is_customer|amount_paid|customer_from|    last_updated_ts|\n",
      "+---+----------+------------+--------------------+------+-------------+--------------------+-------+-----------+-----------+-------------+-------------------+\n",
      "|  1|    Corrie|Van den Oord|cvandenoord0@etsy...|  male|       Dallas|{+1 234 567 8901,...| [1, 2]|       true|    1000.55|   2021-01-15|2021-02-10 01:15:00|\n",
      "|  2|  Nikolaus|     Brewitt|nbrewitt1@dailyma...|  male|       Huston|{+1 234 567 8923,...|    [3]|       true|      900.0|   2021-02-14|2021-02-18 03:33:00|\n",
      "|  4|     Ashby|    Maddocks|  amaddocks3@home.pl|  male|San Francisco|        {NULL, NULL}|     []|      false|        NaN|         NULL|2021-04-10 17:45:30|\n",
      "|  5|      Kurt|        Rome|krome4@shutterfly...|female|         NULL|{+1 817 934 7142,...|     []|      false|        NaN|         NULL|2021-04-02 00:55:18|\n",
      "+---+----------+------------+--------------------+------+-------------+--------------------+-------+-----------+-----------+-------------+-------------------+\n",
      "\n"
     ]
    }
   ],
   "source": [
    "users_df.filter((col('current_city') != '')).show()\n",
    "users_df.filter((col('current_city') != '') | (col('current_city').isNull())).show()"
   ]
  },
  {
   "cell_type": "code",
   "execution_count": 72,
   "id": "6318be83-d144-4327-b3bd-a7f0ed745568",
   "metadata": {
    "execution": {
     "iopub.execute_input": "2024-06-13T17:52:04.308092Z",
     "iopub.status.busy": "2024-06-13T17:52:04.307318Z",
     "iopub.status.idle": "2024-06-13T17:52:04.671053Z",
     "shell.execute_reply": "2024-06-13T17:52:04.670625Z",
     "shell.execute_reply.started": "2024-06-13T17:52:04.308039Z"
    }
   },
   "outputs": [
    {
     "name": "stdout",
     "output_type": "stream",
     "text": [
      "+---+----------+------------+--------------------+------+-------------+--------------------+-------+-----------+-----------+-------------+-------------------+\n",
      "| id|first_name|   last_name|               email|gender| current_city|       phone_numbers|courses|is_customer|amount_paid|customer_from|    last_updated_ts|\n",
      "+---+----------+------------+--------------------+------+-------------+--------------------+-------+-----------+-----------+-------------+-------------------+\n",
      "|  1|    Corrie|Van den Oord|cvandenoord0@etsy...|  male|       Dallas|{+1 234 567 8901,...| [1, 2]|       true|    1000.55|   2021-01-15|2021-02-10 01:15:00|\n",
      "|  2|  Nikolaus|     Brewitt|nbrewitt1@dailyma...|  male|       Huston|{+1 234 567 8923,...|    [3]|       true|      900.0|   2021-02-14|2021-02-18 03:33:00|\n",
      "|  4|     Ashby|    Maddocks|  amaddocks3@home.pl|  male|San Francisco|        {NULL, NULL}|     []|      false|        NaN|         NULL|2021-04-10 17:45:30|\n",
      "+---+----------+------------+--------------------+------+-------------+--------------------+-------+-----------+-----------+-------------+-------------------+\n",
      "\n",
      "+---+----------+------------+--------------------+------+-------------+--------------------+-------+-----------+-----------+-------------+-------------------+\n",
      "| id|first_name|   last_name|               email|gender| current_city|       phone_numbers|courses|is_customer|amount_paid|customer_from|    last_updated_ts|\n",
      "+---+----------+------------+--------------------+------+-------------+--------------------+-------+-----------+-----------+-------------+-------------------+\n",
      "|  1|    Corrie|Van den Oord|cvandenoord0@etsy...|  male|       Dallas|{+1 234 567 8901,...| [1, 2]|       true|    1000.55|   2021-01-15|2021-02-10 01:15:00|\n",
      "|  2|  Nikolaus|     Brewitt|nbrewitt1@dailyma...|  male|       Huston|{+1 234 567 8923,...|    [3]|       true|      900.0|   2021-02-14|2021-02-18 03:33:00|\n",
      "|  4|     Ashby|    Maddocks|  amaddocks3@home.pl|  male|San Francisco|        {NULL, NULL}|     []|      false|        NaN|         NULL|2021-04-10 17:45:30|\n",
      "|  5|      Kurt|        Rome|krome4@shutterfly...|female|         NULL|{+1 817 934 7142,...|     []|      false|        NaN|         NULL|2021-04-02 00:55:18|\n",
      "+---+----------+------------+--------------------+------+-------------+--------------------+-------+-----------+-----------+-------------+-------------------+\n",
      "\n"
     ]
    }
   ],
   "source": [
    "users_df.filter(\"current_city != ''\").show()\n",
    "users_df.filter(\"current_city != '' or current_city is null\").show()"
   ]
  },
  {
   "cell_type": "markdown",
   "id": "eb649eb1-fa1d-497e-8519-ec8c6f686480",
   "metadata": {},
   "source": [
    "## Filter using BETWEEN operator on Spark Data Frames"
   ]
  },
  {
   "cell_type": "code",
   "execution_count": 77,
   "id": "85d5d760-2ef9-40f6-adc7-ed0d8b961a50",
   "metadata": {
    "execution": {
     "iopub.execute_input": "2024-06-13T17:55:26.456992Z",
     "iopub.status.busy": "2024-06-13T17:55:26.456235Z",
     "iopub.status.idle": "2024-06-13T17:55:26.644411Z",
     "shell.execute_reply": "2024-06-13T17:55:26.643806Z",
     "shell.execute_reply.started": "2024-06-13T17:55:26.456949Z"
    }
   },
   "outputs": [
    {
     "name": "stdout",
     "output_type": "stream",
     "text": [
      "+---+-------------------------+-------------------+\n",
      "|id |email                    |last_updated_ts    |\n",
      "+---+-------------------------+-------------------+\n",
      "|1  |cvandenoord0@etsy.com    |2021-02-10 01:15:00|\n",
      "|2  |nbrewitt1@dailymail.co.uk|2021-02-18 03:33:00|\n",
      "|3  |openney2@vistaprint.com  |2021-03-15 15:16:55|\n",
      "|4  |amaddocks3@home.pl       |2021-04-10 17:45:30|\n",
      "|5  |krome4@shutterfly.com    |2021-04-02 00:55:18|\n",
      "+---+-------------------------+-------------------+\n",
      "\n"
     ]
    }
   ],
   "source": [
    "users_df.select('id', 'email', 'last_updated_ts').show(truncate=False)"
   ]
  },
  {
   "cell_type": "code",
   "execution_count": 83,
   "id": "9ff94a0f-8ff4-43a7-874f-55084f5334c9",
   "metadata": {
    "execution": {
     "iopub.execute_input": "2024-06-13T18:02:39.175302Z",
     "iopub.status.busy": "2024-06-13T18:02:39.174454Z",
     "iopub.status.idle": "2024-06-13T18:02:39.604329Z",
     "shell.execute_reply": "2024-06-13T18:02:39.603988Z",
     "shell.execute_reply.started": "2024-06-13T18:02:39.175262Z"
    }
   },
   "outputs": [
    {
     "name": "stdout",
     "output_type": "stream",
     "text": [
      "+---+-------------------------+-------------------+\n",
      "|id |email                    |last_updated_ts    |\n",
      "+---+-------------------------+-------------------+\n",
      "|2  |nbrewitt1@dailymail.co.uk|2021-02-18 03:33:00|\n",
      "|3  |openney2@vistaprint.com  |2021-03-15 15:16:55|\n",
      "+---+-------------------------+-------------------+\n",
      "\n",
      "+---+-------------------------+-------------------+\n",
      "|id |email                    |last_updated_ts    |\n",
      "+---+-------------------------+-------------------+\n",
      "|2  |nbrewitt1@dailymail.co.uk|2021-02-18 03:33:00|\n",
      "|3  |openney2@vistaprint.com  |2021-03-15 15:16:55|\n",
      "+---+-------------------------+-------------------+\n",
      "\n"
     ]
    }
   ],
   "source": [
    "from pyspark.sql.functions import col\n",
    "users_df. \\\n",
    "    select('id', 'email', 'last_updated_ts'). \\\n",
    "    filter(col('last_updated_ts').between('2021-02-15 00:00:00', '2021-03-15 23:59:59.999')). \\\n",
    "    show(truncate=False)\n",
    "users_df. \\\n",
    "    select('id', 'email', 'last_updated_ts'). \\\n",
    "    filter(\"last_updated_ts between '2021-02-15 00:00:00' and '2021-03-15 23:59:59.999'\"). \\\n",
    "    show(truncate=False)"
   ]
  },
  {
   "cell_type": "code",
   "execution_count": 85,
   "id": "40943a77-11dd-4dd7-9bf0-840c72cac5b2",
   "metadata": {
    "execution": {
     "iopub.execute_input": "2024-06-13T18:05:50.054917Z",
     "iopub.status.busy": "2024-06-13T18:05:50.054184Z",
     "iopub.status.idle": "2024-06-13T18:05:50.410770Z",
     "shell.execute_reply": "2024-06-13T18:05:50.410250Z",
     "shell.execute_reply.started": "2024-06-13T18:05:50.054874Z"
    }
   },
   "outputs": [
    {
     "name": "stdout",
     "output_type": "stream",
     "text": [
      "+---+----------+---------+--------------------+------+------------+--------------------+-------+-----------+-----------+-------------+-------------------+\n",
      "| id|first_name|last_name|               email|gender|current_city|       phone_numbers|courses|is_customer|amount_paid|customer_from|    last_updated_ts|\n",
      "+---+----------+---------+--------------------+------+------------+--------------------+-------+-----------+-----------+-------------+-------------------+\n",
      "|  2|  Nikolaus|  Brewitt|nbrewitt1@dailyma...|  male|      Huston|{+1 234 567 8923,...|    [3]|       true|      900.0|   2021-02-14|2021-02-18 03:33:00|\n",
      "|  3|    Orelie|   Penney|openney2@vistapri...|female|            |{+1 714 512 9752,...| [2, 4]|       true|     850.55|   2021-01-21|2021-03-15 15:16:55|\n",
      "+---+----------+---------+--------------------+------+------------+--------------------+-------+-----------+-----------+-------------+-------------------+\n",
      "\n",
      "+---+----------+---------+--------------------+------+------------+--------------------+-------+-----------+-----------+-------------+-------------------+\n",
      "| id|first_name|last_name|               email|gender|current_city|       phone_numbers|courses|is_customer|amount_paid|customer_from|    last_updated_ts|\n",
      "+---+----------+---------+--------------------+------+------------+--------------------+-------+-----------+-----------+-------------+-------------------+\n",
      "|  2|  Nikolaus|  Brewitt|nbrewitt1@dailyma...|  male|      Huston|{+1 234 567 8923,...|    [3]|       true|      900.0|   2021-02-14|2021-02-18 03:33:00|\n",
      "|  3|    Orelie|   Penney|openney2@vistapri...|female|            |{+1 714 512 9752,...| [2, 4]|       true|     850.55|   2021-01-21|2021-03-15 15:16:55|\n",
      "+---+----------+---------+--------------------+------+------------+--------------------+-------+-----------+-----------+-------------+-------------------+\n",
      "\n"
     ]
    }
   ],
   "source": [
    "users_df. \\\n",
    "    filter(col('amount_paid').between(850, 900)). \\\n",
    "    show()\n",
    "users_df. \\\n",
    "    filter(\"amount_paid between 850 and 900\"). \\\n",
    "    show()"
   ]
  },
  {
   "cell_type": "markdown",
   "id": "cc7973d3-086f-43d5-8165-ce7b265b6cfc",
   "metadata": {},
   "source": [
    "## Dealing with NULL values while filtering data in Spark Data Frames"
   ]
  },
  {
   "cell_type": "code",
   "execution_count": 7,
   "id": "b0d7d226-90b1-47fd-be47-c9922978a1a8",
   "metadata": {
    "execution": {
     "iopub.execute_input": "2024-06-13T19:28:21.195016Z",
     "iopub.status.busy": "2024-06-13T19:28:21.194415Z",
     "iopub.status.idle": "2024-06-13T19:28:21.895507Z",
     "shell.execute_reply": "2024-06-13T19:28:21.895109Z",
     "shell.execute_reply.started": "2024-06-13T19:28:21.194981Z"
    }
   },
   "outputs": [
    {
     "name": "stdout",
     "output_type": "stream",
     "text": [
      "+---+----------+------------+--------------------+------+-------------+--------------------+-------+-----------+-----------+-------------+-------------------+\n",
      "| id|first_name|   last_name|               email|gender| current_city|       phone_numbers|courses|is_customer|amount_paid|customer_from|    last_updated_ts|\n",
      "+---+----------+------------+--------------------+------+-------------+--------------------+-------+-----------+-----------+-------------+-------------------+\n",
      "|  1|    Corrie|Van den Oord|cvandenoord0@etsy...|  male|       Dallas|{+1 234 567 8901,...| [1, 2]|       true|    1000.55|   2021-01-15|2021-02-10 01:15:00|\n",
      "|  2|  Nikolaus|     Brewitt|nbrewitt1@dailyma...|  male|       Huston|{+1 234 567 8923,...|    [3]|       true|      900.0|   2021-02-14|2021-02-18 03:33:00|\n",
      "|  3|    Orelie|      Penney|openney2@vistapri...|female|             |{+1 714 512 9752,...| [2, 4]|       true|     850.55|   2021-01-21|2021-03-15 15:16:55|\n",
      "|  4|     Ashby|    Maddocks|  amaddocks3@home.pl|  male|San Francisco|        {NULL, NULL}|     []|      false|        NaN|         NULL|2021-04-10 17:45:30|\n",
      "+---+----------+------------+--------------------+------+-------------+--------------------+-------+-----------+-----------+-------------+-------------------+\n",
      "\n",
      "+---+----------+------------+--------------------+------+-------------+--------------------+-------+-----------+-----------+-------------+-------------------+\n",
      "| id|first_name|   last_name|               email|gender| current_city|       phone_numbers|courses|is_customer|amount_paid|customer_from|    last_updated_ts|\n",
      "+---+----------+------------+--------------------+------+-------------+--------------------+-------+-----------+-----------+-------------+-------------------+\n",
      "|  1|    Corrie|Van den Oord|cvandenoord0@etsy...|  male|       Dallas|{+1 234 567 8901,...| [1, 2]|       true|    1000.55|   2021-01-15|2021-02-10 01:15:00|\n",
      "|  2|  Nikolaus|     Brewitt|nbrewitt1@dailyma...|  male|       Huston|{+1 234 567 8923,...|    [3]|       true|      900.0|   2021-02-14|2021-02-18 03:33:00|\n",
      "|  3|    Orelie|      Penney|openney2@vistapri...|female|             |{+1 714 512 9752,...| [2, 4]|       true|     850.55|   2021-01-21|2021-03-15 15:16:55|\n",
      "|  4|     Ashby|    Maddocks|  amaddocks3@home.pl|  male|San Francisco|        {NULL, NULL}|     []|      false|        NaN|         NULL|2021-04-10 17:45:30|\n",
      "+---+----------+------------+--------------------+------+-------------+--------------------+-------+-----------+-----------+-------------+-------------------+\n",
      "\n",
      "+---+----------+------------+--------------------+------+-------------+--------------------+-------+-----------+-----------+-------------+-------------------+\n",
      "| id|first_name|   last_name|               email|gender| current_city|       phone_numbers|courses|is_customer|amount_paid|customer_from|    last_updated_ts|\n",
      "+---+----------+------------+--------------------+------+-------------+--------------------+-------+-----------+-----------+-------------+-------------------+\n",
      "|  1|    Corrie|Van den Oord|cvandenoord0@etsy...|  male|       Dallas|{+1 234 567 8901,...| [1, 2]|       true|    1000.55|   2021-01-15|2021-02-10 01:15:00|\n",
      "|  2|  Nikolaus|     Brewitt|nbrewitt1@dailyma...|  male|       Huston|{+1 234 567 8923,...|    [3]|       true|      900.0|   2021-02-14|2021-02-18 03:33:00|\n",
      "|  3|    Orelie|      Penney|openney2@vistapri...|female|             |{+1 714 512 9752,...| [2, 4]|       true|     850.55|   2021-01-21|2021-03-15 15:16:55|\n",
      "|  4|     Ashby|    Maddocks|  amaddocks3@home.pl|  male|San Francisco|        {NULL, NULL}|     []|      false|        NaN|         NULL|2021-04-10 17:45:30|\n",
      "+---+----------+------------+--------------------+------+-------------+--------------------+-------+-----------+-----------+-------------+-------------------+\n",
      "\n"
     ]
    }
   ],
   "source": [
    "from pyspark.sql.functions import col\n",
    "users_df.where('current_city is not null').show()\n",
    "users_df.where(col('current_city').isNull() == False).show()\n",
    "users_df.where(col('current_city').isNotNull()).show()"
   ]
  },
  {
   "cell_type": "code",
   "execution_count": 11,
   "id": "4fff8d60-ba00-4d5e-b445-f408995b5e53",
   "metadata": {
    "execution": {
     "iopub.execute_input": "2024-06-13T19:30:59.238547Z",
     "iopub.status.busy": "2024-06-13T19:30:59.237826Z",
     "iopub.status.idle": "2024-06-13T19:30:59.646984Z",
     "shell.execute_reply": "2024-06-13T19:30:59.646590Z",
     "shell.execute_reply.started": "2024-06-13T19:30:59.238504Z"
    }
   },
   "outputs": [
    {
     "name": "stdout",
     "output_type": "stream",
     "text": [
      "+---+-------------+\n",
      "| id|customer_from|\n",
      "+---+-------------+\n",
      "|  4|         NULL|\n",
      "|  5|         NULL|\n",
      "+---+-------------+\n",
      "\n",
      "+---+-------------+\n",
      "| id|customer_from|\n",
      "+---+-------------+\n",
      "|  4|         NULL|\n",
      "|  5|         NULL|\n",
      "+---+-------------+\n",
      "\n"
     ]
    }
   ],
   "source": [
    "users_df.select('id', 'customer_from').where(col('customer_from').isNull()).show()\n",
    "users_df.select('id', 'customer_from').where('customer_from is null').show()"
   ]
  },
  {
   "cell_type": "markdown",
   "id": "c8e86c8f-a594-4261-8fdc-46a0b0053f60",
   "metadata": {
    "execution": {
     "iopub.execute_input": "2024-06-13T19:32:45.764856Z",
     "iopub.status.busy": "2024-06-13T19:32:45.764015Z",
     "iopub.status.idle": "2024-06-13T19:32:45.771357Z",
     "shell.execute_reply": "2024-06-13T19:32:45.770685Z",
     "shell.execute_reply.started": "2024-06-13T19:32:45.764823Z"
    }
   },
   "source": [
    "## Overview of BOOLEAN operators\n",
    "* boolean `OR`\n",
    "* boolean `AND`\n",
    "* negation"
   ]
  },
  {
   "cell_type": "markdown",
   "id": "5af6ed5d-d9ee-45f1-8f9a-fa03db1760ce",
   "metadata": {
    "jp-MarkdownHeadingCollapsed": true
   },
   "source": [
    "## Boolean OR on the same Spark Data Frame and IN"
   ]
  },
  {
   "cell_type": "code",
   "execution_count": 25,
   "id": "5511064f-cb9f-44f1-957c-5adb60c8090a",
   "metadata": {
    "execution": {
     "iopub.execute_input": "2024-06-13T19:51:04.634127Z",
     "iopub.status.busy": "2024-06-13T19:51:04.633605Z",
     "iopub.status.idle": "2024-06-13T19:51:05.370955Z",
     "shell.execute_reply": "2024-06-13T19:51:05.370545Z",
     "shell.execute_reply.started": "2024-06-13T19:51:04.634102Z"
    }
   },
   "outputs": [
    {
     "name": "stdout",
     "output_type": "stream",
     "text": [
      "+---+----------+---------+--------------------+------+------------+--------------------+-------+-----------+-----------+-------------+-------------------+\n",
      "| id|first_name|last_name|               email|gender|current_city|       phone_numbers|courses|is_customer|amount_paid|customer_from|    last_updated_ts|\n",
      "+---+----------+---------+--------------------+------+------------+--------------------+-------+-----------+-----------+-------------+-------------------+\n",
      "|  3|    Orelie|   Penney|openney2@vistapri...|female|            |{+1 714 512 9752,...| [2, 4]|       true|     850.55|   2021-01-21|2021-03-15 15:16:55|\n",
      "|  5|      Kurt|     Rome|krome4@shutterfly...|female|        NULL|{+1 817 934 7142,...|     []|      false|        NaN|         NULL|2021-04-02 00:55:18|\n",
      "+---+----------+---------+--------------------+------+------------+--------------------+-------+-----------+-----------+-------------+-------------------+\n",
      "\n",
      "+---+----------+---------+--------------------+------+------------+--------------------+-------+-----------+-----------+-------------+-------------------+\n",
      "| id|first_name|last_name|               email|gender|current_city|       phone_numbers|courses|is_customer|amount_paid|customer_from|    last_updated_ts|\n",
      "+---+----------+---------+--------------------+------+------------+--------------------+-------+-----------+-----------+-------------+-------------------+\n",
      "|  3|    Orelie|   Penney|openney2@vistapri...|female|            |{+1 714 512 9752,...| [2, 4]|       true|     850.55|   2021-01-21|2021-03-15 15:16:55|\n",
      "+---+----------+---------+--------------------+------+------------+--------------------+-------+-----------+-----------+-------------+-------------------+\n",
      "\n",
      "+---+----------+---------+--------------------+------+------------+--------------------+-------+-----------+-----------+-------------+-------------------+\n",
      "| id|first_name|last_name|               email|gender|current_city|       phone_numbers|courses|is_customer|amount_paid|customer_from|    last_updated_ts|\n",
      "+---+----------+---------+--------------------+------+------------+--------------------+-------+-----------+-----------+-------------+-------------------+\n",
      "|  3|    Orelie|   Penney|openney2@vistapri...|female|            |{+1 714 512 9752,...| [2, 4]|       true|     850.55|   2021-01-21|2021-03-15 15:16:55|\n",
      "|  5|      Kurt|     Rome|krome4@shutterfly...|female|        NULL|{+1 817 934 7142,...|     []|      false|        NaN|         NULL|2021-04-02 00:55:18|\n",
      "+---+----------+---------+--------------------+------+------------+--------------------+-------+-----------+-----------+-------------+-------------------+\n",
      "\n",
      "+---+----------+---------+--------------------+------+------------+--------------------+-------+-----------+-----------+-------------+-------------------+\n",
      "| id|first_name|last_name|               email|gender|current_city|       phone_numbers|courses|is_customer|amount_paid|customer_from|    last_updated_ts|\n",
      "+---+----------+---------+--------------------+------+------------+--------------------+-------+-----------+-----------+-------------+-------------------+\n",
      "|  3|    Orelie|   Penney|openney2@vistapri...|female|            |{+1 714 512 9752,...| [2, 4]|       true|     850.55|   2021-01-21|2021-03-15 15:16:55|\n",
      "+---+----------+---------+--------------------+------+------------+--------------------+-------+-----------+-----------+-------------+-------------------+\n",
      "\n"
     ]
    }
   ],
   "source": [
    "from pyspark.sql.functions import col\n",
    "users_df.filter(\"current_city is null or current_city = ''\").show()\n",
    "users_df.filter(col('current_city').isNull() | (col('current_city') == '')).show()"
   ]
  },
  {
   "cell_type": "code",
   "execution_count": 27,
   "id": "9592bced-342e-4e78-ad39-285162a06196",
   "metadata": {
    "execution": {
     "iopub.execute_input": "2024-06-13T19:52:32.752262Z",
     "iopub.status.busy": "2024-06-13T19:52:32.751489Z",
     "iopub.status.idle": "2024-06-13T19:52:33.535469Z",
     "shell.execute_reply": "2024-06-13T19:52:33.535043Z",
     "shell.execute_reply.started": "2024-06-13T19:52:32.752212Z"
    }
   },
   "outputs": [
    {
     "name": "stdout",
     "output_type": "stream",
     "text": [
      "+---+----------+------------+--------------------+------+------------+--------------------+-------+-----------+-----------+-------------+-------------------+\n",
      "| id|first_name|   last_name|               email|gender|current_city|       phone_numbers|courses|is_customer|amount_paid|customer_from|    last_updated_ts|\n",
      "+---+----------+------------+--------------------+------+------------+--------------------+-------+-----------+-----------+-------------+-------------------+\n",
      "|  1|    Corrie|Van den Oord|cvandenoord0@etsy...|  male|      Dallas|{+1 234 567 8901,...| [1, 2]|       true|    1000.55|   2021-01-15|2021-02-10 01:15:00|\n",
      "|  2|  Nikolaus|     Brewitt|nbrewitt1@dailyma...|  male|      Huston|{+1 234 567 8923,...|    [3]|       true|      900.0|   2021-02-14|2021-02-18 03:33:00|\n",
      "+---+----------+------------+--------------------+------+------------+--------------------+-------+-----------+-----------+-------------+-------------------+\n",
      "\n",
      "+---+----------+------------+--------------------+------+------------+--------------------+-------+-----------+-----------+-------------+-------------------+\n",
      "| id|first_name|   last_name|               email|gender|current_city|       phone_numbers|courses|is_customer|amount_paid|customer_from|    last_updated_ts|\n",
      "+---+----------+------------+--------------------+------+------------+--------------------+-------+-----------+-----------+-------------+-------------------+\n",
      "|  1|    Corrie|Van den Oord|cvandenoord0@etsy...|  male|      Dallas|{+1 234 567 8901,...| [1, 2]|       true|    1000.55|   2021-01-15|2021-02-10 01:15:00|\n",
      "|  2|  Nikolaus|     Brewitt|nbrewitt1@dailyma...|  male|      Huston|{+1 234 567 8923,...|    [3]|       true|      900.0|   2021-02-14|2021-02-18 03:33:00|\n",
      "+---+----------+------------+--------------------+------+------------+--------------------+-------+-----------+-----------+-------------+-------------------+\n",
      "\n",
      "+---+----------+------------+--------------------+------+------------+--------------------+-------+-----------+-----------+-------------+-------------------+\n",
      "| id|first_name|   last_name|               email|gender|current_city|       phone_numbers|courses|is_customer|amount_paid|customer_from|    last_updated_ts|\n",
      "+---+----------+------------+--------------------+------+------------+--------------------+-------+-----------+-----------+-------------+-------------------+\n",
      "|  1|    Corrie|Van den Oord|cvandenoord0@etsy...|  male|      Dallas|{+1 234 567 8901,...| [1, 2]|       true|    1000.55|   2021-01-15|2021-02-10 01:15:00|\n",
      "|  2|  Nikolaus|     Brewitt|nbrewitt1@dailyma...|  male|      Huston|{+1 234 567 8923,...|    [3]|       true|      900.0|   2021-02-14|2021-02-18 03:33:00|\n",
      "+---+----------+------------+--------------------+------+------------+--------------------+-------+-----------+-----------+-------------+-------------------+\n",
      "\n",
      "+---+----------+------------+--------------------+------+------------+--------------------+-------+-----------+-----------+-------------+-------------------+\n",
      "| id|first_name|   last_name|               email|gender|current_city|       phone_numbers|courses|is_customer|amount_paid|customer_from|    last_updated_ts|\n",
      "+---+----------+------------+--------------------+------+------------+--------------------+-------+-----------+-----------+-------------+-------------------+\n",
      "|  1|    Corrie|Van den Oord|cvandenoord0@etsy...|  male|      Dallas|{+1 234 567 8901,...| [1, 2]|       true|    1000.55|   2021-01-15|2021-02-10 01:15:00|\n",
      "|  2|  Nikolaus|     Brewitt|nbrewitt1@dailyma...|  male|      Huston|{+1 234 567 8923,...|    [3]|       true|      900.0|   2021-02-14|2021-02-18 03:33:00|\n",
      "+---+----------+------------+--------------------+------+------------+--------------------+-------+-----------+-----------+-------------+-------------------+\n",
      "\n"
     ]
    }
   ],
   "source": [
    "users_df.filter(\"current_city = 'Huston' OR current_city = 'Dallas'\").show()\n",
    "users_df.filter((col('current_city') == 'Huston') | (col('current_city') == 'Dallas')).show()\n",
    "users_df.filter(\"current_city in ('Huston', 'Dallas')\").show()\n",
    "users_df.filter(col('current_city').isin('Huston', 'Dallas')).show()"
   ]
  },
  {
   "cell_type": "code",
   "execution_count": 28,
   "id": "aa8a6097-8ae2-402a-9f2a-ac848ed49570",
   "metadata": {
    "execution": {
     "iopub.execute_input": "2024-06-13T19:54:53.304102Z",
     "iopub.status.busy": "2024-06-13T19:54:53.303562Z",
     "iopub.status.idle": "2024-06-13T19:54:53.779299Z",
     "shell.execute_reply": "2024-06-13T19:54:53.778935Z",
     "shell.execute_reply.started": "2024-06-13T19:54:53.304076Z"
    }
   },
   "outputs": [
    {
     "name": "stdout",
     "output_type": "stream",
     "text": [
      "+---+----------+------------+--------------------+------+------------+--------------------+-------+-----------+-----------+-------------+-------------------+\n",
      "| id|first_name|   last_name|               email|gender|current_city|       phone_numbers|courses|is_customer|amount_paid|customer_from|    last_updated_ts|\n",
      "+---+----------+------------+--------------------+------+------------+--------------------+-------+-----------+-----------+-------------+-------------------+\n",
      "|  1|    Corrie|Van den Oord|cvandenoord0@etsy...|  male|      Dallas|{+1 234 567 8901,...| [1, 2]|       true|    1000.55|   2021-01-15|2021-02-10 01:15:00|\n",
      "|  2|  Nikolaus|     Brewitt|nbrewitt1@dailyma...|  male|      Huston|{+1 234 567 8923,...|    [3]|       true|      900.0|   2021-02-14|2021-02-18 03:33:00|\n",
      "|  3|    Orelie|      Penney|openney2@vistapri...|female|            |{+1 714 512 9752,...| [2, 4]|       true|     850.55|   2021-01-21|2021-03-15 15:16:55|\n",
      "+---+----------+------------+--------------------+------+------------+--------------------+-------+-----------+-----------+-------------+-------------------+\n",
      "\n",
      "+---+----------+------------+--------------------+------+------------+--------------------+-------+-----------+-----------+-------------+-------------------+\n",
      "| id|first_name|   last_name|               email|gender|current_city|       phone_numbers|courses|is_customer|amount_paid|customer_from|    last_updated_ts|\n",
      "+---+----------+------------+--------------------+------+------------+--------------------+-------+-----------+-----------+-------------+-------------------+\n",
      "|  1|    Corrie|Van den Oord|cvandenoord0@etsy...|  male|      Dallas|{+1 234 567 8901,...| [1, 2]|       true|    1000.55|   2021-01-15|2021-02-10 01:15:00|\n",
      "|  2|  Nikolaus|     Brewitt|nbrewitt1@dailyma...|  male|      Huston|{+1 234 567 8923,...|    [3]|       true|      900.0|   2021-02-14|2021-02-18 03:33:00|\n",
      "|  3|    Orelie|      Penney|openney2@vistapri...|female|            |{+1 714 512 9752,...| [2, 4]|       true|     850.55|   2021-01-21|2021-03-15 15:16:55|\n",
      "+---+----------+------------+--------------------+------+------------+--------------------+-------+-----------+-----------+-------------+-------------------+\n",
      "\n"
     ]
    }
   ],
   "source": [
    "users_df.filter(\"current_city in ('Huston', 'Dallas',  '')\").show()\n",
    "users_df.filter(col('current_city').isin('Huston', 'Dallas', '')).show()"
   ]
  },
  {
   "cell_type": "code",
   "execution_count": 29,
   "id": "1a1780d9-528f-4caf-8209-470b79ea2a16",
   "metadata": {
    "execution": {
     "iopub.execute_input": "2024-06-13T19:56:34.657660Z",
     "iopub.status.busy": "2024-06-13T19:56:34.657126Z",
     "iopub.status.idle": "2024-06-13T19:56:35.117902Z",
     "shell.execute_reply": "2024-06-13T19:56:35.117477Z",
     "shell.execute_reply.started": "2024-06-13T19:56:34.657632Z"
    }
   },
   "outputs": [
    {
     "name": "stdout",
     "output_type": "stream",
     "text": [
      "+---+----------+------------+--------------------+------+------------+--------------------+-------+-----------+-----------+-------------+-------------------+\n",
      "| id|first_name|   last_name|               email|gender|current_city|       phone_numbers|courses|is_customer|amount_paid|customer_from|    last_updated_ts|\n",
      "+---+----------+------------+--------------------+------+------------+--------------------+-------+-----------+-----------+-------------+-------------------+\n",
      "|  1|    Corrie|Van den Oord|cvandenoord0@etsy...|  male|      Dallas|{+1 234 567 8901,...| [1, 2]|       true|    1000.55|   2021-01-15|2021-02-10 01:15:00|\n",
      "|  2|  Nikolaus|     Brewitt|nbrewitt1@dailyma...|  male|      Huston|{+1 234 567 8923,...|    [3]|       true|      900.0|   2021-02-14|2021-02-18 03:33:00|\n",
      "|  3|    Orelie|      Penney|openney2@vistapri...|female|            |{+1 714 512 9752,...| [2, 4]|       true|     850.55|   2021-01-21|2021-03-15 15:16:55|\n",
      "|  5|      Kurt|        Rome|krome4@shutterfly...|female|        NULL|{+1 817 934 7142,...|     []|      false|        NaN|         NULL|2021-04-02 00:55:18|\n",
      "+---+----------+------------+--------------------+------+------------+--------------------+-------+-----------+-----------+-------------+-------------------+\n",
      "\n",
      "+---+----------+------------+--------------------+------+------------+--------------------+-------+-----------+-----------+-------------+-------------------+\n",
      "| id|first_name|   last_name|               email|gender|current_city|       phone_numbers|courses|is_customer|amount_paid|customer_from|    last_updated_ts|\n",
      "+---+----------+------------+--------------------+------+------------+--------------------+-------+-----------+-----------+-------------+-------------------+\n",
      "|  1|    Corrie|Van den Oord|cvandenoord0@etsy...|  male|      Dallas|{+1 234 567 8901,...| [1, 2]|       true|    1000.55|   2021-01-15|2021-02-10 01:15:00|\n",
      "|  2|  Nikolaus|     Brewitt|nbrewitt1@dailyma...|  male|      Huston|{+1 234 567 8923,...|    [3]|       true|      900.0|   2021-02-14|2021-02-18 03:33:00|\n",
      "|  3|    Orelie|      Penney|openney2@vistapri...|female|            |{+1 714 512 9752,...| [2, 4]|       true|     850.55|   2021-01-21|2021-03-15 15:16:55|\n",
      "|  5|      Kurt|        Rome|krome4@shutterfly...|female|        NULL|{+1 817 934 7142,...|     []|      false|        NaN|         NULL|2021-04-02 00:55:18|\n",
      "+---+----------+------------+--------------------+------+------------+--------------------+-------+-----------+-----------+-------------+-------------------+\n",
      "\n"
     ]
    }
   ],
   "source": [
    "users_df.filter(\"current_city in ('Huston', 'Dallas',  '') or current_city is null\").show()\n",
    "users_df.filter(col('current_city').isin('Huston', 'Dallas', '') | col('current_city').isNull()).show()"
   ]
  },
  {
   "cell_type": "markdown",
   "id": "d16d94ab-a95d-46ab-b031-0766d69db32d",
   "metadata": {
    "jp-MarkdownHeadingCollapsed": true
   },
   "source": [
    "## Filering with Grater Than and Less Than operators on Spark Data Frames\n",
    "\n",
    "* `<`\n",
    "* `>`\n",
    "* `<=` (quivalent to boolean with col1<col2 or cal1=col2)\n",
    "* `>=` (quivalent to boolean with col1>col2 or cal1=col2)"
   ]
  },
  {
   "cell_type": "code",
   "execution_count": 54,
   "id": "225e7dae-187c-4aa9-a204-43925fdadbae",
   "metadata": {
    "execution": {
     "iopub.execute_input": "2024-06-13T20:30:53.917366Z",
     "iopub.status.busy": "2024-06-13T20:30:53.916618Z",
     "iopub.status.idle": "2024-06-13T20:30:54.671551Z",
     "shell.execute_reply": "2024-06-13T20:30:54.671275Z",
     "shell.execute_reply.started": "2024-06-13T20:30:53.917321Z"
    }
   },
   "outputs": [
    {
     "name": "stdout",
     "output_type": "stream",
     "text": [
      "+---+-----------+\n",
      "| id|amount_paid|\n",
      "+---+-----------+\n",
      "|  1|    1000.55|\n",
      "+---+-----------+\n",
      "\n",
      "+---+-----------+\n",
      "| id|amount_paid|\n",
      "+---+-----------+\n",
      "|  1|    1000.55|\n",
      "+---+-----------+\n",
      "\n",
      "+---+-----------+\n",
      "| id|amount_paid|\n",
      "+---+-----------+\n",
      "|  1|    1000.55|\n",
      "+---+-----------+\n",
      "\n",
      "+---+-----------+\n",
      "| id|amount_paid|\n",
      "+---+-----------+\n",
      "|  1|    1000.55|\n",
      "+---+-----------+\n",
      "\n"
     ]
    }
   ],
   "source": [
    "from pyspark.sql.functions import col, isnan\n",
    "\n",
    "users_df.filter(\"amount_paid > 900 and isnan(amount_paid) = false\").select('id', 'amount_paid').show()\n",
    "users_df.filter((col('amount_paid') > 900) & (isnan(col('amount_paid')) == False)).select('id', 'amount_paid').show()\n",
    "users_df.filter(\"amount_paid > 900 and not isnan(amount_paid)\").select('id', 'amount_paid').show()\n",
    "users_df.filter((col('amount_paid') > 900) & ~isnan(col('amount_paid'))).select('id', 'amount_paid').show()"
   ]
  },
  {
   "cell_type": "code",
   "execution_count": 50,
   "id": "ca39b54b-7abf-4a18-9aa8-c8e664fe13da",
   "metadata": {
    "execution": {
     "iopub.execute_input": "2024-06-13T20:25:24.079010Z",
     "iopub.status.busy": "2024-06-13T20:25:24.078270Z",
     "iopub.status.idle": "2024-06-13T20:25:24.448752Z",
     "shell.execute_reply": "2024-06-13T20:25:24.448278Z",
     "shell.execute_reply.started": "2024-06-13T20:25:24.078964Z"
    }
   },
   "outputs": [
    {
     "name": "stdout",
     "output_type": "stream",
     "text": [
      "+---+-----------+-------------+\n",
      "| id|is_customer|customer_from|\n",
      "+---+-----------+-------------+\n",
      "|  2|       true|   2021-02-14|\n",
      "|  3|       true|   2021-01-21|\n",
      "+---+-----------+-------------+\n",
      "\n",
      "+---+-----------+-------------+\n",
      "| id|is_customer|customer_from|\n",
      "+---+-----------+-------------+\n",
      "|  2|       true|   2021-02-14|\n",
      "|  3|       true|   2021-01-21|\n",
      "+---+-----------+-------------+\n",
      "\n"
     ]
    }
   ],
   "source": [
    "users_df.where(col('is_customer') & (col('customer_from') >= '2021-01-21')).select('id', 'is_customer', 'customer_from').show()\n",
    "users_df.where(\"is_customer and customer_from >= '2021-01-21'\").select('id', 'is_customer', 'customer_from').show()"
   ]
  },
  {
   "cell_type": "markdown",
   "id": "6f771521-d084-4f03-b4f4-513d3c8ed29c",
   "metadata": {},
   "source": [
    "## Boolean AND condition on Spark Data Frames"
   ]
  },
  {
   "cell_type": "code",
   "execution_count": 57,
   "id": "b232cb68-7102-44f6-a337-d169b2952c64",
   "metadata": {
    "execution": {
     "iopub.execute_input": "2024-06-13T20:37:01.930087Z",
     "iopub.status.busy": "2024-06-13T20:37:01.929398Z",
     "iopub.status.idle": "2024-06-13T20:37:02.306478Z",
     "shell.execute_reply": "2024-06-13T20:37:02.305827Z",
     "shell.execute_reply.started": "2024-06-13T20:37:01.930042Z"
    }
   },
   "outputs": [
    {
     "name": "stdout",
     "output_type": "stream",
     "text": [
      "+---+-----------+------+\n",
      "| id|is_customer|gender|\n",
      "+---+-----------+------+\n",
      "|  1|       true|  male|\n",
      "|  2|       true|  male|\n",
      "+---+-----------+------+\n",
      "\n",
      "+---+-----------+------+\n",
      "| id|is_customer|gender|\n",
      "+---+-----------+------+\n",
      "|  1|       true|  male|\n",
      "|  2|       true|  male|\n",
      "+---+-----------+------+\n",
      "\n"
     ]
    }
   ],
   "source": [
    "#get male customers\n",
    "from pyspark.sql.functions import col\n",
    "users_df. \\\n",
    "    select('id', 'is_customer', 'gender'). \\\n",
    "    filter(col('is_customer') & (col('gender') == 'male')). \\\n",
    "    show()\n",
    "users_df. \\\n",
    "    select('id', 'is_customer', 'gender'). \\\n",
    "    filter(\"is_customer and gender = 'male'\"). \\\n",
    "    show()"
   ]
  },
  {
   "cell_type": "code",
   "execution_count": 62,
   "id": "f8c85025-b388-43e4-b2d8-f4752b5486bb",
   "metadata": {
    "execution": {
     "iopub.execute_input": "2024-06-13T20:42:36.941907Z",
     "iopub.status.busy": "2024-06-13T20:42:36.941181Z",
     "iopub.status.idle": "2024-06-13T20:42:37.636978Z",
     "shell.execute_reply": "2024-06-13T20:42:37.636556Z",
     "shell.execute_reply.started": "2024-06-13T20:42:36.941865Z"
    }
   },
   "outputs": [
    {
     "name": "stdout",
     "output_type": "stream",
     "text": [
      "+---+-------------+\n",
      "| id|customer_from|\n",
      "+---+-------------+\n",
      "|  2|   2021-02-14|\n",
      "|  3|   2021-01-21|\n",
      "+---+-------------+\n",
      "\n",
      "+---+-------------+\n",
      "| id|customer_from|\n",
      "+---+-------------+\n",
      "|  2|   2021-02-14|\n",
      "|  3|   2021-01-21|\n",
      "+---+-------------+\n",
      "\n",
      "+---+-------------+\n",
      "| id|customer_from|\n",
      "+---+-------------+\n",
      "|  2|   2021-02-14|\n",
      "|  3|   2021-01-21|\n",
      "+---+-------------+\n",
      "\n",
      "+---+-------------+\n",
      "| id|customer_from|\n",
      "+---+-------------+\n",
      "|  2|   2021-02-14|\n",
      "|  3|   2021-01-21|\n",
      "+---+-------------+\n",
      "\n"
     ]
    }
   ],
   "source": [
    "users_df. \\\n",
    "    select('id', 'customer_from'). \\\n",
    "    filter(col('customer_from').between('2021-01-20', '2021-02-15')). \\\n",
    "    show()\n",
    "users_df. \\\n",
    "    select('id', 'customer_from'). \\\n",
    "    filter((col('customer_from') >= '2021-01-20') & (col('customer_from') <= '2021-02-15')). \\\n",
    "    show()\n",
    "users_df. \\\n",
    "    select('id', 'customer_from'). \\\n",
    "    filter(\"customer_from between '2021-01-20' and '2021-02-15'\"). \\\n",
    "    show()\n",
    "users_df. \\\n",
    "    select('id', 'customer_from'). \\\n",
    "    filter(\"customer_from >= '2021-01-20' and customer_from <= '2021-02-15'\"). \\\n",
    "    show()"
   ]
  },
  {
   "cell_type": "markdown",
   "id": "efee52e5-295c-48ca-a117-509e4d1b08ac",
   "metadata": {},
   "source": [
    "## Boolean OR on different columns of a Spark Dada Frame"
   ]
  },
  {
   "cell_type": "code",
   "execution_count": 68,
   "id": "418c3823-bbb3-4e9d-b6e4-33c13145b82b",
   "metadata": {
    "execution": {
     "iopub.execute_input": "2024-06-13T20:52:02.547733Z",
     "iopub.status.busy": "2024-06-13T20:52:02.546951Z",
     "iopub.status.idle": "2024-06-13T20:52:03.138364Z",
     "shell.execute_reply": "2024-06-13T20:52:03.137996Z",
     "shell.execute_reply.started": "2024-06-13T20:52:02.547687Z"
    }
   },
   "outputs": [
    {
     "name": "stdout",
     "output_type": "stream",
     "text": [
      "+---+--------------------+-------------+-----------+\n",
      "| id|               email| current_city|is_customer|\n",
      "+---+--------------------+-------------+-----------+\n",
      "|  1|cvandenoord0@etsy...|       Dallas|       true|\n",
      "|  2|nbrewitt1@dailyma...|       Huston|       true|\n",
      "|  3|openney2@vistapri...|             |       true|\n",
      "|  4|  amaddocks3@home.pl|San Francisco|      false|\n",
      "|  5|krome4@shutterfly...|         NULL|      false|\n",
      "+---+--------------------+-------------+-----------+\n",
      "\n",
      "+---+--------------------+-------------+-----------+\n",
      "| id|               email| current_city|is_customer|\n",
      "+---+--------------------+-------------+-----------+\n",
      "|  3|openney2@vistapri...|             |       true|\n",
      "|  4|  amaddocks3@home.pl|San Francisco|      false|\n",
      "|  5|krome4@shutterfly...|         NULL|      false|\n",
      "+---+--------------------+-------------+-----------+\n",
      "\n",
      "+---+--------------------+-------------+-----------+\n",
      "| id|               email| current_city|is_customer|\n",
      "+---+--------------------+-------------+-----------+\n",
      "|  3|openney2@vistapri...|             |       true|\n",
      "|  4|  amaddocks3@home.pl|San Francisco|      false|\n",
      "|  5|krome4@shutterfly...|         NULL|      false|\n",
      "+---+--------------------+-------------+-----------+\n",
      "\n"
     ]
    }
   ],
   "source": [
    "# get id, email of the users who are not customer or city contain an empty string\n",
    "\n",
    "from pyspark.sql.functions import col\n",
    "users_df. \\\n",
    "    select('id', 'email', 'current_city', 'is_customer'). \\\n",
    "    show()\n",
    "users_df. \\\n",
    "    select('id', 'email', 'current_city', 'is_customer'). \\\n",
    "    filter(~col('is_customer') | (col('current_city') == '')). \\\n",
    "    show()\n",
    "users_df. \\\n",
    "    select('id', 'email', 'current_city', 'is_customer'). \\\n",
    "    filter(\"not is_customer or current_city == ''\"). \\\n",
    "    show()"
   ]
  },
  {
   "cell_type": "code",
   "execution_count": 72,
   "id": "5508fd84-64e3-4501-892d-0abcff33ac9b",
   "metadata": {
    "execution": {
     "iopub.execute_input": "2024-06-13T21:00:14.425557Z",
     "iopub.status.busy": "2024-06-13T21:00:14.423432Z",
     "iopub.status.idle": "2024-06-13T21:00:14.954773Z",
     "shell.execute_reply": "2024-06-13T21:00:14.954263Z",
     "shell.execute_reply.started": "2024-06-13T21:00:14.425499Z"
    }
   },
   "outputs": [
    {
     "name": "stdout",
     "output_type": "stream",
     "text": [
      "+---+--------------------+-----------+-------------------+\n",
      "| id|               email|is_customer|    last_updated_ts|\n",
      "+---+--------------------+-----------+-------------------+\n",
      "|  1|cvandenoord0@etsy...|       true|2021-02-10 01:15:00|\n",
      "|  2|nbrewitt1@dailyma...|       true|2021-02-18 03:33:00|\n",
      "|  3|openney2@vistapri...|       true|2021-03-15 15:16:55|\n",
      "|  4|  amaddocks3@home.pl|      false|2021-04-10 17:45:30|\n",
      "|  5|krome4@shutterfly...|      false|2021-04-02 00:55:18|\n",
      "+---+--------------------+-----------+-------------------+\n",
      "\n",
      "+---+--------------------+-----------+-------------------+\n",
      "| id|               email|is_customer|    last_updated_ts|\n",
      "+---+--------------------+-----------+-------------------+\n",
      "|  1|cvandenoord0@etsy...|       true|2021-02-10 01:15:00|\n",
      "|  2|nbrewitt1@dailyma...|       true|2021-02-18 03:33:00|\n",
      "|  4|  amaddocks3@home.pl|      false|2021-04-10 17:45:30|\n",
      "|  5|krome4@shutterfly...|      false|2021-04-02 00:55:18|\n",
      "+---+--------------------+-----------+-------------------+\n",
      "\n",
      "+---+--------------------+-----------+-------------------+\n",
      "| id|               email|is_customer|    last_updated_ts|\n",
      "+---+--------------------+-----------+-------------------+\n",
      "|  1|cvandenoord0@etsy...|       true|2021-02-10 01:15:00|\n",
      "|  2|nbrewitt1@dailyma...|       true|2021-02-18 03:33:00|\n",
      "|  4|  amaddocks3@home.pl|      false|2021-04-10 17:45:30|\n",
      "|  5|krome4@shutterfly...|      false|2021-04-02 00:55:18|\n",
      "+---+--------------------+-----------+-------------------+\n",
      "\n"
     ]
    }
   ],
   "source": [
    "# get id, email of the users who are not customer or customers whose last updated timestamp is before 2021-03-01\n",
    "users_df. \\\n",
    "    select('id', 'email', 'is_customer', 'last_updated_ts'). \\\n",
    "    show()\n",
    "users_df. \\\n",
    "    filter(~col('is_customer') | (col('is_customer') & (col('last_updated_ts') < '2021-03-01'))). \\\n",
    "    select('id', 'email', 'is_customer', 'last_updated_ts'). \\\n",
    "    show()\n",
    "users_df. \\\n",
    "    filter(\"not is_customer or (is_customer and last_updated_ts < '2021-03-01')\"). \\\n",
    "    select('id', 'email', 'is_customer', 'last_updated_ts'). \\\n",
    "    show()"
   ]
  }
 ],
 "metadata": {
  "kernelspec": {
   "display_name": "Python 3 (ipykernel)",
   "language": "python",
   "name": "python3"
  },
  "language_info": {
   "codemirror_mode": {
    "name": "ipython",
    "version": 3
   },
   "file_extension": ".py",
   "mimetype": "text/x-python",
   "name": "python",
   "nbconvert_exporter": "python",
   "pygments_lexer": "ipython3",
   "version": "3.11.9"
  }
 },
 "nbformat": 4,
 "nbformat_minor": 5
}
