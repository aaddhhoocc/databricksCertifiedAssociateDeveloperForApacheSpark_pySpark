{
 "cells": [
  {
   "cell_type": "code",
   "execution_count": null,
   "id": "3cc630b5-5bb5-4120-ba0d-1116e8d7acf8",
   "metadata": {
    "execution": {
     "iopub.execute_input": "2024-06-09T11:57:01.319591Z",
     "iopub.status.busy": "2024-06-09T11:57:01.318789Z"
    }
   },
   "outputs": [],
   "source": [
    "from pyspark.sql import SparkSession\n",
    "spark = SparkSession.builder.appName('tests').getOrCreate()"
   ]
  },
  {
   "cell_type": "code",
   "execution_count": 8,
   "id": "dacd2d83-15b5-46df-bd19-9ede55be321b",
   "metadata": {
    "execution": {
     "iopub.execute_input": "2024-06-07T22:24:44.767718Z",
     "iopub.status.busy": "2024-06-07T22:24:44.767270Z",
     "iopub.status.idle": "2024-06-07T22:24:44.811572Z",
     "shell.execute_reply": "2024-06-07T22:24:44.811196Z",
     "shell.execute_reply.started": "2024-06-07T22:24:44.767690Z"
    }
   },
   "outputs": [],
   "source": [
    "employees = [\n",
    "    (1, \"Scott\", \"Tiger\", 1000.0, \"united states\", \"+1 123 456 7890\", \"123 45 6789\"),\n",
    "    (2, \"Henry\", \"Ford\", 1250.0, \"India\", \"+91 234 567 8901\", \"456 78 9123\"),\n",
    "    (3, \"Nick\", \"Junior\", 750.0, \"united KINGDOM\", \"+44 111 111 1111\", \"222 33 4444\"),\n",
    "    (4, \"Bill\", \"Gomes\", 1500.0, \"AUSTRALIA\", \"+61 987 654 3210\", \"789 12 6118\")\n",
    "]\n",
    "\n",
    "employeesDF=spark.createDataFrame( \\\n",
    "    employees, \\\n",
    "    schema='employee_id INT, first_name STRING, last_name STRING, salary FLOAT, nationality STRING, phone_number STRING, ssn STRING' \\\n",
    ")"
   ]
  },
  {
   "cell_type": "code",
   "execution_count": 22,
   "id": "c4e578a5-fd97-4c3c-97ed-ae034cc395ad",
   "metadata": {
    "execution": {
     "iopub.execute_input": "2024-06-07T22:32:28.074527Z",
     "iopub.status.busy": "2024-06-07T22:32:28.073516Z",
     "iopub.status.idle": "2024-06-07T22:32:28.482579Z",
     "shell.execute_reply": "2024-06-07T22:32:28.482058Z",
     "shell.execute_reply.started": "2024-06-07T22:32:28.074494Z"
    }
   },
   "outputs": [
    {
     "name": "stdout",
     "output_type": "stream",
     "text": [
      "+-----------+----------+\n",
      "|employee_id|first_name|\n",
      "+-----------+----------+\n",
      "|          1|     Scott|\n",
      "|          2|     Henry|\n",
      "|          3|      Nick|\n",
      "|          4|      Bill|\n",
      "+-----------+----------+\n",
      "\n"
     ]
    },
    {
     "ename": "AnalysisException",
     "evalue": "[DATATYPE_MISMATCH.FILTER_NOT_BOOLEAN] Cannot resolve \"first_name\" due to data type mismatch: Filter expression \"first_name\" of type \"STRING\" is not a boolean.;\nFilter first_name#15: string\n+- LogicalRDD [employee_id#14, first_name#15, last_name#16, salary#17, nationality#18, phone_number#19, ssn#20], false\n",
     "output_type": "error",
     "traceback": [
      "\u001b[0;31m---------------------------------------------------------------------------\u001b[0m",
      "\u001b[0;31mAnalysisException\u001b[0m                         Traceback (most recent call last)",
      "Cell \u001b[0;32mIn[22], line 9\u001b[0m\n\u001b[1;32m      2\u001b[0m \u001b[38;5;66;03m# employeesDF.select('employee_id', 'first_name').show() #ok\u001b[39;00m\n\u001b[1;32m      3\u001b[0m \u001b[38;5;66;03m# employeesDF.select(['employee_id', 'first_name']).show() #ok\u001b[39;00m\n\u001b[1;32m      4\u001b[0m \u001b[38;5;66;03m# employeesDF.select(col('employee_id'), col('first_name')).show() #ok\u001b[39;00m\n\u001b[1;32m      5\u001b[0m \u001b[38;5;66;03m# employeesDF.select([col('employee_id'), col('first_name')]).show() #ok\u001b[39;00m\n\u001b[1;32m      6\u001b[0m \u001b[38;5;66;03m# employeesDF.select(['employee_id', col('first_name')]).show() #ok\u001b[39;00m\n\u001b[1;32m      7\u001b[0m \u001b[38;5;66;03m# employeesDF.select('employee_id', col('first_name')).show() #ok\u001b[39;00m\n\u001b[1;32m      8\u001b[0m employeesDF\u001b[38;5;241m.\u001b[39mselect(employeesDF[\u001b[38;5;124m'\u001b[39m\u001b[38;5;124memployee_id\u001b[39m\u001b[38;5;124m'\u001b[39m], col(\u001b[38;5;124m'\u001b[39m\u001b[38;5;124mfirst_name\u001b[39m\u001b[38;5;124m'\u001b[39m))\u001b[38;5;241m.\u001b[39mshow() \u001b[38;5;66;03m#ok\u001b[39;00m\n\u001b[0;32m----> 9\u001b[0m employeesDF\u001b[38;5;241m.\u001b[39mselect(employeesDF[\u001b[38;5;124m'\u001b[39m\u001b[38;5;124memployee_id\u001b[39m\u001b[38;5;124m'\u001b[39m], \u001b[43memployeesDF\u001b[49m\u001b[43m[\u001b[49m\u001b[43mcol\u001b[49m\u001b[43m(\u001b[49m\u001b[38;5;124;43m'\u001b[39;49m\u001b[38;5;124;43mfirst_name\u001b[39;49m\u001b[38;5;124;43m'\u001b[39;49m\u001b[43m)\u001b[49m\u001b[43m]\u001b[49m)\u001b[38;5;241m.\u001b[39mshow() \u001b[38;5;66;03m#ok\u001b[39;00m\n",
      "File \u001b[0;32m/opt/homebrew/lib/python3.11/site-packages/pyspark/sql/dataframe.py:3077\u001b[0m, in \u001b[0;36mDataFrame.__getitem__\u001b[0;34m(self, item)\u001b[0m\n\u001b[1;32m   3075\u001b[0m     \u001b[38;5;28;01mreturn\u001b[39;00m Column(jc)\n\u001b[1;32m   3076\u001b[0m \u001b[38;5;28;01melif\u001b[39;00m \u001b[38;5;28misinstance\u001b[39m(item, Column):\n\u001b[0;32m-> 3077\u001b[0m     \u001b[38;5;28;01mreturn\u001b[39;00m \u001b[38;5;28;43mself\u001b[39;49m\u001b[38;5;241;43m.\u001b[39;49m\u001b[43mfilter\u001b[49m\u001b[43m(\u001b[49m\u001b[43mitem\u001b[49m\u001b[43m)\u001b[49m\n\u001b[1;32m   3078\u001b[0m \u001b[38;5;28;01melif\u001b[39;00m \u001b[38;5;28misinstance\u001b[39m(item, (\u001b[38;5;28mlist\u001b[39m, \u001b[38;5;28mtuple\u001b[39m)):\n\u001b[1;32m   3079\u001b[0m     \u001b[38;5;28;01mreturn\u001b[39;00m \u001b[38;5;28mself\u001b[39m\u001b[38;5;241m.\u001b[39mselect(\u001b[38;5;241m*\u001b[39mitem)\n",
      "File \u001b[0;32m/opt/homebrew/lib/python3.11/site-packages/pyspark/sql/dataframe.py:3325\u001b[0m, in \u001b[0;36mDataFrame.filter\u001b[0;34m(self, condition)\u001b[0m\n\u001b[1;32m   3323\u001b[0m     jdf \u001b[38;5;241m=\u001b[39m \u001b[38;5;28mself\u001b[39m\u001b[38;5;241m.\u001b[39m_jdf\u001b[38;5;241m.\u001b[39mfilter(condition)\n\u001b[1;32m   3324\u001b[0m \u001b[38;5;28;01melif\u001b[39;00m \u001b[38;5;28misinstance\u001b[39m(condition, Column):\n\u001b[0;32m-> 3325\u001b[0m     jdf \u001b[38;5;241m=\u001b[39m \u001b[38;5;28;43mself\u001b[39;49m\u001b[38;5;241;43m.\u001b[39;49m\u001b[43m_jdf\u001b[49m\u001b[38;5;241;43m.\u001b[39;49m\u001b[43mfilter\u001b[49m\u001b[43m(\u001b[49m\u001b[43mcondition\u001b[49m\u001b[38;5;241;43m.\u001b[39;49m\u001b[43m_jc\u001b[49m\u001b[43m)\u001b[49m\n\u001b[1;32m   3326\u001b[0m \u001b[38;5;28;01melse\u001b[39;00m:\n\u001b[1;32m   3327\u001b[0m     \u001b[38;5;28;01mraise\u001b[39;00m PySparkTypeError(\n\u001b[1;32m   3328\u001b[0m         error_class\u001b[38;5;241m=\u001b[39m\u001b[38;5;124m\"\u001b[39m\u001b[38;5;124mNOT_COLUMN_OR_STR\u001b[39m\u001b[38;5;124m\"\u001b[39m,\n\u001b[1;32m   3329\u001b[0m         message_parameters\u001b[38;5;241m=\u001b[39m{\u001b[38;5;124m\"\u001b[39m\u001b[38;5;124marg_name\u001b[39m\u001b[38;5;124m\"\u001b[39m: \u001b[38;5;124m\"\u001b[39m\u001b[38;5;124mcondition\u001b[39m\u001b[38;5;124m\"\u001b[39m, \u001b[38;5;124m\"\u001b[39m\u001b[38;5;124marg_type\u001b[39m\u001b[38;5;124m\"\u001b[39m: \u001b[38;5;28mtype\u001b[39m(condition)\u001b[38;5;241m.\u001b[39m\u001b[38;5;18m__name__\u001b[39m},\n\u001b[1;32m   3330\u001b[0m     )\n",
      "File \u001b[0;32m/opt/homebrew/lib/python3.11/site-packages/py4j/java_gateway.py:1322\u001b[0m, in \u001b[0;36mJavaMember.__call__\u001b[0;34m(self, *args)\u001b[0m\n\u001b[1;32m   1316\u001b[0m command \u001b[38;5;241m=\u001b[39m proto\u001b[38;5;241m.\u001b[39mCALL_COMMAND_NAME \u001b[38;5;241m+\u001b[39m\\\n\u001b[1;32m   1317\u001b[0m     \u001b[38;5;28mself\u001b[39m\u001b[38;5;241m.\u001b[39mcommand_header \u001b[38;5;241m+\u001b[39m\\\n\u001b[1;32m   1318\u001b[0m     args_command \u001b[38;5;241m+\u001b[39m\\\n\u001b[1;32m   1319\u001b[0m     proto\u001b[38;5;241m.\u001b[39mEND_COMMAND_PART\n\u001b[1;32m   1321\u001b[0m answer \u001b[38;5;241m=\u001b[39m \u001b[38;5;28mself\u001b[39m\u001b[38;5;241m.\u001b[39mgateway_client\u001b[38;5;241m.\u001b[39msend_command(command)\n\u001b[0;32m-> 1322\u001b[0m return_value \u001b[38;5;241m=\u001b[39m \u001b[43mget_return_value\u001b[49m\u001b[43m(\u001b[49m\n\u001b[1;32m   1323\u001b[0m \u001b[43m    \u001b[49m\u001b[43manswer\u001b[49m\u001b[43m,\u001b[49m\u001b[43m \u001b[49m\u001b[38;5;28;43mself\u001b[39;49m\u001b[38;5;241;43m.\u001b[39;49m\u001b[43mgateway_client\u001b[49m\u001b[43m,\u001b[49m\u001b[43m \u001b[49m\u001b[38;5;28;43mself\u001b[39;49m\u001b[38;5;241;43m.\u001b[39;49m\u001b[43mtarget_id\u001b[49m\u001b[43m,\u001b[49m\u001b[43m \u001b[49m\u001b[38;5;28;43mself\u001b[39;49m\u001b[38;5;241;43m.\u001b[39;49m\u001b[43mname\u001b[49m\u001b[43m)\u001b[49m\n\u001b[1;32m   1325\u001b[0m \u001b[38;5;28;01mfor\u001b[39;00m temp_arg \u001b[38;5;129;01min\u001b[39;00m temp_args:\n\u001b[1;32m   1326\u001b[0m     \u001b[38;5;28;01mif\u001b[39;00m \u001b[38;5;28mhasattr\u001b[39m(temp_arg, \u001b[38;5;124m\"\u001b[39m\u001b[38;5;124m_detach\u001b[39m\u001b[38;5;124m\"\u001b[39m):\n",
      "File \u001b[0;32m/opt/homebrew/lib/python3.11/site-packages/pyspark/errors/exceptions/captured.py:185\u001b[0m, in \u001b[0;36mcapture_sql_exception.<locals>.deco\u001b[0;34m(*a, **kw)\u001b[0m\n\u001b[1;32m    181\u001b[0m converted \u001b[38;5;241m=\u001b[39m convert_exception(e\u001b[38;5;241m.\u001b[39mjava_exception)\n\u001b[1;32m    182\u001b[0m \u001b[38;5;28;01mif\u001b[39;00m \u001b[38;5;129;01mnot\u001b[39;00m \u001b[38;5;28misinstance\u001b[39m(converted, UnknownException):\n\u001b[1;32m    183\u001b[0m     \u001b[38;5;66;03m# Hide where the exception came from that shows a non-Pythonic\u001b[39;00m\n\u001b[1;32m    184\u001b[0m     \u001b[38;5;66;03m# JVM exception message.\u001b[39;00m\n\u001b[0;32m--> 185\u001b[0m     \u001b[38;5;28;01mraise\u001b[39;00m converted \u001b[38;5;28;01mfrom\u001b[39;00m \u001b[38;5;28;01mNone\u001b[39;00m\n\u001b[1;32m    186\u001b[0m \u001b[38;5;28;01melse\u001b[39;00m:\n\u001b[1;32m    187\u001b[0m     \u001b[38;5;28;01mraise\u001b[39;00m\n",
      "\u001b[0;31mAnalysisException\u001b[0m: [DATATYPE_MISMATCH.FILTER_NOT_BOOLEAN] Cannot resolve \"first_name\" due to data type mismatch: Filter expression \"first_name\" of type \"STRING\" is not a boolean.;\nFilter first_name#15: string\n+- LogicalRDD [employee_id#14, first_name#15, last_name#16, salary#17, nationality#18, phone_number#19, ssn#20], false\n"
     ]
    }
   ],
   "source": [
    "from pyspark.sql.functions import col\n",
    "# employeesDF.select('employee_id', 'first_name').show() #ok\n",
    "# employeesDF.select(['employee_id', 'first_name']).show() #ok\n",
    "# employeesDF.select(col('employee_id'), col('first_name')).show() #ok\n",
    "# employeesDF.select([col('employee_id'), col('first_name')]).show() #ok\n",
    "# employeesDF.select(['employee_id', col('first_name')]).show() #ok\n",
    "# employeesDF.select('employee_id', col('first_name')).show() #ok\n",
    "# employeesDF.select(employeesDF['employee_id'], col('first_name')).show() #ok\n"
   ]
  }
 ],
 "metadata": {
  "kernelspec": {
   "display_name": "Python 3 (ipykernel)",
   "language": "python",
   "name": "python3"
  },
  "language_info": {
   "codemirror_mode": {
    "name": "ipython",
    "version": 3
   },
   "file_extension": ".py",
   "mimetype": "text/x-python",
   "name": "python",
   "nbconvert_exporter": "python",
   "pygments_lexer": "ipython3",
   "version": "3.11.9"
  }
 },
 "nbformat": 4,
 "nbformat_minor": 5
}
