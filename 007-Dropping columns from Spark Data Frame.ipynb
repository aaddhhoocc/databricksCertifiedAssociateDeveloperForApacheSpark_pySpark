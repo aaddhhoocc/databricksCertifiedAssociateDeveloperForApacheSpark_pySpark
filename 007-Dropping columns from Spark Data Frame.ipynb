{
 "cells": [
  {
   "cell_type": "markdown",
   "id": "2c8f3db4-3218-4a0a-a68f-9f8e4b0f8cfc",
   "metadata": {},
   "source": [
    "## Overview of Spark Data Frame drop function¶"
   ]
  },
  {
   "cell_type": "code",
   "execution_count": 1,
   "id": "adc7e1d3-a26d-43e5-b6e5-0e9ad76933e6",
   "metadata": {
    "execution": {
     "iopub.execute_input": "2024-06-14T21:25:21.545451Z",
     "iopub.status.busy": "2024-06-14T21:25:21.544648Z",
     "iopub.status.idle": "2024-06-14T21:25:28.724061Z",
     "shell.execute_reply": "2024-06-14T21:25:28.723655Z",
     "shell.execute_reply.started": "2024-06-14T21:25:21.545401Z"
    }
   },
   "outputs": [
    {
     "name": "stderr",
     "output_type": "stream",
     "text": [
      "Setting default log level to \"WARN\".\n",
      "To adjust logging level use sc.setLogLevel(newLevel). For SparkR, use setLogLevel(newLevel).\n",
      "24/06/14 23:25:28 WARN NativeCodeLoader: Unable to load native-hadoop library for your platform... using builtin-java classes where applicable\n"
     ]
    }
   ],
   "source": [
    "from pyspark.sql import SparkSession\n",
    "spark = SparkSession.builder.appName('instance').getOrCreate()"
   ]
  },
  {
   "cell_type": "code",
   "execution_count": 25,
   "id": "27485057-650d-43ae-b25c-db7d9c5e01bd",
   "metadata": {
    "execution": {
     "iopub.execute_input": "2024-06-14T21:56:57.048110Z",
     "iopub.status.busy": "2024-06-14T21:56:57.047347Z",
     "iopub.status.idle": "2024-06-14T21:56:57.345928Z",
     "shell.execute_reply": "2024-06-14T21:56:57.345630Z",
     "shell.execute_reply.started": "2024-06-14T21:56:57.048064Z"
    }
   },
   "outputs": [
    {
     "name": "stdout",
     "output_type": "stream",
     "text": [
      "+---+----------+------------+-------------------------+----------------------------------+-------+-----------+-----------+-------------+-------------------+\n",
      "|id |first_name|last_name   |email                    |phone_numbers                     |courses|is_customer|amount_paid|customer_from|last_updated_ts    |\n",
      "+---+----------+------------+-------------------------+----------------------------------+-------+-----------+-----------+-------------+-------------------+\n",
      "|1  |Corrie    |Van den Oord|cvandenoord0@etsy.com    |{+1 234 567 8901, +1 234 567 8911}|[1, 2] |true       |1000.55    |2021-01-15   |2021-02-10 01:15:00|\n",
      "|2  |Nikolaus  |Brewitt     |nbrewitt1@dailymail.co.uk|{+1 234 567 8923, 1 234 567 8934} |[3]    |true       |900.0      |2021-02-14   |2021-02-18 03:33:00|\n",
      "|3  |Orelie    |Penney      |openney2@vistaprint.com  |{+1 714 512 9752, +1 714 512 6601}|[2, 4] |true       |850.55     |2021-01-21   |2021-03-15 15:16:55|\n",
      "|4  |Ashby     |Maddocks    |amaddocks3@home.pl       |{NULL, NULL}                      |[]     |false      |NaN        |NULL         |2021-04-10 17:45:30|\n",
      "|5  |Kurt      |Rome        |krome4@shutterfly.com    |{+1 817 934 7142, NULL}           |[]     |false      |NaN        |NULL         |2021-04-02 00:55:18|\n",
      "+---+----------+------------+-------------------------+----------------------------------+-------+-----------+-----------+-------------+-------------------+\n",
      "\n",
      "root\n",
      " |-- id: long (nullable = true)\n",
      " |-- first_name: string (nullable = true)\n",
      " |-- last_name: string (nullable = true)\n",
      " |-- email: string (nullable = true)\n",
      " |-- phone_numbers: struct (nullable = true)\n",
      " |    |-- mobile: string (nullable = true)\n",
      " |    |-- home: string (nullable = true)\n",
      " |-- courses: array (nullable = true)\n",
      " |    |-- element: long (containsNull = true)\n",
      " |-- is_customer: boolean (nullable = true)\n",
      " |-- amount_paid: double (nullable = true)\n",
      " |-- customer_from: date (nullable = true)\n",
      " |-- last_updated_ts: timestamp (nullable = true)\n",
      "\n"
     ]
    }
   ],
   "source": [
    "from pyspark.sql import Row\n",
    "import datetime\n",
    "import pandas as pd\n",
    "\n",
    "users = [\n",
    "    {\n",
    "        \"id\": 1,\n",
    "        \"first_name\": \"Corrie\",\n",
    "        \"last_name\": \"Van den Oord\",\n",
    "        \"email\": \"cvandenoord0@etsy.com\",\n",
    "        \"phone_numbers\": Row(mobile=\"+1 234 567 8901\", home=\"+1 234 567 8911\"),\n",
    "        \"courses\": [1, 2],\n",
    "        \"is_customer\": True,\n",
    "        \"amount_paid\": 1000.55,\n",
    "        \"customer_from\": datetime.date(2021, 1, 15),\n",
    "        \"last_updated_ts\": datetime.datetime(2021, 2, 10, 1, 15, 0)\n",
    "    },\n",
    "    {\n",
    "        \"id\": 2,\n",
    "        \"first_name\": \"Nikolaus\",\n",
    "        \"last_name\": \"Brewitt\",\n",
    "        \"email\": \"nbrewitt1@dailymail.co.uk\",\n",
    "        \"phone_numbers\":  Row(mobile=\"+1 234 567 8923\", home=\"1 234 567 8934\"),\n",
    "        \"courses\": [3],\n",
    "        \"is_customer\": True,\n",
    "        \"amount_paid\": 900.0,\n",
    "        \"customer_from\": datetime.date(2021, 2, 14),\n",
    "        \"last_updated_ts\": datetime.datetime(2021, 2, 18, 3, 33, 0)\n",
    "    },\n",
    "    {\n",
    "        \"id\": 3,\n",
    "        \"first_name\": \"Orelie\",\n",
    "        \"last_name\": \"Penney\",\n",
    "        \"email\": \"openney2@vistaprint.com\",\n",
    "        \"phone_numbers\": Row(mobile=\"+1 714 512 9752\", home=\"+1 714 512 6601\"),\n",
    "        \"courses\": [2, 4],\n",
    "        \"is_customer\": True,\n",
    "        \"amount_paid\": 850.55,\n",
    "        \"customer_from\": datetime.date(2021, 1, 21),\n",
    "        \"last_updated_ts\": datetime.datetime(2021, 3, 15, 15, 16, 55)\n",
    "    },\n",
    "    {\n",
    "        \"id\": 4,\n",
    "        \"first_name\": \"Ashby\",\n",
    "        \"last_name\": \"Maddocks\",\n",
    "        \"email\": \"amaddocks3@home.pl\",\n",
    "        \"phone_numbers\": Row(mobile=None, home=None),\n",
    "        \"courses\": [],\n",
    "        \"is_customer\": False,\n",
    "        \"amount_paid\": None,\n",
    "        \"customer_from\": None,\n",
    "        \"last_updated_ts\": datetime.datetime(2021, 4, 10, 17, 45, 30)\n",
    "    },\n",
    "    {\n",
    "        \"id\": 5,\n",
    "        \"first_name\": \"Kurt\",\n",
    "        \"last_name\": \"Rome\",\n",
    "        \"email\": \"krome4@shutterfly.com\",\n",
    "        \"phone_numbers\": Row(mobile=\"+1 817 934 7142\", home=None),\n",
    "        \"courses\": [],\n",
    "        \"is_customer\": False,\n",
    "        \"amount_paid\": None,\n",
    "        \"customer_from\": None,\n",
    "        \"last_updated_ts\": datetime.datetime(2021, 4, 2, 0, 55, 18)\n",
    "    }\n",
    "]\n",
    "users_df = spark.createDataFrame(pd.DataFrame(users));\n",
    "users_df.show(truncate=False)\n",
    "users_df.printSchema()"
   ]
  },
  {
   "cell_type": "code",
   "execution_count": null,
   "id": "8ae3cfac-5233-44b9-a91a-a3881388db5d",
   "metadata": {},
   "outputs": [],
   "source": []
  },
  {
   "cell_type": "markdown",
   "id": "25b7b112-8901-4244-9e95-3cca7eebd0d7",
   "metadata": {},
   "source": [
    "## drop a single column from the Spark Dada Frame"
   ]
  },
  {
   "cell_type": "code",
   "execution_count": 9,
   "id": "017caa64-f8f6-4a90-9bed-d434b268efcf",
   "metadata": {
    "execution": {
     "iopub.execute_input": "2024-06-14T21:37:09.674704Z",
     "iopub.status.busy": "2024-06-14T21:37:09.673995Z",
     "iopub.status.idle": "2024-06-14T21:37:09.922195Z",
     "shell.execute_reply": "2024-06-14T21:37:09.921896Z",
     "shell.execute_reply.started": "2024-06-14T21:37:09.674657Z"
    }
   },
   "outputs": [
    {
     "name": "stdout",
     "output_type": "stream",
     "text": [
      "root\n",
      " |-- id: long (nullable = true)\n",
      " |-- first_name: string (nullable = true)\n",
      " |-- last_name: string (nullable = true)\n",
      " |-- email: string (nullable = true)\n",
      " |-- phone_numbers: struct (nullable = true)\n",
      " |    |-- mobile: string (nullable = true)\n",
      " |    |-- home: string (nullable = true)\n",
      " |-- courses: array (nullable = true)\n",
      " |    |-- element: long (containsNull = true)\n",
      " |-- is_customer: boolean (nullable = true)\n",
      " |-- amount_paid: double (nullable = true)\n",
      " |-- customer_from: date (nullable = true)\n",
      "\n",
      "+---+----------+------------+--------------------+--------------------+-------+-----------+-----------+-------------+\n",
      "| id|first_name|   last_name|               email|       phone_numbers|courses|is_customer|amount_paid|customer_from|\n",
      "+---+----------+------------+--------------------+--------------------+-------+-----------+-----------+-------------+\n",
      "|  1|    Corrie|Van den Oord|cvandenoord0@etsy...|{+1 234 567 8901,...| [1, 2]|       true|    1000.55|   2021-01-15|\n",
      "|  2|  Nikolaus|     Brewitt|nbrewitt1@dailyma...|{+1 234 567 8923,...|    [3]|       true|      900.0|   2021-02-14|\n",
      "|  3|    Orelie|      Penney|openney2@vistapri...|{+1 714 512 9752,...| [2, 4]|       true|     850.55|   2021-01-21|\n",
      "|  4|     Ashby|    Maddocks|  amaddocks3@home.pl|        {NULL, NULL}|     []|      false|        NaN|         NULL|\n",
      "|  5|      Kurt|        Rome|krome4@shutterfly...|{+1 817 934 7142,...|     []|      false|        NaN|         NULL|\n",
      "+---+----------+------------+--------------------+--------------------+-------+-----------+-----------+-------------+\n",
      "\n"
     ]
    }
   ],
   "source": [
    "users_df.drop('last_updated_ts').printSchema()\n",
    "users_df.drop('last_updated_ts').show()"
   ]
  },
  {
   "cell_type": "code",
   "execution_count": 10,
   "id": "153d5a04-bf8d-481e-9d00-07468cf8c365",
   "metadata": {
    "execution": {
     "iopub.execute_input": "2024-06-14T21:37:16.609623Z",
     "iopub.status.busy": "2024-06-14T21:37:16.608871Z",
     "iopub.status.idle": "2024-06-14T21:37:16.635846Z",
     "shell.execute_reply": "2024-06-14T21:37:16.635520Z",
     "shell.execute_reply.started": "2024-06-14T21:37:16.609577Z"
    }
   },
   "outputs": [
    {
     "name": "stdout",
     "output_type": "stream",
     "text": [
      "root\n",
      " |-- id: long (nullable = true)\n",
      " |-- first_name: string (nullable = true)\n",
      " |-- last_name: string (nullable = true)\n",
      " |-- email: string (nullable = true)\n",
      " |-- phone_numbers: struct (nullable = true)\n",
      " |    |-- mobile: string (nullable = true)\n",
      " |    |-- home: string (nullable = true)\n",
      " |-- courses: array (nullable = true)\n",
      " |    |-- element: long (containsNull = true)\n",
      " |-- is_customer: boolean (nullable = true)\n",
      " |-- amount_paid: double (nullable = true)\n",
      " |-- customer_from: date (nullable = true)\n",
      "\n"
     ]
    }
   ],
   "source": [
    "users_df.drop(users_df['last_updated_ts']).printSchema()"
   ]
  },
  {
   "cell_type": "code",
   "execution_count": 12,
   "id": "921b7382-86f4-4aa5-8359-0e9c85537e24",
   "metadata": {
    "execution": {
     "iopub.execute_input": "2024-06-14T21:38:10.896500Z",
     "iopub.status.busy": "2024-06-14T21:38:10.895917Z",
     "iopub.status.idle": "2024-06-14T21:38:10.932714Z",
     "shell.execute_reply": "2024-06-14T21:38:10.932329Z",
     "shell.execute_reply.started": "2024-06-14T21:38:10.896473Z"
    }
   },
   "outputs": [
    {
     "name": "stdout",
     "output_type": "stream",
     "text": [
      "root\n",
      " |-- id: long (nullable = true)\n",
      " |-- first_name: string (nullable = true)\n",
      " |-- last_name: string (nullable = true)\n",
      " |-- email: string (nullable = true)\n",
      " |-- phone_numbers: struct (nullable = true)\n",
      " |    |-- mobile: string (nullable = true)\n",
      " |    |-- home: string (nullable = true)\n",
      " |-- courses: array (nullable = true)\n",
      " |    |-- element: long (containsNull = true)\n",
      " |-- is_customer: boolean (nullable = true)\n",
      " |-- amount_paid: double (nullable = true)\n",
      " |-- customer_from: date (nullable = true)\n",
      "\n"
     ]
    }
   ],
   "source": [
    "from pyspark.sql.functions import col\n",
    "users_df.drop(col('last_updated_ts')).printSchema()"
   ]
  },
  {
   "cell_type": "code",
   "execution_count": 14,
   "id": "cff31453-8231-495d-8c21-e446a6cce614",
   "metadata": {
    "execution": {
     "iopub.execute_input": "2024-06-14T21:39:49.213349Z",
     "iopub.status.busy": "2024-06-14T21:39:49.212590Z",
     "iopub.status.idle": "2024-06-14T21:39:49.241237Z",
     "shell.execute_reply": "2024-06-14T21:39:49.240695Z",
     "shell.execute_reply.started": "2024-06-14T21:39:49.213305Z"
    }
   },
   "outputs": [
    {
     "name": "stdout",
     "output_type": "stream",
     "text": [
      "root\n",
      " |-- id: long (nullable = true)\n",
      " |-- first_name: string (nullable = true)\n",
      " |-- last_name: string (nullable = true)\n",
      " |-- email: string (nullable = true)\n",
      " |-- phone_numbers: struct (nullable = true)\n",
      " |    |-- mobile: string (nullable = true)\n",
      " |    |-- home: string (nullable = true)\n",
      " |-- courses: array (nullable = true)\n",
      " |    |-- element: long (containsNull = true)\n",
      " |-- is_customer: boolean (nullable = true)\n",
      " |-- amount_paid: double (nullable = true)\n",
      " |-- customer_from: date (nullable = true)\n",
      " |-- last_updated_ts: timestamp (nullable = true)\n",
      "\n"
     ]
    }
   ],
   "source": [
    "#drop will be ignored if the pointed column to drop does not exists in data frame the function is called on\n",
    "users_df.drop(col('dupa')).printSchema()"
   ]
  },
  {
   "cell_type": "markdown",
   "id": "14e6fb9b-128b-4d06-9df8-1a430bb74549",
   "metadata": {},
   "source": [
    "## Dropping multiple columns from the Spark Data Frame"
   ]
  },
  {
   "cell_type": "code",
   "execution_count": 15,
   "id": "0a5c0517-3dec-4985-89a7-a52c91498738",
   "metadata": {
    "execution": {
     "iopub.execute_input": "2024-06-14T21:41:35.410503Z",
     "iopub.status.busy": "2024-06-14T21:41:35.409637Z",
     "iopub.status.idle": "2024-06-14T21:41:35.432147Z",
     "shell.execute_reply": "2024-06-14T21:41:35.431802Z",
     "shell.execute_reply.started": "2024-06-14T21:41:35.410473Z"
    }
   },
   "outputs": [
    {
     "name": "stdout",
     "output_type": "stream",
     "text": [
      "root\n",
      " |-- id: long (nullable = true)\n",
      " |-- email: string (nullable = true)\n",
      " |-- phone_numbers: struct (nullable = true)\n",
      " |    |-- mobile: string (nullable = true)\n",
      " |    |-- home: string (nullable = true)\n",
      " |-- courses: array (nullable = true)\n",
      " |    |-- element: long (containsNull = true)\n",
      " |-- is_customer: boolean (nullable = true)\n",
      " |-- amount_paid: double (nullable = true)\n",
      " |-- customer_from: date (nullable = true)\n",
      " |-- last_updated_ts: timestamp (nullable = true)\n",
      "\n"
     ]
    }
   ],
   "source": [
    "users_df.drop('first_name', 'last_name').printSchema()"
   ]
  },
  {
   "cell_type": "code",
   "execution_count": 18,
   "id": "53f95731-785a-4eb4-bac9-968b5ab3a2a6",
   "metadata": {
    "execution": {
     "iopub.execute_input": "2024-06-14T21:44:12.562179Z",
     "iopub.status.busy": "2024-06-14T21:44:12.561487Z",
     "iopub.status.idle": "2024-06-14T21:44:12.586459Z",
     "shell.execute_reply": "2024-06-14T21:44:12.586025Z",
     "shell.execute_reply.started": "2024-06-14T21:44:12.562145Z"
    }
   },
   "outputs": [
    {
     "name": "stdout",
     "output_type": "stream",
     "text": [
      "root\n",
      " |-- id: long (nullable = true)\n",
      " |-- email: string (nullable = true)\n",
      " |-- phone_numbers: struct (nullable = true)\n",
      " |    |-- mobile: string (nullable = true)\n",
      " |    |-- home: string (nullable = true)\n",
      " |-- courses: array (nullable = true)\n",
      " |    |-- element: long (containsNull = true)\n",
      " |-- is_customer: boolean (nullable = true)\n",
      " |-- amount_paid: double (nullable = true)\n",
      " |-- customer_from: date (nullable = true)\n",
      " |-- last_updated_ts: timestamp (nullable = true)\n",
      "\n"
     ]
    }
   ],
   "source": [
    "from pyspark.sql.functions import col\n",
    "users_df.drop(col('first_name'), col('last_name')).printSchema() # !!!!! FAILS !!!!! in DataBricks"
   ]
  },
  {
   "cell_type": "code",
   "execution_count": 19,
   "id": "9d267c98-4b1a-40e1-bf68-834ecf1081cd",
   "metadata": {
    "execution": {
     "iopub.execute_input": "2024-06-14T21:45:14.320588Z",
     "iopub.status.busy": "2024-06-14T21:45:14.318471Z",
     "iopub.status.idle": "2024-06-14T21:45:14.343834Z",
     "shell.execute_reply": "2024-06-14T21:45:14.343306Z",
     "shell.execute_reply.started": "2024-06-14T21:45:14.320539Z"
    }
   },
   "outputs": [
    {
     "name": "stdout",
     "output_type": "stream",
     "text": [
      "root\n",
      " |-- id: long (nullable = true)\n",
      " |-- email: string (nullable = true)\n",
      " |-- phone_numbers: struct (nullable = true)\n",
      " |    |-- mobile: string (nullable = true)\n",
      " |    |-- home: string (nullable = true)\n",
      " |-- courses: array (nullable = true)\n",
      " |    |-- element: long (containsNull = true)\n",
      " |-- is_customer: boolean (nullable = true)\n",
      " |-- amount_paid: double (nullable = true)\n",
      " |-- customer_from: date (nullable = true)\n",
      " |-- last_updated_ts: timestamp (nullable = true)\n",
      "\n"
     ]
    }
   ],
   "source": [
    "users_df.drop('dupa', 'first_name', 'last_name').printSchema() # non existing columns are ignored"
   ]
  },
  {
   "cell_type": "markdown",
   "id": "379dc4ed-19c2-472c-a35e-e9c2ef10cd28",
   "metadata": {},
   "source": [
    "## Dropping list of columns from the Spark Data Frame"
   ]
  },
  {
   "cell_type": "code",
   "execution_count": 23,
   "id": "ea240fbc-20a3-42ea-951b-5bdd3564923d",
   "metadata": {
    "execution": {
     "iopub.execute_input": "2024-06-14T21:49:12.691620Z",
     "iopub.status.busy": "2024-06-14T21:49:12.690995Z",
     "iopub.status.idle": "2024-06-14T21:49:12.717496Z",
     "shell.execute_reply": "2024-06-14T21:49:12.716976Z",
     "shell.execute_reply.started": "2024-06-14T21:49:12.691576Z"
    }
   },
   "outputs": [
    {
     "name": "stdout",
     "output_type": "stream",
     "text": [
      "root\n",
      " |-- id: long (nullable = true)\n",
      " |-- courses: array (nullable = true)\n",
      " |    |-- element: long (containsNull = true)\n",
      " |-- is_customer: boolean (nullable = true)\n",
      " |-- amount_paid: double (nullable = true)\n",
      " |-- customer_from: date (nullable = true)\n",
      " |-- last_updated_ts: timestamp (nullable = true)\n",
      "\n"
     ]
    }
   ],
   "source": [
    "pii_columns = ['first_name', 'last_name', 'email', 'phone_numbers']\n",
    "users_df.drop(*pii_columns).printSchema()"
   ]
  },
  {
   "cell_type": "code",
   "execution_count": 24,
   "id": "929ac242-10e7-4a86-af34-88c5df5dda30",
   "metadata": {
    "execution": {
     "iopub.execute_input": "2024-06-14T21:50:48.561036Z",
     "iopub.status.busy": "2024-06-14T21:50:48.560278Z",
     "iopub.status.idle": "2024-06-14T21:50:48.583192Z",
     "shell.execute_reply": "2024-06-14T21:50:48.582690Z",
     "shell.execute_reply.started": "2024-06-14T21:50:48.560992Z"
    }
   },
   "outputs": [
    {
     "name": "stdout",
     "output_type": "stream",
     "text": [
      "root\n",
      " |-- id: long (nullable = true)\n",
      " |-- courses: array (nullable = true)\n",
      " |    |-- element: long (containsNull = true)\n",
      " |-- is_customer: boolean (nullable = true)\n",
      " |-- amount_paid: double (nullable = true)\n",
      " |-- customer_from: date (nullable = true)\n",
      " |-- last_updated_ts: timestamp (nullable = true)\n",
      "\n"
     ]
    }
   ],
   "source": [
    "## non existing column is ignored\n",
    "pii_columns = ['dupa', 'first_name', 'last_name', 'email', 'phone_numbers']\n",
    "users_df.drop(*pii_columns).printSchema()"
   ]
  },
  {
   "cell_type": "markdown",
   "id": "400c63e9-e224-4c9a-8c3e-1c393250e781",
   "metadata": {},
   "source": [
    "## Dropping duplicate records from Spark Data Frame\n",
    "* drop duplicates based on all columns (aka distinct)\n",
    "* drop duplicates based on certain columns\n",
    "* `distinct`, `drop_duplicates` or `dropDuplicates` functions can be used"
   ]
  },
  {
   "cell_type": "code",
   "execution_count": 28,
   "id": "8cce32fd-f749-4f66-a0e1-193fde738220",
   "metadata": {
    "execution": {
     "iopub.execute_input": "2024-06-14T22:00:57.548849Z",
     "iopub.status.busy": "2024-06-14T22:00:57.548110Z",
     "iopub.status.idle": "2024-06-14T22:00:57.772095Z",
     "shell.execute_reply": "2024-06-14T22:00:57.771289Z",
     "shell.execute_reply.started": "2024-06-14T22:00:57.548802Z"
    }
   },
   "outputs": [
    {
     "name": "stdout",
     "output_type": "stream",
     "text": [
      "+---+----------+------------+-------------------------+-----------+-----------+-------------+-------------------+\n",
      "|id |first_name|last_name   |email                    |is_customer|amount_paid|customer_from|last_updated_ts    |\n",
      "+---+----------+------------+-------------------------+-----------+-----------+-------------+-------------------+\n",
      "|1  |Corrie    |Van den Oord|cvandenoord0@etsy.com    |true       |1000.55    |2021-01-15   |2021-02-10 01:15:00|\n",
      "|2  |Nikolaus  |Brewitt     |nbrewitt1@dailymail.co.uk|true       |900.0      |2021-02-14   |2021-02-18 03:33:00|\n",
      "|3  |Orelie    |Penney      |openney2@vistaprint.com  |true       |850.55     |2021-01-21   |2021-03-15 15:16:55|\n",
      "|3  |Orelie    |Penney      |openney2@vistaprint.com  |true       |850.55     |2021-01-21   |2021-03-15 15:16:55|\n",
      "|4  |Ashby     |Maddocks    |amaddocks3@home.pl       |false      |NaN        |NULL         |2021-04-10 17:45:30|\n",
      "|4  |Ashby     |Maddocks    |amaddocks3@home.pl       |false      |NaN        |NULL         |2021-04-10 17:45:30|\n",
      "|5  |Kurt      |Rome        |krome4@shutterfly.com    |false      |NaN        |NULL         |2021-04-02 00:55:18|\n",
      "|2  |Nikolaus  |Brewitt     |nbrewitt1@dailymail.co.uk|true       |1050.0     |2021-02-14   |2021-02-25 03:33:00|\n",
      "+---+----------+------------+-------------------------+-----------+-----------+-------------+-------------------+\n",
      "\n",
      "root\n",
      " |-- id: long (nullable = true)\n",
      " |-- first_name: string (nullable = true)\n",
      " |-- last_name: string (nullable = true)\n",
      " |-- email: string (nullable = true)\n",
      " |-- is_customer: boolean (nullable = true)\n",
      " |-- amount_paid: double (nullable = true)\n",
      " |-- customer_from: date (nullable = true)\n",
      " |-- last_updated_ts: timestamp (nullable = true)\n",
      "\n"
     ]
    }
   ],
   "source": [
    "import datetime\n",
    "import pandas as pd\n",
    "\n",
    "users = [\n",
    "    {\n",
    "        \"id\": 1,\n",
    "        \"first_name\": \"Corrie\",\n",
    "        \"last_name\": \"Van den Oord\",\n",
    "        \"email\": \"cvandenoord0@etsy.com\",\n",
    "        \"is_customer\": True,\n",
    "        \"amount_paid\": 1000.55,\n",
    "        \"customer_from\": datetime.date(2021, 1, 15),\n",
    "        \"last_updated_ts\": datetime.datetime(2021, 2, 10, 1, 15, 0)\n",
    "    },\n",
    "    {\n",
    "        \"id\": 2,\n",
    "        \"first_name\": \"Nikolaus\",\n",
    "        \"last_name\": \"Brewitt\",\n",
    "        \"email\": \"nbrewitt1@dailymail.co.uk\",\n",
    "        \"is_customer\": True,\n",
    "        \"amount_paid\": 900.0,\n",
    "        \"customer_from\": datetime.date(2021, 2, 14),\n",
    "        \"last_updated_ts\": datetime.datetime(2021, 2, 18, 3, 33, 0)\n",
    "    },\n",
    "    {\n",
    "        \"id\": 3,\n",
    "        \"first_name\": \"Orelie\",\n",
    "        \"last_name\": \"Penney\",\n",
    "        \"email\": \"openney2@vistaprint.com\",\n",
    "        \"is_customer\": True,\n",
    "        \"amount_paid\": 850.55,\n",
    "        \"customer_from\": datetime.date(2021, 1, 21),\n",
    "        \"last_updated_ts\": datetime.datetime(2021, 3, 15, 15, 16, 55)\n",
    "    },\n",
    "    {\n",
    "        \"id\": 3,\n",
    "        \"first_name\": \"Orelie\",\n",
    "        \"last_name\": \"Penney\",\n",
    "        \"email\": \"openney2@vistaprint.com\",\n",
    "        \"is_customer\": True,\n",
    "        \"amount_paid\": 850.55,\n",
    "        \"customer_from\": datetime.date(2021, 1, 21),\n",
    "        \"last_updated_ts\": datetime.datetime(2021, 3, 15, 15, 16, 55)\n",
    "    },\n",
    "    {\n",
    "        \"id\": 4,\n",
    "        \"first_name\": \"Ashby\",\n",
    "        \"last_name\": \"Maddocks\",\n",
    "        \"email\": \"amaddocks3@home.pl\",\n",
    "        \"is_customer\": False,\n",
    "        \"amount_paid\": None,\n",
    "        \"customer_from\": None,\n",
    "        \"last_updated_ts\": datetime.datetime(2021, 4, 10, 17, 45, 30)\n",
    "    },\n",
    "    {\n",
    "        \"id\": 4,\n",
    "        \"first_name\": \"Ashby\",\n",
    "        \"last_name\": \"Maddocks\",\n",
    "        \"email\": \"amaddocks3@home.pl\",\n",
    "        \"is_customer\": False,\n",
    "        \"amount_paid\": None,\n",
    "        \"customer_from\": None,\n",
    "        \"last_updated_ts\": datetime.datetime(2021, 4, 10, 17, 45, 30)\n",
    "    },\n",
    "    {\n",
    "        \"id\": 5,\n",
    "        \"first_name\": \"Kurt\",\n",
    "        \"last_name\": \"Rome\",\n",
    "        \"email\": \"krome4@shutterfly.com\",\n",
    "        \"is_customer\": False,\n",
    "        \"amount_paid\": None,\n",
    "        \"customer_from\": None,\n",
    "        \"last_updated_ts\": datetime.datetime(2021, 4, 2, 0, 55, 18)\n",
    "    },\n",
    "    {\n",
    "        \"id\": 2,\n",
    "        \"first_name\": \"Nikolaus\",\n",
    "        \"last_name\": \"Brewitt\",\n",
    "        \"email\": \"nbrewitt1@dailymail.co.uk\",\n",
    "        \"is_customer\": True,\n",
    "        \"amount_paid\": 1050.0,\n",
    "        \"customer_from\": datetime.date(2021, 2, 14),\n",
    "        \"last_updated_ts\": datetime.datetime(2021, 2, 25, 3, 33, 0)\n",
    "    },\n",
    "]\n",
    "users_df = spark.createDataFrame(pd.DataFrame(users));\n",
    "users_df.show(truncate=False)\n",
    "users_df.printSchema()"
   ]
  },
  {
   "cell_type": "code",
   "execution_count": 29,
   "id": "b668ddb1-51b1-4800-a141-f5ba7f45f655",
   "metadata": {
    "execution": {
     "iopub.execute_input": "2024-06-14T22:01:38.882016Z",
     "iopub.status.busy": "2024-06-14T22:01:38.881470Z",
     "iopub.status.idle": "2024-06-14T22:01:39.182040Z",
     "shell.execute_reply": "2024-06-14T22:01:39.181784Z",
     "shell.execute_reply.started": "2024-06-14T22:01:38.881989Z"
    }
   },
   "outputs": [
    {
     "data": {
      "text/plain": [
       "8"
      ]
     },
     "execution_count": 29,
     "metadata": {},
     "output_type": "execute_result"
    }
   ],
   "source": [
    "users_df.count()"
   ]
  },
  {
   "cell_type": "code",
   "execution_count": 31,
   "id": "2c1f50cd-141e-445f-a2ef-4776cbd5d143",
   "metadata": {
    "execution": {
     "iopub.execute_input": "2024-06-14T22:02:39.528844Z",
     "iopub.status.busy": "2024-06-14T22:02:39.528078Z",
     "iopub.status.idle": "2024-06-14T22:02:39.910814Z",
     "shell.execute_reply": "2024-06-14T22:02:39.910531Z",
     "shell.execute_reply.started": "2024-06-14T22:02:39.528799Z"
    }
   },
   "outputs": [
    {
     "name": "stdout",
     "output_type": "stream",
     "text": [
      "+---+----------+------------+--------------------+-----------+-----------+-------------+-------------------+\n",
      "| id|first_name|   last_name|               email|is_customer|amount_paid|customer_from|    last_updated_ts|\n",
      "+---+----------+------------+--------------------+-----------+-----------+-------------+-------------------+\n",
      "|  1|    Corrie|Van den Oord|cvandenoord0@etsy...|       true|    1000.55|   2021-01-15|2021-02-10 01:15:00|\n",
      "|  2|  Nikolaus|     Brewitt|nbrewitt1@dailyma...|       true|      900.0|   2021-02-14|2021-02-18 03:33:00|\n",
      "|  3|    Orelie|      Penney|openney2@vistapri...|       true|     850.55|   2021-01-21|2021-03-15 15:16:55|\n",
      "|  2|  Nikolaus|     Brewitt|nbrewitt1@dailyma...|       true|     1050.0|   2021-02-14|2021-02-25 03:33:00|\n",
      "|  4|     Ashby|    Maddocks|  amaddocks3@home.pl|      false|        NaN|         NULL|2021-04-10 17:45:30|\n",
      "|  5|      Kurt|        Rome|krome4@shutterfly...|      false|        NaN|         NULL|2021-04-02 00:55:18|\n",
      "+---+----------+------------+--------------------+-----------+-----------+-------------+-------------------+\n",
      "\n"
     ]
    }
   ],
   "source": [
    "users_df.distinct().count()\n",
    "users_df.distinct().show()"
   ]
  },
  {
   "cell_type": "code",
   "execution_count": 36,
   "id": "ff272c2b-ca18-4b0a-a279-bfa7aba237ba",
   "metadata": {
    "execution": {
     "iopub.execute_input": "2024-06-14T22:06:50.062192Z",
     "iopub.status.busy": "2024-06-14T22:06:50.061788Z",
     "iopub.status.idle": "2024-06-14T22:06:50.395742Z",
     "shell.execute_reply": "2024-06-14T22:06:50.395435Z",
     "shell.execute_reply.started": "2024-06-14T22:06:50.062169Z"
    }
   },
   "outputs": [
    {
     "name": "stdout",
     "output_type": "stream",
     "text": [
      "+---+----------+------------+--------------------+-----------+-----------+-------------+-------------------+\n",
      "| id|first_name|   last_name|               email|is_customer|amount_paid|customer_from|    last_updated_ts|\n",
      "+---+----------+------------+--------------------+-----------+-----------+-------------+-------------------+\n",
      "|  1|    Corrie|Van den Oord|cvandenoord0@etsy...|       true|    1000.55|   2021-01-15|2021-02-10 01:15:00|\n",
      "|  2|  Nikolaus|     Brewitt|nbrewitt1@dailyma...|       true|      900.0|   2021-02-14|2021-02-18 03:33:00|\n",
      "|  3|    Orelie|      Penney|openney2@vistapri...|       true|     850.55|   2021-01-21|2021-03-15 15:16:55|\n",
      "|  4|     Ashby|    Maddocks|  amaddocks3@home.pl|      false|        NaN|         NULL|2021-04-10 17:45:30|\n",
      "|  5|      Kurt|        Rome|krome4@shutterfly...|      false|        NaN|         NULL|2021-04-02 00:55:18|\n",
      "+---+----------+------------+--------------------+-----------+-----------+-------------+-------------------+\n",
      "\n",
      "+---+----------+------------+--------------------+-----------+-----------+-------------+-------------------+\n",
      "| id|first_name|   last_name|               email|is_customer|amount_paid|customer_from|    last_updated_ts|\n",
      "+---+----------+------------+--------------------+-----------+-----------+-------------+-------------------+\n",
      "|  1|    Corrie|Van den Oord|cvandenoord0@etsy...|       true|    1000.55|   2021-01-15|2021-02-10 01:15:00|\n",
      "|  2|  Nikolaus|     Brewitt|nbrewitt1@dailyma...|       true|      900.0|   2021-02-14|2021-02-18 03:33:00|\n",
      "|  3|    Orelie|      Penney|openney2@vistapri...|       true|     850.55|   2021-01-21|2021-03-15 15:16:55|\n",
      "|  4|     Ashby|    Maddocks|  amaddocks3@home.pl|      false|        NaN|         NULL|2021-04-10 17:45:30|\n",
      "|  5|      Kurt|        Rome|krome4@shutterfly...|      false|        NaN|         NULL|2021-04-02 00:55:18|\n",
      "+---+----------+------------+--------------------+-----------+-----------+-------------+-------------------+\n",
      "\n"
     ]
    }
   ],
   "source": [
    "#users_df.drop_duplicates('id').show() ## list only !!! FAILS !!! list only\n",
    "users_df.drop_duplicates(['id']).show() ## list only\n",
    "\n",
    "#dropDuplicates and drop_duplicates are synonyms\n",
    "users_df.dropDuplicates(['id']).show() ## list only"
   ]
  },
  {
   "cell_type": "code",
   "execution_count": 37,
   "id": "76c2285b-62fa-4d0c-b841-d2763308a88a",
   "metadata": {
    "execution": {
     "iopub.execute_input": "2024-06-14T22:07:42.613276Z",
     "iopub.status.busy": "2024-06-14T22:07:42.612730Z",
     "iopub.status.idle": "2024-06-14T22:07:42.805353Z",
     "shell.execute_reply": "2024-06-14T22:07:42.805077Z",
     "shell.execute_reply.started": "2024-06-14T22:07:42.613248Z"
    }
   },
   "outputs": [
    {
     "name": "stdout",
     "output_type": "stream",
     "text": [
      "+---+----------+------------+--------------------+-----------+-----------+-------------+-------------------+\n",
      "| id|first_name|   last_name|               email|is_customer|amount_paid|customer_from|    last_updated_ts|\n",
      "+---+----------+------------+--------------------+-----------+-----------+-------------+-------------------+\n",
      "|  1|    Corrie|Van den Oord|cvandenoord0@etsy...|       true|    1000.55|   2021-01-15|2021-02-10 01:15:00|\n",
      "|  2|  Nikolaus|     Brewitt|nbrewitt1@dailyma...|       true|      900.0|   2021-02-14|2021-02-18 03:33:00|\n",
      "|  2|  Nikolaus|     Brewitt|nbrewitt1@dailyma...|       true|     1050.0|   2021-02-14|2021-02-25 03:33:00|\n",
      "|  3|    Orelie|      Penney|openney2@vistapri...|       true|     850.55|   2021-01-21|2021-03-15 15:16:55|\n",
      "|  4|     Ashby|    Maddocks|  amaddocks3@home.pl|      false|        NaN|         NULL|2021-04-10 17:45:30|\n",
      "|  5|      Kurt|        Rome|krome4@shutterfly...|      false|        NaN|         NULL|2021-04-02 00:55:18|\n",
      "+---+----------+------------+--------------------+-----------+-----------+-------------+-------------------+\n",
      "\n"
     ]
    }
   ],
   "source": [
    "users_df.dropDuplicates(['id', 'amount_paid']).show() ## list only"
   ]
  },
  {
   "cell_type": "markdown",
   "id": "07326879-0a8f-42df-9a82-9ba7d5f4a7cc",
   "metadata": {},
   "source": [
    "## Drop NULL based records from Spark Data Frame\n",
    "* drop columns where all columns are NULL\n",
    "* drop records where any column value is NULL\n",
    "* drop records that have less than `thresh` non-null values\n",
    "* drop records where any of the column value or all column values are NULL for specified subset of columns\n",
    "* we can use `df.na.drop` or `df.dropna` "
   ]
  },
  {
   "cell_type": "code",
   "execution_count": null,
   "id": "937d591b-85b9-4f2d-a86a-629729012f03",
   "metadata": {},
   "outputs": [],
   "source": []
  },
  {
   "cell_type": "code",
   "execution_count": null,
   "id": "b5856906-64c8-496b-9268-0c8ff91d892c",
   "metadata": {},
   "outputs": [],
   "source": []
  }
 ],
 "metadata": {
  "kernelspec": {
   "display_name": "Python 3 (ipykernel)",
   "language": "python",
   "name": "python3"
  },
  "language_info": {
   "codemirror_mode": {
    "name": "ipython",
    "version": 3
   },
   "file_extension": ".py",
   "mimetype": "text/x-python",
   "name": "python",
   "nbconvert_exporter": "python",
   "pygments_lexer": "ipython3",
   "version": "3.11.9"
  }
 },
 "nbformat": 4,
 "nbformat_minor": 5
}
