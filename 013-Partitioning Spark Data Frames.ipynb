{
 "cells": [
  {
   "cell_type": "code",
   "execution_count": 1,
   "id": "373ab782-9695-40af-9688-0ae089078179",
   "metadata": {
    "execution": {
     "iopub.execute_input": "2024-06-23T20:58:30.776454Z",
     "iopub.status.busy": "2024-06-23T20:58:30.776098Z",
     "iopub.status.idle": "2024-06-23T20:58:37.594964Z",
     "shell.execute_reply": "2024-06-23T20:58:37.594657Z",
     "shell.execute_reply.started": "2024-06-23T20:58:30.776431Z"
    }
   },
   "outputs": [
    {
     "name": "stderr",
     "output_type": "stream",
     "text": [
      "Setting default log level to \"WARN\".\n",
      "To adjust logging level use sc.setLogLevel(newLevel). For SparkR, use setLogLevel(newLevel).\n",
      "24/06/23 22:58:37 WARN NativeCodeLoader: Unable to load native-hadoop library for your platform... using builtin-java classes where applicable\n"
     ]
    }
   ],
   "source": [
    "from pyspark.sql import SparkSession\n",
    "spark = SparkSession.builder.appName('instance').getOrCreate()"
   ]
  },
  {
   "cell_type": "markdown",
   "id": "edaff4cc-d8ac-4e62-aaab-8e50aac1e70d",
   "metadata": {},
   "source": [
    "## Partition Spark Data Frame by single column\n",
    "* `partitionBy` kwarg of `DataFrameWriter.write.parquet`\n",
    "* `partitionBy` DataFrame function "
   ]
  },
  {
   "cell_type": "code",
   "execution_count": 9,
   "id": "efc21e6d-4368-4321-bc0a-a2a5e4081e5f",
   "metadata": {
    "execution": {
     "iopub.execute_input": "2024-06-24T09:33:22.592032Z",
     "iopub.status.busy": "2024-06-24T09:33:22.591789Z",
     "iopub.status.idle": "2024-06-24T09:33:22.736357Z",
     "shell.execute_reply": "2024-06-24T09:33:22.736030Z",
     "shell.execute_reply.started": "2024-06-24T09:33:22.592010Z"
    }
   },
   "outputs": [
    {
     "name": "stdout",
     "output_type": "stream",
     "text": [
      "+-----------------+--------------------+--------+---------------+\n",
      "|order_customer_id|          order_date|order_id|   order_status|\n",
      "+-----------------+--------------------+--------+---------------+\n",
      "|            11599|2013-07-25T00:00:...|       1|         CLOSED|\n",
      "|              256|2013-07-25T00:00:...|       2|PENDING_PAYMENT|\n",
      "|            12111|2013-07-25T00:00:...|       3|       COMPLETE|\n",
      "|             8827|2013-07-25T00:00:...|       4|         CLOSED|\n",
      "|            11318|2013-07-25T00:00:...|       5|       COMPLETE|\n",
      "|             7130|2013-07-25T00:00:...|       6|       COMPLETE|\n",
      "|             4530|2013-07-25T00:00:...|       7|       COMPLETE|\n",
      "|             2911|2013-07-25T00:00:...|       8|     PROCESSING|\n",
      "|             5657|2013-07-25T00:00:...|       9|PENDING_PAYMENT|\n",
      "|             5648|2013-07-25T00:00:...|      10|PENDING_PAYMENT|\n",
      "|              918|2013-07-25T00:00:...|      11| PAYMENT_REVIEW|\n",
      "|             1837|2013-07-25T00:00:...|      12|         CLOSED|\n",
      "|             9149|2013-07-25T00:00:...|      13|PENDING_PAYMENT|\n",
      "|             9842|2013-07-25T00:00:...|      14|     PROCESSING|\n",
      "|             2568|2013-07-25T00:00:...|      15|       COMPLETE|\n",
      "|             7276|2013-07-25T00:00:...|      16|PENDING_PAYMENT|\n",
      "|             2667|2013-07-25T00:00:...|      17|       COMPLETE|\n",
      "|             1205|2013-07-25T00:00:...|      18|         CLOSED|\n",
      "|             9488|2013-07-25T00:00:...|      19|PENDING_PAYMENT|\n",
      "|             9198|2013-07-25T00:00:...|      20|     PROCESSING|\n",
      "+-----------------+--------------------+--------+---------------+\n",
      "only showing top 20 rows\n",
      "\n"
     ]
    },
    {
     "data": {
      "text/plain": [
       "[('order_customer_id', 'bigint'),\n",
       " ('order_date', 'string'),\n",
       " ('order_id', 'bigint'),\n",
       " ('order_status', 'string')]"
      ]
     },
     "execution_count": 9,
     "metadata": {},
     "output_type": "execute_result"
    }
   ],
   "source": [
    "json_path = '/Users/adhoc/git/retail_db/json/orders'\n",
    "\n",
    "orders = spark.read.json(json_path)\n",
    "orders.show()\n",
    "orders.dtypes"
   ]
  },
  {
   "cell_type": "code",
   "execution_count": 11,
   "id": "da810d4b-fdb6-4ae7-a6e8-d49507af1b04",
   "metadata": {
    "execution": {
     "iopub.execute_input": "2024-06-24T09:37:18.912349Z",
     "iopub.status.busy": "2024-06-24T09:37:18.911645Z",
     "iopub.status.idle": "2024-06-24T09:37:19.012176Z",
     "shell.execute_reply": "2024-06-24T09:37:19.011917Z",
     "shell.execute_reply.started": "2024-06-24T09:37:18.912318Z"
    }
   },
   "outputs": [
    {
     "name": "stdout",
     "output_type": "stream",
     "text": [
      "+-----------------+----------+--------+---------------+\n",
      "|order_customer_id|order_date|order_id|   order_status|\n",
      "+-----------------+----------+--------+---------------+\n",
      "|            11599|  20130725|       1|         CLOSED|\n",
      "|              256|  20130725|       2|PENDING_PAYMENT|\n",
      "|            12111|  20130725|       3|       COMPLETE|\n",
      "|             8827|  20130725|       4|         CLOSED|\n",
      "|            11318|  20130725|       5|       COMPLETE|\n",
      "|             7130|  20130725|       6|       COMPLETE|\n",
      "|             4530|  20130725|       7|       COMPLETE|\n",
      "|             2911|  20130725|       8|     PROCESSING|\n",
      "|             5657|  20130725|       9|PENDING_PAYMENT|\n",
      "|             5648|  20130725|      10|PENDING_PAYMENT|\n",
      "|              918|  20130725|      11| PAYMENT_REVIEW|\n",
      "|             1837|  20130725|      12|         CLOSED|\n",
      "|             9149|  20130725|      13|PENDING_PAYMENT|\n",
      "|             9842|  20130725|      14|     PROCESSING|\n",
      "|             2568|  20130725|      15|       COMPLETE|\n",
      "|             7276|  20130725|      16|PENDING_PAYMENT|\n",
      "|             2667|  20130725|      17|       COMPLETE|\n",
      "|             1205|  20130725|      18|         CLOSED|\n",
      "|             9488|  20130725|      19|PENDING_PAYMENT|\n",
      "|             9198|  20130725|      20|     PROCESSING|\n",
      "+-----------------+----------+--------+---------------+\n",
      "only showing top 20 rows\n",
      "\n"
     ]
    }
   ],
   "source": [
    "from pyspark.sql.functions import date_format\n",
    "\n",
    "orders. \\\n",
    "    withColumn('order_date', date_format('order_date', 'yyyyMMdd')). \\\n",
    "    show()"
   ]
  },
  {
   "cell_type": "code",
   "execution_count": 41,
   "id": "52ab0282-45e5-467a-b4d8-1862590fc55e",
   "metadata": {
    "execution": {
     "iopub.execute_input": "2024-06-24T09:57:06.112086Z",
     "iopub.status.busy": "2024-06-24T09:57:06.111309Z",
     "iopub.status.idle": "2024-06-24T09:57:09.277056Z",
     "shell.execute_reply": "2024-06-24T09:57:09.276773Z",
     "shell.execute_reply.started": "2024-06-24T09:57:06.112039Z"
    }
   },
   "outputs": [
    {
     "name": "stderr",
     "output_type": "stream",
     "text": [
      "                                                                                \r"
     ]
    }
   ],
   "source": [
    "parquet_path = '/Users/adhoc/git/retail_db/parquet/orders'\n",
    "\n",
    "orders. \\\n",
    "    withColumn('order_date', date_format('order_date', 'yyyyMMdd')). \\\n",
    "    coalesce(1). \\\n",
    "    write. \\\n",
    "    mode('overwrite'). \\\n",
    "    partitionBy('order_date'). \\\n",
    "    parquet(parquet_path)"
   ]
  },
  {
   "cell_type": "code",
   "execution_count": 42,
   "id": "808396b5-6459-4635-b205-36551459824d",
   "metadata": {
    "execution": {
     "iopub.execute_input": "2024-06-24T09:57:09.282109Z",
     "iopub.status.busy": "2024-06-24T09:57:09.282051Z",
     "iopub.status.idle": "2024-06-24T09:57:10.924410Z",
     "shell.execute_reply": "2024-06-24T09:57:10.924163Z",
     "shell.execute_reply.started": "2024-06-24T09:57:09.282102Z"
    }
   },
   "outputs": [
    {
     "name": "stdout",
     "output_type": "stream",
     "text": [
      "+-----------------+--------+---------------+----------+\n",
      "|order_customer_id|order_id|   order_status|order_date|\n",
      "+-----------------+--------+---------------+----------+\n",
      "|             6471|   15793|       COMPLETE|  20131103|\n",
      "|             5323|   15794|     PROCESSING|  20131103|\n",
      "|            10096|   15795|         CLOSED|  20131103|\n",
      "|            11665|   15796|       COMPLETE|  20131103|\n",
      "|             6249|   15797|PENDING_PAYMENT|  20131103|\n",
      "|            10736|   15798|       COMPLETE|  20131103|\n",
      "|             5475|   15799|       COMPLETE|  20131103|\n",
      "|             7417|   15800|     PROCESSING|  20131103|\n",
      "|             4021|   15801|       COMPLETE|  20131103|\n",
      "|             2284|   15802|         CLOSED|  20131103|\n",
      "|             1015|   15803|     PROCESSING|  20131103|\n",
      "|              208|   15804|       COMPLETE|  20131103|\n",
      "|             3708|   15805|        PENDING|  20131103|\n",
      "|            10239|   15806|PENDING_PAYMENT|  20131103|\n",
      "|             4709|   15807|PENDING_PAYMENT|  20131103|\n",
      "|             5877|   15808|PENDING_PAYMENT|  20131103|\n",
      "|             5361|   15809|        PENDING|  20131103|\n",
      "|               49|   15810|SUSPECTED_FRAUD|  20131103|\n",
      "|             3953|   15811|       COMPLETE|  20131103|\n",
      "|            11882|   15812|       COMPLETE|  20131103|\n",
      "+-----------------+--------+---------------+----------+\n",
      "only showing top 20 rows\n",
      "\n"
     ]
    },
    {
     "data": {
      "text/plain": [
       "(364,\n",
       " ['file:///Users/adhoc/git/retail_db/parquet/orders/order_date=20140204/part-00000-dce80bef-67ab-4b1d-adcc-ac05932d939a.c000.snappy.parquet',\n",
       "  'file:///Users/adhoc/git/retail_db/parquet/orders/order_date=20130809/part-00000-dce80bef-67ab-4b1d-adcc-ac05932d939a.c000.snappy.parquet',\n",
       "  'file:///Users/adhoc/git/retail_db/parquet/orders/order_date=20140502/part-00000-dce80bef-67ab-4b1d-adcc-ac05932d939a.c000.snappy.parquet',\n",
       "  'file:///Users/adhoc/git/retail_db/parquet/orders/order_date=20140614/part-00000-dce80bef-67ab-4b1d-adcc-ac05932d939a.c000.snappy.parquet',\n",
       "  'file:///Users/adhoc/git/retail_db/parquet/orders/order_date=20140412/part-00000-dce80bef-67ab-4b1d-adcc-ac05932d939a.c000.snappy.parquet',\n",
       "  'file:///Users/adhoc/git/retail_db/parquet/orders/order_date=20140604/part-00000-dce80bef-67ab-4b1d-adcc-ac05932d939a.c000.snappy.parquet',\n",
       "  'file:///Users/adhoc/git/retail_db/parquet/orders/order_date=20140402/part-00000-dce80bef-67ab-4b1d-adcc-ac05932d939a.c000.snappy.parquet',\n",
       "  'file:///Users/adhoc/git/retail_db/parquet/orders/order_date=20140607/part-00000-dce80bef-67ab-4b1d-adcc-ac05932d939a.c000.snappy.parquet',\n",
       "  'file:///Users/adhoc/git/retail_db/parquet/orders/order_date=20140223/part-00000-dce80bef-67ab-4b1d-adcc-ac05932d939a.c000.snappy.parquet',\n",
       "  'file:///Users/adhoc/git/retail_db/parquet/orders/order_date=20140429/part-00000-dce80bef-67ab-4b1d-adcc-ac05932d939a.c000.snappy.parquet'],\n",
       " [('order_customer_id', 'bigint'),\n",
       "  ('order_id', 'bigint'),\n",
       "  ('order_status', 'string'),\n",
       "  ('order_date', 'int')])"
      ]
     },
     "execution_count": 42,
     "metadata": {},
     "output_type": "execute_result"
    }
   ],
   "source": [
    "spark.read.parquet(parquet_path).show()\n",
    "len(spark.read.parquet(parquet_path).inputFiles()), \\\n",
    "spark.read.parquet(parquet_path).inputFiles()[:10], \\\n",
    "spark.read.parquet(parquet_path).dtypes"
   ]
  },
  {
   "cell_type": "code",
   "execution_count": 43,
   "id": "cc453fab-8e25-4334-9812-b6f9fe4c5a09",
   "metadata": {
    "execution": {
     "iopub.execute_input": "2024-06-24T09:57:17.545084Z",
     "iopub.status.busy": "2024-06-24T09:57:17.544368Z",
     "iopub.status.idle": "2024-06-24T09:57:18.325328Z",
     "shell.execute_reply": "2024-06-24T09:57:18.325041Z",
     "shell.execute_reply.started": "2024-06-24T09:57:17.545053Z"
    }
   },
   "outputs": [],
   "source": [
    "orders. \\\n",
    "    withColumn('order_month', date_format('order_date', 'yyyyMM')). \\\n",
    "    coalesce(1). \\\n",
    "    write. \\\n",
    "    mode('overwrite'). \\\n",
    "    parquet(parquet_path, partitionBy='order_month')"
   ]
  },
  {
   "cell_type": "code",
   "execution_count": 44,
   "id": "9f135544-1282-43f1-a354-32ac94ada275",
   "metadata": {
    "execution": {
     "iopub.execute_input": "2024-06-24T09:57:19.228823Z",
     "iopub.status.busy": "2024-06-24T09:57:19.228415Z",
     "iopub.status.idle": "2024-06-24T09:57:19.410471Z",
     "shell.execute_reply": "2024-06-24T09:57:19.410210Z",
     "shell.execute_reply.started": "2024-06-24T09:57:19.228797Z"
    }
   },
   "outputs": [
    {
     "name": "stdout",
     "output_type": "stream",
     "text": [
      "+-----------------+--------------------+--------+---------------+-----------+\n",
      "|order_customer_id|          order_date|order_id|   order_status|order_month|\n",
      "+-----------------+--------------------+--------+---------------+-----------+\n",
      "|             8987|2013-11-01T00:00:...|   15488|PENDING_PAYMENT|     201311|\n",
      "|             5359|2013-11-01T00:00:...|   15489|PENDING_PAYMENT|     201311|\n",
      "|            10149|2013-11-01T00:00:...|   15490|       COMPLETE|     201311|\n",
      "|            10635|2013-11-01T00:00:...|   15491|        ON_HOLD|     201311|\n",
      "|             7784|2013-11-01T00:00:...|   15492|PENDING_PAYMENT|     201311|\n",
      "|             1104|2013-11-01T00:00:...|   15493|        ON_HOLD|     201311|\n",
      "|             7313|2013-11-01T00:00:...|   15494|     PROCESSING|     201311|\n",
      "|             7067|2013-11-01T00:00:...|   15495|         CLOSED|     201311|\n",
      "|            12153|2013-11-01T00:00:...|   15496|PENDING_PAYMENT|     201311|\n",
      "|            11115|2013-11-01T00:00:...|   15497|PENDING_PAYMENT|     201311|\n",
      "|            11195|2013-11-01T00:00:...|   15498|       COMPLETE|     201311|\n",
      "|             7113|2013-11-01T00:00:...|   15499|         CLOSED|     201311|\n",
      "|             6780|2013-11-01T00:00:...|   15500|PENDING_PAYMENT|     201311|\n",
      "|             9703|2013-11-01T00:00:...|   15501|        ON_HOLD|     201311|\n",
      "|            10009|2013-11-01T00:00:...|   15502|       COMPLETE|     201311|\n",
      "|             6521|2013-11-01T00:00:...|   15503|PENDING_PAYMENT|     201311|\n",
      "|            10601|2013-11-01T00:00:...|   15504|PENDING_PAYMENT|     201311|\n",
      "|             1068|2013-11-01T00:00:...|   15505|PENDING_PAYMENT|     201311|\n",
      "|             2742|2013-11-01T00:00:...|   15506|PENDING_PAYMENT|     201311|\n",
      "|             3503|2013-11-01T00:00:...|   15507|       COMPLETE|     201311|\n",
      "+-----------------+--------------------+--------+---------------+-----------+\n",
      "only showing top 20 rows\n",
      "\n"
     ]
    },
    {
     "data": {
      "text/plain": [
       "(13,\n",
       " ['file:///Users/adhoc/git/retail_db/parquet/orders/order_month=201403/part-00000-72badc54-5e17-47aa-8e30-638d5b5f867c.c000.snappy.parquet',\n",
       "  'file:///Users/adhoc/git/retail_db/parquet/orders/order_month=201310/part-00000-72badc54-5e17-47aa-8e30-638d5b5f867c.c000.snappy.parquet',\n",
       "  'file:///Users/adhoc/git/retail_db/parquet/orders/order_month=201406/part-00000-72badc54-5e17-47aa-8e30-638d5b5f867c.c000.snappy.parquet',\n",
       "  'file:///Users/adhoc/git/retail_db/parquet/orders/order_month=201311/part-00000-72badc54-5e17-47aa-8e30-638d5b5f867c.c000.snappy.parquet',\n",
       "  'file:///Users/adhoc/git/retail_db/parquet/orders/order_month=201308/part-00000-72badc54-5e17-47aa-8e30-638d5b5f867c.c000.snappy.parquet',\n",
       "  'file:///Users/adhoc/git/retail_db/parquet/orders/order_month=201407/part-00000-72badc54-5e17-47aa-8e30-638d5b5f867c.c000.snappy.parquet',\n",
       "  'file:///Users/adhoc/git/retail_db/parquet/orders/order_month=201309/part-00000-72badc54-5e17-47aa-8e30-638d5b5f867c.c000.snappy.parquet',\n",
       "  'file:///Users/adhoc/git/retail_db/parquet/orders/order_month=201401/part-00000-72badc54-5e17-47aa-8e30-638d5b5f867c.c000.snappy.parquet',\n",
       "  'file:///Users/adhoc/git/retail_db/parquet/orders/order_month=201405/part-00000-72badc54-5e17-47aa-8e30-638d5b5f867c.c000.snappy.parquet',\n",
       "  'file:///Users/adhoc/git/retail_db/parquet/orders/order_month=201307/part-00000-72badc54-5e17-47aa-8e30-638d5b5f867c.c000.snappy.parquet'],\n",
       " [('order_customer_id', 'bigint'),\n",
       "  ('order_date', 'string'),\n",
       "  ('order_id', 'bigint'),\n",
       "  ('order_status', 'string'),\n",
       "  ('order_month', 'int')])"
      ]
     },
     "execution_count": 44,
     "metadata": {},
     "output_type": "execute_result"
    }
   ],
   "source": [
    "spark.read.parquet(parquet_path).show()\n",
    "len(spark.read.parquet(parquet_path).inputFiles()), \\\n",
    "spark.read.parquet(parquet_path).inputFiles()[:10], \\\n",
    "spark.read.parquet(parquet_path).dtypes"
   ]
  },
  {
   "cell_type": "markdown",
   "id": "f6f45240-64bc-4c6b-88c9-42de00dafb82",
   "metadata": {},
   "source": [
    "## Partition Spark Data Frame by multipe columns (composite partitioning)"
   ]
  },
  {
   "cell_type": "code",
   "execution_count": 46,
   "id": "6b94fe93-3d9a-491e-bfb3-92bb18239ee9",
   "metadata": {
    "execution": {
     "iopub.execute_input": "2024-06-24T10:03:33.953070Z",
     "iopub.status.busy": "2024-06-24T10:03:33.951960Z",
     "iopub.status.idle": "2024-06-24T10:03:37.429288Z",
     "shell.execute_reply": "2024-06-24T10:03:37.428898Z",
     "shell.execute_reply.started": "2024-06-24T10:03:33.953041Z"
    }
   },
   "outputs": [
    {
     "name": "stderr",
     "output_type": "stream",
     "text": [
      "                                                                                \r"
     ]
    }
   ],
   "source": [
    "from pyspark.sql.functions import date_format\n",
    "\n",
    "parquet_path = '/Users/adhoc/git/retail_db/parquet/orders'\n",
    "\n",
    "orders. \\\n",
    "    withColumn('year', date_format('order_date', 'yyyy')). \\\n",
    "    withColumn('month', date_format('order_date', 'MM')). \\\n",
    "    withColumn('day', date_format('order_date', 'dd')). \\\n",
    "    coalesce(1). \\\n",
    "    write. \\\n",
    "    mode('overwrite'). \\\n",
    "    parquet(parquet_path, partitionBy=['year', 'month', 'day'])"
   ]
  },
  {
   "cell_type": "code",
   "execution_count": 47,
   "id": "8c595654-e1d2-40b3-a5cc-f236f49f1f23",
   "metadata": {
    "execution": {
     "iopub.execute_input": "2024-06-24T10:03:49.897355Z",
     "iopub.status.busy": "2024-06-24T10:03:49.896744Z",
     "iopub.status.idle": "2024-06-24T10:03:50.464028Z",
     "shell.execute_reply": "2024-06-24T10:03:50.463764Z",
     "shell.execute_reply.started": "2024-06-24T10:03:49.897238Z"
    }
   },
   "outputs": [
    {
     "name": "stdout",
     "output_type": "stream",
     "text": [
      "+-----------------+--------------------+--------+---------------+----+-----+---+\n",
      "|order_customer_id|          order_date|order_id|   order_status|year|month|day|\n",
      "+-----------------+--------------------+--------+---------------+----+-----+---+\n",
      "|             6471|2013-11-03T00:00:...|   15793|       COMPLETE|2013|   11|  3|\n",
      "|             5323|2013-11-03T00:00:...|   15794|     PROCESSING|2013|   11|  3|\n",
      "|            10096|2013-11-03T00:00:...|   15795|         CLOSED|2013|   11|  3|\n",
      "|            11665|2013-11-03T00:00:...|   15796|       COMPLETE|2013|   11|  3|\n",
      "|             6249|2013-11-03T00:00:...|   15797|PENDING_PAYMENT|2013|   11|  3|\n",
      "|            10736|2013-11-03T00:00:...|   15798|       COMPLETE|2013|   11|  3|\n",
      "|             5475|2013-11-03T00:00:...|   15799|       COMPLETE|2013|   11|  3|\n",
      "|             7417|2013-11-03T00:00:...|   15800|     PROCESSING|2013|   11|  3|\n",
      "|             4021|2013-11-03T00:00:...|   15801|       COMPLETE|2013|   11|  3|\n",
      "|             2284|2013-11-03T00:00:...|   15802|         CLOSED|2013|   11|  3|\n",
      "|             1015|2013-11-03T00:00:...|   15803|     PROCESSING|2013|   11|  3|\n",
      "|              208|2013-11-03T00:00:...|   15804|       COMPLETE|2013|   11|  3|\n",
      "|             3708|2013-11-03T00:00:...|   15805|        PENDING|2013|   11|  3|\n",
      "|            10239|2013-11-03T00:00:...|   15806|PENDING_PAYMENT|2013|   11|  3|\n",
      "|             4709|2013-11-03T00:00:...|   15807|PENDING_PAYMENT|2013|   11|  3|\n",
      "|             5877|2013-11-03T00:00:...|   15808|PENDING_PAYMENT|2013|   11|  3|\n",
      "|             5361|2013-11-03T00:00:...|   15809|        PENDING|2013|   11|  3|\n",
      "|               49|2013-11-03T00:00:...|   15810|SUSPECTED_FRAUD|2013|   11|  3|\n",
      "|             3953|2013-11-03T00:00:...|   15811|       COMPLETE|2013|   11|  3|\n",
      "|            11882|2013-11-03T00:00:...|   15812|       COMPLETE|2013|   11|  3|\n",
      "+-----------------+--------------------+--------+---------------+----+-----+---+\n",
      "only showing top 20 rows\n",
      "\n"
     ]
    },
    {
     "data": {
      "text/plain": [
       "(364,\n",
       " ['file:///Users/adhoc/git/retail_db/parquet/orders/year=2014/month=03/day=30/part-00000-438cc701-3042-4014-89a6-73b52ecf12af.c000.snappy.parquet',\n",
       "  'file:///Users/adhoc/git/retail_db/parquet/orders/year=2014/month=04/day=07/part-00000-438cc701-3042-4014-89a6-73b52ecf12af.c000.snappy.parquet',\n",
       "  'file:///Users/adhoc/git/retail_db/parquet/orders/year=2013/month=11/day=10/part-00000-438cc701-3042-4014-89a6-73b52ecf12af.c000.snappy.parquet',\n",
       "  'file:///Users/adhoc/git/retail_db/parquet/orders/year=2013/month=11/day=23/part-00000-438cc701-3042-4014-89a6-73b52ecf12af.c000.snappy.parquet',\n",
       "  'file:///Users/adhoc/git/retail_db/parquet/orders/year=2014/month=04/day=24/part-00000-438cc701-3042-4014-89a6-73b52ecf12af.c000.snappy.parquet',\n",
       "  'file:///Users/adhoc/git/retail_db/parquet/orders/year=2013/month=12/day=21/part-00000-438cc701-3042-4014-89a6-73b52ecf12af.c000.snappy.parquet',\n",
       "  'file:///Users/adhoc/git/retail_db/parquet/orders/year=2013/month=08/day=06/part-00000-438cc701-3042-4014-89a6-73b52ecf12af.c000.snappy.parquet',\n",
       "  'file:///Users/adhoc/git/retail_db/parquet/orders/year=2014/month=07/day=03/part-00000-438cc701-3042-4014-89a6-73b52ecf12af.c000.snappy.parquet',\n",
       "  'file:///Users/adhoc/git/retail_db/parquet/orders/year=2013/month=09/day=29/part-00000-438cc701-3042-4014-89a6-73b52ecf12af.c000.snappy.parquet',\n",
       "  'file:///Users/adhoc/git/retail_db/parquet/orders/year=2014/month=02/day=19/part-00000-438cc701-3042-4014-89a6-73b52ecf12af.c000.snappy.parquet'],\n",
       " [('order_customer_id', 'bigint'),\n",
       "  ('order_date', 'string'),\n",
       "  ('order_id', 'bigint'),\n",
       "  ('order_status', 'string'),\n",
       "  ('year', 'int'),\n",
       "  ('month', 'int'),\n",
       "  ('day', 'int')])"
      ]
     },
     "execution_count": 47,
     "metadata": {},
     "output_type": "execute_result"
    }
   ],
   "source": [
    "spark.read.parquet(parquet_path).show()\n",
    "len(spark.read.parquet(parquet_path).inputFiles()), \\\n",
    "spark.read.parquet(parquet_path).inputFiles()[:10], \\\n",
    "spark.read.parquet(parquet_path).dtypes"
   ]
  },
  {
   "cell_type": "code",
   "execution_count": 56,
   "id": "6e0f6ac6-3959-42d7-9007-f51e3d21b362",
   "metadata": {
    "execution": {
     "iopub.execute_input": "2024-06-24T10:06:36.536033Z",
     "iopub.status.busy": "2024-06-24T10:06:36.535477Z",
     "iopub.status.idle": "2024-06-24T10:06:39.852310Z",
     "shell.execute_reply": "2024-06-24T10:06:39.852034Z",
     "shell.execute_reply.started": "2024-06-24T10:06:36.536002Z"
    }
   },
   "outputs": [
    {
     "name": "stderr",
     "output_type": "stream",
     "text": [
      "                                                                                \r"
     ]
    }
   ],
   "source": [
    "orders. \\\n",
    "    withColumn('year', date_format('order_date', 'yyyy')). \\\n",
    "    withColumn('month', date_format('order_date', 'MM')). \\\n",
    "    withColumn('day', date_format('order_date', 'dd')). \\\n",
    "    coalesce(1). \\\n",
    "    write. \\\n",
    "    partitionBy('year', 'month', 'day'). \\\n",
    "    mode('overwrite'). \\\n",
    "    parquet(parquet_path, mode='overwrite')"
   ]
  },
  {
   "cell_type": "code",
   "execution_count": 57,
   "id": "0a27fa00-d323-4d19-80be-f54f4b616811",
   "metadata": {
    "execution": {
     "iopub.execute_input": "2024-06-24T10:06:39.870835Z",
     "iopub.status.busy": "2024-06-24T10:06:39.870685Z",
     "iopub.status.idle": "2024-06-24T10:06:40.283104Z",
     "shell.execute_reply": "2024-06-24T10:06:40.282836Z",
     "shell.execute_reply.started": "2024-06-24T10:06:39.870824Z"
    }
   },
   "outputs": [
    {
     "name": "stdout",
     "output_type": "stream",
     "text": [
      "+-----------------+--------------------+--------+---------------+----+-----+---+\n",
      "|order_customer_id|          order_date|order_id|   order_status|year|month|day|\n",
      "+-----------------+--------------------+--------+---------------+----+-----+---+\n",
      "|             6471|2013-11-03T00:00:...|   15793|       COMPLETE|2013|   11|  3|\n",
      "|             5323|2013-11-03T00:00:...|   15794|     PROCESSING|2013|   11|  3|\n",
      "|            10096|2013-11-03T00:00:...|   15795|         CLOSED|2013|   11|  3|\n",
      "|            11665|2013-11-03T00:00:...|   15796|       COMPLETE|2013|   11|  3|\n",
      "|             6249|2013-11-03T00:00:...|   15797|PENDING_PAYMENT|2013|   11|  3|\n",
      "|            10736|2013-11-03T00:00:...|   15798|       COMPLETE|2013|   11|  3|\n",
      "|             5475|2013-11-03T00:00:...|   15799|       COMPLETE|2013|   11|  3|\n",
      "|             7417|2013-11-03T00:00:...|   15800|     PROCESSING|2013|   11|  3|\n",
      "|             4021|2013-11-03T00:00:...|   15801|       COMPLETE|2013|   11|  3|\n",
      "|             2284|2013-11-03T00:00:...|   15802|         CLOSED|2013|   11|  3|\n",
      "|             1015|2013-11-03T00:00:...|   15803|     PROCESSING|2013|   11|  3|\n",
      "|              208|2013-11-03T00:00:...|   15804|       COMPLETE|2013|   11|  3|\n",
      "|             3708|2013-11-03T00:00:...|   15805|        PENDING|2013|   11|  3|\n",
      "|            10239|2013-11-03T00:00:...|   15806|PENDING_PAYMENT|2013|   11|  3|\n",
      "|             4709|2013-11-03T00:00:...|   15807|PENDING_PAYMENT|2013|   11|  3|\n",
      "|             5877|2013-11-03T00:00:...|   15808|PENDING_PAYMENT|2013|   11|  3|\n",
      "|             5361|2013-11-03T00:00:...|   15809|        PENDING|2013|   11|  3|\n",
      "|               49|2013-11-03T00:00:...|   15810|SUSPECTED_FRAUD|2013|   11|  3|\n",
      "|             3953|2013-11-03T00:00:...|   15811|       COMPLETE|2013|   11|  3|\n",
      "|            11882|2013-11-03T00:00:...|   15812|       COMPLETE|2013|   11|  3|\n",
      "+-----------------+--------------------+--------+---------------+----+-----+---+\n",
      "only showing top 20 rows\n",
      "\n"
     ]
    },
    {
     "data": {
      "text/plain": [
       "(364,\n",
       " ['file:///Users/adhoc/git/retail_db/parquet/orders/year=2014/month=06/day=18/part-00000-711cc3a5-fcdb-4f77-91bf-0674067d3552.c000.snappy.parquet',\n",
       "  'file:///Users/adhoc/git/retail_db/parquet/orders/year=2013/month=08/day=01/part-00000-711cc3a5-fcdb-4f77-91bf-0674067d3552.c000.snappy.parquet',\n",
       "  'file:///Users/adhoc/git/retail_db/parquet/orders/year=2014/month=03/day=16/part-00000-711cc3a5-fcdb-4f77-91bf-0674067d3552.c000.snappy.parquet',\n",
       "  'file:///Users/adhoc/git/retail_db/parquet/orders/year=2014/month=02/day=08/part-00000-711cc3a5-fcdb-4f77-91bf-0674067d3552.c000.snappy.parquet',\n",
       "  'file:///Users/adhoc/git/retail_db/parquet/orders/year=2013/month=09/day=02/part-00000-711cc3a5-fcdb-4f77-91bf-0674067d3552.c000.snappy.parquet',\n",
       "  'file:///Users/adhoc/git/retail_db/parquet/orders/year=2013/month=08/day=18/part-00000-711cc3a5-fcdb-4f77-91bf-0674067d3552.c000.snappy.parquet',\n",
       "  'file:///Users/adhoc/git/retail_db/parquet/orders/year=2013/month=12/day=15/part-00000-711cc3a5-fcdb-4f77-91bf-0674067d3552.c000.snappy.parquet',\n",
       "  'file:///Users/adhoc/git/retail_db/parquet/orders/year=2013/month=10/day=13/part-00000-711cc3a5-fcdb-4f77-91bf-0674067d3552.c000.snappy.parquet',\n",
       "  'file:///Users/adhoc/git/retail_db/parquet/orders/year=2013/month=12/day=10/part-00000-711cc3a5-fcdb-4f77-91bf-0674067d3552.c000.snappy.parquet',\n",
       "  'file:///Users/adhoc/git/retail_db/parquet/orders/year=2014/month=05/day=13/part-00000-711cc3a5-fcdb-4f77-91bf-0674067d3552.c000.snappy.parquet'],\n",
       " [('order_customer_id', 'bigint'),\n",
       "  ('order_date', 'string'),\n",
       "  ('order_id', 'bigint'),\n",
       "  ('order_status', 'string'),\n",
       "  ('year', 'int'),\n",
       "  ('month', 'int'),\n",
       "  ('day', 'int')])"
      ]
     },
     "execution_count": 57,
     "metadata": {},
     "output_type": "execute_result"
    }
   ],
   "source": [
    "spark.read.parquet(parquet_path).show()\n",
    "len(spark.read.parquet(parquet_path).inputFiles()), \\\n",
    "spark.read.parquet(parquet_path).inputFiles()[:10], \\\n",
    "spark.read.parquet(parquet_path).dtypes"
   ]
  },
  {
   "cell_type": "markdown",
   "id": "e465a395-b9da-4ca1-92de-643af1f31745",
   "metadata": {
    "execution": {
     "iopub.execute_input": "2024-06-24T10:09:19.474837Z",
     "iopub.status.busy": "2024-06-24T10:09:19.474028Z",
     "iopub.status.idle": "2024-06-24T10:09:19.482457Z",
     "shell.execute_reply": "2024-06-24T10:09:19.481537Z",
     "shell.execute_reply.started": "2024-06-24T10:09:19.474810Z"
    }
   },
   "source": [
    "## Partition pruning"
   ]
  },
  {
   "cell_type": "code",
   "execution_count": 64,
   "id": "93206539-8bb7-4c60-b390-fb2ee52db9d8",
   "metadata": {
    "execution": {
     "iopub.execute_input": "2024-06-24T10:17:06.174132Z",
     "iopub.status.busy": "2024-06-24T10:17:06.173581Z",
     "iopub.status.idle": "2024-06-24T10:17:06.386308Z",
     "shell.execute_reply": "2024-06-24T10:17:06.386071Z",
     "shell.execute_reply.started": "2024-06-24T10:17:06.174102Z"
    }
   },
   "outputs": [
    {
     "data": {
      "text/plain": [
       "68883"
      ]
     },
     "execution_count": 64,
     "metadata": {},
     "output_type": "execute_result"
    }
   ],
   "source": [
    "spark.read.parquet(parquet_path).count()\n"
   ]
  },
  {
   "cell_type": "code",
   "execution_count": 63,
   "id": "c8a7cae1-21ef-48f8-a6ec-dd04a2ec2073",
   "metadata": {
    "execution": {
     "iopub.execute_input": "2024-06-24T10:16:56.388840Z",
     "iopub.status.busy": "2024-06-24T10:16:56.388282Z",
     "iopub.status.idle": "2024-06-24T10:16:56.651897Z",
     "shell.execute_reply": "2024-06-24T10:16:56.651580Z",
     "shell.execute_reply.started": "2024-06-24T10:16:56.388810Z"
    }
   },
   "outputs": [
    {
     "data": {
      "text/plain": [
       "30662"
      ]
     },
     "execution_count": 63,
     "metadata": {},
     "output_type": "execute_result"
    }
   ],
   "source": [
    "#partition pruning\n",
    "spark.read.parquet(parquet_path).filter('year=2013').count()"
   ]
  },
  {
   "cell_type": "code",
   "execution_count": 67,
   "id": "3413e5f5-86ef-4ed6-9ec0-400b0c36f904",
   "metadata": {
    "execution": {
     "iopub.execute_input": "2024-06-24T10:19:22.928788Z",
     "iopub.status.busy": "2024-06-24T10:19:22.928246Z",
     "iopub.status.idle": "2024-06-24T10:19:23.133377Z",
     "shell.execute_reply": "2024-06-24T10:19:23.133122Z",
     "shell.execute_reply.started": "2024-06-24T10:19:22.928753Z"
    }
   },
   "outputs": [
    {
     "name": "stdout",
     "output_type": "stream",
     "text": [
      "+---------+---------+-----------+\n",
      "|namespace|tableName|isTemporary|\n",
      "+---------+---------+-----------+\n",
      "|         |   orders|       true|\n",
      "+---------+---------+-----------+\n",
      "\n"
     ]
    }
   ],
   "source": [
    "spark.read.parquet(parquet_path).createOrReplaceTempView('orders')\n",
    "spark.sql('SHOW tables').show()"
   ]
  },
  {
   "cell_type": "code",
   "execution_count": 77,
   "id": "86d0db6a-0b7c-449a-a97f-a805ef637938",
   "metadata": {
    "execution": {
     "iopub.execute_input": "2024-06-24T10:29:32.130155Z",
     "iopub.status.busy": "2024-06-24T10:29:32.129618Z",
     "iopub.status.idle": "2024-06-24T10:29:32.327283Z",
     "shell.execute_reply": "2024-06-24T10:29:32.327047Z",
     "shell.execute_reply.started": "2024-06-24T10:29:32.130126Z"
    }
   },
   "outputs": [
    {
     "name": "stdout",
     "output_type": "stream",
     "text": [
      "+--------+\n",
      "|count(1)|\n",
      "+--------+\n",
      "|   30662|\n",
      "+--------+\n",
      "\n",
      "== Physical Plan ==\n",
      "AdaptiveSparkPlan isFinalPlan=false\n",
      "+- HashAggregate(keys=[], functions=[count(1)])\n",
      "   +- Exchange SinglePartition, ENSURE_REQUIREMENTS, [plan_id=1278]\n",
      "      +- HashAggregate(keys=[], functions=[partial_count(1)])\n",
      "         +- Project\n",
      "            +- FileScan parquet [year#1853,month#1854,day#1855] Batched: true, DataFilters: [], Format: Parquet, Location: InMemoryFileIndex(1 paths)[file:/Users/adhoc/git/retail_db/parquet/orders], PartitionFilters: [isnotnull(year#1853), (year#1853 = 2013)], PushedFilters: [], ReadSchema: struct<>\n",
      "\n",
      "\n"
     ]
    }
   ],
   "source": [
    "spark.sql(\"\"\"\n",
    "    select count(1)\n",
    "    from orders\n",
    "    where year=2013\n",
    "\"\"\").show()\n",
    "\n",
    "# partition pruning in explain plan -> PartitionFilters: [isnotnull(year#1853), (year#1853 = 2013)]\n",
    "spark.sql(\"\"\"\n",
    "    select count(1)\n",
    "    from orders\n",
    "    where year=2013\n",
    "\"\"\").explain()"
   ]
  },
  {
   "cell_type": "code",
   "execution_count": 76,
   "id": "99a68b97-5352-4181-a8e7-25f1a647c5d7",
   "metadata": {
    "execution": {
     "iopub.execute_input": "2024-06-24T10:27:02.734416Z",
     "iopub.status.busy": "2024-06-24T10:27:02.733747Z",
     "iopub.status.idle": "2024-06-24T10:27:02.752247Z",
     "shell.execute_reply": "2024-06-24T10:27:02.751302Z",
     "shell.execute_reply.started": "2024-06-24T10:27:02.734386Z"
    }
   },
   "outputs": [
    {
     "data": {
      "text/plain": [
       "'http://192.168.200.166:4040'"
      ]
     },
     "execution_count": 76,
     "metadata": {},
     "output_type": "execute_result"
    }
   ],
   "source": [
    "#getting spark URL -> localhost:4040\n",
    "spark.sparkContext.uiWebUrl"
   ]
  }
 ],
 "metadata": {
  "kernelspec": {
   "display_name": "Python 3 (ipykernel)",
   "language": "python",
   "name": "python3"
  },
  "language_info": {
   "codemirror_mode": {
    "name": "ipython",
    "version": 3
   },
   "file_extension": ".py",
   "mimetype": "text/x-python",
   "name": "python",
   "nbconvert_exporter": "python",
   "pygments_lexer": "ipython3",
   "version": "3.11.9"
  }
 },
 "nbformat": 4,
 "nbformat_minor": 5
}
