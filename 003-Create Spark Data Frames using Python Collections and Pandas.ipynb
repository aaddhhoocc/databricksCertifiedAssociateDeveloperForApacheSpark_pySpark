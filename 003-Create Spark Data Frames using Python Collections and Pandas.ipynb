{
 "cells": [
  {
   "cell_type": "markdown",
   "id": "f41bbdb6-cf47-4143-b42b-9af71d69d916",
   "metadata": {},
   "source": [
    "## SparkSession"
   ]
  },
  {
   "cell_type": "code",
   "execution_count": 3,
   "id": "26faefd0-f79f-43d5-a5a7-adae960e396e",
   "metadata": {
    "execution": {
     "iopub.execute_input": "2024-05-27T22:48:51.797086Z",
     "iopub.status.busy": "2024-05-27T22:48:51.796390Z",
     "iopub.status.idle": "2024-05-27T22:48:51.813792Z",
     "shell.execute_reply": "2024-05-27T22:48:51.813027Z",
     "shell.execute_reply.started": "2024-05-27T22:48:51.797042Z"
    }
   },
   "outputs": [
    {
     "data": {
      "text/plain": [
       "'/opt/homebrew/opt/python@3.11/bin/python3.11'"
      ]
     },
     "execution_count": 3,
     "metadata": {},
     "output_type": "execute_result"
    }
   ],
   "source": [
    "import sys\n",
    "\n",
    "sys.executable"
   ]
  },
  {
   "cell_type": "code",
   "execution_count": 4,
   "id": "cd39bd85-8bd0-44d2-b91f-48dc0aa79f8d",
   "metadata": {
    "execution": {
     "iopub.execute_input": "2024-05-27T22:48:58.685012Z",
     "iopub.status.busy": "2024-05-27T22:48:58.684164Z",
     "iopub.status.idle": "2024-05-27T22:49:05.281309Z",
     "shell.execute_reply": "2024-05-27T22:49:05.280992Z",
     "shell.execute_reply.started": "2024-05-27T22:48:58.684960Z"
    }
   },
   "outputs": [
    {
     "name": "stderr",
     "output_type": "stream",
     "text": [
      "Setting default log level to \"WARN\".\n",
      "To adjust logging level use sc.setLogLevel(newLevel). For SparkR, use setLogLevel(newLevel).\n",
      "24/05/28 00:49:04 WARN NativeCodeLoader: Unable to load native-hadoop library for your platform... using builtin-java classes where applicable\n"
     ]
    }
   ],
   "source": [
    "from pyspark.sql import SparkSession\n",
    "#spark = SparkSession.builder.appName(\"instance\").config().getOrCreate()\n",
    "spark = SparkSession.builder.appName(\"instance\").getOrCreate()"
   ]
  },
  {
   "cell_type": "markdown",
   "id": "6583ae7b-8fce-4524-a792-01b3f67ae4b0",
   "metadata": {},
   "source": [
    "## Single column DataFrame from list"
   ]
  },
  {
   "cell_type": "code",
   "execution_count": 3,
   "id": "0124e208-891c-49df-8a0a-1bbc1c5486f4",
   "metadata": {
    "execution": {
     "iopub.execute_input": "2024-05-23T23:23:08.097252Z",
     "iopub.status.busy": "2024-05-23T23:23:08.097176Z",
     "iopub.status.idle": "2024-05-23T23:23:10.491159Z",
     "shell.execute_reply": "2024-05-23T23:23:10.490879Z",
     "shell.execute_reply.started": "2024-05-23T23:23:08.097242Z"
    }
   },
   "outputs": [
    {
     "name": "stdout",
     "output_type": "stream",
     "text": [
      "+-----+\n",
      "|value|\n",
      "+-----+\n",
      "|    1|\n",
      "|    2|\n",
      "|    3|\n",
      "|    4|\n",
      "|    5|\n",
      "+-----+\n",
      "\n"
     ]
    }
   ],
   "source": [
    "ages_list = [1,2,3,4,5]\n",
    "\n",
    "from pyspark.sql.types import IntegerType, StringType\n",
    "#spark.createDataFrame(ages_list)        #error\n",
    "#spark.createDataFrame(ages_list, 'int') #ok\n",
    "\n",
    "df = spark.createDataFrame(ages_list, IntegerType())\n",
    "df.show()"
   ]
  },
  {
   "cell_type": "markdown",
   "id": "331a6284-7320-4e98-a19b-e2e9a2616743",
   "metadata": {},
   "source": [
    "## spark.conf.set"
   ]
  },
  {
   "cell_type": "code",
   "execution_count": 4,
   "id": "7c11aebf-8114-431a-8a28-8e5b70986bfa",
   "metadata": {
    "execution": {
     "iopub.execute_input": "2024-05-23T23:23:20.409169Z",
     "iopub.status.busy": "2024-05-23T23:23:20.408129Z",
     "iopub.status.idle": "2024-05-23T23:23:20.850422Z",
     "shell.execute_reply": "2024-05-23T23:23:20.850149Z",
     "shell.execute_reply.started": "2024-05-23T23:23:20.409124Z"
    }
   },
   "outputs": [
    {
     "data": {
      "text/html": [
       "<table border='1'>\n",
       "<tr><th>value</th></tr>\n",
       "<tr><td>1</td></tr>\n",
       "<tr><td>2</td></tr>\n",
       "<tr><td>3</td></tr>\n",
       "<tr><td>4</td></tr>\n",
       "<tr><td>5</td></tr>\n",
       "</table>\n"
      ],
      "text/plain": [
       "+-----+\n",
       "|value|\n",
       "+-----+\n",
       "|    1|\n",
       "|    2|\n",
       "|    3|\n",
       "|    4|\n",
       "|    5|\n",
       "+-----+"
      ]
     },
     "execution_count": 4,
     "metadata": {},
     "output_type": "execute_result"
    }
   ],
   "source": [
    "#spark.conf.set('spark.sql.shuffle.partitions', '2')\n",
    "spark.conf.set('spark.sql.repl.eagerEval.enabled', True)\n",
    "df"
   ]
  },
  {
   "cell_type": "code",
   "execution_count": 5,
   "id": "8ab29027-eeee-4b06-a309-9e7ffd41a456",
   "metadata": {
    "execution": {
     "iopub.execute_input": "2024-05-23T23:23:21.606902Z",
     "iopub.status.busy": "2024-05-23T23:23:21.606421Z",
     "iopub.status.idle": "2024-05-23T23:23:21.618148Z",
     "shell.execute_reply": "2024-05-23T23:23:21.617285Z",
     "shell.execute_reply.started": "2024-05-23T23:23:21.606874Z"
    }
   },
   "outputs": [
    {
     "data": {
      "text/plain": [
       "DataFrame[value: int]"
      ]
     },
     "execution_count": 5,
     "metadata": {},
     "output_type": "execute_result"
    }
   ],
   "source": [
    "spark.conf.set('spark.sql.repl.eagerEval.enabled', False)\n",
    "df"
   ]
  },
  {
   "cell_type": "markdown",
   "id": "5a2fa79a-5165-4423-92c1-0195d8a41420",
   "metadata": {
    "execution": {
     "iopub.execute_input": "2024-04-19T23:02:49.509630Z",
     "iopub.status.busy": "2024-04-19T23:02:49.509047Z",
     "iopub.status.idle": "2024-04-19T23:02:49.516511Z",
     "shell.execute_reply": "2024-04-19T23:02:49.515213Z",
     "shell.execute_reply.started": "2024-04-19T23:02:49.509602Z"
    },
    "jp-MarkdownHeadingCollapsed": true
   },
   "source": [
    "## Help (documentation)"
   ]
  },
  {
   "cell_type": "code",
   "execution_count": 6,
   "id": "f1954cd6-acb6-4ea4-a4eb-d57c192245e5",
   "metadata": {
    "execution": {
     "iopub.execute_input": "2024-05-23T23:23:24.386322Z",
     "iopub.status.busy": "2024-05-23T23:23:24.385592Z",
     "iopub.status.idle": "2024-05-23T23:23:24.415248Z",
     "shell.execute_reply": "2024-05-23T23:23:24.414646Z",
     "shell.execute_reply.started": "2024-05-23T23:23:24.386276Z"
    }
   },
   "outputs": [
    {
     "data": {
      "text/plain": [
       "\u001b[0;31mSignature:\u001b[0m\n",
       "\u001b[0mspark\u001b[0m\u001b[0;34m.\u001b[0m\u001b[0mread\u001b[0m\u001b[0;34m.\u001b[0m\u001b[0mcsv\u001b[0m\u001b[0;34m(\u001b[0m\u001b[0;34m\u001b[0m\n",
       "\u001b[0;34m\u001b[0m    \u001b[0mpath\u001b[0m\u001b[0;34m:\u001b[0m \u001b[0mUnion\u001b[0m\u001b[0;34m[\u001b[0m\u001b[0mstr\u001b[0m\u001b[0;34m,\u001b[0m \u001b[0mList\u001b[0m\u001b[0;34m[\u001b[0m\u001b[0mstr\u001b[0m\u001b[0;34m]\u001b[0m\u001b[0;34m]\u001b[0m\u001b[0;34m,\u001b[0m\u001b[0;34m\u001b[0m\n",
       "\u001b[0;34m\u001b[0m    \u001b[0mschema\u001b[0m\u001b[0;34m:\u001b[0m \u001b[0mUnion\u001b[0m\u001b[0;34m[\u001b[0m\u001b[0mpyspark\u001b[0m\u001b[0;34m.\u001b[0m\u001b[0msql\u001b[0m\u001b[0;34m.\u001b[0m\u001b[0mtypes\u001b[0m\u001b[0;34m.\u001b[0m\u001b[0mStructType\u001b[0m\u001b[0;34m,\u001b[0m \u001b[0mstr\u001b[0m\u001b[0;34m,\u001b[0m \u001b[0mNoneType\u001b[0m\u001b[0;34m]\u001b[0m \u001b[0;34m=\u001b[0m \u001b[0;32mNone\u001b[0m\u001b[0;34m,\u001b[0m\u001b[0;34m\u001b[0m\n",
       "\u001b[0;34m\u001b[0m    \u001b[0msep\u001b[0m\u001b[0;34m:\u001b[0m \u001b[0mOptional\u001b[0m\u001b[0;34m[\u001b[0m\u001b[0mstr\u001b[0m\u001b[0;34m]\u001b[0m \u001b[0;34m=\u001b[0m \u001b[0;32mNone\u001b[0m\u001b[0;34m,\u001b[0m\u001b[0;34m\u001b[0m\n",
       "\u001b[0;34m\u001b[0m    \u001b[0mencoding\u001b[0m\u001b[0;34m:\u001b[0m \u001b[0mOptional\u001b[0m\u001b[0;34m[\u001b[0m\u001b[0mstr\u001b[0m\u001b[0;34m]\u001b[0m \u001b[0;34m=\u001b[0m \u001b[0;32mNone\u001b[0m\u001b[0;34m,\u001b[0m\u001b[0;34m\u001b[0m\n",
       "\u001b[0;34m\u001b[0m    \u001b[0mquote\u001b[0m\u001b[0;34m:\u001b[0m \u001b[0mOptional\u001b[0m\u001b[0;34m[\u001b[0m\u001b[0mstr\u001b[0m\u001b[0;34m]\u001b[0m \u001b[0;34m=\u001b[0m \u001b[0;32mNone\u001b[0m\u001b[0;34m,\u001b[0m\u001b[0;34m\u001b[0m\n",
       "\u001b[0;34m\u001b[0m    \u001b[0mescape\u001b[0m\u001b[0;34m:\u001b[0m \u001b[0mOptional\u001b[0m\u001b[0;34m[\u001b[0m\u001b[0mstr\u001b[0m\u001b[0;34m]\u001b[0m \u001b[0;34m=\u001b[0m \u001b[0;32mNone\u001b[0m\u001b[0;34m,\u001b[0m\u001b[0;34m\u001b[0m\n",
       "\u001b[0;34m\u001b[0m    \u001b[0mcomment\u001b[0m\u001b[0;34m:\u001b[0m \u001b[0mOptional\u001b[0m\u001b[0;34m[\u001b[0m\u001b[0mstr\u001b[0m\u001b[0;34m]\u001b[0m \u001b[0;34m=\u001b[0m \u001b[0;32mNone\u001b[0m\u001b[0;34m,\u001b[0m\u001b[0;34m\u001b[0m\n",
       "\u001b[0;34m\u001b[0m    \u001b[0mheader\u001b[0m\u001b[0;34m:\u001b[0m \u001b[0mUnion\u001b[0m\u001b[0;34m[\u001b[0m\u001b[0mbool\u001b[0m\u001b[0;34m,\u001b[0m \u001b[0mstr\u001b[0m\u001b[0;34m,\u001b[0m \u001b[0mNoneType\u001b[0m\u001b[0;34m]\u001b[0m \u001b[0;34m=\u001b[0m \u001b[0;32mNone\u001b[0m\u001b[0;34m,\u001b[0m\u001b[0;34m\u001b[0m\n",
       "\u001b[0;34m\u001b[0m    \u001b[0minferSchema\u001b[0m\u001b[0;34m:\u001b[0m \u001b[0mUnion\u001b[0m\u001b[0;34m[\u001b[0m\u001b[0mbool\u001b[0m\u001b[0;34m,\u001b[0m \u001b[0mstr\u001b[0m\u001b[0;34m,\u001b[0m \u001b[0mNoneType\u001b[0m\u001b[0;34m]\u001b[0m \u001b[0;34m=\u001b[0m \u001b[0;32mNone\u001b[0m\u001b[0;34m,\u001b[0m\u001b[0;34m\u001b[0m\n",
       "\u001b[0;34m\u001b[0m    \u001b[0mignoreLeadingWhiteSpace\u001b[0m\u001b[0;34m:\u001b[0m \u001b[0mUnion\u001b[0m\u001b[0;34m[\u001b[0m\u001b[0mbool\u001b[0m\u001b[0;34m,\u001b[0m \u001b[0mstr\u001b[0m\u001b[0;34m,\u001b[0m \u001b[0mNoneType\u001b[0m\u001b[0;34m]\u001b[0m \u001b[0;34m=\u001b[0m \u001b[0;32mNone\u001b[0m\u001b[0;34m,\u001b[0m\u001b[0;34m\u001b[0m\n",
       "\u001b[0;34m\u001b[0m    \u001b[0mignoreTrailingWhiteSpace\u001b[0m\u001b[0;34m:\u001b[0m \u001b[0mUnion\u001b[0m\u001b[0;34m[\u001b[0m\u001b[0mbool\u001b[0m\u001b[0;34m,\u001b[0m \u001b[0mstr\u001b[0m\u001b[0;34m,\u001b[0m \u001b[0mNoneType\u001b[0m\u001b[0;34m]\u001b[0m \u001b[0;34m=\u001b[0m \u001b[0;32mNone\u001b[0m\u001b[0;34m,\u001b[0m\u001b[0;34m\u001b[0m\n",
       "\u001b[0;34m\u001b[0m    \u001b[0mnullValue\u001b[0m\u001b[0;34m:\u001b[0m \u001b[0mOptional\u001b[0m\u001b[0;34m[\u001b[0m\u001b[0mstr\u001b[0m\u001b[0;34m]\u001b[0m \u001b[0;34m=\u001b[0m \u001b[0;32mNone\u001b[0m\u001b[0;34m,\u001b[0m\u001b[0;34m\u001b[0m\n",
       "\u001b[0;34m\u001b[0m    \u001b[0mnanValue\u001b[0m\u001b[0;34m:\u001b[0m \u001b[0mOptional\u001b[0m\u001b[0;34m[\u001b[0m\u001b[0mstr\u001b[0m\u001b[0;34m]\u001b[0m \u001b[0;34m=\u001b[0m \u001b[0;32mNone\u001b[0m\u001b[0;34m,\u001b[0m\u001b[0;34m\u001b[0m\n",
       "\u001b[0;34m\u001b[0m    \u001b[0mpositiveInf\u001b[0m\u001b[0;34m:\u001b[0m \u001b[0mOptional\u001b[0m\u001b[0;34m[\u001b[0m\u001b[0mstr\u001b[0m\u001b[0;34m]\u001b[0m \u001b[0;34m=\u001b[0m \u001b[0;32mNone\u001b[0m\u001b[0;34m,\u001b[0m\u001b[0;34m\u001b[0m\n",
       "\u001b[0;34m\u001b[0m    \u001b[0mnegativeInf\u001b[0m\u001b[0;34m:\u001b[0m \u001b[0mOptional\u001b[0m\u001b[0;34m[\u001b[0m\u001b[0mstr\u001b[0m\u001b[0;34m]\u001b[0m \u001b[0;34m=\u001b[0m \u001b[0;32mNone\u001b[0m\u001b[0;34m,\u001b[0m\u001b[0;34m\u001b[0m\n",
       "\u001b[0;34m\u001b[0m    \u001b[0mdateFormat\u001b[0m\u001b[0;34m:\u001b[0m \u001b[0mOptional\u001b[0m\u001b[0;34m[\u001b[0m\u001b[0mstr\u001b[0m\u001b[0;34m]\u001b[0m \u001b[0;34m=\u001b[0m \u001b[0;32mNone\u001b[0m\u001b[0;34m,\u001b[0m\u001b[0;34m\u001b[0m\n",
       "\u001b[0;34m\u001b[0m    \u001b[0mtimestampFormat\u001b[0m\u001b[0;34m:\u001b[0m \u001b[0mOptional\u001b[0m\u001b[0;34m[\u001b[0m\u001b[0mstr\u001b[0m\u001b[0;34m]\u001b[0m \u001b[0;34m=\u001b[0m \u001b[0;32mNone\u001b[0m\u001b[0;34m,\u001b[0m\u001b[0;34m\u001b[0m\n",
       "\u001b[0;34m\u001b[0m    \u001b[0mmaxColumns\u001b[0m\u001b[0;34m:\u001b[0m \u001b[0mUnion\u001b[0m\u001b[0;34m[\u001b[0m\u001b[0mstr\u001b[0m\u001b[0;34m,\u001b[0m \u001b[0mint\u001b[0m\u001b[0;34m,\u001b[0m \u001b[0mNoneType\u001b[0m\u001b[0;34m]\u001b[0m \u001b[0;34m=\u001b[0m \u001b[0;32mNone\u001b[0m\u001b[0;34m,\u001b[0m\u001b[0;34m\u001b[0m\n",
       "\u001b[0;34m\u001b[0m    \u001b[0mmaxCharsPerColumn\u001b[0m\u001b[0;34m:\u001b[0m \u001b[0mUnion\u001b[0m\u001b[0;34m[\u001b[0m\u001b[0mstr\u001b[0m\u001b[0;34m,\u001b[0m \u001b[0mint\u001b[0m\u001b[0;34m,\u001b[0m \u001b[0mNoneType\u001b[0m\u001b[0;34m]\u001b[0m \u001b[0;34m=\u001b[0m \u001b[0;32mNone\u001b[0m\u001b[0;34m,\u001b[0m\u001b[0;34m\u001b[0m\n",
       "\u001b[0;34m\u001b[0m    \u001b[0mmaxMalformedLogPerPartition\u001b[0m\u001b[0;34m:\u001b[0m \u001b[0mUnion\u001b[0m\u001b[0;34m[\u001b[0m\u001b[0mstr\u001b[0m\u001b[0;34m,\u001b[0m \u001b[0mint\u001b[0m\u001b[0;34m,\u001b[0m \u001b[0mNoneType\u001b[0m\u001b[0;34m]\u001b[0m \u001b[0;34m=\u001b[0m \u001b[0;32mNone\u001b[0m\u001b[0;34m,\u001b[0m\u001b[0;34m\u001b[0m\n",
       "\u001b[0;34m\u001b[0m    \u001b[0mmode\u001b[0m\u001b[0;34m:\u001b[0m \u001b[0mOptional\u001b[0m\u001b[0;34m[\u001b[0m\u001b[0mstr\u001b[0m\u001b[0;34m]\u001b[0m \u001b[0;34m=\u001b[0m \u001b[0;32mNone\u001b[0m\u001b[0;34m,\u001b[0m\u001b[0;34m\u001b[0m\n",
       "\u001b[0;34m\u001b[0m    \u001b[0mcolumnNameOfCorruptRecord\u001b[0m\u001b[0;34m:\u001b[0m \u001b[0mOptional\u001b[0m\u001b[0;34m[\u001b[0m\u001b[0mstr\u001b[0m\u001b[0;34m]\u001b[0m \u001b[0;34m=\u001b[0m \u001b[0;32mNone\u001b[0m\u001b[0;34m,\u001b[0m\u001b[0;34m\u001b[0m\n",
       "\u001b[0;34m\u001b[0m    \u001b[0mmultiLine\u001b[0m\u001b[0;34m:\u001b[0m \u001b[0mUnion\u001b[0m\u001b[0;34m[\u001b[0m\u001b[0mbool\u001b[0m\u001b[0;34m,\u001b[0m \u001b[0mstr\u001b[0m\u001b[0;34m,\u001b[0m \u001b[0mNoneType\u001b[0m\u001b[0;34m]\u001b[0m \u001b[0;34m=\u001b[0m \u001b[0;32mNone\u001b[0m\u001b[0;34m,\u001b[0m\u001b[0;34m\u001b[0m\n",
       "\u001b[0;34m\u001b[0m    \u001b[0mcharToEscapeQuoteEscaping\u001b[0m\u001b[0;34m:\u001b[0m \u001b[0mOptional\u001b[0m\u001b[0;34m[\u001b[0m\u001b[0mstr\u001b[0m\u001b[0;34m]\u001b[0m \u001b[0;34m=\u001b[0m \u001b[0;32mNone\u001b[0m\u001b[0;34m,\u001b[0m\u001b[0;34m\u001b[0m\n",
       "\u001b[0;34m\u001b[0m    \u001b[0msamplingRatio\u001b[0m\u001b[0;34m:\u001b[0m \u001b[0mUnion\u001b[0m\u001b[0;34m[\u001b[0m\u001b[0mstr\u001b[0m\u001b[0;34m,\u001b[0m \u001b[0mfloat\u001b[0m\u001b[0;34m,\u001b[0m \u001b[0mNoneType\u001b[0m\u001b[0;34m]\u001b[0m \u001b[0;34m=\u001b[0m \u001b[0;32mNone\u001b[0m\u001b[0;34m,\u001b[0m\u001b[0;34m\u001b[0m\n",
       "\u001b[0;34m\u001b[0m    \u001b[0menforceSchema\u001b[0m\u001b[0;34m:\u001b[0m \u001b[0mUnion\u001b[0m\u001b[0;34m[\u001b[0m\u001b[0mbool\u001b[0m\u001b[0;34m,\u001b[0m \u001b[0mstr\u001b[0m\u001b[0;34m,\u001b[0m \u001b[0mNoneType\u001b[0m\u001b[0;34m]\u001b[0m \u001b[0;34m=\u001b[0m \u001b[0;32mNone\u001b[0m\u001b[0;34m,\u001b[0m\u001b[0;34m\u001b[0m\n",
       "\u001b[0;34m\u001b[0m    \u001b[0memptyValue\u001b[0m\u001b[0;34m:\u001b[0m \u001b[0mOptional\u001b[0m\u001b[0;34m[\u001b[0m\u001b[0mstr\u001b[0m\u001b[0;34m]\u001b[0m \u001b[0;34m=\u001b[0m \u001b[0;32mNone\u001b[0m\u001b[0;34m,\u001b[0m\u001b[0;34m\u001b[0m\n",
       "\u001b[0;34m\u001b[0m    \u001b[0mlocale\u001b[0m\u001b[0;34m:\u001b[0m \u001b[0mOptional\u001b[0m\u001b[0;34m[\u001b[0m\u001b[0mstr\u001b[0m\u001b[0;34m]\u001b[0m \u001b[0;34m=\u001b[0m \u001b[0;32mNone\u001b[0m\u001b[0;34m,\u001b[0m\u001b[0;34m\u001b[0m\n",
       "\u001b[0;34m\u001b[0m    \u001b[0mlineSep\u001b[0m\u001b[0;34m:\u001b[0m \u001b[0mOptional\u001b[0m\u001b[0;34m[\u001b[0m\u001b[0mstr\u001b[0m\u001b[0;34m]\u001b[0m \u001b[0;34m=\u001b[0m \u001b[0;32mNone\u001b[0m\u001b[0;34m,\u001b[0m\u001b[0;34m\u001b[0m\n",
       "\u001b[0;34m\u001b[0m    \u001b[0mpathGlobFilter\u001b[0m\u001b[0;34m:\u001b[0m \u001b[0mUnion\u001b[0m\u001b[0;34m[\u001b[0m\u001b[0mbool\u001b[0m\u001b[0;34m,\u001b[0m \u001b[0mstr\u001b[0m\u001b[0;34m,\u001b[0m \u001b[0mNoneType\u001b[0m\u001b[0;34m]\u001b[0m \u001b[0;34m=\u001b[0m \u001b[0;32mNone\u001b[0m\u001b[0;34m,\u001b[0m\u001b[0;34m\u001b[0m\n",
       "\u001b[0;34m\u001b[0m    \u001b[0mrecursiveFileLookup\u001b[0m\u001b[0;34m:\u001b[0m \u001b[0mUnion\u001b[0m\u001b[0;34m[\u001b[0m\u001b[0mbool\u001b[0m\u001b[0;34m,\u001b[0m \u001b[0mstr\u001b[0m\u001b[0;34m,\u001b[0m \u001b[0mNoneType\u001b[0m\u001b[0;34m]\u001b[0m \u001b[0;34m=\u001b[0m \u001b[0;32mNone\u001b[0m\u001b[0;34m,\u001b[0m\u001b[0;34m\u001b[0m\n",
       "\u001b[0;34m\u001b[0m    \u001b[0mmodifiedBefore\u001b[0m\u001b[0;34m:\u001b[0m \u001b[0mUnion\u001b[0m\u001b[0;34m[\u001b[0m\u001b[0mbool\u001b[0m\u001b[0;34m,\u001b[0m \u001b[0mstr\u001b[0m\u001b[0;34m,\u001b[0m \u001b[0mNoneType\u001b[0m\u001b[0;34m]\u001b[0m \u001b[0;34m=\u001b[0m \u001b[0;32mNone\u001b[0m\u001b[0;34m,\u001b[0m\u001b[0;34m\u001b[0m\n",
       "\u001b[0;34m\u001b[0m    \u001b[0mmodifiedAfter\u001b[0m\u001b[0;34m:\u001b[0m \u001b[0mUnion\u001b[0m\u001b[0;34m[\u001b[0m\u001b[0mbool\u001b[0m\u001b[0;34m,\u001b[0m \u001b[0mstr\u001b[0m\u001b[0;34m,\u001b[0m \u001b[0mNoneType\u001b[0m\u001b[0;34m]\u001b[0m \u001b[0;34m=\u001b[0m \u001b[0;32mNone\u001b[0m\u001b[0;34m,\u001b[0m\u001b[0;34m\u001b[0m\n",
       "\u001b[0;34m\u001b[0m    \u001b[0munescapedQuoteHandling\u001b[0m\u001b[0;34m:\u001b[0m \u001b[0mOptional\u001b[0m\u001b[0;34m[\u001b[0m\u001b[0mstr\u001b[0m\u001b[0;34m]\u001b[0m \u001b[0;34m=\u001b[0m \u001b[0;32mNone\u001b[0m\u001b[0;34m,\u001b[0m\u001b[0;34m\u001b[0m\n",
       "\u001b[0;34m\u001b[0m\u001b[0;34m)\u001b[0m \u001b[0;34m->\u001b[0m \u001b[0;34m'DataFrame'\u001b[0m\u001b[0;34m\u001b[0m\u001b[0;34m\u001b[0m\u001b[0m\n",
       "\u001b[0;31mDocstring:\u001b[0m\n",
       "Loads a CSV file and returns the result as a  :class:`DataFrame`.\n",
       "\n",
       "This function will go through the input once to determine the input schema if\n",
       "``inferSchema`` is enabled. To avoid going through the entire data once, disable\n",
       "``inferSchema`` option or specify the schema explicitly using ``schema``.\n",
       "\n",
       ".. versionadded:: 2.0.0\n",
       "\n",
       ".. versionchanged:: 3.4.0\n",
       "    Supports Spark Connect.\n",
       "\n",
       "Parameters\n",
       "----------\n",
       "path : str or list\n",
       "    string, or list of strings, for input path(s),\n",
       "    or RDD of Strings storing CSV rows.\n",
       "schema : :class:`pyspark.sql.types.StructType` or str, optional\n",
       "    an optional :class:`pyspark.sql.types.StructType` for the input schema\n",
       "    or a DDL-formatted string (For example ``col0 INT, col1 DOUBLE``).\n",
       "\n",
       "Other Parameters\n",
       "----------------\n",
       "Extra options\n",
       "    For the extra options, refer to\n",
       "    `Data Source Option <https://spark.apache.org/docs/latest/sql-data-sources-csv.html#data-source-option>`_\n",
       "    for the version you use.\n",
       "\n",
       "    .. # noqa\n",
       "\n",
       "Examples\n",
       "--------\n",
       "Write a DataFrame into a CSV file and read it back.\n",
       "\n",
       ">>> import tempfile\n",
       ">>> with tempfile.TemporaryDirectory() as d:\n",
       "...     # Write a DataFrame into a CSV file\n",
       "...     df = spark.createDataFrame([{\"age\": 100, \"name\": \"Hyukjin Kwon\"}])\n",
       "...     df.write.mode(\"overwrite\").format(\"csv\").save(d)\n",
       "...\n",
       "...     # Read the CSV file as a DataFrame with 'nullValue' option set to 'Hyukjin Kwon'.\n",
       "...     spark.read.csv(d, schema=df.schema, nullValue=\"Hyukjin Kwon\").show()\n",
       "+---+----+\n",
       "|age|name|\n",
       "+---+----+\n",
       "|100|NULL|\n",
       "+---+----+\n",
       "\u001b[0;31mFile:\u001b[0m      /opt/homebrew/lib/python3.11/site-packages/pyspark/sql/readwriter.py\n",
       "\u001b[0;31mType:\u001b[0m      method"
      ]
     },
     "metadata": {},
     "output_type": "display_data"
    }
   ],
   "source": [
    "#help(spark.createDataFrame)\n",
    "#spark.createDataFrame?\n",
    "spark.read.csv?"
   ]
  },
  {
   "cell_type": "markdown",
   "id": "947ff601-0f47-43b9-a15c-91140a8accdc",
   "metadata": {
    "jp-MarkdownHeadingCollapsed": true
   },
   "source": [
    "## Multi column DataFrame from list of tuples"
   ]
  },
  {
   "cell_type": "code",
   "execution_count": 7,
   "id": "84f4c451-b4c6-4098-bd98-89f73043278a",
   "metadata": {
    "execution": {
     "iopub.execute_input": "2024-05-23T23:23:25.943500Z",
     "iopub.status.busy": "2024-05-23T23:23:25.942956Z",
     "iopub.status.idle": "2024-05-23T23:23:25.949828Z",
     "shell.execute_reply": "2024-05-23T23:23:25.949016Z",
     "shell.execute_reply.started": "2024-05-23T23:23:25.943464Z"
    }
   },
   "outputs": [],
   "source": [
    "user_list = [(1, 'Scott'), (2, 'Donald'), (3, 'Mickey'), (4, 'Elvis')]"
   ]
  },
  {
   "cell_type": "code",
   "execution_count": 8,
   "id": "6b6c033d-bb00-4367-9ef5-88570a1b361d",
   "metadata": {
    "execution": {
     "iopub.execute_input": "2024-05-23T23:23:26.819188Z",
     "iopub.status.busy": "2024-05-23T23:23:26.818415Z",
     "iopub.status.idle": "2024-05-23T23:23:26.880863Z",
     "shell.execute_reply": "2024-05-23T23:23:26.880414Z",
     "shell.execute_reply.started": "2024-05-23T23:23:26.819134Z"
    }
   },
   "outputs": [
    {
     "name": "stdout",
     "output_type": "stream",
     "text": [
      "root\n",
      " |-- user_id: integer (nullable = true)\n",
      " |-- user_first_name: string (nullable = true)\n",
      "\n"
     ]
    }
   ],
   "source": [
    "df = spark.createDataFrame(user_list, 'user_id int, user_first_name string')\n",
    "df.printSchema()"
   ]
  },
  {
   "cell_type": "markdown",
   "id": "0dd0fe70-198b-4b10-aea1-21292921a620",
   "metadata": {
    "jp-MarkdownHeadingCollapsed": true
   },
   "source": [
    "## Row type"
   ]
  },
  {
   "cell_type": "code",
   "execution_count": 9,
   "id": "d168f694-fd9f-4e0f-8074-021fe027b68f",
   "metadata": {
    "execution": {
     "iopub.execute_input": "2024-05-23T23:23:28.422782Z",
     "iopub.status.busy": "2024-05-23T23:23:28.422698Z",
     "iopub.status.idle": "2024-05-23T23:23:28.585988Z",
     "shell.execute_reply": "2024-05-23T23:23:28.585745Z",
     "shell.execute_reply.started": "2024-05-23T23:23:28.422774Z"
    }
   },
   "outputs": [
    {
     "data": {
      "text/plain": [
       "[Row(user_id=1, user_first_name='Scott'),\n",
       " Row(user_id=2, user_first_name='Donald'),\n",
       " Row(user_id=3, user_first_name='Mickey'),\n",
       " Row(user_id=4, user_first_name='Elvis')]"
      ]
     },
     "execution_count": 9,
     "metadata": {},
     "output_type": "execute_result"
    }
   ],
   "source": [
    "df.collect()"
   ]
  },
  {
   "cell_type": "code",
   "execution_count": 10,
   "id": "5fbeff37-283f-411c-a87b-5e59dabefefd",
   "metadata": {
    "execution": {
     "iopub.execute_input": "2024-05-23T23:23:29.128475Z",
     "iopub.status.busy": "2024-05-23T23:23:29.127934Z",
     "iopub.status.idle": "2024-05-23T23:23:29.384496Z",
     "shell.execute_reply": "2024-05-23T23:23:29.384269Z",
     "shell.execute_reply.started": "2024-05-23T23:23:29.128448Z"
    }
   },
   "outputs": [
    {
     "data": {
      "text/plain": [
       "pyspark.sql.types.Row"
      ]
     },
     "execution_count": 10,
     "metadata": {},
     "output_type": "execute_result"
    }
   ],
   "source": [
    "type(df.collect())    #list\n",
    "type(df.collect()[1]) #pyspark.sql.types.Row"
   ]
  },
  {
   "cell_type": "code",
   "execution_count": 11,
   "id": "18393fac-6869-4a28-8636-618210a1d3f6",
   "metadata": {
    "execution": {
     "iopub.execute_input": "2024-05-23T23:23:29.571318Z",
     "iopub.status.busy": "2024-05-23T23:23:29.570749Z",
     "iopub.status.idle": "2024-05-23T23:23:29.577320Z",
     "shell.execute_reply": "2024-05-23T23:23:29.576258Z",
     "shell.execute_reply.started": "2024-05-23T23:23:29.571289Z"
    }
   },
   "outputs": [],
   "source": [
    "from pyspark.sql import Row\n",
    "#Row?"
   ]
  },
  {
   "cell_type": "code",
   "execution_count": 12,
   "id": "a6fbb449-5fee-4936-995f-ee587cad44b9",
   "metadata": {
    "execution": {
     "iopub.execute_input": "2024-05-23T23:23:30.285807Z",
     "iopub.status.busy": "2024-05-23T23:23:30.285208Z",
     "iopub.status.idle": "2024-05-23T23:23:30.296966Z",
     "shell.execute_reply": "2024-05-23T23:23:30.296064Z",
     "shell.execute_reply.started": "2024-05-23T23:23:30.285770Z"
    }
   },
   "outputs": [
    {
     "data": {
      "text/plain": [
       "(Row(name='Alice', age=11), <Row('Alice', 11)>, 'Alice', 'Alice', 'Alice')"
      ]
     },
     "execution_count": 12,
     "metadata": {},
     "output_type": "execute_result"
    }
   ],
   "source": [
    "r = Row(name='Alice', age=11)\n",
    "r1 =  Row('Alice', 11)\n",
    "r, r1, r.name, r['name'], r[0]"
   ]
  },
  {
   "cell_type": "markdown",
   "id": "b83b3323-55d3-4b7f-9576-6b7e00ea91db",
   "metadata": {
    "jp-MarkdownHeadingCollapsed": true
   },
   "source": [
    "## Multi column DataFrame from list of lists"
   ]
  },
  {
   "cell_type": "code",
   "execution_count": 13,
   "id": "ffd509f4-5559-415e-a1dc-bd0eac0b25a9",
   "metadata": {
    "execution": {
     "iopub.execute_input": "2024-05-23T23:23:34.734383Z",
     "iopub.status.busy": "2024-05-23T23:23:34.733612Z",
     "iopub.status.idle": "2024-05-23T23:23:34.764190Z",
     "shell.execute_reply": "2024-05-23T23:23:34.763837Z",
     "shell.execute_reply.started": "2024-05-23T23:23:34.734351Z"
    }
   },
   "outputs": [
    {
     "name": "stdout",
     "output_type": "stream",
     "text": [
      "root\n",
      " |-- user_id: integer (nullable = true)\n",
      " |-- user_first_name: string (nullable = true)\n",
      "\n"
     ]
    }
   ],
   "source": [
    "user_list = [[1, 'Scott'], [2, 'Donald'], [3, 'Mickey'], [4, 'Elvis']]\n",
    "df = spark.createDataFrame(user_list, 'user_id int, user_first_name string')\n",
    "df.printSchema()"
   ]
  },
  {
   "cell_type": "markdown",
   "id": "e8811cc7-a700-4904-86db-1daaea4e426c",
   "metadata": {
    "jp-MarkdownHeadingCollapsed": true
   },
   "source": [
    "## Multi column DataFrame by converting list of lists to list of rows (list comprehension)"
   ]
  },
  {
   "cell_type": "code",
   "execution_count": 14,
   "id": "bcea0c13-4b94-40c3-8b3e-f34247debf49",
   "metadata": {
    "execution": {
     "iopub.execute_input": "2024-05-23T23:23:36.308367Z",
     "iopub.status.busy": "2024-05-23T23:23:36.307524Z",
     "iopub.status.idle": "2024-05-23T23:23:36.342815Z",
     "shell.execute_reply": "2024-05-23T23:23:36.342480Z",
     "shell.execute_reply.started": "2024-05-23T23:23:36.308336Z"
    }
   },
   "outputs": [
    {
     "data": {
      "text/plain": [
       "DataFrame[user_id: int, user_first_name: string]"
      ]
     },
     "execution_count": 14,
     "metadata": {},
     "output_type": "execute_result"
    }
   ],
   "source": [
    "from pyspark.sql import Row\n",
    "user_list = [[1, 'Scott'], [2, 'Donald'], [3, 'Mickey'], [4, 'Elvis']]\n",
    "user_rows = [Row(*user) for user in user_list]\n",
    "spark.createDataFrame(user_rows, 'user_id int, user_first_name string')"
   ]
  },
  {
   "cell_type": "markdown",
   "id": "ec258fe9-55a2-4bd3-9674-9bb331b07061",
   "metadata": {
    "jp-MarkdownHeadingCollapsed": true
   },
   "source": [
    "## Multi column DataFrame by converting list of tuples to list of rows (list comprehension)"
   ]
  },
  {
   "cell_type": "code",
   "execution_count": 19,
   "id": "fe1fb9ef-38ff-42e3-bd44-420077e6df70",
   "metadata": {
    "execution": {
     "iopub.execute_input": "2024-05-23T23:24:50.144213Z",
     "iopub.status.busy": "2024-05-23T23:24:50.143668Z",
     "iopub.status.idle": "2024-05-23T23:24:50.193507Z",
     "shell.execute_reply": "2024-05-23T23:24:50.193187Z",
     "shell.execute_reply.started": "2024-05-23T23:24:50.144184Z"
    }
   },
   "outputs": [
    {
     "data": {
      "text/plain": [
       "DataFrame[user_id: int, user_first_name: string]"
      ]
     },
     "execution_count": 19,
     "metadata": {},
     "output_type": "execute_result"
    }
   ],
   "source": [
    "from pyspark.sql import Row\n",
    "user_tuples = [(1, 'Scott'), (2, 'Donald'), (3, 'Mickey'), (4, 'Elvis')]\n",
    "user_rows = [Row(*user) for user in user_tuples]\n",
    "spark.createDataFrame(user_rows, 'user_id int, user_first_name string')"
   ]
  },
  {
   "cell_type": "code",
   "execution_count": 20,
   "id": "accadf53-e20c-40b6-8d13-f80a04208059",
   "metadata": {
    "execution": {
     "iopub.execute_input": "2024-05-23T23:24:50.811760Z",
     "iopub.status.busy": "2024-05-23T23:24:50.811166Z",
     "iopub.status.idle": "2024-05-23T23:24:50.848609Z",
     "shell.execute_reply": "2024-05-23T23:24:50.848196Z",
     "shell.execute_reply.started": "2024-05-23T23:24:50.811728Z"
    }
   },
   "outputs": [
    {
     "data": {
      "text/plain": [
       "DataFrame[user_id: int, user_first_name: string]"
      ]
     },
     "execution_count": 20,
     "metadata": {},
     "output_type": "execute_result"
    }
   ],
   "source": [
    "from pyspark.sql import Row\n",
    "user_tuples = [(1, 'Scott'), (2, 'Donald'), (3, 'Mickey'), (4, 'Elvis')]\n",
    "user_rows = [Row(*user) for user in user_tuples]\n",
    "spark.createDataFrame(data=user_rows, schema='user_id int, user_first_name string')"
   ]
  },
  {
   "cell_type": "markdown",
   "id": "3528a6a8-ec65-4456-bbd7-e4797f48a78f",
   "metadata": {
    "execution": {
     "iopub.execute_input": "2024-04-19T23:22:52.432455Z",
     "iopub.status.busy": "2024-04-19T23:22:52.431681Z",
     "iopub.status.idle": "2024-04-19T23:22:52.440140Z",
     "shell.execute_reply": "2024-04-19T23:22:52.439174Z",
     "shell.execute_reply.started": "2024-04-19T23:22:52.432406Z"
    },
    "jp-MarkdownHeadingCollapsed": true
   },
   "source": [
    "## star *"
   ]
  },
  {
   "cell_type": "code",
   "execution_count": 21,
   "id": "02002dd6-be3e-4f3d-bd2f-d24c505e6a98",
   "metadata": {
    "execution": {
     "iopub.execute_input": "2024-05-23T23:24:52.248043Z",
     "iopub.status.busy": "2024-05-23T23:24:52.247507Z",
     "iopub.status.idle": "2024-05-23T23:24:52.259070Z",
     "shell.execute_reply": "2024-05-23T23:24:52.258252Z",
     "shell.execute_reply.started": "2024-05-23T23:24:52.248016Z"
    }
   },
   "outputs": [
    {
     "name": "stdout",
     "output_type": "stream",
     "text": [
      "((1, 'Chris'),)\n",
      "1\n",
      "(1, 'Chris')\n",
      "2\n",
      "([1, 'Chris'],)\n",
      "1\n",
      "(1, 'Chris')\n",
      "2\n"
     ]
    },
    {
     "data": {
      "text/plain": [
       "(None, None, None, None)"
      ]
     },
     "execution_count": 21,
     "metadata": {},
     "output_type": "execute_result"
    }
   ],
   "source": [
    "def dummy(*args):\n",
    "    print(args)\n",
    "    print(len(args))\n",
    "    \n",
    "t = (1,'Chris') \n",
    "l = [1,'Chris']\n",
    "dummy(t), dummy(*t), dummy(l), dummy(*l)"
   ]
  },
  {
   "cell_type": "markdown",
   "id": "61b40882-46a0-487e-9c9f-dc89305f719d",
   "metadata": {
    "jp-MarkdownHeadingCollapsed": true
   },
   "source": [
    "## Multi column DataFrame from list of dicts"
   ]
  },
  {
   "cell_type": "code",
   "execution_count": 27,
   "id": "e28ad8c0-7594-4203-970e-242f3341d8ea",
   "metadata": {
    "execution": {
     "iopub.execute_input": "2024-05-23T23:47:59.891096Z",
     "iopub.status.busy": "2024-05-23T23:47:59.890319Z",
     "iopub.status.idle": "2024-05-23T23:47:59.927179Z",
     "shell.execute_reply": "2024-05-23T23:47:59.926843Z",
     "shell.execute_reply.started": "2024-05-23T23:47:59.891050Z"
    }
   },
   "outputs": [
    {
     "data": {
      "text/plain": [
       "DataFrame[user_id: bigint, user_name: string]"
      ]
     },
     "execution_count": 27,
     "metadata": {},
     "output_type": "execute_result"
    }
   ],
   "source": [
    "user_dict_list = [{'user_id': 1, 'user_name': 'Scott'}, \n",
    "                  {'user_id': 2, 'user_name': 'Donald'},\n",
    "                  {'user_id': 3, 'user_name': 'Mickey'}, \n",
    "                  {'user_id': 4, 'user_name': 'Elvis'}]\n",
    "\n",
    "spark.createDataFrame(user_dict_list) #deprecated"
   ]
  },
  {
   "cell_type": "code",
   "execution_count": 32,
   "id": "06989c7c-d807-43d6-95dc-116fdd902466",
   "metadata": {
    "execution": {
     "iopub.execute_input": "2024-05-23T23:53:01.182951Z",
     "iopub.status.busy": "2024-05-23T23:53:01.182411Z",
     "iopub.status.idle": "2024-05-23T23:53:01.193364Z",
     "shell.execute_reply": "2024-05-23T23:53:01.192562Z",
     "shell.execute_reply.started": "2024-05-23T23:53:01.182921Z"
    }
   },
   "outputs": [
    {
     "data": {
      "text/plain": [
       "(dict, dict_values([2, 'Donald']), dict_keys(['user_id', 'user_name']))"
      ]
     },
     "execution_count": 32,
     "metadata": {},
     "output_type": "execute_result"
    }
   ],
   "source": [
    "from pyspark.sql import Row\n",
    "user_details=user_dict_list[1]\n",
    "type(user_details), user_details.values(), user_details.keys()\n"
   ]
  },
  {
   "cell_type": "code",
   "execution_count": 38,
   "id": "5e3416f2-8137-4a21-a63b-b7cec6c31409",
   "metadata": {
    "execution": {
     "iopub.execute_input": "2024-05-23T23:59:53.394669Z",
     "iopub.status.busy": "2024-05-23T23:59:53.393701Z",
     "iopub.status.idle": "2024-05-23T23:59:53.430847Z",
     "shell.execute_reply": "2024-05-23T23:59:53.430428Z",
     "shell.execute_reply.started": "2024-05-23T23:59:53.394489Z"
    }
   },
   "outputs": [
    {
     "data": {
      "text/plain": [
       "DataFrame[user_id: bigint, user_first_name: string]"
      ]
     },
     "execution_count": 38,
     "metadata": {},
     "output_type": "execute_result"
    }
   ],
   "source": [
    "user_rows=[Row(*user.values()) for user in user_dict_list]\n",
    "spark.createDataFrame(user_rows, 'user_id bigint, user_first_name string')"
   ]
  },
  {
   "cell_type": "code",
   "execution_count": 37,
   "id": "254508cb-29e2-486e-9c85-90d34ef10160",
   "metadata": {
    "execution": {
     "iopub.execute_input": "2024-05-23T23:59:46.031343Z",
     "iopub.status.busy": "2024-05-23T23:59:46.030804Z",
     "iopub.status.idle": "2024-05-23T23:59:46.059394Z",
     "shell.execute_reply": "2024-05-23T23:59:46.058982Z",
     "shell.execute_reply.started": "2024-05-23T23:59:46.031305Z"
    }
   },
   "outputs": [
    {
     "data": {
      "text/plain": [
       "DataFrame[user_id: bigint, user_name: string]"
      ]
     },
     "execution_count": 37,
     "metadata": {},
     "output_type": "execute_result"
    }
   ],
   "source": [
    "user_rows=[Row(**user) for user in user_dict_list]\n",
    "spark.createDataFrame(user_rows)"
   ]
  },
  {
   "cell_type": "code",
   "execution_count": 48,
   "id": "662b4c5c-d995-45fa-884e-fb0f9477c15b",
   "metadata": {
    "execution": {
     "iopub.execute_input": "2024-05-24T00:09:55.209197Z",
     "iopub.status.busy": "2024-05-24T00:09:55.208413Z",
     "iopub.status.idle": "2024-05-24T00:09:55.221332Z",
     "shell.execute_reply": "2024-05-24T00:09:55.220479Z",
     "shell.execute_reply.started": "2024-05-24T00:09:55.209151Z"
    }
   },
   "outputs": [
    {
     "name": "stdout",
     "output_type": "stream",
     "text": [
      "{'user_details': {'user_id': 1, 'user_name': 'Scott'}}\n",
      "1\n",
      "{'user_id': 1, 'user_name': 'Scott'}\n",
      "2\n",
      "{'user_id': 1, 'user_name': 'Scott'}\n",
      "2\n"
     ]
    },
    {
     "data": {
      "text/plain": [
       "(None, None, None)"
      ]
     },
     "execution_count": 48,
     "metadata": {},
     "output_type": "execute_result"
    }
   ],
   "source": [
    "def dummy(**kwargs):\n",
    "    print(kwargs)\n",
    "    print(len(kwargs))\n",
    "\n",
    "user_details={'user_id': 1, 'user_name': 'Scott'}\n",
    "\n",
    "dummy(user_details=user_details), dummy(user_id=1, user_name='Scott'), dummy(**user_details)"
   ]
  },
  {
   "cell_type": "markdown",
   "id": "1bd5417f-7138-4597-a5e3-1d46dd929d40",
   "metadata": {},
   "source": [
    "## Basic data types"
   ]
  },
  {
   "cell_type": "code",
   "execution_count": 62,
   "id": "8c0382b8-566a-4a4a-8e4b-a584a7d76545",
   "metadata": {
    "execution": {
     "iopub.execute_input": "2024-05-24T00:45:13.606907Z",
     "iopub.status.busy": "2024-05-24T00:45:13.606197Z",
     "iopub.status.idle": "2024-05-24T00:45:13.620888Z",
     "shell.execute_reply": "2024-05-24T00:45:13.618815Z",
     "shell.execute_reply.started": "2024-05-24T00:45:13.606857Z"
    }
   },
   "outputs": [],
   "source": [
    "import datetime\n",
    "\n",
    "users = [\n",
    "    {\n",
    "        'id': 1,\n",
    "        'first_name': 'Corrie',\n",
    "        'last_name': 'Van den Oord',\n",
    "        'email': 'cvandenoord@etsy.com',\n",
    "        'id_customer': True,\n",
    "        'amount_paid': 1000.55,\n",
    "        'customer_from': datetime.date(2021, 1, 15),\n",
    "        'last_updated_ts': datetime.datetime(2021, 2, 18, 1, 15, 0)\n",
    "    },\n",
    "    {\n",
    "        'id': 2,\n",
    "        'first_name': 'Nicolaus',\n",
    "        'last_name': 'Brewitt',\n",
    "        'email': 'nbrewitt@dailymail.co.uk',\n",
    "        'id_customer': None,\n",
    "        'amount_paid': 900.0,\n",
    "        'customer_from': datetime.date(2021, 2, 14),\n",
    "        'last_updated_ts': datetime.datetime(2021, 2, 18, 3, 33, 0)\n",
    "    }\n",
    "]"
   ]
  },
  {
   "cell_type": "code",
   "execution_count": 63,
   "id": "78ee0af9-a976-405d-a41b-c1d138d3421e",
   "metadata": {
    "execution": {
     "iopub.execute_input": "2024-05-24T00:45:15.519082Z",
     "iopub.status.busy": "2024-05-24T00:45:15.518496Z",
     "iopub.status.idle": "2024-05-24T00:45:15.555110Z",
     "shell.execute_reply": "2024-05-24T00:45:15.554668Z",
     "shell.execute_reply.started": "2024-05-24T00:45:15.519052Z"
    }
   },
   "outputs": [
    {
     "name": "stdout",
     "output_type": "stream",
     "text": [
      "root\n",
      " |-- id: long (nullable = true)\n",
      " |-- first_name: string (nullable = true)\n",
      " |-- last_name: string (nullable = true)\n",
      " |-- email: string (nullable = true)\n",
      " |-- id_customer: boolean (nullable = true)\n",
      " |-- amount_paid: double (nullable = true)\n",
      " |-- customer_from: date (nullable = true)\n",
      " |-- last_updated_ts: timestamp (nullable = true)\n",
      "\n"
     ]
    }
   ],
   "source": [
    "from pyspark.sql import Row\n",
    "users_df = spark.createDataFrame([Row(**user) for user in users])\n",
    "users_df.printSchema()"
   ]
  },
  {
   "cell_type": "code",
   "execution_count": 64,
   "id": "6e65654d-e067-4a54-b542-ae917c855acd",
   "metadata": {
    "execution": {
     "iopub.execute_input": "2024-05-24T00:45:16.038311Z",
     "iopub.status.busy": "2024-05-24T00:45:16.037776Z",
     "iopub.status.idle": "2024-05-24T00:45:16.322887Z",
     "shell.execute_reply": "2024-05-24T00:45:16.322507Z",
     "shell.execute_reply.started": "2024-05-24T00:45:16.038283Z"
    }
   },
   "outputs": [
    {
     "name": "stdout",
     "output_type": "stream",
     "text": [
      "+---+----------+------------+--------------------+-----------+-----------+-------------+-------------------+\n",
      "| id|first_name|   last_name|               email|id_customer|amount_paid|customer_from|    last_updated_ts|\n",
      "+---+----------+------------+--------------------+-----------+-----------+-------------+-------------------+\n",
      "|  1|    Corrie|Van den Oord|cvandenoord@etsy.com|       true|    1000.55|   2021-01-15|2021-02-18 01:15:00|\n",
      "|  2|  Nicolaus|     Brewitt|nbrewitt@dailymai...|       NULL|      900.0|   2021-02-14|2021-02-18 03:33:00|\n",
      "+---+----------+------------+--------------------+-----------+-----------+-------------+-------------------+\n",
      "\n"
     ]
    }
   ],
   "source": [
    "users_df.show() # None->null, True->true"
   ]
  },
  {
   "cell_type": "code",
   "execution_count": 60,
   "id": "f2ac07e4-5906-4829-8a2c-e6528083a757",
   "metadata": {
    "execution": {
     "iopub.execute_input": "2024-05-24T00:42:17.408677Z",
     "iopub.status.busy": "2024-05-24T00:42:17.408145Z",
     "iopub.status.idle": "2024-05-24T00:42:17.417455Z",
     "shell.execute_reply": "2024-05-24T00:42:17.416722Z",
     "shell.execute_reply.started": "2024-05-24T00:42:17.408645Z"
    }
   },
   "outputs": [
    {
     "data": {
      "text/plain": [
       "['id',\n",
       " 'first_name',\n",
       " 'last_name',\n",
       " 'email',\n",
       " 'id_customer',\n",
       " 'amount_paid',\n",
       " 'customer_from',\n",
       " 'last_updated_ts']"
      ]
     },
     "execution_count": 60,
     "metadata": {},
     "output_type": "execute_result"
    }
   ],
   "source": [
    "users_df.columns"
   ]
  },
  {
   "cell_type": "code",
   "execution_count": 61,
   "id": "e72c210a-f4cc-4575-967d-69ceaf83f3e3",
   "metadata": {
    "execution": {
     "iopub.execute_input": "2024-05-24T00:42:50.377222Z",
     "iopub.status.busy": "2024-05-24T00:42:50.376475Z",
     "iopub.status.idle": "2024-05-24T00:42:50.385893Z",
     "shell.execute_reply": "2024-05-24T00:42:50.385028Z",
     "shell.execute_reply.started": "2024-05-24T00:42:50.377174Z"
    }
   },
   "outputs": [
    {
     "data": {
      "text/plain": [
       "[('id', 'bigint'),\n",
       " ('first_name', 'string'),\n",
       " ('last_name', 'string'),\n",
       " ('email', 'string'),\n",
       " ('id_customer', 'boolean'),\n",
       " ('amount_paid', 'double'),\n",
       " ('customer_from', 'date'),\n",
       " ('last_updated_ts', 'timestamp')]"
      ]
     },
     "execution_count": 61,
     "metadata": {},
     "output_type": "execute_result"
    }
   ],
   "source": [
    "users_df.dtypes "
   ]
  },
  {
   "cell_type": "markdown",
   "id": "7aa9741f-4f86-42df-9a39-4b3ea2eb03bb",
   "metadata": {},
   "source": [
    "## Specifying schema for DataFrame"
   ]
  },
  {
   "cell_type": "code",
   "execution_count": 85,
   "id": "5edf0a3d-7e2c-4db4-91ef-d073cccc3db3",
   "metadata": {
    "execution": {
     "iopub.execute_input": "2024-05-24T01:18:19.078527Z",
     "iopub.status.busy": "2024-05-24T01:18:19.078288Z",
     "iopub.status.idle": "2024-05-24T01:18:19.095600Z",
     "shell.execute_reply": "2024-05-24T01:18:19.095157Z",
     "shell.execute_reply.started": "2024-05-24T01:18:19.078508Z"
    }
   },
   "outputs": [
    {
     "name": "stdout",
     "output_type": "stream",
     "text": [
      "root\n",
      " |-- id: long (nullable = true)\n",
      " |-- first_name: string (nullable = true)\n",
      " |-- last_name: string (nullable = true)\n",
      " |-- email: string (nullable = true)\n",
      " |-- is_customer: boolean (nullable = true)\n",
      " |-- amount_paid: double (nullable = true)\n",
      " |-- customer_from: date (nullable = true)\n",
      " |-- last_updated_ts: timestamp (nullable = true)\n",
      "\n"
     ]
    }
   ],
   "source": [
    "import datetime\n",
    "\n",
    "users = [(1, 'Corrie', 'Van den Oord', 'cvandenoord@etsy.com', True, 1000.55, datetime.date(2021, 1, 15), datetime.datetime(2021, 2, 18, 1, 15, 0)),\n",
    "         (2, 'Nicolaus', 'Brewitt', 'nbrewitt@dailymail.co.uk', None, 900.0,  datetime.date(2021, 2, 14), datetime.datetime(2021, 2, 18, 3, 33, 0))]\n",
    "\n",
    "users_schema = '''\n",
    "    id bigint, \n",
    "    first_name string, \n",
    "    last_name string, \n",
    "    email string, \n",
    "    is_customer boolean, \n",
    "    amount_paid double, \n",
    "    customer_from date, \n",
    "    last_updated_ts timestamp\n",
    "'''\n",
    "\n",
    "users_df = spark.createDataFrame(users, users_schema)\n",
    "users_df.printSchema()"
   ]
  },
  {
   "cell_type": "code",
   "execution_count": 86,
   "id": "74603175-7689-4814-a653-b43645991679",
   "metadata": {
    "execution": {
     "iopub.execute_input": "2024-05-24T01:18:19.369529Z",
     "iopub.status.busy": "2024-05-24T01:18:19.369366Z",
     "iopub.status.idle": "2024-05-24T01:18:19.384801Z",
     "shell.execute_reply": "2024-05-24T01:18:19.384491Z",
     "shell.execute_reply.started": "2024-05-24T01:18:19.369518Z"
    }
   },
   "outputs": [
    {
     "name": "stdout",
     "output_type": "stream",
     "text": [
      "root\n",
      " |-- id: long (nullable = true)\n",
      " |-- first_name: string (nullable = true)\n",
      " |-- last_name: string (nullable = true)\n",
      " |-- email: string (nullable = true)\n",
      " |-- is_customer: boolean (nullable = true)\n",
      " |-- amount_paid: double (nullable = true)\n",
      " |-- customer_from: date (nullable = true)\n",
      " |-- last_updated_ts: timestamp (nullable = true)\n",
      "\n"
     ]
    }
   ],
   "source": [
    "#Infer schema if the schema contains column names only\n",
    "users_schema = [\n",
    "    'id', \n",
    "    'first_name', \n",
    "    'last_name', \n",
    "    'email', \n",
    "    'is_customer', \n",
    "    'amount_paid', \n",
    "    'customer_from', \n",
    "    'last_updated_ts'\n",
    "]\n",
    "\n",
    "users_df = spark.createDataFrame(users, users_schema)\n",
    "users_df.printSchema()"
   ]
  },
  {
   "cell_type": "code",
   "execution_count": 87,
   "id": "3ede9a1a-576c-46c1-9a58-ab112915807a",
   "metadata": {
    "execution": {
     "iopub.execute_input": "2024-05-24T01:18:19.482065Z",
     "iopub.status.busy": "2024-05-24T01:18:19.481844Z",
     "iopub.status.idle": "2024-05-24T01:18:19.496445Z",
     "shell.execute_reply": "2024-05-24T01:18:19.496166Z",
     "shell.execute_reply.started": "2024-05-24T01:18:19.482050Z"
    }
   },
   "outputs": [
    {
     "name": "stdout",
     "output_type": "stream",
     "text": [
      "root\n",
      " |-- id: integer (nullable = true)\n",
      " |-- first_name: string (nullable = true)\n",
      " |-- last_name: string (nullable = true)\n",
      " |-- email: string (nullable = true)\n",
      " |-- is_customer: boolean (nullable = true)\n",
      " |-- amount_paid: double (nullable = true)\n",
      " |-- customer_from: date (nullable = true)\n",
      " |-- last_udpated_ts: timestamp (nullable = true)\n",
      "\n"
     ]
    }
   ],
   "source": [
    "from pyspark.sql.types import *\n",
    "\n",
    "fields = StructType ([\n",
    "    StructField('id', IntegerType()),\n",
    "    StructField('first_name', StringType()),\n",
    "    StructField('last_name', StringType()),\n",
    "    StructField('email', StringType()),\n",
    "    StructField('is_customer', BooleanType()),\n",
    "    StructField('amount_paid', DoubleType()),\n",
    "    StructField('customer_from', DateType()),\n",
    "    StructField('last_udpated_ts', TimestampType()),    \n",
    "])\n",
    "\n",
    "users_df = spark.createDataFrame(users, fields)\n",
    "users_df.printSchema()"
   ]
  },
  {
   "cell_type": "markdown",
   "id": "41fe7195-e7b8-4f2c-a84b-5850f774cd08",
   "metadata": {},
   "source": [
    "## Create DataFrame from pandas DataFrame"
   ]
  },
  {
   "cell_type": "code",
   "execution_count": 93,
   "id": "e0c9d873-3459-4bf6-9a6b-2c0e558c6bc1",
   "metadata": {
    "execution": {
     "iopub.execute_input": "2024-05-24T01:23:29.497177Z",
     "iopub.status.busy": "2024-05-24T01:23:29.496411Z",
     "iopub.status.idle": "2024-05-24T01:23:29.515192Z",
     "shell.execute_reply": "2024-05-24T01:23:29.514756Z",
     "shell.execute_reply.started": "2024-05-24T01:23:29.497129Z"
    }
   },
   "outputs": [
    {
     "data": {
      "text/html": [
       "<div>\n",
       "<style scoped>\n",
       "    .dataframe tbody tr th:only-of-type {\n",
       "        vertical-align: middle;\n",
       "    }\n",
       "\n",
       "    .dataframe tbody tr th {\n",
       "        vertical-align: top;\n",
       "    }\n",
       "\n",
       "    .dataframe thead th {\n",
       "        text-align: right;\n",
       "    }\n",
       "</style>\n",
       "<table border=\"1\" class=\"dataframe\">\n",
       "  <thead>\n",
       "    <tr style=\"text-align: right;\">\n",
       "      <th></th>\n",
       "      <th>0</th>\n",
       "      <th>1</th>\n",
       "      <th>2</th>\n",
       "      <th>3</th>\n",
       "      <th>4</th>\n",
       "      <th>5</th>\n",
       "      <th>6</th>\n",
       "      <th>7</th>\n",
       "    </tr>\n",
       "  </thead>\n",
       "  <tbody>\n",
       "    <tr>\n",
       "      <th>0</th>\n",
       "      <td>1</td>\n",
       "      <td>Corrie</td>\n",
       "      <td>Van den Oord</td>\n",
       "      <td>cvandenoord@etsy.com</td>\n",
       "      <td>True</td>\n",
       "      <td>1000.55</td>\n",
       "      <td>2021-01-15</td>\n",
       "      <td>2021-02-18 01:15:00</td>\n",
       "    </tr>\n",
       "    <tr>\n",
       "      <th>1</th>\n",
       "      <td>2</td>\n",
       "      <td>Nicolaus</td>\n",
       "      <td>Brewitt</td>\n",
       "      <td>nbrewitt@dailymail.co.uk</td>\n",
       "      <td>None</td>\n",
       "      <td>NaN</td>\n",
       "      <td>None</td>\n",
       "      <td>NaT</td>\n",
       "    </tr>\n",
       "  </tbody>\n",
       "</table>\n",
       "</div>"
      ],
      "text/plain": [
       "   0         1             2                         3     4        5  \\\n",
       "0  1    Corrie  Van den Oord      cvandenoord@etsy.com  True  1000.55   \n",
       "1  2  Nicolaus       Brewitt  nbrewitt@dailymail.co.uk  None      NaN   \n",
       "\n",
       "            6                   7  \n",
       "0  2021-01-15 2021-02-18 01:15:00  \n",
       "1        None                 NaT  "
      ]
     },
     "execution_count": 93,
     "metadata": {},
     "output_type": "execute_result"
    }
   ],
   "source": [
    "import pandas as pd # not specified values filled as nulls\n",
    "\n",
    "users = [(1, 'Corrie', 'Van den Oord', 'cvandenoord@etsy.com', True, 1000.55, datetime.date(2021, 1, 15), datetime.datetime(2021, 2, 18, 1, 15, 0)),\n",
    "         (2, 'Nicolaus', 'Brewitt', 'nbrewitt@dailymail.co.uk', None)]\n",
    "\n",
    "pd.DataFrame(users)"
   ]
  },
  {
   "cell_type": "code",
   "execution_count": 94,
   "id": "a4f692b0-cd33-47c8-b29b-45af8851e07e",
   "metadata": {
    "execution": {
     "iopub.execute_input": "2024-05-24T01:23:30.356454Z",
     "iopub.status.busy": "2024-05-24T01:23:30.355660Z",
     "iopub.status.idle": "2024-05-24T01:23:30.393425Z",
     "shell.execute_reply": "2024-05-24T01:23:30.393057Z",
     "shell.execute_reply.started": "2024-05-24T01:23:30.356407Z"
    }
   },
   "outputs": [
    {
     "data": {
      "text/plain": [
       "DataFrame[0: bigint, 1: string, 2: string, 3: string, 4: boolean, 5: double, 6: date, 7: timestamp]"
      ]
     },
     "execution_count": 94,
     "metadata": {},
     "output_type": "execute_result"
    }
   ],
   "source": [
    "spark.createDataFrame(pd.DataFrame(users))"
   ]
  },
  {
   "cell_type": "markdown",
   "id": "46412fc4-f21d-4689-bab5-d42d4233b1b6",
   "metadata": {
    "jp-MarkdownHeadingCollapsed": true
   },
   "source": [
    "## Spark special data types - ARRAY, STRUCT, MAP\n",
    "* list and dict can be implicitly converted to ARRAY and MAP respectively\n",
    "* spark API to be used to convert Python data types to STRUCT"
   ]
  },
  {
   "cell_type": "markdown",
   "id": "56eddd6b-6d52-48de-bb6e-dd7532b0f7d6",
   "metadata": {},
   "source": [
    "## ARRAY (list -> array)"
   ]
  },
  {
   "cell_type": "code",
   "execution_count": 26,
   "id": "15e163fe-7896-4887-bca2-141d05e586ab",
   "metadata": {
    "execution": {
     "iopub.execute_input": "2024-05-26T22:56:30.867534Z",
     "iopub.status.busy": "2024-05-26T22:56:30.867453Z",
     "iopub.status.idle": "2024-05-26T22:56:30.870626Z",
     "shell.execute_reply": "2024-05-26T22:56:30.870383Z",
     "shell.execute_reply.started": "2024-05-26T22:56:30.867526Z"
    }
   },
   "outputs": [],
   "source": [
    "import datetime\n",
    "from pyspark.sql import Row\n",
    "\n",
    "users = [\n",
    "    {\n",
    "        'id': 1,\n",
    "        'first_name': 'Corrie',\n",
    "        'last_name': 'Van den Oord',\n",
    "        'email': 'cvandenoord@etsy.com',\n",
    "        'phone_numbers': ['+1 234 567 8901', '+1 234 567 8911'],\n",
    "        'is_customer': True,\n",
    "        'amount_paid': 1000.55,\n",
    "        'customer_from': datetime.date(2021, 1, 15),\n",
    "        'last_updated_ts': datetime.datetime(2021, 2, 18, 1, 15, 0)\n",
    "    },\n",
    "    {\n",
    "        'id': 2,\n",
    "        'first_name': 'Nicolaus',\n",
    "        'last_name': 'Brewitt',\n",
    "        'email': 'nbrewitt@dailymail.co.uk',\n",
    "        'phone_numbers': ['+1 234 567 8923', '+1 234 567 8934'],\n",
    "        'is_customer': None,\n",
    "        'amount_paid': 900.0,\n",
    "        'customer_from': datetime.date(2021, 2, 14),\n",
    "        'last_updated_ts': datetime.datetime(2021, 2, 18, 3, 33, 0)\n",
    "    },\n",
    "    {\n",
    "        'id': 3,\n",
    "        'first_name': 'Kurt',\n",
    "        'last_name': 'Rome',\n",
    "        'email': 'krome4@shutterfly.co.uk',\n",
    "        'phone_numbers': None,\n",
    "        'is_customer': False,\n",
    "        'amount_paid': None,\n",
    "        'customer_from': datetime.date(2021, 2, 14),\n",
    "        'last_updated_ts': datetime.datetime(2024, 2, 28, 5, 27, 0)\n",
    "    }\n",
    "]"
   ]
  },
  {
   "cell_type": "code",
   "execution_count": 27,
   "id": "cbb18937-3e3c-4ab7-ae46-18409c5d74d6",
   "metadata": {
    "execution": {
     "iopub.execute_input": "2024-05-26T22:56:35.141345Z",
     "iopub.status.busy": "2024-05-26T22:56:35.140502Z",
     "iopub.status.idle": "2024-05-26T22:56:35.176752Z",
     "shell.execute_reply": "2024-05-26T22:56:35.176118Z",
     "shell.execute_reply.started": "2024-05-26T22:56:35.141291Z"
    }
   },
   "outputs": [
    {
     "name": "stdout",
     "output_type": "stream",
     "text": [
      "root\n",
      " |-- id: long (nullable = true)\n",
      " |-- first_name: string (nullable = true)\n",
      " |-- last_name: string (nullable = true)\n",
      " |-- email: string (nullable = true)\n",
      " |-- phone_numbers: array (nullable = true)\n",
      " |    |-- element: string (containsNull = true)\n",
      " |-- is_customer: boolean (nullable = true)\n",
      " |-- amount_paid: double (nullable = true)\n",
      " |-- customer_from: date (nullable = true)\n",
      " |-- last_updated_ts: timestamp (nullable = true)\n",
      "\n"
     ]
    }
   ],
   "source": [
    "users_df = spark.createDataFrame([Row(**user) for user in users])\n",
    "users_df.printSchema()"
   ]
  },
  {
   "cell_type": "code",
   "execution_count": 28,
   "id": "35bf3e79-c7bf-46f3-aeec-ce3dc56e3e39",
   "metadata": {
    "execution": {
     "iopub.execute_input": "2024-05-26T22:56:39.699488Z",
     "iopub.status.busy": "2024-05-26T22:56:39.698910Z",
     "iopub.status.idle": "2024-05-26T22:56:39.992187Z",
     "shell.execute_reply": "2024-05-26T22:56:39.991934Z",
     "shell.execute_reply.started": "2024-05-26T22:56:39.699460Z"
    }
   },
   "outputs": [
    {
     "name": "stdout",
     "output_type": "stream",
     "text": [
      "+---+----------+------------+------------------------+----------------------------------+-----------+-----------+-------------+-------------------+\n",
      "|id |first_name|last_name   |email                   |phone_numbers                     |is_customer|amount_paid|customer_from|last_updated_ts    |\n",
      "+---+----------+------------+------------------------+----------------------------------+-----------+-----------+-------------+-------------------+\n",
      "|1  |Corrie    |Van den Oord|cvandenoord@etsy.com    |[+1 234 567 8901, +1 234 567 8911]|true       |1000.55    |2021-01-15   |2021-02-18 01:15:00|\n",
      "|2  |Nicolaus  |Brewitt     |nbrewitt@dailymail.co.uk|[+1 234 567 8923, +1 234 567 8934]|NULL       |900.0      |2021-02-14   |2021-02-18 03:33:00|\n",
      "|3  |Kurt      |Rome        |krome4@shutterfly.co.uk |NULL                              |false      |NULL       |2021-02-14   |2024-02-28 05:27:00|\n",
      "+---+----------+------------+------------------------+----------------------------------+-----------+-----------+-------------+-------------------+\n",
      "\n"
     ]
    },
    {
     "data": {
      "text/plain": [
       "(['id',\n",
       "  'first_name',\n",
       "  'last_name',\n",
       "  'email',\n",
       "  'phone_numbers',\n",
       "  'is_customer',\n",
       "  'amount_paid',\n",
       "  'customer_from',\n",
       "  'last_updated_ts'],\n",
       " [('id', 'bigint'),\n",
       "  ('first_name', 'string'),\n",
       "  ('last_name', 'string'),\n",
       "  ('email', 'string'),\n",
       "  ('phone_numbers', 'array<string>'),\n",
       "  ('is_customer', 'boolean'),\n",
       "  ('amount_paid', 'double'),\n",
       "  ('customer_from', 'date'),\n",
       "  ('last_updated_ts', 'timestamp')])"
      ]
     },
     "execution_count": 28,
     "metadata": {},
     "output_type": "execute_result"
    }
   ],
   "source": [
    "users_df.show(truncate=False)\n",
    "users_df.columns, users_df.dtypes"
   ]
  },
  {
   "cell_type": "code",
   "execution_count": 29,
   "id": "31e2f948-1e8b-41ac-ad7b-f81d5d5e413c",
   "metadata": {
    "execution": {
     "iopub.execute_input": "2024-05-26T22:56:45.451090Z",
     "iopub.status.busy": "2024-05-26T22:56:45.450510Z",
     "iopub.status.idle": "2024-05-26T22:56:45.696682Z",
     "shell.execute_reply": "2024-05-26T22:56:45.696432Z",
     "shell.execute_reply.started": "2024-05-26T22:56:45.451062Z"
    }
   },
   "outputs": [
    {
     "name": "stdout",
     "output_type": "stream",
     "text": [
      "+---+----------+------------+--------------------+-----------+-----------+-------------+-------------------+---------------+\n",
      "| id|first_name|   last_name|               email|is_customer|amount_paid|customer_from|    last_updated_ts|   phone_number|\n",
      "+---+----------+------------+--------------------+-----------+-----------+-------------+-------------------+---------------+\n",
      "|  1|    Corrie|Van den Oord|cvandenoord@etsy.com|       true|    1000.55|   2021-01-15|2021-02-18 01:15:00|+1 234 567 8901|\n",
      "|  1|    Corrie|Van den Oord|cvandenoord@etsy.com|       true|    1000.55|   2021-01-15|2021-02-18 01:15:00|+1 234 567 8911|\n",
      "|  2|  Nicolaus|     Brewitt|nbrewitt@dailymai...|       NULL|      900.0|   2021-02-14|2021-02-18 03:33:00|+1 234 567 8923|\n",
      "|  2|  Nicolaus|     Brewitt|nbrewitt@dailymai...|       NULL|      900.0|   2021-02-14|2021-02-18 03:33:00|+1 234 567 8934|\n",
      "+---+----------+------------+--------------------+-----------+-----------+-------------+-------------------+---------------+\n",
      "\n"
     ]
    }
   ],
   "source": [
    "from pyspark.sql.functions import explode\n",
    "users_df.withColumn('phone_number', explode('phone_numbers')).drop('phone_numbers').show()"
   ]
  },
  {
   "cell_type": "code",
   "execution_count": 34,
   "id": "0afcdcc3-5069-419b-b883-19535b0076a8",
   "metadata": {
    "execution": {
     "iopub.execute_input": "2024-05-26T23:01:21.926445Z",
     "iopub.status.busy": "2024-05-26T23:01:21.925655Z",
     "iopub.status.idle": "2024-05-26T23:01:22.218278Z",
     "shell.execute_reply": "2024-05-26T23:01:22.218008Z",
     "shell.execute_reply.started": "2024-05-26T23:01:21.926398Z"
    }
   },
   "outputs": [
    {
     "name": "stdout",
     "output_type": "stream",
     "text": [
      "+---+---------------+---------------+\n",
      "| id|         mobile|           home|\n",
      "+---+---------------+---------------+\n",
      "|  1|+1 234 567 8901|+1 234 567 8911|\n",
      "|  2|+1 234 567 8923|+1 234 567 8934|\n",
      "|  3|           NULL|           NULL|\n",
      "+---+---------------+---------------+\n",
      "\n"
     ]
    }
   ],
   "source": [
    "from pyspark.sql.functions import col\n",
    "users_df.select('id', col('phone_numbers')[0].alias('mobile'), col('phone_numbers')[1].alias('home')).show()"
   ]
  },
  {
   "cell_type": "code",
   "execution_count": 36,
   "id": "3021a964-14c4-4c98-bfb1-a576e8f92a78",
   "metadata": {
    "execution": {
     "iopub.execute_input": "2024-05-26T23:03:59.369759Z",
     "iopub.status.busy": "2024-05-26T23:03:59.369180Z",
     "iopub.status.idle": "2024-05-26T23:03:59.663917Z",
     "shell.execute_reply": "2024-05-26T23:03:59.663547Z",
     "shell.execute_reply.started": "2024-05-26T23:03:59.369726Z"
    }
   },
   "outputs": [
    {
     "name": "stdout",
     "output_type": "stream",
     "text": [
      "+---+----------+------------+--------------------+-----------+-----------+-------------+-------------------+---------------+\n",
      "| id|first_name|   last_name|               email|is_customer|amount_paid|customer_from|    last_updated_ts|   phone_number|\n",
      "+---+----------+------------+--------------------+-----------+-----------+-------------+-------------------+---------------+\n",
      "|  1|    Corrie|Van den Oord|cvandenoord@etsy.com|       true|    1000.55|   2021-01-15|2021-02-18 01:15:00|+1 234 567 8901|\n",
      "|  1|    Corrie|Van den Oord|cvandenoord@etsy.com|       true|    1000.55|   2021-01-15|2021-02-18 01:15:00|+1 234 567 8911|\n",
      "|  2|  Nicolaus|     Brewitt|nbrewitt@dailymai...|       NULL|      900.0|   2021-02-14|2021-02-18 03:33:00|+1 234 567 8923|\n",
      "|  2|  Nicolaus|     Brewitt|nbrewitt@dailymai...|       NULL|      900.0|   2021-02-14|2021-02-18 03:33:00|+1 234 567 8934|\n",
      "|  3|      Kurt|        Rome|krome4@shutterfly...|      false|       NULL|   2021-02-14|2024-02-28 05:27:00|           NULL|\n",
      "+---+----------+------------+--------------------+-----------+-----------+-------------+-------------------+---------------+\n",
      "\n"
     ]
    }
   ],
   "source": [
    "from pyspark.sql.functions import explode_outer\n",
    "users_df.withColumn('phone_number', explode_outer('phone_numbers')).drop('phone_numbers').show()"
   ]
  },
  {
   "cell_type": "markdown",
   "id": "2386065a-f09f-4f92-bf8f-48aa9803ad6b",
   "metadata": {},
   "source": [
    "## MAP (dict -> map)"
   ]
  },
  {
   "cell_type": "code",
   "execution_count": 8,
   "id": "ce20b755-f5c8-4d87-b4d5-a683309118d8",
   "metadata": {
    "execution": {
     "iopub.execute_input": "2024-05-27T22:10:24.170862Z",
     "iopub.status.busy": "2024-05-27T22:10:24.170068Z",
     "iopub.status.idle": "2024-05-27T22:10:24.181592Z",
     "shell.execute_reply": "2024-05-27T22:10:24.181000Z",
     "shell.execute_reply.started": "2024-05-27T22:10:24.170810Z"
    }
   },
   "outputs": [],
   "source": [
    "import datetime\n",
    "users = [\n",
    "    {\n",
    "        'id': 1,\n",
    "        'first_name': 'Corrie',\n",
    "        'last_name': 'Van den Oord',\n",
    "        'email': 'cvandenoord@etsy.com',\n",
    "        'phone_numbers': {'mobile': '+1 234 567 8901', 'home': '+1 234 567 8911'},\n",
    "        'is_customer': True,\n",
    "        'amount_paid': 1000.55,\n",
    "        'customer_from': datetime.date(2021, 1, 15),\n",
    "        'last_updated_ts': datetime.datetime(2021, 2, 18, 1, 15, 0)\n",
    "    },\n",
    "    {\n",
    "        'id': 2,\n",
    "        'first_name': 'Nicolaus',\n",
    "        'last_name': 'Brewitt',\n",
    "        'email': 'nbrewitt@dailymail.co.uk',\n",
    "        'phone_numbers': {'mobile': '+1 234 567 8923', 'home': '+1 234 567 8934'},\n",
    "        'is_customer': None,\n",
    "        'amount_paid': 900.0,\n",
    "        'customer_from': datetime.date(2021, 2, 14),\n",
    "        'last_updated_ts': datetime.datetime(2021, 2, 18, 3, 33, 0)\n",
    "    },\n",
    "    {\n",
    "        'id': 3,\n",
    "        'first_name': 'Kurt',\n",
    "        'last_name': 'Rome',\n",
    "        'email': 'krome4@shutterfly.co.uk',\n",
    "        'phone_numbers': None,\n",
    "        'is_customer': False,\n",
    "        'amount_paid': None,\n",
    "        'customer_from': datetime.date(2021, 2, 14),\n",
    "        'last_updated_ts': datetime.datetime(2024, 2, 28, 5, 27, 0)\n",
    "    }\n",
    "]"
   ]
  },
  {
   "cell_type": "code",
   "execution_count": 13,
   "id": "14b0fb18-e4b6-4f65-b543-5e5a49af9ca5",
   "metadata": {
    "execution": {
     "iopub.execute_input": "2024-05-27T22:12:46.607276Z",
     "iopub.status.busy": "2024-05-27T22:12:46.606696Z",
     "iopub.status.idle": "2024-05-27T22:12:46.658710Z",
     "shell.execute_reply": "2024-05-27T22:12:46.658317Z",
     "shell.execute_reply.started": "2024-05-27T22:12:46.607248Z"
    }
   },
   "outputs": [
    {
     "name": "stdout",
     "output_type": "stream",
     "text": [
      "root\n",
      " |-- id: long (nullable = true)\n",
      " |-- first_name: string (nullable = true)\n",
      " |-- last_name: string (nullable = true)\n",
      " |-- email: string (nullable = true)\n",
      " |-- phone_numbers: map (nullable = true)\n",
      " |    |-- key: string\n",
      " |    |-- value: string (valueContainsNull = true)\n",
      " |-- is_customer: boolean (nullable = true)\n",
      " |-- amount_paid: double (nullable = true)\n",
      " |-- customer_from: date (nullable = true)\n",
      " |-- last_updated_ts: timestamp (nullable = true)\n",
      "\n"
     ]
    }
   ],
   "source": [
    "from pyspark.sql import Row\n",
    "users_df=spark.createDataFrame([Row(**user) for user in users])\n",
    "users_df.printSchema()"
   ]
  },
  {
   "cell_type": "code",
   "execution_count": 17,
   "id": "238814d8-7add-4c3d-ba6e-645c0e97b405",
   "metadata": {
    "execution": {
     "iopub.execute_input": "2024-05-27T22:15:11.878438Z",
     "iopub.status.busy": "2024-05-27T22:15:11.877694Z",
     "iopub.status.idle": "2024-05-27T22:15:12.111993Z",
     "shell.execute_reply": "2024-05-27T22:15:12.111748Z",
     "shell.execute_reply.started": "2024-05-27T22:15:11.878394Z"
    }
   },
   "outputs": [
    {
     "name": "stdout",
     "output_type": "stream",
     "text": [
      "+---+----------+------------+--------------------+--------------------+-----------+-----------+-------------+-------------------+\n",
      "| id|first_name|   last_name|               email|       phone_numbers|is_customer|amount_paid|customer_from|    last_updated_ts|\n",
      "+---+----------+------------+--------------------+--------------------+-----------+-----------+-------------+-------------------+\n",
      "|  1|    Corrie|Van den Oord|cvandenoord@etsy.com|{mobile -> +1 234...|       true|    1000.55|   2021-01-15|2021-02-18 01:15:00|\n",
      "|  2|  Nicolaus|     Brewitt|nbrewitt@dailymai...|{mobile -> +1 234...|       NULL|      900.0|   2021-02-14|2021-02-18 03:33:00|\n",
      "|  3|      Kurt|        Rome|krome4@shutterfly...|                NULL|      false|       NULL|   2021-02-14|2024-02-28 05:27:00|\n",
      "+---+----------+------------+--------------------+--------------------+-----------+-----------+-------------+-------------------+\n",
      "\n"
     ]
    }
   ],
   "source": [
    "users_df.show()"
   ]
  },
  {
   "cell_type": "code",
   "execution_count": 19,
   "id": "1c09ead6-1bc0-4971-af0b-387ca2835f67",
   "metadata": {
    "execution": {
     "iopub.execute_input": "2024-05-27T22:15:20.375606Z",
     "iopub.status.busy": "2024-05-27T22:15:20.374838Z",
     "iopub.status.idle": "2024-05-27T22:15:20.633139Z",
     "shell.execute_reply": "2024-05-27T22:15:20.632881Z",
     "shell.execute_reply.started": "2024-05-27T22:15:20.375554Z"
    }
   },
   "outputs": [
    {
     "name": "stdout",
     "output_type": "stream",
     "text": [
      "+---+----------------------------------------------------+\n",
      "|id |phone_numbers                                       |\n",
      "+---+----------------------------------------------------+\n",
      "|1  |{mobile -> +1 234 567 8901, home -> +1 234 567 8911}|\n",
      "|2  |{mobile -> +1 234 567 8923, home -> +1 234 567 8934}|\n",
      "|3  |NULL                                                |\n",
      "+---+----------------------------------------------------+\n",
      "\n"
     ]
    }
   ],
   "source": [
    "users_df.select('id', 'phone_numbers').show(truncate=False)"
   ]
  },
  {
   "cell_type": "code",
   "execution_count": 22,
   "id": "db03129e-f328-4229-9bda-eaf280722005",
   "metadata": {
    "execution": {
     "iopub.execute_input": "2024-05-27T22:16:28.498930Z",
     "iopub.status.busy": "2024-05-27T22:16:28.498365Z",
     "iopub.status.idle": "2024-05-27T22:16:28.511987Z",
     "shell.execute_reply": "2024-05-27T22:16:28.510962Z",
     "shell.execute_reply.started": "2024-05-27T22:16:28.498900Z"
    }
   },
   "outputs": [
    {
     "data": {
      "text/plain": [
       "(['id',\n",
       "  'first_name',\n",
       "  'last_name',\n",
       "  'email',\n",
       "  'phone_numbers',\n",
       "  'is_customer',\n",
       "  'amount_paid',\n",
       "  'customer_from',\n",
       "  'last_updated_ts'],\n",
       " [('id', 'bigint'),\n",
       "  ('first_name', 'string'),\n",
       "  ('last_name', 'string'),\n",
       "  ('email', 'string'),\n",
       "  ('phone_numbers', 'map<string,string>'),\n",
       "  ('is_customer', 'boolean'),\n",
       "  ('amount_paid', 'double'),\n",
       "  ('customer_from', 'date'),\n",
       "  ('last_updated_ts', 'timestamp')])"
      ]
     },
     "execution_count": 22,
     "metadata": {},
     "output_type": "execute_result"
    }
   ],
   "source": [
    "users_df.columns, users_df.dtypes"
   ]
  },
  {
   "cell_type": "code",
   "execution_count": 35,
   "id": "d786e8c1-03df-4c15-871f-7b5eb02fb3b9",
   "metadata": {
    "execution": {
     "iopub.execute_input": "2024-05-27T22:26:30.616077Z",
     "iopub.status.busy": "2024-05-27T22:26:30.615480Z",
     "iopub.status.idle": "2024-05-27T22:26:30.842618Z",
     "shell.execute_reply": "2024-05-27T22:26:30.842235Z",
     "shell.execute_reply.started": "2024-05-27T22:26:30.616045Z"
    }
   },
   "outputs": [
    {
     "name": "stdout",
     "output_type": "stream",
     "text": [
      "+---+---------------+---------------+\n",
      "| id|         mobile|           home|\n",
      "+---+---------------+---------------+\n",
      "|  1|+1 234 567 8901|+1 234 567 8911|\n",
      "|  2|+1 234 567 8923|+1 234 567 8934|\n",
      "|  3|           NULL|           NULL|\n",
      "+---+---------------+---------------+\n",
      "\n"
     ]
    }
   ],
   "source": [
    "from pyspark.sql.functions import col\n",
    "users_df.select('id', col('phone_numbers')['mobile'].alias('mobile'), col('phone_numbers')['home'].alias('home')).show()"
   ]
  },
  {
   "cell_type": "code",
   "execution_count": 37,
   "id": "359c6858-b6cd-4099-8067-7032641d079a",
   "metadata": {
    "execution": {
     "iopub.execute_input": "2024-05-27T22:27:46.093735Z",
     "iopub.status.busy": "2024-05-27T22:27:46.092889Z",
     "iopub.status.idle": "2024-05-27T22:27:46.314977Z",
     "shell.execute_reply": "2024-05-27T22:27:46.314635Z",
     "shell.execute_reply.started": "2024-05-27T22:27:46.093686Z"
    }
   },
   "outputs": [
    {
     "name": "stdout",
     "output_type": "stream",
     "text": [
      "+---+----------+------------+--------------------+-----------+-----------+-------------+-------------------+----------+---------------+\n",
      "| id|first_name|   last_name|               email|is_customer|amount_paid|customer_from|    last_updated_ts|phone_type|   phone_number|\n",
      "+---+----------+------------+--------------------+-----------+-----------+-------------+-------------------+----------+---------------+\n",
      "|  1|    Corrie|Van den Oord|cvandenoord@etsy.com|       true|    1000.55|   2021-01-15|2021-02-18 01:15:00|    mobile|+1 234 567 8901|\n",
      "|  1|    Corrie|Van den Oord|cvandenoord@etsy.com|       true|    1000.55|   2021-01-15|2021-02-18 01:15:00|      home|+1 234 567 8911|\n",
      "|  2|  Nicolaus|     Brewitt|nbrewitt@dailymai...|       NULL|      900.0|   2021-02-14|2021-02-18 03:33:00|    mobile|+1 234 567 8923|\n",
      "|  2|  Nicolaus|     Brewitt|nbrewitt@dailymai...|       NULL|      900.0|   2021-02-14|2021-02-18 03:33:00|      home|+1 234 567 8934|\n",
      "+---+----------+------------+--------------------+-----------+-----------+-------------+-------------------+----------+---------------+\n",
      "\n"
     ]
    }
   ],
   "source": [
    "from pyspark.sql.functions import explode\n",
    "users_df.select('*', explode('phone_numbers')).withColumnRenamed('key', 'phone_type').withColumnRenamed('value', 'phone_number').drop('phone_numbers').show()"
   ]
  },
  {
   "cell_type": "code",
   "execution_count": 39,
   "id": "44892e1f-d706-4abc-81e6-dd92a70efaa1",
   "metadata": {
    "execution": {
     "iopub.execute_input": "2024-05-27T22:31:22.006864Z",
     "iopub.status.busy": "2024-05-27T22:31:22.006295Z",
     "iopub.status.idle": "2024-05-27T22:31:22.231941Z",
     "shell.execute_reply": "2024-05-27T22:31:22.231469Z",
     "shell.execute_reply.started": "2024-05-27T22:31:22.006833Z"
    }
   },
   "outputs": [
    {
     "name": "stdout",
     "output_type": "stream",
     "text": [
      "+---+----------+------------+--------------------+-----------+-----------+-------------+-------------------+----------+---------------+\n",
      "| id|first_name|   last_name|               email|is_customer|amount_paid|customer_from|    last_updated_ts|phone_type|   phone_number|\n",
      "+---+----------+------------+--------------------+-----------+-----------+-------------+-------------------+----------+---------------+\n",
      "|  1|    Corrie|Van den Oord|cvandenoord@etsy.com|       true|    1000.55|   2021-01-15|2021-02-18 01:15:00|    mobile|+1 234 567 8901|\n",
      "|  1|    Corrie|Van den Oord|cvandenoord@etsy.com|       true|    1000.55|   2021-01-15|2021-02-18 01:15:00|      home|+1 234 567 8911|\n",
      "|  2|  Nicolaus|     Brewitt|nbrewitt@dailymai...|       NULL|      900.0|   2021-02-14|2021-02-18 03:33:00|    mobile|+1 234 567 8923|\n",
      "|  2|  Nicolaus|     Brewitt|nbrewitt@dailymai...|       NULL|      900.0|   2021-02-14|2021-02-18 03:33:00|      home|+1 234 567 8934|\n",
      "|  3|      Kurt|        Rome|krome4@shutterfly...|      false|       NULL|   2021-02-14|2024-02-28 05:27:00|      NULL|           NULL|\n",
      "+---+----------+------------+--------------------+-----------+-----------+-------------+-------------------+----------+---------------+\n",
      "\n"
     ]
    }
   ],
   "source": [
    "from pyspark.sql.functions import explode_outer\n",
    "users_df.select('*', explode_outer('phone_numbers')).withColumnRenamed('key', 'phone_type').withColumnRenamed('value', 'phone_number').drop('phone_numbers').show()"
   ]
  },
  {
   "cell_type": "markdown",
   "id": "3e83b142-19e3-4c8f-b09f-0af8ada97518",
   "metadata": {},
   "source": [
    "## STRUCT - predefined structure using Row"
   ]
  },
  {
   "cell_type": "code",
   "execution_count": 5,
   "id": "fbf4ef5a-3f79-451b-b209-27cb5a545540",
   "metadata": {
    "execution": {
     "iopub.execute_input": "2024-05-27T22:49:10.738921Z",
     "iopub.status.busy": "2024-05-27T22:49:10.738156Z",
     "iopub.status.idle": "2024-05-27T22:49:10.752348Z",
     "shell.execute_reply": "2024-05-27T22:49:10.751358Z",
     "shell.execute_reply.started": "2024-05-27T22:49:10.738877Z"
    }
   },
   "outputs": [],
   "source": [
    "import datetime\n",
    "from pyspark.sql import Row\n",
    "\n",
    "users = [\n",
    "    {\n",
    "        'id': 1,\n",
    "        'first_name': 'Corrie',\n",
    "        'last_name': 'Van den Oord',\n",
    "        'email': 'cvandenoord@etsy.com',\n",
    "        'phone_numbers': Row(mobile='+1 234 567 8901', home='+1 234 567 8911'),\n",
    "        'is_customer': True,\n",
    "        'amount_paid': 1000.55,\n",
    "        'customer_from': datetime.date(2021, 1, 15),\n",
    "        'last_updated_ts': datetime.datetime(2021, 2, 18, 1, 15, 0)\n",
    "    },\n",
    "    {\n",
    "        'id': 2,\n",
    "        'first_name': 'Nicolaus',\n",
    "        'last_name': 'Brewitt',\n",
    "        'email': 'nbrewitt@dailymail.co.uk',\n",
    "        'phone_numbers': Row(mobile='+1 234 567 8923', home='+1 234 567 8934'),\n",
    "        'is_customer': None,\n",
    "        'amount_paid': 900.0,\n",
    "        'customer_from': datetime.date(2021, 2, 14),\n",
    "        'last_updated_ts': datetime.datetime(2021, 2, 18, 3, 33, 0)\n",
    "    },\n",
    "    {\n",
    "        'id': 3,\n",
    "        'first_name': 'Kurt',\n",
    "        'last_name': 'Rome',\n",
    "        'email': 'krome4@shutterfly.co.uk',\n",
    "        'phone_numbers': Row(mobile=None, home=None),\n",
    "        'is_customer': False,\n",
    "        'amount_paid': None,\n",
    "        'customer_from': datetime.date(2021, 2, 14),\n",
    "        'last_updated_ts': datetime.datetime(2024, 2, 28, 5, 27, 0)\n",
    "    }\n",
    "]"
   ]
  },
  {
   "cell_type": "code",
   "execution_count": 6,
   "id": "ec6e4028-c005-49a9-a59f-9a5cb34250c8",
   "metadata": {
    "execution": {
     "iopub.execute_input": "2024-05-27T22:49:11.987804Z",
     "iopub.status.busy": "2024-05-27T22:49:11.987250Z",
     "iopub.status.idle": "2024-05-27T22:49:12.970872Z",
     "shell.execute_reply": "2024-05-27T22:49:12.970500Z",
     "shell.execute_reply.started": "2024-05-27T22:49:11.987773Z"
    }
   },
   "outputs": [
    {
     "name": "stdout",
     "output_type": "stream",
     "text": [
      "root\n",
      " |-- id: long (nullable = true)\n",
      " |-- first_name: string (nullable = true)\n",
      " |-- last_name: string (nullable = true)\n",
      " |-- email: string (nullable = true)\n",
      " |-- phone_numbers: struct (nullable = true)\n",
      " |    |-- mobile: string (nullable = true)\n",
      " |    |-- home: string (nullable = true)\n",
      " |-- is_customer: boolean (nullable = true)\n",
      " |-- amount_paid: double (nullable = true)\n",
      " |-- customer_from: date (nullable = true)\n",
      " |-- last_updated_ts: timestamp (nullable = true)\n",
      "\n"
     ]
    },
    {
     "name": "stderr",
     "output_type": "stream",
     "text": [
      "24/05/28 00:49:22 WARN GarbageCollectionMetrics: To enable non-built-in garbage collector(s) List(G1 Concurrent GC), users should configure it(them) to spark.eventLog.gcMetrics.youngGenerationGarbageCollectors or spark.eventLog.gcMetrics.oldGenerationGarbageCollectors\n"
     ]
    }
   ],
   "source": [
    "users_df=spark.createDataFrame([Row(**user) for user in users])\n",
    "users_df.printSchema()"
   ]
  },
  {
   "cell_type": "code",
   "execution_count": 9,
   "id": "4f53701d-da89-4e1d-9ecf-600f87e6bd90",
   "metadata": {
    "execution": {
     "iopub.execute_input": "2024-05-27T22:51:25.005919Z",
     "iopub.status.busy": "2024-05-27T22:51:25.005150Z",
     "iopub.status.idle": "2024-05-27T22:51:25.246990Z",
     "shell.execute_reply": "2024-05-27T22:51:25.246602Z",
     "shell.execute_reply.started": "2024-05-27T22:51:25.005873Z"
    }
   },
   "outputs": [
    {
     "name": "stdout",
     "output_type": "stream",
     "text": [
      "+---+----------+------------+------------------------+----------------------------------+-----------+-----------+-------------+-------------------+\n",
      "|id |first_name|last_name   |email                   |phone_numbers                     |is_customer|amount_paid|customer_from|last_updated_ts    |\n",
      "+---+----------+------------+------------------------+----------------------------------+-----------+-----------+-------------+-------------------+\n",
      "|1  |Corrie    |Van den Oord|cvandenoord@etsy.com    |{+1 234 567 8901, +1 234 567 8911}|true       |1000.55    |2021-01-15   |2021-02-18 01:15:00|\n",
      "|2  |Nicolaus  |Brewitt     |nbrewitt@dailymail.co.uk|{+1 234 567 8923, +1 234 567 8934}|NULL       |900.0      |2021-02-14   |2021-02-18 03:33:00|\n",
      "|3  |Kurt      |Rome        |krome4@shutterfly.co.uk |{NULL, NULL}                      |false      |NULL       |2021-02-14   |2024-02-28 05:27:00|\n",
      "+---+----------+------------+------------------------+----------------------------------+-----------+-----------+-------------+-------------------+\n",
      "\n"
     ]
    }
   ],
   "source": [
    "users_df.show(truncate=False)"
   ]
  },
  {
   "cell_type": "code",
   "execution_count": 11,
   "id": "064a253e-0a96-43c5-8e84-b7a29bef506b",
   "metadata": {
    "execution": {
     "iopub.execute_input": "2024-05-27T22:52:46.853993Z",
     "iopub.status.busy": "2024-05-27T22:52:46.853193Z",
     "iopub.status.idle": "2024-05-27T22:52:47.171183Z",
     "shell.execute_reply": "2024-05-27T22:52:47.170920Z",
     "shell.execute_reply.started": "2024-05-27T22:52:46.853944Z"
    }
   },
   "outputs": [
    {
     "name": "stdout",
     "output_type": "stream",
     "text": [
      "+---+----------------------------------+\n",
      "|id |phone_numbers                     |\n",
      "+---+----------------------------------+\n",
      "|1  |{+1 234 567 8901, +1 234 567 8911}|\n",
      "|2  |{+1 234 567 8923, +1 234 567 8934}|\n",
      "|3  |{NULL, NULL}                      |\n",
      "+---+----------------------------------+\n",
      "\n"
     ]
    }
   ],
   "source": [
    "users_df.select('id', 'phone_numbers').show(truncate=False)"
   ]
  },
  {
   "cell_type": "code",
   "execution_count": 13,
   "id": "053ebe7f-e251-4362-b907-ce41cb2ad9a8",
   "metadata": {
    "execution": {
     "iopub.execute_input": "2024-05-27T22:53:31.227107Z",
     "iopub.status.busy": "2024-05-27T22:53:31.226304Z",
     "iopub.status.idle": "2024-05-27T22:53:31.237293Z",
     "shell.execute_reply": "2024-05-27T22:53:31.236467Z",
     "shell.execute_reply.started": "2024-05-27T22:53:31.227060Z"
    }
   },
   "outputs": [
    {
     "data": {
      "text/plain": [
       "(['id',\n",
       "  'first_name',\n",
       "  'last_name',\n",
       "  'email',\n",
       "  'phone_numbers',\n",
       "  'is_customer',\n",
       "  'amount_paid',\n",
       "  'customer_from',\n",
       "  'last_updated_ts'],\n",
       " [('id', 'bigint'),\n",
       "  ('first_name', 'string'),\n",
       "  ('last_name', 'string'),\n",
       "  ('email', 'string'),\n",
       "  ('phone_numbers', 'struct<mobile:string,home:string>'),\n",
       "  ('is_customer', 'boolean'),\n",
       "  ('amount_paid', 'double'),\n",
       "  ('customer_from', 'date'),\n",
       "  ('last_updated_ts', 'timestamp')])"
      ]
     },
     "execution_count": 13,
     "metadata": {},
     "output_type": "execute_result"
    }
   ],
   "source": [
    "users_df.columns, users_df.dtypes"
   ]
  },
  {
   "cell_type": "code",
   "execution_count": 15,
   "id": "7c214799-a3eb-4465-bb23-cdb1b1da9214",
   "metadata": {
    "execution": {
     "iopub.execute_input": "2024-05-27T22:55:06.540831Z",
     "iopub.status.busy": "2024-05-27T22:55:06.540056Z",
     "iopub.status.idle": "2024-05-27T22:55:06.774603Z",
     "shell.execute_reply": "2024-05-27T22:55:06.774288Z",
     "shell.execute_reply.started": "2024-05-27T22:55:06.540786Z"
    }
   },
   "outputs": [
    {
     "name": "stdout",
     "output_type": "stream",
     "text": [
      "+---+---------------+---------------+\n",
      "| id|         mobile|           home|\n",
      "+---+---------------+---------------+\n",
      "|  1|+1 234 567 8901|+1 234 567 8911|\n",
      "|  2|+1 234 567 8923|+1 234 567 8934|\n",
      "|  3|           NULL|           NULL|\n",
      "+---+---------------+---------------+\n",
      "\n"
     ]
    }
   ],
   "source": [
    "users_df.select('id', 'phone_numbers.mobile', 'phone_numbers.home').show()"
   ]
  },
  {
   "cell_type": "code",
   "execution_count": 19,
   "id": "82e330bb-d4c5-4311-a639-5ae5ee8daef8",
   "metadata": {
    "execution": {
     "iopub.execute_input": "2024-05-27T22:57:11.213676Z",
     "iopub.status.busy": "2024-05-27T22:57:11.212951Z",
     "iopub.status.idle": "2024-05-27T22:57:11.435478Z",
     "shell.execute_reply": "2024-05-27T22:57:11.434140Z",
     "shell.execute_reply.started": "2024-05-27T22:57:11.213629Z"
    }
   },
   "outputs": [
    {
     "name": "stdout",
     "output_type": "stream",
     "text": [
      "+---+--------------------+------------------+\n",
      "| id|phone_numbers.mobile|phone_numbers.home|\n",
      "+---+--------------------+------------------+\n",
      "|  1|     +1 234 567 8901|   +1 234 567 8911|\n",
      "|  2|     +1 234 567 8923|   +1 234 567 8934|\n",
      "|  3|                NULL|              NULL|\n",
      "+---+--------------------+------------------+\n",
      "\n"
     ]
    }
   ],
   "source": [
    "from pyspark.sql.functions import col\n",
    "users_df.select('id', col('phone_numbers')['mobile'], col('phone_numbers')['home']).show()"
   ]
  },
  {
   "cell_type": "code",
   "execution_count": 20,
   "id": "e1c729f2-89b7-47b2-bf21-0204979f99a1",
   "metadata": {
    "execution": {
     "iopub.execute_input": "2024-05-27T22:58:05.164650Z",
     "iopub.status.busy": "2024-05-27T22:58:05.163633Z",
     "iopub.status.idle": "2024-05-27T22:58:05.394323Z",
     "shell.execute_reply": "2024-05-27T22:58:05.393914Z",
     "shell.execute_reply.started": "2024-05-27T22:58:05.164618Z"
    }
   },
   "outputs": [
    {
     "name": "stdout",
     "output_type": "stream",
     "text": [
      "+---+---------------+---------------+\n",
      "| id|         mobile|           home|\n",
      "+---+---------------+---------------+\n",
      "|  1|+1 234 567 8901|+1 234 567 8911|\n",
      "|  2|+1 234 567 8923|+1 234 567 8934|\n",
      "|  3|           NULL|           NULL|\n",
      "+---+---------------+---------------+\n",
      "\n"
     ]
    }
   ],
   "source": [
    "users_df.select('id', 'phone_numbers.*').show()"
   ]
  }
 ],
 "metadata": {
  "kernelspec": {
   "display_name": "Python 3 (ipykernel)",
   "language": "python",
   "name": "python3"
  },
  "language_info": {
   "codemirror_mode": {
    "name": "ipython",
    "version": 3
   },
   "file_extension": ".py",
   "mimetype": "text/x-python",
   "name": "python",
   "nbconvert_exporter": "python",
   "pygments_lexer": "ipython3",
   "version": "3.11.9"
  }
 },
 "nbformat": 4,
 "nbformat_minor": 5
}
