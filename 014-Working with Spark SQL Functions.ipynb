{
 "cells": [
  {
   "cell_type": "code",
   "execution_count": 1,
   "id": "489d92eb-d084-4dff-a944-72b79ce4f3ae",
   "metadata": {
    "execution": {
     "iopub.execute_input": "2024-06-24T22:11:38.883784Z",
     "iopub.status.busy": "2024-06-24T22:11:38.883036Z",
     "iopub.status.idle": "2024-06-24T22:11:45.696029Z",
     "shell.execute_reply": "2024-06-24T22:11:45.695694Z",
     "shell.execute_reply.started": "2024-06-24T22:11:38.883735Z"
    }
   },
   "outputs": [
    {
     "name": "stderr",
     "output_type": "stream",
     "text": [
      "Setting default log level to \"WARN\".\n",
      "To adjust logging level use sc.setLogLevel(newLevel). For SparkR, use setLogLevel(newLevel).\n",
      "24/06/25 00:11:45 WARN NativeCodeLoader: Unable to load native-hadoop library for your platform... using builtin-java classes where applicable\n",
      "24/06/25 00:11:45 WARN Utils: Service 'SparkUI' could not bind on port 4040. Attempting port 4041.\n"
     ]
    }
   ],
   "source": [
    "from pyspark.sql import SparkSession\n",
    "spark = SparkSession.builder.appName('instance').getOrCreate()"
   ]
  },
  {
   "cell_type": "markdown",
   "id": "a8f48949-d1f3-4bad-ae8a-934889fbbfd4",
   "metadata": {},
   "source": [
    "## Overview Spark UDF\n",
    "* Spark provides robust predefined set of functions - `pyspark.sql.functions`\n",
    "* At times you might need to develop custom UDF\n",
    "  * no function availabe for our requrement while applying row transformation\n",
    "  * we might have to use multple functions which readibility of the code is compromised"
   ]
  },
  {
   "cell_type": "markdown",
   "id": "d52710b5-ef4e-4dac-92df-1467148a351a",
   "metadata": {},
   "source": [
    "## Registering Spark UDFs\n",
    "Steps needed to develop and use UDF \n",
    "* develop function logic in Python\n",
    "* register the function using `spark.udf.register` - typically assigned to the variable which is a type of function\n",
    "* variable can be used as part of Data Frame APIs such as `select`, `filter`, etc.\n",
    "* when register we register with the name - can be used as part of `selectExpr` or as part of Spark SQL queries - `spark.sql`"
   ]
  },
  {
   "cell_type": "markdown",
   "id": "d824fd61-0eca-4cbc-9ee3-f310e335f66e",
   "metadata": {},
   "source": [
    "## Using Spark UDFs as part of Data Frame APIs"
   ]
  },
  {
   "cell_type": "code",
   "execution_count": 40,
   "id": "7cefceb5-c1d9-4ad6-9425-8cf217d25529",
   "metadata": {
    "execution": {
     "iopub.execute_input": "2024-06-24T22:50:01.540732Z",
     "iopub.status.busy": "2024-06-24T22:50:01.540032Z",
     "iopub.status.idle": "2024-06-24T22:50:01.566790Z",
     "shell.execute_reply": "2024-06-24T22:50:01.566351Z",
     "shell.execute_reply.started": "2024-06-24T22:50:01.540692Z"
    }
   },
   "outputs": [
    {
     "name": "stderr",
     "output_type": "stream",
     "text": [
      "24/06/25 00:50:01 WARN SimpleFunctionRegistry: The function date_convert replaced a previously registered function.\n"
     ]
    },
    {
     "data": {
      "text/plain": [
       "<function __main__.<lambda>(d)>"
      ]
     },
     "execution_count": 40,
     "metadata": {},
     "output_type": "execute_result"
    }
   ],
   "source": [
    "from pyspark.sql.types import IntegerType\n",
    "dc = spark.udf.register('date_convert', lambda d: int(d[:10].replace('-', '')), IntegerType())\n",
    "dc"
   ]
  },
  {
   "cell_type": "code",
   "execution_count": 41,
   "id": "2f5348fd-d005-45c3-b26e-e467eded4ec7",
   "metadata": {
    "execution": {
     "iopub.execute_input": "2024-06-24T22:50:13.957739Z",
     "iopub.status.busy": "2024-06-24T22:50:13.957462Z",
     "iopub.status.idle": "2024-06-24T22:50:14.130034Z",
     "shell.execute_reply": "2024-06-24T22:50:14.129808Z",
     "shell.execute_reply.started": "2024-06-24T22:50:13.957721Z"
    }
   },
   "outputs": [
    {
     "name": "stdout",
     "output_type": "stream",
     "text": [
      "+-----------------+--------------------+--------+---------------+----+-----+---+\n",
      "|order_customer_id|          order_date|order_id|   order_status|year|month|day|\n",
      "+-----------------+--------------------+--------+---------------+----+-----+---+\n",
      "|             6471|2013-11-03T00:00:...|   15793|       COMPLETE|2013|   11|  3|\n",
      "|             5323|2013-11-03T00:00:...|   15794|     PROCESSING|2013|   11|  3|\n",
      "|            10096|2013-11-03T00:00:...|   15795|         CLOSED|2013|   11|  3|\n",
      "|            11665|2013-11-03T00:00:...|   15796|       COMPLETE|2013|   11|  3|\n",
      "|             6249|2013-11-03T00:00:...|   15797|PENDING_PAYMENT|2013|   11|  3|\n",
      "|            10736|2013-11-03T00:00:...|   15798|       COMPLETE|2013|   11|  3|\n",
      "|             5475|2013-11-03T00:00:...|   15799|       COMPLETE|2013|   11|  3|\n",
      "|             7417|2013-11-03T00:00:...|   15800|     PROCESSING|2013|   11|  3|\n",
      "|             4021|2013-11-03T00:00:...|   15801|       COMPLETE|2013|   11|  3|\n",
      "|             2284|2013-11-03T00:00:...|   15802|         CLOSED|2013|   11|  3|\n",
      "|             1015|2013-11-03T00:00:...|   15803|     PROCESSING|2013|   11|  3|\n",
      "|              208|2013-11-03T00:00:...|   15804|       COMPLETE|2013|   11|  3|\n",
      "|             3708|2013-11-03T00:00:...|   15805|        PENDING|2013|   11|  3|\n",
      "|            10239|2013-11-03T00:00:...|   15806|PENDING_PAYMENT|2013|   11|  3|\n",
      "|             4709|2013-11-03T00:00:...|   15807|PENDING_PAYMENT|2013|   11|  3|\n",
      "|             5877|2013-11-03T00:00:...|   15808|PENDING_PAYMENT|2013|   11|  3|\n",
      "|             5361|2013-11-03T00:00:...|   15809|        PENDING|2013|   11|  3|\n",
      "|               49|2013-11-03T00:00:...|   15810|SUSPECTED_FRAUD|2013|   11|  3|\n",
      "|             3953|2013-11-03T00:00:...|   15811|       COMPLETE|2013|   11|  3|\n",
      "|            11882|2013-11-03T00:00:...|   15812|       COMPLETE|2013|   11|  3|\n",
      "+-----------------+--------------------+--------+---------------+----+-----+---+\n",
      "only showing top 20 rows\n",
      "\n"
     ]
    }
   ],
   "source": [
    "df = spark.read.parquet('/Users/adhoc/git/retail_db/parquet/orders')\n",
    "df.show()"
   ]
  },
  {
   "cell_type": "code",
   "execution_count": 42,
   "id": "27bd3280-fe75-4a3e-a0dd-b4b6648f0bd0",
   "metadata": {
    "execution": {
     "iopub.execute_input": "2024-06-24T22:50:16.856307Z",
     "iopub.status.busy": "2024-06-24T22:50:16.855526Z",
     "iopub.status.idle": "2024-06-24T22:50:17.395381Z",
     "shell.execute_reply": "2024-06-24T22:50:17.395072Z",
     "shell.execute_reply.started": "2024-06-24T22:50:16.856256Z"
    }
   },
   "outputs": [
    {
     "name": "stdout",
     "output_type": "stream",
     "text": [
      "+----------+\n",
      "|order_date|\n",
      "+----------+\n",
      "|  20131103|\n",
      "|  20131103|\n",
      "|  20131103|\n",
      "|  20131103|\n",
      "|  20131103|\n",
      "|  20131103|\n",
      "|  20131103|\n",
      "|  20131103|\n",
      "|  20131103|\n",
      "|  20131103|\n",
      "|  20131103|\n",
      "|  20131103|\n",
      "|  20131103|\n",
      "|  20131103|\n",
      "|  20131103|\n",
      "|  20131103|\n",
      "|  20131103|\n",
      "|  20131103|\n",
      "|  20131103|\n",
      "|  20131103|\n",
      "+----------+\n",
      "only showing top 20 rows\n",
      "\n",
      "+-----------------+--------------------+--------+---------------+----+-----+---+\n",
      "|order_customer_id|          order_date|order_id|   order_status|year|month|day|\n",
      "+-----------------+--------------------+--------+---------------+----+-----+---+\n",
      "|             3414|2014-01-01T00:00:...|   25876|PENDING_PAYMENT|2014|    1|  1|\n",
      "|             5549|2014-01-01T00:00:...|   25877|PENDING_PAYMENT|2014|    1|  1|\n",
      "|             9084|2014-01-01T00:00:...|   25878|        PENDING|2014|    1|  1|\n",
      "|             5118|2014-01-01T00:00:...|   25879|        PENDING|2014|    1|  1|\n",
      "|            10146|2014-01-01T00:00:...|   25880|       CANCELED|2014|    1|  1|\n",
      "|             3205|2014-01-01T00:00:...|   25881|PENDING_PAYMENT|2014|    1|  1|\n",
      "|             4598|2014-01-01T00:00:...|   25882|       COMPLETE|2014|    1|  1|\n",
      "|            11764|2014-01-01T00:00:...|   25883|        PENDING|2014|    1|  1|\n",
      "|             7904|2014-01-01T00:00:...|   25884|PENDING_PAYMENT|2014|    1|  1|\n",
      "|             7253|2014-01-01T00:00:...|   25885|        PENDING|2014|    1|  1|\n",
      "|             8195|2014-01-01T00:00:...|   25886|     PROCESSING|2014|    1|  1|\n",
      "|            10062|2014-01-01T00:00:...|   25887|        PENDING|2014|    1|  1|\n",
      "|             6735|2014-01-01T00:00:...|   25888|       COMPLETE|2014|    1|  1|\n",
      "|            10045|2014-01-01T00:00:...|   25889|       COMPLETE|2014|    1|  1|\n",
      "|             2581|2014-01-01T00:00:...|   25890|        PENDING|2014|    1|  1|\n",
      "|             3037|2014-01-01T00:00:...|   25891|         CLOSED|2014|    1|  1|\n",
      "|             3853|2014-01-01T00:00:...|   25892|        ON_HOLD|2014|    1|  1|\n",
      "|             8679|2014-01-01T00:00:...|   25893|PENDING_PAYMENT|2014|    1|  1|\n",
      "|             7839|2014-01-01T00:00:...|   25894|     PROCESSING|2014|    1|  1|\n",
      "|             1044|2014-01-01T00:00:...|   25895|       COMPLETE|2014|    1|  1|\n",
      "+-----------------+--------------------+--------+---------------+----+-----+---+\n",
      "only showing top 20 rows\n",
      "\n"
     ]
    }
   ],
   "source": [
    "df.select(dc('order_date').alias('order_date')).show()\n",
    "df.filter(dc('order_date')==20140101).show()"
   ]
  },
  {
   "cell_type": "code",
   "execution_count": 15,
   "id": "f8a17663-7a06-489e-8d54-51249d655b0e",
   "metadata": {
    "execution": {
     "iopub.execute_input": "2024-06-24T22:34:42.205694Z",
     "iopub.status.busy": "2024-06-24T22:34:42.204855Z",
     "iopub.status.idle": "2024-06-24T22:34:42.580345Z",
     "shell.execute_reply": "2024-06-24T22:34:42.580024Z",
     "shell.execute_reply.started": "2024-06-24T22:34:42.205648Z"
    }
   },
   "outputs": [
    {
     "name": "stdout",
     "output_type": "stream",
     "text": [
      "+----------+-----------+\n",
      "|order_date|order_count|\n",
      "+----------+-----------+\n",
      "|  20140303|        266|\n",
      "|  20130824|        265|\n",
      "|  20140619|        276|\n",
      "|  20130914|        276|\n",
      "|  20140219|        268|\n",
      "|  20140613|        260|\n",
      "|  20140201|        278|\n",
      "|  20131105|        278|\n",
      "|  20140402|        266|\n",
      "|  20140421|        266|\n",
      "|  20131231|        266|\n",
      "|  20140331|        263|\n",
      "|  20140516|        263|\n",
      "|  20140715|        274|\n",
      "|  20130905|        261|\n",
      "|  20140409|        261|\n",
      "|  20130925|        277|\n",
      "|  20130906|        276|\n",
      "|  20130927|        264|\n",
      "|  20140720|        285|\n",
      "+----------+-----------+\n",
      "only showing top 20 rows\n",
      "\n"
     ]
    }
   ],
   "source": [
    "df. \\\n",
    "    groupBy(dc('order_date').alias('order_date')). \\\n",
    "    count(). \\\n",
    "    withColumnRenamed('count', 'order_count'). \\\n",
    "    show()"
   ]
  },
  {
   "cell_type": "markdown",
   "id": "bd2fed46-4f5c-46ec-80c7-2157a9b1a83c",
   "metadata": {},
   "source": [
    "## Using Spark UDFs as part of Spark SQL"
   ]
  },
  {
   "cell_type": "code",
   "execution_count": 22,
   "id": "5d411fd0-b927-42a0-a805-b6cff6f6bcb3",
   "metadata": {
    "execution": {
     "iopub.execute_input": "2024-06-24T22:38:50.795559Z",
     "iopub.status.busy": "2024-06-24T22:38:50.794772Z",
     "iopub.status.idle": "2024-06-24T22:38:50.950161Z",
     "shell.execute_reply": "2024-06-24T22:38:50.949783Z",
     "shell.execute_reply.started": "2024-06-24T22:38:50.795510Z"
    }
   },
   "outputs": [
    {
     "name": "stdout",
     "output_type": "stream",
     "text": [
      "+----------+\n",
      "|order_date|\n",
      "+----------+\n",
      "|  20131103|\n",
      "|  20131103|\n",
      "|  20131103|\n",
      "|  20131103|\n",
      "|  20131103|\n",
      "|  20131103|\n",
      "|  20131103|\n",
      "|  20131103|\n",
      "|  20131103|\n",
      "|  20131103|\n",
      "|  20131103|\n",
      "|  20131103|\n",
      "|  20131103|\n",
      "|  20131103|\n",
      "|  20131103|\n",
      "|  20131103|\n",
      "|  20131103|\n",
      "|  20131103|\n",
      "|  20131103|\n",
      "|  20131103|\n",
      "+----------+\n",
      "only showing top 20 rows\n",
      "\n"
     ]
    }
   ],
   "source": [
    "df.selectExpr(\"date_convert(order_date) order_date\").show()"
   ]
  },
  {
   "cell_type": "code",
   "execution_count": 24,
   "id": "a34d231a-f379-4089-a7f4-86ebe85c4d1a",
   "metadata": {
    "execution": {
     "iopub.execute_input": "2024-06-24T22:39:57.264417Z",
     "iopub.status.busy": "2024-06-24T22:39:57.263826Z",
     "iopub.status.idle": "2024-06-24T22:39:57.643961Z",
     "shell.execute_reply": "2024-06-24T22:39:57.643628Z",
     "shell.execute_reply.started": "2024-06-24T22:39:57.264383Z"
    }
   },
   "outputs": [
    {
     "name": "stdout",
     "output_type": "stream",
     "text": [
      "+-----------------+--------------------+--------+---------------+----+-----+---+\n",
      "|order_customer_id|          order_date|order_id|   order_status|year|month|day|\n",
      "+-----------------+--------------------+--------+---------------+----+-----+---+\n",
      "|             3414|2014-01-01T00:00:...|   25876|PENDING_PAYMENT|2014|    1|  1|\n",
      "|             5549|2014-01-01T00:00:...|   25877|PENDING_PAYMENT|2014|    1|  1|\n",
      "|             9084|2014-01-01T00:00:...|   25878|        PENDING|2014|    1|  1|\n",
      "|             5118|2014-01-01T00:00:...|   25879|        PENDING|2014|    1|  1|\n",
      "|            10146|2014-01-01T00:00:...|   25880|       CANCELED|2014|    1|  1|\n",
      "|             3205|2014-01-01T00:00:...|   25881|PENDING_PAYMENT|2014|    1|  1|\n",
      "|             4598|2014-01-01T00:00:...|   25882|       COMPLETE|2014|    1|  1|\n",
      "|            11764|2014-01-01T00:00:...|   25883|        PENDING|2014|    1|  1|\n",
      "|             7904|2014-01-01T00:00:...|   25884|PENDING_PAYMENT|2014|    1|  1|\n",
      "|             7253|2014-01-01T00:00:...|   25885|        PENDING|2014|    1|  1|\n",
      "|             8195|2014-01-01T00:00:...|   25886|     PROCESSING|2014|    1|  1|\n",
      "|            10062|2014-01-01T00:00:...|   25887|        PENDING|2014|    1|  1|\n",
      "|             6735|2014-01-01T00:00:...|   25888|       COMPLETE|2014|    1|  1|\n",
      "|            10045|2014-01-01T00:00:...|   25889|       COMPLETE|2014|    1|  1|\n",
      "|             2581|2014-01-01T00:00:...|   25890|        PENDING|2014|    1|  1|\n",
      "|             3037|2014-01-01T00:00:...|   25891|         CLOSED|2014|    1|  1|\n",
      "|             3853|2014-01-01T00:00:...|   25892|        ON_HOLD|2014|    1|  1|\n",
      "|             8679|2014-01-01T00:00:...|   25893|PENDING_PAYMENT|2014|    1|  1|\n",
      "|             7839|2014-01-01T00:00:...|   25894|     PROCESSING|2014|    1|  1|\n",
      "|             1044|2014-01-01T00:00:...|   25895|       COMPLETE|2014|    1|  1|\n",
      "+-----------------+--------------------+--------+---------------+----+-----+---+\n",
      "only showing top 20 rows\n",
      "\n"
     ]
    }
   ],
   "source": [
    "df.filter(\"date_convert(order_date) = 20140101\").show()"
   ]
  },
  {
   "cell_type": "code",
   "execution_count": 27,
   "id": "0cdb1523-9e09-4a95-a9f5-659b6e6ce009",
   "metadata": {
    "execution": {
     "iopub.execute_input": "2024-06-24T22:41:46.246371Z",
     "iopub.status.busy": "2024-06-24T22:41:46.245820Z",
     "iopub.status.idle": "2024-06-24T22:41:46.345153Z",
     "shell.execute_reply": "2024-06-24T22:41:46.344752Z",
     "shell.execute_reply.started": "2024-06-24T22:41:46.246340Z"
    }
   },
   "outputs": [
    {
     "name": "stdout",
     "output_type": "stream",
     "text": [
      "+---------+---------+-----------+\n",
      "|namespace|tableName|isTemporary|\n",
      "+---------+---------+-----------+\n",
      "|         |   orders|       true|\n",
      "+---------+---------+-----------+\n",
      "\n"
     ]
    }
   ],
   "source": [
    "df.createOrReplaceTempView('orders')\n",
    "spark.sql('show tables').show()"
   ]
  },
  {
   "cell_type": "code",
   "execution_count": 35,
   "id": "9b51da28-77e2-4d42-9414-52caa5b70138",
   "metadata": {
    "execution": {
     "iopub.execute_input": "2024-06-24T22:46:05.771874Z",
     "iopub.status.busy": "2024-06-24T22:46:05.771317Z",
     "iopub.status.idle": "2024-06-24T22:46:06.172614Z",
     "shell.execute_reply": "2024-06-24T22:46:06.172224Z",
     "shell.execute_reply.started": "2024-06-24T22:46:05.771844Z"
    }
   },
   "outputs": [
    {
     "name": "stdout",
     "output_type": "stream",
     "text": [
      "+-----------------+--------------------+--------+---------------+----+-----+---+-----------------+\n",
      "|order_customer_id|          order_date|order_id|   order_status|year|month|day|order_date_as_int|\n",
      "+-----------------+--------------------+--------+---------------+----+-----+---+-----------------+\n",
      "|             3414|2014-01-01T00:00:...|   25876|PENDING_PAYMENT|2014|    1|  1|         20140101|\n",
      "|             5549|2014-01-01T00:00:...|   25877|PENDING_PAYMENT|2014|    1|  1|         20140101|\n",
      "|             9084|2014-01-01T00:00:...|   25878|        PENDING|2014|    1|  1|         20140101|\n",
      "|             5118|2014-01-01T00:00:...|   25879|        PENDING|2014|    1|  1|         20140101|\n",
      "|            10146|2014-01-01T00:00:...|   25880|       CANCELED|2014|    1|  1|         20140101|\n",
      "|             3205|2014-01-01T00:00:...|   25881|PENDING_PAYMENT|2014|    1|  1|         20140101|\n",
      "|             4598|2014-01-01T00:00:...|   25882|       COMPLETE|2014|    1|  1|         20140101|\n",
      "|            11764|2014-01-01T00:00:...|   25883|        PENDING|2014|    1|  1|         20140101|\n",
      "|             7904|2014-01-01T00:00:...|   25884|PENDING_PAYMENT|2014|    1|  1|         20140101|\n",
      "|             7253|2014-01-01T00:00:...|   25885|        PENDING|2014|    1|  1|         20140101|\n",
      "|             8195|2014-01-01T00:00:...|   25886|     PROCESSING|2014|    1|  1|         20140101|\n",
      "|            10062|2014-01-01T00:00:...|   25887|        PENDING|2014|    1|  1|         20140101|\n",
      "|             6735|2014-01-01T00:00:...|   25888|       COMPLETE|2014|    1|  1|         20140101|\n",
      "|            10045|2014-01-01T00:00:...|   25889|       COMPLETE|2014|    1|  1|         20140101|\n",
      "|             2581|2014-01-01T00:00:...|   25890|        PENDING|2014|    1|  1|         20140101|\n",
      "|             3037|2014-01-01T00:00:...|   25891|         CLOSED|2014|    1|  1|         20140101|\n",
      "|             3853|2014-01-01T00:00:...|   25892|        ON_HOLD|2014|    1|  1|         20140101|\n",
      "|             8679|2014-01-01T00:00:...|   25893|PENDING_PAYMENT|2014|    1|  1|         20140101|\n",
      "|             7839|2014-01-01T00:00:...|   25894|     PROCESSING|2014|    1|  1|         20140101|\n",
      "|             1044|2014-01-01T00:00:...|   25895|       COMPLETE|2014|    1|  1|         20140101|\n",
      "+-----------------+--------------------+--------+---------------+----+-----+---+-----------------+\n",
      "only showing top 20 rows\n",
      "\n"
     ]
    }
   ],
   "source": [
    "spark. \\\n",
    "    sql('''\n",
    "    select *, date_convert(order_date) order_date_as_int \n",
    "    from orders\n",
    "    where date_convert(order_date)=20140101\n",
    "    '''). \\\n",
    "    show()"
   ]
  },
  {
   "cell_type": "code",
   "execution_count": 37,
   "id": "0b3b034a-4a38-48cd-bea2-5a1500a3dc82",
   "metadata": {
    "execution": {
     "iopub.execute_input": "2024-06-24T22:46:51.957640Z",
     "iopub.status.busy": "2024-06-24T22:46:51.956467Z",
     "iopub.status.idle": "2024-06-24T22:46:52.238843Z",
     "shell.execute_reply": "2024-06-24T22:46:52.238584Z",
     "shell.execute_reply.started": "2024-06-24T22:46:51.957593Z"
    }
   },
   "outputs": [
    {
     "name": "stdout",
     "output_type": "stream",
     "text": [
      "+----------+-----------+\n",
      "|order_date|order_count|\n",
      "+----------+-----------+\n",
      "|  20140303|        266|\n",
      "|  20130824|        265|\n",
      "|  20140619|        276|\n",
      "|  20130914|        276|\n",
      "|  20140219|        268|\n",
      "|  20140613|        260|\n",
      "|  20140201|        278|\n",
      "|  20131105|        278|\n",
      "|  20140402|        266|\n",
      "|  20140421|        266|\n",
      "|  20131231|        266|\n",
      "|  20140331|        263|\n",
      "|  20140516|        263|\n",
      "|  20140715|        274|\n",
      "|  20130905|        261|\n",
      "|  20140409|        261|\n",
      "|  20130925|        277|\n",
      "|  20130906|        276|\n",
      "|  20130927|        264|\n",
      "|  20140720|        285|\n",
      "+----------+-----------+\n",
      "only showing top 20 rows\n",
      "\n"
     ]
    }
   ],
   "source": [
    "spark. \\\n",
    "    sql('''\n",
    "    select date_convert(order_date) order_date, count(1) order_count\n",
    "    from orders\n",
    "    group by 1 \n",
    "    '''). \\\n",
    "    show()"
   ]
  },
  {
   "cell_type": "markdown",
   "id": "8ac68af4-c849-4469-850f-533863452ca9",
   "metadata": {},
   "source": [
    "## Create Spark UDF to cleanse data in Spark Data Frame"
   ]
  },
  {
   "cell_type": "code",
   "execution_count": 61,
   "id": "7bddd0e8-4dc1-439b-a007-a64ea158a370",
   "metadata": {
    "execution": {
     "iopub.execute_input": "2024-06-24T23:11:25.882044Z",
     "iopub.status.busy": "2024-06-24T23:11:25.881277Z",
     "iopub.status.idle": "2024-06-24T23:11:26.168514Z",
     "shell.execute_reply": "2024-06-24T23:11:26.168230Z",
     "shell.execute_reply.started": "2024-06-24T23:11:25.881996Z"
    }
   },
   "outputs": [
    {
     "name": "stdout",
     "output_type": "stream",
     "text": [
      "+---------+--------------------+----------------+---------------+-------------------+\n",
      "|course_id|         course_name|   course_author|  course_status|course_published_dt|\n",
      "+---------+--------------------+----------------+---------------+-------------------+\n",
      "|        1|       Mastering SQL|       Mike Jack|   published   |         2020-07-08|\n",
      "|        2|Streaming Pipelin...|       Bob Davis|    inactive   |         2020-03-10|\n",
      "|        3|   Head First Python|   Elvis Presley|             \\N|                 \\N|\n",
      "|        4|Designing Data-In...|Martin Kleppmann|    published  |         2021-02-27|\n",
      "|        5| Distributed Systems|   Sukumar Ghosh|             \\N|                 \\N|\n",
      "|        6|  Database Internals|     Alex Petrov|       inactive|         2021-05-14|\n",
      "|        7|Art of Immutable ...|Michael L. Perry|   published   |         2021-04-18|\n",
      "|        8|     Graph Databases|    Ian Robinson|             \\N|                 \\N|\n",
      "|        9|Building MicroSer...|      Sam Newman|      inactive |         2020-12-15|\n",
      "|       10| Kubernetes Patterns|       Rolan Hub|   published   |         2021-07-11|\n",
      "+---------+--------------------+----------------+---------------+-------------------+\n",
      "\n"
     ]
    },
    {
     "data": {
      "text/plain": [
       "[('course_id', 'string'),\n",
       " ('course_name', 'string'),\n",
       " ('course_author', 'string'),\n",
       " ('course_status', 'string'),\n",
       " ('course_published_dt', 'string')]"
      ]
     },
     "execution_count": 61,
     "metadata": {},
     "output_type": "execute_result"
    }
   ],
   "source": [
    "import pandas as pd\n",
    "\n",
    "courses = {\n",
    "    'course_id': ['1', '2', '3', '4', '5', '6', '7', '8', '9', '10'],\n",
    "    'course_name': ['Mastering SQL', 'Streaming Pipelines - Python', 'Head First Python',\n",
    "                    'Designing Data-Intensive Applications', 'Distributed Systems', 'Database Internals',\n",
    "                    'Art of Immutable Architecture', 'Graph Databases', 'Building MicroServices',\n",
    "                    'Kubernetes Patterns'],\n",
    "    'course_author': ['Mike Jack', 'Bob Davis', 'Elvis Presley', 'Martin Kleppmann', 'Sukumar Ghosh', \n",
    "                      'Alex Petrov', 'Michael L. Perry', 'Ian Robinson', 'Sam Newman', 'Rolan Hub'],\n",
    "    'course_status': ['   published   ', '   inactive   ', '\\\\N', 'published  ', '\\\\N', '   inactive',\n",
    "                      'published   ', '\\\\N', '  inactive ', 'published   '],\n",
    "    'course_published_dt': ['2020-07-08', '2020-03-10', '\\\\N', '2021-02-27', '\\\\N', '2021-05-14',\n",
    "                            '2021-04-18', '\\\\N', '2020-12-15', '2021-07-11']\n",
    "}\n",
    "courses_df = spark.createDataFrame(pd.DataFrame(courses))\n",
    "courses_df.show()\n",
    "courses_df.dtypes"
   ]
  },
  {
   "cell_type": "code",
   "execution_count": 62,
   "id": "33396b5a-3879-40b2-bb84-d696b7824d86",
   "metadata": {
    "execution": {
     "iopub.execute_input": "2024-06-24T23:11:28.236658Z",
     "iopub.status.busy": "2024-06-24T23:11:28.236098Z",
     "iopub.status.idle": "2024-06-24T23:11:28.449622Z",
     "shell.execute_reply": "2024-06-24T23:11:28.449379Z",
     "shell.execute_reply.started": "2024-06-24T23:11:28.236626Z"
    }
   },
   "outputs": [
    {
     "name": "stdout",
     "output_type": "stream",
     "text": [
      "+-------+------------------+--------------------+-----------+\n",
      "|user_id|         user_name|          user_email|user_gender|\n",
      "+-------+------------------+--------------------+-----------+\n",
      "|   1001|     BenJohnson   |   benjohn@gmail.com|       Male|\n",
      "|   1002|   Halley Battles |                  \\N|       Male|\n",
      "|   1003|  Laura Anderson  |                  \\N|     Female|\n",
      "|   1004|    Rolanda Garza |garza.roland@gmai...|       Male|\n",
      "|   1005|      Angela Fox  |    nshaiary@aol.com|     Female|\n",
      "|   1006|   Kerl Goldinger |    k.gold@live.com1|       Male|\n",
      "+-------+------------------+--------------------+-----------+\n",
      "\n"
     ]
    },
    {
     "data": {
      "text/plain": [
       "[('user_id', 'string'),\n",
       " ('user_name', 'string'),\n",
       " ('user_email', 'string'),\n",
       " ('user_gender', 'string')]"
      ]
     },
     "execution_count": 62,
     "metadata": {},
     "output_type": "execute_result"
    }
   ],
   "source": [
    "users = {\n",
    "    'user_id': ['1001', '1002', '1003', '1004', '1005', '1006'],\n",
    "    'user_name': ['BenJohnson   ', '  Halley Battles ', '  Laura Anderson  ', '  Rolanda Garza ',\n",
    "                  'Angela Fox  ', 'Kerl Goldinger '],\n",
    "    'user_email': ['benjohn@gmail.com', '\\\\N', '\\\\N', 'garza.roland@gmail.com', 'nshaiary@aol.com',\n",
    "                   'k.gold@live.com1'],\n",
    "    'user_gender': ['Male', 'Male', 'Female', 'Male', 'Female', 'Male']\n",
    "}\n",
    "users_df = spark.createDataFrame(pd.DataFrame(users))\n",
    "users_df.show()\n",
    "users_df.dtypes"
   ]
  },
  {
   "cell_type": "code",
   "execution_count": 63,
   "id": "e19aabd5-0152-4ed8-a521-8ad957e8abcd",
   "metadata": {
    "execution": {
     "iopub.execute_input": "2024-06-24T23:11:30.290219Z",
     "iopub.status.busy": "2024-06-24T23:11:30.289679Z",
     "iopub.status.idle": "2024-06-24T23:11:30.501975Z",
     "shell.execute_reply": "2024-06-24T23:11:30.501678Z",
     "shell.execute_reply.started": "2024-06-24T23:11:30.290189Z"
    }
   },
   "outputs": [
    {
     "name": "stdout",
     "output_type": "stream",
     "text": [
      "+---------+-------+-------------+-----+----------+\n",
      "|course_id|user_id|enrollment_id|grade|department|\n",
      "+---------+-------+-------------+-----+----------+\n",
      "|        3|   1001|         9010|    A|      AI  |\n",
      "|        5|   1001|         9020|   \\N|        ML|\n",
      "|        8|   1003|         9030|    A|        CS|\n",
      "|        5|   1003|         9040|   \\N|        DS|\n",
      "|        6|   1005|         9050|    B|        AI|\n",
      "|        8|   1006|         9060|    C|        ML|\n",
      "|        7|   1001|         9070|   \\N|        CS|\n",
      "|        3|   1001|         9080|    A|      DS  |\n",
      "+---------+-------+-------------+-----+----------+\n",
      "\n"
     ]
    },
    {
     "data": {
      "text/plain": [
       "[('course_id', 'string'),\n",
       " ('user_id', 'string'),\n",
       " ('enrollment_id', 'string'),\n",
       " ('grade', 'string'),\n",
       " ('department', 'string')]"
      ]
     },
     "execution_count": 63,
     "metadata": {},
     "output_type": "execute_result"
    }
   ],
   "source": [
    "course_enrolments = {\n",
    "    'course_id': ['3', '5', '8', '5', '6', '8', '7', '3'],\n",
    "    'user_id': ['1001', '1001', '1003', '1003', '1005', '1006', '1001', '1001'],\n",
    "    'enrollment_id': ['9010', '9020', '9030', '9040', '9050', '9060', '9070', '9080'],\n",
    "    'grade': ['A', '\\\\N', 'A', '\\\\N', 'B', 'C', '\\\\N', 'A'],\n",
    "    'department': ['AI  ', 'ML', '  CS', '  DS', '  AI', 'ML', '  CS', 'DS  ']\n",
    "}\n",
    "course_enrolments_df = spark.createDataFrame(pd.DataFrame(course_enrolments))\n",
    "\n",
    "course_enrolments_df.show()\n",
    "course_enrolments_df.dtypes"
   ]
  },
  {
   "cell_type": "code",
   "execution_count": 70,
   "id": "7506a2cf-d1cf-4181-8d0b-3d4f062bb192",
   "metadata": {
    "execution": {
     "iopub.execute_input": "2024-06-24T23:20:29.639043Z",
     "iopub.status.busy": "2024-06-24T23:20:29.638221Z",
     "iopub.status.idle": "2024-06-24T23:20:29.647638Z",
     "shell.execute_reply": "2024-06-24T23:20:29.646427Z",
     "shell.execute_reply.started": "2024-06-24T23:20:29.638995Z"
    }
   },
   "outputs": [],
   "source": [
    "def data_cleanse(c):\n",
    "    return c.strip() if c.strip != '\\\\N' else None"
   ]
  },
  {
   "cell_type": "code",
   "execution_count": 71,
   "id": "522646f1-30bf-4b4b-99d8-4e18a80dbacb",
   "metadata": {
    "execution": {
     "iopub.execute_input": "2024-06-24T23:20:32.690534Z",
     "iopub.status.busy": "2024-06-24T23:20:32.689745Z",
     "iopub.status.idle": "2024-06-24T23:20:32.711314Z",
     "shell.execute_reply": "2024-06-24T23:20:32.710825Z",
     "shell.execute_reply.started": "2024-06-24T23:20:32.690486Z"
    }
   },
   "outputs": [
    {
     "name": "stderr",
     "output_type": "stream",
     "text": [
      "24/06/25 01:20:32 WARN SimpleFunctionRegistry: The function data_cleanse replaced a previously registered function.\n"
     ]
    }
   ],
   "source": [
    "data_cleanse = spark.udf.register('data_cleanse', data_cleanse)"
   ]
  },
  {
   "cell_type": "code",
   "execution_count": 67,
   "id": "91548760-0a4d-49fa-b4ac-a07f880edb62",
   "metadata": {
    "execution": {
     "iopub.execute_input": "2024-06-24T23:14:47.460560Z",
     "iopub.status.busy": "2024-06-24T23:14:47.459728Z",
     "iopub.status.idle": "2024-06-24T23:14:47.815136Z",
     "shell.execute_reply": "2024-06-24T23:14:47.814837Z",
     "shell.execute_reply.started": "2024-06-24T23:14:47.460508Z"
    }
   },
   "outputs": [
    {
     "name": "stdout",
     "output_type": "stream",
     "text": [
      "+---------+--------------------+----------------+-------------+-------------------+\n",
      "|course_id|         course_name|   course_author|course_status|course_published_dt|\n",
      "+---------+--------------------+----------------+-------------+-------------------+\n",
      "|        1|       Mastering SQL|       Mike Jack|    published|         2020-07-08|\n",
      "|        2|Streaming Pipelin...|       Bob Davis|     inactive|         2020-03-10|\n",
      "|        3|   Head First Python|   Elvis Presley|           \\N|                 \\N|\n",
      "|        4|Designing Data-In...|Martin Kleppmann|    published|         2021-02-27|\n",
      "|        5| Distributed Systems|   Sukumar Ghosh|           \\N|                 \\N|\n",
      "|        6|  Database Internals|     Alex Petrov|     inactive|         2021-05-14|\n",
      "|        7|Art of Immutable ...|Michael L. Perry|    published|         2021-04-18|\n",
      "|        8|     Graph Databases|    Ian Robinson|           \\N|                 \\N|\n",
      "|        9|Building MicroSer...|      Sam Newman|     inactive|         2020-12-15|\n",
      "|       10| Kubernetes Patterns|       Rolan Hub|    published|         2021-07-11|\n",
      "+---------+--------------------+----------------+-------------+-------------------+\n",
      "\n"
     ]
    }
   ],
   "source": [
    "courses_df. \\\n",
    "    withColumn('course_status', data_cleanse('course_status')). \\\n",
    "    withColumn('course_published_dt', data_cleanse('course_published_dt')). \\\n",
    "    show()"
   ]
  },
  {
   "cell_type": "code",
   "execution_count": 68,
   "id": "ed656520-3112-45f7-b3a0-5647f12b9189",
   "metadata": {
    "execution": {
     "iopub.execute_input": "2024-06-24T23:18:29.842934Z",
     "iopub.status.busy": "2024-06-24T23:18:29.842395Z",
     "iopub.status.idle": "2024-06-24T23:18:29.895310Z",
     "shell.execute_reply": "2024-06-24T23:18:29.894813Z",
     "shell.execute_reply.started": "2024-06-24T23:18:29.842901Z"
    }
   },
   "outputs": [
    {
     "name": "stdout",
     "output_type": "stream",
     "text": [
      "+---------+---------+-----------+\n",
      "|namespace|tableName|isTemporary|\n",
      "+---------+---------+-----------+\n",
      "|         |  courses|       true|\n",
      "|         |   orders|       true|\n",
      "+---------+---------+-----------+\n",
      "\n"
     ]
    }
   ],
   "source": [
    "courses_df.createOrReplaceTempView('courses')\n",
    "spark.sql('show tables').show()"
   ]
  },
  {
   "cell_type": "code",
   "execution_count": 72,
   "id": "46e88d6c-41bb-42fb-904c-012b9d7465a7",
   "metadata": {
    "execution": {
     "iopub.execute_input": "2024-06-24T23:20:36.997650Z",
     "iopub.status.busy": "2024-06-24T23:20:36.997092Z",
     "iopub.status.idle": "2024-06-24T23:20:37.245489Z",
     "shell.execute_reply": "2024-06-24T23:20:37.245106Z",
     "shell.execute_reply.started": "2024-06-24T23:20:36.997622Z"
    }
   },
   "outputs": [
    {
     "name": "stdout",
     "output_type": "stream",
     "text": [
      "+---------+---------------------------+---------------------------------+\n",
      "|course_id|data_cleanse(course_status)|data_cleanse(course_published_dt)|\n",
      "+---------+---------------------------+---------------------------------+\n",
      "|        1|                  published|                       2020-07-08|\n",
      "|        2|                   inactive|                       2020-03-10|\n",
      "|        3|                         \\N|                               \\N|\n",
      "|        4|                  published|                       2021-02-27|\n",
      "|        5|                         \\N|                               \\N|\n",
      "|        6|                   inactive|                       2021-05-14|\n",
      "|        7|                  published|                       2021-04-18|\n",
      "|        8|                         \\N|                               \\N|\n",
      "|        9|                   inactive|                       2020-12-15|\n",
      "|       10|                  published|                       2021-07-11|\n",
      "+---------+---------------------------+---------------------------------+\n",
      "\n"
     ]
    }
   ],
   "source": [
    "spark. \\\n",
    "    sql(\"select course_id, data_cleanse(course_status), data_cleanse(course_published_dt) from courses\"). \\\n",
    "    show()"
   ]
  }
 ],
 "metadata": {
  "kernelspec": {
   "display_name": "Python 3 (ipykernel)",
   "language": "python",
   "name": "python3"
  },
  "language_info": {
   "codemirror_mode": {
    "name": "ipython",
    "version": 3
   },
   "file_extension": ".py",
   "mimetype": "text/x-python",
   "name": "python",
   "nbconvert_exporter": "python",
   "pygments_lexer": "ipython3",
   "version": "3.11.9"
  }
 },
 "nbformat": 4,
 "nbformat_minor": 5
}
